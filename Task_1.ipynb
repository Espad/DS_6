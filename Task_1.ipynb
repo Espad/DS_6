{
 "cells": [
  {
   "cell_type": "markdown",
   "metadata": {},
   "source": [
    "Задача - multi-label классификация - освежить память что это значит (https://scikit-learn.org/stable/modules/multiclass.html).\n",
    "\n",
    "Тартеты: 14 последних колонок - df.iloc[:,-14:]\n",
    "\n",
    "Метрика: Micro averaged F1. Хорошо бы оценивать качество с помощью кросс-валидации.\n",
    "\n",
    "- Построить baseline с использованием линейной модели из scikit-learn\n",
    "\n",
    "\n",
    "- Чистый Tensorflow\n",
    "\n",
    "Построить линейную модель для решения этой задачи. Можно взять существующий код из блокнота Tensorflow examples 1.ipynb и переделать.\n",
    "\n",
    "\n",
    "- Keras\n",
    "\n",
    "Сделать тоже самое как и в Tensorflow но использовав чистый Keras\n",
    "\n",
    "Добавить слоёв и нелинейностей, сравнить качество моделей\n"
   ]
  },
  {
   "cell_type": "code",
   "execution_count": 1,
   "metadata": {},
   "outputs": [
    {
     "name": "stdout",
     "output_type": "stream",
     "text": [
      "Requirement already up-to-date: pandas in c:\\anaconda\\lib\\site-packages (0.24.1)\n",
      "Requirement already satisfied, skipping upgrade: numpy>=1.12.0 in c:\\anaconda\\lib\\site-packages (from pandas) (1.13.3)\n",
      "Requirement already satisfied, skipping upgrade: pytz>=2011k in c:\\anaconda\\lib\\site-packages (from pandas) (2018.9)\n",
      "Requirement already satisfied, skipping upgrade: python-dateutil>=2.5.0 in c:\\anaconda\\lib\\site-packages (from pandas) (2.7.5)\n",
      "Requirement already satisfied, skipping upgrade: six>=1.5 in c:\\anaconda\\lib\\site-packages (from python-dateutil>=2.5.0->pandas) (1.12.0)\n",
      "Requirement already up-to-date: scikit-learn in c:\\anaconda\\lib\\site-packages (0.20.2)\n",
      "Requirement already satisfied, skipping upgrade: numpy>=1.8.2 in c:\\anaconda\\lib\\site-packages (from scikit-learn) (1.13.3)\n",
      "Requirement already satisfied, skipping upgrade: scipy>=0.13.3 in c:\\anaconda\\lib\\site-packages (from scikit-learn) (1.2.0)\n",
      "Requirement already up-to-date: seaborn in c:\\anaconda\\lib\\site-packages (0.9.0)\n",
      "Requirement already satisfied, skipping upgrade: pandas>=0.15.2 in c:\\anaconda\\lib\\site-packages (from seaborn) (0.24.1)\n",
      "Requirement already satisfied, skipping upgrade: scipy>=0.14.0 in c:\\anaconda\\lib\\site-packages (from seaborn) (1.2.0)\n",
      "Requirement already satisfied, skipping upgrade: matplotlib>=1.4.3 in c:\\anaconda\\lib\\site-packages (from seaborn) (3.0.2)\n",
      "Requirement already satisfied, skipping upgrade: numpy>=1.9.3 in c:\\anaconda\\lib\\site-packages (from seaborn) (1.13.3)\n",
      "Requirement already satisfied, skipping upgrade: python-dateutil>=2.5.0 in c:\\anaconda\\lib\\site-packages (from pandas>=0.15.2->seaborn) (2.7.5)\n",
      "Requirement already satisfied, skipping upgrade: pytz>=2011k in c:\\anaconda\\lib\\site-packages (from pandas>=0.15.2->seaborn) (2018.9)\n",
      "Requirement already satisfied, skipping upgrade: cycler>=0.10 in c:\\anaconda\\lib\\site-packages (from matplotlib>=1.4.3->seaborn) (0.10.0)\n",
      "Requirement already satisfied, skipping upgrade: kiwisolver>=1.0.1 in c:\\anaconda\\lib\\site-packages (from matplotlib>=1.4.3->seaborn) (1.0.1)\n",
      "Requirement already satisfied, skipping upgrade: pyparsing!=2.0.4,!=2.1.2,!=2.1.6,>=2.0.1 in c:\\anaconda\\lib\\site-packages (from matplotlib>=1.4.3->seaborn) (2.3.1)\n",
      "Requirement already satisfied, skipping upgrade: six>=1.5 in c:\\anaconda\\lib\\site-packages (from python-dateutil>=2.5.0->pandas>=0.15.2->seaborn) (1.12.0)\n",
      "Requirement already satisfied, skipping upgrade: setuptools in c:\\anaconda\\lib\\site-packages (from kiwisolver>=1.0.1->matplotlib>=1.4.3->seaborn) (40.6.3)\n",
      "Requirement already up-to-date: tensorflow in c:\\anaconda\\lib\\site-packages (1.12.0)\n",
      "Requirement already satisfied, skipping upgrade: wheel>=0.26 in c:\\anaconda\\lib\\site-packages (from tensorflow) (0.32.3)\n",
      "Requirement already satisfied, skipping upgrade: tensorboard<1.13.0,>=1.12.0 in c:\\anaconda\\lib\\site-packages (from tensorflow) (1.12.2)\n",
      "Requirement already satisfied, skipping upgrade: keras-preprocessing>=1.0.5 in c:\\anaconda\\lib\\site-packages (from tensorflow) (1.0.5)\n",
      "Requirement already satisfied, skipping upgrade: keras-applications>=1.0.6 in c:\\anaconda\\lib\\site-packages (from tensorflow) (1.0.6)\n",
      "Requirement already satisfied, skipping upgrade: grpcio>=1.8.6 in c:\\anaconda\\lib\\site-packages (from tensorflow) (1.16.1)\n",
      "Requirement already satisfied, skipping upgrade: absl-py>=0.1.6 in c:\\anaconda\\lib\\site-packages (from tensorflow) (0.7.0)\n",
      "Requirement already satisfied, skipping upgrade: termcolor>=1.1.0 in c:\\anaconda\\lib\\site-packages (from tensorflow) (1.1.0)\n",
      "Requirement already satisfied, skipping upgrade: numpy>=1.13.3 in c:\\anaconda\\lib\\site-packages (from tensorflow) (1.13.3)\n",
      "Requirement already satisfied, skipping upgrade: astor>=0.6.0 in c:\\anaconda\\lib\\site-packages (from tensorflow) (0.7.1)\n",
      "Requirement already satisfied, skipping upgrade: protobuf>=3.6.1 in c:\\anaconda\\lib\\site-packages (from tensorflow) (3.6.1)\n",
      "Requirement already satisfied, skipping upgrade: gast>=0.2.0 in c:\\anaconda\\lib\\site-packages (from tensorflow) (0.2.2)\n",
      "Requirement already satisfied, skipping upgrade: six>=1.10.0 in c:\\anaconda\\lib\\site-packages (from tensorflow) (1.12.0)\n",
      "Requirement already satisfied, skipping upgrade: markdown>=2.6.8 in c:\\anaconda\\lib\\site-packages (from tensorboard<1.13.0,>=1.12.0->tensorflow) (3.0.1)\n",
      "Requirement already satisfied, skipping upgrade: werkzeug>=0.11.10 in c:\\anaconda\\lib\\site-packages (from tensorboard<1.13.0,>=1.12.0->tensorflow) (0.14.1)\n",
      "Requirement already satisfied, skipping upgrade: h5py in c:\\anaconda\\lib\\site-packages (from keras-applications>=1.0.6->tensorflow) (2.8.0)\n",
      "Requirement already satisfied, skipping upgrade: setuptools in c:\\anaconda\\lib\\site-packages (from protobuf>=3.6.1->tensorflow) (40.6.3)\n",
      "Requirement already up-to-date: keras in c:\\anaconda\\lib\\site-packages (2.2.4)\n",
      "Requirement already satisfied, skipping upgrade: numpy>=1.9.1 in c:\\anaconda\\lib\\site-packages (from keras) (1.13.3)\n",
      "Requirement already satisfied, skipping upgrade: scipy>=0.14 in c:\\anaconda\\lib\\site-packages (from keras) (1.2.0)\n",
      "Requirement already satisfied, skipping upgrade: six>=1.9.0 in c:\\anaconda\\lib\\site-packages (from keras) (1.12.0)\n",
      "Requirement already satisfied, skipping upgrade: pyyaml in c:\\anaconda\\lib\\site-packages (from keras) (3.13)\n",
      "Requirement already satisfied, skipping upgrade: h5py in c:\\anaconda\\lib\\site-packages (from keras) (2.8.0)\n",
      "Requirement already satisfied, skipping upgrade: keras_applications>=1.0.6 in c:\\anaconda\\lib\\site-packages (from keras) (1.0.6)\n",
      "Requirement already satisfied, skipping upgrade: keras_preprocessing>=1.0.5 in c:\\anaconda\\lib\\site-packages (from keras) (1.0.5)\n"
     ]
    }
   ],
   "source": [
    "!pip install --upgrade pandas\n",
    "!pip install --upgrade scikit-learn\n",
    "!pip install --upgrade seaborn\n",
    "!pip install --upgrade tensorflow\n",
    "!pip install --upgrade keras"
   ]
  },
  {
   "cell_type": "code",
   "execution_count": 2,
   "metadata": {},
   "outputs": [],
   "source": [
    "#common libs\n",
    "import numpy as np\n",
    "import pandas as pd\n",
    "import scipy.stats as st\n",
    "from matplotlib import pyplot as plt\n",
    "import seaborn as sns\n",
    "\n",
    "import re\n",
    "import string\n",
    "import inflect\n",
    "import itertools\n",
    "from tqdm import tqdm\n",
    "from time import time\n",
    "\n",
    "sns.set(font_scale=1.3)\n",
    "\n",
    "seed = 321\n",
    "\n",
    "%matplotlib inline"
   ]
  },
  {
   "cell_type": "code",
   "execution_count": 3,
   "metadata": {},
   "outputs": [],
   "source": [
    "#sklearn libs\n",
    "from sklearn.preprocessing import label_binarize,MultiLabelBinarizer,StandardScaler\n",
    "from sklearn.pipeline import make_pipeline,Pipeline\n",
    "\n",
    "from sklearn.linear_model import LogisticRegression\n",
    "\n",
    "from sklearn.model_selection import GridSearchCV, KFold, train_test_split, cross_val_score \n",
    "from sklearn.multiclass import OneVsRestClassifier\n",
    "\n",
    "from sklearn.metrics import confusion_matrix, classification_report, f1_score, make_scorer\n",
    "from sklearn.manifold import TSNE"
   ]
  },
  {
   "cell_type": "code",
   "execution_count": 82,
   "metadata": {},
   "outputs": [],
   "source": [
    "import tensorflow as tf"
   ]
  },
  {
   "cell_type": "code",
   "execution_count": 83,
   "metadata": {},
   "outputs": [],
   "source": [
    "import keras\n",
    "import json\n",
    "import operator\n",
    "from keras.models import Sequential\n",
    "from keras.layers import Dense, Dropout, Activation\n",
    "from keras.metrics import binary_accuracy,categorical_accuracy\n",
    "from keras.callbacks import EarlyStopping, ModelCheckpoint\n",
    "from keras.models import model_from_json\n",
    "from keras import regularizers"
   ]
  },
  {
   "cell_type": "markdown",
   "metadata": {},
   "source": [
    "#### EDA."
   ]
  },
  {
   "cell_type": "markdown",
   "metadata": {},
   "source": [
    "read first ten row to understand, how to parse data."
   ]
  },
  {
   "cell_type": "code",
   "execution_count": 6,
   "metadata": {},
   "outputs": [],
   "source": [
    "df = pd.read_csv('data/multilabel_dataset.csv', nrows = 15)"
   ]
  },
  {
   "cell_type": "code",
   "execution_count": 7,
   "metadata": {},
   "outputs": [
    {
     "data": {
      "text/html": [
       "<div>\n",
       "<style scoped>\n",
       "    .dataframe tbody tr th:only-of-type {\n",
       "        vertical-align: middle;\n",
       "    }\n",
       "\n",
       "    .dataframe tbody tr th {\n",
       "        vertical-align: top;\n",
       "    }\n",
       "\n",
       "    .dataframe thead th {\n",
       "        text-align: right;\n",
       "    }\n",
       "</style>\n",
       "<table border=\"1\" class=\"dataframe\">\n",
       "  <thead>\n",
       "    <tr style=\"text-align: right;\">\n",
       "      <th></th>\n",
       "      <th>feature_0</th>\n",
       "      <th>feature_1</th>\n",
       "      <th>feature_2</th>\n",
       "      <th>feature_3</th>\n",
       "      <th>feature_4</th>\n",
       "      <th>feature_5</th>\n",
       "      <th>feature_6</th>\n",
       "      <th>feature_7</th>\n",
       "      <th>feature_8</th>\n",
       "      <th>feature_9</th>\n",
       "      <th>...</th>\n",
       "      <th>target_4</th>\n",
       "      <th>target_5</th>\n",
       "      <th>target_6</th>\n",
       "      <th>target_7</th>\n",
       "      <th>target_8</th>\n",
       "      <th>target_9</th>\n",
       "      <th>target_10</th>\n",
       "      <th>target_11</th>\n",
       "      <th>target_12</th>\n",
       "      <th>target_13</th>\n",
       "    </tr>\n",
       "  </thead>\n",
       "  <tbody>\n",
       "    <tr>\n",
       "      <th>0</th>\n",
       "      <td>0.004168</td>\n",
       "      <td>-0.170975</td>\n",
       "      <td>-0.156748</td>\n",
       "      <td>-0.142151</td>\n",
       "      <td>0.058781</td>\n",
       "      <td>0.026851</td>\n",
       "      <td>0.197719</td>\n",
       "      <td>0.041850</td>\n",
       "      <td>0.066938</td>\n",
       "      <td>-0.056617</td>\n",
       "      <td>...</td>\n",
       "      <td>0</td>\n",
       "      <td>0</td>\n",
       "      <td>1</td>\n",
       "      <td>1</td>\n",
       "      <td>0</td>\n",
       "      <td>0</td>\n",
       "      <td>0</td>\n",
       "      <td>1</td>\n",
       "      <td>1</td>\n",
       "      <td>0</td>\n",
       "    </tr>\n",
       "    <tr>\n",
       "      <th>1</th>\n",
       "      <td>-0.103956</td>\n",
       "      <td>0.011879</td>\n",
       "      <td>-0.098986</td>\n",
       "      <td>-0.054501</td>\n",
       "      <td>-0.007970</td>\n",
       "      <td>0.049113</td>\n",
       "      <td>-0.030580</td>\n",
       "      <td>-0.077933</td>\n",
       "      <td>-0.080529</td>\n",
       "      <td>-0.016267</td>\n",
       "      <td>...</td>\n",
       "      <td>0</td>\n",
       "      <td>0</td>\n",
       "      <td>0</td>\n",
       "      <td>0</td>\n",
       "      <td>0</td>\n",
       "      <td>0</td>\n",
       "      <td>0</td>\n",
       "      <td>0</td>\n",
       "      <td>0</td>\n",
       "      <td>0</td>\n",
       "    </tr>\n",
       "    <tr>\n",
       "      <th>2</th>\n",
       "      <td>0.509949</td>\n",
       "      <td>0.401709</td>\n",
       "      <td>0.293799</td>\n",
       "      <td>0.087714</td>\n",
       "      <td>0.011686</td>\n",
       "      <td>-0.006411</td>\n",
       "      <td>-0.006255</td>\n",
       "      <td>0.013646</td>\n",
       "      <td>-0.040666</td>\n",
       "      <td>-0.024447</td>\n",
       "      <td>...</td>\n",
       "      <td>0</td>\n",
       "      <td>0</td>\n",
       "      <td>0</td>\n",
       "      <td>0</td>\n",
       "      <td>0</td>\n",
       "      <td>0</td>\n",
       "      <td>0</td>\n",
       "      <td>1</td>\n",
       "      <td>1</td>\n",
       "      <td>0</td>\n",
       "    </tr>\n",
       "    <tr>\n",
       "      <th>3</th>\n",
       "      <td>0.119092</td>\n",
       "      <td>0.004412</td>\n",
       "      <td>-0.002262</td>\n",
       "      <td>0.072254</td>\n",
       "      <td>0.044512</td>\n",
       "      <td>-0.051467</td>\n",
       "      <td>0.074686</td>\n",
       "      <td>-0.007670</td>\n",
       "      <td>0.079438</td>\n",
       "      <td>0.062184</td>\n",
       "      <td>...</td>\n",
       "      <td>0</td>\n",
       "      <td>0</td>\n",
       "      <td>0</td>\n",
       "      <td>0</td>\n",
       "      <td>0</td>\n",
       "      <td>0</td>\n",
       "      <td>0</td>\n",
       "      <td>0</td>\n",
       "      <td>0</td>\n",
       "      <td>0</td>\n",
       "    </tr>\n",
       "    <tr>\n",
       "      <th>4</th>\n",
       "      <td>0.042037</td>\n",
       "      <td>0.007054</td>\n",
       "      <td>-0.069483</td>\n",
       "      <td>0.081015</td>\n",
       "      <td>-0.048207</td>\n",
       "      <td>0.089446</td>\n",
       "      <td>-0.004947</td>\n",
       "      <td>0.064456</td>\n",
       "      <td>-0.133387</td>\n",
       "      <td>0.068878</td>\n",
       "      <td>...</td>\n",
       "      <td>1</td>\n",
       "      <td>1</td>\n",
       "      <td>0</td>\n",
       "      <td>0</td>\n",
       "      <td>0</td>\n",
       "      <td>0</td>\n",
       "      <td>0</td>\n",
       "      <td>0</td>\n",
       "      <td>0</td>\n",
       "      <td>0</td>\n",
       "    </tr>\n",
       "    <tr>\n",
       "      <th>5</th>\n",
       "      <td>0.003286</td>\n",
       "      <td>-0.023601</td>\n",
       "      <td>-0.023104</td>\n",
       "      <td>-0.064171</td>\n",
       "      <td>-0.017719</td>\n",
       "      <td>-0.113510</td>\n",
       "      <td>-0.035212</td>\n",
       "      <td>-0.077675</td>\n",
       "      <td>-0.024348</td>\n",
       "      <td>-0.012458</td>\n",
       "      <td>...</td>\n",
       "      <td>0</td>\n",
       "      <td>0</td>\n",
       "      <td>0</td>\n",
       "      <td>0</td>\n",
       "      <td>0</td>\n",
       "      <td>1</td>\n",
       "      <td>1</td>\n",
       "      <td>1</td>\n",
       "      <td>1</td>\n",
       "      <td>0</td>\n",
       "    </tr>\n",
       "    <tr>\n",
       "      <th>6</th>\n",
       "      <td>0.076606</td>\n",
       "      <td>-0.025478</td>\n",
       "      <td>0.072419</td>\n",
       "      <td>-0.065383</td>\n",
       "      <td>0.123539</td>\n",
       "      <td>0.120130</td>\n",
       "      <td>0.102248</td>\n",
       "      <td>0.008324</td>\n",
       "      <td>0.094147</td>\n",
       "      <td>-0.014666</td>\n",
       "      <td>...</td>\n",
       "      <td>0</td>\n",
       "      <td>0</td>\n",
       "      <td>0</td>\n",
       "      <td>0</td>\n",
       "      <td>0</td>\n",
       "      <td>0</td>\n",
       "      <td>0</td>\n",
       "      <td>1</td>\n",
       "      <td>1</td>\n",
       "      <td>0</td>\n",
       "    </tr>\n",
       "    <tr>\n",
       "      <th>7</th>\n",
       "      <td>-0.106801</td>\n",
       "      <td>-0.069277</td>\n",
       "      <td>-0.132254</td>\n",
       "      <td>-0.099246</td>\n",
       "      <td>-0.188413</td>\n",
       "      <td>-0.110359</td>\n",
       "      <td>-0.155120</td>\n",
       "      <td>-0.168094</td>\n",
       "      <td>-0.182473</td>\n",
       "      <td>0.023208</td>\n",
       "      <td>...</td>\n",
       "      <td>0</td>\n",
       "      <td>0</td>\n",
       "      <td>0</td>\n",
       "      <td>0</td>\n",
       "      <td>0</td>\n",
       "      <td>0</td>\n",
       "      <td>0</td>\n",
       "      <td>1</td>\n",
       "      <td>1</td>\n",
       "      <td>0</td>\n",
       "    </tr>\n",
       "    <tr>\n",
       "      <th>8</th>\n",
       "      <td>0.177650</td>\n",
       "      <td>0.136159</td>\n",
       "      <td>0.153211</td>\n",
       "      <td>0.190312</td>\n",
       "      <td>0.158541</td>\n",
       "      <td>0.219521</td>\n",
       "      <td>0.079914</td>\n",
       "      <td>0.232238</td>\n",
       "      <td>0.127932</td>\n",
       "      <td>0.089142</td>\n",
       "      <td>...</td>\n",
       "      <td>0</td>\n",
       "      <td>0</td>\n",
       "      <td>0</td>\n",
       "      <td>0</td>\n",
       "      <td>0</td>\n",
       "      <td>0</td>\n",
       "      <td>0</td>\n",
       "      <td>1</td>\n",
       "      <td>1</td>\n",
       "      <td>0</td>\n",
       "    </tr>\n",
       "    <tr>\n",
       "      <th>9</th>\n",
       "      <td>0.122075</td>\n",
       "      <td>-0.055828</td>\n",
       "      <td>-0.034775</td>\n",
       "      <td>-0.039235</td>\n",
       "      <td>0.075027</td>\n",
       "      <td>0.087308</td>\n",
       "      <td>0.088062</td>\n",
       "      <td>0.122385</td>\n",
       "      <td>0.091848</td>\n",
       "      <td>-0.099132</td>\n",
       "      <td>...</td>\n",
       "      <td>0</td>\n",
       "      <td>0</td>\n",
       "      <td>0</td>\n",
       "      <td>0</td>\n",
       "      <td>0</td>\n",
       "      <td>0</td>\n",
       "      <td>0</td>\n",
       "      <td>1</td>\n",
       "      <td>1</td>\n",
       "      <td>0</td>\n",
       "    </tr>\n",
       "    <tr>\n",
       "      <th>10</th>\n",
       "      <td>0.027604</td>\n",
       "      <td>0.147904</td>\n",
       "      <td>0.040762</td>\n",
       "      <td>-0.062932</td>\n",
       "      <td>0.073776</td>\n",
       "      <td>0.042128</td>\n",
       "      <td>0.035798</td>\n",
       "      <td>-0.032456</td>\n",
       "      <td>-0.023777</td>\n",
       "      <td>0.058981</td>\n",
       "      <td>...</td>\n",
       "      <td>1</td>\n",
       "      <td>1</td>\n",
       "      <td>1</td>\n",
       "      <td>1</td>\n",
       "      <td>0</td>\n",
       "      <td>0</td>\n",
       "      <td>0</td>\n",
       "      <td>0</td>\n",
       "      <td>0</td>\n",
       "      <td>0</td>\n",
       "    </tr>\n",
       "    <tr>\n",
       "      <th>11</th>\n",
       "      <td>-0.060498</td>\n",
       "      <td>-0.045939</td>\n",
       "      <td>0.005694</td>\n",
       "      <td>-0.008030</td>\n",
       "      <td>-0.053844</td>\n",
       "      <td>-0.145020</td>\n",
       "      <td>-0.120767</td>\n",
       "      <td>-0.204572</td>\n",
       "      <td>-0.135548</td>\n",
       "      <td>-0.223845</td>\n",
       "      <td>...</td>\n",
       "      <td>0</td>\n",
       "      <td>0</td>\n",
       "      <td>0</td>\n",
       "      <td>0</td>\n",
       "      <td>0</td>\n",
       "      <td>1</td>\n",
       "      <td>1</td>\n",
       "      <td>1</td>\n",
       "      <td>1</td>\n",
       "      <td>0</td>\n",
       "    </tr>\n",
       "    <tr>\n",
       "      <th>12</th>\n",
       "      <td>-0.107407</td>\n",
       "      <td>-0.008558</td>\n",
       "      <td>-0.049246</td>\n",
       "      <td>-0.073517</td>\n",
       "      <td>-0.173126</td>\n",
       "      <td>-0.047933</td>\n",
       "      <td>-0.112671</td>\n",
       "      <td>-0.150253</td>\n",
       "      <td>-0.046290</td>\n",
       "      <td>-0.023223</td>\n",
       "      <td>...</td>\n",
       "      <td>0</td>\n",
       "      <td>0</td>\n",
       "      <td>0</td>\n",
       "      <td>0</td>\n",
       "      <td>0</td>\n",
       "      <td>0</td>\n",
       "      <td>0</td>\n",
       "      <td>0</td>\n",
       "      <td>0</td>\n",
       "      <td>0</td>\n",
       "    </tr>\n",
       "    <tr>\n",
       "      <th>13</th>\n",
       "      <td>0.040022</td>\n",
       "      <td>0.055742</td>\n",
       "      <td>-0.039405</td>\n",
       "      <td>0.050275</td>\n",
       "      <td>0.013602</td>\n",
       "      <td>0.050647</td>\n",
       "      <td>0.029556</td>\n",
       "      <td>-0.055486</td>\n",
       "      <td>0.018907</td>\n",
       "      <td>0.095781</td>\n",
       "      <td>...</td>\n",
       "      <td>1</td>\n",
       "      <td>0</td>\n",
       "      <td>0</td>\n",
       "      <td>0</td>\n",
       "      <td>0</td>\n",
       "      <td>0</td>\n",
       "      <td>0</td>\n",
       "      <td>1</td>\n",
       "      <td>1</td>\n",
       "      <td>0</td>\n",
       "    </tr>\n",
       "    <tr>\n",
       "      <th>14</th>\n",
       "      <td>-0.096449</td>\n",
       "      <td>0.046531</td>\n",
       "      <td>-0.052701</td>\n",
       "      <td>-0.020124</td>\n",
       "      <td>-0.166082</td>\n",
       "      <td>0.079298</td>\n",
       "      <td>-0.148116</td>\n",
       "      <td>0.068355</td>\n",
       "      <td>-0.064213</td>\n",
       "      <td>0.058360</td>\n",
       "      <td>...</td>\n",
       "      <td>0</td>\n",
       "      <td>0</td>\n",
       "      <td>0</td>\n",
       "      <td>1</td>\n",
       "      <td>1</td>\n",
       "      <td>0</td>\n",
       "      <td>0</td>\n",
       "      <td>0</td>\n",
       "      <td>0</td>\n",
       "      <td>0</td>\n",
       "    </tr>\n",
       "  </tbody>\n",
       "</table>\n",
       "<p>15 rows × 117 columns</p>\n",
       "</div>"
      ],
      "text/plain": [
       "    feature_0  feature_1  feature_2  feature_3  feature_4  feature_5  \\\n",
       "0    0.004168  -0.170975  -0.156748  -0.142151   0.058781   0.026851   \n",
       "1   -0.103956   0.011879  -0.098986  -0.054501  -0.007970   0.049113   \n",
       "2    0.509949   0.401709   0.293799   0.087714   0.011686  -0.006411   \n",
       "3    0.119092   0.004412  -0.002262   0.072254   0.044512  -0.051467   \n",
       "4    0.042037   0.007054  -0.069483   0.081015  -0.048207   0.089446   \n",
       "5    0.003286  -0.023601  -0.023104  -0.064171  -0.017719  -0.113510   \n",
       "6    0.076606  -0.025478   0.072419  -0.065383   0.123539   0.120130   \n",
       "7   -0.106801  -0.069277  -0.132254  -0.099246  -0.188413  -0.110359   \n",
       "8    0.177650   0.136159   0.153211   0.190312   0.158541   0.219521   \n",
       "9    0.122075  -0.055828  -0.034775  -0.039235   0.075027   0.087308   \n",
       "10   0.027604   0.147904   0.040762  -0.062932   0.073776   0.042128   \n",
       "11  -0.060498  -0.045939   0.005694  -0.008030  -0.053844  -0.145020   \n",
       "12  -0.107407  -0.008558  -0.049246  -0.073517  -0.173126  -0.047933   \n",
       "13   0.040022   0.055742  -0.039405   0.050275   0.013602   0.050647   \n",
       "14  -0.096449   0.046531  -0.052701  -0.020124  -0.166082   0.079298   \n",
       "\n",
       "    feature_6  feature_7  feature_8  feature_9  ...  target_4  target_5  \\\n",
       "0    0.197719   0.041850   0.066938  -0.056617  ...         0         0   \n",
       "1   -0.030580  -0.077933  -0.080529  -0.016267  ...         0         0   \n",
       "2   -0.006255   0.013646  -0.040666  -0.024447  ...         0         0   \n",
       "3    0.074686  -0.007670   0.079438   0.062184  ...         0         0   \n",
       "4   -0.004947   0.064456  -0.133387   0.068878  ...         1         1   \n",
       "5   -0.035212  -0.077675  -0.024348  -0.012458  ...         0         0   \n",
       "6    0.102248   0.008324   0.094147  -0.014666  ...         0         0   \n",
       "7   -0.155120  -0.168094  -0.182473   0.023208  ...         0         0   \n",
       "8    0.079914   0.232238   0.127932   0.089142  ...         0         0   \n",
       "9    0.088062   0.122385   0.091848  -0.099132  ...         0         0   \n",
       "10   0.035798  -0.032456  -0.023777   0.058981  ...         1         1   \n",
       "11  -0.120767  -0.204572  -0.135548  -0.223845  ...         0         0   \n",
       "12  -0.112671  -0.150253  -0.046290  -0.023223  ...         0         0   \n",
       "13   0.029556  -0.055486   0.018907   0.095781  ...         1         0   \n",
       "14  -0.148116   0.068355  -0.064213   0.058360  ...         0         0   \n",
       "\n",
       "    target_6  target_7  target_8  target_9  target_10  target_11  target_12  \\\n",
       "0          1         1         0         0          0          1          1   \n",
       "1          0         0         0         0          0          0          0   \n",
       "2          0         0         0         0          0          1          1   \n",
       "3          0         0         0         0          0          0          0   \n",
       "4          0         0         0         0          0          0          0   \n",
       "5          0         0         0         1          1          1          1   \n",
       "6          0         0         0         0          0          1          1   \n",
       "7          0         0         0         0          0          1          1   \n",
       "8          0         0         0         0          0          1          1   \n",
       "9          0         0         0         0          0          1          1   \n",
       "10         1         1         0         0          0          0          0   \n",
       "11         0         0         0         1          1          1          1   \n",
       "12         0         0         0         0          0          0          0   \n",
       "13         0         0         0         0          0          1          1   \n",
       "14         0         1         1         0          0          0          0   \n",
       "\n",
       "    target_13  \n",
       "0           0  \n",
       "1           0  \n",
       "2           0  \n",
       "3           0  \n",
       "4           0  \n",
       "5           0  \n",
       "6           0  \n",
       "7           0  \n",
       "8           0  \n",
       "9           0  \n",
       "10          0  \n",
       "11          0  \n",
       "12          0  \n",
       "13          0  \n",
       "14          0  \n",
       "\n",
       "[15 rows x 117 columns]"
      ]
     },
     "execution_count": 7,
     "metadata": {},
     "output_type": "execute_result"
    }
   ],
   "source": [
    "df"
   ]
  },
  {
   "cell_type": "code",
   "execution_count": 8,
   "metadata": {},
   "outputs": [],
   "source": [
    "df = pd.read_csv('data/multilabel_dataset.csv', sep = ',', header = 0, decimal = '.')"
   ]
  },
  {
   "cell_type": "markdown",
   "metadata": {},
   "source": [
    "- types of features.+\n",
    "- Count Na.+\n",
    "- Values distribution.+\n",
    "- train test split or Separate target from whole dataset.+\n",
    "- pipeline.\n",
    "- eval score function."
   ]
  },
  {
   "cell_type": "markdown",
   "metadata": {},
   "source": [
    "- shape, types of features (+ value counts)."
   ]
  },
  {
   "cell_type": "code",
   "execution_count": 9,
   "metadata": {},
   "outputs": [
    {
     "data": {
      "text/plain": [
       "(2417, 117)"
      ]
     },
     "execution_count": 9,
     "metadata": {},
     "output_type": "execute_result"
    }
   ],
   "source": [
    "df.shape"
   ]
  },
  {
   "cell_type": "code",
   "execution_count": 10,
   "metadata": {},
   "outputs": [
    {
     "name": "stdout",
     "output_type": "stream",
     "text": [
      "<class 'pandas.core.frame.DataFrame'>\n",
      "RangeIndex: 2417 entries, 0 to 2416\n",
      "Columns: 117 entries, feature_0 to target_13\n",
      "dtypes: float64(103), int64(14)\n",
      "memory usage: 2.2 MB\n"
     ]
    }
   ],
   "source": [
    "df.info()"
   ]
  },
  {
   "cell_type": "code",
   "execution_count": 11,
   "metadata": {},
   "outputs": [
    {
     "data": {
      "text/html": [
       "<div>\n",
       "<style scoped>\n",
       "    .dataframe tbody tr th:only-of-type {\n",
       "        vertical-align: middle;\n",
       "    }\n",
       "\n",
       "    .dataframe tbody tr th {\n",
       "        vertical-align: top;\n",
       "    }\n",
       "\n",
       "    .dataframe thead th {\n",
       "        text-align: right;\n",
       "    }\n",
       "</style>\n",
       "<table border=\"1\" class=\"dataframe\">\n",
       "  <thead>\n",
       "    <tr style=\"text-align: right;\">\n",
       "      <th></th>\n",
       "      <th>feature_0</th>\n",
       "      <th>feature_1</th>\n",
       "      <th>feature_2</th>\n",
       "      <th>feature_3</th>\n",
       "      <th>feature_4</th>\n",
       "      <th>feature_5</th>\n",
       "      <th>feature_6</th>\n",
       "      <th>feature_7</th>\n",
       "      <th>feature_8</th>\n",
       "      <th>feature_9</th>\n",
       "      <th>...</th>\n",
       "      <th>target_4</th>\n",
       "      <th>target_5</th>\n",
       "      <th>target_6</th>\n",
       "      <th>target_7</th>\n",
       "      <th>target_8</th>\n",
       "      <th>target_9</th>\n",
       "      <th>target_10</th>\n",
       "      <th>target_11</th>\n",
       "      <th>target_12</th>\n",
       "      <th>target_13</th>\n",
       "    </tr>\n",
       "  </thead>\n",
       "  <tbody>\n",
       "    <tr>\n",
       "      <th>0</th>\n",
       "      <td>0.004168</td>\n",
       "      <td>-0.170975</td>\n",
       "      <td>-0.156748</td>\n",
       "      <td>-0.142151</td>\n",
       "      <td>0.058781</td>\n",
       "      <td>0.026851</td>\n",
       "      <td>0.197719</td>\n",
       "      <td>0.041850</td>\n",
       "      <td>0.066938</td>\n",
       "      <td>-0.056617</td>\n",
       "      <td>...</td>\n",
       "      <td>0</td>\n",
       "      <td>0</td>\n",
       "      <td>1</td>\n",
       "      <td>1</td>\n",
       "      <td>0</td>\n",
       "      <td>0</td>\n",
       "      <td>0</td>\n",
       "      <td>1</td>\n",
       "      <td>1</td>\n",
       "      <td>0</td>\n",
       "    </tr>\n",
       "    <tr>\n",
       "      <th>1</th>\n",
       "      <td>-0.103956</td>\n",
       "      <td>0.011879</td>\n",
       "      <td>-0.098986</td>\n",
       "      <td>-0.054501</td>\n",
       "      <td>-0.007970</td>\n",
       "      <td>0.049113</td>\n",
       "      <td>-0.030580</td>\n",
       "      <td>-0.077933</td>\n",
       "      <td>-0.080529</td>\n",
       "      <td>-0.016267</td>\n",
       "      <td>...</td>\n",
       "      <td>0</td>\n",
       "      <td>0</td>\n",
       "      <td>0</td>\n",
       "      <td>0</td>\n",
       "      <td>0</td>\n",
       "      <td>0</td>\n",
       "      <td>0</td>\n",
       "      <td>0</td>\n",
       "      <td>0</td>\n",
       "      <td>0</td>\n",
       "    </tr>\n",
       "    <tr>\n",
       "      <th>2</th>\n",
       "      <td>0.509949</td>\n",
       "      <td>0.401709</td>\n",
       "      <td>0.293799</td>\n",
       "      <td>0.087714</td>\n",
       "      <td>0.011686</td>\n",
       "      <td>-0.006411</td>\n",
       "      <td>-0.006255</td>\n",
       "      <td>0.013646</td>\n",
       "      <td>-0.040666</td>\n",
       "      <td>-0.024447</td>\n",
       "      <td>...</td>\n",
       "      <td>0</td>\n",
       "      <td>0</td>\n",
       "      <td>0</td>\n",
       "      <td>0</td>\n",
       "      <td>0</td>\n",
       "      <td>0</td>\n",
       "      <td>0</td>\n",
       "      <td>1</td>\n",
       "      <td>1</td>\n",
       "      <td>0</td>\n",
       "    </tr>\n",
       "    <tr>\n",
       "      <th>3</th>\n",
       "      <td>0.119092</td>\n",
       "      <td>0.004412</td>\n",
       "      <td>-0.002262</td>\n",
       "      <td>0.072254</td>\n",
       "      <td>0.044512</td>\n",
       "      <td>-0.051467</td>\n",
       "      <td>0.074686</td>\n",
       "      <td>-0.007670</td>\n",
       "      <td>0.079438</td>\n",
       "      <td>0.062184</td>\n",
       "      <td>...</td>\n",
       "      <td>0</td>\n",
       "      <td>0</td>\n",
       "      <td>0</td>\n",
       "      <td>0</td>\n",
       "      <td>0</td>\n",
       "      <td>0</td>\n",
       "      <td>0</td>\n",
       "      <td>0</td>\n",
       "      <td>0</td>\n",
       "      <td>0</td>\n",
       "    </tr>\n",
       "    <tr>\n",
       "      <th>4</th>\n",
       "      <td>0.042037</td>\n",
       "      <td>0.007054</td>\n",
       "      <td>-0.069483</td>\n",
       "      <td>0.081015</td>\n",
       "      <td>-0.048207</td>\n",
       "      <td>0.089446</td>\n",
       "      <td>-0.004947</td>\n",
       "      <td>0.064456</td>\n",
       "      <td>-0.133387</td>\n",
       "      <td>0.068878</td>\n",
       "      <td>...</td>\n",
       "      <td>1</td>\n",
       "      <td>1</td>\n",
       "      <td>0</td>\n",
       "      <td>0</td>\n",
       "      <td>0</td>\n",
       "      <td>0</td>\n",
       "      <td>0</td>\n",
       "      <td>0</td>\n",
       "      <td>0</td>\n",
       "      <td>0</td>\n",
       "    </tr>\n",
       "    <tr>\n",
       "      <th>5</th>\n",
       "      <td>0.003286</td>\n",
       "      <td>-0.023601</td>\n",
       "      <td>-0.023104</td>\n",
       "      <td>-0.064171</td>\n",
       "      <td>-0.017719</td>\n",
       "      <td>-0.113510</td>\n",
       "      <td>-0.035212</td>\n",
       "      <td>-0.077675</td>\n",
       "      <td>-0.024348</td>\n",
       "      <td>-0.012458</td>\n",
       "      <td>...</td>\n",
       "      <td>0</td>\n",
       "      <td>0</td>\n",
       "      <td>0</td>\n",
       "      <td>0</td>\n",
       "      <td>0</td>\n",
       "      <td>1</td>\n",
       "      <td>1</td>\n",
       "      <td>1</td>\n",
       "      <td>1</td>\n",
       "      <td>0</td>\n",
       "    </tr>\n",
       "    <tr>\n",
       "      <th>6</th>\n",
       "      <td>0.076606</td>\n",
       "      <td>-0.025478</td>\n",
       "      <td>0.072419</td>\n",
       "      <td>-0.065383</td>\n",
       "      <td>0.123539</td>\n",
       "      <td>0.120130</td>\n",
       "      <td>0.102248</td>\n",
       "      <td>0.008324</td>\n",
       "      <td>0.094147</td>\n",
       "      <td>-0.014666</td>\n",
       "      <td>...</td>\n",
       "      <td>0</td>\n",
       "      <td>0</td>\n",
       "      <td>0</td>\n",
       "      <td>0</td>\n",
       "      <td>0</td>\n",
       "      <td>0</td>\n",
       "      <td>0</td>\n",
       "      <td>1</td>\n",
       "      <td>1</td>\n",
       "      <td>0</td>\n",
       "    </tr>\n",
       "  </tbody>\n",
       "</table>\n",
       "<p>7 rows × 117 columns</p>\n",
       "</div>"
      ],
      "text/plain": [
       "   feature_0  feature_1  feature_2  feature_3  feature_4  feature_5  \\\n",
       "0   0.004168  -0.170975  -0.156748  -0.142151   0.058781   0.026851   \n",
       "1  -0.103956   0.011879  -0.098986  -0.054501  -0.007970   0.049113   \n",
       "2   0.509949   0.401709   0.293799   0.087714   0.011686  -0.006411   \n",
       "3   0.119092   0.004412  -0.002262   0.072254   0.044512  -0.051467   \n",
       "4   0.042037   0.007054  -0.069483   0.081015  -0.048207   0.089446   \n",
       "5   0.003286  -0.023601  -0.023104  -0.064171  -0.017719  -0.113510   \n",
       "6   0.076606  -0.025478   0.072419  -0.065383   0.123539   0.120130   \n",
       "\n",
       "   feature_6  feature_7  feature_8  feature_9  ...  target_4  target_5  \\\n",
       "0   0.197719   0.041850   0.066938  -0.056617  ...         0         0   \n",
       "1  -0.030580  -0.077933  -0.080529  -0.016267  ...         0         0   \n",
       "2  -0.006255   0.013646  -0.040666  -0.024447  ...         0         0   \n",
       "3   0.074686  -0.007670   0.079438   0.062184  ...         0         0   \n",
       "4  -0.004947   0.064456  -0.133387   0.068878  ...         1         1   \n",
       "5  -0.035212  -0.077675  -0.024348  -0.012458  ...         0         0   \n",
       "6   0.102248   0.008324   0.094147  -0.014666  ...         0         0   \n",
       "\n",
       "   target_6  target_7  target_8  target_9  target_10  target_11  target_12  \\\n",
       "0         1         1         0         0          0          1          1   \n",
       "1         0         0         0         0          0          0          0   \n",
       "2         0         0         0         0          0          1          1   \n",
       "3         0         0         0         0          0          0          0   \n",
       "4         0         0         0         0          0          0          0   \n",
       "5         0         0         0         1          1          1          1   \n",
       "6         0         0         0         0          0          1          1   \n",
       "\n",
       "   target_13  \n",
       "0          0  \n",
       "1          0  \n",
       "2          0  \n",
       "3          0  \n",
       "4          0  \n",
       "5          0  \n",
       "6          0  \n",
       "\n",
       "[7 rows x 117 columns]"
      ]
     },
     "execution_count": 11,
     "metadata": {},
     "output_type": "execute_result"
    }
   ],
   "source": [
    "df.head(n=7)"
   ]
  },
  {
   "cell_type": "code",
   "execution_count": 12,
   "metadata": {},
   "outputs": [
    {
     "data": {
      "text/html": [
       "<div>\n",
       "<style scoped>\n",
       "    .dataframe tbody tr th:only-of-type {\n",
       "        vertical-align: middle;\n",
       "    }\n",
       "\n",
       "    .dataframe tbody tr th {\n",
       "        vertical-align: top;\n",
       "    }\n",
       "\n",
       "    .dataframe thead th {\n",
       "        text-align: right;\n",
       "    }\n",
       "</style>\n",
       "<table border=\"1\" class=\"dataframe\">\n",
       "  <thead>\n",
       "    <tr style=\"text-align: right;\">\n",
       "      <th></th>\n",
       "      <th>feature_0</th>\n",
       "      <th>feature_1</th>\n",
       "      <th>feature_2</th>\n",
       "      <th>feature_3</th>\n",
       "      <th>feature_4</th>\n",
       "      <th>feature_5</th>\n",
       "      <th>feature_6</th>\n",
       "      <th>feature_7</th>\n",
       "      <th>feature_8</th>\n",
       "      <th>feature_9</th>\n",
       "      <th>...</th>\n",
       "      <th>target_4</th>\n",
       "      <th>target_5</th>\n",
       "      <th>target_6</th>\n",
       "      <th>target_7</th>\n",
       "      <th>target_8</th>\n",
       "      <th>target_9</th>\n",
       "      <th>target_10</th>\n",
       "      <th>target_11</th>\n",
       "      <th>target_12</th>\n",
       "      <th>target_13</th>\n",
       "    </tr>\n",
       "  </thead>\n",
       "  <tbody>\n",
       "    <tr>\n",
       "      <th>2410</th>\n",
       "      <td>0.061517</td>\n",
       "      <td>-0.051652</td>\n",
       "      <td>-0.058484</td>\n",
       "      <td>-0.181543</td>\n",
       "      <td>0.015579</td>\n",
       "      <td>-0.058696</td>\n",
       "      <td>0.043339</td>\n",
       "      <td>0.065145</td>\n",
       "      <td>0.044191</td>\n",
       "      <td>-0.030596</td>\n",
       "      <td>...</td>\n",
       "      <td>0</td>\n",
       "      <td>0</td>\n",
       "      <td>0</td>\n",
       "      <td>0</td>\n",
       "      <td>0</td>\n",
       "      <td>0</td>\n",
       "      <td>0</td>\n",
       "      <td>1</td>\n",
       "      <td>1</td>\n",
       "      <td>0</td>\n",
       "    </tr>\n",
       "    <tr>\n",
       "      <th>2411</th>\n",
       "      <td>0.032532</td>\n",
       "      <td>-0.015245</td>\n",
       "      <td>0.029789</td>\n",
       "      <td>0.046352</td>\n",
       "      <td>0.095598</td>\n",
       "      <td>0.005617</td>\n",
       "      <td>0.043168</td>\n",
       "      <td>0.006583</td>\n",
       "      <td>-0.033460</td>\n",
       "      <td>-0.022285</td>\n",
       "      <td>...</td>\n",
       "      <td>0</td>\n",
       "      <td>1</td>\n",
       "      <td>1</td>\n",
       "      <td>1</td>\n",
       "      <td>0</td>\n",
       "      <td>0</td>\n",
       "      <td>1</td>\n",
       "      <td>1</td>\n",
       "      <td>1</td>\n",
       "      <td>0</td>\n",
       "    </tr>\n",
       "    <tr>\n",
       "      <th>2412</th>\n",
       "      <td>-0.119784</td>\n",
       "      <td>0.001259</td>\n",
       "      <td>-0.123645</td>\n",
       "      <td>-0.015513</td>\n",
       "      <td>-0.059683</td>\n",
       "      <td>0.091032</td>\n",
       "      <td>-0.043302</td>\n",
       "      <td>0.229219</td>\n",
       "      <td>-0.071498</td>\n",
       "      <td>0.182709</td>\n",
       "      <td>...</td>\n",
       "      <td>0</td>\n",
       "      <td>0</td>\n",
       "      <td>0</td>\n",
       "      <td>0</td>\n",
       "      <td>0</td>\n",
       "      <td>0</td>\n",
       "      <td>0</td>\n",
       "      <td>0</td>\n",
       "      <td>0</td>\n",
       "      <td>0</td>\n",
       "    </tr>\n",
       "    <tr>\n",
       "      <th>2413</th>\n",
       "      <td>0.085327</td>\n",
       "      <td>0.058590</td>\n",
       "      <td>0.085268</td>\n",
       "      <td>-0.020897</td>\n",
       "      <td>0.068972</td>\n",
       "      <td>0.030125</td>\n",
       "      <td>0.078056</td>\n",
       "      <td>0.011346</td>\n",
       "      <td>0.052618</td>\n",
       "      <td>0.066093</td>\n",
       "      <td>...</td>\n",
       "      <td>0</td>\n",
       "      <td>0</td>\n",
       "      <td>0</td>\n",
       "      <td>0</td>\n",
       "      <td>0</td>\n",
       "      <td>0</td>\n",
       "      <td>0</td>\n",
       "      <td>1</td>\n",
       "      <td>1</td>\n",
       "      <td>0</td>\n",
       "    </tr>\n",
       "    <tr>\n",
       "      <th>2414</th>\n",
       "      <td>0.082526</td>\n",
       "      <td>-0.095571</td>\n",
       "      <td>-0.022019</td>\n",
       "      <td>-0.046793</td>\n",
       "      <td>-0.038360</td>\n",
       "      <td>0.041084</td>\n",
       "      <td>0.056509</td>\n",
       "      <td>0.011749</td>\n",
       "      <td>-0.029657</td>\n",
       "      <td>-0.012198</td>\n",
       "      <td>...</td>\n",
       "      <td>0</td>\n",
       "      <td>1</td>\n",
       "      <td>1</td>\n",
       "      <td>1</td>\n",
       "      <td>0</td>\n",
       "      <td>0</td>\n",
       "      <td>0</td>\n",
       "      <td>1</td>\n",
       "      <td>1</td>\n",
       "      <td>0</td>\n",
       "    </tr>\n",
       "    <tr>\n",
       "      <th>2415</th>\n",
       "      <td>-0.130830</td>\n",
       "      <td>0.008868</td>\n",
       "      <td>-0.009457</td>\n",
       "      <td>-0.058930</td>\n",
       "      <td>-0.041224</td>\n",
       "      <td>0.042269</td>\n",
       "      <td>0.117717</td>\n",
       "      <td>0.037388</td>\n",
       "      <td>-0.085563</td>\n",
       "      <td>0.136649</td>\n",
       "      <td>...</td>\n",
       "      <td>0</td>\n",
       "      <td>0</td>\n",
       "      <td>0</td>\n",
       "      <td>0</td>\n",
       "      <td>0</td>\n",
       "      <td>0</td>\n",
       "      <td>0</td>\n",
       "      <td>1</td>\n",
       "      <td>1</td>\n",
       "      <td>0</td>\n",
       "    </tr>\n",
       "    <tr>\n",
       "      <th>2416</th>\n",
       "      <td>-0.171578</td>\n",
       "      <td>-0.066536</td>\n",
       "      <td>0.168206</td>\n",
       "      <td>0.246831</td>\n",
       "      <td>0.079555</td>\n",
       "      <td>0.016528</td>\n",
       "      <td>-0.088908</td>\n",
       "      <td>-0.212926</td>\n",
       "      <td>-0.280230</td>\n",
       "      <td>-0.187064</td>\n",
       "      <td>...</td>\n",
       "      <td>0</td>\n",
       "      <td>0</td>\n",
       "      <td>0</td>\n",
       "      <td>0</td>\n",
       "      <td>0</td>\n",
       "      <td>0</td>\n",
       "      <td>0</td>\n",
       "      <td>1</td>\n",
       "      <td>1</td>\n",
       "      <td>0</td>\n",
       "    </tr>\n",
       "  </tbody>\n",
       "</table>\n",
       "<p>7 rows × 117 columns</p>\n",
       "</div>"
      ],
      "text/plain": [
       "      feature_0  feature_1  feature_2  feature_3  feature_4  feature_5  \\\n",
       "2410   0.061517  -0.051652  -0.058484  -0.181543   0.015579  -0.058696   \n",
       "2411   0.032532  -0.015245   0.029789   0.046352   0.095598   0.005617   \n",
       "2412  -0.119784   0.001259  -0.123645  -0.015513  -0.059683   0.091032   \n",
       "2413   0.085327   0.058590   0.085268  -0.020897   0.068972   0.030125   \n",
       "2414   0.082526  -0.095571  -0.022019  -0.046793  -0.038360   0.041084   \n",
       "2415  -0.130830   0.008868  -0.009457  -0.058930  -0.041224   0.042269   \n",
       "2416  -0.171578  -0.066536   0.168206   0.246831   0.079555   0.016528   \n",
       "\n",
       "      feature_6  feature_7  feature_8  feature_9  ...  target_4  target_5  \\\n",
       "2410   0.043339   0.065145   0.044191  -0.030596  ...         0         0   \n",
       "2411   0.043168   0.006583  -0.033460  -0.022285  ...         0         1   \n",
       "2412  -0.043302   0.229219  -0.071498   0.182709  ...         0         0   \n",
       "2413   0.078056   0.011346   0.052618   0.066093  ...         0         0   \n",
       "2414   0.056509   0.011749  -0.029657  -0.012198  ...         0         1   \n",
       "2415   0.117717   0.037388  -0.085563   0.136649  ...         0         0   \n",
       "2416  -0.088908  -0.212926  -0.280230  -0.187064  ...         0         0   \n",
       "\n",
       "      target_6  target_7  target_8  target_9  target_10  target_11  target_12  \\\n",
       "2410         0         0         0         0          0          1          1   \n",
       "2411         1         1         0         0          1          1          1   \n",
       "2412         0         0         0         0          0          0          0   \n",
       "2413         0         0         0         0          0          1          1   \n",
       "2414         1         1         0         0          0          1          1   \n",
       "2415         0         0         0         0          0          1          1   \n",
       "2416         0         0         0         0          0          1          1   \n",
       "\n",
       "      target_13  \n",
       "2410          0  \n",
       "2411          0  \n",
       "2412          0  \n",
       "2413          0  \n",
       "2414          0  \n",
       "2415          0  \n",
       "2416          0  \n",
       "\n",
       "[7 rows x 117 columns]"
      ]
     },
     "execution_count": 12,
     "metadata": {},
     "output_type": "execute_result"
    }
   ],
   "source": [
    "df.tail(n=7)"
   ]
  },
  {
   "cell_type": "code",
   "execution_count": 13,
   "metadata": {},
   "outputs": [
    {
     "data": {
      "text/html": [
       "<div>\n",
       "<style scoped>\n",
       "    .dataframe tbody tr th:only-of-type {\n",
       "        vertical-align: middle;\n",
       "    }\n",
       "\n",
       "    .dataframe tbody tr th {\n",
       "        vertical-align: top;\n",
       "    }\n",
       "\n",
       "    .dataframe thead th {\n",
       "        text-align: right;\n",
       "    }\n",
       "</style>\n",
       "<table border=\"1\" class=\"dataframe\">\n",
       "  <thead>\n",
       "    <tr style=\"text-align: right;\">\n",
       "      <th></th>\n",
       "      <th>feature_0</th>\n",
       "      <th>feature_1</th>\n",
       "      <th>feature_2</th>\n",
       "      <th>feature_3</th>\n",
       "      <th>feature_4</th>\n",
       "      <th>feature_5</th>\n",
       "      <th>feature_6</th>\n",
       "      <th>feature_7</th>\n",
       "      <th>feature_8</th>\n",
       "      <th>feature_9</th>\n",
       "      <th>...</th>\n",
       "      <th>target_4</th>\n",
       "      <th>target_5</th>\n",
       "      <th>target_6</th>\n",
       "      <th>target_7</th>\n",
       "      <th>target_8</th>\n",
       "      <th>target_9</th>\n",
       "      <th>target_10</th>\n",
       "      <th>target_11</th>\n",
       "      <th>target_12</th>\n",
       "      <th>target_13</th>\n",
       "    </tr>\n",
       "  </thead>\n",
       "  <tbody>\n",
       "    <tr>\n",
       "      <th>count</th>\n",
       "      <td>2417.000000</td>\n",
       "      <td>2417.000000</td>\n",
       "      <td>2417.000000</td>\n",
       "      <td>2417.000000</td>\n",
       "      <td>2417.000000</td>\n",
       "      <td>2417.000000</td>\n",
       "      <td>2417.000000</td>\n",
       "      <td>2417.000000</td>\n",
       "      <td>2417.000000</td>\n",
       "      <td>2417.000000</td>\n",
       "      <td>...</td>\n",
       "      <td>2417.000000</td>\n",
       "      <td>2417.000000</td>\n",
       "      <td>2417.000000</td>\n",
       "      <td>2417.000000</td>\n",
       "      <td>2417.000000</td>\n",
       "      <td>2417.000000</td>\n",
       "      <td>2417.000000</td>\n",
       "      <td>2417.000000</td>\n",
       "      <td>2417.000000</td>\n",
       "      <td>2417.000000</td>\n",
       "    </tr>\n",
       "    <tr>\n",
       "      <th>mean</th>\n",
       "      <td>0.001173</td>\n",
       "      <td>-0.000436</td>\n",
       "      <td>-0.000257</td>\n",
       "      <td>0.000265</td>\n",
       "      <td>0.001228</td>\n",
       "      <td>0.000475</td>\n",
       "      <td>0.001107</td>\n",
       "      <td>0.000420</td>\n",
       "      <td>0.001076</td>\n",
       "      <td>-0.000009</td>\n",
       "      <td>...</td>\n",
       "      <td>0.298717</td>\n",
       "      <td>0.247000</td>\n",
       "      <td>0.177079</td>\n",
       "      <td>0.198593</td>\n",
       "      <td>0.073645</td>\n",
       "      <td>0.104675</td>\n",
       "      <td>0.119570</td>\n",
       "      <td>0.751345</td>\n",
       "      <td>0.744311</td>\n",
       "      <td>0.014067</td>\n",
       "    </tr>\n",
       "    <tr>\n",
       "      <th>std</th>\n",
       "      <td>0.097411</td>\n",
       "      <td>0.097885</td>\n",
       "      <td>0.097746</td>\n",
       "      <td>0.096969</td>\n",
       "      <td>0.096909</td>\n",
       "      <td>0.097306</td>\n",
       "      <td>0.097170</td>\n",
       "      <td>0.096803</td>\n",
       "      <td>0.096326</td>\n",
       "      <td>0.096805</td>\n",
       "      <td>...</td>\n",
       "      <td>0.457790</td>\n",
       "      <td>0.431356</td>\n",
       "      <td>0.381815</td>\n",
       "      <td>0.399024</td>\n",
       "      <td>0.261246</td>\n",
       "      <td>0.306198</td>\n",
       "      <td>0.324525</td>\n",
       "      <td>0.432323</td>\n",
       "      <td>0.436338</td>\n",
       "      <td>0.117792</td>\n",
       "    </tr>\n",
       "    <tr>\n",
       "      <th>min</th>\n",
       "      <td>-0.371146</td>\n",
       "      <td>-0.472632</td>\n",
       "      <td>-0.339195</td>\n",
       "      <td>-0.467945</td>\n",
       "      <td>-0.367044</td>\n",
       "      <td>-0.509447</td>\n",
       "      <td>-0.319928</td>\n",
       "      <td>-0.594498</td>\n",
       "      <td>-0.369712</td>\n",
       "      <td>-0.767128</td>\n",
       "      <td>...</td>\n",
       "      <td>0.000000</td>\n",
       "      <td>0.000000</td>\n",
       "      <td>0.000000</td>\n",
       "      <td>0.000000</td>\n",
       "      <td>0.000000</td>\n",
       "      <td>0.000000</td>\n",
       "      <td>0.000000</td>\n",
       "      <td>0.000000</td>\n",
       "      <td>0.000000</td>\n",
       "      <td>0.000000</td>\n",
       "    </tr>\n",
       "    <tr>\n",
       "      <th>25%</th>\n",
       "      <td>-0.053655</td>\n",
       "      <td>-0.058734</td>\n",
       "      <td>-0.057526</td>\n",
       "      <td>-0.057149</td>\n",
       "      <td>-0.058461</td>\n",
       "      <td>-0.060212</td>\n",
       "      <td>-0.058445</td>\n",
       "      <td>-0.062849</td>\n",
       "      <td>-0.063472</td>\n",
       "      <td>-0.065010</td>\n",
       "      <td>...</td>\n",
       "      <td>0.000000</td>\n",
       "      <td>0.000000</td>\n",
       "      <td>0.000000</td>\n",
       "      <td>0.000000</td>\n",
       "      <td>0.000000</td>\n",
       "      <td>0.000000</td>\n",
       "      <td>0.000000</td>\n",
       "      <td>1.000000</td>\n",
       "      <td>0.000000</td>\n",
       "      <td>0.000000</td>\n",
       "    </tr>\n",
       "    <tr>\n",
       "      <th>50%</th>\n",
       "      <td>0.003649</td>\n",
       "      <td>-0.003513</td>\n",
       "      <td>0.002892</td>\n",
       "      <td>-0.000153</td>\n",
       "      <td>0.005565</td>\n",
       "      <td>0.000321</td>\n",
       "      <td>0.006179</td>\n",
       "      <td>0.001436</td>\n",
       "      <td>0.003515</td>\n",
       "      <td>0.002432</td>\n",
       "      <td>...</td>\n",
       "      <td>0.000000</td>\n",
       "      <td>0.000000</td>\n",
       "      <td>0.000000</td>\n",
       "      <td>0.000000</td>\n",
       "      <td>0.000000</td>\n",
       "      <td>0.000000</td>\n",
       "      <td>0.000000</td>\n",
       "      <td>1.000000</td>\n",
       "      <td>1.000000</td>\n",
       "      <td>0.000000</td>\n",
       "    </tr>\n",
       "    <tr>\n",
       "      <th>75%</th>\n",
       "      <td>0.057299</td>\n",
       "      <td>0.048047</td>\n",
       "      <td>0.061007</td>\n",
       "      <td>0.054522</td>\n",
       "      <td>0.066286</td>\n",
       "      <td>0.059908</td>\n",
       "      <td>0.068892</td>\n",
       "      <td>0.061418</td>\n",
       "      <td>0.064958</td>\n",
       "      <td>0.063096</td>\n",
       "      <td>...</td>\n",
       "      <td>1.000000</td>\n",
       "      <td>0.000000</td>\n",
       "      <td>0.000000</td>\n",
       "      <td>0.000000</td>\n",
       "      <td>0.000000</td>\n",
       "      <td>0.000000</td>\n",
       "      <td>0.000000</td>\n",
       "      <td>1.000000</td>\n",
       "      <td>1.000000</td>\n",
       "      <td>0.000000</td>\n",
       "    </tr>\n",
       "    <tr>\n",
       "      <th>max</th>\n",
       "      <td>0.520272</td>\n",
       "      <td>0.614114</td>\n",
       "      <td>0.353241</td>\n",
       "      <td>0.568960</td>\n",
       "      <td>0.307649</td>\n",
       "      <td>0.336971</td>\n",
       "      <td>0.351401</td>\n",
       "      <td>0.454591</td>\n",
       "      <td>0.419852</td>\n",
       "      <td>0.420876</td>\n",
       "      <td>...</td>\n",
       "      <td>1.000000</td>\n",
       "      <td>1.000000</td>\n",
       "      <td>1.000000</td>\n",
       "      <td>1.000000</td>\n",
       "      <td>1.000000</td>\n",
       "      <td>1.000000</td>\n",
       "      <td>1.000000</td>\n",
       "      <td>1.000000</td>\n",
       "      <td>1.000000</td>\n",
       "      <td>1.000000</td>\n",
       "    </tr>\n",
       "  </tbody>\n",
       "</table>\n",
       "<p>8 rows × 117 columns</p>\n",
       "</div>"
      ],
      "text/plain": [
       "         feature_0    feature_1    feature_2    feature_3    feature_4  \\\n",
       "count  2417.000000  2417.000000  2417.000000  2417.000000  2417.000000   \n",
       "mean      0.001173    -0.000436    -0.000257     0.000265     0.001228   \n",
       "std       0.097411     0.097885     0.097746     0.096969     0.096909   \n",
       "min      -0.371146    -0.472632    -0.339195    -0.467945    -0.367044   \n",
       "25%      -0.053655    -0.058734    -0.057526    -0.057149    -0.058461   \n",
       "50%       0.003649    -0.003513     0.002892    -0.000153     0.005565   \n",
       "75%       0.057299     0.048047     0.061007     0.054522     0.066286   \n",
       "max       0.520272     0.614114     0.353241     0.568960     0.307649   \n",
       "\n",
       "         feature_5    feature_6    feature_7    feature_8    feature_9  ...  \\\n",
       "count  2417.000000  2417.000000  2417.000000  2417.000000  2417.000000  ...   \n",
       "mean      0.000475     0.001107     0.000420     0.001076    -0.000009  ...   \n",
       "std       0.097306     0.097170     0.096803     0.096326     0.096805  ...   \n",
       "min      -0.509447    -0.319928    -0.594498    -0.369712    -0.767128  ...   \n",
       "25%      -0.060212    -0.058445    -0.062849    -0.063472    -0.065010  ...   \n",
       "50%       0.000321     0.006179     0.001436     0.003515     0.002432  ...   \n",
       "75%       0.059908     0.068892     0.061418     0.064958     0.063096  ...   \n",
       "max       0.336971     0.351401     0.454591     0.419852     0.420876  ...   \n",
       "\n",
       "          target_4     target_5     target_6     target_7     target_8  \\\n",
       "count  2417.000000  2417.000000  2417.000000  2417.000000  2417.000000   \n",
       "mean      0.298717     0.247000     0.177079     0.198593     0.073645   \n",
       "std       0.457790     0.431356     0.381815     0.399024     0.261246   \n",
       "min       0.000000     0.000000     0.000000     0.000000     0.000000   \n",
       "25%       0.000000     0.000000     0.000000     0.000000     0.000000   \n",
       "50%       0.000000     0.000000     0.000000     0.000000     0.000000   \n",
       "75%       1.000000     0.000000     0.000000     0.000000     0.000000   \n",
       "max       1.000000     1.000000     1.000000     1.000000     1.000000   \n",
       "\n",
       "          target_9    target_10    target_11    target_12    target_13  \n",
       "count  2417.000000  2417.000000  2417.000000  2417.000000  2417.000000  \n",
       "mean      0.104675     0.119570     0.751345     0.744311     0.014067  \n",
       "std       0.306198     0.324525     0.432323     0.436338     0.117792  \n",
       "min       0.000000     0.000000     0.000000     0.000000     0.000000  \n",
       "25%       0.000000     0.000000     1.000000     0.000000     0.000000  \n",
       "50%       0.000000     0.000000     1.000000     1.000000     0.000000  \n",
       "75%       0.000000     0.000000     1.000000     1.000000     0.000000  \n",
       "max       1.000000     1.000000     1.000000     1.000000     1.000000  \n",
       "\n",
       "[8 rows x 117 columns]"
      ]
     },
     "execution_count": 13,
     "metadata": {},
     "output_type": "execute_result"
    }
   ],
   "source": [
    "df.describe()"
   ]
  },
  {
   "cell_type": "markdown",
   "metadata": {},
   "source": [
    "Данные уже отскейлены."
   ]
  },
  {
   "cell_type": "markdown",
   "metadata": {},
   "source": [
    "- Count Na."
   ]
  },
  {
   "cell_type": "code",
   "execution_count": 14,
   "metadata": {},
   "outputs": [],
   "source": [
    "#pprint()\n",
    "list_NAs = df.isna().sum()"
   ]
  },
  {
   "cell_type": "code",
   "execution_count": 15,
   "metadata": {},
   "outputs": [
    {
     "data": {
      "text/plain": [
       "Series([], dtype: int64)"
      ]
     },
     "execution_count": 15,
     "metadata": {},
     "output_type": "execute_result"
    }
   ],
   "source": [
    "list_NAs[list_NAs != 0]"
   ]
  },
  {
   "cell_type": "markdown",
   "metadata": {},
   "source": [
    "- Values distribution."
   ]
  },
  {
   "cell_type": "code",
   "execution_count": 16,
   "metadata": {},
   "outputs": [
    {
     "data": {
      "image/png": "[encoded data removed]",
      "text/plain": [
       "<Figure size 1728x2016 with 117 Axes>"
      ]
     },
     "metadata": {
      "needs_background": "light"
     },
     "output_type": "display_data"
    }
   ],
   "source": [
    "plt.figure(figsize=(24, 28))\n",
    "for i, col in enumerate(df.columns):\n",
    "    plt.subplot(17,7,i+2)\n",
    "    plt.hist(df[col],bins='doane')\n",
    "    plt.subplots_adjust(hspace = 0.9)\n",
    "    plt.title(col);"
   ]
  },
  {
   "cell_type": "markdown",
   "metadata": {},
   "source": [
    "- Separate target from whole dataset."
   ]
  },
  {
   "cell_type": "code",
   "execution_count": 17,
   "metadata": {},
   "outputs": [],
   "source": [
    "y = df.iloc[:,-14:]"
   ]
  },
  {
   "cell_type": "code",
   "execution_count": 18,
   "metadata": {
    "scrolled": true
   },
   "outputs": [
    {
     "name": "stdout",
     "output_type": "stream",
     "text": [
      "0    1655\n",
      "1     762\n",
      "Name: target_0, dtype: int64\n",
      "0    1379\n",
      "1    1038\n",
      "Name: target_1, dtype: int64\n",
      "0    1434\n",
      "1     983\n",
      "Name: target_2, dtype: int64\n",
      "0    1555\n",
      "1     862\n",
      "Name: target_3, dtype: int64\n",
      "0    1695\n",
      "1     722\n",
      "Name: target_4, dtype: int64\n",
      "0    1820\n",
      "1     597\n",
      "Name: target_5, dtype: int64\n",
      "0    1989\n",
      "1     428\n",
      "Name: target_6, dtype: int64\n",
      "0    1937\n",
      "1     480\n",
      "Name: target_7, dtype: int64\n",
      "0    2239\n",
      "1     178\n",
      "Name: target_8, dtype: int64\n",
      "0    2164\n",
      "1     253\n",
      "Name: target_9, dtype: int64\n",
      "0    2128\n",
      "1     289\n",
      "Name: target_10, dtype: int64\n",
      "1    1816\n",
      "0     601\n",
      "Name: target_11, dtype: int64\n",
      "1    1799\n",
      "0     618\n",
      "Name: target_12, dtype: int64\n"
     ]
    }
   ],
   "source": [
    "for i, col in enumerate(y.columns[:-1]):\n",
    "    print(y[col].value_counts())"
   ]
  },
  {
   "cell_type": "code",
   "execution_count": 19,
   "metadata": {
    "scrolled": true
   },
   "outputs": [
    {
     "data": {
      "image/png": "[encoded data removed]",
      "text/plain": [
       "<Figure size 1440x3960 with 13 Axes>"
      ]
     },
     "metadata": {
      "needs_background": "light"
     },
     "output_type": "display_data"
    }
   ],
   "source": [
    "plt.figure(figsize=(20, 55)) \n",
    "for i, col in enumerate(y.columns[:-1]):# выводим все величины, кроме последней (целевой, ее будем рассматривать отдельно)\n",
    "    plt.subplot(6,3,i+1)\n",
    "    sns.countplot(x=y[col], data=y)\n",
    "    plt.subplots_adjust(hspace = 0.25)"
   ]
  },
  {
   "cell_type": "markdown",
   "metadata": {},
   "source": [
    "train/test split"
   ]
  },
  {
   "cell_type": "code",
   "execution_count": 20,
   "metadata": {},
   "outputs": [],
   "source": [
    "columns_to_drop = df.columns\n",
    "result = [k for k in columns_to_drop if 'target' in k]"
   ]
  },
  {
   "cell_type": "code",
   "execution_count": 21,
   "metadata": {},
   "outputs": [],
   "source": [
    "df.drop(result, axis = 1, inplace = True)"
   ]
  },
  {
   "cell_type": "markdown",
   "metadata": {},
   "source": [
    "Pay attention to shuffle = True"
   ]
  },
  {
   "cell_type": "code",
   "execution_count": 74,
   "metadata": {},
   "outputs": [],
   "source": [
    "x_train, x_test, y_train, y_test = train_test_split(df, y, random_state = seed, test_size=0.3, shuffle=True)"
   ]
  },
  {
   "cell_type": "code",
   "execution_count": 75,
   "metadata": {},
   "outputs": [
    {
     "data": {
      "text/plain": [
       "(1691, 103)"
      ]
     },
     "execution_count": 75,
     "metadata": {},
     "output_type": "execute_result"
    }
   ],
   "source": [
    "x_train.shape"
   ]
  },
  {
   "cell_type": "code",
   "execution_count": 76,
   "metadata": {},
   "outputs": [
    {
     "data": {
      "text/plain": [
       "(726, 103)"
      ]
     },
     "execution_count": 76,
     "metadata": {},
     "output_type": "execute_result"
    }
   ],
   "source": [
    "x_test.shape"
   ]
  },
  {
   "cell_type": "code",
   "execution_count": 77,
   "metadata": {},
   "outputs": [
    {
     "data": {
      "text/plain": [
       "(1691, 14)"
      ]
     },
     "execution_count": 77,
     "metadata": {},
     "output_type": "execute_result"
    }
   ],
   "source": [
    "y_train.shape"
   ]
  },
  {
   "cell_type": "code",
   "execution_count": 78,
   "metadata": {},
   "outputs": [
    {
     "data": {
      "text/plain": [
       "(726, 14)"
      ]
     },
     "execution_count": 78,
     "metadata": {},
     "output_type": "execute_result"
    }
   ],
   "source": [
    "y_test.shape"
   ]
  },
  {
   "cell_type": "markdown",
   "metadata": {},
   "source": [
    "#### Baseline.\n",
    "\n",
    "with cross-validation and hyperparameters search."
   ]
  },
  {
   "cell_type": "code",
   "execution_count": 79,
   "metadata": {},
   "outputs": [],
   "source": [
    "skv = KFold(n_splits = 3,random_state=seed, shuffle=True)"
   ]
  },
  {
   "cell_type": "markdown",
   "metadata": {},
   "source": [
    "Используется разбиение на 3 фолда, чтобы ускорить проведение обучения, в ином случае количество фолдов следует увеличить."
   ]
  },
  {
   "cell_type": "code",
   "execution_count": 28,
   "metadata": {},
   "outputs": [],
   "source": [
    "params = {\n",
    "    'multi_class' : 'multinomial',\n",
    "    'solver' : 'newton-cg',\n",
    "    'random_state' : seed, \n",
    "    'max_iter' : 10e3,\n",
    "    'penalty' : 'l2',\n",
    "    'class_weight' : 'balanced'  \n",
    "    \n",
    "}"
   ]
  },
  {
   "cell_type": "code",
   "execution_count": 29,
   "metadata": {},
   "outputs": [],
   "source": [
    "def create_estimator(estimator):\n",
    "    return estimator"
   ]
  },
  {
   "cell_type": "code",
   "execution_count": 30,
   "metadata": {},
   "outputs": [],
   "source": [
    "def create_cv_plot(estimator):\n",
    "    alphas = estimator.cv_results_['param_estimator__C'].data\n",
    "    scores = estimator.cv_results_['mean_test_score']\n",
    "    combined = pd.DataFrame({'alpha':alphas, 'score':scores})\n",
    "    plt.figure(figsize=(18, 10))\n",
    "\n",
    "    plt.plot(combined.alpha[0:20], combined.score[0:20],'go-')\n",
    "    plt.grid(True)\n",
    "    plt.title('C and metrics plot')\n",
    "    plt.xlabel('C values') \n",
    "    plt.ylabel('F1 micro')\n",
    "\n",
    "#create_cv_plot(bclf)"
   ]
  },
  {
   "cell_type": "code",
   "execution_count": 31,
   "metadata": {
    "scrolled": false
   },
   "outputs": [
    {
     "name": "stdout",
     "output_type": "stream",
     "text": [
      "Fitting 5 folds for each of 11 candidates, totalling 55 fits\n"
     ]
    },
    {
     "name": "stderr",
     "output_type": "stream",
     "text": [
      "[Parallel(n_jobs=-1)]: Using backend LokyBackend with 4 concurrent workers.\n",
      "[Parallel(n_jobs=-1)]: Done  10 tasks      | elapsed:    4.7s\n",
      "[Parallel(n_jobs=-1)]: Done  33 tasks      | elapsed:   13.1s\n",
      "[Parallel(n_jobs=-1)]: Done  55 out of  55 | elapsed:   24.0s remaining:    0.0s\n",
      "[Parallel(n_jobs=-1)]: Done  55 out of  55 | elapsed:   24.0s finished\n"
     ]
    },
    {
     "name": "stdout",
     "output_type": "stream",
     "text": [
      "Fitting 5 folds for each of 11 candidates, totalling 55 fits\n"
     ]
    },
    {
     "name": "stderr",
     "output_type": "stream",
     "text": [
      "[Parallel(n_jobs=-1)]: Using backend LokyBackend with 4 concurrent workers.\n",
      "[Parallel(n_jobs=-1)]: Done  10 tasks      | elapsed:    2.7s\n",
      "[Parallel(n_jobs=-1)]: Done  33 tasks      | elapsed:   11.0s\n",
      "[Parallel(n_jobs=-1)]: Done  55 out of  55 | elapsed:   20.4s remaining:    0.0s\n",
      "[Parallel(n_jobs=-1)]: Done  55 out of  55 | elapsed:   20.4s finished\n"
     ]
    },
    {
     "name": "stdout",
     "output_type": "stream",
     "text": [
      "Fitting 5 folds for each of 11 candidates, totalling 55 fits\n"
     ]
    },
    {
     "name": "stderr",
     "output_type": "stream",
     "text": [
      "[Parallel(n_jobs=-1)]: Using backend LokyBackend with 4 concurrent workers.\n",
      "[Parallel(n_jobs=-1)]: Done  10 tasks      | elapsed:    2.1s\n",
      "[Parallel(n_jobs=-1)]: Done  33 tasks      | elapsed:    8.4s\n",
      "[Parallel(n_jobs=-1)]: Done  55 out of  55 | elapsed:   17.3s remaining:    0.0s\n",
      "[Parallel(n_jobs=-1)]: Done  55 out of  55 | elapsed:   17.3s finished\n"
     ]
    },
    {
     "name": "stdout",
     "output_type": "stream",
     "text": [
      "Fitting 5 folds for each of 11 candidates, totalling 55 fits\n"
     ]
    },
    {
     "name": "stderr",
     "output_type": "stream",
     "text": [
      "[Parallel(n_jobs=-1)]: Using backend LokyBackend with 4 concurrent workers.\n",
      "[Parallel(n_jobs=-1)]: Done  10 tasks      | elapsed:    2.0s\n",
      "[Parallel(n_jobs=-1)]: Done  33 tasks      | elapsed:    8.5s\n",
      "[Parallel(n_jobs=-1)]: Done  55 out of  55 | elapsed:   17.0s remaining:    0.0s\n",
      "[Parallel(n_jobs=-1)]: Done  55 out of  55 | elapsed:   17.0s finished\n"
     ]
    },
    {
     "name": "stdout",
     "output_type": "stream",
     "text": [
      "Fitting 5 folds for each of 11 candidates, totalling 55 fits\n"
     ]
    },
    {
     "name": "stderr",
     "output_type": "stream",
     "text": [
      "[Parallel(n_jobs=-1)]: Using backend LokyBackend with 4 concurrent workers.\n",
      "[Parallel(n_jobs=-1)]: Done  10 tasks      | elapsed:    2.4s\n",
      "[Parallel(n_jobs=-1)]: Done  33 tasks      | elapsed:    8.7s\n",
      "[Parallel(n_jobs=-1)]: Done  55 out of  55 | elapsed:   17.5s remaining:    0.0s\n",
      "[Parallel(n_jobs=-1)]: Done  55 out of  55 | elapsed:   17.5s finished\n"
     ]
    },
    {
     "data": {
      "text/plain": [
       "[[0.60909570857530737, 0.57024508111839833, {'estimator__C': 1.5}],\n",
       " [0.6048728813559322, 0.53296030774610936, {'estimator__C': 1}],\n",
       " [0.60838537020517391, 0.54784437434279709, {'estimator__C': 1.5}],\n",
       " [0.60769750168804859, 0.54358623051892441, {'estimator__C': 1.5}],\n",
       " [0.61251784506724782, 0.5529349175385706, {'estimator__C': 1.5}]]"
      ]
     },
     "execution_count": 31,
     "metadata": {},
     "output_type": "execute_result"
    },
    {
     "data": {
      "image/png": "[encoded data removed]",
      "text/plain": [
       "<Figure size 1296x720 with 1 Axes>"
      ]
     },
     "metadata": {
      "needs_background": "light"
     },
     "output_type": "display_data"
    },
    {
     "data": {
      "image/png": "[encoded data removed]",
      "text/plain": [
       "<Figure size 1296x720 with 1 Axes>"
      ]
     },
     "metadata": {
      "needs_background": "light"
     },
     "output_type": "display_data"
    },
    {
     "data": {
      "image/png": "[encoded data removed]",
      "text/plain": [
       "<Figure size 1296x720 with 1 Axes>"
      ]
     },
     "metadata": {
      "needs_background": "light"
     },
     "output_type": "display_data"
    },
    {
     "data": {
      "image/png": "[encoded data removed]",
      "text/plain": [
       "<Figure size 1296x720 with 1 Axes>"
      ]
     },
     "metadata": {
      "needs_background": "light"
     },
     "output_type": "display_data"
    },
    {
     "data": {
      "image/png": "[encoded data removed]",
      "text/plain": [
       "<Figure size 1296x720 with 1 Axes>"
      ]
     },
     "metadata": {
      "needs_background": "light"
     },
     "output_type": "display_data"
    }
   ],
   "source": [
    "results_list = []\n",
    "for train, test in skv.split(df,y):\n",
    "    #print(\"%s %s\" % (train.shape, test.shape))   \n",
    "    X_val, y_val = df.iloc[train], y.iloc[train]\n",
    "    x_train, x_test, y_train, y_test = train_test_split(X_val, y_val, random_state = seed, test_size=0.3, shuffle=True)\n",
    "    \n",
    "    clf_log = create_estimator(OneVsRestClassifier(LogisticRegression(**params), n_jobs = -1))\n",
    "    #clf_log.fit(x_train,y_train)\n",
    "    \n",
    "    skv_gs = KFold(n_splits = 3,random_state=seed, shuffle=True)\n",
    "    my_scorer = make_scorer(f1_score, average='micro')\n",
    "    tuned_parameters = [{\n",
    "        'estimator__C': [0.01, 0.05, 0.1, 0.5, 0.7, 0.9, 1, 1.5, 5, 10, 20]\n",
    "                    }]\n",
    "    bclf = GridSearchCV(clf_log, tuned_parameters,\n",
    "                        scoring=my_scorer, cv=skv, verbose=8, n_jobs=-1,refit='f1_score')\n",
    "\n",
    "    bclf.fit(x_train, y_train)\n",
    "    #clf_log.estimator.C = (bclf.best_params_['estimator__C'])\n",
    "    #Call predict on the estimator with the best found parameters.\n",
    "    \n",
    "    #create_cv_plot(bclf)\n",
    "    \n",
    "    y_pred_train = bclf.predict(x_train)\n",
    "    y_pred_test = bclf.predict(x_test)\n",
    "    f1_train = f1_score(y_train,y_pred_train,average='micro')\n",
    "    f1_test = f1_score(y_test,y_pred_test,average='micro')\n",
    "    results_list.append([f1_train , f1_test, bclf.best_params_]) \n",
    "\n",
    "results_list  "
   ]
  },
  {
   "cell_type": "markdown",
   "metadata": {},
   "source": [
    "Вывод:\n"
   ]
  },
  {
   "cell_type": "markdown",
   "metadata": {},
   "source": [
    "#### Tensorflow."
   ]
  },
  {
   "cell_type": "markdown",
   "metadata": {},
   "source": [
    "- написать про кросс валидацию\n",
    "- написать про кривой ф1-скор\n",
    "- боль!"
   ]
  },
  {
   "cell_type": "code",
   "execution_count": 33,
   "metadata": {},
   "outputs": [],
   "source": [
    "# Step 1: define parameters\n",
    "tf.logging.set_verbosity(tf.logging.ERROR)\n",
    "tf.reset_default_graph()\n",
    "\n",
    "# Define paramaters for the model\n",
    "learning_rate = 0.01\n",
    "batch_size = 128\n",
    "n_epochs = 20"
   ]
  },
  {
   "cell_type": "code",
   "execution_count": 61,
   "metadata": {},
   "outputs": [],
   "source": [
    "# Step 2: create placeholders for features and labels\n",
    "X = tf.placeholder(tf.float32, [batch_size, 103], name='feature_data') # 1x103 is a number of features, 0-102\n",
    "Y = tf.placeholder(tf.float32, [batch_size, 14], name='label') # 1x14 is a number of unique labels, 0-13, int 32"
   ]
  },
  {
   "cell_type": "code",
   "execution_count": 62,
   "metadata": {},
   "outputs": [],
   "source": [
    "# Step 3: create weights and bias\n",
    "# w is initialized to random variables with mean of 0, stddev of 0.01\n",
    "# b is initialized to 0\n",
    "# shape of w depends on the dimension of X and Y so that Y = tf.matmul(X, w)\n",
    "# shape of b depends on Y\n",
    "#w = tf.get_variable(name='weights', shape=(784, 10), initializer=tf.random_normal_initializer())\n",
    "#b = tf.get_variable(name='bias', shape=(1, 10), initializer=tf.zeros_initializer())\n",
    "w = tf.get_variable(name='weights', shape=(103, 14), initializer=tf.random_normal_initializer(mean=0.0, stddev=0.01))\n",
    "b = tf.get_variable(name='bias', shape=(1, 14), initializer=tf.zeros_initializer())"
   ]
  },
  {
   "cell_type": "code",
   "execution_count": 63,
   "metadata": {},
   "outputs": [],
   "source": [
    "# Step 4: build model\n",
    "# construct model to predict sigmoid(W.T * X + b)\n",
    "#v1\n",
    "logits = tf.matmul(X, w) + b \n",
    "\n",
    "#v2\n",
    "#logits_1 = tf.matmul(X, w) + b \n",
    "#logits =  tf.nn.sigmoid(logits_1)\n",
    "\n",
    "#loss = tf.reduce_mean(-Y * tf.log(logits) - (1 - Y) * tf.log(1 - logits))"
   ]
  },
  {
   "cell_type": "code",
   "execution_count": 64,
   "metadata": {},
   "outputs": [],
   "source": [
    "# Step 5: define loss function\n",
    "# use cross entropy of sigmoid of logits as the loss function\n",
    "entropy = tf.nn.sigmoid_cross_entropy_with_logits(logits=logits, labels=Y) #1\n",
    "loss = tf.reduce_mean(entropy) \n",
    "#loss = tf.reduce_mean(tf.reduce_sum(entropy, axis=1)) #1"
   ]
  },
  {
   "cell_type": "code",
   "execution_count": 65,
   "metadata": {},
   "outputs": [],
   "source": [
    "# Step 6: define training op\n",
    "# using gradient descent with learning rate of 0.01 to minimize loss\n",
    "optimizer = tf.train.AdamOptimizer(learning_rate).minimize(loss)\n",
    "#optimizer = tf.train.GradientDescentOptimizer(learning_rate).minimize(loss)"
   ]
  },
  {
   "cell_type": "code",
   "execution_count": 66,
   "metadata": {},
   "outputs": [],
   "source": [
    "def next_batch(num, data, labels):\n",
    "    idx = np.arange(0 , len(data))\n",
    "    np.random.shuffle(idx)\n",
    "    idx = idx[:num]\n",
    "    data_shuffle = data.iloc[idx]\n",
    "    labels_shuffle = [labels.iloc[i] for i in idx]\n",
    "\n",
    "    return np.asarray(data_shuffle), np.asarray(labels_shuffle)\n",
    "\n",
    "#X_batch, Y_batch = next_batch(batch_size, x_test, y_test)\n",
    "#print (X_batch, Y_batch)"
   ]
  },
  {
   "cell_type": "code",
   "execution_count": 67,
   "metadata": {},
   "outputs": [],
   "source": [
    "def tf_f1_score(y_true, y_pred):\n",
    "    print (y_pred)\n",
    "    \"\"\"Computes 3 different f1 scores, micro macro\n",
    "    weighted.\n",
    "    micro: f1 score accross the classes, as 1\n",
    "    macro: mean of f1 scores per class\n",
    "    weighted: weighted average of f1 scores per class,\n",
    "            weighted from the support of each class\n",
    "\n",
    "\n",
    "    Args:\n",
    "        y_true (Tensor): labels, with shape (batch, num_classes)\n",
    "        y_pred (Tensor): model's predictions, same shape as y_true\n",
    "\n",
    "    Returns:\n",
    "        tuple(Tensor): (micro, macro, weighted)\n",
    "                    tuple of the computed f1 scores\n",
    "    \"\"\"\n",
    "\n",
    "    f1s = [0, 0, 0]\n",
    "\n",
    "    y_true = tf.cast(y_true, tf.float64)\n",
    "    y_pred = tf.cast(y_pred, tf.float64)\n",
    "\n",
    "    for i, axis in enumerate([None, 0]):\n",
    "        print (i)\n",
    "        TP = tf.count_nonzero(y_pred * y_true, axis=axis)\n",
    "        FP = tf.count_nonzero(y_pred * (y_true - 1), axis=axis)\n",
    "        FN = tf.count_nonzero((y_pred - 1) * y_true, axis=axis)\n",
    "\n",
    "        precision = TP / (TP + FP)\n",
    "        recall = TP / (TP + FN)\n",
    "        f1 = 2 * precision * recall / (precision + recall)\n",
    "\n",
    "        f1s[i] = tf.reduce_mean(f1)\n",
    "\n",
    "    weights = tf.reduce_sum(y_true, axis=0)\n",
    "    weights /= tf.reduce_sum(weights)\n",
    "\n",
    "    f1s[2] = tf.reduce_sum(f1 * weights)\n",
    "\n",
    "    micro, macro, weighted = f1s\n",
    "    return micro, macro, weighted"
   ]
  },
  {
   "cell_type": "code",
   "execution_count": 128,
   "metadata": {
    "scrolled": false
   },
   "outputs": [
    {
     "name": "stdout",
     "output_type": "stream",
     "text": [
      "Number of train batches 13\n",
      "Average loss epoch 0: 0.6701766619315515\n",
      "Average loss epoch 1: 0.6241844892501831\n",
      "Average loss epoch 2: 0.5909076424745413\n",
      "Average loss epoch 3: 0.5672050622793344\n",
      "Average loss epoch 4: 0.5381907087105972\n",
      "Average loss epoch 5: 0.5262141181872442\n",
      "Average loss epoch 6: 0.5095629279430096\n",
      "Average loss epoch 7: 0.4960736632347107\n",
      "Average loss epoch 8: 0.4904223818045396\n",
      "Average loss epoch 9: 0.4805605044731727\n",
      "Average loss epoch 10: 0.4702287522646097\n",
      "Average loss epoch 11: 0.4687171532557561\n",
      "Average loss epoch 12: 0.4538507415698125\n",
      "Average loss epoch 13: 0.44980881764338565\n",
      "Average loss epoch 14: 0.44853312923358035\n",
      "Average loss epoch 15: 0.4441036811241737\n",
      "Average loss epoch 16: 0.4405663013458252\n",
      "Average loss epoch 17: 0.4430747857460609\n",
      "Average loss epoch 18: 0.4312121615960048\n",
      "Average loss epoch 19: 0.44288997466747576\n",
      "Number of test batches 5\n"
     ]
    }
   ],
   "source": [
    "# Step 7: calculate accuracy with test set\n",
    "preds = tf.math.round(tf.nn.sigmoid(logits)) # 1\n",
    "#correct_preds = tf.equal(tf.argmax(preds, 1), tf.argmax(Y, 1)) #1\n",
    "#accuracy = tf.reduce_sum(tf.cast(correct_preds, tf.float32)) #1\n",
    "precis = tf.metrics.precision(labels=Y,predictions=preds)\n",
    "recall = tf.metrics.recall(labels=Y,predictions=preds)\n",
    "\n",
    "TP = tf.count_nonzero(Y*preds)\n",
    "FP = tf.count_nonzero(preds * (Y - 1))\n",
    "FN = tf.count_nonzero((preds - 1) * Y)\n",
    "\n",
    "precision = TP / (TP + FP)\n",
    "recall = TP / (TP + FN)\n",
    "f1 = 2 * precision * recall / (precision + recall)\n",
    "\n",
    "prediction_list = []\n",
    "batches_list = []\n",
    "\n",
    "\n",
    "with tf.Session() as sess:\n",
    "    init = tf.group(tf.global_variables_initializer(), tf.local_variables_initializer())\n",
    "    sess.run(init)\n",
    "    n_batches = int(x_train.shape[0]/batch_size)\n",
    "    print (\"Number of train batches\", n_batches)\n",
    "    # train the model n_epochs times\n",
    "    for i in range(n_epochs): \n",
    "        total_loss = 0\n",
    "\n",
    "        for j in range(n_batches):\n",
    "            X_batch, Y_batch = next_batch(batch_size, x_train, y_train)\n",
    "            _, loss_batch = sess.run([optimizer, loss], {X: X_batch, Y:Y_batch}) \n",
    "            total_loss += loss_batch\n",
    "        print('Average loss epoch {0}: {1}'.format(i, total_loss/n_batches))\n",
    "\n",
    "    # test the model\n",
    "    n_batches = int(x_test.shape[0]/batch_size)\n",
    "    total_correct_preds,accuracy_batch = 0,0\n",
    "    print (\"Number of test batches\", n_batches)\n",
    "    \n",
    "    #results = sess.run(preds, feed_dict = {X_valid: x_test, Y_valid:y_test})\n",
    "\n",
    "    for i in range(n_batches):\n",
    "        X_batch, Y_batch = next_batch(batch_size, x_test, y_test)\n",
    "        #accuracy_batch = sess.run(f1, feed_dict = {X: X_batch, Y:Y_batch})\n",
    "        predictions = sess.run(preds, feed_dict = {X: X_batch, Y:Y_batch})\n",
    "        \n",
    "        prediction_list.append(predictions)\n",
    "        batches_list.append(Y_batch)"
   ]
  },
  {
   "cell_type": "code",
   "execution_count": 130,
   "metadata": {},
   "outputs": [],
   "source": [
    "prediction_list = [l.tolist() for l in prediction_list]\n",
    "batches_list = [l.tolist() for l in batches_list]"
   ]
  },
  {
   "cell_type": "code",
   "execution_count": 136,
   "metadata": {},
   "outputs": [],
   "source": [
    "result = []\n",
    "for x, y in zip(batches_list, prediction_list):\n",
    "    result.append(f1_score(np.asarray(x),np.asarray(y),average='micro'))\n",
    "\n",
    "#f1_score(y_val,y_pred_test,average='micro')"
   ]
  },
  {
   "cell_type": "code",
   "execution_count": 137,
   "metadata": {},
   "outputs": [
    {
     "data": {
      "text/plain": [
       "0.61998852007323302"
      ]
     },
     "execution_count": 137,
     "metadata": {},
     "output_type": "execute_result"
    }
   ],
   "source": [
    "np.mean(result)"
   ]
  },
  {
   "cell_type": "markdown",
   "metadata": {},
   "source": []
  },
  {
   "cell_type": "markdown",
   "metadata": {},
   "source": [
    "#### Keras."
   ]
  },
  {
   "cell_type": "markdown",
   "metadata": {},
   "source": [
    "V1, tensorflow analog.\n",
    "\n",
    "Сделать тоже самое как и в Tensorflow но использовав чистый Keras."
   ]
  },
  {
   "cell_type": "code",
   "execution_count": 90,
   "metadata": {},
   "outputs": [],
   "source": [
    "# Define paramaters for the model\n",
    "batch_size = 128\n",
    "n_epochs = 30\n",
    "from keras import backend as K\n",
    "K.clear_session()"
   ]
  },
  {
   "cell_type": "code",
   "execution_count": 112,
   "metadata": {},
   "outputs": [],
   "source": [
    "def create_model(df, y, n_split, path):\n",
    "    x_train, x_test, y_train, y_test = train_test_split(df, y, random_state = seed, test_size=0.3, shuffle=True)\n",
    "    model = Sequential()\n",
    "\n",
    "    input_dim = x_train.shape[1]\n",
    "    output_dim = y_train.shape[1]\n",
    "\n",
    "    model.add(Dense(activation='sigmoid', output_dim = output_dim,  input_dim = input_dim))\n",
    "    \n",
    "    earlyStopping = EarlyStopping(monitor='val_acc', patience=5, verbose=2, mode='max',restore_best_weights=True)\n",
    "    #checkpoint = ModelCheckpoint(filepath, monitor='val_acc', verbose=1, save_best_only=True, mode='max')\n",
    "    \n",
    "    model.compile(optimizer = 'adam', loss = 'binary_crossentropy', metrics=['accuracy'])\n",
    "\n",
    "    history_model = model.fit(x_train, y_train,\n",
    "              batch_size=batch_size, epochs=50,\n",
    "              validation_data = (x_test, y_test),verbose=2,callbacks=[earlyStopping])\n",
    "    \n",
    "    # serialize model to JSON\n",
    "    model_json = model.to_json()\n",
    "    with open(path + \"model_\" + str(n_split) + \".json\", \"w\") as json_file:\n",
    "        json_file.write(model_json)\n",
    "        \n",
    "    with open(path + \"history_\" + str(n_split) + \".json\", 'w') as f:\n",
    "        json.dump(history_model.history, f)\n",
    "    \n",
    "    # serialize weights to HDF5\n",
    "    model.save_weights(path + \"model_\" + str(n_split) + \".h5\")\n",
    "    print(\"Saved model to disk\")\n",
    "    \n",
    "    return model"
   ]
  },
  {
   "cell_type": "code",
   "execution_count": 113,
   "metadata": {
    "scrolled": true
   },
   "outputs": [
    {
     "name": "stderr",
     "output_type": "stream",
     "text": [
      "C:\\Anaconda\\lib\\site-packages\\ipykernel_launcher.py:8: UserWarning: Update your `Dense` call to the Keras 2 API: `Dense(activation=\"sigmoid\", input_dim=103, units=14)`\n",
      "  \n"
     ]
    },
    {
     "name": "stdout",
     "output_type": "stream",
     "text": [
      "Train on 1353 samples, validate on 580 samples\n",
      "Epoch 1/50\n",
      " - 2s - loss: 11.1139 - acc: 0.0769 - val_loss: 11.2843 - val_acc: 0.0897\n",
      "Epoch 2/50\n",
      " - 0s - loss: 11.0893 - acc: 0.0953 - val_loss: 11.2602 - val_acc: 0.1069\n",
      "Epoch 3/50\n",
      " - 0s - loss: 11.0655 - acc: 0.1175 - val_loss: 11.2363 - val_acc: 0.1310\n",
      "Epoch 4/50\n",
      " - 0s - loss: 11.0424 - acc: 0.1449 - val_loss: 11.2135 - val_acc: 0.1379\n",
      "Epoch 5/50\n",
      " - 0s - loss: 11.0199 - acc: 0.1545 - val_loss: 11.1914 - val_acc: 0.1414\n",
      "Epoch 6/50\n",
      " - 0s - loss: 10.9980 - acc: 0.1670 - val_loss: 11.1696 - val_acc: 0.1500\n",
      "Epoch 7/50\n",
      " - 0s - loss: 10.9769 - acc: 0.1737 - val_loss: 11.1483 - val_acc: 0.1638\n",
      "Epoch 8/50\n",
      " - 0s - loss: 10.9557 - acc: 0.1833 - val_loss: 11.1276 - val_acc: 0.1638\n",
      "Epoch 9/50\n",
      " - 0s - loss: 10.9351 - acc: 0.1885 - val_loss: 11.1074 - val_acc: 0.1724\n",
      "Epoch 10/50\n",
      " - 0s - loss: 10.9148 - acc: 0.1936 - val_loss: 11.0878 - val_acc: 0.1810\n",
      "Epoch 11/50\n",
      " - 0s - loss: 10.8951 - acc: 0.1966 - val_loss: 11.0685 - val_acc: 0.1810\n",
      "Epoch 12/50\n",
      " - 0s - loss: 10.8758 - acc: 0.2003 - val_loss: 11.0495 - val_acc: 0.1828\n",
      "Epoch 13/50\n",
      " - 0s - loss: 10.8567 - acc: 0.2069 - val_loss: 11.0310 - val_acc: 0.1845\n",
      "Epoch 14/50\n",
      " - 0s - loss: 10.8380 - acc: 0.2099 - val_loss: 11.0129 - val_acc: 0.1845\n",
      "Epoch 15/50\n",
      " - 0s - loss: 10.8195 - acc: 0.2143 - val_loss: 10.9952 - val_acc: 0.1879\n",
      "Epoch 16/50\n",
      " - 0s - loss: 10.8015 - acc: 0.2180 - val_loss: 10.9775 - val_acc: 0.1914\n",
      "Epoch 17/50\n",
      " - 0s - loss: 10.7837 - acc: 0.2180 - val_loss: 10.9604 - val_acc: 0.1983\n",
      "Epoch 18/50\n",
      " - 0s - loss: 10.7661 - acc: 0.2217 - val_loss: 10.9436 - val_acc: 0.2034\n",
      "Epoch 19/50\n",
      " - 0s - loss: 10.7490 - acc: 0.2254 - val_loss: 10.9270 - val_acc: 0.2052\n",
      "Epoch 20/50\n",
      " - 0s - loss: 10.7321 - acc: 0.2239 - val_loss: 10.9105 - val_acc: 0.2034\n",
      "Epoch 21/50\n",
      " - 0s - loss: 10.7153 - acc: 0.2262 - val_loss: 10.8946 - val_acc: 0.2069\n",
      "Epoch 22/50\n",
      " - 0s - loss: 10.6990 - acc: 0.2276 - val_loss: 10.8790 - val_acc: 0.2103\n",
      "Epoch 23/50\n",
      " - 0s - loss: 10.6829 - acc: 0.2313 - val_loss: 10.8636 - val_acc: 0.2121\n",
      "Epoch 24/50\n",
      " - 0s - loss: 10.6671 - acc: 0.2313 - val_loss: 10.8485 - val_acc: 0.2103\n",
      "Epoch 25/50\n",
      " - 0s - loss: 10.6514 - acc: 0.2291 - val_loss: 10.8337 - val_acc: 0.2103\n",
      "Epoch 26/50\n",
      " - 0s - loss: 10.6360 - acc: 0.2306 - val_loss: 10.8191 - val_acc: 0.2103\n",
      "Epoch 27/50\n",
      " - 0s - loss: 10.6207 - acc: 0.2328 - val_loss: 10.8046 - val_acc: 0.2103\n",
      "Epoch 28/50\n",
      " - 0s - loss: 10.6058 - acc: 0.2358 - val_loss: 10.7905 - val_acc: 0.2052\n",
      "Epoch 29/50\n",
      " - 0s - loss: 10.5910 - acc: 0.2373 - val_loss: 10.7764 - val_acc: 0.2052\n",
      "Epoch 30/50\n",
      " - 0s - loss: 10.5765 - acc: 0.2365 - val_loss: 10.7625 - val_acc: 0.2017\n",
      "Epoch 31/50\n",
      " - 0s - loss: 10.5620 - acc: 0.2358 - val_loss: 10.7489 - val_acc: 0.2034\n",
      "Epoch 32/50\n",
      " - 0s - loss: 10.5478 - acc: 0.2350 - val_loss: 10.7356 - val_acc: 0.2034\n",
      "Epoch 33/50\n",
      " - 0s - loss: 10.5337 - acc: 0.2336 - val_loss: 10.7222 - val_acc: 0.2034\n",
      "Epoch 34/50\n",
      " - 0s - loss: 10.5198 - acc: 0.2343 - val_loss: 10.7092 - val_acc: 0.2034\n",
      "Epoch 35/50\n",
      " - 0s - loss: 10.5063 - acc: 0.2313 - val_loss: 10.6962 - val_acc: 0.2034\n",
      "Epoch 36/50\n",
      " - 0s - loss: 10.4927 - acc: 0.2321 - val_loss: 10.6836 - val_acc: 0.2017\n",
      "Epoch 37/50\n",
      " - 0s - loss: 10.4795 - acc: 0.2328 - val_loss: 10.6711 - val_acc: 0.1966\n",
      "Epoch 38/50\n",
      " - 0s - loss: 10.4662 - acc: 0.2328 - val_loss: 10.6589 - val_acc: 0.1948\n",
      "Restoring model weights from the end of the best epoch\n",
      "Epoch 00038: early stopping\n",
      "Saved model to disk\n"
     ]
    },
    {
     "name": "stderr",
     "output_type": "stream",
     "text": [
      "C:\\Anaconda\\lib\\site-packages\\ipykernel_launcher.py:8: UserWarning: Update your `Dense` call to the Keras 2 API: `Dense(activation=\"sigmoid\", input_dim=103, units=14)`\n",
      "  \n"
     ]
    },
    {
     "name": "stdout",
     "output_type": "stream",
     "text": [
      "Train on 1353 samples, validate on 580 samples\n",
      "Epoch 1/50\n",
      " - 2s - loss: 11.1565 - acc: 0.0436 - val_loss: 11.0867 - val_acc: 0.0672\n",
      "Epoch 2/50\n",
      " - 0s - loss: 11.1305 - acc: 0.0584 - val_loss: 11.0641 - val_acc: 0.0707\n",
      "Epoch 3/50\n",
      " - 0s - loss: 11.1055 - acc: 0.0650 - val_loss: 11.0422 - val_acc: 0.0966\n",
      "Epoch 4/50\n",
      " - 0s - loss: 11.0811 - acc: 0.0798 - val_loss: 11.0210 - val_acc: 0.1155\n",
      "Epoch 5/50\n",
      " - 0s - loss: 11.0575 - acc: 0.0983 - val_loss: 11.0001 - val_acc: 0.1190\n",
      "Epoch 6/50\n",
      " - 0s - loss: 11.0344 - acc: 0.1064 - val_loss: 10.9799 - val_acc: 0.1414\n",
      "Epoch 7/50\n",
      " - 0s - loss: 11.0118 - acc: 0.1205 - val_loss: 10.9602 - val_acc: 0.1466\n",
      "Epoch 8/50\n",
      " - 0s - loss: 10.9900 - acc: 0.1323 - val_loss: 10.9409 - val_acc: 0.1534\n",
      "Epoch 9/50\n",
      " - 0s - loss: 10.9687 - acc: 0.1390 - val_loss: 10.9221 - val_acc: 0.1621\n",
      "Epoch 10/50\n",
      " - 0s - loss: 10.9477 - acc: 0.1493 - val_loss: 10.9039 - val_acc: 0.1603\n",
      "Epoch 11/50\n",
      " - 0s - loss: 10.9274 - acc: 0.1574 - val_loss: 10.8861 - val_acc: 0.1707\n",
      "Epoch 12/50\n",
      " - 0s - loss: 10.9073 - acc: 0.1567 - val_loss: 10.8685 - val_acc: 0.1741\n",
      "Epoch 13/50\n",
      " - 0s - loss: 10.8877 - acc: 0.1663 - val_loss: 10.8514 - val_acc: 0.1724\n",
      "Epoch 14/50\n",
      " - 0s - loss: 10.8686 - acc: 0.1700 - val_loss: 10.8342 - val_acc: 0.1707\n",
      "Epoch 15/50\n",
      " - 0s - loss: 10.8497 - acc: 0.1737 - val_loss: 10.8177 - val_acc: 0.1707\n",
      "Epoch 16/50\n",
      " - 0s - loss: 10.8310 - acc: 0.1744 - val_loss: 10.8016 - val_acc: 0.1741\n",
      "Epoch 17/50\n",
      " - 0s - loss: 10.8129 - acc: 0.1759 - val_loss: 10.7855 - val_acc: 0.1759\n",
      "Epoch 18/50\n",
      " - 0s - loss: 10.7950 - acc: 0.1759 - val_loss: 10.7698 - val_acc: 0.1828\n",
      "Epoch 19/50\n",
      " - 0s - loss: 10.7772 - acc: 0.1774 - val_loss: 10.7544 - val_acc: 0.1983\n",
      "Epoch 20/50\n",
      " - 0s - loss: 10.7597 - acc: 0.1803 - val_loss: 10.7392 - val_acc: 0.2034\n",
      "Epoch 21/50\n",
      " - 0s - loss: 10.7427 - acc: 0.1811 - val_loss: 10.7241 - val_acc: 0.2000\n",
      "Epoch 22/50\n",
      " - 0s - loss: 10.7258 - acc: 0.1833 - val_loss: 10.7093 - val_acc: 0.2017\n",
      "Epoch 23/50\n",
      " - 0s - loss: 10.7091 - acc: 0.1870 - val_loss: 10.6948 - val_acc: 0.1983\n",
      "Epoch 24/50\n",
      " - 0s - loss: 10.6926 - acc: 0.1914 - val_loss: 10.6807 - val_acc: 0.1983\n",
      "Epoch 25/50\n",
      " - 0s - loss: 10.6767 - acc: 0.1922 - val_loss: 10.6665 - val_acc: 0.1948\n",
      "Epoch 26/50\n",
      " - 0s - loss: 10.6606 - acc: 0.1936 - val_loss: 10.6526 - val_acc: 0.1948\n",
      "Epoch 27/50\n",
      " - 0s - loss: 10.6450 - acc: 0.1936 - val_loss: 10.6389 - val_acc: 0.1948\n",
      "Epoch 28/50\n",
      " - 0s - loss: 10.6294 - acc: 0.1944 - val_loss: 10.6254 - val_acc: 0.1948\n",
      "Epoch 29/50\n",
      " - 0s - loss: 10.6141 - acc: 0.1959 - val_loss: 10.6122 - val_acc: 0.1931\n",
      "Epoch 30/50\n",
      " - 0s - loss: 10.5990 - acc: 0.1996 - val_loss: 10.5990 - val_acc: 0.1983\n",
      "Epoch 31/50\n",
      " - 0s - loss: 10.5841 - acc: 0.1973 - val_loss: 10.5859 - val_acc: 0.1983\n",
      "Epoch 32/50\n",
      " - 0s - loss: 10.5693 - acc: 0.1988 - val_loss: 10.5732 - val_acc: 0.1966\n",
      "Epoch 33/50\n",
      " - 0s - loss: 10.5549 - acc: 0.2003 - val_loss: 10.5606 - val_acc: 0.1983\n",
      "Epoch 34/50\n",
      " - 0s - loss: 10.5404 - acc: 0.1996 - val_loss: 10.5481 - val_acc: 0.1983\n",
      "Epoch 35/50\n",
      " - 0s - loss: 10.5263 - acc: 0.1988 - val_loss: 10.5360 - val_acc: 0.1983\n",
      "Restoring model weights from the end of the best epoch\n",
      "Epoch 00035: early stopping\n",
      "Saved model to disk\n"
     ]
    },
    {
     "name": "stderr",
     "output_type": "stream",
     "text": [
      "C:\\Anaconda\\lib\\site-packages\\ipykernel_launcher.py:8: UserWarning: Update your `Dense` call to the Keras 2 API: `Dense(activation=\"sigmoid\", input_dim=103, units=14)`\n",
      "  \n"
     ]
    },
    {
     "name": "stdout",
     "output_type": "stream",
     "text": [
      "Train on 1353 samples, validate on 581 samples\n",
      "Epoch 1/50\n",
      " - 2s - loss: 11.3195 - acc: 0.0739 - val_loss: 11.1962 - val_acc: 0.0843\n",
      "Epoch 2/50\n",
      " - 0s - loss: 11.2944 - acc: 0.0990 - val_loss: 11.1740 - val_acc: 0.1102\n",
      "Epoch 3/50\n",
      " - 0s - loss: 11.2700 - acc: 0.1264 - val_loss: 11.1529 - val_acc: 0.1274\n",
      "Epoch 4/50\n",
      " - 0s - loss: 11.2466 - acc: 0.1434 - val_loss: 11.1321 - val_acc: 0.1463\n",
      "Epoch 5/50\n",
      " - 0s - loss: 11.2238 - acc: 0.1508 - val_loss: 11.1117 - val_acc: 0.1446\n",
      "Epoch 6/50\n",
      " - 0s - loss: 11.2012 - acc: 0.1611 - val_loss: 11.0920 - val_acc: 0.1566\n",
      "Epoch 7/50\n",
      " - 0s - loss: 11.1794 - acc: 0.1766 - val_loss: 11.0726 - val_acc: 0.1687\n",
      "Epoch 8/50\n",
      " - 0s - loss: 11.1581 - acc: 0.1803 - val_loss: 11.0536 - val_acc: 0.1807\n",
      "Epoch 9/50\n",
      " - 0s - loss: 11.1371 - acc: 0.1811 - val_loss: 11.0350 - val_acc: 0.1876\n",
      "Epoch 10/50\n",
      " - 0s - loss: 11.1166 - acc: 0.1885 - val_loss: 11.0168 - val_acc: 0.1928\n",
      "Epoch 11/50\n",
      " - 0s - loss: 11.0966 - acc: 0.1922 - val_loss: 10.9990 - val_acc: 0.1945\n",
      "Epoch 12/50\n",
      " - 0s - loss: 11.0768 - acc: 0.1899 - val_loss: 10.9816 - val_acc: 0.1928\n",
      "Epoch 13/50\n",
      " - 0s - loss: 11.0576 - acc: 0.1936 - val_loss: 10.9646 - val_acc: 0.2065\n",
      "Epoch 14/50\n",
      " - 0s - loss: 11.0386 - acc: 0.1973 - val_loss: 10.9480 - val_acc: 0.2065\n",
      "Epoch 15/50\n",
      " - 0s - loss: 11.0203 - acc: 0.1973 - val_loss: 10.9316 - val_acc: 0.2100\n",
      "Epoch 16/50\n",
      " - 0s - loss: 11.0020 - acc: 0.2003 - val_loss: 10.9154 - val_acc: 0.2100\n",
      "Epoch 17/50\n",
      " - 0s - loss: 10.9841 - acc: 0.2025 - val_loss: 10.8994 - val_acc: 0.2083\n",
      "Epoch 18/50\n",
      " - 0s - loss: 10.9664 - acc: 0.2069 - val_loss: 10.8838 - val_acc: 0.2117\n",
      "Epoch 19/50\n",
      " - 0s - loss: 10.9492 - acc: 0.2099 - val_loss: 10.8683 - val_acc: 0.2169\n",
      "Epoch 20/50\n",
      " - 0s - loss: 10.9322 - acc: 0.2106 - val_loss: 10.8531 - val_acc: 0.2169\n",
      "Epoch 21/50\n",
      " - 0s - loss: 10.9153 - acc: 0.2099 - val_loss: 10.8383 - val_acc: 0.2117\n",
      "Epoch 22/50\n",
      " - 0s - loss: 10.8987 - acc: 0.2121 - val_loss: 10.8236 - val_acc: 0.2169\n",
      "Epoch 23/50\n",
      " - 0s - loss: 10.8824 - acc: 0.2129 - val_loss: 10.8092 - val_acc: 0.2134\n",
      "Epoch 24/50\n",
      " - 0s - loss: 10.8664 - acc: 0.2143 - val_loss: 10.7948 - val_acc: 0.2117\n",
      "Epoch 25/50\n",
      " - 0s - loss: 10.8507 - acc: 0.2158 - val_loss: 10.7805 - val_acc: 0.2100\n",
      "Epoch 26/50\n",
      " - 0s - loss: 10.8350 - acc: 0.2173 - val_loss: 10.7665 - val_acc: 0.2083\n",
      "Epoch 27/50\n",
      " - 0s - loss: 10.8196 - acc: 0.2180 - val_loss: 10.7527 - val_acc: 0.2065\n",
      "Epoch 28/50\n",
      " - 0s - loss: 10.8045 - acc: 0.2151 - val_loss: 10.7393 - val_acc: 0.2065\n",
      "Epoch 29/50\n",
      " - 0s - loss: 10.7895 - acc: 0.2114 - val_loss: 10.7261 - val_acc: 0.2065\n",
      "Epoch 30/50\n",
      " - 0s - loss: 10.7749 - acc: 0.2129 - val_loss: 10.7130 - val_acc: 0.2065\n",
      "Epoch 31/50\n",
      " - 0s - loss: 10.7605 - acc: 0.2129 - val_loss: 10.7000 - val_acc: 0.2014\n",
      "Epoch 32/50\n",
      " - 0s - loss: 10.7460 - acc: 0.2136 - val_loss: 10.6873 - val_acc: 0.1997\n",
      "Epoch 33/50\n",
      " - 0s - loss: 10.7320 - acc: 0.2151 - val_loss: 10.6749 - val_acc: 0.1997\n",
      "Epoch 34/50\n",
      " - 0s - loss: 10.7179 - acc: 0.2158 - val_loss: 10.6625 - val_acc: 0.2014\n",
      "Restoring model weights from the end of the best epoch\n",
      "Epoch 00034: early stopping\n",
      "Saved model to disk\n"
     ]
    },
    {
     "name": "stderr",
     "output_type": "stream",
     "text": [
      "C:\\Anaconda\\lib\\site-packages\\ipykernel_launcher.py:8: UserWarning: Update your `Dense` call to the Keras 2 API: `Dense(activation=\"sigmoid\", input_dim=103, units=14)`\n",
      "  \n"
     ]
    },
    {
     "name": "stdout",
     "output_type": "stream",
     "text": [
      "Train on 1353 samples, validate on 581 samples\n",
      "Epoch 1/50\n",
      " - 2s - loss: 11.1617 - acc: 0.1101 - val_loss: 11.2149 - val_acc: 0.1256\n",
      "Epoch 2/50\n",
      " - 0s - loss: 11.1353 - acc: 0.1375 - val_loss: 11.1927 - val_acc: 0.1446\n",
      "Epoch 3/50\n",
      " - 0s - loss: 11.1112 - acc: 0.1537 - val_loss: 11.1709 - val_acc: 0.1515\n",
      "Epoch 4/50\n",
      " - 0s - loss: 11.0874 - acc: 0.1678 - val_loss: 11.1500 - val_acc: 0.1652\n",
      "Epoch 5/50\n",
      " - 0s - loss: 11.0636 - acc: 0.1781 - val_loss: 11.1296 - val_acc: 0.1824\n",
      "Epoch 6/50\n",
      " - 0s - loss: 11.0411 - acc: 0.1936 - val_loss: 11.1096 - val_acc: 0.1876\n",
      "Epoch 7/50\n",
      " - 0s - loss: 11.0192 - acc: 0.2003 - val_loss: 11.0901 - val_acc: 0.2014\n",
      "Epoch 8/50\n",
      " - 0s - loss: 10.9975 - acc: 0.2151 - val_loss: 11.0710 - val_acc: 0.2186\n",
      "Epoch 9/50\n",
      " - 0s - loss: 10.9763 - acc: 0.2210 - val_loss: 11.0524 - val_acc: 0.2289\n",
      "Epoch 10/50\n",
      " - 0s - loss: 10.9557 - acc: 0.2203 - val_loss: 11.0340 - val_acc: 0.2324\n",
      "Epoch 11/50\n",
      " - 0s - loss: 10.9355 - acc: 0.2306 - val_loss: 11.0161 - val_acc: 0.2324\n",
      "Epoch 12/50\n",
      " - 0s - loss: 10.9158 - acc: 0.2373 - val_loss: 10.9986 - val_acc: 0.2238\n",
      "Epoch 13/50\n",
      " - 0s - loss: 10.8963 - acc: 0.2454 - val_loss: 10.9815 - val_acc: 0.2272\n",
      "Epoch 14/50\n",
      " - 0s - loss: 10.8776 - acc: 0.2498 - val_loss: 10.9644 - val_acc: 0.2255\n",
      "Epoch 15/50\n",
      " - 0s - loss: 10.8586 - acc: 0.2520 - val_loss: 10.9478 - val_acc: 0.2255\n",
      "Epoch 16/50\n",
      " - 0s - loss: 10.8405 - acc: 0.2542 - val_loss: 10.9314 - val_acc: 0.2341\n",
      "Epoch 17/50\n",
      " - 0s - loss: 10.8223 - acc: 0.2528 - val_loss: 10.9155 - val_acc: 0.2324\n",
      "Epoch 18/50\n",
      " - 0s - loss: 10.8046 - acc: 0.2550 - val_loss: 10.8998 - val_acc: 0.2341\n",
      "Epoch 19/50\n",
      " - 0s - loss: 10.7873 - acc: 0.2557 - val_loss: 10.8839 - val_acc: 0.2289\n",
      "Epoch 20/50\n",
      " - 0s - loss: 10.7699 - acc: 0.2550 - val_loss: 10.8687 - val_acc: 0.2272\n",
      "Epoch 21/50\n",
      " - 0s - loss: 10.7529 - acc: 0.2506 - val_loss: 10.8538 - val_acc: 0.2255\n",
      "Epoch 22/50\n",
      " - 0s - loss: 10.7365 - acc: 0.2513 - val_loss: 10.8387 - val_acc: 0.2255\n",
      "Epoch 23/50\n",
      " - 0s - loss: 10.7200 - acc: 0.2476 - val_loss: 10.8241 - val_acc: 0.2255\n",
      "Epoch 24/50\n",
      " - 0s - loss: 10.7038 - acc: 0.2461 - val_loss: 10.8097 - val_acc: 0.2272\n",
      "Epoch 25/50\n",
      " - 0s - loss: 10.6880 - acc: 0.2454 - val_loss: 10.7953 - val_acc: 0.2272\n",
      "Epoch 26/50\n",
      " - 0s - loss: 10.6721 - acc: 0.2454 - val_loss: 10.7813 - val_acc: 0.2255\n",
      "Epoch 27/50\n",
      " - 0s - loss: 10.6564 - acc: 0.2454 - val_loss: 10.7674 - val_acc: 0.2238\n",
      "Epoch 28/50\n",
      " - 0s - loss: 10.6413 - acc: 0.2446 - val_loss: 10.7537 - val_acc: 0.2238\n",
      "Epoch 29/50\n",
      " - 0s - loss: 10.6261 - acc: 0.2446 - val_loss: 10.7404 - val_acc: 0.2238\n",
      "Epoch 30/50\n",
      " - 0s - loss: 10.6111 - acc: 0.2454 - val_loss: 10.7272 - val_acc: 0.2220\n",
      "Epoch 31/50\n",
      " - 0s - loss: 10.5968 - acc: 0.2432 - val_loss: 10.7142 - val_acc: 0.2203\n",
      "Restoring model weights from the end of the best epoch\n",
      "Epoch 00031: early stopping\n",
      "Saved model to disk\n"
     ]
    },
    {
     "name": "stderr",
     "output_type": "stream",
     "text": [
      "C:\\Anaconda\\lib\\site-packages\\ipykernel_launcher.py:8: UserWarning: Update your `Dense` call to the Keras 2 API: `Dense(activation=\"sigmoid\", input_dim=103, units=14)`\n",
      "  \n"
     ]
    },
    {
     "name": "stdout",
     "output_type": "stream",
     "text": [
      "Train on 1353 samples, validate on 581 samples\n",
      "Epoch 1/50\n",
      " - 2s - loss: 11.2100 - acc: 0.0865 - val_loss: 10.9533 - val_acc: 0.1050\n",
      "Epoch 2/50\n",
      " - 0s - loss: 11.1823 - acc: 0.1005 - val_loss: 10.9284 - val_acc: 0.1119\n",
      "Epoch 3/50\n",
      " - 0s - loss: 11.1564 - acc: 0.1094 - val_loss: 10.9042 - val_acc: 0.1222\n",
      "Epoch 4/50\n",
      " - 0s - loss: 11.1309 - acc: 0.1197 - val_loss: 10.8810 - val_acc: 0.1274\n",
      "Epoch 5/50\n",
      " - 0s - loss: 11.1061 - acc: 0.1375 - val_loss: 10.8581 - val_acc: 0.1377\n",
      "Epoch 6/50\n",
      " - 0s - loss: 11.0822 - acc: 0.1471 - val_loss: 10.8359 - val_acc: 0.1429\n",
      "Epoch 7/50\n",
      " - 0s - loss: 11.0589 - acc: 0.1508 - val_loss: 10.8142 - val_acc: 0.1549\n",
      "Epoch 8/50\n",
      " - 0s - loss: 11.0359 - acc: 0.1626 - val_loss: 10.7932 - val_acc: 0.1670\n",
      "Epoch 9/50\n",
      " - 0s - loss: 11.0139 - acc: 0.1744 - val_loss: 10.7727 - val_acc: 0.1756\n",
      "Epoch 10/50\n",
      " - 0s - loss: 10.9921 - acc: 0.1863 - val_loss: 10.7526 - val_acc: 0.1738\n",
      "Epoch 11/50\n",
      " - 0s - loss: 10.9707 - acc: 0.1922 - val_loss: 10.7328 - val_acc: 0.1842\n",
      "Epoch 12/50\n",
      " - 0s - loss: 10.9496 - acc: 0.1951 - val_loss: 10.7139 - val_acc: 0.1876\n",
      "Epoch 13/50\n",
      " - 0s - loss: 10.9295 - acc: 0.2025 - val_loss: 10.6951 - val_acc: 0.1928\n",
      "Epoch 14/50\n",
      " - 0s - loss: 10.9092 - acc: 0.2084 - val_loss: 10.6770 - val_acc: 0.1945\n",
      "Epoch 15/50\n",
      " - 0s - loss: 10.8900 - acc: 0.2106 - val_loss: 10.6586 - val_acc: 0.1997\n",
      "Epoch 16/50\n",
      " - 0s - loss: 10.8704 - acc: 0.2166 - val_loss: 10.6411 - val_acc: 0.2083\n",
      "Epoch 17/50\n",
      " - 0s - loss: 10.8517 - acc: 0.2158 - val_loss: 10.6235 - val_acc: 0.2065\n",
      "Epoch 18/50\n",
      " - 0s - loss: 10.8332 - acc: 0.2143 - val_loss: 10.6066 - val_acc: 0.2031\n",
      "Epoch 19/50\n",
      " - 0s - loss: 10.8148 - acc: 0.2158 - val_loss: 10.5898 - val_acc: 0.2014\n",
      "Epoch 20/50\n",
      " - 0s - loss: 10.7967 - acc: 0.2217 - val_loss: 10.5735 - val_acc: 0.1997\n",
      "Epoch 21/50\n",
      " - 0s - loss: 10.7792 - acc: 0.2225 - val_loss: 10.5574 - val_acc: 0.2083\n",
      "Epoch 22/50\n",
      " - 0s - loss: 10.7619 - acc: 0.2269 - val_loss: 10.5414 - val_acc: 0.2083\n",
      "Epoch 23/50\n",
      " - 0s - loss: 10.7446 - acc: 0.2306 - val_loss: 10.5258 - val_acc: 0.2065\n",
      "Epoch 24/50\n",
      " - 0s - loss: 10.7280 - acc: 0.2291 - val_loss: 10.5105 - val_acc: 0.2065\n",
      "Epoch 25/50\n",
      " - 0s - loss: 10.7116 - acc: 0.2291 - val_loss: 10.4953 - val_acc: 0.2065\n",
      "Epoch 26/50\n",
      " - 0s - loss: 10.6950 - acc: 0.2262 - val_loss: 10.4807 - val_acc: 0.2048\n",
      "Epoch 27/50\n",
      " - 0s - loss: 10.6793 - acc: 0.2217 - val_loss: 10.4659 - val_acc: 0.2151\n",
      "Epoch 28/50\n",
      " - 0s - loss: 10.6635 - acc: 0.2217 - val_loss: 10.4515 - val_acc: 0.2117\n",
      "Epoch 29/50\n",
      " - 0s - loss: 10.6478 - acc: 0.2225 - val_loss: 10.4374 - val_acc: 0.2134\n",
      "Epoch 30/50\n",
      " - 0s - loss: 10.6325 - acc: 0.2217 - val_loss: 10.4231 - val_acc: 0.2134\n",
      "Epoch 31/50\n",
      " - 0s - loss: 10.6172 - acc: 0.2195 - val_loss: 10.4093 - val_acc: 0.2117\n",
      "Epoch 32/50\n",
      " - 0s - loss: 10.6024 - acc: 0.2173 - val_loss: 10.3956 - val_acc: 0.2151\n",
      "Epoch 33/50\n",
      " - 0s - loss: 10.5874 - acc: 0.2166 - val_loss: 10.3824 - val_acc: 0.2151\n",
      "Epoch 34/50\n",
      " - 0s - loss: 10.5731 - acc: 0.2173 - val_loss: 10.3689 - val_acc: 0.2151\n",
      "Epoch 35/50\n",
      " - 0s - loss: 10.5588 - acc: 0.2166 - val_loss: 10.3557 - val_acc: 0.2169\n",
      "Epoch 36/50\n",
      " - 0s - loss: 10.5446 - acc: 0.2151 - val_loss: 10.3429 - val_acc: 0.2151\n",
      "Epoch 37/50\n",
      " - 0s - loss: 10.5305 - acc: 0.2143 - val_loss: 10.3303 - val_acc: 0.2151\n",
      "Epoch 38/50\n",
      " - 0s - loss: 10.5170 - acc: 0.2143 - val_loss: 10.3178 - val_acc: 0.2134\n",
      "Epoch 39/50\n",
      " - 0s - loss: 10.5034 - acc: 0.2136 - val_loss: 10.3055 - val_acc: 0.2134\n",
      "Epoch 40/50\n",
      " - 0s - loss: 10.4901 - acc: 0.2129 - val_loss: 10.2934 - val_acc: 0.2134\n",
      "Epoch 41/50\n",
      " - 0s - loss: 10.4768 - acc: 0.2114 - val_loss: 10.2815 - val_acc: 0.2134\n",
      "Epoch 42/50\n",
      " - 0s - loss: 10.4639 - acc: 0.2092 - val_loss: 10.2698 - val_acc: 0.2134\n",
      "Epoch 43/50\n",
      " - 0s - loss: 10.4510 - acc: 0.2092 - val_loss: 10.2582 - val_acc: 0.2134\n",
      "Epoch 44/50\n",
      " - 0s - loss: 10.4385 - acc: 0.2099 - val_loss: 10.2467 - val_acc: 0.2117\n",
      "Epoch 45/50\n",
      " - 0s - loss: 10.4259 - acc: 0.2092 - val_loss: 10.2356 - val_acc: 0.2100\n",
      "Epoch 46/50\n",
      " - 0s - loss: 10.4137 - acc: 0.2099 - val_loss: 10.2245 - val_acc: 0.2100\n",
      "Epoch 47/50\n",
      " - 0s - loss: 10.4018 - acc: 0.2069 - val_loss: 10.2136 - val_acc: 0.2083\n",
      "Epoch 48/50\n",
      " - 0s - loss: 10.3897 - acc: 0.2062 - val_loss: 10.2028 - val_acc: 0.2117\n",
      "Epoch 49/50\n",
      " - 0s - loss: 10.3781 - acc: 0.2069 - val_loss: 10.1923 - val_acc: 0.2100\n",
      "Epoch 50/50\n",
      " - 0s - loss: 10.3664 - acc: 0.2062 - val_loss: 10.1818 - val_acc: 0.2100\n",
      "Restoring model weights from the end of the best epoch\n",
      "Epoch 00050: early stopping\n",
      "Saved model to disk\n"
     ]
    }
   ],
   "source": [
    "threshold = 0.5\n",
    "n_split = 0\n",
    "results = []\n",
    "path = \"models/simple_keras_logit/\" \n",
    "\n",
    "for train, test in skv.split(df,y):\n",
    "    n_split +=1\n",
    "    #print(\"%s %s\" % (train.shape, test.shape))   \n",
    "    X_val, y_val = df.iloc[train], y.iloc[train]\n",
    "    model = create_model(X_val, y_val, n_split, path)\n",
    "\n",
    "    y_pred_test = model.predict(X_val)\n",
    "    y_pred_test[y_pred_test>=threshold] = 1\n",
    "    y_pred_test[y_pred_test<threshold] = 0\n",
    "    \n",
    "    results.append([n_split,f1_score(y_val,y_pred_test,average='micro')])\n",
    "\n",
    "    #print('Classification report\\n')\n",
    "    #print(classification_report(y_val, y_pred_test))  "
   ]
  },
  {
   "cell_type": "code",
   "execution_count": 118,
   "metadata": {},
   "outputs": [
    {
     "data": {
      "text/plain": [
       "{1: 0.61671203328026292,\n",
       " 2: 0.60004119040263626,\n",
       " 3: 0.60321471896482004,\n",
       " 4: 0.57175443816324512,\n",
       " 5: 0.62570577969407659}"
      ]
     },
     "execution_count": 118,
     "metadata": {},
     "output_type": "execute_result"
    }
   ],
   "source": [
    "results"
   ]
  },
  {
   "cell_type": "code",
   "execution_count": 119,
   "metadata": {},
   "outputs": [
    {
     "data": {
      "text/plain": [
       "5"
      ]
     },
     "execution_count": 119,
     "metadata": {},
     "output_type": "execute_result"
    }
   ],
   "source": [
    "results = dict(results)\n",
    "top_model = max(results.items(), key=operator.itemgetter(1))[0]\n",
    "top_model"
   ]
  },
  {
   "cell_type": "code",
   "execution_count": 120,
   "metadata": {},
   "outputs": [
    {
     "name": "stdout",
     "output_type": "stream",
     "text": [
      "Loaded model from disk\n"
     ]
    }
   ],
   "source": [
    "# load json and create model\n",
    "json_file = open(path +\"model_\" + str(top_model) + \".json\", 'r')\n",
    "loaded_model_json = json_file.read()\n",
    "json_file.close()\n",
    "loaded_model = model_from_json(loaded_model_json)\n",
    "# load weights into new model\n",
    "loaded_model.load_weights(path +\"model_\" + str(top_model) + \".h5\")\n",
    "print(\"Loaded model from disk\")\n",
    "\n",
    "#load history\n",
    "json_file = open(path +\"history_\" + str(top_model) + \".json\", 'r')\n",
    "loaded_history_json = json.load(json_file)\n",
    "json_file.close()"
   ]
  },
  {
   "cell_type": "code",
   "execution_count": 121,
   "metadata": {},
   "outputs": [
    {
     "name": "stdout",
     "output_type": "stream",
     "text": [
      "Classification report\n",
      "\n",
      "              precision    recall  f1-score   support\n",
      "\n",
      "           0       0.54      0.67      0.60       236\n",
      "           1       0.48      0.88      0.62       304\n",
      "           2       0.48      0.88      0.62       276\n",
      "           3       0.52      0.80      0.63       257\n",
      "           4       0.54      0.55      0.54       245\n",
      "           5       0.48      0.46      0.47       197\n",
      "           6       0.28      0.31      0.29       136\n",
      "           7       0.30      0.36      0.32       149\n",
      "           8       0.09      0.14      0.11        63\n",
      "           9       0.18      0.37      0.24        76\n",
      "          10       0.18      0.28      0.22        78\n",
      "          11       0.77      0.97      0.86       552\n",
      "          12       0.76      0.97      0.86       546\n",
      "          13       0.03      0.18      0.05        11\n",
      "\n",
      "   micro avg       0.53      0.74      0.62      3126\n",
      "   macro avg       0.40      0.56      0.46      3126\n",
      "weighted avg       0.55      0.74      0.63      3126\n",
      " samples avg       0.57      0.76      0.62      3126\n",
      "\n"
     ]
    }
   ],
   "source": [
    "y_predicted_scores = loaded_model.predict(x_test)\n",
    "y_predicted_scores[y_predicted_scores>=0.5] = 1\n",
    "y_predicted_scores[y_predicted_scores<0.5] = 0\n",
    "\n",
    "print('Classification report\\n')\n",
    "print(classification_report(y_test, y_predicted_scores))"
   ]
  },
  {
   "cell_type": "markdown",
   "metadata": {},
   "source": [
    "Plot resutls."
   ]
  },
  {
   "cell_type": "code",
   "execution_count": 110,
   "metadata": {},
   "outputs": [
    {
     "data": {
      "image/png": "[encoded data removed]",
      "text/plain": [
       "<Figure size 432x288 with 1 Axes>"
      ]
     },
     "metadata": {
      "needs_background": "light"
     },
     "output_type": "display_data"
    }
   ],
   "source": [
    "plt.plot(loaded_history_json['val_loss'], \n",
    "         label='loss train')\n",
    "plt.plot(loaded_history_json['loss'], \n",
    "         label='loss test')\n",
    "plt.xlabel('Эпоха обучения')\n",
    "plt.ylabel('Loss')\n",
    "plt.legend()\n",
    "plt.show()"
   ]
  },
  {
   "cell_type": "code",
   "execution_count": 111,
   "metadata": {},
   "outputs": [
    {
     "data": {
      "image/png": "[encoded data removed]",
      "text/plain": [
       "<Figure size 432x288 with 1 Axes>"
      ]
     },
     "metadata": {
      "needs_background": "light"
     },
     "output_type": "display_data"
    }
   ],
   "source": [
    "plt.plot(loaded_history_json['acc'], \n",
    "         label='Доля верных ответов на обучающем наборе')\n",
    "plt.plot(loaded_history_json['val_acc'], \n",
    "         label='Доля верных ответов на проверочном наборе')\n",
    "plt.xlabel('Эпоха обучения')\n",
    "plt.ylabel('Доля верных ответов')\n",
    "plt.legend()\n",
    "plt.show()"
   ]
  },
  {
   "cell_type": "markdown",
   "metadata": {},
   "source": [
    "Вывод: наилучший скор в данной модели 0.62, который совпал со скором в tensorflow модели. "
   ]
  },
  {
   "cell_type": "markdown",
   "metadata": {},
   "source": [
    "V2"
   ]
  },
  {
   "cell_type": "code",
   "execution_count": 37,
   "metadata": {},
   "outputs": [],
   "source": [
    "#temporaly disabled due to move notebook to colab\n",
    "#block code for model visualisation and save to png\n",
    "'''\n",
    "import pydot_ng as pydot\n",
    "import graphviz\n",
    "import pydotplus\n",
    "from IPython.display import SVG\n",
    "from keras.utils import model_to_dot\n",
    "import matplotlib.image as mpimg\n",
    "\n",
    "from keras.utils import plot_model as pmd\n",
    "pmd(model,to_file='model.png' ,show_shapes = True)\n",
    "img = mpimg.imread('model.png')\n",
    "plt.figure(figsize=(20, 10)) \n",
    "plt.imshow(img)\n",
    "plt.show()\n",
    "''';"
   ]
  },
  {
   "cell_type": "markdown",
   "metadata": {},
   "source": [
    "Внесем в сеть следующие изменения:\n",
    "- добавим Dropout, чтобы побороться с переобучением\n",
    "- несколько дополнительных слоев."
   ]
  },
  {
   "cell_type": "code",
   "execution_count": 90,
   "metadata": {},
   "outputs": [],
   "source": [
    "# Define paramaters for the model\n",
    "batch_size = 128\n",
    "n_epochs = 30\n",
    "\n",
    "K.clear_session()"
   ]
  },
  {
   "cell_type": "code",
   "execution_count": 91,
   "metadata": {},
   "outputs": [],
   "source": [
    "def create_model_imp(df, y, n_split, path):\n",
    "    \n",
    "    \n",
    "    x_train, x_test, y_train, y_test = train_test_split(df, y, random_state = seed, test_size=0.3, \n",
    "                                                        shuffle=True)\n",
    "    \n",
    "    input_dim = x_train.shape[1]\n",
    "    output_dim = y_train.shape[1]\n",
    "    \n",
    "    model = Sequential()\n",
    "    # test\n",
    "    model.add(Dense(input_dim= input_dim, units = 5000, activation='relu')) #units as output dim\n",
    "    model.add(Dropout(0.1))\n",
    "    model.add(Dense(input_dim = 5000, units = 2500, activation=\"relu\"))\n",
    "    model.add(Dropout(0.1))\n",
    "    model.add(Dropout(0.1))\n",
    "    model.add(Dense(input_dim = 1000, units = 1600, activation='relu'))\n",
    "    model.add(Dropout(0.2))\n",
    "    # end test\n",
    "    model.add(Dense(input_dim = 1600, units=14, activation='sigmoid'))\n",
    "    \n",
    "    model.compile(optimizer = 'adam', loss = 'binary_crossentropy', metrics=['accuracy'])\n",
    "    \n",
    "    earlyStopping = EarlyStopping(monitor='val_acc', patience=5, verbose=2, mode='max',\n",
    "                                  restore_best_weights=True,min_delta=0.001)\n",
    "    \n",
    "    history_model = model.fit(x_train, y_train,                   \n",
    "                              batch_size=batch_size, \n",
    "                              epochs=n_epochs, \n",
    "                              validation_data = (x_test, y_test), \n",
    "                              verbose = 2,\n",
    "                              callbacks=[earlyStopping])\n",
    "    \n",
    "    # serialize model to JSON\n",
    "    model_json = model.to_json()\n",
    "    with open(path + \"df_model_\" + str(n_split) + \".json\", \"w\") as json_file:\n",
    "        json_file.write(model_json)\n",
    "        \n",
    "    with open(path + \"df_history_\" + str(n_split) + \".json\", 'w') as f:\n",
    "        json.dump(history_model.history, f)\n",
    "    \n",
    "    # serialize weights to HDF5\n",
    "    model.save_weights(path + \"df_model_\" + str(n_split) + \".h5\")\n",
    "    print(\"Saved model to disk\")\n",
    "    \n",
    "    return model"
   ]
  },
  {
   "cell_type": "code",
   "execution_count": 92,
   "metadata": {
    "scrolled": true
   },
   "outputs": [
    {
     "name": "stderr",
     "output_type": "stream",
     "text": [
      "Exception ignored in: <bound method BaseSession._Callable.__del__ of <tensorflow.python.client.session.BaseSession._Callable object at 0x0000018085AE1EB8>>\n",
      "Traceback (most recent call last):\n",
      "  File \"C:\\Anaconda\\lib\\site-packages\\tensorflow\\python\\client\\session.py\", line 1455, in __del__\n",
      "    self._session._session, self._handle, status)\n",
      "  File \"C:\\Anaconda\\lib\\site-packages\\tensorflow\\python\\framework\\errors_impl.py\", line 528, in __exit__\n",
      "    c_api.TF_GetCode(self.status.status))\n",
      "tensorflow.python.framework.errors_impl.InvalidArgumentError: No such callable handle: 1651529351240\n",
      "Exception ignored in: <bound method BaseSession._Callable.__del__ of <tensorflow.python.client.session.BaseSession._Callable object at 0x0000018083074898>>\n",
      "Traceback (most recent call last):\n",
      "  File \"C:\\Anaconda\\lib\\site-packages\\tensorflow\\python\\client\\session.py\", line 1455, in __del__\n",
      "    self._session._session, self._handle, status)\n",
      "  File \"C:\\Anaconda\\lib\\site-packages\\tensorflow\\python\\framework\\errors_impl.py\", line 528, in __exit__\n",
      "    c_api.TF_GetCode(self.status.status))\n",
      "tensorflow.python.framework.errors_impl.InvalidArgumentError: No such callable handle: 1651529351240\n",
      "Exception ignored in: <bound method BaseSession._Callable.__del__ of <tensorflow.python.client.session.BaseSession._Callable object at 0x00000180867290F0>>\n",
      "Traceback (most recent call last):\n",
      "  File \"C:\\Anaconda\\lib\\site-packages\\tensorflow\\python\\client\\session.py\", line 1455, in __del__\n",
      "    self._session._session, self._handle, status)\n",
      "  File \"C:\\Anaconda\\lib\\site-packages\\tensorflow\\python\\framework\\errors_impl.py\", line 528, in __exit__\n",
      "    c_api.TF_GetCode(self.status.status))\n",
      "tensorflow.python.framework.errors_impl.InvalidArgumentError: No such callable handle: 1651529351240\n",
      "Exception ignored in: <bound method BaseSession._Callable.__del__ of <tensorflow.python.client.session.BaseSession._Callable object at 0x00000180F247D198>>\n",
      "Traceback (most recent call last):\n",
      "  File \"C:\\Anaconda\\lib\\site-packages\\tensorflow\\python\\client\\session.py\", line 1455, in __del__\n",
      "    self._session._session, self._handle, status)\n",
      "  File \"C:\\Anaconda\\lib\\site-packages\\tensorflow\\python\\framework\\errors_impl.py\", line 528, in __exit__\n",
      "    c_api.TF_GetCode(self.status.status))\n",
      "tensorflow.python.framework.errors_impl.InvalidArgumentError: No such callable handle: 1651529351240\n",
      "Exception ignored in: <bound method BaseSession._Callable.__del__ of <tensorflow.python.client.session.BaseSession._Callable object at 0x00000180F2DFC7B8>>\n",
      "Traceback (most recent call last):\n",
      "  File \"C:\\Anaconda\\lib\\site-packages\\tensorflow\\python\\client\\session.py\", line 1455, in __del__\n",
      "    self._session._session, self._handle, status)\n",
      "  File \"C:\\Anaconda\\lib\\site-packages\\tensorflow\\python\\framework\\errors_impl.py\", line 528, in __exit__\n",
      "    c_api.TF_GetCode(self.status.status))\n",
      "tensorflow.python.framework.errors_impl.InvalidArgumentError: No such callable handle: 1651529351240\n"
     ]
    },
    {
     "name": "stdout",
     "output_type": "stream",
     "text": [
      "Train on 1353 samples, validate on 580 samples\n",
      "Epoch 1/50\n",
      " - 9s - loss: 0.5378 - acc: 0.7358 - val_loss: 0.4728 - val_acc: 0.7818\n",
      "Epoch 2/50\n",
      " - 7s - loss: 0.4592 - acc: 0.7898 - val_loss: 0.4461 - val_acc: 0.7969\n",
      "Epoch 3/50\n",
      " - 7s - loss: 0.4276 - acc: 0.8076 - val_loss: 0.4375 - val_acc: 0.8004\n",
      "Epoch 4/50\n",
      " - 7s - loss: 0.4005 - acc: 0.8175 - val_loss: 0.4266 - val_acc: 0.8071\n",
      "Epoch 5/50\n",
      " - 8s - loss: 0.3691 - acc: 0.8325 - val_loss: 0.4339 - val_acc: 0.8060\n",
      "Epoch 6/50\n",
      " - 9s - loss: 0.3331 - acc: 0.8541 - val_loss: 0.4602 - val_acc: 0.8038\n",
      "Epoch 7/50\n",
      " - 9s - loss: 0.2891 - acc: 0.8769 - val_loss: 0.4832 - val_acc: 0.7975\n",
      "Epoch 8/50\n",
      " - 8s - loss: 0.2409 - acc: 0.9027 - val_loss: 0.5199 - val_acc: 0.7994\n",
      "Epoch 9/50\n",
      " - 8s - loss: 0.1966 - acc: 0.9208 - val_loss: 0.5667 - val_acc: 0.7990\n",
      "Epoch 10/50\n",
      " - 7s - loss: 0.1567 - acc: 0.9403 - val_loss: 0.6260 - val_acc: 0.7890\n",
      "Restoring model weights from the end of the best epoch\n",
      "Epoch 00010: early stopping\n",
      "Saved model to disk\n",
      "Train on 1353 samples, validate on 580 samples\n",
      "Epoch 1/50\n",
      " - 8s - loss: 0.5395 - acc: 0.7448 - val_loss: 0.4828 - val_acc: 0.7749\n",
      "Epoch 2/50\n",
      " - 7s - loss: 0.4576 - acc: 0.7905 - val_loss: 0.4533 - val_acc: 0.7983\n",
      "Epoch 3/50\n",
      " - 7s - loss: 0.4271 - acc: 0.8060 - val_loss: 0.4461 - val_acc: 0.8009\n",
      "Epoch 4/50\n",
      " - 7s - loss: 0.4013 - acc: 0.8186 - val_loss: 0.4369 - val_acc: 0.8002\n",
      "Epoch 5/50\n",
      " - 7s - loss: 0.3668 - acc: 0.8349 - val_loss: 0.4425 - val_acc: 0.7973\n",
      "Epoch 6/50\n",
      " - 8s - loss: 0.3319 - acc: 0.8532 - val_loss: 0.4581 - val_acc: 0.7975\n",
      "Epoch 7/50\n",
      " - 8s - loss: 0.2922 - acc: 0.8763 - val_loss: 0.4878 - val_acc: 0.7899\n",
      "Epoch 8/50\n",
      " - 7s - loss: 0.2523 - acc: 0.8964 - val_loss: 0.5020 - val_acc: 0.7863\n",
      "Epoch 9/50\n",
      " - 7s - loss: 0.2085 - acc: 0.9171 - val_loss: 0.5694 - val_acc: 0.7819\n",
      "Restoring model weights from the end of the best epoch\n",
      "Epoch 00009: early stopping\n",
      "Saved model to disk\n",
      "Train on 1353 samples, validate on 581 samples\n",
      "Epoch 1/50\n",
      " - 9s - loss: 0.5389 - acc: 0.7451 - val_loss: 0.4697 - val_acc: 0.7845\n",
      "Epoch 2/50\n",
      " - 9s - loss: 0.4556 - acc: 0.7907 - val_loss: 0.4505 - val_acc: 0.8006\n",
      "Epoch 3/50\n",
      " - 7s - loss: 0.4242 - acc: 0.8073 - val_loss: 0.4359 - val_acc: 0.8013\n",
      "Epoch 4/50\n",
      " - 8s - loss: 0.3964 - acc: 0.8177 - val_loss: 0.4371 - val_acc: 0.8029\n",
      "Epoch 5/50\n",
      " - 8s - loss: 0.3623 - acc: 0.8357 - val_loss: 0.4468 - val_acc: 0.8015\n",
      "Epoch 6/50\n",
      " - 10s - loss: 0.3233 - acc: 0.8593 - val_loss: 0.4572 - val_acc: 0.7997\n",
      "Epoch 7/50\n",
      " - 7s - loss: 0.2845 - acc: 0.8792 - val_loss: 0.4953 - val_acc: 0.7910\n",
      "Epoch 8/50\n",
      " - 8s - loss: 0.2406 - acc: 0.8995 - val_loss: 0.5226 - val_acc: 0.7926\n",
      "Epoch 9/50\n",
      " - 7s - loss: 0.2009 - acc: 0.9191 - val_loss: 0.5618 - val_acc: 0.7893\n",
      "Epoch 10/50\n",
      " - 8s - loss: 0.1625 - acc: 0.9368 - val_loss: 0.6171 - val_acc: 0.7879\n",
      "Restoring model weights from the end of the best epoch\n",
      "Epoch 00010: early stopping\n",
      "Saved model to disk\n",
      "Train on 1353 samples, validate on 581 samples\n",
      "Epoch 1/50\n",
      " - 9s - loss: 0.5357 - acc: 0.7407 - val_loss: 0.4768 - val_acc: 0.7821\n",
      "Epoch 2/50\n",
      " - 7s - loss: 0.4525 - acc: 0.7885 - val_loss: 0.4506 - val_acc: 0.7958\n",
      "Epoch 3/50\n",
      " - 7s - loss: 0.4220 - acc: 0.8076 - val_loss: 0.4362 - val_acc: 0.8081\n",
      "Epoch 4/50\n",
      " - 7s - loss: 0.3939 - acc: 0.8235 - val_loss: 0.4340 - val_acc: 0.8075\n",
      "Epoch 5/50\n",
      " - 7s - loss: 0.3677 - acc: 0.8348 - val_loss: 0.4420 - val_acc: 0.8037\n",
      "Epoch 6/50\n",
      " - 7s - loss: 0.3334 - acc: 0.8546 - val_loss: 0.4450 - val_acc: 0.8046\n",
      "Epoch 7/50\n",
      " - 7s - loss: 0.2898 - acc: 0.8755 - val_loss: 0.4623 - val_acc: 0.8037\n",
      "Epoch 8/50\n",
      " - 7s - loss: 0.2439 - acc: 0.9007 - val_loss: 0.5111 - val_acc: 0.7967\n",
      "Epoch 9/50\n",
      " - 8s - loss: 0.1993 - acc: 0.9172 - val_loss: 0.5409 - val_acc: 0.7937\n",
      "Restoring model weights from the end of the best epoch\n",
      "Epoch 00009: early stopping\n",
      "Saved model to disk\n",
      "Train on 1353 samples, validate on 581 samples\n",
      "Epoch 1/50\n",
      " - 9s - loss: 0.5338 - acc: 0.7407 - val_loss: 0.4675 - val_acc: 0.7867\n",
      "Epoch 2/50\n",
      " - 7s - loss: 0.4513 - acc: 0.7920 - val_loss: 0.4344 - val_acc: 0.8046\n",
      "Epoch 3/50\n",
      " - 8s - loss: 0.4211 - acc: 0.8080 - val_loss: 0.4219 - val_acc: 0.8126\n",
      "Epoch 4/50\n",
      " - 7s - loss: 0.3927 - acc: 0.8199 - val_loss: 0.4197 - val_acc: 0.8133\n",
      "Epoch 5/50\n",
      " - 8s - loss: 0.3627 - acc: 0.8367 - val_loss: 0.4200 - val_acc: 0.8164\n",
      "Epoch 6/50\n",
      " - 7s - loss: 0.3241 - acc: 0.8597 - val_loss: 0.4436 - val_acc: 0.8048\n",
      "Epoch 7/50\n",
      " - 7s - loss: 0.2895 - acc: 0.8753 - val_loss: 0.4659 - val_acc: 0.8018\n",
      "Epoch 8/50\n",
      " - 7s - loss: 0.2470 - acc: 0.8986 - val_loss: 0.5131 - val_acc: 0.8003\n",
      "Epoch 9/50\n",
      " - 7s - loss: 0.2015 - acc: 0.9203 - val_loss: 0.5343 - val_acc: 0.8010\n",
      "Epoch 10/50\n",
      " - 7s - loss: 0.1622 - acc: 0.9361 - val_loss: 0.6118 - val_acc: 0.7906\n",
      "Epoch 11/50\n",
      " - 7s - loss: 0.1261 - acc: 0.9533 - val_loss: 0.6714 - val_acc: 0.7916\n",
      "Restoring model weights from the end of the best epoch\n",
      "Epoch 00011: early stopping\n",
      "Saved model to disk\n"
     ]
    }
   ],
   "source": [
    "threshold = 0.5\n",
    "n_split = 0\n",
    "results = []\n",
    "path = \"models/advanced/\"\n",
    "\n",
    "for train, test in skv.split(df,y):\n",
    "    n_split +=1\n",
    "    #print(\"%s %s\" % (train.shape, test.shape))   \n",
    "    X_val, y_val = df.iloc[train], y.iloc[train]\n",
    "    model = create_model_imp(X_val, y_val, n_split, path)\n",
    "\n",
    "    y_pred_test = model.predict(X_val)\n",
    "    y_pred_test[y_pred_test>=threshold] = 1\n",
    "    y_pred_test[y_pred_test<threshold] = 0\n",
    "    \n",
    "    results.append([n_split,f1_score(y_val,y_pred_test,average='micro')]) "
   ]
  },
  {
   "cell_type": "code",
   "execution_count": 93,
   "metadata": {},
   "outputs": [
    {
     "data": {
      "text/plain": [
       "[[1, 0.69164530335896934],\n",
       " [2, 0.66375430235636745],\n",
       " [3, 0.69953755780527427],\n",
       " [4, 0.66903437646585806],\n",
       " [5, 0.72379696769940671]]"
      ]
     },
     "execution_count": 93,
     "metadata": {},
     "output_type": "execute_result"
    }
   ],
   "source": [
    "results"
   ]
  },
  {
   "cell_type": "code",
   "execution_count": 94,
   "metadata": {},
   "outputs": [
    {
     "data": {
      "text/plain": [
       "5"
      ]
     },
     "execution_count": 94,
     "metadata": {},
     "output_type": "execute_result"
    }
   ],
   "source": [
    "results = dict(results)\n",
    "top_model = max(results.items(), key=operator.itemgetter(1))[0]\n",
    "top_model"
   ]
  },
  {
   "cell_type": "code",
   "execution_count": 96,
   "metadata": {},
   "outputs": [
    {
     "name": "stdout",
     "output_type": "stream",
     "text": [
      "Loaded model from disk\n"
     ]
    }
   ],
   "source": [
    "# load json and create model\n",
    "json_file = open(path + \"df_model_\" + str(top_model) + \".json\", 'r')\n",
    "loaded_model_json = json_file.read()\n",
    "json_file.close()\n",
    "loaded_model = model_from_json(loaded_model_json)\n",
    "# load weights into new model\n",
    "loaded_model.load_weights(path + \"df_model_\" + str(top_model) + \".h5\")\n",
    "print(\"Loaded model from disk\")\n",
    "\n",
    "#load history\n",
    "json_file = open(path + \"df_history_\" + str(top_model) + \".json\", 'r')\n",
    "loaded_history_json = json.load(json_file)\n",
    "json_file.close()"
   ]
  },
  {
   "cell_type": "code",
   "execution_count": 97,
   "metadata": {},
   "outputs": [
    {
     "name": "stdout",
     "output_type": "stream",
     "text": [
      "_________________________________________________________________\n",
      "Layer (type)                 Output Shape              Param #   \n",
      "=================================================================\n",
      "dense_1 (Dense)              (None, 5000)              520000    \n",
      "_________________________________________________________________\n",
      "dropout_1 (Dropout)          (None, 5000)              0         \n",
      "_________________________________________________________________\n",
      "dense_2 (Dense)              (None, 2500)              12502500  \n",
      "_________________________________________________________________\n",
      "dropout_2 (Dropout)          (None, 2500)              0         \n",
      "_________________________________________________________________\n",
      "dropout_3 (Dropout)          (None, 2500)              0         \n",
      "_________________________________________________________________\n",
      "dense_3 (Dense)              (None, 1600)              4001600   \n",
      "_________________________________________________________________\n",
      "dropout_4 (Dropout)          (None, 1600)              0         \n",
      "_________________________________________________________________\n",
      "dense_4 (Dense)              (None, 14)                22414     \n",
      "=================================================================\n",
      "Total params: 17,046,514\n",
      "Trainable params: 17,046,514\n",
      "Non-trainable params: 0\n",
      "_________________________________________________________________\n"
     ]
    }
   ],
   "source": [
    "loaded_model.summary()"
   ]
  },
  {
   "cell_type": "code",
   "execution_count": 98,
   "metadata": {},
   "outputs": [
    {
     "name": "stdout",
     "output_type": "stream",
     "text": [
      "Classification report\n",
      "\n"
     ]
    },
    {
     "name": "stderr",
     "output_type": "stream",
     "text": [
      "C:\\Anaconda\\lib\\site-packages\\sklearn\\metrics\\classification.py:1143: UndefinedMetricWarning: Precision and F-score are ill-defined and being set to 0.0 in labels with no predicted samples.\n",
      "  'precision', 'predicted', average, warn_for)\n",
      "C:\\Anaconda\\lib\\site-packages\\sklearn\\metrics\\classification.py:1143: UndefinedMetricWarning: Precision and F-score are ill-defined and being set to 0.0 in labels with no predicted samples.\n",
      "  'precision', 'predicted', average, warn_for)\n",
      "C:\\Anaconda\\lib\\site-packages\\sklearn\\metrics\\classification.py:1143: UndefinedMetricWarning: Precision and F-score are ill-defined and being set to 0.0 in labels with no predicted samples.\n",
      "  'precision', 'predicted', average, warn_for)\n",
      "C:\\Anaconda\\lib\\site-packages\\sklearn\\metrics\\classification.py:1143: UndefinedMetricWarning: Precision and F-score are ill-defined and being set to 0.0 in samples with no predicted labels.\n",
      "  'precision', 'predicted', average, warn_for)\n"
     ]
    },
    {
     "name": "stdout",
     "output_type": "stream",
     "text": [
      "              precision    recall  f1-score   support\n",
      "\n",
      "           0       0.87      0.60      0.71       236\n",
      "           1       0.73      0.54      0.62       304\n",
      "           2       0.76      0.81      0.78       276\n",
      "           3       0.73      0.85      0.78       257\n",
      "           4       0.85      0.65      0.73       245\n",
      "           5       0.79      0.42      0.54       197\n",
      "           6       0.79      0.08      0.15       136\n",
      "           7       1.00      0.01      0.03       149\n",
      "           8       0.00      0.00      0.00        63\n",
      "           9       0.00      0.00      0.00        76\n",
      "          10       0.00      0.00      0.00        78\n",
      "          11       0.81      0.96      0.88       552\n",
      "          12       0.79      0.97      0.87       546\n",
      "          13       0.00      0.00      0.00        11\n",
      "\n",
      "   micro avg       0.79      0.66      0.72      3126\n",
      "   macro avg       0.58      0.42      0.43      3126\n",
      "weighted avg       0.74      0.66      0.65      3126\n",
      " samples avg       0.77      0.68      0.70      3126\n",
      "\n"
     ]
    }
   ],
   "source": [
    "y_predicted_scores = loaded_model.predict(x_test)\n",
    "y_predicted_scores[y_predicted_scores>=0.5] = 1\n",
    "y_predicted_scores[y_predicted_scores<0.5] = 0\n",
    "\n",
    "print('Classification report\\n')\n",
    "print(classification_report(y_test, y_predicted_scores))"
   ]
  },
  {
   "cell_type": "markdown",
   "metadata": {},
   "source": [
    "Plot resutls."
   ]
  },
  {
   "cell_type": "code",
   "execution_count": 99,
   "metadata": {},
   "outputs": [
    {
     "data": {
      "image/png": "[encoded data removed]",
      "text/plain": [
       "<Figure size 432x288 with 1 Axes>"
      ]
     },
     "metadata": {
      "needs_background": "light"
     },
     "output_type": "display_data"
    }
   ],
   "source": [
    "plt.plot(loaded_history_json['val_loss'], \n",
    "         label='loss train')\n",
    "plt.plot(loaded_history_json['loss'], \n",
    "         label='loss test')\n",
    "plt.xlabel('Эпоха обучения')\n",
    "plt.ylabel('Loss')\n",
    "plt.legend()\n",
    "plt.show()"
   ]
  },
  {
   "cell_type": "code",
   "execution_count": 100,
   "metadata": {},
   "outputs": [
    {
     "data": {
      "image/png": "[encoded data removed]",
      "text/plain": [
       "<Figure size 432x288 with 1 Axes>"
      ]
     },
     "metadata": {
      "needs_background": "light"
     },
     "output_type": "display_data"
    }
   ],
   "source": [
    "plt.plot(loaded_history_json['acc'], \n",
    "         label='Доля верных ответов на обучающем наборе')\n",
    "plt.plot(loaded_history_json['val_acc'], \n",
    "         label='Доля верных ответов на проверочном наборе')\n",
    "plt.xlabel('Эпоха обучения')\n",
    "plt.ylabel('Доля верных ответов')\n",
    "plt.legend()\n",
    "plt.show()"
   ]
  },
  {
   "cell_type": "markdown",
   "metadata": {},
   "source": [
    "to do:\n",
    "- plot calculate graph for tensorflow and keras \n",
    "- write comparison\n"
   ]
  }
 ],
 "metadata": {
  "kernelspec": {
   "display_name": "Python 3",
   "language": "python",
   "name": "python3"
  },
  "language_info": {
   "codemirror_mode": {
    "name": "ipython",
    "version": 3
   },
   "file_extension": ".py",
   "mimetype": "text/x-python",
   "name": "python",
   "nbconvert_exporter": "python",
   "pygments_lexer": "ipython3",
   "version": "3.6.8"
  }
 },
 "nbformat": 4,
 "nbformat_minor": 2
}
