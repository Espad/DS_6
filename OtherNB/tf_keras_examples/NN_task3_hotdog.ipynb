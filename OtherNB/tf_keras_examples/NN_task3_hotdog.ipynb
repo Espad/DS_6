{
 "cells": [
  {
   "cell_type": "code",
   "execution_count": 0,
   "metadata": {
    "colab": {},
    "colab_type": "code",
    "id": "iRjTbXtnE3nS",
    "outputId": "a41a7de1-efc1-4f52-96de-1b80d4339333"
   },
   "outputs": [
    {
     "name": "stderr",
     "output_type": "stream",
     "text": [
      "C:\\ProgramData\\Anaconda3\\lib\\site-packages\\h5py\\__init__.py:36: FutureWarning: Conversion of the second argument of issubdtype from `float` to `np.floating` is deprecated. In future, it will be treated as `np.float64 == np.dtype(float).type`.\n",
      "  from ._conv import register_converters as _register_converters\n",
      "Using TensorFlow backend.\n"
     ]
    }
   ],
   "source": [
    "import pandas as pd\n",
    "from sklearn.metrics import f1_score, classification_report\n",
    "from keras import applications\n",
    "from keras.preprocessing.image import ImageDataGenerator, array_to_img, img_to_array, load_img\n",
    "from keras.models import Sequential, load_model\n",
    "from keras.layers import Conv2D, MaxPooling2D\n",
    "from keras.layers import Activation, Dropout, Flatten, Dense\n",
    "from keras.callbacks import ReduceLROnPlateau, EarlyStopping, ModelCheckpoint\n",
    "from keras.optimizers import Adam\n",
    "import matplotlib.pyplot as plt\n",
    "from keras import backend as K\n",
    "from keras.regularizers import l1_l2\n",
    "from keras.layers import LeakyReLU, BatchNormalization\n",
    "from keras.optimizers import SGD\n",
    "import numpy as np\n",
    "\n",
    "import warnings\n",
    "warnings.filterwarnings(\"ignore\")\n",
    "%matplotlib inline"
   ]
  },
  {
   "cell_type": "markdown",
   "metadata": {
    "colab_type": "text",
    "id": "sGaqXIphE3na"
   },
   "source": [
    "Функция для построения кривых обучения:"
   ]
  },
  {
   "cell_type": "code",
   "execution_count": 0,
   "metadata": {
    "colab": {},
    "colab_type": "code",
    "id": "HhdSgnsFE3nb"
   },
   "outputs": [],
   "source": [
    "def plot_loss_acc(history):\n",
    "    fig, ax = plt.subplots(1,2)\n",
    "    fig.set_size_inches(10, 5)\n",
    "    # summarize history for loss\n",
    "    ax[0].plot(history.history['loss'])\n",
    "    ax[0].plot(history.history['val_loss'])\n",
    "    ax[0].set_title('model loss')\n",
    "    ax[0].set_ylabel('loss')\n",
    "    ax[0].set_xlabel('epoch')\n",
    "    ax[0].legend(['train', 'test'], loc='upper left')\n",
    "\n",
    "    # summarize history for accuracy\n",
    "    ax[1].plot(history.history['acc'])\n",
    "    ax[1].plot(history.history['val_acc'])\n",
    "    ax[1].set_title('model accuracy')\n",
    "    ax[1].set_ylabel('accuracy')\n",
    "    ax[1].set_xlabel('epoch')\n",
    "    ax[1].legend(['train', 'test'], loc='upper left')\n",
    "    fig.show()"
   ]
  },
  {
   "cell_type": "markdown",
   "metadata": {
    "colab_type": "text",
    "id": "QKDrXxaWE3ne"
   },
   "source": [
    "Размер изображений 200x200:"
   ]
  },
  {
   "cell_type": "code",
   "execution_count": 0,
   "metadata": {
    "colab": {},
    "colab_type": "code",
    "id": "nx51LPmKE3nf"
   },
   "outputs": [],
   "source": [
    "img_width = 200\n",
    "img_height = 200"
   ]
  },
  {
   "cell_type": "markdown",
   "metadata": {
    "colab_type": "text",
    "id": "59WvnTtHE3nj"
   },
   "source": [
    "Создаем генераторы для подачи изображений в Keras:  \n",
    "Для train добавляем data augmentation(сдвиги, увеличение и отражения по горизонтали), для validation только rescale"
   ]
  },
  {
   "cell_type": "code",
   "execution_count": 0,
   "metadata": {
    "colab": {},
    "colab_type": "code",
    "id": "bCfvsJYvE3nk",
    "outputId": "4f8fe5c0-03e2-432f-e5f0-45490e4b1089"
   },
   "outputs": [
    {
     "name": "stdout",
     "output_type": "stream",
     "text": [
      "Found 498 images belonging to 2 classes.\n",
      "Found 500 images belonging to 2 classes.\n"
     ]
    }
   ],
   "source": [
    "batch_size = 16\n",
    "\n",
    "# this is the augmentation configuration we will use for training\n",
    "train_datagen = ImageDataGenerator(\n",
    "        rescale=1./255,\n",
    "        shear_range=0.2,\n",
    "        zoom_range=0.2,\n",
    "        horizontal_flip=True)\n",
    "\n",
    "# this is the augmentation configuration we will use for testing:\n",
    "# only rescaling\n",
    "test_datagen = ImageDataGenerator(rescale=1./255)\n",
    "\n",
    "# this is a generator that will read pictures found in\n",
    "# subfolers of 'data/train', and indefinitely generate\n",
    "# batches of augmented image data\n",
    "train_generator = train_datagen.flow_from_directory(\n",
    "        'C:\\\\Users\\\\User\\\\Untitled Folder\\\\hotdog\\\\train',  # this is the target directory\n",
    "        target_size=(img_width, img_height),  # all images will be resized to 150x150\n",
    "        batch_size=batch_size,\n",
    "        class_mode='binary')  # since we use binary_crossentropy loss, we need binary labels\n",
    "\n",
    "# this is a similar generator, for validation data\n",
    "validation_generator = test_datagen.flow_from_directory(\n",
    "        'C:\\\\Users\\\\User\\\\Untitled Folder\\\\hotdog\\\\test',\n",
    "        target_size=(img_width, img_height),\n",
    "        batch_size=batch_size,\n",
    "        class_mode='binary',\n",
    "        shuffle=False)"
   ]
  },
  {
   "cell_type": "code",
   "execution_count": 0,
   "metadata": {
    "colab": {},
    "colab_type": "code",
    "id": "puL1ThBFE3nq"
   },
   "outputs": [],
   "source": [
    "def baseline_model():\n",
    "    model = Sequential()\n",
    "    model.add(Conv2D(32, (3, 3), input_shape=(img_width, img_height, 3), activation='relu'))\n",
    "    model.add(MaxPooling2D(pool_size=(2, 2)))\n",
    "\n",
    "    model.add(Conv2D(32, (3, 3), activation='relu'))\n",
    "    model.add(MaxPooling2D(pool_size=(2, 2)))\n",
    "\n",
    "    model.add(Conv2D(64, (3, 3), activation='relu'))\n",
    "    model.add(MaxPooling2D(pool_size=(2, 2)))\n",
    "\n",
    "    model.add(Flatten())\n",
    "    \n",
    "    model.add(Dense(32, activation='relu'))\n",
    "    model.add(Dropout(0.5))\n",
    "    \n",
    "    model.add(Dense(1, activation='sigmoid'))\n",
    "\n",
    "    model.compile(loss='binary_crossentropy', optimizer='adam', metrics=['accuracy'])\n",
    "    return model"
   ]
  },
  {
   "cell_type": "markdown",
   "metadata": {
    "colab_type": "text",
    "id": "8u9AfegLE3ns"
   },
   "source": [
    "Чекпоинт для сохранения лучшей модели:"
   ]
  },
  {
   "cell_type": "code",
   "execution_count": 0,
   "metadata": {
    "colab": {},
    "colab_type": "code",
    "id": "bsSgEGGcE3nt"
   },
   "outputs": [],
   "source": [
    "filepath = '.\\\\models\\\\hotdog_baseline_reg_model.hdf5'\n",
    "checkpoint = ModelCheckpoint(filepath, monitor='val_loss', \n",
    "                             verbose=0, save_best_only=True, mode='min')\n",
    "\n",
    "callbacks = [checkpoint]"
   ]
  },
  {
   "cell_type": "code",
   "execution_count": 0,
   "metadata": {
    "colab": {},
    "colab_type": "code",
    "id": "uxJRxRGPE3nw",
    "outputId": "d7db7e8e-ea84-4e44-c5ef-5fa8c5c2fa26"
   },
   "outputs": [
    {
     "name": "stdout",
     "output_type": "stream",
     "text": [
      "Epoch 1/50\n",
      "62/62 [==============================] - 17s 270ms/step - loss: 0.7094 - acc: 0.5150 - val_loss: 0.6935 - val_acc: 0.4987\n",
      "Epoch 2/50\n",
      "62/62 [==============================] - 16s 263ms/step - loss: 0.6946 - acc: 0.5142 - val_loss: 0.6925 - val_acc: 0.5355\n",
      "Epoch 3/50\n",
      "62/62 [==============================] - 15s 246ms/step - loss: 0.6925 - acc: 0.5262 - val_loss: 0.6925 - val_acc: 0.5063\n",
      "Epoch 4/50\n",
      "62/62 [==============================] - 15s 237ms/step - loss: 0.6904 - acc: 0.5141 - val_loss: 0.6931 - val_acc: 0.5025\n",
      "Epoch 5/50\n",
      "62/62 [==============================] - 15s 247ms/step - loss: 0.6909 - acc: 0.4909 - val_loss: 0.6930 - val_acc: 0.5114\n",
      "Epoch 6/50\n",
      "62/62 [==============================] - 14s 224ms/step - loss: 0.6840 - acc: 0.5284 - val_loss: 0.6889 - val_acc: 0.5254\n",
      "Epoch 7/50\n",
      "62/62 [==============================] - 13s 211ms/step - loss: 0.6853 - acc: 0.5715 - val_loss: 0.6833 - val_acc: 0.5482\n",
      "Epoch 8/50\n",
      "62/62 [==============================] - 14s 228ms/step - loss: 0.6734 - acc: 0.6037 - val_loss: 0.6755 - val_acc: 0.5914\n",
      "Epoch 9/50\n",
      "62/62 [==============================] - 14s 219ms/step - loss: 0.6605 - acc: 0.6000 - val_loss: 0.7057 - val_acc: 0.5723\n",
      "Epoch 10/50\n",
      "62/62 [==============================] - 13s 211ms/step - loss: 0.6716 - acc: 0.5798 - val_loss: 0.6725 - val_acc: 0.5888\n",
      "Epoch 11/50\n",
      "62/62 [==============================] - 13s 207ms/step - loss: 0.6473 - acc: 0.6380 - val_loss: 0.6578 - val_acc: 0.6003\n",
      "Epoch 12/50\n",
      "62/62 [==============================] - 13s 208ms/step - loss: 0.6424 - acc: 0.6219 - val_loss: 0.6630 - val_acc: 0.5673\n",
      "Epoch 13/50\n",
      "62/62 [==============================] - 14s 234ms/step - loss: 0.6300 - acc: 0.6643 - val_loss: 0.6605 - val_acc: 0.5964\n",
      "Epoch 14/50\n",
      "62/62 [==============================] - 13s 217ms/step - loss: 0.6208 - acc: 0.6523 - val_loss: 0.6509 - val_acc: 0.6028\n",
      "Epoch 15/50\n",
      "62/62 [==============================] - 13s 213ms/step - loss: 0.5844 - acc: 0.6863 - val_loss: 0.7494 - val_acc: 0.5736\n",
      "Epoch 16/50\n",
      "62/62 [==============================] - 12s 202ms/step - loss: 0.6230 - acc: 0.6291 - val_loss: 0.6619 - val_acc: 0.6066\n",
      "Epoch 17/50\n",
      "62/62 [==============================] - 12s 198ms/step - loss: 0.5979 - acc: 0.6491 - val_loss: 0.7119 - val_acc: 0.5863\n",
      "Epoch 18/50\n",
      "62/62 [==============================] - 14s 219ms/step - loss: 0.6082 - acc: 0.6553 - val_loss: 0.6710 - val_acc: 0.6028\n",
      "Epoch 19/50\n",
      "62/62 [==============================] - 14s 221ms/step - loss: 0.5654 - acc: 0.7005 - val_loss: 0.7079 - val_acc: 0.6168\n",
      "Epoch 20/50\n",
      "62/62 [==============================] - 14s 218ms/step - loss: 0.5715 - acc: 0.6944 - val_loss: 0.7001 - val_acc: 0.5926\n",
      "Epoch 21/50\n",
      "62/62 [==============================] - 13s 207ms/step - loss: 0.5672 - acc: 0.6794 - val_loss: 0.7271 - val_acc: 0.5749\n",
      "Epoch 22/50\n",
      "62/62 [==============================] - 14s 234ms/step - loss: 0.5671 - acc: 0.6815 - val_loss: 0.6976 - val_acc: 0.6244\n",
      "Epoch 23/50\n",
      "62/62 [==============================] - 13s 211ms/step - loss: 0.5167 - acc: 0.7007 - val_loss: 0.8249 - val_acc: 0.5711\n",
      "Epoch 24/50\n",
      "62/62 [==============================] - 14s 220ms/step - loss: 0.5072 - acc: 0.7167 - val_loss: 0.7567 - val_acc: 0.5964\n",
      "Epoch 25/50\n",
      "62/62 [==============================] - 13s 204ms/step - loss: 0.5649 - acc: 0.6664 - val_loss: 0.7490 - val_acc: 0.5761\n",
      "Epoch 26/50\n",
      "62/62 [==============================] - 13s 211ms/step - loss: 0.5370 - acc: 0.6785 - val_loss: 0.7993 - val_acc: 0.5863\n",
      "Epoch 27/50\n",
      "62/62 [==============================] - 12s 201ms/step - loss: 0.5618 - acc: 0.6835 - val_loss: 0.7057 - val_acc: 0.6117\n",
      "Epoch 28/50\n",
      "62/62 [==============================] - 12s 198ms/step - loss: 0.5102 - acc: 0.7027 - val_loss: 0.7893 - val_acc: 0.6028\n",
      "Epoch 29/50\n",
      "62/62 [==============================] - 12s 201ms/step - loss: 0.5021 - acc: 0.6987 - val_loss: 0.8363 - val_acc: 0.6041\n",
      "Epoch 30/50\n",
      "62/62 [==============================] - 12s 201ms/step - loss: 0.4943 - acc: 0.7318 - val_loss: 1.0644 - val_acc: 0.5888\n",
      "Epoch 31/50\n",
      "62/62 [==============================] - 13s 203ms/step - loss: 0.4936 - acc: 0.7237 - val_loss: 0.8470 - val_acc: 0.5888\n",
      "Epoch 32/50\n",
      "62/62 [==============================] - 12s 193ms/step - loss: 0.5118 - acc: 0.7067 - val_loss: 0.7834 - val_acc: 0.6028\n",
      "Epoch 33/50\n",
      "62/62 [==============================] - 13s 214ms/step - loss: 0.4830 - acc: 0.7330 - val_loss: 0.7849 - val_acc: 0.6142\n",
      "Epoch 34/50\n",
      "62/62 [==============================] - 15s 235ms/step - loss: 0.4599 - acc: 0.7690 - val_loss: 0.8645 - val_acc: 0.5838\n",
      "Epoch 35/50\n",
      "62/62 [==============================] - 15s 241ms/step - loss: 0.4672 - acc: 0.7460 - val_loss: 0.8577 - val_acc: 0.6028\n",
      "Epoch 36/50\n",
      "62/62 [==============================] - 14s 218ms/step - loss: 0.4460 - acc: 0.7630 - val_loss: 0.8194 - val_acc: 0.6041\n",
      "Epoch 37/50\n",
      "62/62 [==============================] - 13s 216ms/step - loss: 0.4590 - acc: 0.7559 - val_loss: 0.9154 - val_acc: 0.5787\n",
      "Epoch 38/50\n",
      "62/62 [==============================] - 13s 207ms/step - loss: 0.4172 - acc: 0.7520 - val_loss: 0.9624 - val_acc: 0.5977\n",
      "Epoch 39/50\n",
      "62/62 [==============================] - 14s 218ms/step - loss: 0.4370 - acc: 0.7459 - val_loss: 0.8469 - val_acc: 0.6244\n",
      "Epoch 40/50\n",
      "62/62 [==============================] - 13s 217ms/step - loss: 0.3980 - acc: 0.7629 - val_loss: 1.0624 - val_acc: 0.5939\n",
      "Epoch 41/50\n",
      "62/62 [==============================] - 13s 207ms/step - loss: 0.4217 - acc: 0.7782 - val_loss: 0.9404 - val_acc: 0.5926\n",
      "Epoch 42/50\n",
      "62/62 [==============================] - 13s 207ms/step - loss: 0.4127 - acc: 0.7922 - val_loss: 1.0497 - val_acc: 0.5876\n",
      "Epoch 43/50\n",
      "62/62 [==============================] - 13s 211ms/step - loss: 0.3972 - acc: 0.7822 - val_loss: 1.1772 - val_acc: 0.5888\n",
      "Epoch 44/50\n",
      "62/62 [==============================] - 13s 206ms/step - loss: 0.3757 - acc: 0.7792 - val_loss: 1.2587 - val_acc: 0.5838\n",
      "Epoch 45/50\n",
      "62/62 [==============================] - 13s 208ms/step - loss: 0.4292 - acc: 0.7541 - val_loss: 0.9694 - val_acc: 0.5901\n",
      "Epoch 46/50\n",
      "62/62 [==============================] - 14s 223ms/step - loss: 0.4093 - acc: 0.7763 - val_loss: 0.9864 - val_acc: 0.5990\n",
      "Epoch 47/50\n",
      "62/62 [==============================] - 15s 241ms/step - loss: 0.3818 - acc: 0.7803 - val_loss: 1.2103 - val_acc: 0.5977\n",
      "Epoch 48/50\n",
      "62/62 [==============================] - 14s 228ms/step - loss: 0.3367 - acc: 0.8095 - val_loss: 1.3007 - val_acc: 0.5990\n",
      "Epoch 49/50\n",
      "62/62 [==============================] - 15s 242ms/step - loss: 0.3671 - acc: 0.8185 - val_loss: 1.3515 - val_acc: 0.6079\n",
      "Epoch 50/50\n",
      "62/62 [==============================] - 15s 249ms/step - loss: 0.4003 - acc: 0.7883 - val_loss: 1.1490 - val_acc: 0.5635\n"
     ]
    }
   ],
   "source": [
    "baseline_model = baseline_model()\n",
    "\n",
    "history = baseline_reg_model.fit_generator(\n",
    "    train_generator,\n",
    "    steps_per_epoch=1000 // batch_size,\n",
    "    epochs=50,\n",
    "    callbacks=callbacks,\n",
    "    validation_data=validation_generator,\n",
    "    validation_steps=800 // batch_size)"
   ]
  },
  {
   "cell_type": "code",
   "execution_count": 0,
   "metadata": {
    "colab": {},
    "colab_type": "code",
    "id": "1vP6hrN8E3nz",
    "outputId": "5cfbc02b-ec3d-452f-828d-a084b0639cf3"
   },
   "outputs": [
    {
     "data": {
      "image/png": "[encoded data removed]",
      "text/plain": [
       "<Figure size 720x360 with 2 Axes>"
      ]
     },
     "metadata": {
      "tags": []
     },
     "output_type": "display_data"
    }
   ],
   "source": [
    "plot_loss_acc(history_reg)"
   ]
  },
  {
   "cell_type": "code",
   "execution_count": 0,
   "metadata": {
    "colab": {},
    "colab_type": "code",
    "id": "_VTJGy-6E3n4",
    "outputId": "acf8f720-dfe7-4223-fbc2-c56c848de988"
   },
   "outputs": [
    {
     "name": "stdout",
     "output_type": "stream",
     "text": [
      "Loss for val: 0.6502834296226502\n",
      "Accuracy for val: 0.606\n"
     ]
    }
   ],
   "source": [
    "model = load_model('.\\\\models\\\\hotdog_baseline_reg_model.hdf5')\n",
    "result = model.evaluate_generator(validation_generator)\n",
    "print('Loss for val: {}\\nAccuracy for val: {}'.format(result[0], result[1]))"
   ]
  },
  {
   "cell_type": "code",
   "execution_count": 0,
   "metadata": {
    "colab": {},
    "colab_type": "code",
    "id": "gPD-lDKxE3n8",
    "outputId": "c45bd9d6-596e-4e6d-eb89-f3f1e72f4420"
   },
   "outputs": [
    {
     "name": "stdout",
     "output_type": "stream",
     "text": [
      "             precision    recall  f1-score   support\n",
      "\n",
      "          0       0.60      0.65      0.62       250\n",
      "          1       0.62      0.56      0.59       250\n",
      "\n",
      "avg / total       0.61      0.61      0.61       500\n",
      "\n"
     ]
    }
   ],
   "source": [
    "predict_proba = model.predict_generator(validation_generator)\n",
    "predictions = pd.Series(predict_proba.reshape((500,))).apply(lambda x: 1 if x < 0.5 else 0)\n",
    "result_bs_f1 = f1_score(validation_labels, predictions)\n",
    "print(classification_report(validation_labels, predictions))"
   ]
  },
  {
   "cell_type": "markdown",
   "metadata": {
    "colab_type": "text",
    "id": "Fn1Vpn_yE3oA"
   },
   "source": [
    "Небольшого колличества изображений(500) не хватает чтобы нормально обучить свою собственную сеть, поэтому более разумно будет использовать уже предобученную на большом кол-ве данных сеть для выделения признаков."
   ]
  },
  {
   "cell_type": "markdown",
   "metadata": {
    "colab_type": "text",
    "id": "SdeU2_cLE3oC"
   },
   "source": [
    "### 2. VGG16"
   ]
  },
  {
   "cell_type": "markdown",
   "metadata": {
    "colab_type": "text",
    "id": "ffACCgo9E3oD"
   },
   "source": [
    "Будем использовать предобученную на датасете соревнования ImageNet модель VGG16.   \n",
    "Допиливание ее под нашу задачу состоит из 2 этапов:  \n",
    "1) Сначала необходимо предобучить верхние полносвязные слои, которые будут решать нашу задачу. Для этого необходимо отрезать полносвязные слои у VGG16 и получить признаки, извлеченные из наших картинок с помощью оставшихся сверток VGG16. Используя эти признаки предобучаем наш полносвязный слой.  \n",
    "2) Fine-tuning. Добавим предобученный полносвязный слой к сверточным от VGG и разморозим последний сверточный слой, где происходит выделение абстрактных признаков и дообучим его вместе с полносвязным слоем. Такой подход нельзя применить сразу в лоб, добавив случайно инициализированный полносвязный слой к сверткам VGG, поскольку при сильном изменении градиента при обучении случайных весов полносвязного слоя мы потеряем всю тонкую настройку для свертки и останемся у разбитого корыта."
   ]
  },
  {
   "cell_type": "markdown",
   "metadata": {
    "colab_type": "text",
    "id": "WIZTJW88E3oF"
   },
   "source": [
    "### Train fully-connection top-layers:"
   ]
  },
  {
   "cell_type": "code",
   "execution_count": 0,
   "metadata": {
    "colab": {},
    "colab_type": "code",
    "id": "KQO7_0-LE3oF"
   },
   "outputs": [],
   "source": [
    "datagen = ImageDataGenerator(rescale=1. / 255)\n",
    "\n",
    "# build the VGG16 network\n",
    "vgg16 = applications.VGG16(include_top=False, weights='imagenet', input_shape=(img_width, img_height, 3))"
   ]
  },
  {
   "cell_type": "markdown",
   "metadata": {
    "colab_type": "text",
    "id": "6xaR0cl-E3oK"
   },
   "source": [
    "Сохраняем результаты после сверточных слоев VGG:"
   ]
  },
  {
   "cell_type": "code",
   "execution_count": 0,
   "metadata": {
    "colab": {},
    "colab_type": "code",
    "id": "Y9mFhOJVE3oL"
   },
   "outputs": [],
   "source": [
    "batch_size = 16\n",
    "nb_train_samples = 498\n",
    "nb_validation_samples = 500\n",
    "\n",
    "generator = datagen.flow_from_directory(\n",
    "        'C:\\\\Users\\\\User\\\\Untitled Folder\\\\hotdog\\\\train',\n",
    "        target_size=(img_width, img_height),\n",
    "        batch_size=batch_size,\n",
    "        class_mode=None,  # this means our generator will only yield batches of data, no labels\n",
    "        shuffle=False)  # our data will be in order, so all first 1000 images will be cats, then 1000 dogs\n",
    "# the predict_generator method returns the output of a model, given\n",
    "# a generator that yields batches of numpy data\n",
    "bottleneck_features_train = vgg16.predict_generator(generator, nb_train_samples // batch_size + 1)\n",
    "# save the output as a Numpy array\n",
    "np.save('bottleneck_features_train.npy', bottleneck_features_train)\n",
    "\n",
    "generator = datagen.flow_from_directory(\n",
    "        'C:\\\\Users\\\\User\\\\Untitled Folder\\\\hotdog\\\\test',\n",
    "        target_size=(img_width, img_height),\n",
    "        batch_size=batch_size,\n",
    "        class_mode=None,\n",
    "        shuffle=False)\n",
    "bottleneck_features_validation = vgg16.predict_generator(generator, nb_validation_samples // batch_size + 1)\n",
    "np.save('bottleneck_features_validation.npy', bottleneck_features_validation)"
   ]
  },
  {
   "cell_type": "code",
   "execution_count": 0,
   "metadata": {
    "colab": {},
    "colab_type": "code",
    "id": "_jKy-BpOE3oP"
   },
   "outputs": [],
   "source": [
    "# reduce_lr = ReduceLROnPlateau(monitor='val_loss', factor=0.6, patience=6, verbose=1, mode='min')\n",
    "# early_stop = EarlyStopping(monitor='val_loss', min_delta=0.01, patience=6, verbose=0, mode='min')\n",
    "\n",
    "filepath = '.\\\\models\\\\hotdog_bottleneck_model_vgg16.hdf5'\n",
    "checkpoint = ModelCheckpoint(filepath, monitor='val_loss', \n",
    "                             verbose=0, save_best_only=True, mode='min')\n",
    "callbacks = [checkpoint]"
   ]
  },
  {
   "cell_type": "code",
   "execution_count": 0,
   "metadata": {
    "colab": {},
    "colab_type": "code",
    "id": "7QXoZnNGE3oU"
   },
   "outputs": [],
   "source": [
    "train_data = np.load('bottleneck_features_train.npy')\n",
    "# the features were saved in order, so recreating the labels is easy\n",
    "train_labels = np.array([0] * (nb_train_samples // 2) + [1] * (nb_train_samples // 2))\n",
    "\n",
    "validation_data = np.load('bottleneck_features_validation.npy')\n",
    "validation_labels = np.array([0] * (nb_validation_samples // 2) + [1] * (nb_validation_samples // 2))"
   ]
  },
  {
   "cell_type": "markdown",
   "metadata": {
    "colab_type": "text",
    "id": "WeUMjk2JE3oX"
   },
   "source": [
    "Теперь обучаем нашу хотдоговую полносвязную часть:"
   ]
  },
  {
   "cell_type": "code",
   "execution_count": 0,
   "metadata": {
    "colab": {},
    "colab_type": "code",
    "id": "ZlOk33xUE3oa",
    "outputId": "bc518564-cb47-48a6-d25e-fc81ae592ce1"
   },
   "outputs": [
    {
     "name": "stdout",
     "output_type": "stream",
     "text": [
      "Train on 498 samples, validate on 500 samples\n",
      "Epoch 1/60\n",
      "498/498 [==============================] - 7s 15ms/step - loss: 0.7200 - acc: 0.5261 - val_loss: 0.6507 - val_acc: 0.5820\n",
      "Epoch 2/60\n",
      "498/498 [==============================] - 0s 851us/step - loss: 0.6469 - acc: 0.5723 - val_loss: 0.6119 - val_acc: 0.6780\n",
      "Epoch 3/60\n",
      "498/498 [==============================] - 0s 891us/step - loss: 0.5834 - acc: 0.6104 - val_loss: 0.5959 - val_acc: 0.6720\n",
      "Epoch 4/60\n",
      "498/498 [==============================] - 0s 903us/step - loss: 0.6168 - acc: 0.5884 - val_loss: 0.5456 - val_acc: 0.7480\n",
      "Epoch 5/60\n",
      "498/498 [==============================] - 0s 971us/step - loss: 0.5719 - acc: 0.6285 - val_loss: 0.5276 - val_acc: 0.7720\n",
      "Epoch 6/60\n",
      "498/498 [==============================] - 0s 827us/step - loss: 0.5215 - acc: 0.6586 - val_loss: 0.5296 - val_acc: 0.7640\n",
      "Epoch 7/60\n",
      "498/498 [==============================] - 0s 847us/step - loss: 0.4935 - acc: 0.6847 - val_loss: 0.4997 - val_acc: 0.7700\n",
      "Epoch 8/60\n",
      "498/498 [==============================] - 0s 951us/step - loss: 0.5258 - acc: 0.6365 - val_loss: 0.5205 - val_acc: 0.7400\n",
      "Epoch 9/60\n",
      "498/498 [==============================] - 0s 861us/step - loss: 0.5038 - acc: 0.6767 - val_loss: 0.5159 - val_acc: 0.7620\n",
      "Epoch 10/60\n",
      "498/498 [==============================] - 0s 879us/step - loss: 0.4851 - acc: 0.7028 - val_loss: 0.4851 - val_acc: 0.7660\n",
      "Epoch 11/60\n",
      "498/498 [==============================] - 0s 905us/step - loss: 0.4625 - acc: 0.6948 - val_loss: 0.5014 - val_acc: 0.7780\n",
      "Epoch 12/60\n",
      "498/498 [==============================] - 0s 947us/step - loss: 0.4672 - acc: 0.6687 - val_loss: 0.5107 - val_acc: 0.7580\n",
      "Epoch 13/60\n",
      "498/498 [==============================] - 0s 933us/step - loss: 0.4566 - acc: 0.6888 - val_loss: 0.4686 - val_acc: 0.7780\n",
      "Epoch 14/60\n",
      "498/498 [==============================] - 0s 909us/step - loss: 0.4420 - acc: 0.6948 - val_loss: 0.4687 - val_acc: 0.7840\n",
      "Epoch 15/60\n",
      "498/498 [==============================] - 0s 935us/step - loss: 0.4197 - acc: 0.7008 - val_loss: 0.4551 - val_acc: 0.7940\n",
      "Epoch 16/60\n",
      "498/498 [==============================] - 0s 965us/step - loss: 0.3830 - acc: 0.7711 - val_loss: 0.4631 - val_acc: 0.7840\n",
      "Epoch 17/60\n",
      "498/498 [==============================] - 0s 893us/step - loss: 0.4125 - acc: 0.7410 - val_loss: 0.4509 - val_acc: 0.7860\n",
      "Epoch 18/60\n",
      "498/498 [==============================] - 0s 921us/step - loss: 0.3515 - acc: 0.7892 - val_loss: 0.4943 - val_acc: 0.7480\n",
      "Epoch 19/60\n",
      "498/498 [==============================] - 0s 967us/step - loss: 0.3780 - acc: 0.7129 - val_loss: 0.4853 - val_acc: 0.7620\n",
      "Epoch 20/60\n",
      "498/498 [==============================] - 0s 941us/step - loss: 0.3924 - acc: 0.7450 - val_loss: 0.4621 - val_acc: 0.7880\n",
      "Epoch 21/60\n",
      "498/498 [==============================] - 0s 917us/step - loss: 0.3390 - acc: 0.7972 - val_loss: 0.4902 - val_acc: 0.7820\n",
      "Epoch 22/60\n",
      "498/498 [==============================] - 0s 921us/step - loss: 0.3093 - acc: 0.7912 - val_loss: 0.4852 - val_acc: 0.7980\n",
      "Epoch 23/60\n",
      "498/498 [==============================] - 0s 911us/step - loss: 0.3254 - acc: 0.7912 - val_loss: 0.5072 - val_acc: 0.7740\n",
      "Epoch 24/60\n",
      "498/498 [==============================] - 0s 925us/step - loss: 0.3119 - acc: 0.7811 - val_loss: 0.5189 - val_acc: 0.7640\n",
      "Epoch 25/60\n",
      "498/498 [==============================] - 0s 927us/step - loss: 0.3220 - acc: 0.7751 - val_loss: 0.5019 - val_acc: 0.7920\n",
      "Epoch 26/60\n",
      "498/498 [==============================] - 0s 939us/step - loss: 0.3020 - acc: 0.7972 - val_loss: 0.5271 - val_acc: 0.7680\n",
      "Epoch 27/60\n",
      "498/498 [==============================] - 0s 899us/step - loss: 0.2919 - acc: 0.8032 - val_loss: 0.5364 - val_acc: 0.7760\n",
      "Epoch 28/60\n",
      "498/498 [==============================] - 0s 909us/step - loss: 0.2915 - acc: 0.7992 - val_loss: 0.5519 - val_acc: 0.7740\n",
      "Epoch 29/60\n",
      "498/498 [==============================] - 0s 917us/step - loss: 0.2902 - acc: 0.7972 - val_loss: 0.5454 - val_acc: 0.7980\n",
      "Epoch 30/60\n",
      "498/498 [==============================] - 0s 923us/step - loss: 0.2883 - acc: 0.8153 - val_loss: 0.5139 - val_acc: 0.7660\n",
      "Epoch 31/60\n",
      "498/498 [==============================] - 0s 919us/step - loss: 0.2913 - acc: 0.8032 - val_loss: 0.5161 - val_acc: 0.7940\n",
      "Epoch 32/60\n",
      "498/498 [==============================] - 0s 913us/step - loss: 0.3043 - acc: 0.7791 - val_loss: 0.5148 - val_acc: 0.7760\n",
      "Epoch 33/60\n",
      "498/498 [==============================] - 0s 913us/step - loss: 0.3009 - acc: 0.7972 - val_loss: 0.5786 - val_acc: 0.7740\n",
      "Epoch 34/60\n",
      "498/498 [==============================] - 0s 897us/step - loss: 0.2769 - acc: 0.8112 - val_loss: 0.6165 - val_acc: 0.7840\n",
      "Epoch 35/60\n",
      "498/498 [==============================] - 0s 911us/step - loss: 0.2714 - acc: 0.8173 - val_loss: 0.6220 - val_acc: 0.7840\n",
      "Epoch 36/60\n",
      "498/498 [==============================] - 0s 915us/step - loss: 0.2772 - acc: 0.8072 - val_loss: 0.5467 - val_acc: 0.7740\n",
      "Epoch 37/60\n",
      "498/498 [==============================] - 0s 933us/step - loss: 0.3179 - acc: 0.7871 - val_loss: 0.6431 - val_acc: 0.7840\n",
      "Epoch 38/60\n",
      "498/498 [==============================] - 0s 925us/step - loss: 0.2693 - acc: 0.8273 - val_loss: 0.5851 - val_acc: 0.7680\n",
      "Epoch 39/60\n",
      "498/498 [==============================] - 0s 911us/step - loss: 0.2604 - acc: 0.8394 - val_loss: 0.6538 - val_acc: 0.7880\n",
      "Epoch 40/60\n",
      "498/498 [==============================] - 0s 887us/step - loss: 0.2907 - acc: 0.8273 - val_loss: 0.5581 - val_acc: 0.7860\n",
      "Epoch 41/60\n",
      "498/498 [==============================] - 0s 933us/step - loss: 0.2790 - acc: 0.8112 - val_loss: 0.5297 - val_acc: 0.7820\n",
      "Epoch 42/60\n",
      "498/498 [==============================] - 0s 913us/step - loss: 0.2904 - acc: 0.7892 - val_loss: 0.5537 - val_acc: 0.7940\n",
      "Epoch 43/60\n",
      "498/498 [==============================] - 0s 969us/step - loss: 0.2627 - acc: 0.8173 - val_loss: 0.5603 - val_acc: 0.7880\n",
      "Epoch 44/60\n",
      "498/498 [==============================] - 0s 947us/step - loss: 0.2450 - acc: 0.8414 - val_loss: 0.5548 - val_acc: 0.8020\n",
      "Epoch 45/60\n",
      "498/498 [==============================] - 0s 901us/step - loss: 0.2632 - acc: 0.8193 - val_loss: 0.5375 - val_acc: 0.7900\n",
      "Epoch 46/60\n",
      "498/498 [==============================] - 0s 973us/step - loss: 0.2641 - acc: 0.8313 - val_loss: 0.5626 - val_acc: 0.7920\n",
      "Epoch 47/60\n",
      "498/498 [==============================] - 1s 1ms/step - loss: 0.3546 - acc: 0.6847 - val_loss: 0.5259 - val_acc: 0.7940\n",
      "Epoch 48/60\n",
      "498/498 [==============================] - 0s 965us/step - loss: 0.3220 - acc: 0.7631 - val_loss: 0.5775 - val_acc: 0.7840\n",
      "Epoch 49/60\n",
      "498/498 [==============================] - 0s 825us/step - loss: 0.3358 - acc: 0.8193 - val_loss: 0.5583 - val_acc: 0.7860\n",
      "Epoch 50/60\n",
      "498/498 [==============================] - 0s 971us/step - loss: 0.3625 - acc: 0.8052 - val_loss: 0.5919 - val_acc: 0.7840\n",
      "Epoch 51/60\n",
      "498/498 [==============================] - 0s 865us/step - loss: 0.3402 - acc: 0.8253 - val_loss: 0.6124 - val_acc: 0.7740\n",
      "Epoch 52/60\n",
      "498/498 [==============================] - 0s 853us/step - loss: 0.3268 - acc: 0.8313 - val_loss: 0.5864 - val_acc: 0.7860\n",
      "Epoch 53/60\n",
      "498/498 [==============================] - 0s 869us/step - loss: 0.3483 - acc: 0.7992 - val_loss: 0.5017 - val_acc: 0.7920\n",
      "Epoch 54/60\n",
      "498/498 [==============================] - 0s 865us/step - loss: 0.3517 - acc: 0.7932 - val_loss: 0.4994 - val_acc: 0.7800\n",
      "Epoch 55/60\n",
      "498/498 [==============================] - 0s 899us/step - loss: 0.3457 - acc: 0.8072 - val_loss: 0.5526 - val_acc: 0.7840\n",
      "Epoch 56/60\n",
      "498/498 [==============================] - 0s 867us/step - loss: 0.3413 - acc: 0.8153 - val_loss: 0.5594 - val_acc: 0.7860\n",
      "Epoch 57/60\n",
      "498/498 [==============================] - 0s 853us/step - loss: 0.3526 - acc: 0.8153 - val_loss: 0.6149 - val_acc: 0.7860\n",
      "Epoch 58/60\n",
      "498/498 [==============================] - 0s 857us/step - loss: 0.3395 - acc: 0.8032 - val_loss: 0.5502 - val_acc: 0.7840\n",
      "Epoch 59/60\n",
      "498/498 [==============================] - 0s 833us/step - loss: 0.3364 - acc: 0.8213 - val_loss: 0.5720 - val_acc: 0.7920\n",
      "Epoch 60/60\n",
      "498/498 [==============================] - 0s 865us/step - loss: 0.3517 - acc: 0.8012 - val_loss: 0.5745 - val_acc: 0.7620\n"
     ]
    }
   ],
   "source": [
    "model = Sequential()\n",
    "model.add(Flatten(input_shape=train_data.shape[1:]))\n",
    "model.add(Dense(32, activation='relu',\n",
    "                kernel_initializer='he_uniform',\n",
    "                kernel_regularizer=l1_l2(1e-6, 1e-6), \n",
    "                bias_regularizer=l1_l2(1e-6, 1e-6), \n",
    "                activity_regularizer=l1_l2(1e-6, 1e-6)))\n",
    "model.add(Dropout(0.6))\n",
    "model.add(Dense(1, activation='sigmoid'))\n",
    "\n",
    "model.compile(optimizer='adam',\n",
    "              loss='binary_crossentropy',\n",
    "              metrics=['accuracy'])\n",
    "\n",
    "history_bottleneck = model.fit(train_data, train_labels,\n",
    "                               epochs=60,\n",
    "                               batch_size=batch_size,\n",
    "                               callbacks=callbacks,\n",
    "                               validation_data=(validation_data, validation_labels))"
   ]
  },
  {
   "cell_type": "code",
   "execution_count": 0,
   "metadata": {
    "colab": {},
    "colab_type": "code",
    "id": "xtrfE00HE3oh",
    "outputId": "17b575bf-140e-4c0d-edfe-d1cdeca7d192"
   },
   "outputs": [
    {
     "data": {
      "image/png": "[encoded data removed]",
      "text/plain": [
       "<Figure size 720x360 with 2 Axes>"
      ]
     },
     "metadata": {
      "tags": []
     },
     "output_type": "display_data"
    }
   ],
   "source": [
    "plot_loss_acc(history_bottleneck)"
   ]
  },
  {
   "cell_type": "code",
   "execution_count": 0,
   "metadata": {
    "colab": {},
    "colab_type": "code",
    "id": "_Vxm2sRTE3ol",
    "outputId": "79ce6709-9d71-4534-80c7-2cc7c6774d5d"
   },
   "outputs": [
    {
     "name": "stdout",
     "output_type": "stream",
     "text": [
      "500/500 [==============================] - 3s 6ms/step\n",
      "Loss for val: 0.4524593043327332\n",
      "Accuracy for val: 0.7860000004768372\n"
     ]
    }
   ],
   "source": [
    "model = load_model('.\\\\models\\\\hotdog_bottleneck_model_vgg16.hdf5')\n",
    "model.save_weights('.\\\\models\\\\hotdog_bottleneck_model_vgg16_weights.h5')\n",
    "result = model.evaluate(validation_data, validation_labels)\n",
    "print('Loss for val: {}\\nAccuracy for val: {}'.format(result[0], result[1]))"
   ]
  },
  {
   "cell_type": "code",
   "execution_count": 0,
   "metadata": {
    "colab": {},
    "colab_type": "code",
    "id": "hyqS7SN-E3oq",
    "outputId": "b6f50e2b-96cb-449b-b1e2-76ee4720c6b0"
   },
   "outputs": [
    {
     "name": "stdout",
     "output_type": "stream",
     "text": [
      "             precision    recall  f1-score   support\n",
      "\n",
      "          0       0.79      0.78      0.78       250\n",
      "          1       0.78      0.79      0.79       250\n",
      "\n",
      "avg / total       0.79      0.79      0.79       500\n",
      "\n"
     ]
    }
   ],
   "source": [
    "predict = model.predict_classes(validation_data)\n",
    "result_bn_f1 = f1_score(validation_labels, predict)\n",
    "print(classification_report(validation_labels, predict))"
   ]
  },
  {
   "cell_type": "markdown",
   "metadata": {
    "colab_type": "text",
    "id": "H7DfaJY_E3ot"
   },
   "source": [
    "Получили неплохой прирост для метрик"
   ]
  },
  {
   "cell_type": "markdown",
   "metadata": {
    "colab_type": "text",
    "id": "te2Nbl2lE3ou"
   },
   "source": [
    "### Fine-tuning"
   ]
  },
  {
   "cell_type": "code",
   "execution_count": 0,
   "metadata": {
    "colab": {},
    "colab_type": "code",
    "id": "c7zSDA2SE3ov"
   },
   "outputs": [],
   "source": [
    "# build a classifier model to put on top of the convolutional model\n",
    "top_model = Sequential()\n",
    "top_model.add(Flatten(input_shape=train_data.shape[1:]))\n",
    "top_model.add(Dense(32, activation='relu',\n",
    "                kernel_initializer='he_uniform',\n",
    "                kernel_regularizer=l1_l2(1e-6, 1e-6), \n",
    "                bias_regularizer=l1_l2(1e-6, 1e-6), \n",
    "                activity_regularizer=l1_l2(1e-6, 1e-6)))\n",
    "top_model.add(Dropout(0.6))\n",
    "top_model.add(Dense(1, activation='sigmoid'))"
   ]
  },
  {
   "cell_type": "code",
   "execution_count": 0,
   "metadata": {
    "colab": {},
    "colab_type": "code",
    "id": "eyNiVQ5SE3ox"
   },
   "outputs": [],
   "source": [
    "# load pre-trained weights\n",
    "top_model.load_weights('.\\\\models\\\\hotdog_bottleneck_weights.h5')"
   ]
  },
  {
   "cell_type": "markdown",
   "metadata": {
    "colab_type": "text",
    "id": "YVklLmqgE3o1"
   },
   "source": [
    "Создаем модель для fine-tuning:"
   ]
  },
  {
   "cell_type": "code",
   "execution_count": 0,
   "metadata": {
    "colab": {},
    "colab_type": "code",
    "id": "iagkTXcvE3o1"
   },
   "outputs": [],
   "source": [
    "# create new model for fine-tuning\n",
    "# add layers from vgg16\n",
    "fine_tune_model = Sequential()\n",
    "for layer in vgg16.layers:\n",
    "    fine_tune_model.add(layer)\n",
    "\n",
    "fine_tune_model.add(top_model)"
   ]
  },
  {
   "cell_type": "markdown",
   "metadata": {
    "colab_type": "text",
    "id": "ABTQC-nkE3o5"
   },
   "source": [
    "Замораживаем первые блоки сверток, оставляя только последний блок и полносвязный слой:  \n",
    "А так же будем использовать SGD оптимизатор с низким learning rate, чтобы случайно не разрушать ранее изученные признаки"
   ]
  },
  {
   "cell_type": "code",
   "execution_count": 0,
   "metadata": {
    "colab": {},
    "colab_type": "code",
    "id": "jVfNuUUkE3o5"
   },
   "outputs": [],
   "source": [
    "# set the first 14 layers (up to the last conv block)\n",
    "# to non-trainable (weights will not be updated)\n",
    "for layer in fine_tune_model.layers[:15]:\n",
    "    layer.trainable = False\n",
    "\n",
    "# compile the model with a SGD/momentum optimizer\n",
    "# and a very slow learning rate.\n",
    "fine_tune_model.compile(loss='binary_crossentropy',\n",
    "              optimizer=SGD(lr=1e-4, momentum=0.9, nesterov=True),\n",
    "              metrics=['accuracy'])"
   ]
  },
  {
   "cell_type": "code",
   "execution_count": 0,
   "metadata": {
    "colab": {},
    "colab_type": "code",
    "id": "tUsSxRaME3o8"
   },
   "outputs": [],
   "source": [
    "reduce_lr = ReduceLROnPlateau(monitor='val_loss', factor=0.4, patience=4, verbose=1, mode='min')\n",
    "early_stop = EarlyStopping(monitor='val_loss', min_delta=0.02, patience=10, verbose=0, mode='min')\n",
    "\n",
    "filepath = '.\\\\models\\\\hotdog_finetune_model_vgg16.hdf5'\n",
    "checkpoint = ModelCheckpoint(filepath, monitor='val_loss', \n",
    "                             verbose=0, save_best_only=True, mode='min')\n",
    "callbacks = [checkpoint, early_stop, reduce_lr]"
   ]
  },
  {
   "cell_type": "code",
   "execution_count": 0,
   "metadata": {
    "colab": {},
    "colab_type": "code",
    "id": "_8U26UktE3pA",
    "outputId": "a227cf53-399e-4228-808b-895eac01e8cb"
   },
   "outputs": [
    {
     "name": "stdout",
     "output_type": "stream",
     "text": [
      "Epoch 1/50\n",
      "31/31 [==============================] - 13s 410ms/step - loss: 0.3965 - acc: 0.7623 - val_loss: 0.4918 - val_acc: 0.7722\n",
      "Epoch 2/50\n",
      "31/31 [==============================] - 11s 355ms/step - loss: 0.3605 - acc: 0.8164 - val_loss: 0.4654 - val_acc: 0.7903\n",
      "Epoch 3/50\n",
      "31/31 [==============================] - 12s 371ms/step - loss: 0.3725 - acc: 0.8047 - val_loss: 0.4912 - val_acc: 0.7883\n",
      "Epoch 4/50\n",
      "31/31 [==============================] - 11s 360ms/step - loss: 0.3655 - acc: 0.8004 - val_loss: 0.4408 - val_acc: 0.8085\n",
      "Epoch 5/50\n",
      "31/31 [==============================] - 11s 369ms/step - loss: 0.3879 - acc: 0.8083 - val_loss: 0.4408 - val_acc: 0.8065\n",
      "Epoch 6/50\n",
      "31/31 [==============================] - 11s 360ms/step - loss: 0.3578 - acc: 0.8283 - val_loss: 0.4890 - val_acc: 0.7883\n",
      "Epoch 7/50\n",
      "31/31 [==============================] - 11s 371ms/step - loss: 0.3486 - acc: 0.8285 - val_loss: 0.4550 - val_acc: 0.8004\n",
      "Epoch 8/50\n",
      "31/31 [==============================] - 11s 359ms/step - loss: 0.3889 - acc: 0.8007 - val_loss: 0.4541 - val_acc: 0.8105\n",
      "Epoch 9/50\n",
      "31/31 [==============================] - 11s 353ms/step - loss: 0.4057 - acc: 0.7720 - val_loss: 0.4502 - val_acc: 0.8085\n",
      "\n",
      "Epoch 00009: ReduceLROnPlateau reducing learning rate to 3.9999998989515007e-05.\n",
      "Epoch 10/50\n",
      "31/31 [==============================] - 11s 357ms/step - loss: 0.3412 - acc: 0.7984 - val_loss: 0.4376 - val_acc: 0.8145\n",
      "Epoch 11/50\n",
      "31/31 [==============================] - 11s 363ms/step - loss: 0.3761 - acc: 0.8143 - val_loss: 0.4514 - val_acc: 0.8125\n",
      "Epoch 12/50\n",
      "31/31 [==============================] - 11s 362ms/step - loss: 0.3521 - acc: 0.8027 - val_loss: 0.4520 - val_acc: 0.8145\n",
      "Epoch 13/50\n",
      "31/31 [==============================] - 11s 355ms/step - loss: 0.3636 - acc: 0.8182 - val_loss: 0.5004 - val_acc: 0.7863\n",
      "Epoch 14/50\n",
      "31/31 [==============================] - 11s 367ms/step - loss: 0.3835 - acc: 0.7984 - val_loss: 0.4575 - val_acc: 0.8085\n"
     ]
    }
   ],
   "source": [
    "batch_size = 16\n",
    "\n",
    "# fine-tune the model\n",
    "history_ft = fine_tune_model.fit_generator(\n",
    "    train_generator,\n",
    "    steps_per_epoch = 498 // batch_size,\n",
    "    epochs=50,\n",
    "    callbacks=callbacks,\n",
    "    validation_data=validation_generator,\n",
    "    validation_steps = 500 // batch_size)"
   ]
  },
  {
   "cell_type": "code",
   "execution_count": 0,
   "metadata": {
    "colab": {},
    "colab_type": "code",
    "id": "NuWITGWfE3pF",
    "outputId": "50949808-f0ec-406f-f5f0-35508fd28df2"
   },
   "outputs": [
    {
     "data": {
      "image/png": "[encoded data removed]",
      "text/plain": [
       "<Figure size 720x360 with 2 Axes>"
      ]
     },
     "metadata": {
      "tags": []
     },
     "output_type": "display_data"
    }
   ],
   "source": [
    "plot_loss_acc(history_ft)"
   ]
  },
  {
   "cell_type": "code",
   "execution_count": 0,
   "metadata": {
    "colab": {},
    "colab_type": "code",
    "id": "4xlV4jSLE3pJ",
    "outputId": "e2d0bb77-24ae-4a73-b114-b1d84613d026"
   },
   "outputs": [
    {
     "name": "stdout",
     "output_type": "stream",
     "text": [
      "             precision    recall  f1-score   support\n",
      "\n",
      "          0       0.76      0.89      0.82       250\n",
      "          1       0.87      0.72      0.79       250\n",
      "\n",
      "avg / total       0.82      0.81      0.81       500\n",
      "\n"
     ]
    }
   ],
   "source": [
    "predict_proba = fine_tune_model.predict_generator(validation_generator)\n",
    "predictions = pd.Series(predict_proba.reshape((500,))).apply(lambda x: 1 if x < 0.5 else 0)\n",
    "result_ft_f1 = f1_score(validation_labels, predictions)\n",
    "print(classification_report(validation_labels, predictions))"
   ]
  },
  {
   "cell_type": "markdown",
   "metadata": {
    "colab_type": "text",
    "id": "hYy28szTE3pP"
   },
   "source": [
    "В итоге удалось достигнуть accuracy порядка 0.81 и f1 порядка 0.79 для такого маленького датасета хотдогов и не хотдогов."
   ]
  },
  {
   "cell_type": "code",
   "execution_count": 0,
   "metadata": {
    "colab": {},
    "colab_type": "code",
    "id": "gXsrOWcfE3pP",
    "outputId": "bac0451c-d69e-44bc-b5fa-ae03504be9ab"
   },
   "outputs": [
    {
     "data": {
      "text/html": [
       "<div>\n",
       "<style scoped>\n",
       "    .dataframe tbody tr th:only-of-type {\n",
       "        vertical-align: middle;\n",
       "    }\n",
       "\n",
       "    .dataframe tbody tr th {\n",
       "        vertical-align: top;\n",
       "    }\n",
       "\n",
       "    .dataframe thead th {\n",
       "        text-align: right;\n",
       "    }\n",
       "</style>\n",
       "<table border=\"1\" class=\"dataframe\">\n",
       "  <thead>\n",
       "    <tr style=\"text-align: right;\">\n",
       "      <th></th>\n",
       "      <th>f1_score</th>\n",
       "    </tr>\n",
       "  </thead>\n",
       "  <tbody>\n",
       "    <tr>\n",
       "      <th>baseline_conv</th>\n",
       "      <td>0.587002</td>\n",
       "    </tr>\n",
       "    <tr>\n",
       "      <th>VGG16_bottleneck</th>\n",
       "      <td>0.781903</td>\n",
       "    </tr>\n",
       "    <tr>\n",
       "      <th>VGG16_finetune</th>\n",
       "      <td>0.790393</td>\n",
       "    </tr>\n",
       "  </tbody>\n",
       "</table>\n",
       "</div>"
      ],
      "text/plain": [
       "                  f1_score\n",
       "baseline_conv     0.587002\n",
       "VGG16_bottleneck  0.781903\n",
       "VGG16_finetune    0.790393"
      ]
     },
     "execution_count": 140,
     "metadata": {
      "tags": []
     },
     "output_type": "execute_result"
    }
   ],
   "source": [
    "pd.DataFrame([result_bs_f1, result_bn_f1, result_ft_f1], columns=['f1_score'], index=['baseline_conv', 'VGG16_bottleneck', 'VGG16_finetune'])"
   ]
  },
  {
   "cell_type": "markdown",
   "metadata": {
    "colab_type": "text",
    "id": "yA39q6_tE3pU"
   },
   "source": [
    "### Выводы:\n",
    "* Имея маленький датасет разумнее будет не обучать свою архитектуру с нуля, а лучше воспользоваться transfer learning для предобученной модели\n",
    "* Нужно с осторожностью относится к процессу fine-tunnig, чтобы сохранить способности сверточных слоев к выделению качественных признаков"
   ]
  }
 ],
 "metadata": {
  "colab": {
   "name": "NN_task3_hotdog.ipynb",
   "provenance": [],
   "version": "0.3.2"
  },
  "kernelspec": {
   "display_name": "Python 3",
   "language": "python",
   "name": "python3"
  },
  "language_info": {
   "codemirror_mode": {
    "name": "ipython",
    "version": 3
   },
   "file_extension": ".py",
   "mimetype": "text/x-python",
   "name": "python",
   "nbconvert_exporter": "python",
   "pygments_lexer": "ipython3",
   "version": "3.6.8"
  }
 },
 "nbformat": 4,
 "nbformat_minor": 1
}
