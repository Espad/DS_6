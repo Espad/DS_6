{
 "cells": [
  {
   "cell_type": "code",
   "execution_count": 2,
   "metadata": {},
   "outputs": [],
   "source": [
    "import pandas as pd\n",
    "import numpy as np\n",
    "import requests\n",
    "from umap import UMAP\n",
    "from tqdm import tqdm_notebook\n",
    "import pickle\n",
    "\n",
    "from sklearn.metrics.pairwise import cosine_similarity\n",
    "\n",
    "import matplotlib.pylab as plt\n",
    "import seaborn as sns\n",
    "%matplotlib inline"
   ]
  },
  {
   "cell_type": "markdown",
   "metadata": {},
   "source": [
    "# Loading already pre-trained publics embeddings"
   ]
  },
  {
   "cell_type": "code",
   "execution_count": 3,
   "metadata": {},
   "outputs": [
    {
     "name": "stdout",
     "output_type": "stream",
     "text": [
      "CPU times: user 14.1 s, sys: 1.56 s, total: 15.6 s\n",
      "Wall time: 15.8 s\n"
     ]
    }
   ],
   "source": [
    "%%time\n",
    "\n",
    "# https://drive.google.com/file/d/12KOF08jt0BVtnNDLAkMPoUiayIrhJV4j/view?usp=sharing\n",
    "publics_emb = pd.read_csv('starspace_vk_publics_dim128.zip', sep='\\t', header=None)\n",
    "publics_emb.set_index(0, inplace=True)\n",
    "publics_emb.index = publics_emb.index.map(lambda x: int(x.replace('p_','')))\n",
    "publics_emb.sort_index(inplace=True)\n",
    "publics_ids = set(publics_emb.index)"
   ]
  },
  {
   "cell_type": "code",
   "execution_count": 4,
   "metadata": {},
   "outputs": [],
   "source": [
    "# you can get your accsess_token using https://vkhost.github.io/\n",
    "# or official guidline https://vk.com/dev/access_token\n",
    "\n",
    "ACCESS_TOKEN = '___INSERT___YOUR__TOKEN___'\n",
    "\n",
    "def chunks(l, n):\n",
    "    for i in range(0, len(l), n):\n",
    "        yield l[i:i+n]\n",
    "        \n",
    "def search_groups(ids):\n",
    "    if type(ids) is not list:\n",
    "        ids = [ids]\n",
    "    ids = list(map(str, ids))\n",
    "    result = list()\n",
    "    for r in chunks(ids, 400):\n",
    "        result.extend(search_groups_(r))\n",
    "    return result\n",
    "    \n",
    "def search_groups_(ids):\n",
    "    url='https://api.vk.com/method/groups.getById?fields=members_count&group_ids={0}&v=5.61&access_token={1}'.format(','.join(ids), ACCESS_TOKEN)\n",
    "    response = requests.get(url)\n",
    "    if response.status_code == 200:\n",
    "        json_result = response.json()\n",
    "        return json_result['response']\n",
    "    return None\n",
    "\n",
    "def get_public_id(public_url):\n",
    "    if isinstance(public_url, int) or public_url.isdigit():\n",
    "        return int(public_url)\n",
    "    else:\n",
    "        if 'public' in public_url:\n",
    "            public_url = public_url.replace('public','')\n",
    "        if '/' in public_url:\n",
    "            public_url = public_url.split('/')[3]\n",
    "        return search_groups_([public_url])[0]['id']\n",
    "\n",
    "def show_groups_info(responses):\n",
    "    for item in responses:\n",
    "        print('http://vk.com/public%d %s'%(item['id'], item['name']))\n",
    "\n",
    "def get_user_subscriptions(user_id):\n",
    "    url = 'https://api.vk.com/method/users.getSubscriptions?user_id={0}&v=5.63&access_token={1}'.format(user_id, ACCESS_TOKEN)\n",
    "    response = requests.get(url, timeout=30)\n",
    "    if response.status_code == 200:\n",
    "        return response.json()['response']\n",
    "    return None\n",
    "\n",
    "def get_publics_embedings(user_subscriptions):\n",
    "    idx = publics_emb.index.searchsorted(user_subscriptions)\n",
    "    return publics_emb.iloc[idx].sum(axis=0)\n",
    "\n",
    "def get_public_vector(public_id):\n",
    "    return publics_emb.loc[public_id].values.reshape((1, -1))\n",
    "\n",
    "def get_recommendations(vector, top_n=5, except_subscriptions={}):\n",
    "    r = cosine_similarity(publics_emb.values, vector)\n",
    "    indexes = publics_emb.iloc[r.argsort(axis=0)[::-1].reshape(-1)[:top_n]].index\n",
    "    indexes = [x for x in indexes if x not in except_subscriptions]\n",
    "    return indexes"
   ]
  },
  {
   "cell_type": "markdown",
   "metadata": {},
   "source": [
    "# Measuring similarity between VK publics"
   ]
  },
  {
   "cell_type": "code",
   "execution_count": 5,
   "metadata": {},
   "outputs": [
    {
     "name": "stdout",
     "output_type": "stream",
     "text": [
      "[1.000000] https://vk.com/public72870626 ModelOverfit\n",
      "[0.718515] https://vk.com/public49815762 Data Mining Labs\n",
      "[0.654209] https://vk.com/public110085011 TensorFlow\n",
      "[0.590193] https://vk.com/public34737049 Сколковский институт науки и технологий\n",
      "[0.585816] https://vk.com/public31319658 Rusbase\n",
      "[0.520601] https://vk.com/public131489096 Мемы про Машинное Обучение для Взрослых Мужиков\n",
      "[0.501846] https://vk.com/public34171146 BCC|Bauman Career Club\n",
      "[0.483260] https://vk.com/public123851409 Тинькофф Финтех\n",
      "[0.478469] https://vk.com/public98006063 Программа стажировок SafeBoard\n",
      "[0.469668] https://vk.com/public43157549 IT-Events\n",
      "[0.467102] https://vk.com/public69839157 Библиотека программиста [eng]\n",
      "[0.461774] https://vk.com/public30767675 Фонд Сколково\n",
      "[0.455077] https://vk.com/public67401618 Вычислительная экономика\n",
      "[0.451318] https://vk.com/public67968050 КИВИ HSE\n",
      "[0.450249] https://vk.com/public36244753 Pareto\n",
      "[0.449072] https://vk.com/public68022762 FinExecutive\n",
      "[0.440781] https://vk.com/public33415527 McKinsey Business Diving 2018\n",
      "[0.438658] https://vk.com/public124972790 в смысле?\n"
     ]
    }
   ],
   "source": [
    "TEST_PUBLIC = 'https://vk.com/datascience'\n",
    "SHOW_TOP_N = 20\n",
    "\n",
    "# retrieving public ID from URL\n",
    "public_id = get_public_id(TEST_PUBLIC)\n",
    "\n",
    "# extracting already learned 128D vector (if TEST_PUBLIC in the index)\n",
    "public_vector = get_public_vector(public_id)\n",
    "\n",
    "# calculating similarity between TEST public and ALL others publics\n",
    "publics_similarity = cosine_similarity(publics_emb.values, public_vector) \n",
    "\n",
    "# sort ALL publics by similarity and take only TOP_N similar publics\n",
    "most_similar_indexes = publics_similarity.argsort(axis=0)[::-1].reshape(-1)[:SHOW_TOP_N]\n",
    "\n",
    "# take exact similarity values\n",
    "most_similar_values = publics_similarity[most_similar_indexes]\n",
    "\n",
    "# convert internal indexes into VK indexes\n",
    "most_similar_publics_ids = publics_emb.iloc[most_similar_indexes].index\n",
    "\n",
    "# retrieval public information (like public name)\n",
    "most_similar_publics_info = search_groups(most_similar_publics_ids)\n",
    "\n",
    "\n",
    "# show most similar publics\n",
    "for public_info, public_similarity in zip(most_similar_publics_info, most_similar_values):\n",
    "    print('[%f] https://vk.com/public%d %s'%(public_similarity, public_info['id'], public_info['name']))"
   ]
  },
  {
   "cell_type": "markdown",
   "metadata": {},
   "source": [
    "# Making recommendations for a user"
   ]
  },
  {
   "cell_type": "code",
   "execution_count": 6,
   "metadata": {},
   "outputs": [],
   "source": [
    "TEST_USER_ID = 16184332\n",
    "\n",
    "# retrieving test user subscriptions (publics)\n",
    "user_subscriptions_ids = get_user_subscriptions(TEST_USER_ID)['groups']['items']\n",
    "\n",
    "# filter publics by checking if the public is already learned\n",
    "user_subscriptions_ids = list(filter(lambda x: x in publics_ids, user_subscriptions_ids))\n",
    "user_subscriptions_name = [x['name'] for x in search_groups(user_subscriptions_ids)]\n",
    "\n",
    "if len(user_subscriptions_ids) == 0:\n",
    "    raise Exception(\"There are no subsriptions\")\n",
    "\n",
    "# extracting vectors for all user subscriptions (publics)\n",
    "user_subscriptions_embeddings = np.vstack([get_public_vector(x) for x in user_subscriptions_ids])"
   ]
  },
  {
   "cell_type": "markdown",
   "metadata": {},
   "source": [
    "### Visualizing user subscriptions"
   ]
  },
  {
   "cell_type": "code",
   "execution_count": 7,
   "metadata": {},
   "outputs": [
    {
     "name": "stdout",
     "output_type": "stream",
     "text": [
      "CPU times: user 4.98 s, sys: 80 ms, total: 5.06 s\n",
      "Wall time: 5.25 s\n"
     ]
    },
    {
     "data": {
      "image/png": "[encoded data removed]",
      "text/plain": [
       "<Figure size 432x288 with 1 Axes>"
      ]
     },
     "metadata": {
      "needs_background": "light"
     },
     "output_type": "display_data"
    }
   ],
   "source": [
    "%%time\n",
    "# reduce dimension of user subscriptions for visualization\n",
    "umap_dim_reductor = UMAP(n_neighbors=5, metric='cosine') # we also can use TSNE\n",
    "reduced_vectors = umap_dim_reductor.fit_transform(user_subscriptions_embeddings)\n",
    "\n",
    "# visualization\n",
    "fig, ax = plt.subplots()\n",
    "ax.scatter(reduced_vectors[:,0], reduced_vectors[:,1])\n",
    "\n",
    "for i, txt in enumerate(user_subscriptions_name):\n",
    "    ax.annotate(txt, reduced_vectors[i])"
   ]
  },
  {
   "cell_type": "markdown",
   "metadata": {},
   "source": [
    "### Calculating most similar publics to the user"
   ]
  },
  {
   "cell_type": "code",
   "execution_count": 8,
   "metadata": {},
   "outputs": [
    {
     "name": "stdout",
     "output_type": "stream",
     "text": [
      "[0.673578] https://vk.com/public49815762 Data Mining Labs\n",
      "[0.618836] https://vk.com/public54799175 Лекториум\n",
      "[0.598495] https://vk.com/public31319658 Rusbase\n",
      "[0.598103] https://vk.com/public72870626 ModelOverfit\n",
      "[0.597527] https://vk.com/public67977655 Newtonew\n",
      "[0.574183] https://vk.com/public77270571 Geektimes\n",
      "[0.562063] https://vk.com/public80512191 Newочём\n",
      "[0.559947] https://vk.com/public96047932 Мастриды\n",
      "[0.555817] https://vk.com/public110085011 TensorFlow\n",
      "[0.547429] https://vk.com/public64915591 Spark\n",
      "[0.534682] https://vk.com/public91933860 N + 1\n",
      "[0.534682] https://vk.com/public16466790 Теории и практики\n",
      "[0.519229] https://vk.com/public132769220 Inc. Russia\n",
      "[0.505311] https://vk.com/public69839157 Библиотека программиста [eng]\n",
      "[0.504930] https://vk.com/public65688570 Less Wrong по-русски\n",
      "[0.504753] https://vk.com/public34737049 Сколковский институт науки и технологий\n",
      "[0.504657] https://vk.com/public30825867 Start Fellows\n",
      "[0.503500] https://vk.com/public9471321 Курилка Гутенберга | Просветительский проект\n"
     ]
    }
   ],
   "source": [
    "# getting *user vector* by summing all embeddings\n",
    "user_representation = np.sum(user_subscriptions_embeddings, axis=0).reshape(1, -1)\n",
    "\n",
    "# the same steps as in previous\n",
    "# calculating similarity between TEST public and ALL others publics\n",
    "publics_similarity = cosine_similarity(publics_emb.values, user_representation) \n",
    "\n",
    "# sort ALL publics by similarity and take only TOP_N similar publics\n",
    "most_similar_indexes = publics_similarity.argsort(axis=0)[::-1].reshape(-1)[:SHOW_TOP_N]\n",
    "\n",
    "# take exact similarity values\n",
    "most_similar_values = publics_similarity[most_similar_indexes]\n",
    "\n",
    "# convert internal indexes into VK indexes\n",
    "most_similar_publics_ids = publics_emb.iloc[most_similar_indexes].index\n",
    "\n",
    "# retrieval public information (like public name)\n",
    "most_similar_publics_info = search_groups(most_similar_publics_ids)\n",
    "\n",
    "\n",
    "# show most similar publics\n",
    "for public_info, public_similarity in zip(most_similar_publics_info, most_similar_values):\n",
    "    print('[%f] https://vk.com/public%d %s'%(public_similarity, public_info['id'], public_info['name']))"
   ]
  },
  {
   "cell_type": "markdown",
   "metadata": {},
   "source": [
    "# Visualization of semantic space for top 10000 VK publics "
   ]
  },
  {
   "cell_type": "markdown",
   "metadata": {},
   "source": [
    "Visualization of semantic space for top 10000 VK publics <br>\n",
    "https://puzer.github.io/projector/"
   ]
  },
  {
   "cell_type": "markdown",
   "metadata": {},
   "source": [
    "# Predicting user gender based on subscriptions"
   ]
  },
  {
   "cell_type": "markdown",
   "metadata": {},
   "source": [
    "### Loading a random sample of users"
   ]
  },
  {
   "cell_type": "code",
   "execution_count": 9,
   "metadata": {},
   "outputs": [
    {
     "name": "stdout",
     "output_type": "stream",
     "text": [
      "Users in sample: 100000\n",
      "One example:\n"
     ]
    },
    {
     "data": {
      "text/plain": [
       "{'date': 1986,\n",
       " 'sex': 2,\n",
       " 'subscriptions': [25613643,\n",
       "  32593073,\n",
       "  73514560,\n",
       "  119842966,\n",
       "  6359845,\n",
       "  42697493,\n",
       "  47703317,\n",
       "  99846159]}"
      ]
     },
     "execution_count": 9,
     "metadata": {},
     "output_type": "execute_result"
    }
   ],
   "source": [
    "# https://drive.google.com/open?id=1XsFcvnMr6NAIZD78brofEU2o8tYXoVQs\n",
    "users_profile = pickle.load(open('users_sample.pkl', 'rb'))\n",
    "\n",
    "print('Users in sample:', len(users_profile))\n",
    "print('One example:')\n",
    "next(iter(users_profile.values()))"
   ]
  },
  {
   "cell_type": "markdown",
   "metadata": {},
   "source": [
    "### EDA (exploratory data analysis)"
   ]
  },
  {
   "cell_type": "code",
   "execution_count": 13,
   "metadata": {},
   "outputs": [
    {
     "data": {
      "image/png": "[encoded data removed]",
      "text/plain": [
       "<Figure size 432x288 with 1 Axes>"
      ]
     },
     "metadata": {
      "needs_background": "light"
     },
     "output_type": "display_data"
    }
   ],
   "source": [
    "plt.hist([len(v['subscriptions']) for k,v in users_profile.items() if v['sex']==1], bins=50, label='female', alpha=0.5)\n",
    "plt.hist([len(v['subscriptions']) for k,v in users_profile.items() if v['sex']==2], bins=50, label='male', alpha=0.5)\n",
    "\n",
    "plt.legend()\n",
    "plt.title('Distribution of subscriptions')\n",
    "plt.xlabel('Number of subscriptions')\n",
    "plt.ylabel('Number of people')\n",
    "plt.show()"
   ]
  },
  {
   "cell_type": "code",
   "execution_count": 14,
   "metadata": {},
   "outputs": [
    {
     "data": {
      "image/png": "[encoded data removed]",
      "text/plain": [
       "<Figure size 432x288 with 1 Axes>"
      ]
     },
     "metadata": {
      "needs_background": "light"
     },
     "output_type": "display_data"
    }
   ],
   "source": [
    "plt.hist([v['date'] for k,v in users_profile.items() if v['sex']==1], bins=50, label='female', alpha=0.5)\n",
    "plt.hist([v['date'] for k,v in users_profile.items() if v['sex']==2], bins=50, label='male', alpha=0.5)\n",
    "\n",
    "plt.title('Distribution of age in the sample')\n",
    "plt.xlabel('Age')\n",
    "plt.ylabel('Number of people')\n",
    "plt.legend()\n",
    "plt.show()"
   ]
  },
  {
   "cell_type": "markdown",
   "metadata": {},
   "source": [
    "### Most popular publics"
   ]
  },
  {
   "cell_type": "code",
   "execution_count": 15,
   "metadata": {},
   "outputs": [
    {
     "name": "stdout",
     "output_type": "stream",
     "text": [
      "http://vk.com/public27895931 Новая Музыка 2018 | Новинки\n",
      "http://vk.com/public45441631 ПРИКОЛЫ | Смеяка\n",
      "http://vk.com/public43215063 Киномания | Новинки 2018\n",
      "http://vk.com/public26419239 Смейся до слёз :D\n",
      "http://vk.com/public22798006 Киномания\n",
      "http://vk.com/public57846937 MDK\n",
      "http://vk.com/public23064236 Четкие Приколы\n",
      "http://vk.com/public12382740 ЁП\n",
      "http://vk.com/public58170807 КиноКайф - Лучшие фильмы\n",
      "http://vk.com/public31836774 Чёткие приколы\n"
     ]
    }
   ],
   "source": [
    "from itertools import chain\n",
    "from collections import Counter\n",
    "\n",
    "all_subscriptions = list(chain(*[v['subscriptions'] for k,v in users_profile.items()]))\n",
    "publics_frequency = Counter(all_subscriptions)\n",
    "\n",
    "show_groups_info(search_groups(list(list(zip(*publics_frequency.most_common(10)))[0])))"
   ]
  },
  {
   "cell_type": "markdown",
   "metadata": {},
   "source": [
    "### Preprocessing training data"
   ]
  },
  {
   "cell_type": "code",
   "execution_count": 11,
   "metadata": {},
   "outputs": [],
   "source": [
    "from sklearn.feature_extraction import DictVectorizer\n",
    "\n",
    "target = list()\n",
    "users_subscriptions = list()\n",
    "\n",
    "for k,v in users_profile.items():\n",
    "    user_publics = publics_ids & set( v['subscriptions'])\n",
    "    if len(user_publics) >= 5:\n",
    "        target.append(v['sex'] == 2) # is it a male ?\n",
    "        users_subscriptions.append({uid:1 for uid in user_publics})\n",
    "\n",
    "dict_vectorizer = DictVectorizer()\n",
    "X_data = dict_vectorizer.fit_transform(users_subscriptions)\n",
    "dict_vectorizer.inverse_vocabulary_ = {v:k for k,v in dict_vectorizer.vocabulary_.items()}\n",
    "\n",
    "y_data = np.array(target)"
   ]
  },
  {
   "cell_type": "markdown",
   "metadata": {},
   "source": [
    "### Training model"
   ]
  },
  {
   "cell_type": "code",
   "execution_count": 12,
   "metadata": {},
   "outputs": [
    {
     "data": {
      "text/plain": [
       "SGDClassifier(alpha=0.0001, average=False, class_weight='balanced',\n",
       "       epsilon=0.1, eta0=0.0, fit_intercept=True, l1_ratio=0.15,\n",
       "       learning_rate='optimal', loss='log', max_iter=5, n_iter=None,\n",
       "       n_jobs=1, penalty='l2', power_t=0.5, random_state=None,\n",
       "       shuffle=True, tol=None, verbose=0, warm_start=False)"
      ]
     },
     "execution_count": 12,
     "metadata": {},
     "output_type": "execute_result"
    }
   ],
   "source": [
    "from sklearn.linear_model import SGDClassifier\n",
    "from sklearn.model_selection import train_test_split\n",
    "from sklearn.metrics import accuracy_score, roc_auc_score\n",
    "\n",
    "X_train, X_test, y_train, y_test = train_test_split(X_data, y_data, random_state=42)\n",
    "\n",
    "#X_train = X_train[:100]\n",
    "#y_train = y_train[:100]\n",
    "\n",
    "clf = SGDClassifier(loss='log', penalty = 'l2', class_weight='balanced', max_iter = 5)\n",
    "clf.fit(X_train, y_train)"
   ]
  },
  {
   "cell_type": "markdown",
   "metadata": {},
   "source": [
    "### Evaluating model performance"
   ]
  },
  {
   "cell_type": "code",
   "execution_count": 13,
   "metadata": {},
   "outputs": [
    {
     "name": "stdout",
     "output_type": "stream",
     "text": [
      "Accuracy: 0.8902908035895014\n",
      "AUC-ROC: 0.9563179401792606\n"
     ]
    }
   ],
   "source": [
    "print('Accuracy:', clf.score(X_test, y_test))\n",
    "print('AUC-ROC:', roc_auc_score(y_test, clf.predict_proba(X_test)[:,1]))"
   ]
  },
  {
   "cell_type": "markdown",
   "metadata": {},
   "source": [
    "### Analysing of model performance"
   ]
  },
  {
   "cell_type": "code",
   "execution_count": 20,
   "metadata": {},
   "outputs": [
    {
     "data": {
      "image/png": "[encoded data removed]",
      "text/plain": [
       "<Figure size 432x288 with 1 Axes>"
      ]
     },
     "metadata": {
      "needs_background": "light"
     },
     "output_type": "display_data"
    }
   ],
   "source": [
    "nb_of_subscriptions = X_test.sum(axis=1).A.reshape(-1)\n",
    "\n",
    "thresholds = list(range(5, 100, 5))\n",
    "accuracy_scores = list()\n",
    "\n",
    "for nb_of_subscriptions_threshold in thresholds:\n",
    "    mask = nb_of_subscriptions >= nb_of_subscriptions_threshold\n",
    "    accuracy_scores.append(clf.score(X_test[mask], y_test[mask]))\n",
    "    \n",
    "plt.plot(thresholds, accuracy_scores)\n",
    "plt.ylabel('Accuracy')\n",
    "plt.xlabel('Number of subscriptions')\n",
    "plt.title('Influence of number of subscriptions on accuracy')\n",
    "plt.xticks(thresholds)\n",
    "plt.show()"
   ]
  },
  {
   "cell_type": "markdown",
   "metadata": {},
   "source": [
    "### Analysing model parameters"
   ]
  },
  {
   "cell_type": "code",
   "execution_count": 21,
   "metadata": {
    "scrolled": false
   },
   "outputs": [
    {
     "name": "stdout",
     "output_type": "stream",
     "text": [
      "The most masculine publics\n",
      "http://vk.com/public51812607 Российская Премьер-Лига\n",
      "http://vk.com/public68988957 МЯСО | Мужская кухня\n",
      "http://vk.com/public23783750 AUTO\n",
      "http://vk.com/public90060110 АВТО\n",
      "http://vk.com/public43726747 Джентльмен Club\n",
      "http://vk.com/public36220599 Бодибилдинг | Спорт | ЗОЖ\n",
      "http://vk.com/public27570276 Мастерская \"220 Вольт\"\n",
      "http://vk.com/public56433000 Рыбалка\n",
      "http://vk.com/public101573653 Opegit Studio\n",
      "http://vk.com/public25397178 Мужские мысли\n",
      "\n",
      "\n",
      "The most feminine publics\n",
      "http://vk.com/public109331971 Лайфхакерша\n",
      "http://vk.com/public44781847 Институт Благородных Девиц\n",
      "http://vk.com/public46509740 Маникюр | Ногти\n",
      "http://vk.com/public5670814 ВЯЗАНИЕ\n",
      "http://vk.com/public29229694 Женские секреты\n",
      "http://vk.com/public136798187 Шальная\n",
      "http://vk.com/public140238979 Mark Cosmetics\n",
      "http://vk.com/public79644253 Шикарные прически. Макияж\n",
      "http://vk.com/public107019848 Уроки красоты | Video\n",
      "http://vk.com/public18464856 Лучшие рецепты Повара\n"
     ]
    }
   ],
   "source": [
    "model_params_args = clf.coef_[0].argsort()\n",
    "\n",
    "most_feminine_publics = [dict_vectorizer.inverse_vocabulary_[x] for x in model_params_args[:10]]\n",
    "most_masculine_publics =  [dict_vectorizer.inverse_vocabulary_[x] for x in model_params_args[-10:]]\n",
    "\n",
    "print('The most masculine publics')\n",
    "show_groups_info(search_groups(most_masculine_publics))\n",
    "\n",
    "print('\\n\\nThe most feminine publics')\n",
    "show_groups_info(search_groups(most_feminine_publics))"
   ]
  },
  {
   "cell_type": "markdown",
   "metadata": {},
   "source": [
    "# Training model using pretraining publics embedding"
   ]
  },
  {
   "cell_type": "markdown",
   "metadata": {},
   "source": [
    "### on limited number of training examples"
   ]
  },
  {
   "cell_type": "code",
   "execution_count": 22,
   "metadata": {},
   "outputs": [
    {
     "data": {
      "application/vnd.jupyter.widget-view+json": {
       "model_id": "b0ad080d45c4423ab5a58b821d5e71ee",
       "version_major": 2,
       "version_minor": 0
      },
      "text/plain": [
       "HBox(children=(IntProgress(value=0, max=59282), HTML(value='')))"
      ]
     },
     "metadata": {},
     "output_type": "display_data"
    },
    {
     "name": "stdout",
     "output_type": "stream",
     "text": [
      "\n"
     ]
    }
   ],
   "source": [
    "users_vectors = list()\n",
    "for subscr in tqdm_notebook(users_subscriptions):\n",
    "    user_embedding = get_publics_embedings(list(subscr.keys()))\n",
    "    users_vectors.append(user_embedding)\n",
    "    \n",
    "users_vectors = np.array(users_vectors)"
   ]
  },
  {
   "cell_type": "code",
   "execution_count": 23,
   "metadata": {},
   "outputs": [
    {
     "data": {
      "text/plain": [
       "LogisticRegression(C=1.0, class_weight='balanced', dual=False,\n",
       "          fit_intercept=True, intercept_scaling=1, max_iter=100,\n",
       "          multi_class='ovr', n_jobs=1, penalty='l2', random_state=None,\n",
       "          solver='liblinear', tol=0.0001, verbose=0, warm_start=False)"
      ]
     },
     "execution_count": 23,
     "metadata": {},
     "output_type": "execute_result"
    }
   ],
   "source": [
    "from sklearn.linear_model import LogisticRegression\n",
    "\n",
    "X_train, X_test, y_train, y_test = train_test_split(users_vectors, y_data, random_state=42)\n",
    "\n",
    "# we are using only 100 examples for training\n",
    "X_train = X_train[:100]\n",
    "y_train = y_train[:100]\n",
    "\n",
    "clf = LogisticRegression(penalty = 'l2', class_weight='balanced')\n",
    "clf.fit(X_train, y_train)"
   ]
  },
  {
   "cell_type": "code",
   "execution_count": 24,
   "metadata": {},
   "outputs": [
    {
     "name": "stdout",
     "output_type": "stream",
     "text": [
      "Accuracy: 0.8456244517913771\n",
      "AUC-ROC: 0.9118659330914768\n"
     ]
    }
   ],
   "source": [
    "print('Accuracy:', clf.score(X_test, y_test))\n",
    "print('AUC-ROC:', roc_auc_score(y_test, clf.predict_proba(X_test)[:,1]))"
   ]
  },
  {
   "cell_type": "markdown",
   "metadata": {},
   "source": [
    "### Try to train previous model (on raw data) with only 100 examples and evaluate performance of model"
   ]
  },
  {
   "cell_type": "code",
   "execution_count": null,
   "metadata": {},
   "outputs": [],
   "source": [
    "Accuracy: 0.6979286148033196\n",
    "AUC-ROC: 0.7722424667713246"
   ]
  }
 ],
 "metadata": {
  "kernelspec": {
   "display_name": "Python 3",
   "language": "python",
   "name": "python3"
  },
  "language_info": {
   "codemirror_mode": {
    "name": "ipython",
    "version": 3
   },
   "file_extension": ".py",
   "mimetype": "text/x-python",
   "name": "python",
   "nbconvert_exporter": "python",
   "pygments_lexer": "ipython3",
   "version": "3.6.3"
  }
 },
 "nbformat": 4,
 "nbformat_minor": 2
}
