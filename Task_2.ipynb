{
  "nbformat": 4,
  "nbformat_minor": 0,
  "metadata": {
    "colab": {
      "name": "Task_2.ipynb",
      "version": "0.3.2",
      "provenance": [],
      "collapsed_sections": [],
      "toc_visible": true
    },
    "kernelspec": {
      "name": "python3",
      "display_name": "Python 3"
    },
    "accelerator": "TPU"
  },
  "cells": [
    {
      "metadata": {
        "id": "eZTGigIY-nYx",
        "colab_type": "text"
      },
      "cell_type": "markdown",
      "source": [
        "Task statement:\n",
        "\n",
        "Multi-class классификация.\n",
        "Рекуррентные и свёрточные нейрононные сети и embeddings для работы с текстом.\n",
        "\n",
        "Датасет - Руcскоязычные отзывы с оценками.\n",
        "\n",
        "Метрика - f1-score, weighted.\n",
        "\n",
        "Задачи:\n",
        "\n",
        "- Обучить линейную модель на TF-IDF представлении для предсказания оценки пользователя по его отзыву. Посмотреть на важность для каждой оценки.\n",
        "- Обучить рекуррентную нейронную сеть для предсказания оценки пользователя по его отзыву. Использовать случайную инициализация весов.\n",
        "- Обучить «fasttext» модель на n-граммах используя случайную инициализацию эмбедингов. \n",
        "- Обучить сharacter based модель (вместо слов мы подаём предложение посимвольно). \n",
        "    Заимплементить самому, либо нагуглить готовые имплементации.\n",
        "- Опционально (for honor): Обучить модель из примера имплементации ниже, но с использованием уже предобученного word2vec для русского языка. в качестве инициализации эмбединга.\n"
      ]
    },
    {
      "metadata": {
        "id": "cKGE7TWm-nYy",
        "colab_type": "code",
        "outputId": "03a8ef2b-c6c5-4ae9-ccb7-1279323877cc",
        "colab": {
          "base_uri": "https://localhost:8080/",
          "height": 1312
        }
      },
      "cell_type": "code",
      "source": [
        "#update libs in colab\n",
        "!pip install --upgrade pandas\n",
        "!pip install --upgrade scikit-learn\n",
        "!pip install --upgrade seaborn\n",
        "!pip install --upgrade tensorflow\n",
        "!pip install --upgrade pymystem3\n",
        "!pip install --upgrade requests\n",
        "!pip install --upgrade gensim\n",
        "!pip install --upgrade imblearn"
      ],
      "execution_count": 1,
      "outputs": [
        {
          "output_type": "stream",
          "text": [
            "Requirement already up-to-date: pandas in /usr/local/lib/python3.6/dist-packages (0.24.1)\n",
            "Requirement already satisfied, skipping upgrade: python-dateutil>=2.5.0 in /usr/local/lib/python3.6/dist-packages (from pandas) (2.5.3)\n",
            "Requirement already satisfied, skipping upgrade: numpy>=1.12.0 in /usr/local/lib/python3.6/dist-packages (from pandas) (1.14.6)\n",
            "Requirement already satisfied, skipping upgrade: pytz>=2011k in /usr/local/lib/python3.6/dist-packages (from pandas) (2018.9)\n",
            "Requirement already satisfied, skipping upgrade: six>=1.5 in /usr/local/lib/python3.6/dist-packages (from python-dateutil>=2.5.0->pandas) (1.11.0)\n",
            "Requirement already up-to-date: scikit-learn in /usr/local/lib/python3.6/dist-packages (0.20.2)\n",
            "Requirement already satisfied, skipping upgrade: numpy>=1.8.2 in /usr/local/lib/python3.6/dist-packages (from scikit-learn) (1.14.6)\n",
            "Requirement already satisfied, skipping upgrade: scipy>=0.13.3 in /usr/local/lib/python3.6/dist-packages (from scikit-learn) (1.1.0)\n",
            "Requirement already up-to-date: seaborn in /usr/local/lib/python3.6/dist-packages (0.9.0)\n",
            "Requirement already satisfied, skipping upgrade: matplotlib>=1.4.3 in /usr/local/lib/python3.6/dist-packages (from seaborn) (3.0.2)\n",
            "Requirement already satisfied, skipping upgrade: numpy>=1.9.3 in /usr/local/lib/python3.6/dist-packages (from seaborn) (1.14.6)\n",
            "Requirement already satisfied, skipping upgrade: pandas>=0.15.2 in /usr/local/lib/python3.6/dist-packages (from seaborn) (0.24.1)\n",
            "Requirement already satisfied, skipping upgrade: scipy>=0.14.0 in /usr/local/lib/python3.6/dist-packages (from seaborn) (1.1.0)\n",
            "Requirement already satisfied, skipping upgrade: pyparsing!=2.0.4,!=2.1.2,!=2.1.6,>=2.0.1 in /usr/local/lib/python3.6/dist-packages (from matplotlib>=1.4.3->seaborn) (2.3.1)\n",
            "Requirement already satisfied, skipping upgrade: python-dateutil>=2.1 in /usr/local/lib/python3.6/dist-packages (from matplotlib>=1.4.3->seaborn) (2.5.3)\n",
            "Requirement already satisfied, skipping upgrade: kiwisolver>=1.0.1 in /usr/local/lib/python3.6/dist-packages (from matplotlib>=1.4.3->seaborn) (1.0.1)\n",
            "Requirement already satisfied, skipping upgrade: cycler>=0.10 in /usr/local/lib/python3.6/dist-packages (from matplotlib>=1.4.3->seaborn) (0.10.0)\n",
            "Requirement already satisfied, skipping upgrade: pytz>=2011k in /usr/local/lib/python3.6/dist-packages (from pandas>=0.15.2->seaborn) (2018.9)\n",
            "Requirement already satisfied, skipping upgrade: six>=1.5 in /usr/local/lib/python3.6/dist-packages (from python-dateutil>=2.1->matplotlib>=1.4.3->seaborn) (1.11.0)\n",
            "Requirement already satisfied, skipping upgrade: setuptools in /usr/local/lib/python3.6/dist-packages (from kiwisolver>=1.0.1->matplotlib>=1.4.3->seaborn) (40.8.0)\n",
            "Requirement already up-to-date: pprint in /usr/local/lib/python3.6/dist-packages (0.1)\n",
            "Requirement already up-to-date: tensorflow in /usr/local/lib/python3.6/dist-packages (1.13.0rc1)\n",
            "Requirement already satisfied, skipping upgrade: tensorboard<1.13.0,>=1.12.0 in /usr/local/lib/python3.6/dist-packages (from tensorflow) (1.12.2)\n",
            "Requirement already satisfied, skipping upgrade: astor>=0.6.0 in /usr/local/lib/python3.6/dist-packages (from tensorflow) (0.7.1)\n",
            "Requirement already satisfied, skipping upgrade: protobuf>=3.6.1 in /usr/local/lib/python3.6/dist-packages (from tensorflow) (3.6.1)\n",
            "Requirement already satisfied, skipping upgrade: termcolor>=1.1.0 in /usr/local/lib/python3.6/dist-packages (from tensorflow) (1.1.0)\n",
            "Requirement already satisfied, skipping upgrade: numpy>=1.13.3 in /usr/local/lib/python3.6/dist-packages (from tensorflow) (1.14.6)\n",
            "Requirement already satisfied, skipping upgrade: keras-applications>=1.0.6 in /usr/local/lib/python3.6/dist-packages (from tensorflow) (1.0.7)\n",
            "Requirement already satisfied, skipping upgrade: wheel>=0.26 in /usr/local/lib/python3.6/dist-packages (from tensorflow) (0.33.0)\n",
            "Requirement already satisfied, skipping upgrade: gast>=0.2.0 in /usr/local/lib/python3.6/dist-packages (from tensorflow) (0.2.2)\n",
            "Requirement already satisfied, skipping upgrade: grpcio>=1.8.6 in /usr/local/lib/python3.6/dist-packages (from tensorflow) (1.15.0)\n",
            "Requirement already satisfied, skipping upgrade: tensorflow-estimator<1.14.0rc0,>=1.13.0rc0 in /usr/local/lib/python3.6/dist-packages (from tensorflow) (1.13.0rc0)\n",
            "Requirement already satisfied, skipping upgrade: keras-preprocessing>=1.0.5 in /usr/local/lib/python3.6/dist-packages (from tensorflow) (1.0.9)\n",
            "Requirement already satisfied, skipping upgrade: absl-py>=0.1.6 in /usr/local/lib/python3.6/dist-packages (from tensorflow) (0.7.0)\n",
            "Requirement already satisfied, skipping upgrade: six>=1.10.0 in /usr/local/lib/python3.6/dist-packages (from tensorflow) (1.11.0)\n",
            "Requirement already satisfied, skipping upgrade: werkzeug>=0.11.10 in /usr/local/lib/python3.6/dist-packages (from tensorboard<1.13.0,>=1.12.0->tensorflow) (0.14.1)\n",
            "Requirement already satisfied, skipping upgrade: markdown>=2.6.8 in /usr/local/lib/python3.6/dist-packages (from tensorboard<1.13.0,>=1.12.0->tensorflow) (3.0.1)\n",
            "Requirement already satisfied, skipping upgrade: setuptools in /usr/local/lib/python3.6/dist-packages (from protobuf>=3.6.1->tensorflow) (40.8.0)\n",
            "Requirement already satisfied, skipping upgrade: h5py in /usr/local/lib/python3.6/dist-packages (from keras-applications>=1.0.6->tensorflow) (2.8.0)\n",
            "Requirement already satisfied, skipping upgrade: mock>=2.0.0 in /usr/local/lib/python3.6/dist-packages (from tensorflow-estimator<1.14.0rc0,>=1.13.0rc0->tensorflow) (2.0.0)\n",
            "Requirement already satisfied, skipping upgrade: pbr>=0.11 in /usr/local/lib/python3.6/dist-packages (from mock>=2.0.0->tensorflow-estimator<1.14.0rc0,>=1.13.0rc0->tensorflow) (5.1.2)\n",
            "Requirement already up-to-date: pymystem3 in /usr/local/lib/python3.6/dist-packages (0.2.0)\n",
            "Requirement already satisfied, skipping upgrade: requests in /usr/local/lib/python3.6/dist-packages (from pymystem3) (2.21.0)\n",
            "Requirement already satisfied, skipping upgrade: urllib3<1.25,>=1.21.1 in /usr/local/lib/python3.6/dist-packages (from requests->pymystem3) (1.22)\n",
            "Requirement already satisfied, skipping upgrade: certifi>=2017.4.17 in /usr/local/lib/python3.6/dist-packages (from requests->pymystem3) (2018.11.29)\n",
            "Requirement already satisfied, skipping upgrade: chardet<3.1.0,>=3.0.2 in /usr/local/lib/python3.6/dist-packages (from requests->pymystem3) (3.0.4)\n",
            "Requirement already satisfied, skipping upgrade: idna<2.9,>=2.5 in /usr/local/lib/python3.6/dist-packages (from requests->pymystem3) (2.6)\n",
            "Requirement already up-to-date: requests in /usr/local/lib/python3.6/dist-packages (2.21.0)\n",
            "Requirement already satisfied, skipping upgrade: chardet<3.1.0,>=3.0.2 in /usr/local/lib/python3.6/dist-packages (from requests) (3.0.4)\n",
            "Requirement already satisfied, skipping upgrade: idna<2.9,>=2.5 in /usr/local/lib/python3.6/dist-packages (from requests) (2.6)\n",
            "Requirement already satisfied, skipping upgrade: certifi>=2017.4.17 in /usr/local/lib/python3.6/dist-packages (from requests) (2018.11.29)\n",
            "Requirement already satisfied, skipping upgrade: urllib3<1.25,>=1.21.1 in /usr/local/lib/python3.6/dist-packages (from requests) (1.22)\n",
            "Requirement already up-to-date: gensim in /usr/local/lib/python3.6/dist-packages (3.7.1)\n",
            "Requirement already satisfied, skipping upgrade: numpy>=1.11.3 in /usr/local/lib/python3.6/dist-packages (from gensim) (1.14.6)\n",
            "Requirement already satisfied, skipping upgrade: six>=1.5.0 in /usr/local/lib/python3.6/dist-packages (from gensim) (1.11.0)\n",
            "Requirement already satisfied, skipping upgrade: smart-open>=1.7.0 in /usr/local/lib/python3.6/dist-packages (from gensim) (1.8.0)\n",
            "Requirement already satisfied, skipping upgrade: scipy>=0.18.1 in /usr/local/lib/python3.6/dist-packages (from gensim) (1.1.0)\n",
            "Requirement already satisfied, skipping upgrade: boto>=2.32 in /usr/local/lib/python3.6/dist-packages (from smart-open>=1.7.0->gensim) (2.49.0)\n",
            "Requirement already satisfied, skipping upgrade: bz2file in /usr/local/lib/python3.6/dist-packages (from smart-open>=1.7.0->gensim) (0.98)\n",
            "Requirement already satisfied, skipping upgrade: requests in /usr/local/lib/python3.6/dist-packages (from smart-open>=1.7.0->gensim) (2.21.0)\n",
            "Requirement already satisfied, skipping upgrade: boto3 in /usr/local/lib/python3.6/dist-packages (from smart-open>=1.7.0->gensim) (1.9.94)\n",
            "Requirement already satisfied, skipping upgrade: urllib3<1.25,>=1.21.1 in /usr/local/lib/python3.6/dist-packages (from requests->smart-open>=1.7.0->gensim) (1.22)\n",
            "Requirement already satisfied, skipping upgrade: idna<2.9,>=2.5 in /usr/local/lib/python3.6/dist-packages (from requests->smart-open>=1.7.0->gensim) (2.6)\n",
            "Requirement already satisfied, skipping upgrade: chardet<3.1.0,>=3.0.2 in /usr/local/lib/python3.6/dist-packages (from requests->smart-open>=1.7.0->gensim) (3.0.4)\n",
            "Requirement already satisfied, skipping upgrade: certifi>=2017.4.17 in /usr/local/lib/python3.6/dist-packages (from requests->smart-open>=1.7.0->gensim) (2018.11.29)\n",
            "Requirement already satisfied, skipping upgrade: botocore<1.13.0,>=1.12.94 in /usr/local/lib/python3.6/dist-packages (from boto3->smart-open>=1.7.0->gensim) (1.12.94)\n",
            "Requirement already satisfied, skipping upgrade: jmespath<1.0.0,>=0.7.1 in /usr/local/lib/python3.6/dist-packages (from boto3->smart-open>=1.7.0->gensim) (0.9.3)\n",
            "Requirement already satisfied, skipping upgrade: s3transfer<0.3.0,>=0.2.0 in /usr/local/lib/python3.6/dist-packages (from boto3->smart-open>=1.7.0->gensim) (0.2.0)\n",
            "Requirement already satisfied, skipping upgrade: docutils>=0.10 in /usr/local/lib/python3.6/dist-packages (from botocore<1.13.0,>=1.12.94->boto3->smart-open>=1.7.0->gensim) (0.14)\n",
            "Requirement already satisfied, skipping upgrade: python-dateutil<3.0.0,>=2.1; python_version >= \"2.7\" in /usr/local/lib/python3.6/dist-packages (from botocore<1.13.0,>=1.12.94->boto3->smart-open>=1.7.0->gensim) (2.5.3)\n",
            "Requirement already up-to-date: imblearn in /usr/local/lib/python3.6/dist-packages (0.0)\n",
            "Requirement already satisfied, skipping upgrade: imbalanced-learn in /usr/local/lib/python3.6/dist-packages (from imblearn) (0.4.3)\n",
            "Requirement already satisfied, skipping upgrade: scipy>=0.13.3 in /usr/local/lib/python3.6/dist-packages (from imbalanced-learn->imblearn) (1.1.0)\n",
            "Requirement already satisfied, skipping upgrade: numpy>=1.8.2 in /usr/local/lib/python3.6/dist-packages (from imbalanced-learn->imblearn) (1.14.6)\n",
            "Requirement already satisfied, skipping upgrade: scikit-learn>=0.20 in /usr/local/lib/python3.6/dist-packages (from imbalanced-learn->imblearn) (0.20.2)\n"
          ],
          "name": "stdout"
        }
      ]
    },
    {
      "metadata": {
        "id": "aFQgkQWL-r-i",
        "colab_type": "code",
        "outputId": "92f972c6-6805-4250-ede8-67b084fcd5c0",
        "colab": {
          "base_uri": "https://localhost:8080/",
          "height": 34
        }
      },
      "cell_type": "code",
      "source": [
        "# to load/save models\n",
        "# Load the Drive helper and mount\n",
        "from google.colab import drive\n",
        "drive.mount('/content/drive')"
      ],
      "execution_count": 2,
      "outputs": [
        {
          "output_type": "stream",
          "text": [
            "Drive already mounted at /content/drive; to attempt to forcibly remount, call drive.mount(\"/content/drive\", force_remount=True).\n"
          ],
          "name": "stdout"
        }
      ]
    },
    {
      "metadata": {
        "id": "dejx9vzp-nY7",
        "colab_type": "code",
        "colab": {}
      },
      "cell_type": "code",
      "source": [
        "#common libs\n",
        "import numpy as np\n",
        "import pandas as pd\n",
        "import scipy.stats as st\n",
        "from matplotlib import pyplot as plt\n",
        "import seaborn as sns\n",
        "sns.set(font_scale=1.3)\n",
        "\n",
        "import re\n",
        "import string\n",
        "import itertools\n",
        "from tqdm import tqdm\n",
        "from time import time\n",
        "from collections import Counter\n",
        "\n",
        "import pickle\n",
        "import os \n",
        "import sys\n",
        "\n",
        "seed = 321\n",
        "\n",
        "%matplotlib inline"
      ],
      "execution_count": 0,
      "outputs": []
    },
    {
      "metadata": {
        "id": "IP4uynBe-nZA",
        "colab_type": "code",
        "colab": {}
      },
      "cell_type": "code",
      "source": [
        "#sklearn libs\n",
        "from sklearn.preprocessing import StandardScaler, LabelEncoder\n",
        "from sklearn.pipeline import make_pipeline,Pipeline\n",
        "\n",
        "from sklearn.linear_model import LogisticRegression\n",
        "from sklearn.model_selection import GridSearchCV, StratifiedKFold, train_test_split\n",
        "from sklearn.metrics import confusion_matrix, classification_report,f1_score, make_scorer\n",
        "\n",
        "from sklearn.manifold import TSNE\n",
        "from sklearn.decomposition import TruncatedSVD\n",
        "from sklearn.utils import shuffle\n",
        "\n",
        "from sklearn.feature_extraction.text import TfidfVectorizer\n",
        "from imblearn.under_sampling import RandomUnderSampler\n",
        "\n",
        "#part 5 libs\n",
        "import gensim\n",
        "import requests\n",
        "from pymystem3 import Mystem"
      ],
      "execution_count": 0,
      "outputs": []
    },
    {
      "metadata": {
        "id": "GbBcRAEp-nZD",
        "colab_type": "code",
        "colab": {}
      },
      "cell_type": "code",
      "source": [
        "import tensorflow as tf\n",
        "\n",
        "import keras\n",
        "import json\n",
        "import operator\n",
        "from keras.preprocessing import sequence\n",
        "from keras.models import Sequential, model_from_json,load_model\n",
        "from keras.layers import Dense, Dropout, Activation, Embedding, LSTM, Bidirectional \n",
        "from keras.layers import GlobalAveragePooling1D,Flatten,BatchNormalization, Input, GlobalMaxPooling1D, Conv1D, MaxPooling1D \n",
        "from keras.metrics import binary_accuracy,categorical_accuracy\n",
        "from keras.callbacks import EarlyStopping, ModelCheckpoint\n",
        "\n",
        "from keras import backend as K \n",
        "\n",
        "from keras.utils import np_utils\n",
        "\n",
        "#convert words to sequence\n",
        "from keras.preprocessing.text import Tokenizer\n",
        "from keras.preprocessing.sequence import pad_sequences\n",
        "#from keras.datasets import imdb"
      ],
      "execution_count": 0,
      "outputs": []
    },
    {
      "metadata": {
        "id": "ltvPdZ3l-nZH",
        "colab_type": "code",
        "outputId": "c1843c44-c757-411b-9c8e-6641b67a1c6a",
        "colab": {
          "base_uri": "https://localhost:8080/",
          "height": 153
        }
      },
      "cell_type": "code",
      "source": [
        "import nltk\n",
        "nltk.download('punkt')\n",
        "nltk.download(\"stopwords\")\n",
        "nltk.download('wordnet')\n",
        "nltk.download('names')\n",
        "\n",
        "from nltk.corpus import names\n",
        "from nltk.corpus import stopwords\n",
        "from nltk import ngrams\n",
        "\n",
        "from nltk import word_tokenize\n",
        "from nltk.stem.porter import PorterStemmer # one more stemmer? or lemmatisation\n",
        "from nltk.stem import WordNetLemmatizer,LancasterStemmer"
      ],
      "execution_count": 6,
      "outputs": [
        {
          "output_type": "stream",
          "text": [
            "[nltk_data] Downloading package punkt to /root/nltk_data...\n",
            "[nltk_data]   Package punkt is already up-to-date!\n",
            "[nltk_data] Downloading package stopwords to /root/nltk_data...\n",
            "[nltk_data]   Package stopwords is already up-to-date!\n",
            "[nltk_data] Downloading package wordnet to /root/nltk_data...\n",
            "[nltk_data]   Package wordnet is already up-to-date!\n",
            "[nltk_data] Downloading package names to /root/nltk_data...\n",
            "[nltk_data]   Package names is already up-to-date!\n"
          ],
          "name": "stdout"
        }
      ]
    },
    {
      "metadata": {
        "id": "FcBWj5TN-nZL",
        "colab_type": "code",
        "colab": {}
      },
      "cell_type": "code",
      "source": [
        "# temp function to get rundom n samples from dataset\n",
        "def next_batch(num, data, labels):\n",
        "    idx = np.arange(0 , len(data))\n",
        "    np.random.shuffle(idx)\n",
        "    idx = idx[:num]\n",
        "    data_shuffle = data[idx]\n",
        "    labels_shuffle = [labels[i] for i in idx]\n",
        "\n",
        "    return np.asarray(data_shuffle), np.asarray(labels_shuffle)"
      ],
      "execution_count": 0,
      "outputs": []
    },
    {
      "metadata": {
        "id": "vctqUO_c-nZO",
        "colab_type": "text"
      },
      "cell_type": "markdown",
      "source": [
        "#### EDA."
      ]
    },
    {
      "metadata": {
        "id": "aloJWcVA-nZQ",
        "colab_type": "text"
      },
      "cell_type": "markdown",
      "source": [
        "Считаем данные и выведем несколько образцов."
      ]
    },
    {
      "metadata": {
        "id": "C3LEiQGa-nZR",
        "colab_type": "code",
        "colab": {}
      },
      "cell_type": "code",
      "source": [
        "x_data, y_data = pickle.load(open('drive/My Drive/data/reviews_dataset.pkl', 'rb'))"
      ],
      "execution_count": 0,
      "outputs": []
    },
    {
      "metadata": {
        "id": "RRTA9wKn-nZU",
        "colab_type": "code",
        "outputId": "1d0ccdfa-8e8f-4fc8-bd87-a54b7e6c1e18",
        "colab": {
          "base_uri": "https://localhost:8080/",
          "height": 34
        }
      },
      "cell_type": "code",
      "source": [
        "len(x_data)"
      ],
      "execution_count": 9,
      "outputs": [
        {
          "output_type": "execute_result",
          "data": {
            "text/plain": [
              "769251"
            ]
          },
          "metadata": {
            "tags": []
          },
          "execution_count": 9
        }
      ]
    },
    {
      "metadata": {
        "id": "hQkabJ2j-nZZ",
        "colab_type": "code",
        "outputId": "9a0c89fb-772f-4b66-f8a7-3eb7f5b21323",
        "colab": {
          "base_uri": "https://localhost:8080/",
          "height": 34
        }
      },
      "cell_type": "code",
      "source": [
        "len(y_data)"
      ],
      "execution_count": 10,
      "outputs": [
        {
          "output_type": "execute_result",
          "data": {
            "text/plain": [
              "769251"
            ]
          },
          "metadata": {
            "tags": []
          },
          "execution_count": 10
        }
      ]
    },
    {
      "metadata": {
        "id": "J90W7S5J-nZd",
        "colab_type": "code",
        "outputId": "1227e25b-d452-42fa-f09f-89f2c2b3d56f",
        "colab": {
          "base_uri": "https://localhost:8080/",
          "height": 34
        }
      },
      "cell_type": "code",
      "source": [
        "x_data[0]"
      ],
      "execution_count": 11,
      "outputs": [
        {
          "output_type": "execute_result",
          "data": {
            "text/plain": [
              "'Потрясающе красивая графика космоса! Уже за это игру можно полюбить. Так же в наличии интересный осмысленный сюжет и удобное управление.'"
            ]
          },
          "metadata": {
            "tags": []
          },
          "execution_count": 11
        }
      ]
    },
    {
      "metadata": {
        "id": "uYaMMRIe-nZi",
        "colab_type": "code",
        "outputId": "f1ec52a3-5275-4e04-f941-b9b64163f3b0",
        "colab": {
          "base_uri": "https://localhost:8080/",
          "height": 34
        }
      },
      "cell_type": "code",
      "source": [
        "y_data[0]"
      ],
      "execution_count": 12,
      "outputs": [
        {
          "output_type": "execute_result",
          "data": {
            "text/plain": [
              "5"
            ]
          },
          "metadata": {
            "tags": []
          },
          "execution_count": 12
        }
      ]
    },
    {
      "metadata": {
        "colab_type": "code",
        "outputId": "7a383a93-8d8b-48b7-ec50-b19f88a23510",
        "id": "4B272yTQ_R28",
        "colab": {
          "base_uri": "https://localhost:8080/",
          "height": 34
        }
      },
      "cell_type": "code",
      "source": [
        "x_data[33]"
      ],
      "execution_count": 250,
      "outputs": [
        {
          "output_type": "execute_result",
          "data": {
            "text/plain": [
              "'Купил. Очень нравится. Пока нареканий нет никаких. Всегда очень нравились телефоны - слайдеры у Сименса, но у них не было BlueToth-а:(Наконец Simens сделал слайдер с с BlueTooth!'"
            ]
          },
          "metadata": {
            "tags": []
          },
          "execution_count": 250
        }
      ]
    },
    {
      "metadata": {
        "colab_type": "code",
        "outputId": "4de9692d-0cd4-46c0-b4f9-6e29e533cdb8",
        "id": "5exhaPjF_R3B",
        "colab": {
          "base_uri": "https://localhost:8080/",
          "height": 34
        }
      },
      "cell_type": "code",
      "source": [
        "y_data[33]"
      ],
      "execution_count": 251,
      "outputs": [
        {
          "output_type": "execute_result",
          "data": {
            "text/plain": [
              "5"
            ]
          },
          "metadata": {
            "tags": []
          },
          "execution_count": 251
        }
      ]
    },
    {
      "metadata": {
        "id": "_KGWznm1-QoF",
        "colab_type": "code",
        "colab": {
          "base_uri": "https://localhost:8080/",
          "height": 34
        },
        "outputId": "d8d137ec-cee3-43b7-d78a-2b2935183a23"
      },
      "cell_type": "code",
      "source": [
        "Counter(y_data)"
      ],
      "execution_count": 249,
      "outputs": [
        {
          "output_type": "execute_result",
          "data": {
            "text/plain": [
              "Counter({1: 55327, 2: 32362, 3: 59226, 4: 110665, 5: 511671})"
            ]
          },
          "metadata": {
            "tags": []
          },
          "execution_count": 249
        }
      ]
    },
    {
      "metadata": {
        "id": "gJyavJMv-X05",
        "colab_type": "text"
      },
      "cell_type": "markdown",
      "source": [
        "Похоже, положительные отзывы (4 и 5) превалируют над остальными классами.\n",
        "\n",
        "Т.к. данных сравнительно много, попробуем использовать UnderSampling, для того, чтобы в обучающем наборе получить тексты всех классов."
      ]
    },
    {
      "metadata": {
        "id": "Y6uVpaH5-nZl",
        "colab_type": "text"
      },
      "cell_type": "markdown",
      "source": [
        "#### Baseline.\n",
        "\n",
        "Обучить линейную модель на TF-IDF представлении для предсказания оценки пользователя по его отзыву. \n",
        "\n",
        "Посмотреть на важность для каждой оценки."
      ]
    },
    {
      "metadata": {
        "id": "XQFy1oae_qG-",
        "colab_type": "text"
      },
      "cell_type": "markdown",
      "source": [
        "Воспользуемся токенайзером для очистки и подготовки текстов.\n",
        "\n",
        "Это поможет в будущем, при обучении алгоритмов + tokenizer от Keras не обладает функционалом отсечения стоп слов и лемматизации."
      ]
    },
    {
      "metadata": {
        "id": "K4Floqqf-nZn",
        "colab_type": "code",
        "colab": {}
      },
      "cell_type": "code",
      "source": [
        "def remove_emails(text):\n",
        "    text = re.sub(r'\\S*@\\S*\\s?','',text)    \n",
        "    return text\n",
        "\n",
        "\n",
        "#version on raw text\n",
        "def remove_punctuation2(text_punctuation,text):\n",
        "    \n",
        "    new_text = []\n",
        "    new_text = re.sub('\\n', ' ',text)\n",
        "    new_text = re.sub('\\t', '',new_text)\n",
        "    new_text = re.sub('['+text_punctuation+']', ' ',new_text)\n",
        "    new_text =  new_text.strip()\n",
        "    \n",
        "    return new_text\n",
        "\n",
        "#version after word_tokenizer\n",
        "def remove_punctuation(text_punctuation,text):\n",
        "    \n",
        "    new_text = []\n",
        "    for word in text: \n",
        "        new_word =  re.sub('['+text_punctuation+']', ' ',word)\n",
        "        new_word =  new_word.strip()\n",
        "        new_text.append(new_word)\n",
        "    \n",
        "    return new_text\n",
        "\n",
        "\n",
        "#ntlk word lemmatizer\n",
        "def lemmatize_stemm_text(text):\n",
        "    new_text_lemma = []\n",
        "    new_text_stemm = []\n",
        "    \n",
        "    lemmatizer = WordNetLemmatizer()\n",
        "    stemmer = LancasterStemmer()\n",
        "    \n",
        "    for word in text:\n",
        "        lemma = lemmatizer.lemmatize(word, pos='n') # v default\n",
        "        new_text_lemma.append(lemma)\n",
        "        \n",
        "        #stemm = stemmer.stem(word)\n",
        "        #new_text_stemm.append(stemm)\n",
        "        \n",
        "    return new_text_lemma, new_text_stemm\n",
        "        \n",
        "\n",
        "StopWords = list(set(stopwords.words('russian')))\n",
        "StopWords.remove('не')\n",
        "\n",
        "\n",
        "def remove_stopwords(stop_words ,text):\n",
        "    \n",
        "    new_words = []\n",
        "    for word in text:\n",
        "        if word not in stop_words:\n",
        "            new_words.append(word)\n",
        "\n",
        "    return new_words\n",
        "\n",
        "def remove_short_words(text, word_len):\n",
        "    new_text = []\n",
        "    for word in text:\n",
        "        if len(word) >= word_len:\n",
        "            new_text.append(word)\n",
        "            \n",
        "    return new_text\n",
        "\n",
        "\n",
        "# getting source from string.punctuation\n",
        "text_punctuation = '!\"#$%&\\'()*+,-.:;<=>?@[\\\\]_`{|}~/^'\n",
        "\n",
        "def tokenize(text):\n",
        "    min_length = 3\n",
        "    \n",
        "    # remove emails from text to prevent overfit\n",
        "    text = remove_emails(text)\n",
        "    \n",
        "    # text to lowercase\n",
        "    text =  text.lower()\n",
        "\n",
        "    \n",
        "    #remove punctuation\n",
        "    text = remove_punctuation2(text_punctuation, text) \n",
        "\n",
        "    # tokenize text\n",
        "    words = word_tokenize(text,language='english')\n",
        "\n",
        "       \n",
        "    # remove stopwords\n",
        "    words = remove_stopwords(StopWords,words)\n",
        "    \n",
        "    #lemmatize words ,improve to 0.69 f1score\n",
        "    words,_ = lemmatize_stemm_text(words)\n",
        "    \n",
        "    #filter short words\n",
        "    words = remove_short_words(words, 2) #default 3\n",
        "\n",
        "    return words"
      ],
      "execution_count": 0,
      "outputs": []
    },
    {
      "metadata": {
        "id": "_HIsZ478-nZr",
        "colab_type": "code",
        "outputId": "77e8b485-ade7-48f0-9a10-4ae2ea469925",
        "colab": {
          "base_uri": "https://localhost:8080/",
          "height": 51
        }
      },
      "cell_type": "code",
      "source": [
        "%%time\n",
        "test = tokenize(x_data[4])"
      ],
      "execution_count": 14,
      "outputs": [
        {
          "output_type": "stream",
          "text": [
            "CPU times: user 2.18 s, sys: 111 ms, total: 2.29 s\n",
            "Wall time: 2.3 s\n"
          ],
          "name": "stdout"
        }
      ]
    },
    {
      "metadata": {
        "id": "HHp7zHU1-nad",
        "colab_type": "code",
        "outputId": "e93150b4-fb3f-48c0-86ea-d343d6f94014",
        "colab": {
          "base_uri": "https://localhost:8080/",
          "height": 765
        }
      },
      "cell_type": "code",
      "source": [
        "test"
      ],
      "execution_count": 15,
      "outputs": [
        {
          "output_type": "execute_result",
          "data": {
            "text/plain": [
              "['таки',\n",
              " 'не',\n",
              " 'удержался',\n",
              " 'написать',\n",
              " 'топ',\n",
              " 'скорей',\n",
              " 'сотрут',\n",
              " 'прочтет',\n",
              " 'ужасной',\n",
              " 'игры',\n",
              " 'star',\n",
              " 'war',\n",
              " 'empire',\n",
              " 'at',\n",
              " 'war',\n",
              " 'dvd',\n",
              " 'ещё',\n",
              " 'поискать',\n",
              " 'нормального',\n",
              " 'сюжета',\n",
              " 'стратегия',\n",
              " 'это',\n",
              " 'вовсе',\n",
              " 'провал',\n",
              " 'давно',\n",
              " 'убедился',\n",
              " 'всё',\n",
              " 'берётся',\n",
              " '1с',\n",
              " 'плане',\n",
              " 'игр',\n",
              " 'отстой',\n",
              " 'хорошая',\n",
              " 'стратегия',\n",
              " 'эпизодам',\n",
              " 'star',\n",
              " 'war',\n",
              " 'это',\n",
              " 'star',\n",
              " 'war',\n",
              " 'galactic',\n",
              " 'battleground',\n",
              " 'играл',\n",
              " 'поймет']"
            ]
          },
          "metadata": {
            "tags": []
          },
          "execution_count": 15
        }
      ]
    },
    {
      "metadata": {
        "id": "H5Tv67h4-nak",
        "colab_type": "text"
      },
      "cell_type": "markdown",
      "source": [
        "Датасет достаточно объемный, поэтому в целях экономии времени:\n",
        "- возьмем часть от него\n",
        "- \"токенизируем\"\n",
        "- поделим его еще раз на трейн-тест\n",
        "- используем RandomUnderSampling"
      ]
    },
    {
      "metadata": {
        "id": "ua1182Q0-nal",
        "colab_type": "code",
        "colab": {}
      },
      "cell_type": "code",
      "source": [
        "# get first part with stratify\n",
        "x_train, x_test, y_train, y_test = train_test_split(x_data, y_data, random_state = seed, test_size=0.8, shuffle=True, stratify = y_data)"
      ],
      "execution_count": 0,
      "outputs": []
    },
    {
      "metadata": {
        "scrolled": true,
        "id": "SmUFpwnh-nar",
        "colab_type": "code",
        "outputId": "d18bbdc1-5b46-41ce-aeaa-8c0f49e187b2",
        "colab": {
          "base_uri": "https://localhost:8080/",
          "height": 34
        }
      },
      "cell_type": "code",
      "source": [
        "# tokenize\n",
        "x_data_tokenized = []\n",
        "for text in tqdm(x_train):\n",
        "    tokenized_text = ' '.join(tokenize(text))\n",
        "    x_data_tokenized.append(tokenized_text)"
      ],
      "execution_count": 17,
      "outputs": [
        {
          "output_type": "stream",
          "text": [
            "100%|██████████| 153850/153850 [01:24<00:00, 1829.08it/s]\n"
          ],
          "name": "stderr"
        }
      ]
    },
    {
      "metadata": {
        "id": "qC42EdlZ-naw",
        "colab_type": "code",
        "colab": {}
      },
      "cell_type": "code",
      "source": [
        "# split train and test\n",
        "x_train, x_test, y_train, y_test = train_test_split(x_data_tokenized, y_train, random_state = seed, \n",
        "                                                    test_size=0.3, shuffle=True, stratify = y_train)\n"
      ],
      "execution_count": 0,
      "outputs": []
    },
    {
      "metadata": {
        "id": "pMn-Xxea-naz",
        "colab_type": "code",
        "outputId": "dc3e81b1-816e-4ae3-bbf2-42f9196699e3",
        "colab": {
          "base_uri": "https://localhost:8080/",
          "height": 34
        }
      },
      "cell_type": "code",
      "source": [
        "len(x_train)"
      ],
      "execution_count": 19,
      "outputs": [
        {
          "output_type": "execute_result",
          "data": {
            "text/plain": [
              "107695"
            ]
          },
          "metadata": {
            "tags": []
          },
          "execution_count": 19
        }
      ]
    },
    {
      "metadata": {
        "id": "Ffz0BI8m-na3",
        "colab_type": "code",
        "outputId": "acb76746-a116-40e8-f4d8-155351e8eccc",
        "colab": {
          "base_uri": "https://localhost:8080/",
          "height": 34
        }
      },
      "cell_type": "code",
      "source": [
        "len(x_test)"
      ],
      "execution_count": 20,
      "outputs": [
        {
          "output_type": "execute_result",
          "data": {
            "text/plain": [
              "46155"
            ]
          },
          "metadata": {
            "tags": []
          },
          "execution_count": 20
        }
      ]
    },
    {
      "metadata": {
        "id": "ZgGQQ6k9SaLJ",
        "colab_type": "text"
      },
      "cell_type": "markdown",
      "source": [
        "Undersample data, to make good set for learning."
      ]
    },
    {
      "metadata": {
        "id": "0_JYcQgFSai3",
        "colab_type": "code",
        "colab": {
          "base_uri": "https://localhost:8080/",
          "height": 51
        },
        "outputId": "73718e90-72a9-42d5-bcaa-47c7f768db4e"
      },
      "cell_type": "code",
      "source": [
        "n5 = Counter(y_train)[5] // 6 #the biggest class\n",
        "n4 = Counter(y_train)[4] // 2 #second biggest class\n",
        "n3 = Counter(y_train)[3] // 1\n",
        "n2 = Counter(y_train)[2] // 1\n",
        "n1 = Counter(y_train)[1] // 1\n",
        "\n",
        "sum_n = np.sum([n5 , n4 , n3 , n2 , n1])\n",
        "print (n5,n4,n3,n2,n1, \"sum :\" + str(sum_n)) # ratio we want\n",
        "\n",
        "print(Counter(y_train), len (y_train)) # original data"
      ],
      "execution_count": 21,
      "outputs": [
        {
          "output_type": "stream",
          "text": [
            "11939 7746 8292 4531 7745 sum :40253\n",
            "Counter({5: 71634, 4: 15493, 3: 8292, 1: 7745, 2: 4531}) 107695\n"
          ],
          "name": "stdout"
        }
      ]
    },
    {
      "metadata": {
        "id": "Uxy1_zhVWNuj",
        "colab_type": "code",
        "colab": {}
      },
      "cell_type": "code",
      "source": [
        "x_train = np.reshape(x_train, (-1, 1)) #need numpy reshape for imblearn randomundersampler"
      ],
      "execution_count": 0,
      "outputs": []
    },
    {
      "metadata": {
        "id": "R4GBjRtkVrpH",
        "colab_type": "code",
        "colab": {}
      },
      "cell_type": "code",
      "source": [
        "rus = RandomUnderSampler(random_state=seed,ratio={1: n1, 2: n2, 3: n3, 4: n4,5: n5})\n",
        "x_train, y_train = rus.fit_resample(x_train, y_train)"
      ],
      "execution_count": 0,
      "outputs": []
    },
    {
      "metadata": {
        "id": "Bb2mb0Tdexbs",
        "colab_type": "code",
        "colab": {
          "base_uri": "https://localhost:8080/",
          "height": 68
        },
        "outputId": "7c616b7e-e9a3-4234-9091-8e037f937fcd"
      },
      "cell_type": "code",
      "source": [
        "print(Counter(y_train))\n",
        "x_train = np.array(x_train).tolist()\n",
        "\n",
        "print (len(x_train))\n",
        "print (len(y_train))\n",
        "\n",
        "#reshuffle it\n",
        "#because data is sorted after under sampling\n",
        "x_train, y_train = shuffle(x_train, y_train, random_state=seed)"
      ],
      "execution_count": 24,
      "outputs": [
        {
          "output_type": "stream",
          "text": [
            "Counter({5: 11939, 3: 8292, 4: 7746, 1: 7745, 2: 4531})\n",
            "40253\n",
            "40253\n"
          ],
          "name": "stdout"
        }
      ]
    },
    {
      "metadata": {
        "id": "IvNvZ6iek1mo",
        "colab_type": "text"
      },
      "cell_type": "markdown",
      "source": [
        "same idea for test, but here we just divide all targets by 4, to reduce array size."
      ]
    },
    {
      "metadata": {
        "id": "3E1rgvF6hZN_",
        "colab_type": "code",
        "colab": {
          "base_uri": "https://localhost:8080/",
          "height": 51
        },
        "outputId": "69fb3a02-a5fb-4746-c509-d1a708a0abf3"
      },
      "cell_type": "code",
      "source": [
        "n5 = Counter(y_test)[5] // 4\n",
        "n4 = Counter(y_test)[4] // 4\n",
        "n3 = Counter(y_test)[3] // 4\n",
        "n2 = Counter(y_test)[2] // 4\n",
        "n1 = Counter(y_test)[1] // 4\n",
        "\n",
        "sum_n = np.sum([n5 , n4 , n3 , n2 , n1])\n",
        "print (n5,n4,n3,n2,n1, \"sum :\" + str(sum_n))\n",
        "\n",
        "print(Counter(y_test), len (y_test))"
      ],
      "execution_count": 25,
      "outputs": [
        {
          "output_type": "stream",
          "text": [
            "7675 1660 888 485 830 sum :11538\n",
            "Counter({5: 30700, 4: 6640, 3: 3553, 1: 3320, 2: 1942}) 46155\n"
          ],
          "name": "stdout"
        }
      ]
    },
    {
      "metadata": {
        "colab_type": "code",
        "id": "ecS7O_T8knOc",
        "colab": {}
      },
      "cell_type": "code",
      "source": [
        "x_test = np.reshape(x_test, (-1, 1))"
      ],
      "execution_count": 0,
      "outputs": []
    },
    {
      "metadata": {
        "colab_type": "code",
        "id": "efDMzzqBknOf",
        "colab": {}
      },
      "cell_type": "code",
      "source": [
        "rus = RandomUnderSampler(random_state=seed,ratio={1: n1, 2: n2, 3: n3, 4: n4,5: n5})\n",
        "x_test, y_test = rus.fit_resample(x_test, y_test)"
      ],
      "execution_count": 0,
      "outputs": []
    },
    {
      "metadata": {
        "colab_type": "code",
        "outputId": "9d7b1ea9-d08c-4ed6-da81-45552aa05b7a",
        "id": "88-CEMbiknOi",
        "colab": {
          "base_uri": "https://localhost:8080/",
          "height": 68
        }
      },
      "cell_type": "code",
      "source": [
        "print(Counter(y_test))\n",
        "x_test = np.array(x_test).tolist()\n",
        "\n",
        "print (len(x_test))\n",
        "print (len(y_test))\n",
        "\n",
        "#reshuffle it\n",
        "x_test, y_test = shuffle(x_test, y_test, random_state=seed)"
      ],
      "execution_count": 28,
      "outputs": [
        {
          "output_type": "stream",
          "text": [
            "Counter({5: 7675, 4: 1660, 3: 888, 1: 830, 2: 485})\n",
            "11538\n",
            "11538\n"
          ],
          "name": "stdout"
        }
      ]
    },
    {
      "metadata": {
        "id": "VhpT2bUbpGnT",
        "colab_type": "code",
        "colab": {}
      },
      "cell_type": "code",
      "source": [
        "#back to list of strings, for correct work of tokenizers\n",
        "x_train = [item for sublist in x_train for item in sublist]\n",
        "x_test = [item for sublist in x_test for item in sublist]"
      ],
      "execution_count": 0,
      "outputs": []
    },
    {
      "metadata": {
        "id": "9aTQUWXPSP39",
        "colab_type": "text"
      },
      "cell_type": "markdown",
      "source": [
        "dump preprocessed train/test split."
      ]
    },
    {
      "metadata": {
        "id": "7ctV47M5Q2Jo",
        "colab_type": "code",
        "colab": {}
      },
      "cell_type": "code",
      "source": [
        "path = \"drive/My Drive/data/models/task3_data_preprocessed/\"\n",
        "with open(path + \"tmp.pickle\", \"wb\") as f:\n",
        "    pickle.dump((x_train,x_test,y_train,y_test), f)"
      ],
      "execution_count": 0,
      "outputs": []
    },
    {
      "metadata": {
        "id": "06k4doI-Rv8F",
        "colab_type": "code",
        "colab": {}
      },
      "cell_type": "code",
      "source": [
        "path = \"drive/My Drive/data/models/task3_data_preprocessed/\"\n",
        "with open(path + \"tmp.pickle\", \"rb\") as f:\n",
        "    x_train,x_test,y_train,y_test = pickle.load(f)"
      ],
      "execution_count": 0,
      "outputs": []
    },
    {
      "metadata": {
        "id": "26sBKI8YlbWj",
        "colab_type": "code",
        "colab": {}
      },
      "cell_type": "code",
      "source": [
        "#clean garbage    \n",
        "del x_data_tokenized, x_data, y_data , path  "
      ],
      "execution_count": 0,
      "outputs": []
    },
    {
      "metadata": {
        "id": "1GYM7T5F-na-",
        "colab_type": "text"
      },
      "cell_type": "markdown",
      "source": [
        "#### TFIDF + LogisticRegression."
      ]
    },
    {
      "metadata": {
        "id": "MzcsE_ee-na_",
        "colab_type": "code",
        "colab": {}
      },
      "cell_type": "code",
      "source": [
        "vectorizer = TfidfVectorizer(stop_words=StopWords,\n",
        "                             tokenizer=None, \n",
        "                             min_df=4, # ignore terms with freq less that т, lower majoring 4\n",
        "                             max_df=0.8, # ignore terms with freq more that n, upper majoring 0.8\n",
        "                             use_idf=True,  \n",
        "                             sublinear_tf=True,\n",
        "                             norm='l2',\n",
        "                             lowercase = False                           \n",
        "                            )"
      ],
      "execution_count": 0,
      "outputs": []
    },
    {
      "metadata": {
        "id": "lQbi4QgL-nbD",
        "colab_type": "code",
        "outputId": "0ccc0649-1c60-430f-b797-0ef2594df3c1",
        "colab": {
          "base_uri": "https://localhost:8080/",
          "height": 51
        }
      },
      "cell_type": "code",
      "source": [
        "%%time\n",
        "vectorised_train_documents = vectorizer.fit_transform(x_train)\n",
        "vectorised_test_documents = vectorizer.transform(x_test)"
      ],
      "execution_count": 45,
      "outputs": [
        {
          "output_type": "stream",
          "text": [
            "CPU times: user 2.58 s, sys: 28.3 ms, total: 2.61 s\n",
            "Wall time: 2.63 s\n"
          ],
          "name": "stdout"
        }
      ]
    },
    {
      "metadata": {
        "id": "DfCAekHb-nbH",
        "colab_type": "code",
        "outputId": "88f5ce08-2786-4de5-b546-8d7a05b21b69",
        "colab": {
          "base_uri": "https://localhost:8080/",
          "height": 34
        }
      },
      "cell_type": "code",
      "source": [
        "vectorised_train_documents.shape"
      ],
      "execution_count": 46,
      "outputs": [
        {
          "output_type": "execute_result",
          "data": {
            "text/plain": [
              "(40253, 29515)"
            ]
          },
          "metadata": {
            "tags": []
          },
          "execution_count": 46
        }
      ]
    },
    {
      "metadata": {
        "id": "jhixdwpD-nbL",
        "colab_type": "code",
        "outputId": "8a2b112e-6a02-4c40-d5e2-17cdb3998a4c",
        "colab": {
          "base_uri": "https://localhost:8080/",
          "height": 34
        }
      },
      "cell_type": "code",
      "source": [
        "vectorised_test_documents.shape"
      ],
      "execution_count": 47,
      "outputs": [
        {
          "output_type": "execute_result",
          "data": {
            "text/plain": [
              "(11538, 29515)"
            ]
          },
          "metadata": {
            "tags": []
          },
          "execution_count": 47
        }
      ]
    },
    {
      "metadata": {
        "id": "n70vEVJA-nbR",
        "colab_type": "code",
        "colab": {}
      },
      "cell_type": "code",
      "source": [
        "def classify_and_score(classifier, X_train, X_test, y_train, y_test):\n",
        "    clf = classifier\n",
        "    clf.fit(X_train, y_train)\n",
        "\n",
        "    pred_train = clf.predict(X_train)\n",
        "    #print (\"Train score\")\n",
        "    f1_train = f1_score(y_train, pred_train, average='weighted')\n",
        "\n",
        "    #print (\"Test score\")\n",
        "    pred_test = clf.predict(X_test)\n",
        "    f1_test = f1_score(y_test, pred_test, average='weighted')\n",
        "    \n",
        "    return f1_train, f1_test, clf\n",
        "\n",
        "def plot_confusion_matrix(cm, classes,\n",
        "                          normalize=False,\n",
        "                          title='Confusion matrix',\n",
        "                          cmap=plt.cm.Paired):\n",
        "\n",
        "    if normalize:\n",
        "        cm = cm.astype('float') / cm.sum(axis=1)[:, np.newaxis]\n",
        "        print(\"Normalized confusion matrix\")\n",
        "    else:\n",
        "        print('Confusion matrix, without normalization')\n",
        "\n",
        "\n",
        "    plt.figure(figsize=(10,10))\n",
        "    plt.imshow(cm, interpolation='nearest', cmap=cmap)\n",
        "    plt.title(title)\n",
        "    plt.colorbar()\n",
        "    tick_marks = np.arange(len(classes))\n",
        "    plt.xticks(tick_marks, classes, rotation=90)\n",
        "    plt.yticks(tick_marks, classes)\n",
        "\n",
        "    fmt = '.2f' if normalize else 'd'\n",
        "    thresh = cm.max() / 2.\n",
        "    for i, j in itertools.product(range(cm.shape[0]), range(cm.shape[1])):\n",
        "        plt.text(j, i, format(cm[i, j], fmt),\n",
        "                 horizontalalignment=\"center\",\n",
        "                 color=\"black\" if cm[i, j] > thresh else \"black\")\n",
        "\n",
        "    plt.ylabel('True label')\n",
        "    plt.xlabel('Predicted label')\n",
        "    plt.tight_layout()"
      ],
      "execution_count": 0,
      "outputs": []
    },
    {
      "metadata": {
        "id": "k3Cjtwct-nbU",
        "colab_type": "code",
        "colab": {}
      },
      "cell_type": "code",
      "source": [
        "log_reg = LogisticRegression(penalty='l2', tol=0.0001, C=1, \n",
        "                             class_weight='balanced', random_state=seed, \n",
        "                             max_iter=1000, solver = 'newton-cg',\n",
        "                             multi_class='ovr', verbose=0, \n",
        "                             n_jobs=-1)"
      ],
      "execution_count": 0,
      "outputs": []
    },
    {
      "metadata": {
        "id": "9RIFj88z-nbW",
        "colab_type": "code",
        "outputId": "dc7c55e7-1163-46ce-f380-37869e775a0a",
        "colab": {
          "base_uri": "https://localhost:8080/",
          "height": 51
        }
      },
      "cell_type": "code",
      "source": [
        "%%time\n",
        "_,_, clf = classify_and_score(log_reg, vectorised_train_documents, \n",
        "                           vectorised_test_documents, y_train, y_test)"
      ],
      "execution_count": 50,
      "outputs": [
        {
          "output_type": "stream",
          "text": [
            "CPU times: user 86.2 ms, sys: 315 ms, total: 401 ms\n",
            "Wall time: 9.45 s\n"
          ],
          "name": "stdout"
        }
      ]
    },
    {
      "metadata": {
        "id": "MXHVfYtF-nbc",
        "colab_type": "code",
        "outputId": "3f2acb4d-3044-484d-fa80-afe8906ba4f0",
        "colab": {
          "base_uri": "https://localhost:8080/",
          "height": 967
        }
      },
      "cell_type": "code",
      "source": [
        "labels = clf.classes_\n",
        "pred_test = clf.predict(vectorised_test_documents)\n",
        "print(classification_report(y_test,pred_test,labels = labels))\n",
        "\n",
        "cnf_matrix = confusion_matrix(y_test, pred_test)\n",
        "print(plot_confusion_matrix(cnf_matrix, classes = labels))"
      ],
      "execution_count": 51,
      "outputs": [
        {
          "output_type": "stream",
          "text": [
            "              precision    recall  f1-score   support\n",
            "\n",
            "           1       0.37      0.54      0.44       830\n",
            "           2       0.14      0.22      0.17       485\n",
            "           3       0.21      0.36      0.26       888\n",
            "           4       0.28      0.34      0.31      1660\n",
            "           5       0.89      0.69      0.77      7675\n",
            "\n",
            "   micro avg       0.58      0.58      0.58     11538\n",
            "   macro avg       0.38      0.43      0.39     11538\n",
            "weighted avg       0.68      0.58      0.62     11538\n",
            "\n",
            "Confusion matrix, without normalization\n",
            "None\n"
          ],
          "name": "stdout"
        },
        {
          "output_type": "display_data",
          "data": {
            "image/png": "[encoded data removed]",
            "text/plain": [
              "<Figure size 720x720 with 2 Axes>"
            ]
          },
          "metadata": {
            "tags": []
          }
        }
      ]
    },
    {
      "metadata": {
        "id": "yGRc2qpLBjIt",
        "colab_type": "text"
      },
      "cell_type": "markdown",
      "source": [
        "Лучше всего классифицируется класс 5, т.к. его больше всего в тестовых данных.\n",
        "\n",
        "Также стоит отметить классы 1 и 3, они содержат примерно одинаковое количество записей, при этом:\n",
        "Класс 1 сравнительно неплохо классифицировался, при этом класс 3 классифицировался значительно хуже, и он похоже сливается с другими классами (2 и 4), судя по confusion matrix.\n",
        "\n",
        "В целом алгоритм отработал средне, скорее всего если его обучить на всех данных и подобрать гиперпараметры, то результат изменится в лучшую сторону."
      ]
    },
    {
      "metadata": {
        "id": "qyzOLyd6-nbh",
        "colab_type": "text"
      },
      "cell_type": "markdown",
      "source": [
        "#### RNN.\n",
        "Обучить рекуррентную нейронную сеть для предсказания оценки пользователя по его отзыву. Использовать случайную инициализация весов."
      ]
    },
    {
      "metadata": {
        "id": "mVSbAx-dI-JE",
        "colab_type": "code",
        "colab": {}
      },
      "cell_type": "code",
      "source": [
        "K.clear_session()"
      ],
      "execution_count": 0,
      "outputs": []
    },
    {
      "metadata": {
        "id": "oh3mIQ2I-nbi",
        "colab_type": "code",
        "colab": {}
      },
      "cell_type": "code",
      "source": [
        "# encode class values as integers\n",
        "encoder = LabelEncoder()\n",
        "encoder.fit(y_train)\n",
        "encoded_y_train = encoder.transform(y_train)\n",
        "encoded_y_test = encoder.transform(y_test)\n",
        "\n",
        "# convert integers to dummy variables (i.e. one hot encoded)\n",
        "y_train = np_utils.to_categorical(encoded_y_train)\n",
        "y_test = np_utils.to_categorical(encoded_y_test)"
      ],
      "execution_count": 0,
      "outputs": []
    },
    {
      "metadata": {
        "id": "P_lPcmVv-nbl",
        "colab_type": "code",
        "colab": {}
      },
      "cell_type": "code",
      "source": [
        "# Set parameters\n",
        "num_word = 35000\n",
        "batch_size = 128\n",
        "embedding_dims = 128\n",
        "epochs = 5\n",
        "maxlen = 40\n",
        "task2_filepath = 'drive/My Drive/data/models/subtask2/'"
      ],
      "execution_count": 0,
      "outputs": []
    },
    {
      "metadata": {
        "id": "nrBoU5fq-nbn",
        "colab_type": "code",
        "outputId": "216a17b5-fd96-4225-eba7-a87ee0c8af8f",
        "colab": {
          "base_uri": "https://localhost:8080/",
          "height": 51
        }
      },
      "cell_type": "code",
      "source": [
        "#tokenize data, \n",
        "%%time\n",
        "tokenizer = Tokenizer(num_words=num_word)\n",
        "tokenizer.fit_on_texts(x_train)\n",
        "\n",
        "x_train_tokenized = tokenizer.texts_to_sequences(x_train)\n",
        "x_test_tokenized  = tokenizer.texts_to_sequences(x_test)"
      ],
      "execution_count": 278,
      "outputs": [
        {
          "output_type": "stream",
          "text": [
            "CPU times: user 9.53 s, sys: 191 ms, total: 9.72 s\n",
            "Wall time: 9.72 s\n"
          ],
          "name": "stdout"
        }
      ]
    },
    {
      "metadata": {
        "id": "iRK9EvlXzrX5",
        "colab_type": "code",
        "colab": {
          "base_uri": "https://localhost:8080/",
          "height": 34
        },
        "outputId": "028e2f76-6d8f-4c96-edff-d0af6dcb8031"
      },
      "cell_type": "code",
      "source": [
        "vocab_size = len(tokenizer.word_index) + 1  # Adding 1 because of reserved 0 index\n",
        "print (vocab_size)"
      ],
      "execution_count": 279,
      "outputs": [
        {
          "output_type": "stream",
          "text": [
            "127404\n"
          ],
          "name": "stdout"
        }
      ]
    },
    {
      "metadata": {
        "id": "FFZp21FKINzw",
        "colab_type": "code",
        "colab": {
          "base_uri": "https://localhost:8080/",
          "height": 51
        },
        "outputId": "0268b9c3-339b-4e94-c814-158bc238e12d"
      },
      "cell_type": "code",
      "source": [
        "print('Average train sequence length: {}'.format(\n",
        "        np.mean(list(map(len, x_train_tokenized)), dtype=int)))\n",
        "print('Average test sequence length: {}'.format(\n",
        "        np.mean(list(map(len, x_test_tokenized)), dtype=int)))"
      ],
      "execution_count": 282,
      "outputs": [
        {
          "output_type": "stream",
          "text": [
            "Average train sequence length: 40\n",
            "Average test sequence length: 40\n"
          ],
          "name": "stdout"
        }
      ]
    },
    {
      "metadata": {
        "id": "k0T4II4b-nbr",
        "colab_type": "code",
        "outputId": "6f791b13-68de-4a72-abbe-2d7c411f89d1",
        "colab": {
          "base_uri": "https://localhost:8080/",
          "height": 51
        }
      },
      "cell_type": "code",
      "source": [
        "%%time\n",
        "x_train_tokenized = pad_sequences(x_train_tokenized, padding='post', maxlen=maxlen)\n",
        "x_test_tokenized = pad_sequences(x_test_tokenized, padding='post', maxlen=maxlen)"
      ],
      "execution_count": 281,
      "outputs": [
        {
          "output_type": "stream",
          "text": [
            "CPU times: user 317 ms, sys: 1.96 ms, total: 319 ms\n",
            "Wall time: 319 ms\n"
          ],
          "name": "stdout"
        }
      ]
    },
    {
      "metadata": {
        "id": "4krASG-j-nbv",
        "colab_type": "code",
        "outputId": "f8be3522-03c9-4f35-8c47-2100cb948ea1",
        "colab": {
          "base_uri": "https://localhost:8080/",
          "height": 34
        }
      },
      "cell_type": "code",
      "source": [
        "vocab_size * 128 # params of first layer, 128 is number of embeddings or num_word"
      ],
      "execution_count": 92,
      "outputs": [
        {
          "output_type": "execute_result",
          "data": {
            "text/plain": [
              "16307712"
            ]
          },
          "metadata": {
            "tags": []
          },
          "execution_count": 92
        }
      ]
    },
    {
      "metadata": {
        "id": "AD4CP1Bn-nby",
        "colab_type": "code",
        "outputId": "131fbccf-472b-4c24-95cc-4c6adeb3e420",
        "colab": {
          "base_uri": "https://localhost:8080/",
          "height": 272
        }
      },
      "cell_type": "code",
      "source": [
        "#случайную инициализация весов\n",
        "model = Sequential()\n",
        "model.add(Embedding(input_dim = num_word, output_dim = 128,  #vocab_size\n",
        "                    input_length=maxlen))#\n",
        "model.add(Bidirectional(LSTM(64),weights = 'glorot_uniform'))# weights!\n",
        "model.add(Dropout(0.6))\n",
        "model.add(Dense(5, activation='softmax')) #softmax due to multiclass\n",
        "\n",
        "# try using different optimizers and different optimizer configs\n",
        "model.compile('adam', 'categorical_crossentropy', metrics=['accuracy'])\n",
        "\n",
        "model.summary()"
      ],
      "execution_count": 283,
      "outputs": [
        {
          "output_type": "stream",
          "text": [
            "_________________________________________________________________\n",
            "Layer (type)                 Output Shape              Param #   \n",
            "=================================================================\n",
            "embedding_2 (Embedding)      (None, 40, 128)           4480000   \n",
            "_________________________________________________________________\n",
            "bidirectional_1 (Bidirection (None, 128)               98816     \n",
            "_________________________________________________________________\n",
            "dropout_5 (Dropout)          (None, 128)               0         \n",
            "_________________________________________________________________\n",
            "dense_4 (Dense)              (None, 5)                 645       \n",
            "=================================================================\n",
            "Total params: 4,579,461\n",
            "Trainable params: 4,579,461\n",
            "Non-trainable params: 0\n",
            "_________________________________________________________________\n"
          ],
          "name": "stdout"
        }
      ]
    },
    {
      "metadata": {
        "id": "YEUR_f5V0sHH",
        "colab_type": "code",
        "colab": {}
      },
      "cell_type": "code",
      "source": [
        "earlyStopping = EarlyStopping(monitor='val_loss', patience=3, \n",
        "                              verbose=1, min_delta=0.01,\n",
        "                              mode='min',restore_best_weights=True)\n",
        "\n",
        "\n",
        "checkpoint = ModelCheckpoint(task2_filepath + 'baseline_model.hdf5', monitor='val_loss', \n",
        "                             verbose=1, save_best_only=True, mode='min')\n",
        "\n",
        "m_callbacks = [checkpoint, earlyStopping]"
      ],
      "execution_count": 0,
      "outputs": []
    },
    {
      "metadata": {
        "id": "tt--XgLi-nb1",
        "colab_type": "code",
        "colab": {}
      },
      "cell_type": "code",
      "source": [
        "'''# no stratify\n",
        "x_train_part,y_train_part = next_batch(40000, x_train_tokenized, y_train)\n",
        "x_test_part,y_test_part = next_batch(10000, x_test_tokenized, y_test)\n",
        "\n",
        "%%time\n",
        "print('Train...')\n",
        "history_model = model.fit(x_train_part, y_train_part,\n",
        "          batch_size=batch_size,\n",
        "          epochs=epochs,\n",
        "          verbose = 1,\n",
        "          callbacks=m_callbacks,\n",
        "          validation_data=[x_test_part, y_test_part])\n",
        "\n",
        "''';"
      ],
      "execution_count": 0,
      "outputs": []
    },
    {
      "metadata": {
        "scrolled": true,
        "id": "SGQeaNjy-nb6",
        "colab_type": "code",
        "outputId": "d835664f-8c4c-4794-f4b5-8193d9e9672e",
        "colab": {
          "base_uri": "https://localhost:8080/",
          "height": 459
        }
      },
      "cell_type": "code",
      "source": [
        "%%time\n",
        "print('Train...')\n",
        "history_model = model.fit(x_train_tokenized, y_train,\n",
        "          batch_size=batch_size,\n",
        "          epochs=epochs,\n",
        "          verbose = 1,\n",
        "          callbacks=m_callbacks,\n",
        "          validation_data=[x_test_tokenized, y_test])"
      ],
      "execution_count": 286,
      "outputs": [
        {
          "output_type": "stream",
          "text": [
            "Train...\n",
            "Train on 40253 samples, validate on 11538 samples\n",
            "Epoch 1/5\n",
            "40253/40253 [==============================] - 111s 3ms/step - loss: 1.3803 - acc: 0.4075 - val_loss: 1.0189 - val_acc: 0.6177\n",
            "\n",
            "Epoch 00001: val_loss improved from inf to 1.01892, saving model to drive/My Drive/data/models/subtask2/baseline_model.hdf5\n",
            "Epoch 2/5\n",
            "40253/40253 [==============================] - 105s 3ms/step - loss: 1.0806 - acc: 0.5630 - val_loss: 1.0038 - val_acc: 0.6102\n",
            "\n",
            "Epoch 00002: val_loss improved from 1.01892 to 1.00377, saving model to drive/My Drive/data/models/subtask2/baseline_model.hdf5\n",
            "Epoch 3/5\n",
            "40253/40253 [==============================] - 106s 3ms/step - loss: 0.8620 - acc: 0.6638 - val_loss: 1.1971 - val_acc: 0.5740\n",
            "\n",
            "Epoch 00003: val_loss did not improve from 1.00377\n",
            "Epoch 4/5\n",
            "40253/40253 [==============================] - 105s 3ms/step - loss: 0.6647 - acc: 0.7507 - val_loss: 1.4859 - val_acc: 0.5166\n",
            "\n",
            "Epoch 00004: val_loss did not improve from 1.00377\n",
            "Epoch 5/5\n",
            "40253/40253 [==============================] - 105s 3ms/step - loss: 0.4923 - acc: 0.8253 - val_loss: 1.7767 - val_acc: 0.5120\n",
            "\n",
            "Epoch 00005: val_loss did not improve from 1.00377\n",
            "Restoring model weights from the end of the best epoch\n",
            "Epoch 00005: early stopping\n",
            "CPU times: user 15min 59s, sys: 54.9 s, total: 16min 54s\n",
            "Wall time: 8min 57s\n"
          ],
          "name": "stdout"
        }
      ]
    },
    {
      "metadata": {
        "id": "zq3GKaLL-nb_",
        "colab_type": "code",
        "colab": {}
      },
      "cell_type": "code",
      "source": [
        "'''# serialize model to JSON\n",
        "model_json = model.to_json()\n",
        "with open(path + \"model\" + \".json\", \"w\") as json_file:\n",
        "    json_file.write(model_json)''';\n",
        "\n",
        "with open(task2_filepath + \"history\"+ \".json\", 'w') as f:\n",
        "    json.dump(history_model.history, f)\n",
        "    \n",
        "'''# serialize weights to HDF5\n",
        "model.save_weights(path + \"model\" +  \".h5\")\n",
        "print(\"Saved model to disk\")''';"
      ],
      "execution_count": 0,
      "outputs": []
    },
    {
      "metadata": {
        "id": "VW-35UNjO0c7",
        "colab_type": "code",
        "colab": {}
      },
      "cell_type": "code",
      "source": [
        "#load history\n",
        "json_file = open(task2_filepath + \"history\"+ \".json\", 'r')\n",
        "loaded_history_json = json.load(json_file)\n",
        "json_file.close()"
      ],
      "execution_count": 0,
      "outputs": []
    },
    {
      "metadata": {
        "id": "1jHouDc3Oap8",
        "colab_type": "code",
        "colab": {
          "base_uri": "https://localhost:8080/",
          "height": 298
        },
        "outputId": "88cf033a-20f1-4caa-bdde-7851b49eb2a2"
      },
      "cell_type": "code",
      "source": [
        "plt.plot(loaded_history_json['loss'], \n",
        "         label='loss train')\n",
        "plt.plot(loaded_history_json['val_loss'], \n",
        "         label='loss test')\n",
        "plt.xlabel('Эпоха обучения')\n",
        "plt.ylabel('Loss')\n",
        "plt.legend()\n",
        "plt.show()"
      ],
      "execution_count": 289,
      "outputs": [
        {
          "output_type": "display_data",
          "data": {
            "image/png": "[encoded data removed]",
            "text/plain": [
              "<Figure size 432x288 with 1 Axes>"
            ]
          },
          "metadata": {
            "tags": []
          }
        }
      ]
    },
    {
      "metadata": {
        "id": "LrD4XBg5OwTi",
        "colab_type": "code",
        "colab": {
          "base_uri": "https://localhost:8080/",
          "height": 298
        },
        "outputId": "46e7f908-9c95-4e3b-ff84-20cc8f4a1eb8"
      },
      "cell_type": "code",
      "source": [
        "plt.plot(loaded_history_json['acc'], \n",
        "         label='acc train')\n",
        "plt.plot(loaded_history_json['val_acc'], \n",
        "         label='acc test')\n",
        "plt.xlabel('Эпоха обучения')\n",
        "plt.ylabel('Доля верных ответов')\n",
        "plt.legend()\n",
        "plt.show()"
      ],
      "execution_count": 290,
      "outputs": [
        {
          "output_type": "display_data",
          "data": {
            "image/png": "[encoded data removed]",
            "text/plain": [
              "<Figure size 432x288 with 1 Axes>"
            ]
          },
          "metadata": {
            "tags": []
          }
        }
      ]
    },
    {
      "metadata": {
        "id": "LX5qOQEP5uQI",
        "colab_type": "code",
        "colab": {}
      },
      "cell_type": "code",
      "source": [
        "loaded_model = Sequential() #?\n",
        "loaded_model = load_model(task2_filepath + 'baseline_model.hdf5')"
      ],
      "execution_count": 0,
      "outputs": []
    },
    {
      "metadata": {
        "id": "ZQpyZ0eP-ncF",
        "colab_type": "code",
        "outputId": "a16f1c9c-61ad-444c-ca10-8e4e77171f10",
        "colab": {
          "base_uri": "https://localhost:8080/",
          "height": 360
        }
      },
      "cell_type": "code",
      "source": [
        "y_predicted_scores = loaded_model.predict(x_test_tokenized)\n",
        "y_predicted_scores[y_predicted_scores>=0.5] = 1\n",
        "y_predicted_scores[y_predicted_scores<0.5] = 0\n",
        "\n",
        "print('Classification report\\n')\n",
        "print(classification_report(y_test, y_predicted_scores))"
      ],
      "execution_count": 292,
      "outputs": [
        {
          "output_type": "stream",
          "text": [
            "Classification report\n",
            "\n",
            "              precision    recall  f1-score   support\n",
            "\n",
            "           0       0.58      0.32      0.41       830\n",
            "           1       0.00      0.00      0.00       485\n",
            "           2       0.37      0.09      0.14       888\n",
            "           3       0.36      0.12      0.18      1660\n",
            "           4       0.89      0.63      0.74      7675\n",
            "\n",
            "   micro avg       0.81      0.46      0.59     11538\n",
            "   macro avg       0.44      0.23      0.29     11538\n",
            "weighted avg       0.72      0.46      0.56     11538\n",
            " samples avg       0.46      0.46      0.46     11538\n",
            "\n"
          ],
          "name": "stdout"
        },
        {
          "output_type": "stream",
          "text": [
            "/usr/local/lib/python3.6/dist-packages/sklearn/metrics/classification.py:1143: UndefinedMetricWarning: Precision and F-score are ill-defined and being set to 0.0 in labels with no predicted samples.\n",
            "  'precision', 'predicted', average, warn_for)\n",
            "/usr/local/lib/python3.6/dist-packages/sklearn/metrics/classification.py:1143: UndefinedMetricWarning: Precision and F-score are ill-defined and being set to 0.0 in samples with no predicted labels.\n",
            "  'precision', 'predicted', average, warn_for)\n"
          ],
          "name": "stderr"
        }
      ]
    },
    {
      "metadata": {
        "id": "1STYnWN_GQUi",
        "colab_type": "code",
        "colab": {}
      },
      "cell_type": "code",
      "source": [
        "reverse_y_test = np.argmax(y_test, axis=1)\n",
        "reverse_y_pred = np.argmax(y_predicted_scores, axis=1)"
      ],
      "execution_count": 0,
      "outputs": []
    },
    {
      "metadata": {
        "colab_type": "code",
        "outputId": "12df8864-7532-4980-e950-24d2722eebac",
        "id": "yLEFmPIS2M7m",
        "colab": {
          "base_uri": "https://localhost:8080/",
          "height": 34
        }
      },
      "cell_type": "code",
      "source": [
        "Counter(reverse_y_test)"
      ],
      "execution_count": 294,
      "outputs": [
        {
          "output_type": "execute_result",
          "data": {
            "text/plain": [
              "Counter({0: 830, 1: 485, 2: 888, 3: 1660, 4: 7675})"
            ]
          },
          "metadata": {
            "tags": []
          },
          "execution_count": 294
        }
      ]
    },
    {
      "metadata": {
        "colab_type": "code",
        "outputId": "20fd1c02-6183-48bc-c5fa-212c19ad0204",
        "id": "hF-OlqbA2MIW",
        "colab": {
          "base_uri": "https://localhost:8080/",
          "height": 34
        }
      },
      "cell_type": "code",
      "source": [
        "Counter(reverse_y_pred)"
      ],
      "execution_count": 295,
      "outputs": [
        {
          "output_type": "execute_result",
          "data": {
            "text/plain": [
              "Counter({0: 5374, 2: 215, 3: 580, 4: 5369})"
            ]
          },
          "metadata": {
            "tags": []
          },
          "execution_count": 295
        }
      ]
    },
    {
      "metadata": {
        "id": "vhyujshE8PgJ",
        "colab_type": "code",
        "colab": {
          "base_uri": "https://localhost:8080/",
          "height": 763
        },
        "outputId": "19a711fa-5bbe-4412-8356-d3ff240f29d7"
      },
      "cell_type": "code",
      "source": [
        "labels = [1,2,3,4,5]\n",
        "cnf_matrix = confusion_matrix(reverse_y_test, reverse_y_pred)\n",
        "print(plot_confusion_matrix(cnf_matrix, classes = labels))"
      ],
      "execution_count": 297,
      "outputs": [
        {
          "output_type": "stream",
          "text": [
            "Confusion matrix, without normalization\n",
            "None\n"
          ],
          "name": "stdout"
        },
        {
          "output_type": "display_data",
          "data": {
            "image/png": "[encoded data removed]",
            "text/plain": [
              "<Figure size 720x720 with 2 Axes>"
            ]
          },
          "metadata": {
            "tags": []
          }
        }
      ]
    },
    {
      "metadata": {
        "id": "hO77wqriMNHb",
        "colab_type": "text"
      },
      "cell_type": "markdown",
      "source": [
        "Исходя из репорта видно, что:\n",
        "- отзывы с оценками 2 и 3 классифицуются хуже всего.\n",
        "- отзывы на 5 классифицируются достаточно неплохо, но не стоит забывать, что их больше всего и возможно сети на них легче всего выучиться (несмотря на то, что их и подрезали при помощи UnderSampling'a).\n",
        "- достаточно много отзывов, классифицируемых как 1, хотя скорее всего так происходит, потому, что на этот класс приходятся, в большинстве своем, missclasified отзывы."
      ]
    },
    {
      "metadata": {
        "id": "0vkZOxbu-ncO",
        "colab_type": "text"
      },
      "cell_type": "markdown",
      "source": [
        "#### fasttext.\n",
        "\n",
        "Обучить «fasttext» модель на n-граммах используя случайную инициализацию эмбедингов."
      ]
    },
    {
      "metadata": {
        "id": "KjtY4QfYI6mF",
        "colab_type": "code",
        "colab": {}
      },
      "cell_type": "code",
      "source": [
        "K.clear_session()"
      ],
      "execution_count": 0,
      "outputs": []
    },
    {
      "metadata": {
        "id": "AO86sF9V-ncP",
        "colab_type": "code",
        "colab": {}
      },
      "cell_type": "code",
      "source": [
        "# Set parameters:\n",
        "# ngram_range = 2 will add bi-grams features\n",
        "ngram_range = 2\n",
        "max_features = 20000\n",
        "maxlen = 80\n",
        "batch_size = 128\n",
        "embedding_dims = 64\n",
        "epochs = 5\n",
        "task3_filepath = \"drive/My Drive/data/models/subtask3/\""
      ],
      "execution_count": 0,
      "outputs": []
    },
    {
      "metadata": {
        "id": "nEV6tOLv-ncT",
        "colab_type": "code",
        "outputId": "8019a693-5f01-4426-86eb-4c80e642fb38",
        "colab": {
          "base_uri": "https://localhost:8080/",
          "height": 51
        }
      },
      "cell_type": "code",
      "source": [
        "%%time\n",
        "tokenizer = Tokenizer(num_words=max_features)\n",
        "tokenizer.fit_on_texts(x_train)\n",
        "\n",
        "x_train_tokenized = tokenizer.texts_to_sequences(x_train)\n",
        "x_test_tokenized  = tokenizer.texts_to_sequences(x_test)"
      ],
      "execution_count": 165,
      "outputs": [
        {
          "output_type": "stream",
          "text": [
            "CPU times: user 6.22 s, sys: 99 ms, total: 6.32 s\n",
            "Wall time: 6.32 s\n"
          ],
          "name": "stdout"
        }
      ]
    },
    {
      "metadata": {
        "id": "ZKP3tTxfTHds",
        "colab_type": "code",
        "colab": {
          "base_uri": "https://localhost:8080/",
          "height": 51
        },
        "outputId": "c1247af7-b743-4ea1-95cd-6c9b0220b4b0"
      },
      "cell_type": "code",
      "source": [
        "print('Average train sequence length: {}'.format(\n",
        "        np.mean(list(map(len, x_train_tokenized)), dtype=int)))\n",
        "print('Average test sequence length: {}'.format(\n",
        "        np.mean(list(map(len, x_test_tokenized)), dtype=int)))"
      ],
      "execution_count": 166,
      "outputs": [
        {
          "output_type": "stream",
          "text": [
            "Average train sequence length: 21\n",
            "Average test sequence length: 20\n"
          ],
          "name": "stdout"
        }
      ]
    },
    {
      "metadata": {
        "id": "-EfNHWBz-ncY",
        "colab_type": "code",
        "colab": {}
      },
      "cell_type": "code",
      "source": [
        "def create_ngram_set(input_list, ngram_value=2):\n",
        "    \"\"\"\n",
        "    Extract a set of n-grams from a list of integers.\n",
        "    >>> create_ngram_set([1, 4, 9, 4, 1, 4], ngram_value=2)\n",
        "    {(4, 9), (4, 1), (1, 4), (9, 4)}\n",
        "    >>> create_ngram_set([1, 4, 9, 4, 1, 4], ngram_value=3)\n",
        "    [(1, 4, 9), (4, 9, 4), (9, 4, 1), (4, 1, 4)]\n",
        "    \"\"\"\n",
        "    return set(zip(*[input_list[i:] for i in range(ngram_value)]))"
      ],
      "execution_count": 0,
      "outputs": []
    },
    {
      "metadata": {
        "id": "L134zBRY-ncd",
        "colab_type": "code",
        "colab": {}
      },
      "cell_type": "code",
      "source": [
        "def add_ngram(sequences, token_indice, ngram_range=2):\n",
        "    \"\"\"\n",
        "    Augment the input list of list (sequences) by appending n-grams values.\n",
        "    Example: adding bi-gram\n",
        "    >>> sequences = [[1, 3, 4, 5], [1, 3, 7, 9, 2]]\n",
        "    >>> token_indice = {(1, 3): 1337, (9, 2): 42, (4, 5): 2017}\n",
        "    >>> add_ngram(sequences, token_indice, ngram_range=2)\n",
        "    [[1, 3, 4, 5, 1337, 2017], [1, 3, 7, 9, 2, 1337, 42]]\n",
        "    Example: adding tri-gram\n",
        "    >>> sequences = [[1, 3, 4, 5], [1, 3, 7, 9, 2]]\n",
        "    >>> token_indice = {(1, 3): 1337, (9, 2): 42, (4, 5): 2017, (7, 9, 2): 2018}\n",
        "    >>> add_ngram(sequences, token_indice, ngram_range=3)\n",
        "    [[1, 3, 4, 5, 1337, 2017], [1, 3, 7, 9, 2, 1337, 42, 2018]]\n",
        "    \"\"\"\n",
        "    new_sequences = []\n",
        "    for input_list in sequences:\n",
        "        new_list = input_list[:]\n",
        "        for ngram_value in range(2, ngram_range + 1):\n",
        "            for i in range(len(new_list) - ngram_value + 1):\n",
        "                ngram = tuple(new_list[i:i + ngram_value])\n",
        "                if ngram in token_indice:\n",
        "                    new_list.append(token_indice[ngram])\n",
        "        new_sequences.append(new_list)\n",
        "\n",
        "    return new_sequences"
      ],
      "execution_count": 0,
      "outputs": []
    },
    {
      "metadata": {
        "id": "rbkOzVQb-nch",
        "colab_type": "code",
        "outputId": "fcc8f7fe-84ca-49c4-e125-b1a103cf9eaf",
        "colab": {
          "base_uri": "https://localhost:8080/",
          "height": 68
        }
      },
      "cell_type": "code",
      "source": [
        "if ngram_range > 1:\n",
        "    print('Adding {}-gram features'.format(ngram_range))\n",
        "    # Create set of unique n-gram from the training set.\n",
        "    ngram_set = set()\n",
        "    for input_list in x_train_tokenized:\n",
        "        for i in range(2, ngram_range + 1):\n",
        "            set_of_ngram = create_ngram_set(input_list, ngram_value=i)\n",
        "            ngram_set.update(set_of_ngram)\n",
        "\n",
        "    # Dictionary mapping n-gram token to a unique integer.\n",
        "    # Integer values are greater than max_features in order\n",
        "    # to avoid collision with existing features.\n",
        "    start_index = max_features + 1\n",
        "    token_indice = {v: k + start_index for k, v in enumerate(ngram_set)}\n",
        "    indice_token = {token_indice[k]: k for k in token_indice}\n",
        "\n",
        "    # max_features is the highest integer that could be found in the dataset.\n",
        "    max_features = np.max(list(indice_token.keys())) + 1\n",
        "\n",
        "    # Augmenting x_train_tokenized and x_test_tokenized with n-grams features\n",
        "    x_train_tokenized = add_ngram(x_train_tokenized, token_indice, ngram_range)\n",
        "    x_test_tokenized = add_ngram(x_test_tokenized, token_indice, ngram_range)\n",
        "    \n",
        "    print('Average train sequence length: {}'.format(\n",
        "        np.mean(list(map(len, x_train_tokenized)), dtype=int)))\n",
        "    print('Average test sequence length: {}'.format(\n",
        "        np.mean(list(map(len, x_test_tokenized)), dtype=int)))"
      ],
      "execution_count": 169,
      "outputs": [
        {
          "output_type": "stream",
          "text": [
            "Adding 2-gram features\n",
            "Average train sequence length: 42\n",
            "Average test sequence length: 27\n"
          ],
          "name": "stdout"
        }
      ]
    },
    {
      "metadata": {
        "id": "pSOwnt1E-ncl",
        "colab_type": "code",
        "outputId": "6e2fd8e3-01bc-4a49-e801-d131a66a54c7",
        "colab": {
          "base_uri": "https://localhost:8080/",
          "height": 68
        }
      },
      "cell_type": "code",
      "source": [
        "print('Pad sequences (samples x time)')\n",
        "x_train_tokenized = sequence.pad_sequences(x_train_tokenized, padding='post', maxlen=maxlen)\n",
        "x_test_tokenized = sequence.pad_sequences(x_test_tokenized, padding='post', maxlen=maxlen)\n",
        "print('x_train_tokenized shape:', x_train_tokenized.shape)\n",
        "print('x_test_tokenized shape:', x_test_tokenized.shape)"
      ],
      "execution_count": 170,
      "outputs": [
        {
          "output_type": "stream",
          "text": [
            "Pad sequences (samples x time)\n",
            "x_train_tokenized shape: (40253, 80)\n",
            "x_test_tokenized shape: (11538, 80)\n"
          ],
          "name": "stdout"
        }
      ]
    },
    {
      "metadata": {
        "id": "jGk4Rot--nco",
        "colab_type": "code",
        "colab": {}
      },
      "cell_type": "code",
      "source": [
        "'''x_train_part,y_train_part = next_batch(30000, x_train_tokenized, y_train)\n",
        "x_test_part,y_test_part = next_batch(10000, x_test_tokenized, y_test)''';"
      ],
      "execution_count": 0,
      "outputs": []
    },
    {
      "metadata": {
        "id": "uWeO0KgwV9dm",
        "colab_type": "code",
        "colab": {
          "base_uri": "https://localhost:8080/",
          "height": 34
        },
        "outputId": "a6a4b993-436a-4cb8-ce48-08ee79499d0a"
      },
      "cell_type": "code",
      "source": [
        "max_features * 64"
      ],
      "execution_count": 132,
      "outputs": [
        {
          "output_type": "execute_result",
          "data": {
            "text/plain": [
              "38984960"
            ]
          },
          "metadata": {
            "tags": []
          },
          "execution_count": 132
        }
      ]
    },
    {
      "metadata": {
        "id": "m1nCLvzmYoUw",
        "colab_type": "text"
      },
      "cell_type": "markdown",
      "source": [
        "370 262 528\n",
        "\n",
        "185 131 264"
      ]
    },
    {
      "metadata": {
        "id": "leDbTV4z-ncv",
        "colab_type": "code",
        "colab": {}
      },
      "cell_type": "code",
      "source": [
        "'''# adam works too slow, for test use SGD\n",
        "from keras import optimizers\n",
        "sgd = optimizers.SGD(lr=0.01, momentum=0.9)''';"
      ],
      "execution_count": 0,
      "outputs": []
    },
    {
      "metadata": {
        "id": "lNWsRGMW-ncx",
        "colab_type": "code",
        "outputId": "aea0468e-6f42-4281-def9-bf27b5bc46d7",
        "colab": {
          "base_uri": "https://localhost:8080/",
          "height": 255
        }
      },
      "cell_type": "code",
      "source": [
        "print('Build model...')\n",
        "model = Sequential()\n",
        "\n",
        "# we start off with an efficient embedding layer which maps\n",
        "# our vocab indices into embedding_dims dimensions\n",
        "# используя случайную инициализацию эмбедингов\n",
        "model.add(Embedding(input_dim = max_features,\n",
        "                    output_dim = embedding_dims,\n",
        "                    input_length=maxlen, \t\n",
        "                    embeddings_initializer = 'glorot_uniform')) \n",
        "\n",
        "# we add a GlobalAveragePooling1D, which will average the embeddings\n",
        "# of all words in the document\n",
        "model.add(GlobalAveragePooling1D())\n",
        "\n",
        "# We project onto a single unit output layer, and squash it with a softmax:\n",
        "model.add(Dense(5, activation='softmax'))\n",
        "\n",
        "\n",
        "model.compile(loss='categorical_crossentropy',\n",
        "              #optimizer = sgd,\n",
        "              optimizer='adam',\n",
        "              metrics=['accuracy'])\n",
        "\n",
        "\n",
        "model.summary()"
      ],
      "execution_count": 134,
      "outputs": [
        {
          "output_type": "stream",
          "text": [
            "Build model...\n",
            "_________________________________________________________________\n",
            "Layer (type)                 Output Shape              Param #   \n",
            "=================================================================\n",
            "embedding_4 (Embedding)      (None, 80, 64)            38984960  \n",
            "_________________________________________________________________\n",
            "global_average_pooling1d_1 ( (None, 64)                0         \n",
            "_________________________________________________________________\n",
            "dense_4 (Dense)              (None, 5)                 325       \n",
            "=================================================================\n",
            "Total params: 38,985,285\n",
            "Trainable params: 38,985,285\n",
            "Non-trainable params: 0\n",
            "_________________________________________________________________\n"
          ],
          "name": "stdout"
        }
      ]
    },
    {
      "metadata": {
        "id": "HsVStyYTUw5p",
        "colab_type": "code",
        "colab": {}
      },
      "cell_type": "code",
      "source": [
        "earlyStopping = EarlyStopping(monitor='val_loss', patience=3, \n",
        "                              verbose=1, min_delta=0.01,\n",
        "                              mode='min',restore_best_weights=True)\n",
        "\n",
        "\n",
        "checkpoint = ModelCheckpoint(task3_filepath + 'baseline_model3.hdf5', monitor='val_loss', \n",
        "                             verbose=1, save_best_only=True, mode='min')\n",
        "\n",
        "m_callbacks = [checkpoint, earlyStopping]"
      ],
      "execution_count": 0,
      "outputs": []
    },
    {
      "metadata": {
        "scrolled": true,
        "id": "eH7wJmf9-nc0",
        "colab_type": "code",
        "outputId": "45ba96f8-2723-45af-c5d6-e70d344d9627",
        "colab": {
          "base_uri": "https://localhost:8080/",
          "height": 374
        }
      },
      "cell_type": "code",
      "source": [
        "history_model = model.fit(x_train_tokenized, y_train,\n",
        "          batch_size=batch_size,\n",
        "          epochs=epochs,\n",
        "          verbose=1,\n",
        "          callbacks=m_callbacks,\n",
        "          validation_data=(x_test_tokenized, y_test))"
      ],
      "execution_count": 140,
      "outputs": [
        {
          "output_type": "stream",
          "text": [
            "Train on 40253 samples, validate on 11538 samples\n",
            "Epoch 1/5\n",
            "40253/40253 [==============================] - 159s 4ms/step - loss: 1.5251 - acc: 0.3320 - val_loss: 1.2195 - val_acc: 0.6772\n",
            "\n",
            "Epoch 00001: val_loss improved from inf to 1.21948, saving model to drive/My Drive/data/models/subtask3/baseline_model3.hdf5\n",
            "Epoch 2/5\n",
            "40253/40253 [==============================] - 163s 4ms/step - loss: 1.3304 - acc: 0.5080 - val_loss: 1.0686 - val_acc: 0.6867\n",
            "\n",
            "Epoch 00002: val_loss improved from 1.21948 to 1.06860, saving model to drive/My Drive/data/models/subtask3/baseline_model3.hdf5\n",
            "Epoch 3/5\n",
            "40253/40253 [==============================] - 163s 4ms/step - loss: 1.0782 - acc: 0.6544 - val_loss: 1.0115 - val_acc: 0.6790\n",
            "\n",
            "Epoch 00003: val_loss improved from 1.06860 to 1.01148, saving model to drive/My Drive/data/models/subtask3/baseline_model3.hdf5\n",
            "Epoch 4/5\n",
            "40253/40253 [==============================] - 164s 4ms/step - loss: 0.8424 - acc: 0.7623 - val_loss: 0.9880 - val_acc: 0.6639\n",
            "\n",
            "Epoch 00004: val_loss improved from 1.01148 to 0.98802, saving model to drive/My Drive/data/models/subtask3/baseline_model3.hdf5\n",
            "Epoch 5/5\n",
            "40253/40253 [==============================] - 167s 4ms/step - loss: 0.6490 - acc: 0.8448 - val_loss: 0.9563 - val_acc: 0.6650\n",
            "\n",
            "Epoch 00005: val_loss improved from 0.98802 to 0.95625, saving model to drive/My Drive/data/models/subtask3/baseline_model3.hdf5\n"
          ],
          "name": "stdout"
        }
      ]
    },
    {
      "metadata": {
        "id": "9LhBkufY-nc2",
        "colab_type": "code",
        "colab": {}
      },
      "cell_type": "code",
      "source": [
        "\n",
        "'''# serialize model to JSON\n",
        "model_json = model.to_json()\n",
        "with open(path + \"model\" + \".json\", \"w\") as json_file:\n",
        "    json_file.write(model_json)''';\n",
        "\n",
        "with open(task3_filepath + \"history3\"+ \".json\", 'w') as f:\n",
        "    json.dump(history_model.history, f)\n",
        "    \n",
        "'''# serialize weights to HDF5\n",
        "model.save_weights(path + \"model\" +  \".h5\")\n",
        "print(\"Saved model to disk\")''';"
      ],
      "execution_count": 0,
      "outputs": []
    },
    {
      "metadata": {
        "colab_type": "code",
        "id": "Z2T-4y3dVU5q",
        "colab": {}
      },
      "cell_type": "code",
      "source": [
        "#load history\n",
        "json_file = open(task3_filepath + \"history3\"+ \".json\", 'r')\n",
        "loaded_history_json = json.load(json_file)\n",
        "json_file.close()"
      ],
      "execution_count": 0,
      "outputs": []
    },
    {
      "metadata": {
        "colab_type": "code",
        "outputId": "0adde017-e25f-4ace-e5e5-eb2c82638b5c",
        "id": "0eVAFI05VU5t",
        "colab": {
          "base_uri": "https://localhost:8080/",
          "height": 298
        }
      },
      "cell_type": "code",
      "source": [
        "plt.plot(loaded_history_json['loss'], \n",
        "         label='loss train')\n",
        "plt.plot(loaded_history_json['val_loss'], \n",
        "         label='loss test')\n",
        "plt.xlabel('Эпоха обучения')\n",
        "plt.ylabel('Loss')\n",
        "plt.legend()\n",
        "plt.show()"
      ],
      "execution_count": 143,
      "outputs": [
        {
          "output_type": "display_data",
          "data": {
            "image/png": "[encoded data removed]",
            "text/plain": [
              "<Figure size 432x288 with 1 Axes>"
            ]
          },
          "metadata": {
            "tags": []
          }
        }
      ]
    },
    {
      "metadata": {
        "colab_type": "code",
        "outputId": "5ef2d881-054b-4d32-b704-d47052c2534c",
        "id": "6Otdo2i4VU5x",
        "colab": {
          "base_uri": "https://localhost:8080/",
          "height": 298
        }
      },
      "cell_type": "code",
      "source": [
        "plt.plot(loaded_history_json['acc'], \n",
        "         label='acc train')\n",
        "plt.plot(loaded_history_json['val_acc'], \n",
        "         label='acc test')\n",
        "plt.xlabel('Эпоха обучения')\n",
        "plt.ylabel('Доля верных ответов')\n",
        "plt.legend()\n",
        "plt.show()"
      ],
      "execution_count": 144,
      "outputs": [
        {
          "output_type": "display_data",
          "data": {
            "image/png": "[encoded data removed]",
            "text/plain": [
              "<Figure size 432x288 with 1 Axes>"
            ]
          },
          "metadata": {
            "tags": []
          }
        }
      ]
    },
    {
      "metadata": {
        "id": "_fSh3H8K8o4y",
        "colab_type": "code",
        "colab": {}
      },
      "cell_type": "code",
      "source": [
        "K.clear_session()"
      ],
      "execution_count": 0,
      "outputs": []
    },
    {
      "metadata": {
        "colab_type": "code",
        "id": "CAfSginpmFAX",
        "colab": {}
      },
      "cell_type": "code",
      "source": [
        "loaded_model = Sequential() #?\n",
        "loaded_model = load_model(task3_filepath + 'baseline_model3.hdf5')"
      ],
      "execution_count": 0,
      "outputs": []
    },
    {
      "metadata": {
        "colab_type": "code",
        "outputId": "26818004-a5a0-4bc6-82f9-7b3dfb3730ea",
        "id": "od6GFchEmFAa",
        "colab": {
          "base_uri": "https://localhost:8080/",
          "height": 326
        }
      },
      "cell_type": "code",
      "source": [
        "y_predicted_scores = loaded_model.predict(x_test_tokenized)\n",
        "y_predicted_scores[y_predicted_scores>=0.5] = 1\n",
        "y_predicted_scores[y_predicted_scores<0.5] = 0\n",
        "\n",
        "print('Classification report\\n')\n",
        "print(classification_report(y_test, y_predicted_scores))"
      ],
      "execution_count": 173,
      "outputs": [
        {
          "output_type": "stream",
          "text": [
            "Classification report\n",
            "\n",
            "              precision    recall  f1-score   support\n",
            "\n",
            "           0       0.65      0.30      0.41       830\n",
            "           1       1.00      0.00      0.01       485\n",
            "           2       0.40      0.07      0.12       888\n",
            "           3       0.39      0.10      0.16      1660\n",
            "           4       0.91      0.61      0.73      7675\n",
            "\n",
            "   micro avg       0.85      0.45      0.59     11538\n",
            "   macro avg       0.67      0.22      0.29     11538\n",
            "weighted avg       0.78      0.45      0.55     11538\n",
            " samples avg       0.45      0.45      0.45     11538\n",
            "\n"
          ],
          "name": "stdout"
        },
        {
          "output_type": "stream",
          "text": [
            "/usr/local/lib/python3.6/dist-packages/sklearn/metrics/classification.py:1143: UndefinedMetricWarning: Precision and F-score are ill-defined and being set to 0.0 in samples with no predicted labels.\n",
            "  'precision', 'predicted', average, warn_for)\n"
          ],
          "name": "stderr"
        }
      ]
    },
    {
      "metadata": {
        "colab_type": "code",
        "id": "l7tW6-WEmFAc",
        "colab": {}
      },
      "cell_type": "code",
      "source": [
        "reverse_y_test = np.argmax(y_test, axis=1)\n",
        "reverse_y_pred = np.argmax(y_predicted_scores, axis=1)"
      ],
      "execution_count": 0,
      "outputs": []
    },
    {
      "metadata": {
        "colab_type": "code",
        "outputId": "4acb21c7-aea9-4fd9-f489-7ffa30c520ff",
        "id": "F6GsL9w6mFAg",
        "colab": {
          "base_uri": "https://localhost:8080/",
          "height": 763
        }
      },
      "cell_type": "code",
      "source": [
        "labels = [0,1,2,3,4]\n",
        "cnf_matrix = confusion_matrix(reverse_y_test, reverse_y_pred)\n",
        "print(plot_confusion_matrix(cnf_matrix, classes = labels))"
      ],
      "execution_count": 175,
      "outputs": [
        {
          "output_type": "stream",
          "text": [
            "Confusion matrix, without normalization\n",
            "None\n"
          ],
          "name": "stdout"
        },
        {
          "output_type": "display_data",
          "data": {
            "image/png": "[encoded data removed]",
            "text/plain": [
              "<Figure size 720x720 with 2 Axes>"
            ]
          },
          "metadata": {
            "tags": []
          }
        }
      ]
    },
    {
      "metadata": {
        "id": "iM8HWaA_r-bf",
        "colab_type": "text"
      },
      "cell_type": "markdown",
      "source": [
        "В принципе, эта модель нейронной сети выглядит поинтереснее чем предыдущая, хоть у нее и f1-score будет поменьше.\n",
        "В данном случае, количество выходных слоев embedding и количество max_features уменьшено в два раза (чтобы не падало с ошибкой окружение в колабе), но по результатам оказалось достаточно неплохо.\n",
        "\n",
        "Судя по репорту, смущает больше всего precision у класса 1, при этом полнота = 0. Т.е. мы корректно предсказали 2 объекта, при этом пропустили все остальные...\n"
      ]
    },
    {
      "metadata": {
        "id": "LUvNKY4p-ndB",
        "colab_type": "text"
      },
      "cell_type": "markdown",
      "source": [
        "#### Character based model.\n",
        "Обучить сharacter based модель (вместо слов мы подаём предложение посимвольно)."
      ]
    },
    {
      "metadata": {
        "id": "w8fA5uVD8qhI",
        "colab_type": "code",
        "colab": {}
      },
      "cell_type": "code",
      "source": [
        "K.clear_session()\n",
        "del model, loaded_model"
      ],
      "execution_count": 0,
      "outputs": []
    },
    {
      "metadata": {
        "id": "LXgwAAxT-ndB",
        "colab_type": "code",
        "colab": {}
      },
      "cell_type": "code",
      "source": [
        "max_features = 40000\n",
        "maxlen = 250\n",
        "batch_size = 256\n",
        "embedding_dims = 64\n",
        "epochs = 5\n",
        "task4_filepath = \"drive/My Drive/data/models/subtask4/\""
      ],
      "execution_count": 0,
      "outputs": []
    },
    {
      "metadata": {
        "id": "PvyuDDsf-ndE",
        "colab_type": "code",
        "outputId": "c87bd84b-04f3-4a68-d48c-163913cbaa41",
        "colab": {
          "base_uri": "https://localhost:8080/",
          "height": 51
        }
      },
      "cell_type": "code",
      "source": [
        "%%time\n",
        "tokenizer = Tokenizer(\n",
        "    char_level=True,\n",
        "    #filters=None,\n",
        "    lower=True,\n",
        "    num_words=max_features\n",
        ")\n",
        "\n",
        "tokenizer.fit_on_texts(x_train)\n",
        "\n",
        "x_train_tokenized = tokenizer.texts_to_sequences(x_train)\n",
        "x_test_tokenized  = tokenizer.texts_to_sequences(x_test)"
      ],
      "execution_count": 305,
      "outputs": [
        {
          "output_type": "stream",
          "text": [
            "CPU times: user 7.9 s, sys: 36.9 ms, total: 7.94 s\n",
            "Wall time: 7.95 s\n"
          ],
          "name": "stdout"
        }
      ]
    },
    {
      "metadata": {
        "colab_type": "code",
        "outputId": "5648a743-3362-4a10-8b2c-e580b1ed4403",
        "id": "T-TihlDksGW0",
        "colab": {
          "base_uri": "https://localhost:8080/",
          "height": 51
        }
      },
      "cell_type": "code",
      "source": [
        "print('Average train sequence length: {}'.format(\n",
        "        np.mean(list(map(len, x_train_tokenized)), dtype=int)))\n",
        "print('Average test sequence length: {}'.format(\n",
        "        np.mean(list(map(len, x_test_tokenized)), dtype=int)))"
      ],
      "execution_count": 306,
      "outputs": [
        {
          "output_type": "stream",
          "text": [
            "Average train sequence length: 202\n",
            "Average test sequence length: 195\n"
          ],
          "name": "stdout"
        }
      ]
    },
    {
      "metadata": {
        "id": "aFXXXlD1-ndI",
        "colab_type": "code",
        "outputId": "9e7fb207-3dfe-4bae-adb6-5815f7aee736",
        "colab": {
          "base_uri": "https://localhost:8080/",
          "height": 51
        }
      },
      "cell_type": "code",
      "source": [
        "%%time\n",
        "x_train_tokenized = sequence.pad_sequences(x_train_tokenized, padding='post', maxlen=maxlen)\n",
        "x_test_tokenized = sequence.pad_sequences(x_test_tokenized, padding='post', maxlen=maxlen)"
      ],
      "execution_count": 307,
      "outputs": [
        {
          "output_type": "stream",
          "text": [
            "CPU times: user 822 ms, sys: 49.2 ms, total: 871 ms\n",
            "Wall time: 872 ms\n"
          ],
          "name": "stdout"
        }
      ]
    },
    {
      "metadata": {
        "id": "w-8MLnjo-ndK",
        "colab_type": "code",
        "outputId": "e620dfa0-0725-4e34-9bfa-c7b85c2de7a7",
        "colab": {
          "base_uri": "https://localhost:8080/",
          "height": 34
        }
      },
      "cell_type": "code",
      "source": [
        "x_train_tokenized.shape"
      ],
      "execution_count": 308,
      "outputs": [
        {
          "output_type": "execute_result",
          "data": {
            "text/plain": [
              "(40253, 250)"
            ]
          },
          "metadata": {
            "tags": []
          },
          "execution_count": 308
        }
      ]
    },
    {
      "metadata": {
        "id": "FDnOgtvV-ndN",
        "colab_type": "code",
        "outputId": "9e44ee6e-fc60-4bba-8808-b31ceba21833",
        "colab": {
          "base_uri": "https://localhost:8080/",
          "height": 34
        }
      },
      "cell_type": "code",
      "source": [
        "x_test_tokenized.shape"
      ],
      "execution_count": 309,
      "outputs": [
        {
          "output_type": "execute_result",
          "data": {
            "text/plain": [
              "(11538, 250)"
            ]
          },
          "metadata": {
            "tags": []
          },
          "execution_count": 309
        }
      ]
    },
    {
      "metadata": {
        "id": "3bHH2nknItxV",
        "colab_type": "code",
        "colab": {
          "base_uri": "https://localhost:8080/",
          "height": 34
        },
        "outputId": "fb6a9f07-f1ee-4408-8995-1a47fa9812e8"
      },
      "cell_type": "code",
      "source": [
        "vocab_size = len(tokenizer.word_index) + 1  # Adding 1 because of reserved 0 index\n",
        "print (vocab_size)"
      ],
      "execution_count": 310,
      "outputs": [
        {
          "output_type": "stream",
          "text": [
            "84\n"
          ],
          "name": "stdout"
        }
      ]
    },
    {
      "metadata": {
        "id": "lU0rInDz-ndX",
        "colab_type": "text"
      },
      "cell_type": "markdown",
      "source": [
        "LTSM Shape note:\n",
        "- Samples. One sequence is one sample. A batch is comprised of one or more samples.\n",
        "- Time Steps. One time step is one point of observation in the sample.\n",
        "- Features. One feature is one observation at a time step.\n",
        "\n",
        "so, we have x_train_part.shape[0] samples, 1 time step and maxlen = x_train_part.shape[1] features."
      ]
    },
    {
      "metadata": {
        "id": "cq1vltAT-ndY",
        "colab_type": "code",
        "colab": {}
      },
      "cell_type": "code",
      "source": [
        "'''x_train_part = np.reshape(x_train_part, (x_train_part.shape[0], 1,  x_train_part.shape[1]))\n",
        "x_test_part = np.reshape(x_test_part, ( x_test_part.shape[0], 1,  x_test_part.shape[1]))\n",
        "\n",
        "x_train_part.shape''';"
      ],
      "execution_count": 0,
      "outputs": []
    },
    {
      "metadata": {
        "id": "l8k07QA-U6E5",
        "colab_type": "text"
      },
      "cell_type": "markdown",
      "source": [
        "В качестве примера имплементации была взята модель с каггла: \n",
        "\n",
        "https://www.kaggle.com/mamamot/character-based-lstm\n",
        "\n",
        "и к ней добавлен входной embedding-layer.\n",
        "\n",
        "Также для сравнения была взята bidirectional lstm из второй подзадачи."
      ]
    },
    {
      "metadata": {
        "id": "QnJMrPMZ-ndZ",
        "colab_type": "code",
        "outputId": "35e0f4e0-b302-4f06-bd33-ac65cd84a400",
        "colab": {
          "base_uri": "https://localhost:8080/",
          "height": 306
        }
      },
      "cell_type": "code",
      "source": [
        "# define model\n",
        "model = Sequential()\n",
        "\n",
        "model.add(Embedding(input_dim = vocab_size,\n",
        "                    output_dim = embedding_dims,\n",
        "                    input_length=maxlen, \n",
        "                    embeddings_initializer = 'glorot_uniform'))\n",
        "model.add(BatchNormalization())\n",
        "model.add(Bidirectional(LSTM(embedding_dims)))\n",
        "model.add(Dropout(0.5))\n",
        "model.add(Dense(5, activation=\"softmax\"))\n",
        "\n",
        "\n",
        "'''model.add(Embedding(input_dim = vocab_size,\n",
        "                    output_dim = embedding_dims,\n",
        "                    input_length=maxlen, \n",
        "                    embeddings_initializer = 'glorot_uniform')) \n",
        "model.add(BatchNormalization())\n",
        "#model.add(LSTM(128, input_shape=(x_train_part.shape[1], x_train_part.shape[2]), activation=\"tanh\", return_sequences=True))\n",
        "model.add(LSTM(128, input_shape=(maxlen, max_features), activation=\"tanh\", return_sequences=True))\n",
        "model.add(BatchNormalization())\n",
        "model.add(Dropout(0.3))\n",
        "model.add(LSTM(64, input_shape=(500, 25000), activation=\"tanh\", return_sequences=False))\n",
        "model.add(BatchNormalization())\n",
        "model.add(Dropout(0.2))\n",
        "model.add(Dense(100, activation=\"tanh\"))\n",
        "model.add(BatchNormalization())\n",
        "model.add(Dropout(0.2))\n",
        "model.add(Dense(50, activation=\"tanh\"))\n",
        "model.add(BatchNormalization())\n",
        "model.add(Dropout(0.1))\n",
        "model.add(Dense(5, activation=\"softmax\"))''';#backup\n",
        "\n",
        "\n",
        "\n",
        "earlyStopping = EarlyStopping(monitor='val_acc', patience=2, verbose=2, mode='max',restore_best_weights=True)\n",
        "model.compile(loss='categorical_crossentropy',\n",
        "              #optimizer = sgd,\n",
        "              optimizer='adam',\n",
        "              metrics=['accuracy'])\n",
        "\n",
        "model.summary()"
      ],
      "execution_count": 312,
      "outputs": [
        {
          "output_type": "stream",
          "text": [
            "_________________________________________________________________\n",
            "Layer (type)                 Output Shape              Param #   \n",
            "=================================================================\n",
            "embedding_1 (Embedding)      (None, 250, 64)           5376      \n",
            "_________________________________________________________________\n",
            "batch_normalization_1 (Batch (None, 250, 64)           256       \n",
            "_________________________________________________________________\n",
            "bidirectional_1 (Bidirection (None, 128)               66048     \n",
            "_________________________________________________________________\n",
            "dropout_1 (Dropout)          (None, 128)               0         \n",
            "_________________________________________________________________\n",
            "dense_1 (Dense)              (None, 5)                 645       \n",
            "=================================================================\n",
            "Total params: 72,325\n",
            "Trainable params: 72,197\n",
            "Non-trainable params: 128\n",
            "_________________________________________________________________\n"
          ],
          "name": "stdout"
        }
      ]
    },
    {
      "metadata": {
        "colab_type": "code",
        "id": "fTpWfXDutc20",
        "colab": {}
      },
      "cell_type": "code",
      "source": [
        "earlyStopping = EarlyStopping(monitor='val_loss', patience=3, \n",
        "                              verbose=1, min_delta=0.01,\n",
        "                              mode='min',restore_best_weights=True)\n",
        "\n",
        "\n",
        "checkpoint = ModelCheckpoint(task4_filepath + 'baseline_model4.hdf5', monitor='val_acc', \n",
        "                             verbose=1, save_best_only=True, mode='max')\n",
        "\n",
        "m_callbacks = [checkpoint, earlyStopping]"
      ],
      "execution_count": 0,
      "outputs": []
    },
    {
      "metadata": {
        "scrolled": true,
        "id": "csBjhQ0X-ndb",
        "colab_type": "code",
        "outputId": "e257bb21-393f-44e8-b971-8ae1c1ba2432",
        "colab": {
          "base_uri": "https://localhost:8080/",
          "height": 374
        }
      },
      "cell_type": "code",
      "source": [
        "history_model = model.fit(x_train_tokenized, y_train,\n",
        "          batch_size=batch_size,\n",
        "          epochs=epochs, #epochs\n",
        "          verbose = 1,\n",
        "          callbacks=m_callbacks,\n",
        "          validation_data=(x_test_tokenized, y_test))"
      ],
      "execution_count": 314,
      "outputs": [
        {
          "output_type": "stream",
          "text": [
            "Train on 40253 samples, validate on 11538 samples\n",
            "Epoch 1/5\n",
            "40253/40253 [==============================] - 317s 8ms/step - loss: 1.5685 - acc: 0.2912 - val_loss: 1.3833 - val_acc: 0.5534\n",
            "\n",
            "Epoch 00001: val_acc improved from -inf to 0.55339, saving model to drive/My Drive/data/models/subtask4/baseline_model4.hdf5\n",
            "Epoch 2/5\n",
            "40253/40253 [==============================] - 312s 8ms/step - loss: 1.5284 - acc: 0.3217 - val_loss: 1.3911 - val_acc: 0.4739\n",
            "\n",
            "Epoch 00002: val_acc did not improve from 0.55339\n",
            "Epoch 3/5\n",
            "40253/40253 [==============================] - 314s 8ms/step - loss: 1.5001 - acc: 0.3389 - val_loss: 1.2727 - val_acc: 0.5656\n",
            "\n",
            "Epoch 00003: val_acc improved from 0.55339 to 0.56561, saving model to drive/My Drive/data/models/subtask4/baseline_model4.hdf5\n",
            "Epoch 4/5\n",
            "40253/40253 [==============================] - 311s 8ms/step - loss: 1.4687 - acc: 0.3615 - val_loss: 1.2242 - val_acc: 0.5418\n",
            "\n",
            "Epoch 00004: val_acc did not improve from 0.56561\n",
            "Epoch 5/5\n",
            "40253/40253 [==============================] - 312s 8ms/step - loss: 1.4920 - acc: 0.3533 - val_loss: 1.2611 - val_acc: 0.5508\n",
            "\n",
            "Epoch 00005: val_acc did not improve from 0.56561\n"
          ],
          "name": "stdout"
        }
      ]
    },
    {
      "metadata": {
        "id": "tm45vVdQ-ndf",
        "colab_type": "code",
        "colab": {}
      },
      "cell_type": "code",
      "source": [
        "'''# serialize model to JSON\n",
        "model_json = model.to_json()\n",
        "with open(path + \"model\" + \".json\", \"w\") as json_file:\n",
        "    json_file.write(model_json)\n",
        "''';\n",
        "with open(task4_filepath + \"history4\"+ \".json\", 'w') as f:\n",
        "    json.dump(history_model.history, f)\n",
        "'''    \n",
        "# serialize weights to HDF5\n",
        "model.save_weights(path + \"model\" +  \".h5\")\n",
        "print(\"Saved model to disk\")''';"
      ],
      "execution_count": 0,
      "outputs": []
    },
    {
      "metadata": {
        "colab_type": "code",
        "id": "fdGaWVqeGZYu",
        "colab": {}
      },
      "cell_type": "code",
      "source": [
        "#load history\n",
        "json_file = open(task4_filepath + \"history4\"+ \".json\", 'r')\n",
        "loaded_history_json = json.load(json_file)\n",
        "json_file.close()"
      ],
      "execution_count": 0,
      "outputs": []
    },
    {
      "metadata": {
        "colab_type": "code",
        "outputId": "8aa88369-2288-4a50-dda9-1135978bbedd",
        "id": "UVpcBNLUGZYx",
        "colab": {
          "base_uri": "https://localhost:8080/",
          "height": 298
        }
      },
      "cell_type": "code",
      "source": [
        "plt.plot(loaded_history_json['loss'], \n",
        "         label='loss train')\n",
        "plt.plot(loaded_history_json['val_loss'], \n",
        "         label='loss test')\n",
        "plt.xlabel('Эпоха обучения')\n",
        "plt.ylabel('Loss')\n",
        "plt.legend()\n",
        "plt.show()"
      ],
      "execution_count": 317,
      "outputs": [
        {
          "output_type": "display_data",
          "data": {
            "image/png": "[encoded data removed]",
            "text/plain": [
              "<Figure size 432x288 with 1 Axes>"
            ]
          },
          "metadata": {
            "tags": []
          }
        }
      ]
    },
    {
      "metadata": {
        "colab_type": "code",
        "outputId": "9d3cb630-0af3-4075-df42-4f2ffd36cdab",
        "id": "9xaZHFX6GZYz",
        "colab": {
          "base_uri": "https://localhost:8080/",
          "height": 298
        }
      },
      "cell_type": "code",
      "source": [
        "plt.plot(loaded_history_json['acc'], \n",
        "         label='acc train')\n",
        "plt.plot(loaded_history_json['val_acc'], \n",
        "         label='acc test')\n",
        "plt.xlabel('Эпоха обучения')\n",
        "plt.ylabel('Доля верных ответов')\n",
        "plt.legend()\n",
        "plt.show()"
      ],
      "execution_count": 320,
      "outputs": [
        {
          "output_type": "display_data",
          "data": {
            "image/png": "[encoded data removed]",
            "text/plain": [
              "<Figure size 432x288 with 1 Axes>"
            ]
          },
          "metadata": {
            "tags": []
          }
        }
      ]
    },
    {
      "metadata": {
        "colab_type": "code",
        "id": "maw_qraqGZY6",
        "colab": {}
      },
      "cell_type": "code",
      "source": [
        "loaded_model = Sequential() #?\n",
        "loaded_model = load_model(task4_filepath + 'baseline_model4.hdf5')"
      ],
      "execution_count": 0,
      "outputs": []
    },
    {
      "metadata": {
        "id": "mhmGjeQOHe0G",
        "colab_type": "code",
        "colab": {}
      },
      "cell_type": "code",
      "source": [
        "y_predicted_scores = loaded_model.predict(x_test_tokenized)"
      ],
      "execution_count": 0,
      "outputs": []
    },
    {
      "metadata": {
        "id": "W2gmhPTk-ndg",
        "colab_type": "code",
        "outputId": "6556ce6f-7391-4250-957b-565f4122f80d",
        "colab": {
          "base_uri": "https://localhost:8080/",
          "height": 360
        }
      },
      "cell_type": "code",
      "source": [
        "y_predicted_scores[y_predicted_scores>=0.5] = 1\n",
        "y_predicted_scores[y_predicted_scores<0.5] = 0\n",
        "\n",
        "print('Classification report\\n')\n",
        "print(classification_report(y_test, y_predicted_scores))"
      ],
      "execution_count": 323,
      "outputs": [
        {
          "output_type": "stream",
          "text": [
            "Classification report\n",
            "\n",
            "              precision    recall  f1-score   support\n",
            "\n",
            "           0       0.00      0.00      0.00       830\n",
            "           1       0.00      0.00      0.00       485\n",
            "           2       0.00      0.00      0.00       888\n",
            "           3       0.00      0.00      0.00      1660\n",
            "           4       0.90      0.17      0.29      7675\n",
            "\n",
            "   micro avg       0.90      0.11      0.20     11538\n",
            "   macro avg       0.18      0.03      0.06     11538\n",
            "weighted avg       0.60      0.11      0.19     11538\n",
            " samples avg       0.11      0.11      0.11     11538\n",
            "\n"
          ],
          "name": "stdout"
        },
        {
          "output_type": "stream",
          "text": [
            "/usr/local/lib/python3.6/dist-packages/sklearn/metrics/classification.py:1143: UndefinedMetricWarning: Precision and F-score are ill-defined and being set to 0.0 in labels with no predicted samples.\n",
            "  'precision', 'predicted', average, warn_for)\n",
            "/usr/local/lib/python3.6/dist-packages/sklearn/metrics/classification.py:1143: UndefinedMetricWarning: Precision and F-score are ill-defined and being set to 0.0 in samples with no predicted labels.\n",
            "  'precision', 'predicted', average, warn_for)\n"
          ],
          "name": "stderr"
        }
      ]
    },
    {
      "metadata": {
        "id": "OfL9zcoUS_TO",
        "colab_type": "text"
      },
      "cell_type": "markdown",
      "source": [
        "Для этой задачи буквенная модель не является оптимальной, т.к. входные данные - тексты отзывов, состоящие из двух алфавитов + с отсеченной пунктуацией, по сути состоят из одних и тех же символов и поэтому здесь не получается четкой классификации.\n",
        "\n",
        "P.s. сравнение производилось на нескольких моделях (вторая - закоменнтирована, но её бекап был предварительно сделан, суть результатов схожая).\n",
        "\n",
        "Возможно использовав иную преодбработку данных (не убирать пунктуацию, попробовать поработать с частицами), то  - негативные отзывы, за счет большего обилия пунктуации, удасться лучше распознавать."
      ]
    },
    {
      "metadata": {
        "id": "KQIXA3tZhqy6",
        "colab_type": "text"
      },
      "cell_type": "markdown",
      "source": [
        "#### Conclusions.\n",
        "\n",
        "На небольшом объеме данных лучше всего показала себя логистическая регрессия, модели lstm и \"fasstext\" показали результаты несколько хуже.\n",
        "\n",
        "Исходя из результатов, если дообучить fasstext на бОльших объемах данных + изменить гиперпаратры num_features, embedding_dims, то она скорее всего покажет наилучшие результаты.\n",
        "\n",
        "Символьная модель показала наихудший результаты, в силу того, что эта задача не является подходящей для этой структруы нейросети."
      ]
    },
    {
      "metadata": {
        "id": "DCEJnnKA-ndm",
        "colab_type": "text"
      },
      "cell_type": "markdown",
      "source": [
        "#### Word2Vec.\n",
        "\n",
        "Обучить модель из примера имплементации, но с использованием уже предобученного word2vec для русского языка в качестве инициализации эмбединга."
      ]
    },
    {
      "metadata": {
        "id": "I4nGNfwFYzkM",
        "colab_type": "text"
      },
      "cell_type": "markdown",
      "source": [
        "Так, как mystem не работает в колабе (но работает на локальной машине) https://github.com/nlpub/pymystem3/issues/28\n",
        "\n",
        ", то удалось придти к  следующему pipeline:\n",
        "\n",
        "- препроцессим тексты при помощи mystem для приведения их к одному виду с преодобученным word2vec\n",
        "- составляем embedding layer, используя уже предобученный word2vec\n",
        "- обучаем нейросеть.\n",
        "\n",
        "Но, на шаге 1 в колабе возникли проблемы + либа для препроцессинга достаточно медленная (1-2 секунды на текст), поэтому продолжу эксперимент с bpemb/fasttext.\n",
        "\n",
        "https://nlp.h-its.org/bpemb/ru/\n",
        "\n"
      ]
    },
    {
      "metadata": {
        "id": "gDrBJCMZ-ndm",
        "colab_type": "code",
        "colab": {}
      },
      "cell_type": "code",
      "source": [
        "mapping_url = 'https://raw.githubusercontent.com/akutuzov/universal-pos-tags/4653e8a9154e93fe2f417c7fdb7a357b7d6ce333/ru-rnc.map'\n",
        "\n",
        "mystem2upos = {}\n",
        "r = requests.get(mapping_url, stream=True)\n",
        "for pair in r.text.split('\\n'):\n",
        "    pair = pair.split()\n",
        "    if len(pair) > 1:\n",
        "        mystem2upos[pair[0]] = pair[1]"
      ],
      "execution_count": 0,
      "outputs": []
    },
    {
      "metadata": {
        "id": "8s67AqQeWFP8",
        "colab_type": "code",
        "colab": {
          "base_uri": "https://localhost:8080/",
          "height": 289
        },
        "outputId": "d6453769-d8f5-4608-aa42-014a74551adf"
      },
      "cell_type": "code",
      "source": [
        "mystem2upos"
      ],
      "execution_count": 247,
      "outputs": [
        {
          "output_type": "execute_result",
          "data": {
            "text/plain": [
              "{'A': 'ADJ',\n",
              " 'ADV': 'ADV',\n",
              " 'ADVPRO': 'ADV',\n",
              " 'ANUM': 'ADJ',\n",
              " 'APRO': 'DET',\n",
              " 'COM': 'ADJ',\n",
              " 'CONJ': 'SCONJ',\n",
              " 'INTJ': 'INTJ',\n",
              " 'NONLEX': 'X',\n",
              " 'NUM': 'NUM',\n",
              " 'PART': 'PART',\n",
              " 'PR': 'ADP',\n",
              " 'S': 'NOUN',\n",
              " 'SPRO': 'PRON',\n",
              " 'UNKN': 'X',\n",
              " 'V': 'VERB'}"
            ]
          },
          "metadata": {
            "tags": []
          },
          "execution_count": 247
        }
      ]
    },
    {
      "metadata": {
        "id": "1mpDF-Paos-j",
        "colab_type": "code",
        "colab": {}
      },
      "cell_type": "code",
      "source": [
        "class Preprocessor:\n",
        "    def __init__(self, mapping):\n",
        "        self.m = Mystem()\n",
        "        self.mapping = mapping\n",
        "        \n",
        "    def process(self, text, postags=True):\n",
        "      processed = self.m.analyze(text)\n",
        "      tagged = []\n",
        "      for w in processed:\n",
        "        try:\n",
        "          lemma = w[\"analysis\"][0][\"lex\"].lower().strip()\n",
        "          pos = w[\"analysis\"][0][\"gr\"].split(',')[0]\n",
        "          pos = pos.split('=')[0].strip()\n",
        "          pos = self.mapping.get(pos, 'X')\n",
        "          tagged.append(lemma.lower() + '_' + pos)\n",
        "        except KeyError:\n",
        "          continue\n",
        "        except IndexError:\n",
        "          continue\n",
        "        if not postags:\n",
        "          tagged = [t.split('_')[0] for t in tagged]\n",
        "        return tagged\n",
        "\n",
        "phrases_processor = Preprocessor(mystem2upos)"
      ],
      "execution_count": 0,
      "outputs": []
    },
    {
      "metadata": {
        "id": "sFNlqKTz-ndt",
        "colab_type": "code",
        "outputId": "67d47984-074d-4200-e6a3-4138210373f3",
        "colab": {
          "base_uri": "https://localhost:8080/",
          "height": 34
        }
      },
      "cell_type": "code",
      "source": [
        "x_train[1]"
      ],
      "execution_count": 237,
      "outputs": [
        {
          "output_type": "execute_result",
          "data": {
            "text/plain": [
              "'вчера приобрела очень понравился шее особенно нравится делать'"
            ]
          },
          "metadata": {
            "tags": []
          },
          "execution_count": 237
        }
      ]
    },
    {
      "metadata": {
        "id": "qtJ3ed-x-ndv",
        "colab_type": "code",
        "colab": {}
      },
      "cell_type": "code",
      "source": [
        "phrases_processor.process(x_train[1])"
      ],
      "execution_count": 0,
      "outputs": []
    },
    {
      "metadata": {
        "id": "nxCnQD5V-nd0",
        "colab_type": "code",
        "colab": {}
      },
      "cell_type": "code",
      "source": [
        "'''def preprocess_test(text,n_start, n_end):\n",
        "    print (text[0])\n",
        "    prepocessed_texts = []\n",
        "    for sub_text in text[n_start:n_end]:\n",
        "        prepocessed_texts.append(phrases_processor.process(text))\n",
        "    return prepocessed_texts''';\n",
        "        "
      ],
      "execution_count": 0,
      "outputs": []
    },
    {
      "metadata": {
        "scrolled": true,
        "id": "b9NgozPb-nd1",
        "colab_type": "code",
        "colab": {}
      },
      "cell_type": "code",
      "source": [
        "prepocessed_train_texts = []\n",
        "i= 0\n",
        "for text in tqdm(x_train):\n",
        "  i+=1\n",
        "  prepocessed_train_texts.append(phrases_processor.process(text))\n",
        "'''  if i==10:\n",
        "    break'''"
      ],
      "execution_count": 0,
      "outputs": []
    },
    {
      "metadata": {
        "scrolled": true,
        "id": "8ONle5JD-nd7",
        "colab_type": "code",
        "outputId": "5a9368b3-1846-456d-bf45-1228f45306d8",
        "colab": {}
      },
      "cell_type": "code",
      "source": [
        "prepocessed_texts_test = []\n",
        "i= 0\n",
        "for text in tqdm(x_test):\n",
        "  i+=1\n",
        "  prepocessed_texts_test.append(phrases_processor.process(text))\n",
        "'''  if i==10:\n",
        "    break'''"
      ],
      "execution_count": 0,
      "outputs": [
        {
          "output_type": "stream",
          "text": [
            "\n",
            "  0%|                                                                                         | 0/4000 [00:00<?, ?it/s]\n",
            "  0%|                                                                               | 1/4000 [00:02<2:13:26,  2.00s/it]\n",
            "  0%|                                                                               | 2/4000 [00:04<2:16:09,  2.04s/it]\n",
            "  0%|                                                                               | 3/4000 [00:06<2:14:22,  2.02s/it]\n",
            "  0%|                                                                               | 4/4000 [00:08<2:14:34,  2.02s/it]\n",
            "  0%|                                                                               | 5/4000 [00:10<2:13:22,  2.00s/it]\n",
            "  0%|                                                                               | 6/4000 [00:11<2:10:11,  1.96s/it]\n",
            "  0%|▏                                                                              | 7/4000 [00:13<2:07:16,  1.91s/it]\n",
            "  0%|▏                                                                              | 8/4000 [00:16<2:21:20,  2.12s/it]\n",
            "  0%|▏                                                                              | 9/4000 [00:18<2:16:49,  2.06s/it]\n",
            "  0%|▏                                                                             | 10/4000 [00:20<2:11:42,  1.98s/it]\n",
            "  0%|▏                                                                             | 11/4000 [00:21<2:08:05,  1.93s/it]\n",
            "  0%|▏                                                                             | 12/4000 [00:23<2:05:09,  1.88s/it]\n",
            "  0%|▎                                                                             | 13/4000 [00:25<2:02:36,  1.85s/it]\n",
            "  0%|▎                                                                             | 14/4000 [00:27<2:01:17,  1.83s/it]\n",
            "  0%|▎                                                                             | 15/4000 [00:28<1:59:57,  1.81s/it]\n",
            "  0%|▎                                                                             | 16/4000 [00:30<2:01:49,  1.83s/it]\n",
            "  0%|▎                                                                             | 17/4000 [00:32<2:03:13,  1.86s/it]\n",
            "  0%|▎                                                                             | 18/4000 [00:34<2:02:49,  1.85s/it]\n",
            "  0%|▎                                                                             | 19/4000 [00:36<2:02:17,  1.84s/it]\n",
            "  0%|▍                                                                             | 20/4000 [00:38<2:00:17,  1.81s/it]\n",
            "  1%|▍                                                                             | 21/4000 [00:39<1:58:24,  1.79s/it]\n",
            "  1%|▍                                                                             | 22/4000 [00:41<1:56:44,  1.76s/it]\n",
            "  1%|▍                                                                             | 23/4000 [00:43<1:57:05,  1.77s/it]\n",
            "  1%|▍                                                                             | 24/4000 [00:45<1:57:15,  1.77s/it]\n",
            "  1%|▍                                                                             | 25/4000 [00:47<2:02:41,  1.85s/it]\n",
            "  1%|▌                                                                             | 26/4000 [00:49<2:02:30,  1.85s/it]\n",
            "  1%|▌                                                                             | 27/4000 [00:50<2:00:41,  1.82s/it]\n",
            "  1%|▌                                                                             | 28/4000 [00:52<1:58:07,  1.78s/it]\n",
            "  1%|▌                                                                             | 29/4000 [00:54<1:54:36,  1.73s/it]\n",
            "  1%|▌                                                                             | 30/4000 [00:55<1:54:33,  1.73s/it]\n",
            "  1%|▌                                                                             | 31/4000 [00:57<1:55:27,  1.75s/it]\n",
            "  1%|▌                                                                             | 32/4000 [00:59<1:55:16,  1.74s/it]\n",
            "  1%|▋                                                                             | 33/4000 [01:01<1:57:51,  1.78s/it]\n",
            "  1%|▋                                                                             | 34/4000 [01:02<1:57:44,  1.78s/it]\n",
            "  1%|▋                                                                             | 35/4000 [01:04<1:53:56,  1.72s/it]\n",
            "  1%|▋                                                                             | 36/4000 [01:06<1:54:46,  1.74s/it]\n",
            "  1%|▋                                                                             | 37/4000 [01:08<1:59:23,  1.81s/it]\n",
            "  1%|▋                                                                             | 38/4000 [01:10<1:58:00,  1.79s/it]\n",
            "  1%|▊                                                                             | 39/4000 [01:11<1:55:03,  1.74s/it]\n",
            "  1%|▊                                                                             | 40/4000 [01:13<1:52:42,  1.71s/it]\n",
            "  1%|▊                                                                             | 41/4000 [01:14<1:50:25,  1.67s/it]\n",
            "  1%|▊                                                                             | 42/4000 [01:16<1:48:44,  1.65s/it]\n",
            "  1%|▊                                                                             | 43/4000 [01:18<1:49:59,  1.67s/it]\n",
            "  1%|▊                                                                             | 44/4000 [01:19<1:48:46,  1.65s/it]\n",
            "  1%|▉                                                                             | 45/4000 [01:21<1:47:30,  1.63s/it]\n",
            "  1%|▉                                                                             | 46/4000 [01:23<1:51:38,  1.69s/it]\n",
            "  1%|▉                                                                             | 47/4000 [01:25<1:52:33,  1.71s/it]\n",
            "  1%|▉                                                                             | 48/4000 [01:26<1:50:16,  1.67s/it]\n",
            "  1%|▉                                                                             | 49/4000 [01:28<1:47:50,  1.64s/it]\n",
            "  1%|▉                                                                             | 50/4000 [01:29<1:48:07,  1.64s/it]\n",
            "  1%|▉                                                                             | 51/4000 [01:31<1:45:28,  1.60s/it]\n",
            "  1%|█                                                                             | 52/4000 [01:32<1:45:09,  1.60s/it]\n",
            "  1%|█                                                                             | 53/4000 [01:34<1:44:15,  1.58s/it]\n",
            "  1%|█                                                                             | 54/4000 [01:35<1:42:40,  1.56s/it]\n",
            "  1%|█                                                                             | 55/4000 [01:37<1:42:11,  1.55s/it]\n",
            "  1%|█                                                                             | 56/4000 [01:38<1:40:39,  1.53s/it]\n",
            "  1%|█                                                                             | 57/4000 [01:40<1:40:37,  1.53s/it]\n",
            "  1%|█▏                                                                            | 58/4000 [01:42<1:45:40,  1.61s/it]\n",
            "  1%|█▏                                                                            | 59/4000 [01:43<1:45:40,  1.61s/it]\n",
            "  2%|█▏                                                                            | 60/4000 [01:45<1:43:24,  1.57s/it]\n",
            "  2%|█▏                                                                            | 61/4000 [01:46<1:43:08,  1.57s/it]\n",
            "  2%|█▏                                                                            | 62/4000 [01:48<1:40:32,  1.53s/it]\n",
            "  2%|█▏                                                                            | 63/4000 [01:49<1:38:13,  1.50s/it]\n",
            "  2%|█▏                                                                            | 64/4000 [01:51<1:36:44,  1.47s/it]\n",
            "  2%|█▎                                                                            | 65/4000 [01:52<1:35:31,  1.46s/it]\n",
            "  2%|█▎                                                                            | 66/4000 [01:54<1:35:27,  1.46s/it]\n",
            "  2%|█▎                                                                            | 67/4000 [01:55<1:36:50,  1.48s/it]\n",
            "  2%|█▎                                                                            | 68/4000 [01:57<1:36:55,  1.48s/it]\n",
            "  2%|█▎                                                                            | 69/4000 [01:58<1:36:08,  1.47s/it]\n",
            "  2%|█▎                                                                            | 70/4000 [02:00<1:35:37,  1.46s/it]\n",
            "  2%|█▍                                                                            | 71/4000 [02:01<1:35:20,  1.46s/it]\n",
            "  2%|█▍                                                                            | 72/4000 [02:02<1:34:52,  1.45s/it]\n",
            "  2%|█▍                                                                            | 73/4000 [02:04<1:34:30,  1.44s/it]\n",
            "  2%|█▍                                                                            | 74/4000 [02:05<1:35:22,  1.46s/it]\n",
            "  2%|█▍                                                                            | 75/4000 [02:07<1:35:23,  1.46s/it]\n",
            "  2%|█▍                                                                            | 76/4000 [02:08<1:34:52,  1.45s/it]\n",
            "  2%|█▌                                                                            | 77/4000 [02:10<1:34:27,  1.44s/it]\n",
            "  2%|█▌                                                                            | 78/4000 [02:11<1:34:26,  1.44s/it]\n",
            "  2%|█▌                                                                            | 79/4000 [02:12<1:33:50,  1.44s/it]\n",
            "  2%|█▌                                                                            | 80/4000 [02:14<1:33:31,  1.43s/it]\n",
            "  2%|█▌                                                                            | 81/4000 [02:15<1:34:09,  1.44s/it]\n",
            "  2%|█▌                                                                            | 82/4000 [02:17<1:34:38,  1.45s/it]\n",
            "  2%|█▌                                                                            | 83/4000 [02:18<1:34:09,  1.44s/it]\n",
            "  2%|█▋                                                                            | 84/4000 [02:20<1:33:39,  1.44s/it]\n",
            "  2%|█▋                                                                            | 85/4000 [02:21<1:33:30,  1.43s/it]\n",
            "  2%|█▋                                                                            | 86/4000 [02:23<1:33:09,  1.43s/it]\n",
            "  2%|█▋                                                                            | 87/4000 [02:24<1:32:53,  1.42s/it]\n",
            "  2%|█▋                                                                            | 88/4000 [02:25<1:32:53,  1.42s/it]\n",
            "  2%|█▋                                                                            | 89/4000 [02:27<1:33:07,  1.43s/it]\n",
            "  2%|█▊                                                                            | 90/4000 [02:28<1:33:19,  1.43s/it]\n",
            "  2%|█▊                                                                            | 91/4000 [02:30<1:33:52,  1.44s/it]\n",
            "  2%|█▊                                                                            | 92/4000 [02:31<1:33:13,  1.43s/it]\n",
            "  2%|█▊                                                                            | 93/4000 [02:33<1:32:52,  1.43s/it]\n",
            "  2%|█▊                                                                            | 94/4000 [02:34<1:32:42,  1.42s/it]\n",
            "  2%|█▊                                                                            | 95/4000 [02:35<1:32:50,  1.43s/it]\n",
            "  2%|█▊                                                                            | 96/4000 [02:37<1:34:38,  1.45s/it]\n",
            "  2%|█▉                                                                            | 97/4000 [02:38<1:34:12,  1.45s/it]\n",
            "  2%|█▉                                                                            | 98/4000 [02:40<1:35:12,  1.46s/it]\n",
            "  2%|█▉                                                                            | 99/4000 [02:41<1:34:16,  1.45s/it]\n",
            "  2%|█▉                                                                           | 100/4000 [02:43<1:34:57,  1.46s/it]\n",
            "  3%|█▉                                                                           | 101/4000 [02:44<1:35:33,  1.47s/it]\n",
            "  3%|█▉                                                                           | 102/4000 [02:46<1:34:33,  1.46s/it]\n",
            "  3%|█▉                                                                           | 103/4000 [02:47<1:34:05,  1.45s/it]\n",
            "  3%|██                                                                           | 104/4000 [02:49<1:33:25,  1.44s/it]\n",
            "  3%|██                                                                           | 105/4000 [02:50<1:33:23,  1.44s/it]\n",
            "  3%|██                                                                           | 106/4000 [02:51<1:33:18,  1.44s/it]\n",
            "  3%|██                                                                           | 107/4000 [02:53<1:33:00,  1.43s/it]\n",
            "  3%|██                                                                           | 108/4000 [02:54<1:32:46,  1.43s/it]\n",
            "  3%|██                                                                           | 109/4000 [02:56<1:33:03,  1.44s/it]\n",
            "  3%|██                                                                           | 110/4000 [02:57<1:32:57,  1.43s/it]\n",
            "  3%|██▏                                                                          | 111/4000 [02:59<1:33:31,  1.44s/it]\n",
            "  3%|██▏                                                                          | 112/4000 [03:00<1:35:16,  1.47s/it]\n",
            "  3%|██▏                                                                          | 113/4000 [03:02<1:34:12,  1.45s/it]\n",
            "  3%|██▏                                                                          | 114/4000 [03:03<1:33:44,  1.45s/it]\n",
            "  3%|██▏                                                                          | 115/4000 [03:04<1:33:09,  1.44s/it]\n",
            "  3%|██▏                                                                          | 116/4000 [03:06<1:32:49,  1.43s/it]\n",
            "  3%|██▎                                                                          | 117/4000 [03:07<1:35:54,  1.48s/it]\n",
            "  3%|██▎                                                                          | 118/4000 [03:09<1:42:01,  1.58s/it]\n",
            "  3%|██▎                                                                          | 119/4000 [03:11<1:41:20,  1.57s/it]\n",
            "  3%|██▎                                                                          | 120/4000 [03:12<1:41:53,  1.58s/it]\n",
            "  3%|██▎                                                                          | 121/4000 [03:14<1:42:44,  1.59s/it]\n",
            "  3%|██▎                                                                          | 122/4000 [03:16<1:44:07,  1.61s/it]\n",
            "  3%|██▎                                                                          | 123/4000 [03:17<1:45:17,  1.63s/it]\n",
            "  3%|██▍                                                                          | 124/4000 [03:19<1:43:37,  1.60s/it]\n",
            "  3%|██▍                                                                          | 125/4000 [03:20<1:42:15,  1.58s/it]\n",
            "  3%|██▍                                                                          | 126/4000 [03:22<1:44:07,  1.61s/it]\n",
            "  3%|██▍                                                                          | 127/4000 [03:24<1:42:47,  1.59s/it]\n",
            "  3%|██▍                                                                          | 128/4000 [03:25<1:41:48,  1.58s/it]\n",
            "  3%|██▍                                                                          | 129/4000 [03:27<1:41:13,  1.57s/it]\n",
            "  3%|██▌                                                                          | 130/4000 [03:28<1:40:20,  1.56s/it]\n",
            "  3%|██▌                                                                          | 131/4000 [03:30<1:39:42,  1.55s/it]\n",
            "  3%|██▌                                                                          | 132/4000 [03:31<1:39:03,  1.54s/it]\n",
            "  3%|██▌                                                                          | 133/4000 [03:33<1:38:39,  1.53s/it]\n",
            "  3%|██▌                                                                          | 134/4000 [03:34<1:38:13,  1.52s/it]\n",
            "  3%|██▌                                                                          | 135/4000 [03:36<1:39:49,  1.55s/it]\n"
          ],
          "name": "stderr"
        },
        {
          "output_type": "stream",
          "text": [
            "  3%|██▌                                                                          | 136/4000 [03:37<1:39:34,  1.55s/it]\n",
            "  3%|██▋                                                                          | 137/4000 [03:39<1:39:35,  1.55s/it]\n",
            "  3%|██▋                                                                          | 138/4000 [03:41<1:39:42,  1.55s/it]\n",
            "  3%|██▋                                                                          | 139/4000 [03:42<1:39:51,  1.55s/it]\n",
            "  4%|██▋                                                                          | 140/4000 [03:44<1:39:42,  1.55s/it]\n",
            "  4%|██▋                                                                          | 141/4000 [03:45<1:40:29,  1.56s/it]\n",
            "  4%|██▋                                                                          | 142/4000 [03:47<1:41:01,  1.57s/it]\n",
            "  4%|██▊                                                                          | 143/4000 [03:48<1:40:23,  1.56s/it]\n",
            "  4%|██▊                                                                          | 144/4000 [03:50<1:41:15,  1.58s/it]\n",
            "  4%|██▊                                                                          | 145/4000 [03:51<1:40:40,  1.57s/it]\n",
            "  4%|██▊                                                                          | 146/4000 [03:53<1:40:08,  1.56s/it]\n",
            "  4%|██▊                                                                          | 147/4000 [03:55<1:40:01,  1.56s/it]\n",
            "  4%|██▊                                                                          | 148/4000 [03:56<1:40:59,  1.57s/it]\n",
            "  4%|██▊                                                                          | 149/4000 [03:58<1:40:55,  1.57s/it]\n",
            "  4%|██▉                                                                          | 150/4000 [03:59<1:40:10,  1.56s/it]\n",
            "  4%|██▉                                                                          | 151/4000 [04:01<1:40:29,  1.57s/it]\n",
            "  4%|██▉                                                                          | 152/4000 [04:02<1:41:06,  1.58s/it]\n",
            "  4%|██▉                                                                          | 153/4000 [04:04<1:40:49,  1.57s/it]\n",
            "  4%|██▉                                                                          | 154/4000 [04:06<1:43:37,  1.62s/it]\n",
            "  4%|██▉                                                                          | 155/4000 [04:07<1:42:31,  1.60s/it]\n",
            "  4%|███                                                                          | 156/4000 [04:09<1:41:46,  1.59s/it]\n",
            "  4%|███                                                                          | 157/4000 [04:10<1:40:46,  1.57s/it]\n",
            "  4%|███                                                                          | 158/4000 [04:12<1:40:12,  1.57s/it]\n",
            "  4%|███                                                                          | 159/4000 [04:14<1:40:01,  1.56s/it]\n",
            "  4%|███                                                                          | 160/4000 [04:15<1:39:12,  1.55s/it]\n",
            "  4%|███                                                                          | 161/4000 [04:17<1:39:14,  1.55s/it]\n",
            "  4%|███                                                                          | 162/4000 [04:18<1:38:47,  1.54s/it]\n",
            "  4%|███▏                                                                         | 163/4000 [04:20<1:38:57,  1.55s/it]\n",
            "  4%|███▏                                                                         | 164/4000 [04:21<1:38:52,  1.55s/it]\n",
            "  4%|███▏                                                                         | 165/4000 [04:23<1:38:49,  1.55s/it]\n",
            "  4%|███▏                                                                         | 166/4000 [04:24<1:38:40,  1.54s/it]\n",
            "  4%|███▏                                                                         | 167/4000 [04:26<1:38:08,  1.54s/it]\n",
            "  4%|███▏                                                                         | 168/4000 [04:27<1:39:19,  1.56s/it]\n",
            "  4%|███▎                                                                         | 169/4000 [04:29<1:40:22,  1.57s/it]\n",
            "  4%|███▎                                                                         | 170/4000 [04:31<1:40:03,  1.57s/it]\n",
            "  4%|███▎                                                                         | 171/4000 [04:32<1:41:56,  1.60s/it]\n",
            "  4%|███▎                                                                         | 172/4000 [04:34<1:42:16,  1.60s/it]\n",
            "  4%|███▎                                                                         | 173/4000 [04:35<1:41:26,  1.59s/it]\n",
            "  4%|███▎                                                                         | 174/4000 [04:37<1:41:13,  1.59s/it]\n",
            "  4%|███▎                                                                         | 175/4000 [04:39<1:41:24,  1.59s/it]\n",
            "  4%|███▍                                                                         | 176/4000 [04:40<1:40:56,  1.58s/it]\n",
            "  4%|███▍                                                                         | 177/4000 [04:42<1:39:36,  1.56s/it]\n",
            "  4%|███▍                                                                         | 178/4000 [04:43<1:39:02,  1.55s/it]\n",
            "  4%|███▍                                                                         | 179/4000 [04:45<1:40:03,  1.57s/it]\n",
            "  4%|███▍                                                                         | 180/4000 [04:47<1:44:08,  1.64s/it]\n",
            "  5%|███▍                                                                         | 181/4000 [04:48<1:45:30,  1.66s/it]\n",
            "  5%|███▌                                                                         | 182/4000 [04:50<1:44:38,  1.64s/it]\n",
            "  5%|███▌                                                                         | 183/4000 [04:52<1:46:10,  1.67s/it]\n",
            "  5%|███▌                                                                         | 184/4000 [04:53<1:44:06,  1.64s/it]\n",
            "  5%|███▌                                                                         | 185/4000 [04:55<1:42:39,  1.61s/it]\n",
            "  5%|███▌                                                                         | 186/4000 [04:56<1:42:10,  1.61s/it]\n",
            "  5%|███▌                                                                         | 187/4000 [04:58<1:40:57,  1.59s/it]\n",
            "  5%|███▌                                                                         | 188/4000 [05:00<1:42:24,  1.61s/it]\n",
            "  5%|███▋                                                                         | 189/4000 [05:01<1:44:18,  1.64s/it]\n",
            "  5%|███▋                                                                         | 190/4000 [05:03<1:42:29,  1.61s/it]\n",
            "  5%|███▋                                                                         | 191/4000 [05:05<1:43:57,  1.64s/it]\n",
            "  5%|███▋                                                                         | 192/4000 [05:06<1:42:22,  1.61s/it]\n",
            "  5%|███▋                                                                         | 193/4000 [05:08<1:41:00,  1.59s/it]\n",
            "  5%|███▋                                                                         | 194/4000 [05:09<1:40:05,  1.58s/it]\n",
            "  5%|███▊                                                                         | 195/4000 [05:11<1:39:36,  1.57s/it]\n",
            "  5%|███▊                                                                         | 196/4000 [05:12<1:39:07,  1.56s/it]\n",
            "  5%|███▊                                                                         | 197/4000 [05:14<1:38:43,  1.56s/it]\n",
            "  5%|███▊                                                                         | 198/4000 [05:15<1:38:45,  1.56s/it]\n",
            "  5%|███▊                                                                         | 199/4000 [05:17<1:40:20,  1.58s/it]\n",
            "  5%|███▊                                                                         | 200/4000 [05:19<1:44:23,  1.65s/it]\n",
            "  5%|███▊                                                                         | 201/4000 [05:21<1:48:57,  1.72s/it]\n",
            "  5%|███▉                                                                         | 202/4000 [05:22<1:47:22,  1.70s/it]\n",
            "  5%|███▉                                                                         | 203/4000 [05:24<1:46:20,  1.68s/it]\n",
            "  5%|███▉                                                                         | 204/4000 [05:26<1:42:45,  1.62s/it]\n",
            "  5%|███▉                                                                         | 205/4000 [05:27<1:39:42,  1.58s/it]\n",
            "  5%|███▉                                                                         | 206/4000 [05:28<1:36:46,  1.53s/it]\n",
            "  5%|███▉                                                                         | 207/4000 [05:30<1:35:35,  1.51s/it]\n",
            "  5%|████                                                                         | 208/4000 [05:31<1:33:48,  1.48s/it]\n",
            "  5%|████                                                                         | 209/4000 [05:33<1:34:18,  1.49s/it]\n",
            "  5%|████                                                                         | 210/4000 [05:34<1:37:19,  1.54s/it]\n",
            "  5%|████                                                                         | 211/4000 [05:36<1:41:26,  1.61s/it]\n",
            "  5%|████                                                                         | 212/4000 [05:38<1:43:53,  1.65s/it]\n",
            "  5%|████                                                                         | 213/4000 [05:40<1:42:57,  1.63s/it]\n",
            "  5%|████                                                                         | 214/4000 [05:41<1:39:23,  1.58s/it]\n",
            "  5%|████▏                                                                        | 215/4000 [05:43<1:38:01,  1.55s/it]\n",
            "  5%|████▏                                                                        | 216/4000 [05:44<1:38:09,  1.56s/it]\n",
            "  5%|████▏                                                                        | 217/4000 [05:46<1:37:43,  1.55s/it]\n",
            "  5%|████▏                                                                        | 218/4000 [05:47<1:37:35,  1.55s/it]\n",
            "  5%|████▏                                                                        | 219/4000 [05:50<1:54:00,  1.81s/it]\n",
            "  6%|████▏                                                                        | 220/4000 [05:52<1:57:28,  1.86s/it]\n",
            "  6%|████▎                                                                        | 221/4000 [05:54<2:02:28,  1.94s/it]\n",
            "  6%|████▎                                                                        | 222/4000 [05:56<2:03:30,  1.96s/it]\n",
            "  6%|████▎                                                                        | 223/4000 [05:58<2:02:12,  1.94s/it]\n",
            "  6%|████▎                                                                        | 224/4000 [06:00<2:03:44,  1.97s/it]\n",
            "  6%|████▎                                                                        | 225/4000 [06:02<2:03:14,  1.96s/it]\n",
            "  6%|████▎                                                                        | 226/4000 [06:03<2:01:24,  1.93s/it]\n",
            "  6%|████▎                                                                        | 227/4000 [06:05<2:01:31,  1.93s/it]\n",
            "  6%|████▍                                                                        | 228/4000 [06:07<2:00:41,  1.92s/it]\n",
            "  6%|████▍                                                                        | 229/4000 [06:09<2:00:08,  1.91s/it]\n",
            "  6%|████▍                                                                        | 230/4000 [06:11<1:56:11,  1.85s/it]\n",
            "  6%|████▍                                                                        | 231/4000 [06:13<1:53:12,  1.80s/it]\n",
            "  6%|████▍                                                                        | 232/4000 [06:14<1:50:03,  1.75s/it]\n",
            "  6%|████▍                                                                        | 233/4000 [06:16<1:49:24,  1.74s/it]\n",
            "  6%|████▌                                                                        | 234/4000 [06:17<1:46:43,  1.70s/it]\n",
            "  6%|████▌                                                                        | 235/4000 [06:19<1:44:54,  1.67s/it]\n",
            "  6%|████▌                                                                        | 236/4000 [06:21<1:45:28,  1.68s/it]\n",
            "  6%|████▌                                                                        | 237/4000 [06:22<1:44:46,  1.67s/it]\n",
            "  6%|████▌                                                                        | 238/4000 [06:24<1:44:31,  1.67s/it]\n",
            "  6%|████▌                                                                        | 239/4000 [06:26<1:43:32,  1.65s/it]\n",
            "  6%|████▌                                                                        | 240/4000 [06:27<1:43:08,  1.65s/it]\n",
            "  6%|████▋                                                                        | 241/4000 [06:29<1:42:14,  1.63s/it]\n",
            "  6%|████▋                                                                        | 242/4000 [06:31<1:42:13,  1.63s/it]\n",
            "  6%|████▋                                                                        | 243/4000 [06:32<1:42:52,  1.64s/it]\n",
            "  6%|████▋                                                                        | 244/4000 [06:34<1:42:29,  1.64s/it]\n",
            "  6%|████▋                                                                        | 245/4000 [06:36<1:42:26,  1.64s/it]\n",
            "  6%|████▋                                                                        | 246/4000 [06:37<1:41:58,  1.63s/it]\n",
            "  6%|████▊                                                                        | 247/4000 [06:39<1:41:42,  1.63s/it]\n",
            "  6%|████▊                                                                        | 248/4000 [06:40<1:42:34,  1.64s/it]\n",
            "  6%|████▊                                                                        | 249/4000 [06:42<1:42:23,  1.64s/it]\n",
            "  6%|████▊                                                                        | 250/4000 [06:44<1:42:18,  1.64s/it]\n",
            "  6%|████▊                                                                        | 251/4000 [06:46<1:47:12,  1.72s/it]\n",
            "  6%|████▊                                                                        | 252/4000 [06:48<1:52:21,  1.80s/it]\n",
            "  6%|████▊                                                                        | 253/4000 [06:49<1:53:35,  1.82s/it]\n",
            "  6%|████▉                                                                        | 254/4000 [06:51<1:49:22,  1.75s/it]\n",
            "  6%|████▉                                                                        | 255/4000 [06:53<1:46:37,  1.71s/it]\n",
            "  6%|████▉                                                                        | 256/4000 [06:54<1:44:41,  1.68s/it]\n",
            "  6%|████▉                                                                        | 257/4000 [06:56<1:44:04,  1.67s/it]\n",
            "  6%|████▉                                                                        | 258/4000 [06:58<1:43:32,  1.66s/it]\n",
            "  6%|████▉                                                                        | 259/4000 [06:59<1:47:27,  1.72s/it]\n",
            "  6%|█████                                                                        | 260/4000 [07:01<1:50:02,  1.77s/it]\n",
            "  7%|█████                                                                        | 261/4000 [07:03<1:51:45,  1.79s/it]\n",
            "  7%|█████                                                                        | 262/4000 [07:05<1:53:16,  1.82s/it]\n",
            "  7%|█████                                                                        | 263/4000 [07:07<1:52:43,  1.81s/it]\n",
            "  7%|█████                                                                        | 264/4000 [07:09<1:55:07,  1.85s/it]\n",
            "  7%|█████                                                                        | 265/4000 [07:11<1:57:56,  1.89s/it]\n",
            "  7%|█████                                                                        | 266/4000 [07:13<2:00:00,  1.93s/it]\n",
            "  7%|█████▏                                                                       | 267/4000 [07:15<1:59:19,  1.92s/it]\n",
            "  7%|█████▏                                                                       | 268/4000 [07:17<1:58:28,  1.90s/it]\n",
            "  7%|█████▏                                                                       | 269/4000 [07:18<1:58:43,  1.91s/it]\n",
            "  7%|█████▏                                                                       | 270/4000 [07:20<1:59:44,  1.93s/it]\n",
            "  7%|█████▏                                                                       | 271/4000 [07:22<1:59:18,  1.92s/it]\n"
          ],
          "name": "stderr"
        },
        {
          "output_type": "stream",
          "text": [
            "  7%|█████▏                                                                       | 272/4000 [07:24<1:59:02,  1.92s/it]\n",
            "  7%|█████▎                                                                       | 273/4000 [07:26<1:59:55,  1.93s/it]\n",
            "  7%|█████▎                                                                       | 274/4000 [07:28<1:59:46,  1.93s/it]\n",
            "  7%|█████▎                                                                       | 275/4000 [07:30<2:00:07,  1.93s/it]\n",
            "  7%|█████▎                                                                       | 276/4000 [07:32<1:59:41,  1.93s/it]\n",
            "  7%|█████▎                                                                       | 277/4000 [07:34<2:02:04,  1.97s/it]\n",
            "  7%|█████▎                                                                       | 278/4000 [07:36<1:57:03,  1.89s/it]\n",
            "  7%|█████▎                                                                       | 279/4000 [07:38<1:58:13,  1.91s/it]\n",
            "  7%|█████▍                                                                       | 280/4000 [07:40<1:59:44,  1.93s/it]\n",
            "  7%|█████▍                                                                       | 281/4000 [07:42<1:59:55,  1.93s/it]\n",
            "  7%|█████▍                                                                       | 282/4000 [07:43<1:58:42,  1.92s/it]\n",
            "  7%|█████▍                                                                       | 283/4000 [07:45<1:59:23,  1.93s/it]\n",
            "  7%|█████▍                                                                       | 284/4000 [07:47<1:59:33,  1.93s/it]\n",
            "  7%|█████▍                                                                       | 285/4000 [07:50<2:04:25,  2.01s/it]\n",
            "  7%|█████▌                                                                       | 286/4000 [07:52<2:11:18,  2.12s/it]\n",
            "  7%|█████▌                                                                       | 287/4000 [07:54<2:02:35,  1.98s/it]\n",
            "  7%|█████▌                                                                       | 288/4000 [07:56<2:02:09,  1.97s/it]\n",
            "  7%|█████▌                                                                       | 289/4000 [07:57<1:53:53,  1.84s/it]\n",
            "  7%|█████▌                                                                       | 290/4000 [07:59<1:57:00,  1.89s/it]\n",
            "  7%|█████▌                                                                       | 291/4000 [08:01<1:57:49,  1.91s/it]\n",
            "  7%|█████▌                                                                       | 292/4000 [08:03<1:57:38,  1.90s/it]\n",
            "  7%|█████▋                                                                       | 293/4000 [08:05<1:57:40,  1.90s/it]\n",
            "  7%|█████▋                                                                       | 294/4000 [08:07<1:57:19,  1.90s/it]\n",
            "  7%|█████▋                                                                       | 295/4000 [08:09<1:59:32,  1.94s/it]\n",
            "  7%|█████▋                                                                       | 296/4000 [08:11<1:59:30,  1.94s/it]\n",
            "  7%|█████▋                                                                       | 297/4000 [08:12<1:54:48,  1.86s/it]\n",
            "  7%|█████▋                                                                       | 298/4000 [08:14<1:50:06,  1.78s/it]\n",
            "  7%|█████▊                                                                       | 299/4000 [08:16<1:47:35,  1.74s/it]\n",
            "  8%|█████▊                                                                       | 300/4000 [08:17<1:46:43,  1.73s/it]\n",
            "  8%|█████▊                                                                       | 301/4000 [08:19<1:44:09,  1.69s/it]\n",
            "  8%|█████▊                                                                       | 302/4000 [08:20<1:41:46,  1.65s/it]\n",
            "  8%|█████▊                                                                       | 303/4000 [08:22<1:39:57,  1.62s/it]\n",
            "  8%|█████▊                                                                       | 304/4000 [08:24<1:39:12,  1.61s/it]\n",
            "  8%|█████▊                                                                       | 305/4000 [08:25<1:38:47,  1.60s/it]\n",
            "  8%|█████▉                                                                       | 306/4000 [08:27<1:39:15,  1.61s/it]\n",
            "  8%|█████▉                                                                       | 307/4000 [08:28<1:38:21,  1.60s/it]\n",
            "  8%|█████▉                                                                       | 308/4000 [08:30<1:37:43,  1.59s/it]\n",
            "  8%|█████▉                                                                       | 309/4000 [08:32<1:36:37,  1.57s/it]\n",
            "  8%|█████▉                                                                       | 310/4000 [08:33<1:36:42,  1.57s/it]\n",
            "  8%|█████▉                                                                       | 311/4000 [08:35<1:37:09,  1.58s/it]\n",
            "  8%|██████                                                                       | 312/4000 [08:36<1:38:51,  1.61s/it]\n",
            "  8%|██████                                                                       | 313/4000 [08:38<1:39:01,  1.61s/it]\n",
            "  8%|██████                                                                       | 314/4000 [08:40<1:38:02,  1.60s/it]\n",
            "  8%|██████                                                                       | 315/4000 [08:41<1:38:57,  1.61s/it]\n",
            "  8%|██████                                                                       | 316/4000 [08:43<1:38:22,  1.60s/it]\n",
            "  8%|██████                                                                       | 317/4000 [08:44<1:37:45,  1.59s/it]\n",
            "  8%|██████                                                                       | 318/4000 [08:46<1:40:33,  1.64s/it]\n",
            "  8%|██████▏                                                                      | 319/4000 [08:48<1:42:32,  1.67s/it]\n",
            "  8%|██████▏                                                                      | 320/4000 [08:50<1:46:12,  1.73s/it]\n",
            "  8%|██████▏                                                                      | 321/4000 [08:52<1:48:06,  1.76s/it]\n",
            "  8%|██████▏                                                                      | 322/4000 [08:53<1:49:07,  1.78s/it]\n",
            "  8%|██████▏                                                                      | 323/4000 [08:55<1:49:24,  1.79s/it]\n",
            "  8%|██████▏                                                                      | 324/4000 [08:57<1:50:34,  1.80s/it]\n",
            "  8%|██████▎                                                                      | 325/4000 [08:59<1:49:35,  1.79s/it]\n",
            "  8%|██████▎                                                                      | 326/4000 [09:00<1:45:11,  1.72s/it]\n",
            "  8%|██████▎                                                                      | 327/4000 [09:02<1:41:49,  1.66s/it]\n",
            "  8%|██████▎                                                                      | 328/4000 [09:03<1:39:42,  1.63s/it]\n",
            "  8%|██████▎                                                                      | 329/4000 [09:05<1:38:15,  1.61s/it]\n",
            "  8%|██████▎                                                                      | 330/4000 [09:06<1:37:21,  1.59s/it]\n",
            "  8%|██████▎                                                                      | 331/4000 [09:08<1:36:33,  1.58s/it]\n",
            "  8%|██████▍                                                                      | 332/4000 [09:10<1:36:03,  1.57s/it]\n",
            "  8%|██████▍                                                                      | 333/4000 [09:11<1:35:42,  1.57s/it]\n",
            "  8%|██████▍                                                                      | 334/4000 [09:13<1:37:34,  1.60s/it]\n",
            "  8%|██████▍                                                                      | 335/4000 [09:15<1:41:47,  1.67s/it]\n",
            "  8%|██████▍                                                                      | 336/4000 [09:16<1:42:24,  1.68s/it]\n",
            "  8%|██████▍                                                                      | 337/4000 [09:18<1:40:22,  1.64s/it]\n",
            "  8%|██████▌                                                                      | 338/4000 [09:20<1:39:19,  1.63s/it]\n",
            "  8%|██████▌                                                                      | 339/4000 [09:21<1:38:34,  1.62s/it]\n",
            "  8%|██████▌                                                                      | 340/4000 [09:23<1:38:19,  1.61s/it]\n",
            "  9%|██████▌                                                                      | 341/4000 [09:24<1:37:53,  1.61s/it]\n",
            "  9%|██████▌                                                                      | 342/4000 [09:26<1:37:34,  1.60s/it]\n",
            "  9%|██████▌                                                                      | 343/4000 [09:27<1:36:33,  1.58s/it]\n",
            "  9%|██████▌                                                                      | 344/4000 [09:29<1:36:52,  1.59s/it]\n",
            "  9%|██████▋                                                                      | 345/4000 [09:31<1:36:22,  1.58s/it]\n",
            "  9%|██████▋                                                                      | 346/4000 [09:32<1:36:16,  1.58s/it]\n",
            "  9%|██████▋                                                                      | 347/4000 [09:34<1:36:42,  1.59s/it]\n",
            "  9%|██████▋                                                                      | 348/4000 [09:35<1:36:56,  1.59s/it]\n",
            "  9%|██████▋                                                                      | 349/4000 [09:37<1:37:10,  1.60s/it]\n",
            "  9%|██████▋                                                                      | 350/4000 [09:39<1:36:37,  1.59s/it]\n",
            "  9%|██████▊                                                                      | 351/4000 [09:40<1:36:22,  1.58s/it]\n",
            "  9%|██████▊                                                                      | 352/4000 [09:42<1:35:49,  1.58s/it]\n",
            "  9%|██████▊                                                                      | 353/4000 [09:43<1:36:43,  1.59s/it]\n",
            "  9%|██████▊                                                                      | 354/4000 [09:45<1:36:45,  1.59s/it]\n",
            "  9%|██████▊                                                                      | 355/4000 [09:47<1:36:56,  1.60s/it]\n",
            "  9%|██████▊                                                                      | 356/4000 [09:48<1:37:58,  1.61s/it]\n",
            "  9%|██████▊                                                                      | 357/4000 [09:50<1:38:31,  1.62s/it]\n",
            "  9%|██████▉                                                                      | 358/4000 [09:52<1:42:14,  1.68s/it]\n",
            "  9%|██████▉                                                                      | 359/4000 [09:54<1:45:31,  1.74s/it]\n",
            "  9%|██████▉                                                                      | 360/4000 [09:55<1:47:23,  1.77s/it]\n",
            "  9%|██████▉                                                                      | 361/4000 [09:57<1:48:09,  1.78s/it]\n",
            "  9%|██████▉                                                                      | 362/4000 [09:59<1:49:19,  1.80s/it]\n",
            "  9%|██████▉                                                                      | 363/4000 [10:01<1:50:45,  1.83s/it]\n",
            "  9%|███████                                                                      | 364/4000 [10:03<1:50:46,  1.83s/it]\n",
            "  9%|███████                                                                      | 365/4000 [10:04<1:48:34,  1.79s/it]\n",
            "  9%|███████                                                                      | 366/4000 [10:06<1:43:21,  1.71s/it]\n",
            "  9%|███████                                                                      | 367/4000 [10:07<1:40:05,  1.65s/it]\n",
            "  9%|███████                                                                      | 368/4000 [10:09<1:38:41,  1.63s/it]\n",
            "  9%|███████                                                                      | 369/4000 [10:11<1:36:27,  1.59s/it]\n",
            "  9%|███████                                                                      | 370/4000 [10:12<1:33:46,  1.55s/it]\n",
            "  9%|███████▏                                                                     | 371/4000 [10:13<1:31:56,  1.52s/it]\n",
            "  9%|███████▏                                                                     | 372/4000 [10:15<1:31:30,  1.51s/it]\n",
            "  9%|███████▏                                                                     | 373/4000 [10:16<1:31:40,  1.52s/it]\n",
            "  9%|███████▏                                                                     | 374/4000 [10:18<1:36:55,  1.60s/it]\n",
            "  9%|███████▏                                                                     | 375/4000 [10:20<1:42:27,  1.70s/it]\n",
            "  9%|███████▏                                                                     | 376/4000 [10:22<1:42:48,  1.70s/it]\n",
            "  9%|███████▎                                                                     | 377/4000 [10:24<1:42:20,  1.69s/it]\n",
            "  9%|███████▎                                                                     | 378/4000 [10:25<1:39:35,  1.65s/it]\n",
            "  9%|███████▎                                                                     | 379/4000 [10:27<1:37:41,  1.62s/it]\n",
            " 10%|███████▎                                                                     | 380/4000 [10:28<1:37:22,  1.61s/it]\n",
            " 10%|███████▎                                                                     | 381/4000 [10:30<1:37:03,  1.61s/it]\n",
            " 10%|███████▎                                                                     | 382/4000 [10:31<1:36:03,  1.59s/it]\n",
            " 10%|███████▎                                                                     | 383/4000 [10:33<1:35:52,  1.59s/it]\n",
            " 10%|███████▍                                                                     | 384/4000 [10:35<1:35:32,  1.59s/it]\n",
            " 10%|███████▍                                                                     | 385/4000 [10:36<1:35:37,  1.59s/it]\n",
            " 10%|███████▍                                                                     | 386/4000 [10:38<1:34:52,  1.58s/it]\n",
            " 10%|███████▍                                                                     | 387/4000 [10:39<1:34:33,  1.57s/it]\n",
            " 10%|███████▍                                                                     | 388/4000 [10:41<1:39:19,  1.65s/it]\n",
            " 10%|███████▍                                                                     | 389/4000 [10:43<1:44:05,  1.73s/it]\n",
            " 10%|███████▌                                                                     | 390/4000 [10:45<1:45:38,  1.76s/it]\n",
            " 10%|███████▌                                                                     | 391/4000 [10:47<1:44:56,  1.74s/it]\n",
            " 10%|███████▌                                                                     | 392/4000 [10:48<1:41:26,  1.69s/it]\n",
            " 10%|███████▌                                                                     | 393/4000 [10:50<1:39:34,  1.66s/it]\n",
            " 10%|███████▌                                                                     | 394/4000 [10:51<1:37:46,  1.63s/it]\n",
            " 10%|███████▌                                                                     | 395/4000 [10:53<1:41:15,  1.69s/it]\n",
            " 10%|███████▌                                                                     | 396/4000 [10:55<1:39:22,  1.65s/it]\n",
            " 10%|███████▋                                                                     | 397/4000 [10:56<1:39:45,  1.66s/it]\n",
            " 10%|███████▋                                                                     | 398/4000 [10:58<1:38:43,  1.64s/it]\n",
            " 10%|███████▋                                                                     | 399/4000 [11:00<1:37:13,  1.62s/it]\n",
            " 10%|███████▋                                                                     | 400/4000 [11:01<1:35:48,  1.60s/it]\n",
            " 10%|███████▋                                                                     | 401/4000 [11:03<1:34:45,  1.58s/it]\n",
            " 10%|███████▋                                                                     | 402/4000 [11:04<1:34:34,  1.58s/it]\n",
            " 10%|███████▊                                                                     | 403/4000 [11:06<1:34:48,  1.58s/it]\n",
            " 10%|███████▊                                                                     | 404/4000 [11:08<1:39:09,  1.65s/it]\n",
            " 10%|███████▊                                                                     | 405/4000 [11:09<1:41:33,  1.70s/it]\n",
            " 10%|███████▊                                                                     | 406/4000 [11:11<1:41:54,  1.70s/it]\n",
            " 10%|███████▊                                                                     | 407/4000 [11:13<1:45:46,  1.77s/it]\n"
          ],
          "name": "stderr"
        },
        {
          "output_type": "stream",
          "text": [
            " 10%|███████▊                                                                     | 408/4000 [11:15<1:49:41,  1.83s/it]\n",
            " 10%|███████▊                                                                     | 409/4000 [11:17<1:49:47,  1.83s/it]\n",
            " 10%|███████▉                                                                     | 410/4000 [11:19<1:50:07,  1.84s/it]\n",
            " 10%|███████▉                                                                     | 411/4000 [11:20<1:49:22,  1.83s/it]\n",
            " 10%|███████▉                                                                     | 412/4000 [11:22<1:50:35,  1.85s/it]\n",
            " 10%|███████▉                                                                     | 413/4000 [11:24<1:49:43,  1.84s/it]\n",
            " 10%|███████▉                                                                     | 414/4000 [11:26<1:48:17,  1.81s/it]\n",
            " 10%|███████▉                                                                     | 415/4000 [11:28<1:44:23,  1.75s/it]\n",
            " 10%|████████                                                                     | 416/4000 [11:29<1:46:22,  1.78s/it]\n",
            " 10%|████████                                                                     | 417/4000 [11:31<1:49:34,  1.83s/it]\n",
            " 10%|████████                                                                     | 418/4000 [11:33<1:47:44,  1.80s/it]\n",
            " 10%|████████                                                                     | 419/4000 [11:35<1:43:39,  1.74s/it]\n",
            " 10%|████████                                                                     | 420/4000 [11:36<1:42:40,  1.72s/it]\n",
            " 11%|████████                                                                     | 421/4000 [11:38<1:45:28,  1.77s/it]\n",
            " 11%|████████                                                                     | 422/4000 [11:40<1:48:47,  1.82s/it]\n",
            " 11%|████████▏                                                                    | 423/4000 [11:42<1:48:05,  1.81s/it]\n",
            " 11%|████████▏                                                                    | 424/4000 [11:44<1:49:32,  1.84s/it]\n",
            " 11%|████████▏                                                                    | 425/4000 [11:45<1:45:29,  1.77s/it]\n",
            " 11%|████████▏                                                                    | 426/4000 [11:47<1:45:34,  1.77s/it]\n",
            " 11%|████████▏                                                                    | 427/4000 [11:49<1:47:12,  1.80s/it]\n",
            " 11%|████████▏                                                                    | 428/4000 [11:51<1:48:17,  1.82s/it]\n",
            " 11%|████████▎                                                                    | 429/4000 [11:53<1:48:39,  1.83s/it]\n",
            " 11%|████████▎                                                                    | 430/4000 [11:55<1:45:56,  1.78s/it]\n",
            " 11%|████████▎                                                                    | 431/4000 [11:56<1:41:35,  1.71s/it]\n",
            " 11%|████████▎                                                                    | 432/4000 [11:58<1:38:32,  1.66s/it]\n",
            " 11%|████████▎                                                                    | 433/4000 [11:59<1:36:25,  1.62s/it]\n",
            " 11%|████████▎                                                                    | 434/4000 [12:01<1:36:02,  1.62s/it]\n",
            " 11%|████████▎                                                                    | 435/4000 [12:03<1:39:59,  1.68s/it]\n",
            " 11%|████████▍                                                                    | 436/4000 [12:04<1:40:36,  1.69s/it]\n",
            " 11%|████████▍                                                                    | 437/4000 [12:06<1:38:19,  1.66s/it]\n",
            " 11%|████████▍                                                                    | 438/4000 [12:07<1:36:48,  1.63s/it]\n",
            " 11%|████████▍                                                                    | 439/4000 [12:09<1:36:42,  1.63s/it]\n",
            " 11%|████████▍                                                                    | 440/4000 [12:11<1:40:28,  1.69s/it]\n",
            " 11%|████████▍                                                                    | 441/4000 [12:13<1:44:39,  1.76s/it]\n",
            " 11%|████████▌                                                                    | 442/4000 [12:14<1:42:03,  1.72s/it]\n",
            " 11%|████████▌                                                                    | 443/4000 [12:16<1:39:47,  1.68s/it]\n",
            " 11%|████████▌                                                                    | 444/4000 [12:18<1:38:21,  1.66s/it]\n",
            " 11%|████████▌                                                                    | 445/4000 [12:19<1:37:16,  1.64s/it]\n",
            " 11%|████████▌                                                                    | 446/4000 [12:21<1:35:47,  1.62s/it]\n",
            " 11%|████████▌                                                                    | 447/4000 [12:22<1:36:17,  1.63s/it]\n",
            " 11%|████████▌                                                                    | 448/4000 [12:24<1:35:48,  1.62s/it]\n",
            " 11%|████████▋                                                                    | 449/4000 [12:26<1:35:22,  1.61s/it]\n",
            " 11%|████████▋                                                                    | 450/4000 [12:27<1:39:00,  1.67s/it]\n",
            " 11%|████████▋                                                                    | 451/4000 [12:29<1:40:14,  1.69s/it]\n",
            " 11%|████████▋                                                                    | 452/4000 [12:31<1:37:35,  1.65s/it]\n",
            " 11%|████████▋                                                                    | 453/4000 [12:32<1:35:47,  1.62s/it]\n",
            " 11%|████████▋                                                                    | 454/4000 [12:34<1:34:10,  1.59s/it]\n",
            " 11%|████████▊                                                                    | 455/4000 [12:35<1:33:08,  1.58s/it]\n",
            " 11%|████████▊                                                                    | 456/4000 [12:37<1:32:15,  1.56s/it]\n",
            " 11%|████████▊                                                                    | 457/4000 [12:38<1:32:11,  1.56s/it]\n",
            " 11%|████████▊                                                                    | 458/4000 [12:40<1:32:18,  1.56s/it]\n",
            " 11%|████████▊                                                                    | 459/4000 [12:42<1:31:46,  1.56s/it]\n",
            " 12%|████████▊                                                                    | 460/4000 [12:44<1:40:03,  1.70s/it]\n",
            " 12%|████████▊                                                                    | 461/4000 [12:46<1:44:57,  1.78s/it]\n",
            " 12%|████████▉                                                                    | 462/4000 [12:47<1:46:14,  1.80s/it]\n",
            " 12%|████████▉                                                                    | 463/4000 [12:49<1:46:42,  1.81s/it]\n",
            " 12%|████████▉                                                                    | 464/4000 [12:51<1:48:51,  1.85s/it]\n",
            " 12%|████████▉                                                                    | 465/4000 [12:53<1:48:45,  1.85s/it]\n",
            " 12%|████████▉                                                                    | 466/4000 [12:55<1:48:34,  1.84s/it]\n",
            " 12%|████████▉                                                                    | 467/4000 [12:57<1:50:31,  1.88s/it]\n",
            " 12%|█████████                                                                    | 468/4000 [12:59<1:49:10,  1.85s/it]\n",
            " 12%|█████████                                                                    | 469/4000 [13:01<1:50:09,  1.87s/it]\n",
            " 12%|█████████                                                                    | 470/4000 [13:03<1:54:49,  1.95s/it]\n",
            " 12%|█████████                                                                    | 471/4000 [13:04<1:50:07,  1.87s/it]\n",
            " 12%|█████████                                                                    | 472/4000 [13:06<1:48:23,  1.84s/it]\n",
            " 12%|█████████                                                                    | 473/4000 [13:08<1:42:37,  1.75s/it]\n",
            " 12%|█████████                                                                    | 474/4000 [13:09<1:37:50,  1.66s/it]\n",
            " 12%|█████████▏                                                                   | 475/4000 [13:11<1:37:10,  1.65s/it]\n",
            " 12%|█████████▏                                                                   | 476/4000 [13:12<1:37:20,  1.66s/it]\n",
            " 12%|█████████▏                                                                   | 477/4000 [13:14<1:36:51,  1.65s/it]\n",
            " 12%|█████████▏                                                                   | 478/4000 [13:16<1:34:46,  1.61s/it]\n",
            " 12%|█████████▏                                                                   | 479/4000 [13:17<1:33:49,  1.60s/it]\n",
            " 12%|█████████▏                                                                   | 480/4000 [13:19<1:33:29,  1.59s/it]\n",
            " 12%|█████████▎                                                                   | 481/4000 [13:20<1:31:29,  1.56s/it]\n",
            " 12%|█████████▎                                                                   | 482/4000 [13:22<1:31:32,  1.56s/it]\n",
            " 12%|█████████▎                                                                   | 483/4000 [13:23<1:30:51,  1.55s/it]\n",
            " 12%|█████████▎                                                                   | 484/4000 [13:25<1:30:25,  1.54s/it]\n",
            " 12%|█████████▎                                                                   | 485/4000 [13:26<1:30:03,  1.54s/it]\n",
            " 12%|█████████▎                                                                   | 486/4000 [13:28<1:29:31,  1.53s/it]\n",
            " 12%|█████████▎                                                                   | 487/4000 [13:29<1:29:20,  1.53s/it]\n",
            " 12%|█████████▍                                                                   | 488/4000 [13:31<1:29:13,  1.52s/it]\n",
            " 12%|█████████▍                                                                   | 489/4000 [13:32<1:28:04,  1.51s/it]\n",
            " 12%|█████████▍                                                                   | 490/4000 [13:34<1:28:27,  1.51s/it]\n",
            " 12%|█████████▍                                                                   | 491/4000 [13:35<1:29:25,  1.53s/it]\n",
            " 12%|█████████▍                                                                   | 492/4000 [13:37<1:29:43,  1.53s/it]\n",
            " 12%|█████████▍                                                                   | 493/4000 [13:39<1:30:33,  1.55s/it]\n",
            " 12%|█████████▌                                                                   | 494/4000 [13:40<1:31:26,  1.56s/it]\n",
            " 12%|█████████▌                                                                   | 495/4000 [13:42<1:29:38,  1.53s/it]\n",
            " 12%|█████████▌                                                                   | 496/4000 [13:43<1:27:52,  1.50s/it]\n",
            " 12%|█████████▌                                                                   | 497/4000 [13:45<1:29:39,  1.54s/it]\n",
            " 12%|█████████▌                                                                   | 498/4000 [13:46<1:29:39,  1.54s/it]\n",
            " 12%|█████████▌                                                                   | 499/4000 [13:48<1:29:28,  1.53s/it]\n",
            " 12%|█████████▋                                                                   | 500/4000 [13:50<1:33:56,  1.61s/it]\n",
            " 13%|█████████▋                                                                   | 501/4000 [13:51<1:33:01,  1.60s/it]\n",
            " 13%|█████████▋                                                                   | 502/4000 [13:53<1:30:19,  1.55s/it]\n",
            " 13%|█████████▋                                                                   | 503/4000 [13:54<1:28:00,  1.51s/it]\n",
            " 13%|█████████▋                                                                   | 504/4000 [13:55<1:26:34,  1.49s/it]\n",
            " 13%|█████████▋                                                                   | 505/4000 [13:57<1:28:30,  1.52s/it]\n",
            " 13%|█████████▋                                                                   | 506/4000 [13:59<1:30:00,  1.55s/it]\n",
            " 13%|█████████▊                                                                   | 507/4000 [14:00<1:28:02,  1.51s/it]\n",
            " 13%|█████████▊                                                                   | 508/4000 [14:01<1:26:57,  1.49s/it]\n",
            " 13%|█████████▊                                                                   | 509/4000 [14:03<1:26:06,  1.48s/it]\n",
            " 13%|█████████▊                                                                   | 510/4000 [14:04<1:26:20,  1.48s/it]\n",
            " 13%|█████████▊                                                                   | 511/4000 [14:06<1:25:34,  1.47s/it]\n",
            " 13%|█████████▊                                                                   | 512/4000 [14:07<1:25:41,  1.47s/it]\n",
            " 13%|█████████▉                                                                   | 513/4000 [14:09<1:25:47,  1.48s/it]\n",
            " 13%|█████████▉                                                                   | 514/4000 [14:10<1:28:16,  1.52s/it]\n",
            " 13%|█████████▉                                                                   | 515/4000 [14:12<1:31:06,  1.57s/it]\n",
            " 13%|█████████▉                                                                   | 516/4000 [14:14<1:28:57,  1.53s/it]\n",
            " 13%|█████████▉                                                                   | 517/4000 [14:15<1:27:33,  1.51s/it]\n",
            " 13%|█████████▉                                                                   | 518/4000 [14:17<1:27:35,  1.51s/it]\n",
            " 13%|█████████▉                                                                   | 519/4000 [14:18<1:27:57,  1.52s/it]\n",
            " 13%|██████████                                                                   | 520/4000 [14:20<1:28:31,  1.53s/it]\n",
            " 13%|██████████                                                                   | 521/4000 [14:21<1:27:16,  1.51s/it]\n",
            " 13%|██████████                                                                   | 522/4000 [14:23<1:27:42,  1.51s/it]\n",
            " 13%|██████████                                                                   | 523/4000 [14:24<1:29:27,  1.54s/it]\n",
            " 13%|██████████                                                                   | 524/4000 [14:26<1:30:02,  1.55s/it]\n",
            " 13%|██████████                                                                   | 525/4000 [14:27<1:31:26,  1.58s/it]\n",
            " 13%|██████████▏                                                                  | 526/4000 [14:29<1:30:34,  1.56s/it]\n",
            " 13%|██████████▏                                                                  | 527/4000 [14:31<1:30:10,  1.56s/it]\n",
            " 13%|██████████▏                                                                  | 528/4000 [14:32<1:28:18,  1.53s/it]\n",
            " 13%|██████████▏                                                                  | 529/4000 [14:34<1:28:34,  1.53s/it]\n",
            " 13%|██████████▏                                                                  | 530/4000 [14:35<1:28:50,  1.54s/it]\n",
            " 13%|██████████▏                                                                  | 531/4000 [14:37<1:31:10,  1.58s/it]\n",
            " 13%|██████████▏                                                                  | 532/4000 [14:38<1:28:40,  1.53s/it]\n",
            " 13%|██████████▎                                                                  | 533/4000 [14:40<1:27:13,  1.51s/it]\n",
            " 13%|██████████▎                                                                  | 534/4000 [14:41<1:27:04,  1.51s/it]\n",
            " 13%|██████████▎                                                                  | 535/4000 [14:43<1:27:19,  1.51s/it]\n",
            " 13%|██████████▎                                                                  | 536/4000 [14:44<1:27:28,  1.52s/it]\n",
            " 13%|██████████▎                                                                  | 537/4000 [14:46<1:26:57,  1.51s/it]\n",
            " 13%|██████████▎                                                                  | 538/4000 [14:47<1:26:20,  1.50s/it]\n",
            " 13%|██████████▍                                                                  | 539/4000 [14:49<1:25:01,  1.47s/it]\n",
            " 14%|██████████▍                                                                  | 540/4000 [14:50<1:23:57,  1.46s/it]\n",
            " 14%|██████████▍                                                                  | 541/4000 [14:51<1:23:22,  1.45s/it]\n",
            " 14%|██████████▍                                                                  | 542/4000 [14:53<1:23:03,  1.44s/it]\n",
            " 14%|██████████▍                                                                  | 543/4000 [14:54<1:22:45,  1.44s/it]\n"
          ],
          "name": "stderr"
        },
        {
          "output_type": "stream",
          "text": [
            " 14%|██████████▍                                                                  | 544/4000 [14:56<1:22:58,  1.44s/it]\n",
            " 14%|██████████▍                                                                  | 545/4000 [14:57<1:22:39,  1.44s/it]\n",
            " 14%|██████████▌                                                                  | 546/4000 [14:59<1:22:31,  1.43s/it]\n",
            " 14%|██████████▌                                                                  | 547/4000 [15:00<1:22:18,  1.43s/it]\n",
            " 14%|██████████▌                                                                  | 548/4000 [15:01<1:23:09,  1.45s/it]\n",
            " 14%|██████████▌                                                                  | 549/4000 [15:03<1:24:51,  1.48s/it]\n",
            " 14%|██████████▌                                                                  | 550/4000 [15:05<1:27:31,  1.52s/it]\n",
            " 14%|██████████▌                                                                  | 551/4000 [15:06<1:28:47,  1.54s/it]\n",
            " 14%|██████████▋                                                                  | 552/4000 [15:08<1:27:36,  1.52s/it]\n",
            " 14%|██████████▋                                                                  | 553/4000 [15:09<1:26:37,  1.51s/it]\n",
            " 14%|██████████▋                                                                  | 554/4000 [15:11<1:25:34,  1.49s/it]\n",
            " 14%|██████████▋                                                                  | 555/4000 [15:12<1:24:38,  1.47s/it]\n",
            " 14%|██████████▋                                                                  | 556/4000 [15:14<1:26:05,  1.50s/it]\n",
            " 14%|██████████▋                                                                  | 557/4000 [15:15<1:27:02,  1.52s/it]\n",
            " 14%|██████████▋                                                                  | 558/4000 [15:17<1:27:32,  1.53s/it]\n",
            " 14%|██████████▊                                                                  | 559/4000 [15:18<1:29:58,  1.57s/it]\n",
            " 14%|██████████▊                                                                  | 560/4000 [15:21<1:39:49,  1.74s/it]\n",
            " 14%|██████████▊                                                                  | 561/4000 [15:23<1:47:48,  1.88s/it]\n",
            " 14%|██████████▊                                                                  | 562/4000 [15:24<1:43:41,  1.81s/it]\n",
            " 14%|██████████▊                                                                  | 563/4000 [15:26<1:41:10,  1.77s/it]\n",
            " 14%|██████████▊                                                                  | 564/4000 [15:28<1:38:39,  1.72s/it]\n",
            " 14%|██████████▉                                                                  | 565/4000 [15:29<1:37:43,  1.71s/it]\n",
            " 14%|██████████▉                                                                  | 566/4000 [15:31<1:34:46,  1.66s/it]\n",
            " 14%|██████████▉                                                                  | 567/4000 [15:32<1:32:30,  1.62s/it]\n",
            " 14%|██████████▉                                                                  | 568/4000 [15:34<1:31:29,  1.60s/it]\n",
            " 14%|██████████▉                                                                  | 569/4000 [15:36<1:30:29,  1.58s/it]\n",
            " 14%|██████████▉                                                                  | 570/4000 [15:37<1:29:56,  1.57s/it]\n",
            " 14%|██████████▉                                                                  | 571/4000 [15:39<1:30:24,  1.58s/it]\n",
            " 14%|███████████                                                                  | 572/4000 [15:40<1:34:23,  1.65s/it]\n",
            " 14%|███████████                                                                  | 573/4000 [15:42<1:34:01,  1.65s/it]\n",
            " 14%|███████████                                                                  | 574/4000 [15:44<1:34:20,  1.65s/it]\n",
            " 14%|███████████                                                                  | 575/4000 [15:45<1:32:19,  1.62s/it]\n",
            " 14%|███████████                                                                  | 576/4000 [15:47<1:31:02,  1.60s/it]\n",
            " 14%|███████████                                                                  | 577/4000 [15:48<1:29:45,  1.57s/it]\n",
            " 14%|███████████▏                                                                 | 578/4000 [15:50<1:29:00,  1.56s/it]\n",
            " 14%|███████████▏                                                                 | 579/4000 [15:51<1:29:01,  1.56s/it]\n",
            " 14%|███████████▏                                                                 | 580/4000 [15:53<1:28:27,  1.55s/it]\n",
            " 15%|███████████▏                                                                 | 581/4000 [15:55<1:28:36,  1.55s/it]\n",
            " 15%|███████████▏                                                                 | 582/4000 [15:56<1:29:11,  1.57s/it]\n",
            " 15%|███████████▏                                                                 | 583/4000 [15:58<1:32:21,  1.62s/it]\n",
            " 15%|███████████▏                                                                 | 584/4000 [16:00<1:43:35,  1.82s/it]\n",
            " 15%|███████████▎                                                                 | 585/4000 [16:02<1:45:27,  1.85s/it]\n",
            " 15%|███████████▎                                                                 | 586/4000 [16:04<1:45:41,  1.86s/it]\n",
            " 15%|███████████▎                                                                 | 587/4000 [16:06<1:45:49,  1.86s/it]\n",
            " 15%|███████████▎                                                                 | 588/4000 [16:08<1:45:17,  1.85s/it]\n",
            " 15%|███████████▎                                                                 | 589/4000 [16:10<1:46:41,  1.88s/it]\n",
            " 15%|███████████▎                                                                 | 590/4000 [16:12<1:50:24,  1.94s/it]\n",
            " 15%|███████████▍                                                                 | 591/4000 [16:14<1:52:07,  1.97s/it]\n",
            " 15%|███████████▍                                                                 | 592/4000 [16:15<1:45:56,  1.87s/it]\n",
            " 15%|███████████▍                                                                 | 593/4000 [16:17<1:41:19,  1.78s/it]\n",
            " 15%|███████████▍                                                                 | 594/4000 [16:19<1:41:22,  1.79s/it]\n",
            " 15%|███████████▍                                                                 | 595/4000 [16:21<1:46:25,  1.88s/it]\n",
            " 15%|███████████▍                                                                 | 596/4000 [16:23<1:44:58,  1.85s/it]\n",
            " 15%|███████████▍                                                                 | 597/4000 [16:24<1:43:30,  1.83s/it]\n",
            " 15%|███████████▌                                                                 | 598/4000 [16:26<1:40:41,  1.78s/it]\n",
            " 15%|███████████▌                                                                 | 599/4000 [16:28<1:37:33,  1.72s/it]\n",
            " 15%|███████████▌                                                                 | 600/4000 [16:29<1:35:03,  1.68s/it]\n",
            " 15%|███████████▌                                                                 | 601/4000 [16:31<1:34:08,  1.66s/it]\n",
            " 15%|███████████▌                                                                 | 602/4000 [16:32<1:32:54,  1.64s/it]\n",
            " 15%|███████████▌                                                                 | 603/4000 [16:34<1:31:29,  1.62s/it]\n",
            " 15%|███████████▋                                                                 | 604/4000 [16:36<1:32:43,  1.64s/it]\n",
            " 15%|███████████▋                                                                 | 605/4000 [16:37<1:31:00,  1.61s/it]\n",
            " 15%|███████████▋                                                                 | 606/4000 [16:39<1:30:38,  1.60s/it]\n",
            " 15%|███████████▋                                                                 | 607/4000 [16:40<1:31:11,  1.61s/it]\n",
            " 15%|███████████▋                                                                 | 608/4000 [16:42<1:30:23,  1.60s/it]\n",
            " 15%|███████████▋                                                                 | 609/4000 [16:44<1:30:49,  1.61s/it]\n",
            " 15%|███████████▋                                                                 | 610/4000 [16:45<1:31:46,  1.62s/it]\n",
            " 15%|███████████▊                                                                 | 611/4000 [16:47<1:31:29,  1.62s/it]\n",
            " 15%|███████████▊                                                                 | 612/4000 [16:49<1:32:36,  1.64s/it]\n",
            " 15%|███████████▊                                                                 | 613/4000 [16:51<1:37:16,  1.72s/it]\n",
            " 15%|███████████▊                                                                 | 614/4000 [16:52<1:38:40,  1.75s/it]\n",
            " 15%|███████████▊                                                                 | 615/4000 [16:54<1:35:56,  1.70s/it]\n",
            " 15%|███████████▊                                                                 | 616/4000 [16:56<1:35:55,  1.70s/it]\n",
            " 15%|███████████▉                                                                 | 617/4000 [16:57<1:33:41,  1.66s/it]\n",
            " 15%|███████████▉                                                                 | 618/4000 [16:59<1:33:02,  1.65s/it]\n",
            " 15%|███████████▉                                                                 | 619/4000 [17:00<1:31:31,  1.62s/it]\n",
            " 16%|███████████▉                                                                 | 620/4000 [17:02<1:30:17,  1.60s/it]\n",
            " 16%|███████████▉                                                                 | 621/4000 [17:03<1:29:25,  1.59s/it]\n",
            " 16%|███████████▉                                                                 | 622/4000 [17:05<1:28:25,  1.57s/it]\n",
            " 16%|███████████▉                                                                 | 623/4000 [17:07<1:28:28,  1.57s/it]\n",
            " 16%|████████████                                                                 | 624/4000 [17:08<1:28:05,  1.57s/it]\n",
            " 16%|████████████                                                                 | 625/4000 [17:10<1:27:27,  1.55s/it]\n",
            " 16%|████████████                                                                 | 626/4000 [17:11<1:27:49,  1.56s/it]\n",
            " 16%|████████████                                                                 | 627/4000 [17:13<1:28:59,  1.58s/it]\n",
            " 16%|████████████                                                                 | 628/4000 [17:14<1:29:03,  1.58s/it]\n",
            " 16%|████████████                                                                 | 629/4000 [17:16<1:28:02,  1.57s/it]\n",
            " 16%|████████████▏                                                                | 630/4000 [17:18<1:27:46,  1.56s/it]\n",
            " 16%|████████████▏                                                                | 631/4000 [17:19<1:27:23,  1.56s/it]\n",
            " 16%|████████████▏                                                                | 632/4000 [17:21<1:26:57,  1.55s/it]\n",
            " 16%|████████████▏                                                                | 633/4000 [17:22<1:27:17,  1.56s/it]\n",
            " 16%|████████████▏                                                                | 634/4000 [17:24<1:27:30,  1.56s/it]\n",
            " 16%|████████████▏                                                                | 635/4000 [17:25<1:26:58,  1.55s/it]\n",
            " 16%|████████████▏                                                                | 636/4000 [17:27<1:30:59,  1.62s/it]\n",
            " 16%|████████████▎                                                                | 637/4000 [17:29<1:29:40,  1.60s/it]\n",
            " 16%|████████████▎                                                                | 638/4000 [17:30<1:28:42,  1.58s/it]\n",
            " 16%|████████████▎                                                                | 639/4000 [17:32<1:29:12,  1.59s/it]\n",
            " 16%|████████████▎                                                                | 640/4000 [17:33<1:28:57,  1.59s/it]\n",
            " 16%|████████████▎                                                                | 641/4000 [17:35<1:28:20,  1.58s/it]\n",
            " 16%|████████████▎                                                                | 642/4000 [17:37<1:28:10,  1.58s/it]\n",
            " 16%|████████████▍                                                                | 643/4000 [17:38<1:26:56,  1.55s/it]\n",
            " 16%|████████████▍                                                                | 644/4000 [17:40<1:26:58,  1.55s/it]\n",
            " 16%|████████████▍                                                                | 645/4000 [17:41<1:27:51,  1.57s/it]\n",
            " 16%|████████████▍                                                                | 646/4000 [17:43<1:30:12,  1.61s/it]\n",
            " 16%|████████████▍                                                                | 647/4000 [17:45<1:31:36,  1.64s/it]\n",
            " 16%|████████████▍                                                                | 648/4000 [17:46<1:29:37,  1.60s/it]\n",
            " 16%|████████████▍                                                                | 649/4000 [17:48<1:27:45,  1.57s/it]\n",
            " 16%|████████████▌                                                                | 650/4000 [17:49<1:27:12,  1.56s/it]\n",
            " 16%|████████████▌                                                                | 651/4000 [17:51<1:26:35,  1.55s/it]\n",
            " 16%|████████████▌                                                                | 652/4000 [17:52<1:25:48,  1.54s/it]\n",
            " 16%|████████████▌                                                                | 653/4000 [17:54<1:25:49,  1.54s/it]\n",
            " 16%|████████████▌                                                                | 654/4000 [17:55<1:25:44,  1.54s/it]\n",
            " 16%|████████████▌                                                                | 655/4000 [17:57<1:25:33,  1.53s/it]\n",
            " 16%|████████████▋                                                                | 656/4000 [17:58<1:25:47,  1.54s/it]\n",
            " 16%|████████████▋                                                                | 657/4000 [18:00<1:25:49,  1.54s/it]\n",
            " 16%|████████████▋                                                                | 658/4000 [18:01<1:25:48,  1.54s/it]\n",
            " 16%|████████████▋                                                                | 659/4000 [18:03<1:25:14,  1.53s/it]\n",
            " 16%|████████████▋                                                                | 660/4000 [18:04<1:24:39,  1.52s/it]\n",
            " 17%|████████████▋                                                                | 661/4000 [18:06<1:25:10,  1.53s/it]\n",
            " 17%|████████████▋                                                                | 662/4000 [18:08<1:25:13,  1.53s/it]\n",
            " 17%|████████████▊                                                                | 663/4000 [18:09<1:26:10,  1.55s/it]\n",
            " 17%|████████████▊                                                                | 664/4000 [18:11<1:25:59,  1.55s/it]\n",
            " 17%|████████████▊                                                                | 665/4000 [18:12<1:25:56,  1.55s/it]\n",
            " 17%|████████████▊                                                                | 666/4000 [18:14<1:26:17,  1.55s/it]\n",
            " 17%|████████████▊                                                                | 667/4000 [18:15<1:25:45,  1.54s/it]\n",
            " 17%|████████████▊                                                                | 668/4000 [18:17<1:25:27,  1.54s/it]\n",
            " 17%|████████████▉                                                                | 669/4000 [18:18<1:25:28,  1.54s/it]\n",
            " 17%|████████████▉                                                                | 670/4000 [18:20<1:25:23,  1.54s/it]\n",
            " 17%|████████████▉                                                                | 671/4000 [18:21<1:25:42,  1.54s/it]\n",
            " 17%|████████████▉                                                                | 672/4000 [18:23<1:26:33,  1.56s/it]\n",
            " 17%|████████████▉                                                                | 673/4000 [18:25<1:26:02,  1.55s/it]\n",
            " 17%|████████████▉                                                                | 674/4000 [18:26<1:26:59,  1.57s/it]\n",
            " 17%|████████████▉                                                                | 675/4000 [18:28<1:32:00,  1.66s/it]\n",
            " 17%|█████████████                                                                | 676/4000 [18:30<1:30:33,  1.63s/it]\n",
            " 17%|█████████████                                                                | 677/4000 [18:31<1:29:06,  1.61s/it]\n",
            " 17%|█████████████                                                                | 678/4000 [18:33<1:27:26,  1.58s/it]\n",
            " 17%|█████████████                                                                | 679/4000 [18:34<1:26:49,  1.57s/it]\n"
          ],
          "name": "stderr"
        },
        {
          "output_type": "stream",
          "text": [
            " 17%|█████████████                                                                | 680/4000 [18:36<1:26:00,  1.55s/it]\n",
            " 17%|█████████████                                                                | 681/4000 [18:37<1:25:31,  1.55s/it]\n",
            " 17%|█████████████▏                                                               | 682/4000 [18:39<1:24:57,  1.54s/it]\n",
            " 17%|█████████████▏                                                               | 683/4000 [18:40<1:25:39,  1.55s/it]\n",
            " 17%|█████████████▏                                                               | 684/4000 [18:42<1:24:53,  1.54s/it]\n",
            " 17%|█████████████▏                                                               | 685/4000 [18:43<1:24:23,  1.53s/it]\n",
            " 17%|█████████████▏                                                               | 686/4000 [18:45<1:24:10,  1.52s/it]\n",
            " 17%|█████████████▏                                                               | 687/4000 [18:46<1:24:27,  1.53s/it]\n",
            " 17%|█████████████▏                                                               | 688/4000 [18:48<1:27:16,  1.58s/it]\n",
            " 17%|█████████████▎                                                               | 689/4000 [18:50<1:27:39,  1.59s/it]\n",
            " 17%|█████████████▎                                                               | 690/4000 [18:51<1:26:30,  1.57s/it]\n",
            " 17%|█████████████▎                                                               | 691/4000 [18:53<1:26:47,  1.57s/it]\n",
            " 17%|█████████████▎                                                               | 692/4000 [18:54<1:26:45,  1.57s/it]\n",
            " 17%|█████████████▎                                                               | 693/4000 [18:56<1:28:46,  1.61s/it]\n",
            " 17%|█████████████▎                                                               | 694/4000 [18:58<1:30:27,  1.64s/it]\n",
            " 17%|█████████████▍                                                               | 695/4000 [19:00<1:31:18,  1.66s/it]\n",
            " 17%|█████████████▍                                                               | 696/4000 [19:01<1:29:51,  1.63s/it]\n",
            " 17%|█████████████▍                                                               | 697/4000 [19:03<1:31:50,  1.67s/it]\n",
            " 17%|█████████████▍                                                               | 698/4000 [19:04<1:31:02,  1.65s/it]\n",
            " 17%|█████████████▍                                                               | 699/4000 [19:06<1:30:20,  1.64s/it]\n",
            " 18%|█████████████▍                                                               | 700/4000 [19:08<1:30:24,  1.64s/it]\n",
            " 18%|█████████████▍                                                               | 701/4000 [19:09<1:29:08,  1.62s/it]\n",
            " 18%|█████████████▌                                                               | 702/4000 [19:11<1:28:58,  1.62s/it]\n",
            " 18%|█████████████▌                                                               | 703/4000 [19:13<1:28:18,  1.61s/it]\n",
            " 18%|█████████████▌                                                               | 704/4000 [19:14<1:28:04,  1.60s/it]\n",
            " 18%|█████████████▌                                                               | 705/4000 [19:16<1:28:27,  1.61s/it]\n",
            " 18%|█████████████▌                                                               | 706/4000 [19:17<1:28:23,  1.61s/it]\n",
            " 18%|█████████████▌                                                               | 707/4000 [19:19<1:27:05,  1.59s/it]\n",
            " 18%|█████████████▋                                                               | 708/4000 [19:20<1:26:24,  1.57s/it]\n",
            " 18%|█████████████▋                                                               | 709/4000 [19:22<1:25:38,  1.56s/it]\n",
            " 18%|█████████████▋                                                               | 710/4000 [19:23<1:25:22,  1.56s/it]\n",
            " 18%|█████████████▋                                                               | 711/4000 [19:25<1:24:53,  1.55s/it]\n",
            " 18%|█████████████▋                                                               | 712/4000 [19:27<1:24:49,  1.55s/it]\n",
            " 18%|█████████████▋                                                               | 713/4000 [19:28<1:24:31,  1.54s/it]\n",
            " 18%|█████████████▋                                                               | 714/4000 [19:30<1:24:22,  1.54s/it]\n",
            " 18%|█████████████▊                                                               | 715/4000 [19:31<1:24:33,  1.54s/it]\n",
            " 18%|█████████████▊                                                               | 716/4000 [19:33<1:24:10,  1.54s/it]\n",
            " 18%|█████████████▊                                                               | 717/4000 [19:34<1:24:21,  1.54s/it]\n",
            " 18%|█████████████▊                                                               | 718/4000 [19:36<1:23:57,  1.53s/it]\n",
            " 18%|█████████████▊                                                               | 719/4000 [19:37<1:23:45,  1.53s/it]\n",
            " 18%|█████████████▊                                                               | 720/4000 [19:39<1:23:56,  1.54s/it]\n",
            " 18%|█████████████▉                                                               | 721/4000 [19:40<1:24:05,  1.54s/it]\n",
            " 18%|█████████████▉                                                               | 722/4000 [19:42<1:23:42,  1.53s/it]\n",
            " 18%|█████████████▉                                                               | 723/4000 [19:43<1:23:19,  1.53s/it]\n",
            " 18%|█████████████▉                                                               | 724/4000 [19:45<1:23:21,  1.53s/it]\n",
            " 18%|█████████████▉                                                               | 725/4000 [19:47<1:23:43,  1.53s/it]\n",
            " 18%|█████████████▉                                                               | 726/4000 [19:48<1:24:16,  1.54s/it]\n",
            " 18%|█████████████▉                                                               | 727/4000 [19:50<1:23:35,  1.53s/it]\n",
            " 18%|██████████████                                                               | 728/4000 [19:51<1:27:29,  1.60s/it]\n",
            " 18%|██████████████                                                               | 729/4000 [19:53<1:28:34,  1.62s/it]\n",
            " 18%|██████████████                                                               | 730/4000 [19:55<1:28:42,  1.63s/it]\n",
            " 18%|██████████████                                                               | 731/4000 [19:56<1:31:50,  1.69s/it]\n",
            " 18%|██████████████                                                               | 732/4000 [19:58<1:33:39,  1.72s/it]\n",
            " 18%|██████████████                                                               | 733/4000 [20:00<1:30:59,  1.67s/it]\n",
            " 18%|██████████████▏                                                              | 734/4000 [20:02<1:31:32,  1.68s/it]\n",
            " 18%|██████████████▏                                                              | 735/4000 [20:03<1:33:13,  1.71s/it]\n",
            " 18%|██████████████▏                                                              | 736/4000 [20:05<1:32:53,  1.71s/it]\n",
            " 18%|██████████████▏                                                              | 737/4000 [20:07<1:31:19,  1.68s/it]\n",
            " 18%|██████████████▏                                                              | 738/4000 [20:08<1:29:45,  1.65s/it]\n",
            " 18%|██████████████▏                                                              | 739/4000 [20:10<1:26:42,  1.60s/it]\n",
            " 18%|██████████████▏                                                              | 740/4000 [20:11<1:24:48,  1.56s/it]\n",
            " 19%|██████████████▎                                                              | 742/4000 [20:13<1:11:48,  1.32s/it]\n",
            " 19%|██████████████▎                                                              | 743/4000 [20:14<1:13:27,  1.35s/it]\n",
            " 19%|██████████████▎                                                              | 744/4000 [20:16<1:14:58,  1.38s/it]\n",
            " 19%|██████████████▎                                                              | 745/4000 [20:17<1:16:14,  1.41s/it]\n",
            " 19%|██████████████▎                                                              | 746/4000 [20:18<1:16:19,  1.41s/it]\n",
            " 19%|██████████████▍                                                              | 747/4000 [20:20<1:17:27,  1.43s/it]\n",
            " 19%|██████████████▍                                                              | 748/4000 [20:21<1:18:10,  1.44s/it]\n",
            " 19%|██████████████▍                                                              | 749/4000 [20:23<1:18:28,  1.45s/it]\n",
            " 19%|██████████████▍                                                              | 750/4000 [20:24<1:19:07,  1.46s/it]\n",
            " 19%|██████████████▍                                                              | 751/4000 [20:26<1:18:44,  1.45s/it]\n",
            " 19%|██████████████▍                                                              | 752/4000 [20:28<1:23:56,  1.55s/it]\n",
            " 19%|██████████████▍                                                              | 753/4000 [20:29<1:23:49,  1.55s/it]\n",
            " 19%|██████████████▌                                                              | 754/4000 [20:31<1:22:13,  1.52s/it]\n",
            " 19%|██████████████▌                                                              | 755/4000 [20:32<1:21:11,  1.50s/it]\n",
            " 19%|██████████████▌                                                              | 756/4000 [20:34<1:21:29,  1.51s/it]\n",
            " 19%|██████████████▌                                                              | 757/4000 [20:35<1:20:19,  1.49s/it]\n",
            " 19%|██████████████▌                                                              | 758/4000 [20:36<1:19:27,  1.47s/it]\n",
            " 19%|██████████████▌                                                              | 759/4000 [20:38<1:18:43,  1.46s/it]\n",
            " 19%|██████████████▋                                                              | 760/4000 [20:40<1:23:05,  1.54s/it]\n",
            " 19%|██████████████▋                                                              | 761/4000 [20:41<1:23:38,  1.55s/it]\n",
            " 19%|██████████████▋                                                              | 762/4000 [20:43<1:23:07,  1.54s/it]\n",
            " 19%|██████████████▋                                                              | 763/4000 [20:45<1:32:07,  1.71s/it]\n",
            " 19%|██████████████▋                                                              | 764/4000 [20:46<1:29:02,  1.65s/it]\n",
            " 19%|██████████████▋                                                              | 765/4000 [20:48<1:25:18,  1.58s/it]\n",
            " 19%|██████████████▋                                                              | 766/4000 [20:49<1:22:40,  1.53s/it]\n",
            " 19%|██████████████▊                                                              | 767/4000 [20:51<1:21:26,  1.51s/it]\n",
            " 19%|██████████████▊                                                              | 768/4000 [20:52<1:20:42,  1.50s/it]\n",
            " 19%|██████████████▊                                                              | 769/4000 [20:54<1:20:31,  1.50s/it]\n",
            " 19%|██████████████▊                                                              | 770/4000 [20:55<1:20:18,  1.49s/it]\n",
            " 19%|██████████████▊                                                              | 771/4000 [20:56<1:19:34,  1.48s/it]\n",
            " 19%|██████████████▊                                                              | 772/4000 [20:58<1:19:46,  1.48s/it]\n",
            " 19%|██████████████▉                                                              | 773/4000 [20:59<1:19:03,  1.47s/it]\n",
            " 19%|██████████████▉                                                              | 774/4000 [21:01<1:18:33,  1.46s/it]\n",
            " 19%|██████████████▉                                                              | 775/4000 [21:02<1:18:49,  1.47s/it]\n",
            " 19%|██████████████▉                                                              | 776/4000 [21:04<1:19:26,  1.48s/it]\n",
            " 19%|██████████████▉                                                              | 777/4000 [21:06<1:24:33,  1.57s/it]\n",
            " 19%|██████████████▉                                                              | 778/4000 [21:07<1:23:41,  1.56s/it]\n",
            " 19%|██████████████▉                                                              | 779/4000 [21:09<1:22:31,  1.54s/it]\n",
            " 20%|███████████████                                                              | 780/4000 [21:10<1:20:54,  1.51s/it]\n",
            " 20%|███████████████                                                              | 781/4000 [21:12<1:20:09,  1.49s/it]\n",
            " 20%|███████████████                                                              | 782/4000 [21:13<1:19:43,  1.49s/it]\n",
            " 20%|███████████████                                                              | 783/4000 [21:15<1:20:59,  1.51s/it]\n",
            " 20%|███████████████                                                              | 784/4000 [21:16<1:19:38,  1.49s/it]\n",
            " 20%|███████████████                                                              | 785/4000 [21:17<1:18:25,  1.46s/it]\n",
            " 20%|███████████████▏                                                             | 786/4000 [21:19<1:17:36,  1.45s/it]\n",
            " 20%|███████████████▏                                                             | 787/4000 [21:20<1:17:03,  1.44s/it]\n",
            " 20%|███████████████▏                                                             | 788/4000 [21:22<1:16:57,  1.44s/it]\n",
            " 20%|███████████████▏                                                             | 789/4000 [21:23<1:16:48,  1.44s/it]\n",
            " 20%|███████████████▏                                                             | 790/4000 [21:25<1:16:37,  1.43s/it]\n",
            " 20%|███████████████▏                                                             | 791/4000 [21:26<1:16:20,  1.43s/it]\n",
            " 20%|███████████████▏                                                             | 792/4000 [21:27<1:17:07,  1.44s/it]\n",
            " 20%|███████████████▎                                                             | 793/4000 [21:29<1:16:45,  1.44s/it]\n",
            " 20%|███████████████▎                                                             | 794/4000 [21:30<1:16:23,  1.43s/it]\n",
            " 20%|███████████████▎                                                             | 795/4000 [21:32<1:16:03,  1.42s/it]\n",
            " 20%|███████████████▎                                                             | 796/4000 [21:33<1:15:59,  1.42s/it]\n",
            " 20%|███████████████▎                                                             | 797/4000 [21:35<1:15:59,  1.42s/it]\n",
            " 20%|███████████████▎                                                             | 798/4000 [21:36<1:17:01,  1.44s/it]\n",
            " 20%|███████████████▍                                                             | 799/4000 [21:38<1:20:32,  1.51s/it]\n",
            " 20%|███████████████▍                                                             | 800/4000 [21:39<1:19:24,  1.49s/it]\n",
            " 20%|███████████████▍                                                             | 801/4000 [21:41<1:19:11,  1.49s/it]\n",
            " 20%|███████████████▍                                                             | 802/4000 [21:42<1:19:41,  1.50s/it]\n",
            " 20%|███████████████▍                                                             | 803/4000 [21:44<1:19:11,  1.49s/it]\n",
            " 20%|███████████████▍                                                             | 804/4000 [21:45<1:21:58,  1.54s/it]\n",
            " 20%|███████████████▍                                                             | 805/4000 [21:47<1:21:13,  1.53s/it]\n",
            " 20%|███████████████▌                                                             | 806/4000 [21:48<1:20:02,  1.50s/it]\n",
            " 20%|███████████████▌                                                             | 807/4000 [21:50<1:19:30,  1.49s/it]\n",
            " 20%|███████████████▌                                                             | 808/4000 [21:51<1:18:45,  1.48s/it]\n",
            " 20%|███████████████▌                                                             | 809/4000 [21:53<1:18:10,  1.47s/it]\n",
            " 20%|███████████████▌                                                             | 810/4000 [21:54<1:17:51,  1.46s/it]\n",
            " 20%|███████████████▌                                                             | 811/4000 [21:55<1:17:47,  1.46s/it]\n",
            " 20%|███████████████▋                                                             | 812/4000 [21:57<1:17:20,  1.46s/it]\n",
            " 20%|███████████████▋                                                             | 813/4000 [21:58<1:16:53,  1.45s/it]\n",
            " 20%|███████████████▋                                                             | 814/4000 [22:00<1:16:41,  1.44s/it]\n",
            " 20%|███████████████▋                                                             | 815/4000 [22:01<1:16:58,  1.45s/it]\n",
            " 20%|███████████████▋                                                             | 816/4000 [22:03<1:17:20,  1.46s/it]\n"
          ],
          "name": "stderr"
        },
        {
          "output_type": "stream",
          "text": [
            " 20%|███████████████▋                                                             | 817/4000 [22:04<1:16:57,  1.45s/it]\n",
            " 20%|███████████████▋                                                             | 818/4000 [22:06<1:16:58,  1.45s/it]\n",
            " 20%|███████████████▊                                                             | 819/4000 [22:07<1:16:56,  1.45s/it]\n",
            " 20%|███████████████▊                                                             | 820/4000 [22:08<1:16:57,  1.45s/it]\n",
            " 21%|███████████████▊                                                             | 821/4000 [22:10<1:16:56,  1.45s/it]\n",
            " 21%|███████████████▊                                                             | 822/4000 [22:11<1:18:12,  1.48s/it]\n",
            " 21%|███████████████▊                                                             | 823/4000 [22:13<1:17:50,  1.47s/it]\n",
            " 21%|███████████████▊                                                             | 824/4000 [22:15<1:19:42,  1.51s/it]\n",
            " 21%|███████████████▉                                                             | 825/4000 [22:16<1:21:58,  1.55s/it]\n",
            " 21%|███████████████▉                                                             | 826/4000 [22:18<1:22:07,  1.55s/it]\n",
            " 21%|███████████████▉                                                             | 827/4000 [22:19<1:22:33,  1.56s/it]\n",
            " 21%|███████████████▉                                                             | 828/4000 [22:21<1:21:39,  1.54s/it]\n",
            " 21%|███████████████▉                                                             | 829/4000 [22:22<1:20:59,  1.53s/it]\n",
            " 21%|███████████████▉                                                             | 830/4000 [22:24<1:24:42,  1.60s/it]\n",
            " 21%|███████████████▉                                                             | 831/4000 [22:26<1:26:13,  1.63s/it]\n",
            " 21%|████████████████                                                             | 832/4000 [22:27<1:25:01,  1.61s/it]\n",
            " 21%|████████████████                                                             | 833/4000 [22:29<1:24:34,  1.60s/it]\n",
            " 21%|████████████████                                                             | 834/4000 [22:30<1:23:33,  1.58s/it]\n",
            " 21%|████████████████                                                             | 835/4000 [22:32<1:22:33,  1.57s/it]\n",
            " 21%|████████████████                                                             | 836/4000 [22:33<1:21:24,  1.54s/it]\n",
            " 21%|████████████████                                                             | 837/4000 [22:35<1:20:37,  1.53s/it]\n",
            " 21%|████████████████▏                                                            | 838/4000 [22:36<1:20:14,  1.52s/it]\n",
            " 21%|████████████████▏                                                            | 839/4000 [22:38<1:19:44,  1.51s/it]\n",
            " 21%|████████████████▏                                                            | 840/4000 [22:40<1:20:24,  1.53s/it]\n",
            " 21%|████████████████▏                                                            | 841/4000 [22:41<1:20:32,  1.53s/it]\n",
            " 21%|████████████████▏                                                            | 842/4000 [22:43<1:20:40,  1.53s/it]\n",
            " 21%|████████████████▏                                                            | 843/4000 [22:44<1:21:30,  1.55s/it]\n",
            " 21%|████████████████▏                                                            | 844/4000 [22:46<1:23:03,  1.58s/it]\n",
            " 21%|████████████████▎                                                            | 845/4000 [22:47<1:22:24,  1.57s/it]\n",
            " 21%|████████████████▎                                                            | 846/4000 [22:49<1:21:54,  1.56s/it]\n",
            " 21%|████████████████▎                                                            | 847/4000 [22:51<1:23:17,  1.59s/it]\n",
            " 21%|████████████████▎                                                            | 848/4000 [22:52<1:23:07,  1.58s/it]\n",
            " 21%|████████████████▎                                                            | 849/4000 [22:54<1:23:42,  1.59s/it]\n",
            " 21%|████████████████▎                                                            | 850/4000 [22:55<1:22:39,  1.57s/it]\n",
            " 21%|████████████████▍                                                            | 851/4000 [22:57<1:22:41,  1.58s/it]\n",
            " 21%|████████████████▍                                                            | 852/4000 [22:58<1:23:14,  1.59s/it]\n",
            " 21%|████████████████▍                                                            | 853/4000 [23:00<1:22:44,  1.58s/it]\n",
            " 21%|████████████████▍                                                            | 854/4000 [23:02<1:21:33,  1.56s/it]\n",
            " 21%|████████████████▍                                                            | 855/4000 [23:03<1:22:41,  1.58s/it]\n",
            " 21%|████████████████▍                                                            | 856/4000 [23:05<1:22:37,  1.58s/it]\n",
            " 21%|████████████████▍                                                            | 857/4000 [23:06<1:22:25,  1.57s/it]\n",
            " 21%|████████████████▌                                                            | 858/4000 [23:08<1:21:18,  1.55s/it]\n",
            " 21%|████████████████▌                                                            | 859/4000 [23:09<1:21:45,  1.56s/it]\n",
            " 22%|████████████████▌                                                            | 860/4000 [23:11<1:21:16,  1.55s/it]\n",
            " 22%|████████████████▌                                                            | 861/4000 [23:13<1:23:19,  1.59s/it]\n",
            " 22%|████████████████▌                                                            | 862/4000 [23:14<1:24:21,  1.61s/it]\n",
            " 22%|████████████████▌                                                            | 863/4000 [23:16<1:23:50,  1.60s/it]\n",
            " 22%|████████████████▋                                                            | 864/4000 [23:17<1:21:57,  1.57s/it]\n",
            " 22%|████████████████▋                                                            | 865/4000 [23:19<1:19:54,  1.53s/it]\n",
            " 22%|████████████████▋                                                            | 866/4000 [23:20<1:18:16,  1.50s/it]\n",
            " 22%|████████████████▋                                                            | 867/4000 [23:22<1:17:08,  1.48s/it]\n",
            " 22%|████████████████▋                                                            | 868/4000 [23:23<1:16:25,  1.46s/it]\n",
            " 22%|████████████████▋                                                            | 869/4000 [23:25<1:16:17,  1.46s/it]\n",
            " 22%|████████████████▋                                                            | 870/4000 [23:26<1:15:54,  1.46s/it]\n",
            " 22%|████████████████▊                                                            | 871/4000 [23:27<1:15:25,  1.45s/it]\n",
            " 22%|████████████████▊                                                            | 872/4000 [23:29<1:15:06,  1.44s/it]\n",
            " 22%|████████████████▊                                                            | 873/4000 [23:30<1:14:45,  1.43s/it]\n",
            " 22%|████████████████▊                                                            | 874/4000 [23:32<1:14:34,  1.43s/it]\n",
            " 22%|████████████████▊                                                            | 875/4000 [23:33<1:14:30,  1.43s/it]\n",
            " 22%|████████████████▊                                                            | 876/4000 [23:35<1:14:43,  1.44s/it]\n",
            " 22%|████████████████▉                                                            | 877/4000 [23:36<1:14:46,  1.44s/it]\n",
            " 22%|████████████████▉                                                            | 878/4000 [23:37<1:15:05,  1.44s/it]\n",
            " 22%|████████████████▉                                                            | 879/4000 [23:39<1:14:43,  1.44s/it]\n",
            " 22%|████████████████▉                                                            | 880/4000 [23:40<1:14:36,  1.43s/it]\n",
            " 22%|████████████████▉                                                            | 881/4000 [23:42<1:14:21,  1.43s/it]\n",
            " 22%|████████████████▉                                                            | 882/4000 [23:43<1:14:17,  1.43s/it]\n",
            " 22%|████████████████▉                                                            | 883/4000 [23:45<1:14:29,  1.43s/it]\n",
            " 22%|█████████████████                                                            | 884/4000 [23:46<1:14:41,  1.44s/it]\n",
            " 22%|█████████████████                                                            | 885/4000 [23:47<1:14:54,  1.44s/it]\n",
            " 22%|█████████████████                                                            | 886/4000 [23:49<1:14:44,  1.44s/it]\n",
            " 22%|█████████████████                                                            | 887/4000 [23:50<1:14:26,  1.43s/it]\n",
            " 22%|█████████████████                                                            | 888/4000 [23:52<1:14:15,  1.43s/it]\n",
            " 22%|█████████████████                                                            | 889/4000 [23:53<1:14:54,  1.44s/it]\n",
            " 22%|█████████████████▏                                                           | 890/4000 [23:55<1:14:40,  1.44s/it]\n",
            " 22%|█████████████████▏                                                           | 891/4000 [23:56<1:14:22,  1.44s/it]\n",
            " 22%|█████████████████▏                                                           | 892/4000 [23:58<1:16:58,  1.49s/it]\n",
            " 22%|█████████████████▏                                                           | 893/4000 [23:59<1:19:17,  1.53s/it]\n",
            " 22%|█████████████████▏                                                           | 894/4000 [24:01<1:19:43,  1.54s/it]\n",
            " 22%|█████████████████▏                                                           | 895/4000 [24:03<1:20:57,  1.56s/it]\n",
            " 22%|█████████████████▏                                                           | 896/4000 [24:04<1:20:51,  1.56s/it]\n",
            " 22%|█████████████████▎                                                           | 897/4000 [24:06<1:20:26,  1.56s/it]\n",
            " 22%|█████████████████▎                                                           | 898/4000 [24:07<1:19:44,  1.54s/it]\n",
            " 22%|█████████████████▎                                                           | 899/4000 [24:09<1:19:12,  1.53s/it]\n",
            " 22%|█████████████████▎                                                           | 900/4000 [24:10<1:18:57,  1.53s/it]\n",
            " 23%|█████████████████▎                                                           | 901/4000 [24:12<1:19:03,  1.53s/it]\n",
            " 23%|█████████████████▎                                                           | 902/4000 [24:13<1:19:03,  1.53s/it]\n",
            " 23%|█████████████████▍                                                           | 903/4000 [24:15<1:20:21,  1.56s/it]\n",
            " 23%|█████████████████▍                                                           | 904/4000 [24:16<1:19:38,  1.54s/it]\n",
            " 23%|█████████████████▍                                                           | 905/4000 [24:18<1:19:36,  1.54s/it]\n",
            " 23%|█████████████████▍                                                           | 906/4000 [24:19<1:19:56,  1.55s/it]\n",
            " 23%|█████████████████▍                                                           | 907/4000 [24:21<1:19:07,  1.53s/it]\n",
            " 23%|█████████████████▍                                                           | 908/4000 [24:22<1:18:52,  1.53s/it]\n",
            " 23%|█████████████████▍                                                           | 909/4000 [24:24<1:19:09,  1.54s/it]\n",
            " 23%|█████████████████▌                                                           | 910/4000 [24:26<1:19:04,  1.54s/it]\n",
            " 23%|█████████████████▌                                                           | 911/4000 [24:27<1:18:33,  1.53s/it]\n",
            " 23%|█████████████████▌                                                           | 912/4000 [24:29<1:18:15,  1.52s/it]\n",
            " 23%|█████████████████▌                                                           | 913/4000 [24:30<1:19:39,  1.55s/it]\n",
            " 23%|█████████████████▌                                                           | 914/4000 [24:32<1:19:24,  1.54s/it]\n",
            " 23%|█████████████████▌                                                           | 915/4000 [24:33<1:18:52,  1.53s/it]\n",
            " 23%|█████████████████▋                                                           | 916/4000 [24:35<1:18:35,  1.53s/it]\n",
            " 23%|█████████████████▋                                                           | 917/4000 [24:36<1:18:46,  1.53s/it]\n",
            " 23%|█████████████████▋                                                           | 918/4000 [24:38<1:18:45,  1.53s/it]\n",
            " 23%|█████████████████▋                                                           | 919/4000 [24:39<1:18:23,  1.53s/it]\n",
            " 23%|█████████████████▋                                                           | 920/4000 [24:41<1:18:27,  1.53s/it]\n",
            " 23%|█████████████████▋                                                           | 921/4000 [24:42<1:18:45,  1.53s/it]\n",
            " 23%|█████████████████▋                                                           | 922/4000 [24:44<1:18:45,  1.54s/it]\n",
            " 23%|█████████████████▊                                                           | 923/4000 [24:46<1:19:43,  1.55s/it]\n",
            " 23%|█████████████████▊                                                           | 924/4000 [24:47<1:18:57,  1.54s/it]\n",
            " 23%|█████████████████▊                                                           | 925/4000 [24:49<1:18:43,  1.54s/it]\n",
            " 23%|█████████████████▊                                                           | 926/4000 [24:50<1:18:59,  1.54s/it]\n",
            " 23%|█████████████████▊                                                           | 927/4000 [24:52<1:18:30,  1.53s/it]\n",
            " 23%|█████████████████▊                                                           | 928/4000 [24:53<1:18:15,  1.53s/it]\n",
            " 23%|█████████████████▉                                                           | 929/4000 [24:55<1:17:49,  1.52s/it]\n",
            " 23%|█████████████████▉                                                           | 930/4000 [24:56<1:18:28,  1.53s/it]\n",
            " 23%|█████████████████▉                                                           | 931/4000 [24:58<1:18:36,  1.54s/it]\n",
            " 23%|█████████████████▉                                                           | 932/4000 [24:59<1:18:08,  1.53s/it]\n",
            " 23%|█████████████████▉                                                           | 933/4000 [25:01<1:18:26,  1.53s/it]\n",
            " 23%|█████████████████▉                                                           | 934/4000 [25:02<1:18:24,  1.53s/it]\n",
            " 23%|█████████████████▉                                                           | 935/4000 [25:04<1:17:59,  1.53s/it]\n",
            " 23%|██████████████████                                                           | 936/4000 [25:05<1:18:17,  1.53s/it]\n",
            " 23%|██████████████████                                                           | 937/4000 [25:07<1:17:39,  1.52s/it]\n",
            " 23%|██████████████████                                                           | 938/4000 [25:08<1:17:39,  1.52s/it]\n",
            " 23%|██████████████████                                                           | 939/4000 [25:10<1:17:20,  1.52s/it]\n",
            " 24%|██████████████████                                                           | 940/4000 [25:11<1:17:17,  1.52s/it]\n",
            " 24%|██████████████████                                                           | 941/4000 [25:13<1:17:30,  1.52s/it]\n",
            " 24%|██████████████████▏                                                          | 942/4000 [25:15<1:17:46,  1.53s/it]\n",
            " 24%|██████████████████▏                                                          | 943/4000 [25:16<1:17:55,  1.53s/it]\n",
            " 24%|██████████████████▏                                                          | 944/4000 [25:18<1:18:11,  1.54s/it]\n",
            " 24%|██████████████████▏                                                          | 945/4000 [25:19<1:18:08,  1.53s/it]\n",
            " 24%|██████████████████▏                                                          | 946/4000 [25:21<1:17:54,  1.53s/it]\n",
            " 24%|██████████████████▏                                                          | 947/4000 [25:22<1:17:28,  1.52s/it]\n",
            " 24%|██████████████████▏                                                          | 948/4000 [25:24<1:18:50,  1.55s/it]\n",
            " 24%|██████████████████▎                                                          | 949/4000 [25:25<1:18:06,  1.54s/it]\n",
            " 24%|██████████████████▎                                                          | 950/4000 [25:27<1:17:37,  1.53s/it]\n",
            " 24%|██████████████████▎                                                          | 951/4000 [25:28<1:17:12,  1.52s/it]\n",
            " 24%|██████████████████▎                                                          | 952/4000 [25:30<1:17:10,  1.52s/it]\n"
          ],
          "name": "stderr"
        },
        {
          "output_type": "stream",
          "text": [
            " 24%|██████████████████▎                                                          | 953/4000 [25:31<1:17:08,  1.52s/it]\n",
            " 24%|██████████████████▎                                                          | 954/4000 [25:33<1:17:33,  1.53s/it]\n",
            " 24%|██████████████████▍                                                          | 955/4000 [25:34<1:17:35,  1.53s/it]\n",
            " 24%|██████████████████▍                                                          | 956/4000 [25:36<1:17:10,  1.52s/it]\n",
            " 24%|██████████████████▍                                                          | 957/4000 [25:37<1:16:56,  1.52s/it]\n",
            " 24%|██████████████████▍                                                          | 958/4000 [25:39<1:16:53,  1.52s/it]\n",
            " 24%|██████████████████▍                                                          | 959/4000 [25:40<1:16:41,  1.51s/it]\n",
            " 24%|██████████████████▍                                                          | 960/4000 [25:42<1:17:57,  1.54s/it]\n",
            " 24%|██████████████████▍                                                          | 961/4000 [25:44<1:18:13,  1.54s/it]\n",
            " 24%|██████████████████▌                                                          | 962/4000 [25:45<1:18:08,  1.54s/it]\n",
            " 24%|██████████████████▌                                                          | 963/4000 [25:47<1:17:42,  1.54s/it]\n",
            " 24%|██████████████████▌                                                          | 964/4000 [25:48<1:17:14,  1.53s/it]\n",
            " 24%|██████████████████▌                                                          | 965/4000 [25:50<1:16:55,  1.52s/it]\n",
            " 24%|██████████████████▌                                                          | 966/4000 [25:51<1:16:44,  1.52s/it]\n",
            " 24%|██████████████████▌                                                          | 967/4000 [25:53<1:17:23,  1.53s/it]\n",
            " 24%|██████████████████▋                                                          | 968/4000 [25:54<1:17:19,  1.53s/it]\n",
            " 24%|██████████████████▋                                                          | 969/4000 [25:56<1:16:52,  1.52s/it]\n",
            " 24%|██████████████████▋                                                          | 970/4000 [25:57<1:19:09,  1.57s/it]\n",
            " 24%|██████████████████▋                                                          | 971/4000 [25:59<1:18:53,  1.56s/it]\n",
            " 24%|██████████████████▋                                                          | 972/4000 [26:01<1:19:10,  1.57s/it]\n",
            " 24%|██████████████████▋                                                          | 973/4000 [26:02<1:19:47,  1.58s/it]\n",
            " 24%|██████████████████▋                                                          | 974/4000 [26:04<1:19:29,  1.58s/it]\n",
            " 24%|██████████████████▊                                                          | 975/4000 [26:05<1:18:32,  1.56s/it]\n",
            " 24%|██████████████████▊                                                          | 976/4000 [26:07<1:18:37,  1.56s/it]\n",
            " 24%|██████████████████▊                                                          | 977/4000 [26:09<1:21:36,  1.62s/it]\n",
            " 24%|██████████████████▊                                                          | 978/4000 [26:10<1:20:05,  1.59s/it]\n",
            " 24%|██████████████████▊                                                          | 979/4000 [26:12<1:20:32,  1.60s/it]\n",
            " 24%|██████████████████▊                                                          | 980/4000 [26:13<1:21:37,  1.62s/it]\n",
            " 25%|██████████████████▉                                                          | 981/4000 [26:15<1:20:27,  1.60s/it]\n",
            " 25%|██████████████████▉                                                          | 982/4000 [26:17<1:19:19,  1.58s/it]\n",
            " 25%|██████████████████▉                                                          | 983/4000 [26:18<1:18:23,  1.56s/it]\n",
            " 25%|██████████████████▉                                                          | 984/4000 [26:20<1:18:05,  1.55s/it]\n",
            " 25%|██████████████████▉                                                          | 985/4000 [26:21<1:17:18,  1.54s/it]\n",
            " 25%|██████████████████▉                                                          | 986/4000 [26:23<1:17:26,  1.54s/it]\n",
            " 25%|██████████████████▉                                                          | 987/4000 [26:24<1:17:14,  1.54s/it]\n",
            " 25%|███████████████████                                                          | 988/4000 [26:26<1:17:30,  1.54s/it]\n",
            " 25%|███████████████████                                                          | 989/4000 [26:27<1:17:15,  1.54s/it]\n",
            " 25%|███████████████████                                                          | 990/4000 [26:29<1:16:39,  1.53s/it]\n",
            " 25%|███████████████████                                                          | 991/4000 [26:30<1:16:13,  1.52s/it]\n",
            " 25%|███████████████████                                                          | 992/4000 [26:32<1:15:55,  1.51s/it]\n",
            " 25%|███████████████████                                                          | 993/4000 [26:33<1:18:43,  1.57s/it]\n",
            " 25%|███████████████████▏                                                         | 994/4000 [26:35<1:17:53,  1.55s/it]\n",
            " 25%|███████████████████▏                                                         | 995/4000 [26:36<1:17:28,  1.55s/it]\n",
            " 25%|███████████████████▏                                                         | 996/4000 [26:38<1:18:57,  1.58s/it]\n",
            " 25%|███████████████████▏                                                         | 997/4000 [26:40<1:19:40,  1.59s/it]\n",
            " 25%|███████████████████▏                                                         | 998/4000 [26:41<1:18:22,  1.57s/it]\n",
            " 25%|███████████████████▏                                                         | 999/4000 [26:43<1:17:37,  1.55s/it]"
          ],
          "name": "stderr"
        }
      ]
    },
    {
      "metadata": {
        "id": "SJpEGg7F-nd_",
        "colab_type": "code",
        "colab": {}
      },
      "cell_type": "code",
      "source": [
        "path_word2vec = \"drive/My Drive/data/models/word2vec/\"\n",
        "with open(path_word2vec + 'prepocessed_train_texts.pkl', 'wb') as fp:\n",
        "    pickle.dump(prepocessed_train_texts, fp)\n",
        "\n",
        "with open(path_word2vec + 'prepocessed_texts_test.pkl', 'wb') as fp:\n",
        "    pickle.dump(prepocessed_texts, fp)"
      ],
      "execution_count": 0,
      "outputs": []
    },
    {
      "metadata": {
        "id": "yAzKGwLb-neF",
        "colab_type": "code",
        "colab": {}
      },
      "cell_type": "code",
      "source": [
        "cwd = os.getcwd()\n",
        "\n",
        "model_path = cwd + '\\\\models\\\\word2vec\\\\ruwikiruscorpora-nobigrams_upos_skipgram_300_5_2018.vec.gz'\n",
        "model = gensim.models.KeyedVectors.load_word2vec_format(model_path, binary=False)"
      ],
      "execution_count": 0,
      "outputs": []
    },
    {
      "metadata": {
        "id": "UQder332-neG",
        "colab_type": "code",
        "colab": {}
      },
      "cell_type": "code",
      "source": [
        "#model.most_similar('платить_VERB')\n",
        "#word_vector = model['платить_VERB']\n",
        "#word_vector.shape"
      ],
      "execution_count": 0,
      "outputs": []
    },
    {
      "metadata": {
        "id": "bKxDhN3n-neJ",
        "colab_type": "code",
        "outputId": "c3ec438a-f077-4d78-cbf6-91434402f25b",
        "colab": {}
      },
      "cell_type": "code",
      "source": [
        "#model.most_similar('платить_VERB')\n",
        "#word_vector = model['платить_VERB']\n",
        "#word_vector.shape\n",
        "model.most_similar('игра_NOUN')"
      ],
      "execution_count": 0,
      "outputs": [
        {
          "output_type": "execute_result",
          "data": {
            "text/plain": [
              "[('играмм_NOUN', 0.6844817399978638),\n",
              " ('игругой_NOUN', 0.6661473512649536),\n",
              " ('игра_PROPN', 0.6560357809066772),\n",
              " ('игре_VERB', 0.6470746994018555),\n",
              " ('игр_NOUN', 0.6220640540122986),\n",
              " ('видеоигра_NOUN', 0.6018214225769043),\n",
              " ('dishonored_PROPN', 0.5930976867675781),\n",
              " ('littlebigplanet_PROPN', 0.5877217054367065),\n",
              " (\"mirror's_PROPN\", 0.5868256688117981),\n",
              " ('moba_PROPN', 0.5865598320960999)]"
            ]
          },
          "metadata": {
            "tags": []
          },
          "execution_count": 42
        }
      ]
    },
    {
      "metadata": {
        "id": "VYLURRZL-neL",
        "colab_type": "code",
        "colab": {}
      },
      "cell_type": "code",
      "source": [
        "word_vector = model['и']\n",
        "word_vector.shape"
      ],
      "execution_count": 0,
      "outputs": []
    },
    {
      "metadata": {
        "id": "g6GxZvlq-neO",
        "colab_type": "code",
        "outputId": "4ea32a61-90b3-4769-895c-30dc3df5299e",
        "colab": {}
      },
      "cell_type": "code",
      "source": [
        "%%time\n",
        "tokenizer = Tokenizer(num_words=max_features)\n",
        "\n",
        "tokenizer.fit_on_texts(prepocessed_texts)\n",
        "\n",
        "x_train_tokenized = tokenizer.texts_to_sequences(prepocessed_texts)\n",
        "x_test_tokenized  = tokenizer.texts_to_sequences(prepocessed_texts_test)"
      ],
      "execution_count": 0,
      "outputs": [
        {
          "output_type": "stream",
          "text": [
            "Wall time: 97.3 ms\n"
          ],
          "name": "stdout"
        }
      ]
    },
    {
      "metadata": {
        "id": "4n_oVH1_-neP",
        "colab_type": "code",
        "outputId": "6118eba0-5207-47b6-938a-2efaf53354e3",
        "colab": {}
      },
      "cell_type": "code",
      "source": [
        "%%time\n",
        "x_train_tokenized = sequence.pad_sequences(x_train_tokenized, padding='post', maxlen=maxlen)\n",
        "x_test_tokenized = sequence.pad_sequences(x_test_tokenized, padding='post', maxlen=maxlen)"
      ],
      "execution_count": 0,
      "outputs": [
        {
          "output_type": "stream",
          "text": [
            "Wall time: 22.9 ms\n"
          ],
          "name": "stdout"
        }
      ]
    },
    {
      "metadata": {
        "id": "h-JXBknJ-neR",
        "colab_type": "code",
        "colab": {}
      },
      "cell_type": "code",
      "source": [
        "max_features = 5000\n",
        "maxlen = 100\n",
        "MAX_SEQUENCE_LENGTH = 100\n",
        "word_index = tokenizer.word_index\n",
        "EMBEDDING_DIM = 64"
      ],
      "execution_count": 0,
      "outputs": []
    },
    {
      "metadata": {
        "id": "-NKI2RI6-neS",
        "colab_type": "code",
        "colab": {}
      },
      "cell_type": "code",
      "source": [
        "embedding_matrix = np.zeros((len(word_index) + 1, EMBEDDING_DIM))\n",
        "for word, i in word_index.items():\n",
        "    try:\n",
        "        embedding_vector = model[word]\n",
        "        if embedding_vector is not None:\n",
        "            # words not found in embedding index will be all-zeros.\n",
        "            embedding_matrix[i] = embedding_vector\n",
        "    except KeyError: #for case when words not found\n",
        "        continue"
      ],
      "execution_count": 0,
      "outputs": []
    },
    {
      "metadata": {
        "id": "Ejxp8N0J-neT",
        "colab_type": "code",
        "colab": {}
      },
      "cell_type": "code",
      "source": [
        "embedding_layer = Embedding(len(word_index) + 1,\n",
        "                            EMBEDDING_DIM,\n",
        "                            weights=[embedding_matrix],\n",
        "                            input_length=MAX_SEQUENCE_LENGTH,\n",
        "                            trainable=False)"
      ],
      "execution_count": 0,
      "outputs": []
    },
    {
      "metadata": {
        "id": "cdfGAvkK-neX",
        "colab_type": "code",
        "colab": {}
      },
      "cell_type": "code",
      "source": [
        "# REWORK IT!\n",
        "\n",
        "sequence_input = Input(shape=(MAX_SEQUENCE_LENGTH,), dtype='int32')\n",
        "\n",
        "embedded_sequences = embedding_layer(sequence_input)\n",
        "x = Conv1D(128, 5, activation='relu')(embedded_sequences)\n",
        "x = MaxPooling1D(5)(x)\n",
        "x = Conv1D(128, 5, activation='relu')(x)\n",
        "x = MaxPooling1D(5)(x)\n",
        "x = Conv1D(128, 5, activation='relu')(x)\n",
        "x = MaxPooling1D(35)(x)  # global max pooling\n",
        "x = Flatten()(x)\n",
        "x = Dense(128, activation='relu')(x)\n",
        "preds = Dense(5, activation='softmax')(x)\n",
        "\n",
        "model = Model(sequence_input, preds)\n",
        "model.compile(loss='categorical_crossentropy',\n",
        "              optimizer='rmsprop',\n",
        "              metrics=['acc'])\n",
        "\n",
        "# happy learning!\n",
        "model.fit(x_train, y_train, validation_data=(x_test, y_test),\n",
        "          epochs=2, batch_size=32)"
      ],
      "execution_count": 0,
      "outputs": []
    },
    {
      "metadata": {
        "id": "ZA7LhDgZ-neY",
        "colab_type": "code",
        "colab": {}
      },
      "cell_type": "code",
      "source": [
        ""
      ],
      "execution_count": 0,
      "outputs": []
    }
  ]
}