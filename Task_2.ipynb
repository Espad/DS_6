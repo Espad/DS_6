{
 "cells": [
  {
   "cell_type": "markdown",
   "metadata": {},
   "source": [
    "Задача - multi-label классификация - освежить память что это значит (https://scikit-learn.org/stable/modules/multiclass.html).\n",
    "\n",
    "Тартеты: 14 последних колонок - df.iloc[:,-14:]\n",
    "\n",
    "Метрика: Micro averaged F1. Хорошо бы оценивать качество с помощью кросс-валидации.\n",
    "\n",
    "- Построить baseline с использованием линейной модели из scikit-learn\n",
    "\n",
    "\n",
    "- Чистый Tensorflow\n",
    "\n",
    "Построить линейную модель для решения этой задачи. Можно взять существующий код из блокнота Tensorflow examples 1.ipynb и переделать.\n",
    "\n",
    "\n",
    "- Keras\n",
    "\n",
    "Сделать тоже самое как и в Tensorflow но использовав чистый Keras\n",
    "\n",
    "Добавить слоёв и нелинейностей, сравнить качество моделей\n"
   ]
  },
  {
   "cell_type": "code",
   "execution_count": 1,
   "metadata": {},
   "outputs": [
    {
     "name": "stdout",
     "output_type": "stream",
     "text": [
      "Requirement already up-to-date: pandas in c:\\anaconda\\lib\\site-packages (0.24.1)\n",
      "Requirement already satisfied, skipping upgrade: pytz>=2011k in c:\\anaconda\\lib\\site-packages (from pandas) (2018.9)\n",
      "Requirement already satisfied, skipping upgrade: python-dateutil>=2.5.0 in c:\\anaconda\\lib\\site-packages (from pandas) (2.7.5)\n",
      "Requirement already satisfied, skipping upgrade: numpy>=1.12.0 in c:\\anaconda\\lib\\site-packages (from pandas) (1.13.3)\n",
      "Requirement already satisfied, skipping upgrade: six>=1.5 in c:\\anaconda\\lib\\site-packages (from python-dateutil>=2.5.0->pandas) (1.12.0)\n",
      "Requirement already up-to-date: scikit-learn in c:\\anaconda\\lib\\site-packages (0.20.2)\n",
      "Requirement already satisfied, skipping upgrade: numpy>=1.8.2 in c:\\anaconda\\lib\\site-packages (from scikit-learn) (1.13.3)\n",
      "Requirement already satisfied, skipping upgrade: scipy>=0.13.3 in c:\\anaconda\\lib\\site-packages (from scikit-learn) (1.2.0)\n",
      "Requirement already up-to-date: inflect in c:\\anaconda\\lib\\site-packages (2.1.0)\n",
      "Requirement already up-to-date: seaborn in c:\\anaconda\\lib\\site-packages (0.9.0)\n",
      "Requirement already satisfied, skipping upgrade: pandas>=0.15.2 in c:\\anaconda\\lib\\site-packages (from seaborn) (0.24.1)\n",
      "Requirement already satisfied, skipping upgrade: scipy>=0.14.0 in c:\\anaconda\\lib\\site-packages (from seaborn) (1.2.0)\n",
      "Requirement already satisfied, skipping upgrade: matplotlib>=1.4.3 in c:\\anaconda\\lib\\site-packages (from seaborn) (3.0.2)\n",
      "Requirement already satisfied, skipping upgrade: numpy>=1.9.3 in c:\\anaconda\\lib\\site-packages (from seaborn) (1.13.3)\n",
      "Requirement already satisfied, skipping upgrade: python-dateutil>=2.5.0 in c:\\anaconda\\lib\\site-packages (from pandas>=0.15.2->seaborn) (2.7.5)\n",
      "Requirement already satisfied, skipping upgrade: pytz>=2011k in c:\\anaconda\\lib\\site-packages (from pandas>=0.15.2->seaborn) (2018.9)\n",
      "Requirement already satisfied, skipping upgrade: cycler>=0.10 in c:\\anaconda\\lib\\site-packages (from matplotlib>=1.4.3->seaborn) (0.10.0)\n",
      "Requirement already satisfied, skipping upgrade: kiwisolver>=1.0.1 in c:\\anaconda\\lib\\site-packages (from matplotlib>=1.4.3->seaborn) (1.0.1)\n",
      "Requirement already satisfied, skipping upgrade: pyparsing!=2.0.4,!=2.1.2,!=2.1.6,>=2.0.1 in c:\\anaconda\\lib\\site-packages (from matplotlib>=1.4.3->seaborn) (2.3.1)\n",
      "Requirement already satisfied, skipping upgrade: six>=1.5 in c:\\anaconda\\lib\\site-packages (from python-dateutil>=2.5.0->pandas>=0.15.2->seaborn) (1.12.0)\n",
      "Requirement already satisfied, skipping upgrade: setuptools in c:\\anaconda\\lib\\site-packages (from kiwisolver>=1.0.1->matplotlib>=1.4.3->seaborn) (40.6.3)\n",
      "Requirement already up-to-date: pprint in c:\\anaconda\\lib\\site-packages (0.1)\n",
      "Requirement already up-to-date: tensorflow in c:\\anaconda\\lib\\site-packages (1.12.0)\n",
      "Requirement already satisfied, skipping upgrade: protobuf>=3.6.1 in c:\\anaconda\\lib\\site-packages (from tensorflow) (3.6.1)\n",
      "Requirement already satisfied, skipping upgrade: grpcio>=1.8.6 in c:\\anaconda\\lib\\site-packages (from tensorflow) (1.16.1)\n",
      "Requirement already satisfied, skipping upgrade: keras-applications>=1.0.6 in c:\\anaconda\\lib\\site-packages (from tensorflow) (1.0.6)\n",
      "Requirement already satisfied, skipping upgrade: six>=1.10.0 in c:\\anaconda\\lib\\site-packages (from tensorflow) (1.12.0)\n",
      "Requirement already satisfied, skipping upgrade: keras-preprocessing>=1.0.5 in c:\\anaconda\\lib\\site-packages (from tensorflow) (1.0.5)\n",
      "Requirement already satisfied, skipping upgrade: termcolor>=1.1.0 in c:\\anaconda\\lib\\site-packages (from tensorflow) (1.1.0)\n",
      "Requirement already satisfied, skipping upgrade: wheel>=0.26 in c:\\anaconda\\lib\\site-packages (from tensorflow) (0.32.3)\n",
      "Requirement already satisfied, skipping upgrade: gast>=0.2.0 in c:\\anaconda\\lib\\site-packages (from tensorflow) (0.2.2)\n",
      "Requirement already satisfied, skipping upgrade: tensorboard<1.13.0,>=1.12.0 in c:\\anaconda\\lib\\site-packages (from tensorflow) (1.12.2)\n",
      "Requirement already satisfied, skipping upgrade: numpy>=1.13.3 in c:\\anaconda\\lib\\site-packages (from tensorflow) (1.13.3)\n",
      "Requirement already satisfied, skipping upgrade: astor>=0.6.0 in c:\\anaconda\\lib\\site-packages (from tensorflow) (0.7.1)\n",
      "Requirement already satisfied, skipping upgrade: absl-py>=0.1.6 in c:\\anaconda\\lib\\site-packages (from tensorflow) (0.7.0)\n",
      "Requirement already satisfied, skipping upgrade: setuptools in c:\\anaconda\\lib\\site-packages (from protobuf>=3.6.1->tensorflow) (40.6.3)\n",
      "Requirement already satisfied, skipping upgrade: h5py in c:\\anaconda\\lib\\site-packages (from keras-applications>=1.0.6->tensorflow) (2.8.0)\n",
      "Requirement already satisfied, skipping upgrade: werkzeug>=0.11.10 in c:\\anaconda\\lib\\site-packages (from tensorboard<1.13.0,>=1.12.0->tensorflow) (0.14.1)\n",
      "Requirement already satisfied, skipping upgrade: markdown>=2.6.8 in c:\\anaconda\\lib\\site-packages (from tensorboard<1.13.0,>=1.12.0->tensorflow) (3.0.1)\n"
     ]
    }
   ],
   "source": [
    "!pip install --upgrade pandas\n",
    "!pip install --upgrade scikit-learn\n",
    "!pip install --upgrade inflect\n",
    "!pip install --upgrade seaborn\n",
    "!pip install --upgrade pprint\n",
    "!pip install --upgrade tensorflow\n",
    "#!pip install --upgrade contractions\n",
    "#!pip install --upgrade wordcloud\n",
    "#!pip install --upgrade umap-learn\n",
    "#!pip install --upgrade gensim\n",
    "#!pip install --upgrade pyldavis"
   ]
  },
  {
   "cell_type": "code",
   "execution_count": 2,
   "metadata": {},
   "outputs": [],
   "source": [
    "#common libs\n",
    "import numpy as np\n",
    "import pandas as pd\n",
    "import scipy.stats as st\n",
    "from matplotlib import pyplot as plt\n",
    "import seaborn as sns\n",
    "\n",
    "import re\n",
    "import string\n",
    "import inflect\n",
    "import itertools\n",
    "from pprint import pprint\n",
    "from tqdm import tqdm\n",
    "from time import time\n",
    "from itertools import compress\n",
    "from collections import Counter\n",
    "#import glob\n",
    "#import contractions\n",
    "#from wordcloud import WordCloud\n",
    "#import umap\n",
    "#import unicodedata\n",
    "#from bs4 import BeautifulSoup\n",
    "\n",
    "#import time\n",
    "\n",
    "#from scipy import interp\n",
    "\n",
    "import pickle\n",
    "sns.set(font_scale=1.3)\n",
    "\n",
    "seed = 321\n",
    "\n",
    "%matplotlib inline"
   ]
  },
  {
   "cell_type": "code",
   "execution_count": 3,
   "metadata": {},
   "outputs": [],
   "source": [
    "#sklearn libs\n",
    "from sklearn.preprocessing import label_binarize,MultiLabelBinarizer,StandardScaler\n",
    "from sklearn.pipeline import make_pipeline,Pipeline\n",
    "\n",
    "from sklearn.linear_model import LogisticRegression,SGDClassifier\n",
    "from sklearn.svm import SVC,LinearSVC\n",
    "from sklearn.naive_bayes import GaussianNB, MultinomialNB, BernoulliNB\n",
    "from sklearn.cluster import KMeans,DBSCAN\n",
    "\n",
    "from sklearn.model_selection import GridSearchCV, StratifiedKFold, train_test_split \n",
    "from sklearn.model_selection import KFold,RandomizedSearchCV, cross_val_score\n",
    "\n",
    "from sklearn.multiclass import OneVsRestClassifier\n",
    "\n",
    "from sklearn.metrics import confusion_matrix, classification_report,f1_score, make_scorer\n",
    "from sklearn.metrics import homogeneity_score,completeness_score, v_measure_score\n",
    "from sklearn.metrics import adjusted_rand_score,adjusted_mutual_info_score,silhouette_score\n",
    "from sklearn.manifold import TSNE\n",
    "\n",
    "from sklearn.decomposition import TruncatedSVD\n",
    "\n",
    "from sklearn.feature_extraction.text import TfidfVectorizer,CountVectorizer\n",
    "from sklearn.feature_extraction.stop_words import ENGLISH_STOP_WORDS"
   ]
  },
  {
   "cell_type": "code",
   "execution_count": 35,
   "metadata": {},
   "outputs": [],
   "source": [
    "import tensorflow as tf"
   ]
  },
  {
   "cell_type": "code",
   "execution_count": 5,
   "metadata": {},
   "outputs": [
    {
     "name": "stderr",
     "output_type": "stream",
     "text": [
      "Using TensorFlow backend.\n"
     ]
    }
   ],
   "source": [
    "import keras\n",
    "import json\n",
    "import operator\n",
    "from keras.models import Sequential\n",
    "from keras.layers import Dense, Dropout, Activation\n",
    "from keras.metrics import binary_accuracy,categorical_accuracy\n",
    "from keras.callbacks import EarlyStopping, ModelCheckpoint\n",
    "from keras.models import model_from_json"
   ]
  },
  {
   "cell_type": "code",
   "execution_count": 6,
   "metadata": {},
   "outputs": [
    {
     "name": "stderr",
     "output_type": "stream",
     "text": [
      "[nltk_data] Downloading package punkt to\n",
      "[nltk_data]     C:\\Users\\chief\\AppData\\Roaming\\nltk_data...\n",
      "[nltk_data]   Package punkt is already up-to-date!\n",
      "[nltk_data] Downloading package stopwords to\n",
      "[nltk_data]     C:\\Users\\chief\\AppData\\Roaming\\nltk_data...\n",
      "[nltk_data]   Package stopwords is already up-to-date!\n",
      "[nltk_data] Downloading package wordnet to\n",
      "[nltk_data]     C:\\Users\\chief\\AppData\\Roaming\\nltk_data...\n",
      "[nltk_data]   Package wordnet is already up-to-date!\n",
      "[nltk_data] Downloading package names to\n",
      "[nltk_data]     C:\\Users\\chief\\AppData\\Roaming\\nltk_data...\n",
      "[nltk_data]   Package names is already up-to-date!\n"
     ]
    }
   ],
   "source": [
    "import nltk\n",
    "nltk.download('punkt')\n",
    "nltk.download(\"stopwords\")\n",
    "nltk.download('wordnet')\n",
    "nltk.download('names')\n",
    "\n",
    "from nltk.corpus import names\n",
    "from nltk.corpus import stopwords\n",
    "from nltk import ngrams\n",
    "\n",
    "from nltk import word_tokenize\n",
    "from nltk.stem.porter import PorterStemmer # one more stemmer? or lemmatisation\n",
    "from nltk.stem import WordNetLemmatizer,LancasterStemmer"
   ]
  },
  {
   "cell_type": "markdown",
   "metadata": {},
   "source": [
    "#### EDA."
   ]
  },
  {
   "cell_type": "markdown",
   "metadata": {},
   "source": [
    "read first ten row to understand, how to parse data."
   ]
  },
  {
   "cell_type": "code",
   "execution_count": 7,
   "metadata": {},
   "outputs": [],
   "source": [
    "x_data, y_data = pickle.load(open('data/task_2/reviews_dataset.pkl', 'rb'))"
   ]
  },
  {
   "cell_type": "code",
   "execution_count": 8,
   "metadata": {},
   "outputs": [
    {
     "data": {
      "text/plain": [
       "769251"
      ]
     },
     "execution_count": 8,
     "metadata": {},
     "output_type": "execute_result"
    }
   ],
   "source": [
    "len(x_data)"
   ]
  },
  {
   "cell_type": "code",
   "execution_count": 9,
   "metadata": {},
   "outputs": [
    {
     "data": {
      "text/plain": [
       "769251"
      ]
     },
     "execution_count": 9,
     "metadata": {},
     "output_type": "execute_result"
    }
   ],
   "source": [
    "len(y_data)"
   ]
  },
  {
   "cell_type": "code",
   "execution_count": 10,
   "metadata": {},
   "outputs": [
    {
     "data": {
      "text/plain": [
       "'Потрясающе красивая графика космоса! Уже за это игру можно полюбить. Так же в наличии интересный осмысленный сюжет и удобное управление.'"
      ]
     },
     "execution_count": 10,
     "metadata": {},
     "output_type": "execute_result"
    }
   ],
   "source": [
    "x_data[0]"
   ]
  },
  {
   "cell_type": "code",
   "execution_count": 11,
   "metadata": {},
   "outputs": [
    {
     "data": {
      "text/plain": [
       "5"
      ]
     },
     "execution_count": 11,
     "metadata": {},
     "output_type": "execute_result"
    }
   ],
   "source": [
    "y_data[0]"
   ]
  },
  {
   "cell_type": "markdown",
   "metadata": {},
   "source": [
    "Baseline.\n",
    "\n",
    "Обучить линейную модель на TF-IDF представлении для предсказания оценки пользователя по его отзыву. \n",
    "\n",
    "Посмотреть на важность для каждой оценки."
   ]
  },
  {
   "cell_type": "code",
   "execution_count": 12,
   "metadata": {},
   "outputs": [],
   "source": [
    "def remove_emails(text):\n",
    "    text = re.sub(r'\\S*@\\S*\\s?','',text)    \n",
    "    return text\n",
    "\n",
    "\n",
    "#version on raw text\n",
    "def remove_punctuation2(text_punctuation,text):\n",
    "    \n",
    "    new_text = []\n",
    "    new_text = re.sub('\\n', ' ',text)\n",
    "    new_text = re.sub('\\t', '',new_text)\n",
    "    new_text = re.sub('['+text_punctuation+']', ' ',new_text)\n",
    "    new_text =  new_text.strip()\n",
    "    \n",
    "    return new_text\n",
    "\n",
    "#version after word_tokenizer\n",
    "def remove_punctuation(text_punctuation,text):\n",
    "    \n",
    "    new_text = []\n",
    "    for word in text: \n",
    "        new_word =  re.sub('['+text_punctuation+']', ' ',word)\n",
    "        new_word =  new_word.strip()\n",
    "        new_text.append(new_word)\n",
    "    \n",
    "    return new_text\n",
    "\n",
    "\n",
    "#ntlk word lemmatizer\n",
    "def lemmatize_stemm_text(text):\n",
    "    new_text_lemma = []\n",
    "    new_text_stemm = []\n",
    "    \n",
    "    lemmatizer = WordNetLemmatizer()\n",
    "    stemmer = LancasterStemmer()\n",
    "    \n",
    "    for word in text:\n",
    "        lemma = lemmatizer.lemmatize(word, pos='n') # v default\n",
    "        new_text_lemma.append(lemma)\n",
    "        \n",
    "        #stemm = stemmer.stem(word)\n",
    "        #new_text_stemm.append(stemm)\n",
    "        \n",
    "    return new_text_lemma, new_text_stemm\n",
    "        \n",
    "\n",
    "StopWords = list(set(stopwords.words('russian')))\n",
    "'''\n",
    "StopWords = list(set( stopwords.words('english') ).union( set(ENGLISH_STOP_WORDS)))\n",
    "newStopWords = ['jfc','jb'] # по ходу работы периодически добавляем стоп-слова\n",
    "newStopWords2 = ['arent', 'didnt', 'doesnt', 'dont', 'hadnt', 'havent', 'isnt', \n",
    "                 'mightnt', 'mustnt', 'neednt', 'shant', 'shes', 'shouldnt', 'shouldve', 'theres','thatll', 'wasnt', \n",
    "                 'werent', 'wont', 'wouldnt', 'youd', 'youll', 'youre', 'youve',\n",
    "                 \"'ll\", \"'re\", \"'ve\", \"n't\", 'need', 'sha', 'anna','n t','ann mari', 'ann marie', \n",
    "                 'anna diana', 'anna diane', 'anna maria', 'anne corinne', 'anne mar', 'anne marie', \n",
    "                 'barbara anne', 'bette ann', 'carol jean', 'diane marie', 'e lane', 'hans peter', \n",
    "                 'helen elizabeth', 'holly anne', 'jean christophe', 'jean francois', 'jean lou', \n",
    "                 'jean luc', 'jean marc', 'jean paul', 'jean pierre', 'jo anne', 'john david', 'john patrick', \n",
    "                 'kara lynn', 'marie ann', 'marie jeanne', 'paula grace', 'sara ann', \n",
    "                 'sheila kathryn', 'sue elle', 'terri jo', 'theresa marie','sza']\n",
    "\n",
    "#StopWords.extend(newStopWords)\n",
    "#StopWords.extend(newStopWords2)\n",
    "\n",
    "\n",
    "male_names = names.words('male.txt')\n",
    "female_names = names.words('female.txt')\n",
    "\n",
    "Common_First_Names = list(set(male_names).union(set(female_names)))\n",
    "Common_First_Names = list(map(lambda word: word.lower(), Common_First_Names))\n",
    "# temporaly disabled to reduce tfidf time\n",
    "#StopWords.extend(Common_First_Names) ''';\n",
    "\n",
    "def remove_stopwords(stop_words ,text):\n",
    "    \n",
    "    new_words = []\n",
    "    for word in text:\n",
    "        if word not in stop_words:\n",
    "            new_words.append(word)\n",
    "\n",
    "    return new_words\n",
    "\n",
    "def remove_short_words(text, word_len):\n",
    "    new_text = []\n",
    "    for word in text:\n",
    "        if len(word) >= word_len:\n",
    "            new_text.append(word)\n",
    "            \n",
    "    return new_text\n",
    "\n",
    "\n",
    "# getting source from string.punctuation\n",
    "text_punctuation = '!\"#$%&\\'()*+,-.:;<=>?@[\\\\]_`{|}~/^'\n",
    "\n",
    "def tokenize(text):\n",
    "    min_length = 3\n",
    "    \n",
    "    # remove emails from text to prevent overfit\n",
    "    text = remove_emails(text)\n",
    "    \n",
    "    # text to lowercase\n",
    "    text =  text.lower()\n",
    "\n",
    "    \n",
    "    #remove punctuation\n",
    "    text = remove_punctuation2(text_punctuation, text) \n",
    "\n",
    "    # tokenize text\n",
    "    words = word_tokenize(text,language='english')\n",
    "\n",
    "       \n",
    "    # remove stopwords\n",
    "    words = remove_stopwords(StopWords,words)\n",
    "    \n",
    "    #lemmatize words ,improve to 0.69 f1score\n",
    "    words,_ = lemmatize_stemm_text(words)\n",
    "    \n",
    "    #filter short words\n",
    "    words = remove_short_words(words, 2) #default 3\n",
    "\n",
    "    return words"
   ]
  },
  {
   "cell_type": "code",
   "execution_count": 13,
   "metadata": {},
   "outputs": [
    {
     "name": "stdout",
     "output_type": "stream",
     "text": [
      "Wall time: 2.03 s\n"
     ]
    }
   ],
   "source": [
    "%%time\n",
    "test = tokenize(x_data[4])"
   ]
  },
  {
   "cell_type": "code",
   "execution_count": 14,
   "metadata": {},
   "outputs": [
    {
     "data": {
      "text/plain": [
       "['таки',\n",
       " 'удержался',\n",
       " 'написать',\n",
       " 'топ',\n",
       " 'скорей',\n",
       " 'сотрут',\n",
       " 'прочтет',\n",
       " 'ужасной',\n",
       " 'игры',\n",
       " 'star',\n",
       " 'war',\n",
       " 'empire',\n",
       " 'at',\n",
       " 'war',\n",
       " 'dvd',\n",
       " 'ещё',\n",
       " 'поискать',\n",
       " 'нормального',\n",
       " 'сюжета',\n",
       " 'стратегия',\n",
       " 'это',\n",
       " 'вовсе',\n",
       " 'провал',\n",
       " 'давно',\n",
       " 'убедился',\n",
       " 'всё',\n",
       " 'берётся',\n",
       " '1с',\n",
       " 'плане',\n",
       " 'игр',\n",
       " 'отстой',\n",
       " 'хорошая',\n",
       " 'стратегия',\n",
       " 'эпизодам',\n",
       " 'star',\n",
       " 'war',\n",
       " 'это',\n",
       " 'star',\n",
       " 'war',\n",
       " 'galactic',\n",
       " 'battleground',\n",
       " 'играл',\n",
       " 'поймет']"
      ]
     },
     "execution_count": 14,
     "metadata": {},
     "output_type": "execute_result"
    }
   ],
   "source": [
    "test"
   ]
  },
  {
   "cell_type": "code",
   "execution_count": 15,
   "metadata": {},
   "outputs": [],
   "source": [
    "x_train, x_test, y_train, y_test = train_test_split(x_data, y_data, random_state = seed, test_size=0.3, shuffle=True)"
   ]
  },
  {
   "cell_type": "code",
   "execution_count": 43,
   "metadata": {},
   "outputs": [],
   "source": [
    "vectorizer = TfidfVectorizer(stop_words=StopWords,\n",
    "                             tokenizer=tokenize, \n",
    "                             min_df=4, # ignore terms with freq less that т, lower majoring 4\n",
    "                             max_df=0.8, # ignore terms with freq more that n, upper majoring 0.8\n",
    "                             #max_features=100000,\n",
    "                             use_idf=True,  \n",
    "                             sublinear_tf=True,\n",
    "                             norm='l2',\n",
    "                             #ngram_range= (1, 3) # также используем н-граммы\n",
    "                            )"
   ]
  },
  {
   "cell_type": "code",
   "execution_count": 44,
   "metadata": {},
   "outputs": [],
   "source": [
    "%%time\n",
    "vectorised_train_documents = vectorizer.fit_transform(x_train)\n",
    "vectorised_test_documents = vectorizer.transform(x_test)"
   ]
  },
  {
   "cell_type": "code",
   "execution_count": 45,
   "metadata": {},
   "outputs": [
    {
     "data": {
      "text/plain": [
       "(538475, 143312)"
      ]
     },
     "execution_count": 45,
     "metadata": {},
     "output_type": "execute_result"
    }
   ],
   "source": [
    "vectorised_train_documents.shape"
   ]
  },
  {
   "cell_type": "code",
   "execution_count": 46,
   "metadata": {},
   "outputs": [
    {
     "data": {
      "text/plain": [
       "(230776, 143312)"
      ]
     },
     "execution_count": 46,
     "metadata": {},
     "output_type": "execute_result"
    }
   ],
   "source": [
    "vectorised_test_documents.shape"
   ]
  },
  {
   "cell_type": "code",
   "execution_count": 57,
   "metadata": {},
   "outputs": [],
   "source": [
    "def classify_and_score(classifier, X_train, X_test, y_train, y_test):\n",
    "    clf = classifier\n",
    "    clf.fit(X_train, y_train)\n",
    "\n",
    "    pred_train = clf.predict(X_train)\n",
    "    #print (\"Train score\")\n",
    "    f1_train = f1_score(y_train, pred_train, average='weighted')\n",
    "\n",
    "    #print (\"Test score\")\n",
    "    pred_test = clf.predict(X_test)\n",
    "    f1_test = f1_score(y_test, pred_test, average='weighted')\n",
    "    \n",
    "    return f1_train, f1_test, clf\n",
    "\n",
    "def plot_confusion_matrix(cm, classes,\n",
    "                          normalize=False,\n",
    "                          title='Confusion matrix',\n",
    "                          cmap=plt.cm.Paired):\n",
    "\n",
    "    if normalize:\n",
    "        cm = cm.astype('float') / cm.sum(axis=1)[:, np.newaxis]\n",
    "        print(\"Normalized confusion matrix\")\n",
    "    else:\n",
    "        print('Confusion matrix, without normalization')\n",
    "\n",
    "\n",
    "    plt.figure(figsize=(10,10))\n",
    "    plt.imshow(cm, interpolation='nearest', cmap=cmap)\n",
    "    plt.title(title)\n",
    "    plt.colorbar()\n",
    "    tick_marks = np.arange(len(classes))\n",
    "    plt.xticks(tick_marks, classes, rotation=90)\n",
    "    plt.yticks(tick_marks, classes)\n",
    "\n",
    "    fmt = '.2f' if normalize else 'd'\n",
    "    thresh = cm.max() / 2.\n",
    "    for i, j in itertools.product(range(cm.shape[0]), range(cm.shape[1])):\n",
    "        plt.text(j, i, format(cm[i, j], fmt),\n",
    "                 horizontalalignment=\"center\",\n",
    "                 color=\"black\" if cm[i, j] > thresh else \"black\")\n",
    "\n",
    "    plt.ylabel('True label')\n",
    "    plt.xlabel('Predicted label')\n",
    "    plt.tight_layout()"
   ]
  },
  {
   "cell_type": "code",
   "execution_count": 54,
   "metadata": {},
   "outputs": [],
   "source": [
    "log_reg = LogisticRegression(penalty='l2', tol=0.0001, C=1, \n",
    "                             class_weight='balanced', random_state=seed, \n",
    "                             max_iter=1000, solver = 'newton-cg',\n",
    "                             multi_class='ovr', verbose=0, \n",
    "                             n_jobs=-1)"
   ]
  },
  {
   "cell_type": "code",
   "execution_count": 55,
   "metadata": {},
   "outputs": [
    {
     "name": "stdout",
     "output_type": "stream",
     "text": [
      "Wall time: 1min 45s\n"
     ]
    }
   ],
   "source": [
    "%%time\n",
    "_,_, clf = classify_and_score(log_reg, vectorised_train_documents, \n",
    "                           vectorised_test_documents, y_train, y_test)"
   ]
  },
  {
   "cell_type": "code",
   "execution_count": 58,
   "metadata": {},
   "outputs": [
    {
     "name": "stdout",
     "output_type": "stream",
     "text": [
      "              precision    recall  f1-score   support\n",
      "\n",
      "           1       0.41      0.57      0.48     16683\n",
      "           2       0.16      0.22      0.19      9679\n",
      "           3       0.24      0.34      0.28     17653\n",
      "           4       0.34      0.41      0.37     33086\n",
      "           5       0.89      0.76      0.82    153675\n",
      "\n",
      "   micro avg       0.64      0.64      0.64    230776\n",
      "   macro avg       0.41      0.46      0.43    230776\n",
      "weighted avg       0.70      0.64      0.66    230776\n",
      "\n",
      "Confusion matrix, without normalization\n",
      "None\n"
     ]
    },
    {
     "data": {
      "image/png": "[encoded data removed]",
      "text/plain": [
       "<Figure size 720x720 with 2 Axes>"
      ]
     },
     "metadata": {
      "needs_background": "light"
     },
     "output_type": "display_data"
    }
   ],
   "source": [
    "labels = clf.classes_\n",
    "pred_test = clf.predict(vectorised_test_documents)\n",
    "print(classification_report(y_test,pred_test,labels = labels))\n",
    "\n",
    "cnf_matrix = confusion_matrix(y_test, pred_test)\n",
    "print(plot_confusion_matrix(cnf_matrix, classes = labels))"
   ]
  },
  {
   "cell_type": "markdown",
   "metadata": {},
   "source": [
    "Обучить рекуррентную нейронную сеть для предсказания оценки пользователя по его отзыву. Использовать случайную инициализация весов.\n",
    "\n",
    "- add stopwords?"
   ]
  },
  {
   "cell_type": "code",
   "execution_count": 19,
   "metadata": {},
   "outputs": [],
   "source": [
    "#convert words to sequence\n",
    "from keras.preprocessing.text import Tokenizer\n",
    "\n",
    "from keras.preprocessing import sequence\n",
    "from keras.models import Sequential\n",
    "from keras.layers import Dense, Dropout, Embedding, LSTM, Bidirectional,GlobalAveragePooling1D\n",
    "from keras.datasets import imdb\n"
   ]
  },
  {
   "cell_type": "code",
   "execution_count": 20,
   "metadata": {},
   "outputs": [],
   "source": [
    "x_train, x_test, y_train, y_test = train_test_split(x_data, y_data, random_state = seed, test_size=0.3, shuffle=True)"
   ]
  },
  {
   "cell_type": "code",
   "execution_count": 94,
   "metadata": {},
   "outputs": [
    {
     "name": "stdout",
     "output_type": "stream",
     "text": [
      "Wall time: 1min 34s\n"
     ]
    }
   ],
   "source": [
    "%%time\n",
    "tokenizer = Tokenizer(num_words=5000)\n",
    "tokenizer.fit_on_texts(x_train)\n",
    "\n",
    "x_train = tokenizer.texts_to_sequences(x_train)\n",
    "x_test = tokenizer.texts_to_sequences(x_test)"
   ]
  },
  {
   "cell_type": "code",
   "execution_count": 95,
   "metadata": {},
   "outputs": [],
   "source": [
    "from sklearn.preprocessing import LabelEncoder\n",
    "from keras.utils import np_utils\n",
    "# encode class values as integers\n",
    "encoder = LabelEncoder()\n",
    "encoder.fit(y_train)\n",
    "encoded_y_train = encoder.transform(y_train)\n",
    "encoded_y_test = encoder.transform(y_test)\n",
    "# convert integers to dummy variables (i.e. one hot encoded)\n",
    "y_train = np_utils.to_categorical(encoded_y_train)\n",
    "y_test = np_utils.to_categorical(encoded_y_test)"
   ]
  },
  {
   "cell_type": "code",
   "execution_count": 19,
   "metadata": {},
   "outputs": [],
   "source": [
    "#y_train = np.array(y_train)\n",
    "#y_test = np.array(y_test)"
   ]
  },
  {
   "cell_type": "code",
   "execution_count": 22,
   "metadata": {},
   "outputs": [
    {
     "name": "stdout",
     "output_type": "stream",
     "text": [
      "485477\n",
      "[851, 7, 12, 7, 3059, 3303, 4643, 618, 7, 44, 1, 12, 202, 257, 207, 2474, 466, 4, 4996, 1332, 1807, 51, 1203, 92, 1258, 3, 2526, 504, 1, 3278, 2034, 11, 2968, 629, 1336, 581, 52, 3, 546, 1109, 2282, 308, 108, 23, 2842, 144, 1202, 11, 925, 2968, 898, 52, 2431, 1758, 33, 3394, 546, 1109, 1686, 2, 4355, 1, 2, 3, 33, 3, 4441, 1075, 1, 365, 7, 1, 2034, 15, 2724, 11, 28, 20, 3633, 39, 1, 548, 13, 80, 4, 3817, 11, 1967, 1093, 3690, 19, 6, 2560, 1, 2, 1696, 828, 1, 39, 5, 9, 4132, 4398, 3, 7, 3059, 1786, 7, 3059, 2, 4, 3784, 102, 3817, 665, 1525, 3729, 6, 33, 14, 1708, 7, 3059, 879, 4643, 7, 2726, 10, 54, 15, 283, 558, 3611]\n",
      "133\n",
      "538475\n"
     ]
    }
   ],
   "source": [
    "print (vocab_size)\n",
    "\n",
    "print(x_train[0])\n",
    "\n",
    "print(len(x_train[0]))\n",
    "\n",
    "print(len(x_train))"
   ]
  },
  {
   "cell_type": "code",
   "execution_count": 24,
   "metadata": {},
   "outputs": [],
   "source": [
    "from keras.preprocessing.sequence import pad_sequences\n",
    "\n",
    "x_train = pad_sequences(x_train, padding='post', maxlen=maxlen)\n",
    "x_test = pad_sequences(x_test, padding='post', maxlen=maxlen)"
   ]
  },
  {
   "cell_type": "code",
   "execution_count": 25,
   "metadata": {},
   "outputs": [
    {
     "name": "stdout",
     "output_type": "stream",
     "text": [
      "[  23 2842  144 1202   11  925 2968  898   52 2431 1758   33 3394  546 1109\n",
      " 1686    2 4355    1    2    3   33    3 4441 1075    1  365    7    1 2034\n",
      "   15 2724   11   28   20 3633   39    1  548   13   80    4 3817   11 1967\n",
      " 1093 3690   19    6 2560    1    2 1696  828    1   39    5    9 4132 4398\n",
      "    3    7 3059 1786    7 3059    2    4 3784  102 3817  665 1525 3729    6\n",
      "   33   14 1708    7 3059  879 4643    7 2726   10   54   15  283  558 3611]\n"
     ]
    }
   ],
   "source": [
    "print(x_train[0])"
   ]
  },
  {
   "cell_type": "code",
   "execution_count": 61,
   "metadata": {},
   "outputs": [],
   "source": [
    "vocab_size = len(tokenizer.word_index) + 1  # Adding 1 because of reserved 0 index\n",
    "maxlen = 90\n",
    "batch_size = 128\n",
    "max_features = 20000\n",
    "\n",
    "'''\n",
    "vocab_size\n",
    "embedding_dim = 50\n",
    "model.add(layers.Embedding(input_dim=vocab_size, \n",
    "                           output_dim=embedding_dim, \n",
    "                           input_length=maxlen))\n",
    "                           \n",
    "                           \n",
    "model.add(Embedding(max_features, 128, input_length=maxlen))   \n",
    "\n",
    "\n",
    "input_dim: the size of the vocabulary\n",
    "output_dim: the size of the dense vector\n",
    "input_length: the length of the sequence\n",
    "                           ''';"
   ]
  },
  {
   "cell_type": "code",
   "execution_count": 64,
   "metadata": {},
   "outputs": [
    {
     "data": {
      "text/plain": [
       "2560000"
      ]
     },
     "execution_count": 64,
     "metadata": {},
     "output_type": "execute_result"
    }
   ],
   "source": [
    "max_features * 128"
   ]
  },
  {
   "cell_type": "code",
   "execution_count": 71,
   "metadata": {},
   "outputs": [
    {
     "name": "stdout",
     "output_type": "stream",
     "text": [
      "_________________________________________________________________\n",
      "Layer (type)                 Output Shape              Param #   \n",
      "=================================================================\n",
      "embedding_8 (Embedding)      (None, 90, 128)           2560000   \n",
      "_________________________________________________________________\n",
      "bidirectional_8 (Bidirection (None, 128)               98816     \n",
      "_________________________________________________________________\n",
      "dropout_8 (Dropout)          (None, 128)               0         \n",
      "_________________________________________________________________\n",
      "dense_8 (Dense)              (None, 5)                 645       \n",
      "=================================================================\n",
      "Total params: 2,659,461\n",
      "Trainable params: 2,659,461\n",
      "Non-trainable params: 0\n",
      "_________________________________________________________________\n"
     ]
    }
   ],
   "source": [
    "model = Sequential()\n",
    "model.add(Embedding(input_dim = max_features, output_dim= 128, \n",
    "                    input_length=maxlen))#weights!\n",
    "model.add(Bidirectional(LSTM(64)))# weights!\n",
    "model.add(Dropout(0.1))\n",
    "#model.add(Dropout(0.5)) #1\n",
    "model.add(Dense(5, activation='softmax')) #softmax due to multiclass\n",
    "earlyStopping = EarlyStopping(monitor='val_acc', patience=2, verbose=2, mode='max',restore_best_weights=True)\n",
    "\n",
    "# try using different optimizers and different optimizer configs\n",
    "model.compile('adam', 'categorical_crossentropy', metrics=['accuracy'])\n",
    "\n",
    "model.summary()"
   ]
  },
  {
   "cell_type": "code",
   "execution_count": 31,
   "metadata": {},
   "outputs": [],
   "source": [
    "def next_batch(num, data, labels):\n",
    "    idx = np.arange(0 , len(data))\n",
    "    np.random.shuffle(idx)\n",
    "    idx = idx[:num]\n",
    "    data_shuffle = data[idx]\n",
    "    labels_shuffle = [labels[i] for i in idx]\n",
    "\n",
    "    return np.asarray(data_shuffle), np.asarray(labels_shuffle)"
   ]
  },
  {
   "cell_type": "code",
   "execution_count": 67,
   "metadata": {},
   "outputs": [],
   "source": [
    "x_train_part,y_train_part = next_batch(50000, x_train, y_train)\n",
    "x_test_part,y_test_part = next_batch(16000, x_test, y_test)\n",
    "#y_train_part = y_train\n",
    "\n",
    "#x_test_part = x_test\n",
    "#y_test_part = y_test"
   ]
  },
  {
   "cell_type": "code",
   "execution_count": 68,
   "metadata": {
    "scrolled": true
   },
   "outputs": [
    {
     "name": "stdout",
     "output_type": "stream",
     "text": [
      "Train...\n",
      "Train on 50000 samples, validate on 16000 samples\n",
      "Epoch 1/4\n",
      " - 211s - loss: 0.9431 - acc: 0.6700 - val_loss: 0.8425 - val_acc: 0.6909\n",
      "Epoch 2/4\n",
      " - 213s - loss: 0.7835 - acc: 0.7082 - val_loss: 0.8160 - val_acc: 0.7054\n",
      "Epoch 3/4\n",
      " - 215s - loss: 0.7266 - acc: 0.7260 - val_loss: 0.8172 - val_acc: 0.6991\n",
      "Epoch 4/4\n",
      " - 200s - loss: 0.6871 - acc: 0.7397 - val_loss: 0.8345 - val_acc: 0.7001\n",
      "Wall time: 14min 1s\n"
     ]
    }
   ],
   "source": [
    "%%time\n",
    "print('Train...')\n",
    "model.fit(x_train_part, y_train_part,\n",
    "          batch_size=batch_size,\n",
    "          epochs=4,\n",
    "          verbose = 2,\n",
    "          callbacks=[earlyStopping],\n",
    "          validation_data=[x_test_part, y_test_part])"
   ]
  },
  {
   "cell_type": "code",
   "execution_count": 69,
   "metadata": {},
   "outputs": [
    {
     "name": "stdout",
     "output_type": "stream",
     "text": [
      "Classification report\n",
      "\n"
     ]
    },
    {
     "name": "stderr",
     "output_type": "stream",
     "text": [
      "C:\\Anaconda\\lib\\site-packages\\sklearn\\metrics\\classification.py:1143: UndefinedMetricWarning: Precision and F-score are ill-defined and being set to 0.0 in labels with no predicted samples.\n",
      "  'precision', 'predicted', average, warn_for)\n",
      "C:\\Anaconda\\lib\\site-packages\\sklearn\\metrics\\classification.py:1143: UndefinedMetricWarning: Precision and F-score are ill-defined and being set to 0.0 in labels with no predicted samples.\n",
      "  'precision', 'predicted', average, warn_for)\n",
      "C:\\Anaconda\\lib\\site-packages\\sklearn\\metrics\\classification.py:1143: UndefinedMetricWarning: Precision and F-score are ill-defined and being set to 0.0 in labels with no predicted samples.\n",
      "  'precision', 'predicted', average, warn_for)\n",
      "C:\\Anaconda\\lib\\site-packages\\sklearn\\metrics\\classification.py:1143: UndefinedMetricWarning: Precision and F-score are ill-defined and being set to 0.0 in samples with no predicted labels.\n",
      "  'precision', 'predicted', average, warn_for)\n"
     ]
    },
    {
     "name": "stdout",
     "output_type": "stream",
     "text": [
      "              precision    recall  f1-score   support\n",
      "\n",
      "           0       0.64      0.21      0.32      1197\n",
      "           1       0.00      0.00      0.00       629\n",
      "           2       0.37      0.02      0.04      1206\n",
      "           3       0.44      0.08      0.14      2264\n",
      "           4       0.82      0.88      0.85     10704\n",
      "\n",
      "   micro avg       0.80      0.62      0.70     16000\n",
      "   macro avg       0.45      0.24      0.27     16000\n",
      "weighted avg       0.68      0.62      0.61     16000\n",
      " samples avg       0.62      0.62      0.62     16000\n",
      "\n"
     ]
    }
   ],
   "source": [
    "y_predicted_scores = model.predict(x_test_part)\n",
    "y_predicted_scores[y_predicted_scores>=0.5] = 1\n",
    "y_predicted_scores[y_predicted_scores<0.5] = 0\n",
    "\n",
    "print('Classification report\\n')\n",
    "print(classification_report(y_test_part, y_predicted_scores))"
   ]
  },
  {
   "cell_type": "code",
   "execution_count": 60,
   "metadata": {
    "scrolled": true
   },
   "outputs": [],
   "source": [
    "'''print('Train...')\n",
    "model.fit(x_train, y_train,\n",
    "          batch_size=batch_size,\n",
    "          epochs=2,\n",
    "          validation_data=[x_test, y_test])\n",
    "\n",
    "y_predicted_scores = model.predict(x_test)\n",
    "y_predicted_scores[y_predicted_scores>=0.5] = 1\n",
    "y_predicted_scores[y_predicted_scores<0.5] = 0\n",
    "\n",
    "print('Classification report\\n')\n",
    "print(classification_report(y_test, y_predicted_scores))''';"
   ]
  },
  {
   "cell_type": "code",
   "execution_count": null,
   "metadata": {},
   "outputs": [],
   "source": []
  },
  {
   "cell_type": "markdown",
   "metadata": {},
   "source": [
    "#### fasttext.\n",
    "\n",
    "Обучить «fasttext» модель на n-граммах используя случайную инициализацию эмбедингов."
   ]
  },
  {
   "cell_type": "code",
   "execution_count": 92,
   "metadata": {},
   "outputs": [],
   "source": [
    "x_train, x_test, y_train, y_test = train_test_split(x_data, y_data, random_state = seed, test_size=0.3, shuffle=True)"
   ]
  },
  {
   "cell_type": "code",
   "execution_count": 21,
   "metadata": {},
   "outputs": [],
   "source": [
    "# Set parameters:\n",
    "# ngram_range = 2 will add bi-grams features\n",
    "ngram_range = 2\n",
    "max_features = 20000\n",
    "maxlen = 400\n",
    "batch_size = 128\n",
    "embedding_dims = 50\n",
    "epochs = 4"
   ]
  },
  {
   "cell_type": "code",
   "execution_count": null,
   "metadata": {},
   "outputs": [],
   "source": []
  },
  {
   "cell_type": "code",
   "execution_count": 22,
   "metadata": {},
   "outputs": [
    {
     "name": "stdout",
     "output_type": "stream",
     "text": [
      "Wall time: 1min 26s\n"
     ]
    }
   ],
   "source": [
    "%%time\n",
    "tokenizer = Tokenizer(num_words=5000)\n",
    "tokenizer.fit_on_texts(x_train)\n",
    "\n",
    "x_train = tokenizer.texts_to_sequences(x_train)\n",
    "x_test = tokenizer.texts_to_sequences(x_test)"
   ]
  },
  {
   "cell_type": "code",
   "execution_count": 25,
   "metadata": {},
   "outputs": [],
   "source": [
    "from sklearn.preprocessing import LabelEncoder\n",
    "from keras.utils import np_utils\n",
    "# encode class values as integers\n",
    "encoder = LabelEncoder()\n",
    "encoder.fit(y_train)\n",
    "encoded_y_train = encoder.transform(y_train)\n",
    "encoded_y_test = encoder.transform(y_test)\n",
    "# convert integers to dummy variables (i.e. one hot encoded)\n",
    "y_train = np_utils.to_categorical(encoded_y_train)\n",
    "y_test = np_utils.to_categorical(encoded_y_test)"
   ]
  },
  {
   "cell_type": "code",
   "execution_count": 26,
   "metadata": {},
   "outputs": [],
   "source": [
    "def create_ngram_set(input_list, ngram_value=2):\n",
    "    \"\"\"\n",
    "    Extract a set of n-grams from a list of integers.\n",
    "    >>> create_ngram_set([1, 4, 9, 4, 1, 4], ngram_value=2)\n",
    "    {(4, 9), (4, 1), (1, 4), (9, 4)}\n",
    "    >>> create_ngram_set([1, 4, 9, 4, 1, 4], ngram_value=3)\n",
    "    [(1, 4, 9), (4, 9, 4), (9, 4, 1), (4, 1, 4)]\n",
    "    \"\"\"\n",
    "    return set(zip(*[input_list[i:] for i in range(ngram_value)]))"
   ]
  },
  {
   "cell_type": "code",
   "execution_count": 27,
   "metadata": {},
   "outputs": [],
   "source": [
    "def add_ngram(sequences, token_indice, ngram_range=2):\n",
    "    \"\"\"\n",
    "    Augment the input list of list (sequences) by appending n-grams values.\n",
    "    Example: adding bi-gram\n",
    "    >>> sequences = [[1, 3, 4, 5], [1, 3, 7, 9, 2]]\n",
    "    >>> token_indice = {(1, 3): 1337, (9, 2): 42, (4, 5): 2017}\n",
    "    >>> add_ngram(sequences, token_indice, ngram_range=2)\n",
    "    [[1, 3, 4, 5, 1337, 2017], [1, 3, 7, 9, 2, 1337, 42]]\n",
    "    Example: adding tri-gram\n",
    "    >>> sequences = [[1, 3, 4, 5], [1, 3, 7, 9, 2]]\n",
    "    >>> token_indice = {(1, 3): 1337, (9, 2): 42, (4, 5): 2017, (7, 9, 2): 2018}\n",
    "    >>> add_ngram(sequences, token_indice, ngram_range=3)\n",
    "    [[1, 3, 4, 5, 1337, 2017], [1, 3, 7, 9, 2, 1337, 42, 2018]]\n",
    "    \"\"\"\n",
    "    new_sequences = []\n",
    "    for input_list in sequences:\n",
    "        new_list = input_list[:]\n",
    "        for ngram_value in range(2, ngram_range + 1):\n",
    "            for i in range(len(new_list) - ngram_value + 1):\n",
    "                ngram = tuple(new_list[i:i + ngram_value])\n",
    "                if ngram in token_indice:\n",
    "                    new_list.append(token_indice[ngram])\n",
    "        new_sequences.append(new_list)\n",
    "\n",
    "    return new_sequences"
   ]
  },
  {
   "cell_type": "code",
   "execution_count": 28,
   "metadata": {},
   "outputs": [
    {
     "name": "stdout",
     "output_type": "stream",
     "text": [
      "Adding 2-gram features\n",
      "Average train sequence length: 54\n",
      "Average test sequence length: 52\n",
      "Pad sequences (samples x time)\n",
      "x_train shape: (538475, 400)\n",
      "x_test shape: (230776, 400)\n"
     ]
    }
   ],
   "source": [
    "'''print('Loading data...')\n",
    "(x_train, y_train), (x_test, y_test) = imdb.load_data(num_words=max_features)\n",
    "print(len(x_train), 'train sequences')\n",
    "print(len(x_test), 'test sequences')\n",
    "print('Average train sequence length: {}'.format(\n",
    "    np.mean(list(map(len, x_train)), dtype=int)))\n",
    "print('Average test sequence length: {}'.format(\n",
    "    np.mean(list(map(len, x_test)), dtype=int)))'''\n",
    "\n",
    "if ngram_range > 1:\n",
    "    print('Adding {}-gram features'.format(ngram_range))\n",
    "    # Create set of unique n-gram from the training set.\n",
    "    ngram_set = set()\n",
    "    for input_list in x_train:\n",
    "        for i in range(2, ngram_range + 1):\n",
    "            set_of_ngram = create_ngram_set(input_list, ngram_value=i)\n",
    "            ngram_set.update(set_of_ngram)\n",
    "\n",
    "    # Dictionary mapping n-gram token to a unique integer.\n",
    "    # Integer values are greater than max_features in order\n",
    "    # to avoid collision with existing features.\n",
    "    start_index = max_features + 1\n",
    "    token_indice = {v: k + start_index for k, v in enumerate(ngram_set)}\n",
    "    indice_token = {token_indice[k]: k for k in token_indice}\n",
    "\n",
    "    # max_features is the highest integer that could be found in the dataset.\n",
    "    max_features = np.max(list(indice_token.keys())) + 1\n",
    "\n",
    "    # Augmenting x_train and x_test with n-grams features\n",
    "    x_train = add_ngram(x_train, token_indice, ngram_range)\n",
    "    x_test = add_ngram(x_test, token_indice, ngram_range)\n",
    "    print('Average train sequence length: {}'.format(\n",
    "        np.mean(list(map(len, x_train)), dtype=int)))\n",
    "    print('Average test sequence length: {}'.format(\n",
    "        np.mean(list(map(len, x_test)), dtype=int)))\n",
    "\n",
    "print('Pad sequences (samples x time)')\n",
    "x_train = sequence.pad_sequences(x_train, maxlen=maxlen)\n",
    "x_test = sequence.pad_sequences(x_test, maxlen=maxlen)\n",
    "print('x_train shape:', x_train.shape)\n",
    "print('x_test shape:', x_test.shape)"
   ]
  },
  {
   "cell_type": "code",
   "execution_count": 29,
   "metadata": {},
   "outputs": [],
   "source": [
    "vocab_size = x_train.max()#len(tokenizer.word_index) + 1  # Adding 1 because of reserved 0 index"
   ]
  },
  {
   "cell_type": "code",
   "execution_count": 42,
   "metadata": {},
   "outputs": [],
   "source": [
    "x_train_part,y_train_part = next_batch(25000, x_train, y_train)\n",
    "x_test_part,y_test_part = next_batch(11000, x_test, y_test)\n",
    "#y_train_part = y_train\n",
    "\n",
    "#x_test_part = x_test\n",
    "#y_test_part = y_test"
   ]
  },
  {
   "cell_type": "code",
   "execution_count": 43,
   "metadata": {},
   "outputs": [],
   "source": [
    "from tensorflow.contrib.opt import AdamWOptimizer"
   ]
  },
  {
   "cell_type": "code",
   "execution_count": 44,
   "metadata": {},
   "outputs": [],
   "source": [
    "my_opt = AdamWOptimizer(0.01)"
   ]
  },
  {
   "cell_type": "code",
   "execution_count": null,
   "metadata": {},
   "outputs": [],
   "source": []
  },
  {
   "cell_type": "code",
   "execution_count": 61,
   "metadata": {},
   "outputs": [
    {
     "name": "stdout",
     "output_type": "stream",
     "text": [
      "Build model...\n",
      "_________________________________________________________________\n",
      "Layer (type)                 Output Shape              Param #   \n",
      "=================================================================\n",
      "embedding_5 (Embedding)      (None, 400, 50)           103907450 \n",
      "_________________________________________________________________\n",
      "global_average_pooling1d_5 ( (None, 50)                0         \n",
      "_________________________________________________________________\n",
      "dense_5 (Dense)              (None, 5)                 255       \n",
      "=================================================================\n",
      "Total params: 103,907,705\n",
      "Trainable params: 103,907,705\n",
      "Non-trainable params: 0\n",
      "_________________________________________________________________\n"
     ]
    }
   ],
   "source": [
    "print('Build model...')\n",
    "model = Sequential()\n",
    "\n",
    "# we start off with an efficient embedding layer which maps\n",
    "# our vocab indices into embedding_dims dimensions\n",
    "# используя случайную инициализацию эмбедингов\n",
    "model.add(Embedding(input_dim = vocab_size,\n",
    "                    output_dim = embedding_dims,\n",
    "                    input_length=maxlen, \n",
    "                    embeddings_initializer = 'RandomNormal')) \n",
    "\n",
    "# we add a GlobalAveragePooling1D, which will average the embeddings\n",
    "# of all words in the document\n",
    "model.add(GlobalAveragePooling1D())\n",
    "\n",
    "# We project onto a single unit output layer, and squash it with a sigmoid:\n",
    "model.add(Dense(5, activation='softmax'))\n",
    "\n",
    "earlyStopping = EarlyStopping(monitor='val_acc', patience=2, verbose=2, mode='max',restore_best_weights=True)\n",
    "\n",
    "model.compile(loss='categorical_crossentropy',\n",
    "              #optimizer = my_opt,\n",
    "              optimizer='adam',\n",
    "              metrics=['accuracy'])\n",
    "\n",
    "#model.compile(loss='mse', optimizer=TFOptimizer(tf.train.GradientDescentOptimizer(0.1)))\n",
    "\n",
    "\n",
    "\n",
    "model.summary()"
   ]
  },
  {
   "cell_type": "code",
   "execution_count": 62,
   "metadata": {},
   "outputs": [
    {
     "name": "stderr",
     "output_type": "stream",
     "text": [
      "C:\\Anaconda\\lib\\site-packages\\tensorflow\\python\\ops\\gradients_impl.py:109: UserWarning: Converting sparse IndexedSlices to a dense Tensor with 103907450 elements. This may consume a large amount of memory.\n",
      "  num_elements)\n",
      "C:\\Anaconda\\lib\\site-packages\\tensorflow\\python\\ops\\gradients_impl.py:109: UserWarning: Converting sparse IndexedSlices to a dense Tensor with 103907450 elements. This may consume a large amount of memory.\n",
      "  num_elements)\n"
     ]
    },
    {
     "name": "stdout",
     "output_type": "stream",
     "text": [
      "Train on 25000 samples, validate on 11000 samples\n",
      "Epoch 1/4\n",
      "25000/25000 [==============================] - ETA: 48:45 - loss: 1.6167 - acc: 0.09 - ETA: 28:13 - loss: 1.6135 - acc: 0.10 - ETA: 22:06 - loss: 1.6099 - acc: 0.12 - ETA: 18:59 - loss: 1.6069 - acc: 0.25 - ETA: 16:55 - loss: 1.6043 - acc: 0.33 - ETA: 15:20 - loss: 1.6006 - acc: 0.39 - ETA: 14:06 - loss: 1.5980 - acc: 0.42 - ETA: 13:10 - loss: 1.5950 - acc: 0.45 - ETA: 12:25 - loss: 1.5927 - acc: 0.47 - ETA: 11:46 - loss: 1.5896 - acc: 0.48 - ETA: 11:28 - loss: 1.5857 - acc: 0.51 - ETA: 11:11 - loss: 1.5832 - acc: 0.52 - ETA: 10:50 - loss: 1.5806 - acc: 0.52 - ETA: 10:31 - loss: 1.5778 - acc: 0.53 - ETA: 10:20 - loss: 1.5745 - acc: 0.54 - ETA: 10:07 - loss: 1.5721 - acc: 0.55 - ETA: 9:54 - loss: 1.5690 - acc: 0.5570 - ETA: 9:43 - loss: 1.5654 - acc: 0.566 - ETA: 9:32 - loss: 1.5628 - acc: 0.569 - ETA: 9:21 - loss: 1.5600 - acc: 0.572 - ETA: 9:12 - loss: 1.5568 - acc: 0.577 - ETA: 9:02 - loss: 1.5540 - acc: 0.580 - ETA: 8:54 - loss: 1.5510 - acc: 0.584 - ETA: 8:46 - loss: 1.5487 - acc: 0.585 - ETA: 8:38 - loss: 1.5456 - acc: 0.588 - ETA: 8:32 - loss: 1.5430 - acc: 0.589 - ETA: 8:23 - loss: 1.5403 - acc: 0.591 - ETA: 8:15 - loss: 1.5371 - acc: 0.594 - ETA: 8:06 - loss: 1.5341 - acc: 0.596 - ETA: 7:59 - loss: 1.5317 - acc: 0.596 - ETA: 7:51 - loss: 1.5288 - acc: 0.599 - ETA: 7:47 - loss: 1.5262 - acc: 0.600 - ETA: 7:42 - loss: 1.5229 - acc: 0.602 - ETA: 7:38 - loss: 1.5194 - acc: 0.605 - ETA: 7:33 - loss: 1.5164 - acc: 0.606 - ETA: 7:28 - loss: 1.5145 - acc: 0.606 - ETA: 7:23 - loss: 1.5111 - acc: 0.608 - ETA: 7:19 - loss: 1.5083 - acc: 0.609 - ETA: 7:15 - loss: 1.5060 - acc: 0.609 - ETA: 7:10 - loss: 1.5032 - acc: 0.610 - ETA: 7:06 - loss: 1.5007 - acc: 0.610 - ETA: 7:02 - loss: 1.4977 - acc: 0.612 - ETA: 6:58 - loss: 1.4950 - acc: 0.613 - ETA: 6:54 - loss: 1.4924 - acc: 0.613 - ETA: 6:51 - loss: 1.4888 - acc: 0.615 - ETA: 6:47 - loss: 1.4861 - acc: 0.616 - ETA: 6:43 - loss: 1.4824 - acc: 0.618 - ETA: 6:39 - loss: 1.4805 - acc: 0.617 - ETA: 6:36 - loss: 1.4772 - acc: 0.618 - ETA: 6:32 - loss: 1.4734 - acc: 0.621 - ETA: 6:28 - loss: 1.4699 - acc: 0.622 - ETA: 6:24 - loss: 1.4678 - acc: 0.622 - ETA: 6:20 - loss: 1.4653 - acc: 0.622 - ETA: 6:17 - loss: 1.4624 - acc: 0.622 - ETA: 6:13 - loss: 1.4585 - acc: 0.624 - ETA: 6:09 - loss: 1.4554 - acc: 0.625 - ETA: 6:05 - loss: 1.4530 - acc: 0.625 - ETA: 6:02 - loss: 1.4508 - acc: 0.625 - ETA: 5:58 - loss: 1.4483 - acc: 0.625 - ETA: 5:54 - loss: 1.4460 - acc: 0.625 - ETA: 5:50 - loss: 1.4419 - acc: 0.627 - ETA: 5:47 - loss: 1.4390 - acc: 0.627 - ETA: 5:43 - loss: 1.4353 - acc: 0.629 - ETA: 5:39 - loss: 1.4329 - acc: 0.628 - ETA: 5:35 - loss: 1.4301 - acc: 0.629 - ETA: 5:32 - loss: 1.4270 - acc: 0.629 - ETA: 5:28 - loss: 1.4243 - acc: 0.630 - ETA: 5:25 - loss: 1.4215 - acc: 0.630 - ETA: 5:21 - loss: 1.4186 - acc: 0.630 - ETA: 5:18 - loss: 1.4156 - acc: 0.630 - ETA: 5:14 - loss: 1.4131 - acc: 0.631 - ETA: 5:11 - loss: 1.4101 - acc: 0.631 - ETA: 5:08 - loss: 1.4069 - acc: 0.632 - ETA: 5:04 - loss: 1.4046 - acc: 0.632 - ETA: 5:01 - loss: 1.4025 - acc: 0.632 - ETA: 4:57 - loss: 1.3997 - acc: 0.632 - ETA: 4:54 - loss: 1.3986 - acc: 0.631 - ETA: 4:51 - loss: 1.3957 - acc: 0.632 - ETA: 4:48 - loss: 1.3926 - acc: 0.632 - ETA: 4:46 - loss: 1.3892 - acc: 0.633 - ETA: 4:44 - loss: 1.3861 - acc: 0.634 - ETA: 4:41 - loss: 1.3843 - acc: 0.634 - ETA: 4:39 - loss: 1.3813 - acc: 0.634 - ETA: 4:36 - loss: 1.3789 - acc: 0.635 - ETA: 4:34 - loss: 1.3755 - acc: 0.635 - ETA: 4:31 - loss: 1.3729 - acc: 0.636 - ETA: 4:28 - loss: 1.3705 - acc: 0.636 - ETA: 4:26 - loss: 1.3677 - acc: 0.636 - ETA: 4:23 - loss: 1.3640 - acc: 0.638 - ETA: 4:21 - loss: 1.3608 - acc: 0.638 - ETA: 4:18 - loss: 1.3583 - acc: 0.639 - ETA: 4:15 - loss: 1.3564 - acc: 0.638 - ETA: 4:13 - loss: 1.3540 - acc: 0.639 - ETA: 4:10 - loss: 1.3515 - acc: 0.639 - ETA: 4:08 - loss: 1.3496 - acc: 0.639 - ETA: 4:05 - loss: 1.3471 - acc: 0.639 - ETA: 4:03 - loss: 1.3453 - acc: 0.639 - ETA: 4:00 - loss: 1.3429 - acc: 0.639 - ETA: 3:58 - loss: 1.3403 - acc: 0.640 - ETA: 3:55 - loss: 1.3389 - acc: 0.639 - ETA: 3:53 - loss: 1.3363 - acc: 0.640 - ETA: 3:50 - loss: 1.3339 - acc: 0.640 - ETA: 3:48 - loss: 1.3308 - acc: 0.641 - ETA: 3:45 - loss: 1.3285 - acc: 0.641 - ETA: 3:42 - loss: 1.3254 - acc: 0.642 - ETA: 3:40 - loss: 1.3238 - acc: 0.642 - ETA: 3:37 - loss: 1.3217 - acc: 0.642 - ETA: 3:35 - loss: 1.3189 - acc: 0.643 - ETA: 3:32 - loss: 1.3169 - acc: 0.643 - ETA: 3:30 - loss: 1.3155 - acc: 0.643 - ETA: 3:27 - loss: 1.3135 - acc: 0.643 - ETA: 3:25 - loss: 1.3109 - acc: 0.644 - ETA: 3:22 - loss: 1.3088 - acc: 0.644 - ETA: 3:20 - loss: 1.3066 - acc: 0.644 - ETA: 3:17 - loss: 1.3050 - acc: 0.645 - ETA: 3:15 - loss: 1.3029 - acc: 0.645 - ETA: 3:13 - loss: 1.3007 - acc: 0.645 - ETA: 3:11 - loss: 1.2998 - acc: 0.645 - ETA: 3:08 - loss: 1.2986 - acc: 0.645 - ETA: 3:06 - loss: 1.2968 - acc: 0.645 - ETA: 3:03 - loss: 1.2951 - acc: 0.645 - ETA: 3:01 - loss: 1.2929 - acc: 0.645 - ETA: 2:58 - loss: 1.2897 - acc: 0.646 - ETA: 2:56 - loss: 1.2884 - acc: 0.646 - ETA: 2:53 - loss: 1.2863 - acc: 0.647 - ETA: 2:51 - loss: 1.2837 - acc: 0.647 - ETA: 2:48 - loss: 1.2817 - acc: 0.648 - ETA: 2:46 - loss: 1.2790 - acc: 0.648 - ETA: 2:43 - loss: 1.2782 - acc: 0.648 - ETA: 2:41 - loss: 1.2758 - acc: 0.649 - ETA: 2:38 - loss: 1.2747 - acc: 0.649 - ETA: 2:36 - loss: 1.2723 - acc: 0.649 - ETA: 2:33 - loss: 1.2702 - acc: 0.650 - ETA: 2:31 - loss: 1.2684 - acc: 0.650 - ETA: 2:28 - loss: 1.2676 - acc: 0.650 - ETA: 2:26 - loss: 1.2653 - acc: 0.650 - ETA: 2:23 - loss: 1.2640 - acc: 0.650 - ETA: 2:21 - loss: 1.2626 - acc: 0.651 - ETA: 2:18 - loss: 1.2616 - acc: 0.650 - ETA: 2:16 - loss: 1.2606 - acc: 0.650 - ETA: 2:13 - loss: 1.2587 - acc: 0.651 - ETA: 2:11 - loss: 1.2566 - acc: 0.651 - ETA: 2:08 - loss: 1.2554 - acc: 0.651 - ETA: 2:06 - loss: 1.2542 - acc: 0.651 - ETA: 2:04 - loss: 1.2524 - acc: 0.652 - ETA: 2:01 - loss: 1.2504 - acc: 0.652 - ETA: 1:59 - loss: 1.2486 - acc: 0.653 - ETA: 1:56 - loss: 1.2483 - acc: 0.652 - ETA: 1:54 - loss: 1.2471 - acc: 0.652 - ETA: 1:51 - loss: 1.2464 - acc: 0.652 - ETA: 1:49 - loss: 1.2451 - acc: 0.652 - ETA: 1:46 - loss: 1.2446 - acc: 0.652 - ETA: 1:44 - loss: 1.2432 - acc: 0.652 - ETA: 1:41 - loss: 1.2430 - acc: 0.652 - ETA: 1:39 - loss: 1.2421 - acc: 0.652 - ETA: 1:36 - loss: 1.2412 - acc: 0.652 - ETA: 1:34 - loss: 1.2407 - acc: 0.652 - ETA: 1:31 - loss: 1.2394 - acc: 0.652 - ETA: 1:29 - loss: 1.2384 - acc: 0.652 - ETA: 1:26 - loss: 1.2382 - acc: 0.652 - ETA: 1:24 - loss: 1.2379 - acc: 0.651 - ETA: 1:21 - loss: 1.2369 - acc: 0.652 - ETA: 1:19 - loss: 1.2361 - acc: 0.651 - ETA: 1:17 - loss: 1.2354 - acc: 0.651 - ETA: 1:14 - loss: 1.2342 - acc: 0.652 - ETA: 1:12 - loss: 1.2335 - acc: 0.652 - ETA: 1:09 - loss: 1.2335 - acc: 0.651 - ETA: 1:07 - loss: 1.2318 - acc: 0.652 - ETA: 1:04 - loss: 1.2310 - acc: 0.652 - ETA: 1:02 - loss: 1.2310 - acc: 0.651 - ETA: 59s - loss: 1.2296 - acc: 0.652 - ETA: 57s - loss: 1.2289 - acc: 0.65 - ETA: 54s - loss: 1.2278 - acc: 0.65 - ETA: 52s - loss: 1.2272 - acc: 0.65 - ETA: 49s - loss: 1.2265 - acc: 0.65 - ETA: 47s - loss: 1.2254 - acc: 0.65 - ETA: 44s - loss: 1.2245 - acc: 0.65 - ETA: 42s - loss: 1.2247 - acc: 0.65 - ETA: 40s - loss: 1.2239 - acc: 0.65 - ETA: 37s - loss: 1.2232 - acc: 0.65 - ETA: 35s - loss: 1.2225 - acc: 0.65 - ETA: 32s - loss: 1.2212 - acc: 0.65 - ETA: 30s - loss: 1.2199 - acc: 0.65 - ETA: 27s - loss: 1.2186 - acc: 0.65 - ETA: 25s - loss: 1.2175 - acc: 0.65 - ETA: 22s - loss: 1.2169 - acc: 0.65 - ETA: 20s - loss: 1.2161 - acc: 0.65 - ETA: 17s - loss: 1.2152 - acc: 0.65 - ETA: 15s - loss: 1.2146 - acc: 0.65 - ETA: 13s - loss: 1.2136 - acc: 0.65 - ETA: 10s - loss: 1.2125 - acc: 0.65 - ETA: 8s - loss: 1.2119 - acc: 0.6534 - ETA: 5s - loss: 1.2102 - acc: 0.653 - ETA: 3s - loss: 1.2094 - acc: 0.653 - ETA: 0s - loss: 1.2085 - acc: 0.654 - 482s 19ms/step - loss: 1.2083 - acc: 0.6540 - val_loss: 1.0746 - val_acc: 0.6637\n",
      "Epoch 2/4\n"
     ]
    },
    {
     "name": "stdout",
     "output_type": "stream",
     "text": [
      "25000/25000 [==============================] - ETA: 8:01 - loss: 1.0450 - acc: 0.664 - ETA: 8:18 - loss: 1.0631 - acc: 0.671 - ETA: 8:19 - loss: 1.0471 - acc: 0.671 - ETA: 8:25 - loss: 1.0762 - acc: 0.658 - ETA: 8:20 - loss: 1.1327 - acc: 0.635 - ETA: 8:13 - loss: 1.1299 - acc: 0.634 - ETA: 8:05 - loss: 1.1256 - acc: 0.637 - ETA: 7:58 - loss: 1.1196 - acc: 0.641 - ETA: 7:53 - loss: 1.1268 - acc: 0.638 - ETA: 7:53 - loss: 1.1275 - acc: 0.635 - ETA: 7:50 - loss: 1.1340 - acc: 0.632 - ETA: 7:45 - loss: 1.1203 - acc: 0.640 - ETA: 7:38 - loss: 1.1117 - acc: 0.644 - ETA: 7:31 - loss: 1.1142 - acc: 0.643 - ETA: 7:24 - loss: 1.1189 - acc: 0.640 - ETA: 7:18 - loss: 1.1139 - acc: 0.644 - ETA: 7:12 - loss: 1.1136 - acc: 0.643 - ETA: 7:06 - loss: 1.1040 - acc: 0.648 - ETA: 7:00 - loss: 1.1036 - acc: 0.648 - ETA: 6:55 - loss: 1.1008 - acc: 0.649 - ETA: 6:50 - loss: 1.1019 - acc: 0.649 - ETA: 6:44 - loss: 1.1076 - acc: 0.646 - ETA: 6:40 - loss: 1.1070 - acc: 0.647 - ETA: 6:35 - loss: 1.1060 - acc: 0.647 - ETA: 6:31 - loss: 1.1055 - acc: 0.647 - ETA: 6:27 - loss: 1.1095 - acc: 0.645 - ETA: 6:24 - loss: 1.1073 - acc: 0.646 - ETA: 6:20 - loss: 1.1118 - acc: 0.644 - ETA: 6:17 - loss: 1.1142 - acc: 0.643 - ETA: 6:13 - loss: 1.1155 - acc: 0.642 - ETA: 6:10 - loss: 1.1118 - acc: 0.644 - ETA: 6:06 - loss: 1.1096 - acc: 0.645 - ETA: 6:03 - loss: 1.1091 - acc: 0.645 - ETA: 6:01 - loss: 1.1060 - acc: 0.647 - ETA: 5:58 - loss: 1.1032 - acc: 0.648 - ETA: 5:56 - loss: 1.1016 - acc: 0.648 - ETA: 5:53 - loss: 1.1012 - acc: 0.648 - ETA: 5:51 - loss: 1.1053 - acc: 0.647 - ETA: 5:48 - loss: 1.1017 - acc: 0.649 - ETA: 5:46 - loss: 1.1030 - acc: 0.648 - ETA: 5:44 - loss: 1.0978 - acc: 0.651 - ETA: 5:41 - loss: 1.0920 - acc: 0.654 - ETA: 5:39 - loss: 1.0906 - acc: 0.654 - ETA: 5:36 - loss: 1.0905 - acc: 0.654 - ETA: 5:33 - loss: 1.0887 - acc: 0.655 - ETA: 5:32 - loss: 1.0853 - acc: 0.656 - ETA: 5:31 - loss: 1.0862 - acc: 0.656 - ETA: 5:29 - loss: 1.0870 - acc: 0.656 - ETA: 5:26 - loss: 1.0874 - acc: 0.655 - ETA: 5:25 - loss: 1.0882 - acc: 0.655 - ETA: 5:22 - loss: 1.0881 - acc: 0.655 - ETA: 5:20 - loss: 1.0871 - acc: 0.655 - ETA: 5:17 - loss: 1.0853 - acc: 0.656 - ETA: 5:15 - loss: 1.0860 - acc: 0.656 - ETA: 5:15 - loss: 1.0850 - acc: 0.656 - ETA: 5:14 - loss: 1.0855 - acc: 0.656 - ETA: 5:11 - loss: 1.0843 - acc: 0.656 - ETA: 5:09 - loss: 1.0845 - acc: 0.656 - ETA: 5:06 - loss: 1.0803 - acc: 0.658 - ETA: 5:03 - loss: 1.0806 - acc: 0.658 - ETA: 5:01 - loss: 1.0814 - acc: 0.657 - ETA: 4:58 - loss: 1.0820 - acc: 0.657 - ETA: 4:56 - loss: 1.0800 - acc: 0.658 - ETA: 4:53 - loss: 1.0802 - acc: 0.658 - ETA: 4:51 - loss: 1.0821 - acc: 0.657 - ETA: 4:48 - loss: 1.0826 - acc: 0.657 - ETA: 4:45 - loss: 1.0811 - acc: 0.657 - ETA: 4:43 - loss: 1.0818 - acc: 0.657 - ETA: 4:40 - loss: 1.0796 - acc: 0.658 - ETA: 4:38 - loss: 1.0795 - acc: 0.658 - ETA: 4:35 - loss: 1.0806 - acc: 0.658 - ETA: 4:33 - loss: 1.0815 - acc: 0.657 - ETA: 4:31 - loss: 1.0803 - acc: 0.658 - ETA: 4:28 - loss: 1.0808 - acc: 0.657 - ETA: 4:26 - loss: 1.0800 - acc: 0.658 - ETA: 4:24 - loss: 1.0777 - acc: 0.659 - ETA: 4:22 - loss: 1.0784 - acc: 0.659 - ETA: 4:19 - loss: 1.0793 - acc: 0.658 - ETA: 4:17 - loss: 1.0793 - acc: 0.658 - ETA: 4:15 - loss: 1.0793 - acc: 0.658 - ETA: 4:13 - loss: 1.0780 - acc: 0.659 - ETA: 4:11 - loss: 1.0768 - acc: 0.660 - ETA: 4:10 - loss: 1.0768 - acc: 0.660 - ETA: 4:08 - loss: 1.0752 - acc: 0.660 - ETA: 4:06 - loss: 1.0744 - acc: 0.661 - ETA: 4:04 - loss: 1.0747 - acc: 0.661 - ETA: 4:02 - loss: 1.0736 - acc: 0.661 - ETA: 4:00 - loss: 1.0720 - acc: 0.662 - ETA: 3:58 - loss: 1.0735 - acc: 0.661 - ETA: 3:56 - loss: 1.0736 - acc: 0.661 - ETA: 3:54 - loss: 1.0737 - acc: 0.661 - ETA: 3:52 - loss: 1.0742 - acc: 0.661 - ETA: 3:50 - loss: 1.0743 - acc: 0.661 - ETA: 3:48 - loss: 1.0732 - acc: 0.661 - ETA: 3:46 - loss: 1.0734 - acc: 0.661 - ETA: 3:44 - loss: 1.0730 - acc: 0.661 - ETA: 3:42 - loss: 1.0720 - acc: 0.661 - ETA: 3:40 - loss: 1.0709 - acc: 0.662 - ETA: 3:38 - loss: 1.0705 - acc: 0.662 - ETA: 3:36 - loss: 1.0701 - acc: 0.662 - ETA: 3:34 - loss: 1.0685 - acc: 0.663 - ETA: 3:31 - loss: 1.0692 - acc: 0.662 - ETA: 3:29 - loss: 1.0694 - acc: 0.662 - ETA: 3:27 - loss: 1.0703 - acc: 0.662 - ETA: 3:25 - loss: 1.0699 - acc: 0.662 - ETA: 3:23 - loss: 1.0697 - acc: 0.662 - ETA: 3:21 - loss: 1.0699 - acc: 0.662 - ETA: 3:19 - loss: 1.0702 - acc: 0.662 - ETA: 3:17 - loss: 1.0715 - acc: 0.661 - ETA: 3:14 - loss: 1.0709 - acc: 0.661 - ETA: 3:12 - loss: 1.0696 - acc: 0.662 - ETA: 3:09 - loss: 1.0691 - acc: 0.662 - ETA: 3:07 - loss: 1.0693 - acc: 0.662 - ETA: 3:04 - loss: 1.0698 - acc: 0.662 - ETA: 3:02 - loss: 1.0702 - acc: 0.662 - ETA: 3:00 - loss: 1.0698 - acc: 0.662 - ETA: 2:58 - loss: 1.0691 - acc: 0.662 - ETA: 2:56 - loss: 1.0685 - acc: 0.662 - ETA: 2:53 - loss: 1.0684 - acc: 0.662 - ETA: 2:51 - loss: 1.0677 - acc: 0.662 - ETA: 2:49 - loss: 1.0670 - acc: 0.663 - ETA: 2:47 - loss: 1.0673 - acc: 0.663 - ETA: 2:45 - loss: 1.0660 - acc: 0.663 - ETA: 2:43 - loss: 1.0663 - acc: 0.663 - ETA: 2:41 - loss: 1.0654 - acc: 0.663 - ETA: 2:38 - loss: 1.0659 - acc: 0.663 - ETA: 2:36 - loss: 1.0660 - acc: 0.663 - ETA: 2:34 - loss: 1.0657 - acc: 0.663 - ETA: 2:32 - loss: 1.0665 - acc: 0.663 - ETA: 2:30 - loss: 1.0671 - acc: 0.662 - ETA: 2:27 - loss: 1.0664 - acc: 0.663 - ETA: 2:25 - loss: 1.0671 - acc: 0.662 - ETA: 2:23 - loss: 1.0678 - acc: 0.662 - ETA: 2:21 - loss: 1.0678 - acc: 0.662 - ETA: 2:19 - loss: 1.0675 - acc: 0.662 - ETA: 2:16 - loss: 1.0671 - acc: 0.663 - ETA: 2:14 - loss: 1.0673 - acc: 0.662 - ETA: 2:12 - loss: 1.0664 - acc: 0.663 - ETA: 2:09 - loss: 1.0665 - acc: 0.663 - ETA: 2:07 - loss: 1.0662 - acc: 0.663 - ETA: 2:05 - loss: 1.0664 - acc: 0.663 - ETA: 2:02 - loss: 1.0662 - acc: 0.663 - ETA: 2:00 - loss: 1.0656 - acc: 0.663 - ETA: 1:58 - loss: 1.0648 - acc: 0.664 - ETA: 1:55 - loss: 1.0645 - acc: 0.664 - ETA: 1:53 - loss: 1.0658 - acc: 0.663 - ETA: 1:50 - loss: 1.0659 - acc: 0.663 - ETA: 1:48 - loss: 1.0663 - acc: 0.662 - ETA: 1:46 - loss: 1.0666 - acc: 0.662 - ETA: 1:43 - loss: 1.0659 - acc: 0.663 - ETA: 1:41 - loss: 1.0655 - acc: 0.663 - ETA: 1:39 - loss: 1.0658 - acc: 0.663 - ETA: 1:37 - loss: 1.0662 - acc: 0.663 - ETA: 1:34 - loss: 1.0659 - acc: 0.663 - ETA: 1:32 - loss: 1.0657 - acc: 0.663 - ETA: 1:30 - loss: 1.0657 - acc: 0.663 - ETA: 1:27 - loss: 1.0653 - acc: 0.663 - ETA: 1:25 - loss: 1.0654 - acc: 0.663 - ETA: 1:23 - loss: 1.0653 - acc: 0.663 - ETA: 1:20 - loss: 1.0662 - acc: 0.663 - ETA: 1:18 - loss: 1.0668 - acc: 0.662 - ETA: 1:16 - loss: 1.0654 - acc: 0.663 - ETA: 1:14 - loss: 1.0656 - acc: 0.663 - ETA: 1:11 - loss: 1.0658 - acc: 0.663 - ETA: 1:09 - loss: 1.0659 - acc: 0.663 - ETA: 1:07 - loss: 1.0655 - acc: 0.663 - ETA: 1:05 - loss: 1.0668 - acc: 0.662 - ETA: 1:02 - loss: 1.0673 - acc: 0.662 - ETA: 1:00 - loss: 1.0667 - acc: 0.663 - ETA: 58s - loss: 1.0665 - acc: 0.663 - ETA: 55s - loss: 1.0673 - acc: 0.66 - ETA: 53s - loss: 1.0676 - acc: 0.66 - ETA: 51s - loss: 1.0676 - acc: 0.66 - ETA: 49s - loss: 1.0676 - acc: 0.66 - ETA: 46s - loss: 1.0673 - acc: 0.66 - ETA: 44s - loss: 1.0671 - acc: 0.66 - ETA: 42s - loss: 1.0672 - acc: 0.66 - ETA: 39s - loss: 1.0668 - acc: 0.66 - ETA: 37s - loss: 1.0670 - acc: 0.66 - ETA: 35s - loss: 1.0667 - acc: 0.66 - ETA: 33s - loss: 1.0667 - acc: 0.66 - ETA: 30s - loss: 1.0667 - acc: 0.66 - ETA: 28s - loss: 1.0665 - acc: 0.66 - ETA: 26s - loss: 1.0668 - acc: 0.66 - ETA: 23s - loss: 1.0679 - acc: 0.66 - ETA: 21s - loss: 1.0676 - acc: 0.66 - ETA: 19s - loss: 1.0674 - acc: 0.66 - ETA: 17s - loss: 1.0666 - acc: 0.66 - ETA: 14s - loss: 1.0667 - acc: 0.66 - ETA: 12s - loss: 1.0663 - acc: 0.66 - ETA: 10s - loss: 1.0659 - acc: 0.66 - ETA: 7s - loss: 1.0660 - acc: 0.6628 - ETA: 5s - loss: 1.0657 - acc: 0.663 - ETA: 3s - loss: 1.0654 - acc: 0.663 - ETA: 0s - loss: 1.0654 - acc: 0.663 - 458s 18ms/step - loss: 1.0656 - acc: 0.6630 - val_loss: 1.0673 - val_acc: 0.6637\n",
      "Epoch 3/4\n"
     ]
    },
    {
     "name": "stdout",
     "output_type": "stream",
     "text": [
      "25000/25000 [==============================] - ETA: 7:47 - loss: 1.0153 - acc: 0.687 - ETA: 7:54 - loss: 1.0229 - acc: 0.683 - ETA: 7:49 - loss: 1.0690 - acc: 0.658 - ETA: 7:53 - loss: 1.0418 - acc: 0.673 - ETA: 7:53 - loss: 1.0355 - acc: 0.675 - ETA: 7:58 - loss: 1.0052 - acc: 0.688 - ETA: 7:55 - loss: 1.0198 - acc: 0.683 - ETA: 7:59 - loss: 1.0169 - acc: 0.688 - ETA: 7:59 - loss: 1.0334 - acc: 0.680 - ETA: 7:54 - loss: 1.0415 - acc: 0.675 - ETA: 7:52 - loss: 1.0341 - acc: 0.679 - ETA: 7:52 - loss: 1.0371 - acc: 0.676 - ETA: 7:50 - loss: 1.0372 - acc: 0.674 - ETA: 7:52 - loss: 1.0434 - acc: 0.670 - ETA: 7:49 - loss: 1.0424 - acc: 0.671 - ETA: 7:45 - loss: 1.0365 - acc: 0.674 - ETA: 7:42 - loss: 1.0438 - acc: 0.671 - ETA: 7:39 - loss: 1.0419 - acc: 0.671 - ETA: 7:36 - loss: 1.0410 - acc: 0.671 - ETA: 7:34 - loss: 1.0431 - acc: 0.670 - ETA: 7:31 - loss: 1.0461 - acc: 0.669 - ETA: 7:28 - loss: 1.0440 - acc: 0.670 - ETA: 7:26 - loss: 1.0470 - acc: 0.669 - ETA: 7:24 - loss: 1.0477 - acc: 0.668 - ETA: 7:24 - loss: 1.0481 - acc: 0.668 - ETA: 7:22 - loss: 1.0492 - acc: 0.667 - ETA: 7:20 - loss: 1.0460 - acc: 0.669 - ETA: 7:17 - loss: 1.0521 - acc: 0.666 - ETA: 7:15 - loss: 1.0525 - acc: 0.666 - ETA: 7:14 - loss: 1.0553 - acc: 0.664 - ETA: 7:11 - loss: 1.0556 - acc: 0.665 - ETA: 7:08 - loss: 1.0585 - acc: 0.663 - ETA: 7:06 - loss: 1.0560 - acc: 0.664 - ETA: 7:03 - loss: 1.0530 - acc: 0.665 - ETA: 7:01 - loss: 1.0533 - acc: 0.664 - ETA: 6:58 - loss: 1.0514 - acc: 0.665 - ETA: 6:55 - loss: 1.0488 - acc: 0.666 - ETA: 6:52 - loss: 1.0478 - acc: 0.667 - ETA: 6:49 - loss: 1.0482 - acc: 0.666 - ETA: 6:45 - loss: 1.0453 - acc: 0.668 - ETA: 6:43 - loss: 1.0448 - acc: 0.668 - ETA: 6:41 - loss: 1.0443 - acc: 0.668 - ETA: 6:39 - loss: 1.0454 - acc: 0.668 - ETA: 6:37 - loss: 1.0444 - acc: 0.669 - ETA: 6:34 - loss: 1.0436 - acc: 0.669 - ETA: 6:31 - loss: 1.0419 - acc: 0.669 - ETA: 6:27 - loss: 1.0436 - acc: 0.669 - ETA: 6:23 - loss: 1.0421 - acc: 0.669 - ETA: 6:19 - loss: 1.0433 - acc: 0.669 - ETA: 6:16 - loss: 1.0425 - acc: 0.669 - ETA: 6:12 - loss: 1.0437 - acc: 0.669 - ETA: 6:08 - loss: 1.0428 - acc: 0.669 - ETA: 6:04 - loss: 1.0454 - acc: 0.668 - ETA: 6:00 - loss: 1.0482 - acc: 0.666 - ETA: 5:56 - loss: 1.0471 - acc: 0.667 - ETA: 5:53 - loss: 1.0451 - acc: 0.668 - ETA: 5:49 - loss: 1.0454 - acc: 0.668 - ETA: 5:45 - loss: 1.0463 - acc: 0.667 - ETA: 5:42 - loss: 1.0468 - acc: 0.667 - ETA: 5:39 - loss: 1.0455 - acc: 0.668 - ETA: 5:35 - loss: 1.0455 - acc: 0.668 - ETA: 5:32 - loss: 1.0451 - acc: 0.668 - ETA: 5:29 - loss: 1.0453 - acc: 0.668 - ETA: 5:26 - loss: 1.0444 - acc: 0.669 - ETA: 5:23 - loss: 1.0448 - acc: 0.668 - ETA: 5:20 - loss: 1.0454 - acc: 0.668 - ETA: 5:17 - loss: 1.0468 - acc: 0.667 - ETA: 5:14 - loss: 1.0481 - acc: 0.667 - ETA: 5:10 - loss: 1.0475 - acc: 0.667 - ETA: 5:07 - loss: 1.0485 - acc: 0.667 - ETA: 5:04 - loss: 1.0472 - acc: 0.668 - ETA: 5:01 - loss: 1.0470 - acc: 0.667 - ETA: 4:59 - loss: 1.0468 - acc: 0.667 - ETA: 4:57 - loss: 1.0490 - acc: 0.666 - ETA: 4:55 - loss: 1.0504 - acc: 0.666 - ETA: 4:52 - loss: 1.0506 - acc: 0.666 - ETA: 4:50 - loss: 1.0523 - acc: 0.665 - ETA: 4:47 - loss: 1.0517 - acc: 0.665 - ETA: 4:45 - loss: 1.0509 - acc: 0.666 - ETA: 4:43 - loss: 1.0496 - acc: 0.666 - ETA: 4:40 - loss: 1.0509 - acc: 0.666 - ETA: 4:37 - loss: 1.0518 - acc: 0.666 - ETA: 4:35 - loss: 1.0536 - acc: 0.665 - ETA: 4:33 - loss: 1.0539 - acc: 0.665 - ETA: 4:30 - loss: 1.0520 - acc: 0.666 - ETA: 4:28 - loss: 1.0514 - acc: 0.666 - ETA: 4:25 - loss: 1.0519 - acc: 0.665 - ETA: 4:23 - loss: 1.0519 - acc: 0.666 - ETA: 4:21 - loss: 1.0537 - acc: 0.665 - ETA: 4:18 - loss: 1.0524 - acc: 0.665 - ETA: 4:16 - loss: 1.0522 - acc: 0.666 - ETA: 4:14 - loss: 1.0525 - acc: 0.665 - ETA: 4:12 - loss: 1.0516 - acc: 0.665 - ETA: 4:09 - loss: 1.0516 - acc: 0.665 - ETA: 4:07 - loss: 1.0524 - acc: 0.665 - ETA: 4:05 - loss: 1.0508 - acc: 0.666 - ETA: 4:03 - loss: 1.0506 - acc: 0.666 - ETA: 4:01 - loss: 1.0505 - acc: 0.666 - ETA: 3:58 - loss: 1.0506 - acc: 0.666 - ETA: 3:56 - loss: 1.0520 - acc: 0.665 - ETA: 3:53 - loss: 1.0525 - acc: 0.665 - ETA: 3:50 - loss: 1.0524 - acc: 0.665 - ETA: 3:47 - loss: 1.0527 - acc: 0.665 - ETA: 3:44 - loss: 1.0523 - acc: 0.665 - ETA: 3:42 - loss: 1.0520 - acc: 0.665 - ETA: 3:39 - loss: 1.0522 - acc: 0.665 - ETA: 3:37 - loss: 1.0515 - acc: 0.665 - ETA: 3:34 - loss: 1.0516 - acc: 0.665 - ETA: 3:32 - loss: 1.0515 - acc: 0.665 - ETA: 3:29 - loss: 1.0524 - acc: 0.665 - ETA: 3:27 - loss: 1.0537 - acc: 0.664 - ETA: 3:25 - loss: 1.0534 - acc: 0.664 - ETA: 3:22 - loss: 1.0529 - acc: 0.664 - ETA: 3:20 - loss: 1.0529 - acc: 0.664 - ETA: 3:17 - loss: 1.0530 - acc: 0.664 - ETA: 3:14 - loss: 1.0523 - acc: 0.664 - ETA: 3:12 - loss: 1.0525 - acc: 0.665 - ETA: 3:09 - loss: 1.0522 - acc: 0.665 - ETA: 3:06 - loss: 1.0517 - acc: 0.665 - ETA: 3:04 - loss: 1.0504 - acc: 0.666 - ETA: 3:01 - loss: 1.0494 - acc: 0.666 - ETA: 2:59 - loss: 1.0494 - acc: 0.666 - ETA: 2:56 - loss: 1.0492 - acc: 0.666 - ETA: 2:54 - loss: 1.0506 - acc: 0.665 - ETA: 2:52 - loss: 1.0513 - acc: 0.665 - ETA: 2:49 - loss: 1.0507 - acc: 0.665 - ETA: 2:47 - loss: 1.0519 - acc: 0.664 - ETA: 2:45 - loss: 1.0520 - acc: 0.664 - ETA: 2:43 - loss: 1.0524 - acc: 0.664 - ETA: 2:41 - loss: 1.0517 - acc: 0.664 - ETA: 2:39 - loss: 1.0520 - acc: 0.664 - ETA: 2:37 - loss: 1.0519 - acc: 0.664 - ETA: 2:34 - loss: 1.0534 - acc: 0.663 - ETA: 2:32 - loss: 1.0535 - acc: 0.663 - ETA: 2:30 - loss: 1.0522 - acc: 0.664 - ETA: 2:27 - loss: 1.0527 - acc: 0.664 - ETA: 2:25 - loss: 1.0530 - acc: 0.664 - ETA: 2:23 - loss: 1.0522 - acc: 0.664 - ETA: 2:20 - loss: 1.0527 - acc: 0.664 - ETA: 2:18 - loss: 1.0524 - acc: 0.664 - ETA: 2:15 - loss: 1.0514 - acc: 0.664 - ETA: 2:13 - loss: 1.0514 - acc: 0.664 - ETA: 2:11 - loss: 1.0514 - acc: 0.664 - ETA: 2:08 - loss: 1.0520 - acc: 0.664 - ETA: 2:06 - loss: 1.0525 - acc: 0.664 - ETA: 2:04 - loss: 1.0529 - acc: 0.664 - ETA: 2:01 - loss: 1.0527 - acc: 0.664 - ETA: 1:59 - loss: 1.0533 - acc: 0.663 - ETA: 1:56 - loss: 1.0528 - acc: 0.663 - ETA: 1:54 - loss: 1.0529 - acc: 0.664 - ETA: 1:52 - loss: 1.0529 - acc: 0.664 - ETA: 1:49 - loss: 1.0531 - acc: 0.664 - ETA: 1:47 - loss: 1.0529 - acc: 0.664 - ETA: 1:44 - loss: 1.0528 - acc: 0.664 - ETA: 1:42 - loss: 1.0524 - acc: 0.664 - ETA: 1:40 - loss: 1.0519 - acc: 0.664 - ETA: 1:37 - loss: 1.0524 - acc: 0.664 - ETA: 1:35 - loss: 1.0536 - acc: 0.664 - ETA: 1:32 - loss: 1.0538 - acc: 0.663 - ETA: 1:30 - loss: 1.0536 - acc: 0.664 - ETA: 1:27 - loss: 1.0531 - acc: 0.664 - ETA: 1:25 - loss: 1.0539 - acc: 0.663 - ETA: 1:22 - loss: 1.0534 - acc: 0.664 - ETA: 1:20 - loss: 1.0535 - acc: 0.664 - ETA: 1:17 - loss: 1.0535 - acc: 0.664 - ETA: 1:15 - loss: 1.0544 - acc: 0.663 - ETA: 1:12 - loss: 1.0544 - acc: 0.663 - ETA: 1:09 - loss: 1.0545 - acc: 0.663 - ETA: 1:07 - loss: 1.0547 - acc: 0.663 - ETA: 1:04 - loss: 1.0548 - acc: 0.663 - ETA: 1:02 - loss: 1.0546 - acc: 0.663 - ETA: 59s - loss: 1.0552 - acc: 0.663 - ETA: 57s - loss: 1.0554 - acc: 0.66 - ETA: 54s - loss: 1.0557 - acc: 0.66 - ETA: 52s - loss: 1.0566 - acc: 0.66 - ETA: 49s - loss: 1.0564 - acc: 0.66 - ETA: 47s - loss: 1.0561 - acc: 0.66 - ETA: 44s - loss: 1.0562 - acc: 0.66 - ETA: 41s - loss: 1.0570 - acc: 0.66 - ETA: 39s - loss: 1.0574 - acc: 0.66 - ETA: 36s - loss: 1.0573 - acc: 0.66 - ETA: 34s - loss: 1.0571 - acc: 0.66 - ETA: 31s - loss: 1.0569 - acc: 0.66 - ETA: 29s - loss: 1.0568 - acc: 0.66 - ETA: 26s - loss: 1.0564 - acc: 0.66 - ETA: 24s - loss: 1.0561 - acc: 0.66 - ETA: 21s - loss: 1.0565 - acc: 0.66 - ETA: 18s - loss: 1.0558 - acc: 0.66 - ETA: 16s - loss: 1.0565 - acc: 0.66 - ETA: 13s - loss: 1.0568 - acc: 0.66 - ETA: 11s - loss: 1.0563 - acc: 0.66 - ETA: 8s - loss: 1.0561 - acc: 0.6629 - ETA: 5s - loss: 1.0558 - acc: 0.663 - ETA: 3s - loss: 1.0560 - acc: 0.662 - ETA: 0s - loss: 1.0557 - acc: 0.663 - 509s 20ms/step - loss: 1.0557 - acc: 0.6630 - val_loss: 1.0599 - val_acc: 0.6637\n",
      "Restoring model weights from the end of the best epoch\n",
      "Epoch 00003: early stopping\n"
     ]
    },
    {
     "data": {
      "text/plain": [
       "<keras.callbacks.History at 0x22ae5997748>"
      ]
     },
     "execution_count": 62,
     "metadata": {},
     "output_type": "execute_result"
    }
   ],
   "source": [
    "model.fit(x_train_part, y_train_part,\n",
    "          batch_size=batch_size,\n",
    "          epochs=epochs,\n",
    "          callbacks=[earlyStopping],\n",
    "          validation_data=(x_test_part, y_test_part))"
   ]
  },
  {
   "cell_type": "code",
   "execution_count": 63,
   "metadata": {},
   "outputs": [],
   "source": [
    "y_predicted_scores = model.predict(x_test_part)"
   ]
  },
  {
   "cell_type": "code",
   "execution_count": 82,
   "metadata": {},
   "outputs": [],
   "source": [
    "abc = tokenizer.sequences_to_texts(x_test_part)"
   ]
  },
  {
   "cell_type": "code",
   "execution_count": 83,
   "metadata": {},
   "outputs": [
    {
     "data": {
      "text/plain": [
       "['прекрасное продолжение серии добротный язык и симпатичные персонажи читается легко но хочется удовольствие эту серию иногда что слишком много главного героя но это основа сюжета книга не о мальчика а о том как наш успешно управления в условиях 12 века и в теле 12 летнего мальчика автор еще',\n",
       " 'сомневаюсь что можно пройти первый раз эту за час через все ребенок все вряд ли что ребенок будет когда шарик падает к качеству замечаний нет завышена ли цена оценить не могу скорее больше за брали со скидкой',\n",
       " 'долго выбирала и наконец выбрала коричневый открывать было немного вдруг не такой красивый как на фото очень красивый оказался замечательный просто и очень аккуратно выполнен для такой стоимости просто великолепно словом отличный красиво по',\n",
       " 'уже писала отзыв на этот товар брала еще до ребенку уже 9 мес а я все еще не могу без большая и всего не ребенок мог бы до но я вовремя эти попытки благодаря ей в итоге малыш не окончательно из за какой нибудь мелочи и свой сон полностью как положено думаю эта вещь мне еще надолго пригодится с этим и с когда ребенок спит эта вещица всегда при мне даже дома ли у нас малыш потому что не слышно его и нет в мама вовремя кто то что я ребенка но ведь это мой моя мамы',\n",
       " 'приятно пахнет не не густой мелкие отлично работает',\n",
       " 'сколько людей столько сериал хорош с уважением к автору а идея о в наше время тем что дает поле для фантазии как так и актеров с чем те и другие на мой взгляд без так что безусловно это лучшая на тему за последние лет 20',\n",
       " 'за такие деньги отличный выбор',\n",
       " 'отличная мышь держит заряд без хорошо лежит в руке при работе у меня за год использования не было никаких',\n",
       " 'горшок удобный устойчивый легко моется ребёнку нравится но гораздо дешевле',\n",
       " 'для начинающих у кого это первая колода то вполне за такую цену попробовать для более использования конечно точно не вариант',\n",
       " 'в целом кукла понравилась конечно и мы ее не будем слишком тяжело приходится чтобы на горшок но я ее брала не из за этих функций просто понравилась в сравнении с другими лучше качество сразу видно купили еще трех этой же фирмы очень довольны дочке нравится',\n",
       " 'очень тонкие лишь от и в целом для и самое то для 98 брали 98 не а наоборот как то маловато нам сейчас носит см хотели взять больше но за такую цену будем искать другой вариант мы брали за за 3 уже не для',\n",
       " 'вроде как на этой детской зубной щетки не меняется насадка это да и насадка для ребенка части щетки для очистки между они тоже',\n",
       " 'игрушки от всегда радуют отличное качество любимые персонажи яркие красивые очень довольна покупкой',\n",
       " 'купили в подарок очень понравилась и ткань приятная на ощупь и забавный рисунок и качество',\n",
       " 'пока работает несмотря на то что на не все элементы брал так что недорого йогурт готовит хорошо как долго большой вопрос',\n",
       " 'это именно такая литература которая должна быть веселая тонкая без и читаю детям и мужу и все уже и кота очень ждем продолжения а нашла я этого автора случайно в где он короткие о своем и что еще отметить чудесные иллюстрации великолепные живые',\n",
       " 'в книге подробно и понятно основных и и изменения имеется огромное количество примеров лучше понять и материал единственное что немного напрягает но в то же время является в книге нет ни строчки поэтому приходится в каждое слово',\n",
       " 'замечательный диск интересные все супер',\n",
       " 'жаль потраченных денег времени и бумаги 400 с лишним страниц автора типа в один прекрасный день нет не так может лучше нет скорее может лучше начать по другому и вообще здесь все и это в жанре то на 3 й странице читатель уже понимать чего же от него хочет автор читать скучно и тяжело',\n",
       " 'я вам нет',\n",
       " 'в сравнении с предыдущим прекрасное удачная система кабель качественный товар',\n",
       " 'пришли не того размера вернуть на замену',\n",
       " 'приятный запах легкое стойкий цвет рекомендую',\n",
       " 'очень и девайс заряжает как надо',\n",
       " 'купила нож в подарок другу хотелось подобрать именно друг остался очень доволен без такого в кармане он как без рук небольшой по размеру и на все случаи жизни очень невероятно острые',\n",
       " 'очень довольна пылесос пришел как раз перед новым годом такой замечательный подарок сделала себе моментально собирает все и мусор хорошо собирает и шерсть от моей любимой кошки только шерсть из сама не хочет приходится рукой а просто мусор сам без проблем согласна с чистоты на все 100',\n",
       " 'купила эту и я осталась очень текстура цвета очень хорошие легко и держатся весь день',\n",
       " 'дочка и её друзья довольны но игрушка не оправдала за такие деньги само ничего не',\n",
       " 'случайно на этот и естественно мой выбор на нём и остановился моя девушка просто с ума от этого запаха естественно ведь он ещё более и конечно у каждого свой выбор но мой выбор остановился на нём и менять не также отсутствие белых пятен от на делает его ещё более в своё',\n",
       " 'лучшая удобная приятно держать чистит отлично',\n",
       " 'качественная с помощью на и ребенок вперед не не все упражнения простые ребенку 2 с года оч нравится выполнять особенно под музыку по мне оч удачная книжка',\n",
       " 'купила его чисто случайно – не смогла когда увидела он же такой классный и стильный и его можно использовать как душе угодно сейчас сюда на сайт чтобы посмотреть какие еще есть',\n",
       " 'швы в нескольких местах сразу же хотя вес был небольшой',\n",
       " 'в комплекте есть пакетик с который можно еще на долгое время не надо в заблуждение в комплекте нет никаких с однако это нисколько не достоинств этого девайс довольно неплохой одним словом',\n",
       " 'сделана игра качественно даже взрослым интересно хоть и решили все иногда к ней чтобы у ребёнка не было решение ответы сразу и друзьям играть всем понравилось детям от 5 лет вобщем мы очень довольны всем советую',\n",
       " 'отличный мне повезло с которые идут в комплекте с и с 2013 и с 2014 вышло неплохо да это и но при заказе теперь судя по всему комментарии всё же кто то читает ибо мне привезли из 2 х вариантов которые я значит не всё сейчас 2 х цветные рекомендую ещё заказывать тоже видов где есть карты для таких вот это серия гости и первый случай самый на складе второй в целом доволен',\n",
       " 'покупала этот в магазине после того как отличный вообще пользоваться всеми которые есть в наборе теперь из всяких покупаю только средство для мытья посуды можно сказать экономия удобно пользоваться но его редко в основном им постельное белье чтобы',\n",
       " 'утром на вечером на проверено на себе очень советую',\n",
       " 'в целом игрушка неплохая ребёнок 11 месяцев с удовольствием с ней по улице и',\n",
       " 'вроде бы ничего возможно у автора очень хорошее то я в не но достоинства так себе кое где при описании с легко слабая связь с из жизни представить в из за одной фразы героя крайне трудно образ это вообще при с в четырех и постоянно обязательно бы на запах причем не и очень неприятно то что автор причем кажется очень хороший искренне считает что у нас своим все намного сложнее вот и о можно да и то не так как в романе а в целом действительно вроде бы ничего',\n",
       " 'книга шикарная покупайте не',\n",
       " 'брала для дочери для хранения дочки подошел форму держит в состоянии хорошо две боковые стенки две мягкие везде аккуратно правда сама ткань из которой он сделан кажется какой то что ли цена конечно завышена но о покупке я не жалею',\n",
       " 'качественная маленькая с в комплекте чехол на молнии отлично подходит для съемки в доволен приобретением',\n",
       " 'очень качественное исполнение и и оформление картон прочный приятная на ощупь',\n",
       " 'рекомендую очень довольна покупкой',\n",
       " 'при крышки очень резкий химический запах вещи становятся мягкими ставлю 4',\n",
       " 'хватило страниц на 30 40 ощущение что в читал у других авторов только с другими героев не на протяжении всего времени чтения я что последние страниц мой мозг и моё тело из но зачем мне читать ещё 400 страниц для этого p s а то что женщина знаю не сказать жене с утра что она выглядит не очень и не в на',\n",
       " 'пользуюсь около двух месяцев помимо объема еще и отлично увлажняет волосы особенно в время очень приятная цена',\n",
       " 'присоединяюсь ко всем отзывам но никто не ещё один плюс нет запаха на кухне ни приятно пахнет при а в этой сковороде хоть хоть отлично за один раз я 2 кг большими получилось хорошо но без какая обычно бывает при без крышки поэтому если всё таки надо то не сразу сковороду сковороду вполне удобно но и на не без этого сзади всё равно но меня всё это устраивает поэтому ставлю пять сковорода мне досталась по акции третий товар компании за 1 хотя сама бы за тысячи её не купила дороговато сковорода высота 6 5 см если то вполне тем более ручки на и в ответ отзыв от 12 резинки в на сковороде и не надо их клеить они отлично снимаются и',\n",
       " 'не пожалеете',\n",
       " 'заказала в подарок думаю что',\n",
       " 'тоже заказала для сына раньше он под двумя и все равно под этим очень тепло единственный небольшой недостаток ткань сверху но сыну не мешает',\n",
       " 'красивый но цвет после 2х стирок стал менее яркий',\n",
       " 'это не мой любимый альбом но не могу не сказать о нём несколько слов потому что именно с в этого альбома моё полное в мир в этом альбоме как всегда присутствует стиль полная музыке мне очень нравится что он в каждой долго не могла какой же он настоящий он не только он каждая песня отдельный целая жизнь',\n",
       " 'очень добрая и интересная книжка про и свое дело людей твердая пятерка',\n",
       " 'тема безусловно очень но не все в книге с например выбор фруктов у нас даже не говоря уже об остальных есть ли смысл уровень но есть и полезные вещи например продуктов в магазине',\n",
       " 'в наборе 48 карточек с и инструкция также есть который стирается с карточки и позволяет выполнять несколько раз если что то не получается качественная полиграфия и удобная упаковка набор можно взять с собой в дорогу хорошо задания и веселые картинки не вашего ребенка',\n",
       " 'хорошая качеством отличается от остальных но она без запаха запах считаю лучшим у',\n",
       " 'хороший комплект нежный цвет все швы аккуратные и что удивило белье',\n",
       " 'интересная история сюжет но чего то не хватает рекомендую прочитать',\n",
       " 'замечательный цена тоже вся продукция этой фирмы очень качественная я думаю и будет радовать спасибо всем кто доставке моего заказа',\n",
       " 'звезда моей черный оттенок подходит для макияжа и кисточка хотя более жесткие удобно лежит в руках при нанесении и ей можно делать стрелки',\n",
       " 'вполне приличный агрегат',\n",
       " 'а чем что то в наборе',\n",
       " 'книга бред и этого ощущение что это не а на эту рекомендую пройти мимо',\n",
       " 'все кому понравилось до рекомендую только здесь оттенок хотя финал здесь есть немного и от довольно и после не буду остаётся ощущение от просмотра хорошей сказки',\n",
       " 'хорошая получилась замечательная после готовки легко покупали в подарок упакована в коробку довольны',\n",
       " 'очень понравилось качество звука',\n",
       " 'нежный свежий аромат не сладкий',\n",
       " 'мне лично она очень понравилась много интересных действий хороший язык изложения автор похвал',\n",
       " 'очень интересная прочитала две части советую',\n",
       " 'уже несколько раз заказывала эти салфетки и буду это делать косметику любого производителя чисто быстро и на коже остается приятное ощущение свежести и аромат зеленого чая',\n",
       " 'удобнее в играть по только не понимаю зачем с стороны мыши такой сделан из за которого мышь в руке лежит не очень а так хорошо всё',\n",
       " 'попробуйте на 400 гр обычной добавить 100 гр хлеб получается целиком не рекомендую плотный на любителя а самое оно',\n",
       " 'смысл конечно в нем есть и есть интересные но все довольно сложно на мой взгляд есть более интересные данной темы',\n",
       " 'в от ошибка все дней о в городе во первых дня а во вторых в году почти два месяца в москве года в потому что не смогла с потому что в остались ей люди и т д',\n",
       " 'каждый человек должен прочесть этот роман одним из самых во всем мире сам я его в 9 лет сейчас читать его не поздно ни в каком возрасте',\n",
       " 'липнет так что невозможно с рук снять купили две банки цвета и одну красная оказалась нормальная не липнет',\n",
       " 'в комплекте с идет чехол к нему что не может не радовать и шнур у него достаточно длинный что очень удобно в использовании',\n",
       " 'хорошая серия наклеек эту покупала к новому году помимо обычных для большой с которую можно наклейки без труда сыну очень нравятся',\n",
       " 'приобрела эту мультиварку в 2012 место на кухне готовлю практически только в ней у плиты не пользуюсь каждый день супы каши плов и всё остальное получается очень вкусно муж всегда недостатки через два месяца работы в крышку а ещё через 10 месяцев клапан найти такую деталь невозможно на теперь чтобы мультиварку сверху 2 х учебник но свою всё равно очень люблю и другую покупать не собираюсь за год работы клапан единственный недостаток в остальном кнопки таймер работают идеально не появилось никаких ни внутри ни снаружи чаша осталась в отличном состоянии скоро клапан и будет как моя девочка',\n",
       " 'плохо волосы становятся жесткие как но стали поменьше',\n",
       " 'не всегда для ванной продаются в комплекте с поэтому очень хорошо что их можно купить отдельно понравились аккуратные симпатичные',\n",
       " 'серия вся интересная я уже купила 2 таких шампуня пенится моет прекрасно и пахнет моей дочери нравится',\n",
       " 'купила два оттенка и оба цвета не соответствуют тому что на картинке оттенок на много ярче теплый оттенок а второй более с небольшим в целом понравились я люблю эту марку не понравилось то что кто то их пробовал у себя на руках что до этого заказывала что в этот раз сбоку пальцев явно кто то пробовал цвет на руках это очень пробовать на руки в коробочке не было инструкции пробовали видимо и обратно забыли положить не куда я не знаю где еще купить эту марку а так огромный минус магазину за такое',\n",
       " 'после покупки набор больше года все никак не за работу отсутствие схемы не схема ничуть не хуже с огромным удовольствием канва и нитки очень качественные заказала еще два набора этого производителя',\n",
       " 'сказать что я доволен ни чего не сказать было ощущение что магазин на товар но нет тут случай когда достойное приобретение очень очень доволен мало того что вкусно но теперь все ещё и красиво',\n",
       " 'у меня было много samsung эта машина на сегодняшний день маленький экран мощный жалко версии 3 usb на было только 2 добротный экран высокого качества батарею держит 4 часа в режиме ну и просто внешне короче не найдете за эти деньги рекомендую',\n",
       " 'к претензий нет зонт большой компактный но кнопка попадает каждый раз под руку и включает фонарик надо купила мужу он сразу и увидел что батарейки стоят у нас редко в поэтому их не так легко найти',\n",
       " 'взял по совету друга который буквально мне мозг тем что мне нужно попробовать её его оказалась и музыку сперва ничего не а потом я таки на покупку и уже дома включил те что мне ближе и в них свою первую ночь это было звучат по будь то высокие или с они справляются просто великолепно ну и самое приятное это конечно же сидеть в них без можно разве что не вечно',\n",
       " 'маленький формат удобно для детских ручек симпатичные яркие иллюстрации плотный картон не от ребенком небольшой легкий с постарше можно его но на самом деле он совсем не а очень добрый и и очень любит играть с детьми сейчас моей дочери почти 4 года и из этой мы историю почему кто его почему тут же я ей что такое и и т д',\n",
       " 'этот парфюм – композиция словно смесь свежести и с чистой а также с черной которые духи от дома – это современный аромат который по мира и',\n",
       " 'наношу под крем с защиты как средство',\n",
       " 'плед яркий и очень мягкий так и хочется и покупкой довольна',\n",
       " 'отличный ночник ненавязчивый свет очень удобный в использовании мне нравится',\n",
       " 'советую хорошая вещь',\n",
       " 'прекрасные наушники немного в но когда играет музыка его не слышно цена но качество исполнения и упаковки убирает на этот минус к сожалению без батареек не работает но это особенность этой модели',\n",
       " 'группа потрясающий альбом он включает в себя элементы работ в то же время содержит количество не совсем для группы в скорее это даже не а некоторые решения с ростом в альбома особо на',\n",
       " 'с пока ни к чему не на windows 8 не',\n",
       " 'хорошие колонки не ожидал от производителя',\n",
       " 'качество за цену мягкие плотные не вызывают мы многие и с могу сказать что эти лучшие',\n",
       " 'цвет светло бежевый с теплое качественное хорошее',\n",
       " 'отличные наушники отличная гарнитура для iphone все сделано добротно и на',\n",
       " 'один для своего малыша весом гр и ростом см беру размер l и тогда никаких проблем не возникает',\n",
       " 'впечатления от издания самые во первых это не на видео присутствуют грязь всё как на оригинальной звук также от во вторых формат чистый то есть кроме придётся ещё и и изображение не рекомендую ввиду его качества кстати кроме того 16 9 как то странно в 4 3 что по бокам имеются тонкие как будто бы чересчур перед тем как в 4 3 в третьих непонятно почему в описании товара ничего не сказано обо всех этих',\n",
       " 'очень удобный функциональный стильный порадовали 2 камеры и достаточно быстрый интернет через через wi fi ещё быстрее рекомендую всем',\n",
       " 'замечательная отличная пластик крепкий и сама швабра отлично и и мою ей постоянно',\n",
       " 'кожа очень светлая и легко на солнце подошел на все 100',\n",
       " 'наконец то я до покупки этого т к давно хотел игровой процесс с он очень удобен и в использовании практически все основные занимают по времени одной кнопки видео снимается с качеством без и можно выбирать место записи будь то внутренний жесткий диск или флешка в комплекте идет пульт инструкция кабель для блок питания и другие полезные был о продукции и это на отличная модель за небольшую цену',\n",
       " 'размер',\n",
       " 'очень хорошее качество для',\n",
       " 'а я вот обратила внимание на разницу в цене и заказала здесь озон конечно в этом плане вообще выручает с другими даже с учетом недорого получилось книга очень классная по ней не то что готовить приятно просто в руках держать удовольствие и фото и качество печати и все доступно собираюсь приготовить на новый год и какое нибудь мясо очень интересные варианты некоторые рецепты стали для меня хотя готовлю уже очень давно а похож на мужчина на кухне это вообще здорово приятно что рецептов действительно много в последнее время для подобных книг это увы редкость',\n",
       " 'но не на го',\n",
       " 'кастрюля внешне очень симпатичная не много места исключительно согласно инструкции к ней не не было за полгода раз 8 9 то что может даже при можно было но вдруг появилась почти всего кастрюли очень жаль получается только выбросить зря потраченные деньги',\n",
       " 'пока нравится в машине ножи прошли',\n",
       " 'снаружи большая пространство очень маленькое отказ',\n",
       " 'красивые легкие смотрятся очень хорошо и не дешево',\n",
       " 'удивительно приятно собирать из конечно он не весь из она на основу иначе бы все детальки а смотрится на самом деле как или картина на основе очень стильно и что немаловажно поверхность его матовая не один недостаток цена',\n",
       " 'хотела но не из я не совсем но сильно в принципе нормальный вариант тепло несколько опять же но можно и назад под красный и белые самое то',\n",
       " 'книга действительно очень хорошая все основные моменты с и фото мне понравилась',\n",
       " 'советую',\n",
       " 'история о у которого все получилось а как же именно то что нам почти всем нужно честно а и желание что то уже еще в своей жизни сделать это для взрослых и для детей и для всех юмор красивая картинка и великолепный озвучка тоже на высоте тут прямо к месту и еще одна идея тоже не из за',\n",
       " 'исполнение вокал и никакой именно так должны и песни',\n",
       " 'я с очень большим ко рода но книжка полезная она очень доступная не через которую как через и очень быстро помогает людей ведь далеко не все могут видеть человека целиком 11 со всех сторон включая конечно настройки ведь человека к только одному не бывает',\n",
       " 'понравились достаточно сделаны хорошо',\n",
       " 'если по вышло так что вы ещё не читали этот роман читайте обязательно это потрясающий один из лучших в своём жанре романов о вкусный роман о жизни и написан но увлекательно в кресло в плед себе и в роман а после прочтения этого романа к жизни этого же автора о жизни а после за путь',\n",
       " 'меня интересное начало порадовало персонажей и с нетерпением жду продолжения',\n",
       " 'отличная книжка для ребенка 3х лет',\n",
       " 'не скажу плохая но цена ей красная 500 р ну не тянет она на свою цену только и плюс что кожа',\n",
       " 'очень хорошие не протекают удобно использовать покупкой довольна',\n",
       " 'масло очень понравилось пробовала на теле очень хорошо смягчает и увлажняет кожу приятный аромат который держится на коже какое то время содержит которые коже красивое что особенно будет приятно летом руки абсолютно не быстро впитывается наносить на волосы не пробовала т к не люблю масло на этом так сказать тела',\n",
       " 'полное отсутствие запаха это самое главное для нас все остальные детские салфетки запах почему то идеальный по и материал мягкий но не и не оставляет количество тоже ровно столько сколько нужно',\n",
       " 'хорошо и много впитывают но под тонкой или могут быть',\n",
       " 'с ними действительно смотрится неплохо',\n",
       " 'у нас был поэтому на решили тем более что у под ремень есть зачем платить дважды за одну и ту же в целом остались довольны единственное что для на кнопку нужно много силы в дороге придётся чтобы положение поменять там не так просто может это и хорошо случайно не точно кто то пишет что не во все 6 кресло у меня нет такой проблемы все четко ничего нигде не и не берите удобное и кресло',\n",
       " 'симпатичный сувенир выглядит так же как на картинке только с проблемы он не а слегка если его',\n",
       " 'вполне хороший инструмент правда и не так быстро как в позволяет делать разной отличный особенно понравилось для даже нож',\n",
       " 'достоинства качество такое будто действительно смотрите на стену или с тех сами фото немного хуже вероятно так но стиль очень похож на того времени книга плотная и реально чего вполне достаточно что бы маленького или для от животных очень хорошо недостатки буквы и карта обложки с которое и осыпается просто от всего чего угодно не очень красиво и очень заметно бумага обложки и на не плотно в итоге и картон',\n",
       " 'держит тепло достаточно долго не скользит но крышки об этом выше писали пластмасса придется что то троечку',\n",
       " 'милые в приятное дополнение к на поверхность хорошо',\n",
       " 'сначала а сейчас что то нет пока не могу понять недели две идеально а сейчас перестала чистить работает но такое ощущение что что то случилось с более звук и как будто сил не хватает для очистки или дело в не могу понять муж мне повезло что я дешевле брала по цене чем сейчас не стоит своих денег попробую купить подороже такая есть и ещё она называется она идёт со в то есть как понимаю там уже моется посмотрим а на эту очень расстроена',\n",
       " 'в неплохо над интерфейс и пр действительно кроме того в нескольких насколько я помню в пяти каждая будет иметь свой уровень и цену ну а для которым не слова on и которые каждый своей пусть даже в комплектации скорее всего слишком дорогой выбор за вами',\n",
       " 'очень хороший фен компактный сильный воздуха две температуры хорошо я своей цены легко с',\n",
       " 'цвет сумки очень приятный синий а вот у одной из не было это минус сумка вместительная может даже слишком такого объема мне и не нужно было но в целом неплохо так как карманов в ней хватает ничего не а балл снимаю за',\n",
       " 'я бы ее детям возраста 6 и даже родителям иллюстрации тебя кто ну так ему и рисунок с во всю страницу хочешь не хочешь там что нибудь да книжка для очень хороша если взять ее куда нибудь в путешествие и пойдет весело и незаметно и с ребенком',\n",
       " 'отличное средство стоит своих денег',\n",
       " 'купила в подарок 10 штук разных цветов смотрится великолепно сестра оценила сказала что в руке ощущение стержень как в самой простой ручке из но внешний вид супер а стержень можно поменять',\n",
       " 'я ожидала какое то повествование а получила отдельные короткие истории к тому же раньше',\n",
       " 'купил и доволен советую тем кто не хочет с но в тоже время получать вполне фото удовольствие от качества и',\n",
       " 'очень доволен покупкой пользуюсь более полугода установил все за 15 минут можно сказать что сам все лишь мне и был очень удивлен исключительно постоянно новые интерфейс управления прост и приходилось до этого некоторые другие на вид в отличие от многих других очень лёгкий и маленький есть крепления для на стене цена не если бы кто то что взять бы именно 300',\n",
       " 'ps3 это то чего графика ниже уровня на hd качества пока нету в этом году игр не будет год от своего xbox 360 очень сильно полтора года не стоит покупать из за игр 4 3 на оказалась средней игрой 4 нравится xbox 360 и он очень любит игру для xbox 360 of памяти в меньше чем в xbox 360 лучше купить xbox 360 или чем т к на нету игр в которые можно играть',\n",
       " 'качество просто',\n",
       " 'сделан аккуратно и за полгода работы нареканий никаких не возникло внутри из соответственно никаких запахов нет да и вообще пластик корпуса практически не пахнет к так же претензий нет все работает рекомендую любителям всегда по моему мнению одни из самых и',\n",
       " 'заказал не так давно привезли в срок очень понравились всем рекомендую настолько они что подойдут как скажем в так и в спасибо очень доволен',\n",
       " 'очень крутая игра всем советую',\n",
       " 'так случилось что у меня два этот и так вот этот просто игрушка батарею очень быстро к тому же она с греется очень слабый в мощности не хватает только дерево если надо раз в месяц что то или то может и пойдет но если вы хотите инструмент то смотрите на квартиры он не',\n",
       " 'покупала дочери так как в детстве сама читала и было интересно дочь читает с удовольствием это оценка книге да и вообще говорит сама за себя и в особых отзывах не вся его серия быть в каждого',\n",
       " 'читается хорошо быстро и а главное – очень ярко не только правильно людей но и эти люди в со своими всё чётко нить не нигде она у действительно – как судьбы в',\n",
       " 'покупала не на озон чем очень на озон значительно дешевле качество отличное и настроение поднимает видом думаю приобрести на озон такую же в подарок всем рекомендую',\n",
       " 'наши любимые подгузники только размер в сравнении с другими для нас очень нежные при этом и у ребенка никакого раздражения',\n",
       " 'понравилась брала вместе с набором цвет получился абсолютно красивый',\n",
       " 'красивый но очень маленький',\n",
       " 'запах конечно оставляет желать лучшего но действие масла очень сильное не для массажа а для это масло и со своими функциями справляется вам спасибо',\n",
       " 'отличное оформление рисунки и сама история очень понравилась дочке и мне тоже качественная и большая книжечка с не сильно плотный но все же прочный жаль что нет серии подобных книг про в продаже давно нет хотя могли бы и все дети и взрослые в восторге есть',\n",
       " 'произведение понравилось как и многое из автором хотелось бы чтобы автор и сам работу над этой',\n",
       " 'очень красивая расцветка и приятная на ощупь ткань очень довольна покупкой',\n",
       " 'список но о каждом буквально пара слов не более интерес может часть фотографий а также список и и все а жаль множество ошибок с подойдет в подарок кому нибудь не более',\n",
       " 'после большого опять решила почитать понравилось авторы держат читателя в и желание читать не пропадает но опять мне не нравиться концовка на мой вкус сами видимо к прочтению рекомендую особенно любителям этого жанра и',\n",
       " 'получила пробник с заказом аромат понравился свежий не мужской о сказать не могу возможно для мужа',\n",
       " 'попробовать этого шампуня и сказала что результат но по это не мой шампунь мне был хватило на два раза результат был потрясающий всё волос много не ничего не после когда у меня я купила и смогла использовать только половину далее он перестал волосы надо',\n",
       " 'не тушь на хватает где то на месяц долго не заканчивается хотя уже в нет',\n",
       " 'предыдущий отзыв читать смешно самый и самый из всех заказываю по несколько штук и при случае',\n",
       " 'в книге подробно вопросы и автором также этих двух основных еда с цель которых именно и к сначала идёт описание каждого затем автор рассматривает по как происходит чтобы в работе были более и автор приводит к каждому со своими которые помогают понять какие в за а также какие конкретно использует в работе всё чётко и полезно для изучения так же для применения на практике',\n",
       " 'супер',\n",
       " 'книга отличная читается легко все лучше конечно ее читать уже в чтоб не забыть полезных советов яркая прочитала на одном дыхании и уже не раз ее и знакомым',\n",
       " 'купил 1 5 л 2 л 3 л все классные да еще и системы были в подарок купил еще сестре в подарок 2 и 3 она в восторге проблема готовки в и стола с первым',\n",
       " 'на 2 м диске вроде же должна быть композиция а в в отсутствует однако',\n",
       " 'такие использует наш в центре для развития речи и внимания очень нравится с удовольствием и не свои мысли для подготовки очень хороший экземпляр',\n",
       " 'использовала вместе с полное сразу скажу это мой первый опыт использования долго боялась попробовать боялась что мои и без того тяжелые и волосы совсем объем и будут выглядеть как 2 дня не но нет на удивление быстрый и приятно результат волосы блестят легко расчесываются очень здорово что не нужно и практически сразу о том что на волосах было это масло нет ощущения однозначно рекомендую',\n",
       " 'пусть не отличается качеством продукции и ее мебель в основном все для и не сильно но это как сказано в книге здесь о том как и с чего эта и в данном далеко не и место первого магазина а год на проблемы его и едва качества в возрасте',\n",
       " 'у меня китайская чуть что не так сразу это его из всей этот самый самый проблем с от него нет да и цена тут дешевле чем в магазине',\n",
       " 'для начинающих или для тех кто замечательные понятные схемы много интересных жаль что только ч б единственный минус',\n",
       " 'замечательный у нас в таком спит очень подходит для небольших собак особенно в время т к верхняя часть служит кроме того удобен тем что достаточно большой для собаки а наша любит все в квартире держать под',\n",
       " 'коробочка совсем маленькая',\n",
       " 'это вторая покупка этой модели чайника первый 2 года и мы его на дачу служит там 3 год проблем не было купили новый работает уже 5 месяц все так же как и с первым нареканий нет пахнет как все новые на вкус не влияет через пару недель нет и у него нет работы чайника но для нас это не важно главное чтоб работал дольше маленький объем быстро не шумный а вот если до на 5 6 то очень шумит но это не каждый день',\n",
       " 'хорошая сумочка удобная подходит под почти любой',\n",
       " 'симпатичная картинка но так и не поняла что это за и как его использовать хотелось бы информацию об этом увидеть',\n",
       " 'очень милые игрушки для детей просто прекрасно только давать их в школу без или не вообще а так отличные мягкие побольше бы разных моделей',\n",
       " 'очень довольна приятный запах экономичный',\n",
       " 'одеяло отличного качества в упаковке очень приятное для сна очень одеяло приятной расцветки и отличного качества описание соответствует действительности спасибо за качество и быструю доставку',\n",
       " 'долго думала купить или нет так как дизайн понравился в итоге разочарована под ногами сильно крутится маловат для моей небольшой машины под нет получается так как он с обеих сторон в общем не знаю материал и дизайн хорошие скрипит под кстати но на',\n",
       " 'удобнее чем для очень острый',\n",
       " 'фильм понравился женский состав на отлично особенно ж хотя игра этой всегда что называется на ну а кому не нравится точно уж не части',\n",
       " 'но могла быть и лучше много текста мало картинок для этого текста малыш во время чтения потому что долго смотреть на одну картинку не интересно сказка в хорошем качество тоже неплохое толстые страницы',\n",
       " 'музыка',\n",
       " 'этот бежевый столик гораздо лучше своего с или это мне повезло советую из двух выбирать этот',\n",
       " 'чайник взяла для подарка он очень красивый такой как на фото в не упакован в красивую и коробку в целости ничего не спасибо магазину и',\n",
       " 'привлекает внимание ребенка на ура цвет игрушки и очень и не',\n",
       " 'искала термос который бы свои держать тепло долго температуру жидкости данный термос полностью мои вечером крутой а утром увидела пар и чуть не пальцы температуру воды осталось одно почему которая оставила в некоторых местах небольшие советую приобрести этот термос а также большей тем кто в хорошем',\n",
       " 'получил не порадовала коробка я думал dvd не обычный будет самый простой черный пластик в коробке 2 dvd 4 на двух по первый игру второй ключ на успешно выйдет в на коробке должен быть оранжевый с включает дополнение в что если нет то и на нет смотрите внимательно что на поле',\n",
       " 'очень довольна всем набором но кармашки на второй день эксплуатации что будет со всем остальным и когда',\n",
       " 'очень хорошее понравилось нет 17',\n",
       " 'читайте детям ведь все о такой современные дети слишком попасть во жизнь',\n",
       " 'купила 2 упаковки на всякий случай вдруг один окажется но вторую упаковку до сих пор не настолько хорош этот дочке удобно держать его совсем если долго и сильно на пол цвета достаточно яркие четкие крупные хватит надолго по прекрасно очень рекомендую',\n",
       " 'уже успел уверенно режет все до 3 см толстые лучше резать немного под углом иногда трудно из за и ручек резать тонкие им очень неудобно в пару обязательно нужен маленький',\n",
       " 'купила в подарок дочке у меня такая с года только плюсы и у меня ее подруга в городе где живет подруга таких нет теперь у меня белая готовить с ней быстро и красиво мою в машине и она всегда как новая',\n",
       " 'тому кто это просто огромный респект это уже вторая картина за неделю не могу настолько меня это занятие картина с в варианте это просто шедевр за исключением одной детали цвета самого белого очень мало получается голубой но при своей краски от предыдущего и фантазии все получилось просто великолепно не что не хватит краски не еще и останется в итоге',\n",
       " 'у данной компании очень продумано под все нужно только выбрать нужную сумку себе взял по два 70 6 зарядка доп аккумулятор карандаш из минусов не объектив 70 300 еле влезает с этим в дно под эти нужны глубокие сумки итог очень сумка под свой набор',\n",
       " 'комплект очень понравился цвет как на фотографии хорошо покупала со скидкой очень довольна',\n",
       " 'я ее покупала когда она не так дорого за 700 покупала и думала за что ж такие деньги но пользуюсь уже больше полугода и мне очень нравится волосы очень бережно ношу ее всегда и везде вот думаю купить маленькую версию',\n",
       " 'обратите внимание на размер изделия',\n",
       " 'о его родителей и его',\n",
       " 'купила детям к упаковка хорошая цвет яркий в пришлось только далеко за увы рядом не оказалось чтобы не детей пришлось брать в получились и вернула по гарантии неприятный остался',\n",
       " 'я никогда не думала что мои волосы могут быть во все стороны и одновременно обычно это либо в 1 день мытья и во все стороны отдельные волоски либо на 3 день чуть жирный блеск но с уже к голове не но этот крем меня просто чуть чуть все по инструкции но волосы после него выглядят как будто я их неделю не мыла торчат отдельные волоски по всей голове запаха я лично почти не почувствовала он еле и очень 1 за упаковку',\n",
       " 'мне диск очень понравился я не обратила внимание на там деткам с 6 лет моей 3 но всё равно ребёнок дочка как хорошо в той или иной ситуации дома в в магазине в и на детской не пожалела что купила уже сейчас',\n",
       " 'очень красивый яркий комплект нежный но только желтый простыня и одна черный же и был бы весь комплект таким как простыня цены бы ему не было',\n",
       " 'не советую',\n",
       " 'обязательно закажу еще',\n",
       " 'пахнет вкусно объем дает волосы чистые 2 дня у меня обычно 1 кожа нормально не может быть возьму еще раз а может и нет',\n",
       " 'сложно оставить отзыв о том чего в глаза не видел что вещь хорошая но я ее так и не получила',\n",
       " 'можно брать как',\n",
       " 'вот уже полгода приходится менять после 6 10 раз носки в местах остаются нить буду искать больше не куплю',\n",
       " 'размер 60 мужу подошел а резинка внизу позволяет роста у мужа рост примерно см от поэтому на мой взгляд данный размер подойдет на рост от до почти 180 см',\n",
       " 'очень даже с первого раза и не что они после просмотра трех частей очень хочется узнать что ж там дальше будет фильм интереснее с ну один только вопрос а где этот находится',\n",
       " 'очень удобная отличного качества исполнения',\n",
       " 'книга неплохая но и на любителя для тех кто для себя или для ребенка к прочтению',\n",
       " 'эта с красной исключительно из за того что это 100 х б в чем можно не как и в том что эти наволочки всю свою жизнь но вот что стало так это их и толщина ну прямо если уж не то точно т ч для лица такая это уж на любителя зато для подушки для нашего а он головой исключительно на это просто приобретение если уж от не то и стирки',\n",
       " 'провода регулируется',\n",
       " 'данный тренажер помогает снять с рук если вы долго за или тем самым вас и ваши руки от проблем для и он просто',\n",
       " 'набор вполне хороший но только это вовсе не похоже на и фигурки довольно тоненькие',\n",
       " 'книга действительно интересна она будет полезна как так и помимо и также к книге есть в литературе и и есть произведений так же в книге теории известных всем советую',\n",
       " 'отличные милые пришли хорошо проверила на месте ни ни заказывала в комнату очень довольна',\n",
       " 'жалко что нельзя его поменять почему во первых из за наклеек которые уже никак не оторвать и остаётся после них место во вторых все уже не как я ни всё разобрать и вернуть обратно по этому и мне сказали так 8 27 27 что товар надо вернуть в том состоянии в котором он был упакован и вид но есть одно но как разобрать обратно этот такое чувство что он сделан и если больше уже не только и вид товара как быть в таком случае хотела сделать подарок ребёнку но он даже до не и находится очень к земле остался очень неприятный и стоит в коробке никому не нужный',\n",
       " 'получила за эту сумму то что и ожидала получить набор действительно не идеально белый а набор пришел сразу целый к этому претензий нет все отлично упаковано аккуратно покупала для подарка упакован симпатично',\n",
       " 'манга мне прямо таки очень нравится и впечатляет и даже сюжет есть жаль эта история',\n",
       " 'удобно стильно в все видно но если не на глаз можно с стороны где магнит для себя а с названием совсем незаметно',\n",
       " 'изображение 5 звук 4 сюжет 5 классика',\n",
       " 'все устраивает очень для своей цены единственный минус дисплей очень маленькие углы обзора цвета при поначалу думал даже вернуть но потом для настройки и с ее помощью получилось добиться более менее изображения',\n",
       " 'за свои деньги симпатичный но в режиме большое так что без в путь не стоит из плюсов 1 удобно с телефоном на что то для хранения да и связь за опять же хотя приходится громко говорить нет пока 2 по не нужен в режиме настроек в режиме без него оценка 4',\n",
       " 'рекомендую купила себе на пробу на отлично можно покупать на подарки',\n",
       " 'карту назвать центр а не карта слегка была разочарована когда на карта только в самом центре города плюс карты в том что есть схема метро и описание основных для в центре еще раз повторюсь название карты в остальном она очень приличная',\n",
       " 'хорошая штука но нужно хорошее молоко с не ничего не получится рекомендую 1 8 возможно получится и с другим пробовала с не получилось пришлось штука правда хорошая',\n",
       " 'чайник очень стильный красивый 4 за отсутствие фильтра есть дырочки в но они не фильтр а так очень все симпатично',\n",
       " 'это больше книжка о чем дневник за свои деньги всё отлично сделано качество хорошее но это не то что я ожидала совсем для меня категорически мало места для написания о и для фото очень тоненькие для книжки норм но для в котором всё и не подходит',\n",
       " 'здорово здорово книга помимо автора меня взяла за душу своим на поверхности сюжет оставляет жизнь отношения полезна для потому что сказать кому больше из всей этой истории нужно сделать читать одно удовольствие как все красиво',\n",
       " 'история о том как часто не друг друга казалось бы такие люди сначала маленькая не хотела быть для ее старого а по многих лет уже быть в в а ведь рецепт счастья прост о близких порой гораздо собственного нужно просто своему свободно дарить и его от других и тогда –',\n",
       " 'очень красивая и приятная вещица',\n",
       " 'начало тяжело но после того как линия честно стало интересно рассказ в истории на любителя однозначно да но плюс приятно и легко читать',\n",
       " 'все кто говорит что за тем как в сети г версию этой сцены в последний момент сначала тихо говорит нет а затем и в как наши актеры то что как раз из года да и в остальном перевод весьма чего стоит к роли жаль не тот же',\n",
       " 'лежит в когда ничего другого нет',\n",
       " 'чайник красивый но реально после включения через 5 секунд сам выключается приходится на от него и снова включать или стоять и его думала что но пользуемся с месяц и никаких положительных хорошо и мыть нет проблем внутри снаружи где и начинается пластик и никак её не только наверное если чайник в общем я не в восторге может это конечно мне такой достался но если мне такой попался то где гарантия что вам не',\n",
       " 'сама очень материал тонкий длина по спине молния просто проще через голову ну если только для как хотя именно для есть варианты что касается размеров и упаковки все соответствует описанию',\n",
       " 'заказала дерево в подарок на новый год очень ждала и его и расстроилась когда место было всего 6 пришлось с и обратно в пункте еще не хотели но потом с и очень расстроилась как раз у семьи кому хотели подарить семьи но ничего все будет хорошо рамка на 12 пришла полностью',\n",
       " 'очередной замечательный продукт от шампунь с а и е помогает сухие волосы глубоко питает по всей длине и увлажняет волосы хорошо расчесываются очень гладкие к ним приятно действительно дольше остаются не к производитель как всегда порадовал',\n",
       " 'конечно красивый но несколько главное что стоит не немного',\n",
       " 'картинка красивая но китай есть китай разные не аккуратно',\n",
       " 'мне не понравился все в кучу просто по было бы намного если бы были по поиск информации не удобен ребенку не понравился я ожидала лучшего как справочник для ребенка не подходит',\n",
       " 'я очень большой фанат игр и вот мое мнение главный наш вопрос это то что это не продолжение серии а от проще говоря я думаю что ps это все о и а не время с и я думаю тут не что в этой игре мне понравилось это то что для каждой будь это или по своему проще говоря на машине для в не и для процессор 3 0 память или выше',\n",
       " 'не работает ни с одним деньги',\n",
       " 'игра понравилась правила простые фигурки качественные соглашусь что играть хотя бы на возраст 5 9 лет',\n",
       " 'к сожалению цвет на сайте существенно отличается от товара что для существенно читал что это актуально и для других в реальности чехлы оказались более по темнее что то ближе к пока не поэтому ничего не могу сказать об качество ткани нареканий не вызывает мягкая и приятная на ощупь',\n",
       " 'вроде бы и удобные и хорошо но в итоге цвет получается почти не заметить на лице да и набор цветов какой то странный',\n",
       " 'купил диск в подарок частично и на пункте выдачи полностью доволен сделал вот сейчас еще один заказ на другие диски',\n",
       " 'купила первый раз для выбирала такую чтоб не посуду покупаю вот уже и т к просто удивительно мягкая и качественная всем ее могу',\n",
       " 'на отзывы ни описания ни моментов даже интересных рисунков нет по отдельности эти с сказать рисунки не стоят и копейки но упаковка и и народ',\n",
       " 'кошка 10 мес перестала во время процедуры а до приобретения этого каждую неделю и маленький в руке лежит удобно усилий не надо советую',\n",
       " 'хорошая расцветка комплекта собственно поэтому и обратила на него внимание решила подарить вдруг у него интерес к вообщем комплект используется уже больше полугода по качеству ткани нареканий нет но голубой цвет немного на мой взгляд хуже он от этого не стал оценку 5 порадовало не только белье но и тот факт что производство',\n",
       " 'я работаю в и это удобные и действительно только их можно использовать дважды',\n",
       " 'скорость шнура теперь время намного меньше',\n",
       " 'купила на за 40 руб поэтому не очень расстроилась не для меня оказалась полной романа но несколько напрягает как уже было сказано а также на мой взгляд не очень один раз можно прочитать',\n",
       " 'красивая но пользоваться ей не удобно много и если то половина на полу и очень неудобно держать в руке т к маленький и висит в',\n",
       " 'за такие просто супер стол один минус нет чехла а остальное берите не пожалеете',\n",
       " 'на самом деле это не натуральная кожа а',\n",
       " 'во всех неужели роль не с ума из грязи и',\n",
       " 'да за такие деньги просто идеальная',\n",
       " 'обожаю этот диск когда утро начинается с этой и очень приятной весь день потом каким то я делаю только часть до никак руки не но думаю она тоже весьма для тех кто хочет сразу скажу вам нужно что то другое эта программа реально легкая и на одно начать день с и любви к себе',\n",
       " 'очень для ребёнка до 3 лет вообще не очень легко детальки вообщем за цену и такое качество на коробке машинка намного больше чем в итоге получается',\n",
       " 'сразу скажу что диск только для домашнего пользования так как он большой и стандартные дизайн отличный очень приятный диск',\n",
       " 'в описание не указано но вся состоит из двух частей основной с и внутренняя часть очень удобно для чистки брал для собаки размеров подошла великолепно так же без проблем помещается в',\n",
       " 'такое впечатление что давно карандаши полное разочарование не цены и качества плохо',\n",
       " 'плохая гарнитура быстро для музыки норм а для вообще не нужная вещь',\n",
       " 'очень рада покупке вместительный крышка плотно прилегает в комплект очень легко и удобно продукты для отличный дизайн крепятся на крышке поэтому не придется их отдельно для моей кухни это находка купила еще одну для подарка рекомендую',\n",
       " 'покупал я их для что будут или маленький объём или ещё что нибудь не понравится в итоге не пожалел длинная исполнение всё супер упакованы так что коробка с ними дважды и ни одного не я их покупал 5 по 600 рублей и они того думаю за большую цену можно найти предложение и',\n",
       " 'великолепная фигурка вообще хочу отметить даже не именно эту хотя она действительно очень красивая а всю серию от фирмы уже не первый год продолжает радовать нас по кино игр и эта именно продукция а не игрушки для детей данные фигурки имеют множество и выполнены с очень каждая деталь имеет полную и великолепный а цены за такие настоящие модели не могут не радовать глаз очень жаль что на озон практически никак не ряд от поскольку эти модели часто и вообще люди при этом такие модели будут просто отличным подарком любому кино игр и это на самом деле очень качественный и красивый продукт по цене',\n",
       " 'полотенце хорошее мягкое только при первой стирке много но краска не и ничего не цвет остался размер полотенца очень удобен для маленького ребенка ребенок полностью покупкой довольны',\n",
       " 'купила по цене 1500 он и рядом не берет только этот и производство очень удобно держать маленькой ручке не громко и приятно однозначно рекомендую',\n",
       " 'ждал большего но сразу что не и в результате по памяти диалоги например х явно это но зато включил в текст свои лучшие рассказы для тех кто знает его только как и они совсем человека и куда более ну и фото есть очень',\n",
       " 'фильм рассказывает о любви и о',\n",
       " 'набор хороший запах свежий приятный очень понравился дезодорант спрей в удобная качественно огорчило только то что оказалась а не как на картинке я заказывала ещё набор там идёт специально заказала два набора чтобы разные а получила одинаковые',\n",
       " 'один конец пишет тонко другой писала и моменты ими тетрадь попалась с тонкой ручка на стороне а эти только если писать такие даже будут подарком на др ведь сделано не где а я ребенок и мама вот какие что с одной стороны тонкие а с другой толстые довольна',\n",
       " 'мне понравился а вот ребёнок не в восторге но все равно будем пользоваться удобный как всегда на высоте',\n",
       " 'у меня такой же но я и не знала что он чем то этого не ощущается совсем достался в подарок за такие деньги наверняка бы не стала брать есть ведь и на порядок дешевле такой же формы про по моему это просто очередной ход но хорошо единственное тоже не нравятся острые и то что пластмасса проблема с волос не снимается этим а только очень удобно делать им',\n",
       " 'брали игру в подарок понравилась но вот уже в который раз приходит упаковка подарки дарить и как то не очень хорошо стоит обратить внимание на подобные вещи',\n",
       " 'взяли ноутбук для родителей конечно оставляет желать лучшего но в целом отличный ноутбук понравилось также что не в отличие от доставили быстро всё упаковано было на 5 с аккумулятора конечно часа на 3 хватает только но это если использовать в',\n",
       " 'итак уже неделю использую данный фен вообще пользуюсь каждый день на протяжении 10 лет поэтому опыт уже какой то имеется этот фен мне понравился из всех насадок пользуюсь лишь двумя насадка для объема и насадка щетка но с одним в использовании этого а именно здесь три режима 1 холодный и 2 еле теплый и быстрый 3 горячий и быстрый холодный это реально волосы это на любителя еле теплый тот же холодный поэтому им пользоваться не буду а вот горячий это для меня но с такой на не а волосы уже сухие это для меня единственный недостаток при режиме мощность бы поменьше в целом довольна',\n",
       " 'удобный красивый качественный альбом с я бы правда альбом побольше но по помещаются нормально',\n",
       " 'очень понравилась тушь сняла с без проблем очень приятно пахнет',\n",
       " 'паста отличная у меня соответственно шерсти много длинная кот постоянно ее ест ну а потом периодически его после пасты у нас теперь нет никаких проблем кота не есть с огромным удовольствием спасибо производителю',\n",
       " 'редко пишу отзывы но тут не смог я не люблю готовить да и не но с этой и любить готовить не надо просто масло и мясо 5 минут с одной стороны 5 минут с другой и ничего не пригорает и мясо получается очень я не знаю что за производства но мясо очень похоже на гриль и уже 3 месяца как я сам готовлю а жена ручка действительно очень с ней нужно аккуратно обращаться но нужно везде искать плюсы в посудомойке такая занимает меньше месте потому что ручку легко снять и положить отдельно',\n",
       " 'прочитал случайно но остался более чем доволен жаль только автор а то я бы и на кино с таким сюжетом получше современного',\n",
       " 'по у детей развивает а у взрослых снимает уровень сложности картины кошка с конечно высокий но картина получается шикарная',\n",
       " 'не пожалела о с лет с удовольствием рассматривает картинки читаем сказки цвета',\n",
       " 'пластик очень тонкий для ребёнок полтора года края при попытке ящик',\n",
       " 'хорошее мыло никакого раздражения хотя ребенок',\n",
       " 'смотреть концерт очень понравилось но слушать невозможно у меня дома две разных в разных так вот по страшно на обеих звук немного и я после просмотра еще в себя в все таки не 5 1 чувствуется сразу',\n",
       " 'хочу сказать что хочется продолжения т к интересно материал впечатление что этой книгой пытается найти своей жены за с и сына от этой связи минус в х переводе и текст рода видимо или кто там отвечает за это с к работе ну а в общем рекомендую',\n",
       " 'если есть основной набор и решили купить дополнительные детальки берите сразу два набора их много не бывает мы купили 6 дополнительных но еще 6 не бы',\n",
       " 'недавно получила этот эпилятор нареканий никаких маленький и удобный привыкла к нему с первого применения',\n",
       " 'если б я был бы только на ней',\n",
       " 'отлично впитывают не оставляют разводов и постоянно их покупаю очень довольна',\n",
       " 'получил и был удивлен приятным запахом и ценой за флакон думаю сделать себе и подарок на',\n",
       " 'малыш действительно его хочется сшит хорошо порадовало что нашего производства г а не китай приятный по цвету цена соответствует качеству и главное размер ожидала что будет меньше но была удивлена когда получила всем советую хороший подарок на год',\n",
       " 'отличное забавно светится в темноте единственное что для игры нужно будет для в руку можно делать все без без каких либо проблем ну кроме тех где требуется это скорее для среднего уровня с на более высокие игры из проверено на собственно',\n",
       " 'очень хорошие удобные мягкие и лёгкие спасибо магазину рекомендую цена супер',\n",
       " 'сначала показалось что бракованный было и но потом разобралась в конструкции чуть крепления при и вроде ничего нигде не смотрится хорошо',\n",
       " 'удобная ручка не скользит кнопки хорошо работают быстро не да и внешний вид приличный дополнительно приобрела контейнер',\n",
       " 'как мне показалось вернула и на другой размер решила не менять',\n",
       " 'пришёл этот бокс а там нет я только из за этого купил в я и в мог поиграть написано нужно с интернет или по сети для игры о каком вообще может идти речь если у меня нет',\n",
       " 'книга для не понять',\n",
       " 'у нас тоже дома всегда есть такой бальзам реально можно без например от боли или от он отлично снимает как боль так и нос от для самый лучший вариант',\n",
       " 'мечта дочки на новый год куклы понравился и волосы густые хорошие',\n",
       " 'сказка если внимательно посмотреть на обложку то это можно понять на обложке и за а не за дальше читать не стала в следующий раз буду рассматривать обложку книги детские уже невозможно покупать тексты сказок хоть с',\n",
       " 'по форме подходит отлично и приятно в руках держать но он очень телефон из рук как кусок мыла с таким телефон долго не буду менять на нормальный',\n",
       " 'на удивление игрушка на ощупь не приятная а именно белый он к тому же еще и легко у маленького ребенка весь в руках',\n",
       " 'хорошая замечательный подарок яркие картинки к ним вполне понятные есть доп задания для количество очень от машин до есть только один минус не хватает так сказать то есть видно что книжка',\n",
       " 'есть лишь один мы так же очень но она лишь по 4 класс а вот дальше мы долго искали ей замену и только к 6 нашли эти поэтому родители берите на их и с 5 класса точно стоит покупать а так да до 4 класса и вполне достаточно будет',\n",
       " 'сыну 1 5 года книжка очень нравиться пока читаем только 2 первых про 3х и про с остальные по мере будут удобно с собой все печать качественная рисунки четкие',\n",
       " 'за что за 5 подушку и несколько простых белых это ужас просто не ожидала что на столько ужасное придет',\n",
       " 'познавательно',\n",
       " 'покупкой довольны запаха не было даже при первом рекомендуем сразу брать чашу чтобы не блюдо в другую перед тем как приготовить что то еще',\n",
       " 'неплохой отлично подходит для is места мебели и игрушек в школе из минусов просто огромные к лучше бы их не было там вообще бумага очень тонкая но при обращении прослужит несколько лет можно приобрести если нет лучшей',\n",
       " 'и качественный утюг с большим количеством функций так как подошва то гладить им очень легко да и утюг нормально всё таки присутствует нормальная подошва для воды с запасом хватает на самую и к тому же ничего не протекает как это бывает в некоторых того же',\n",
       " 'покупала данный прибор 4 месяца назад очень разочаровал тогда со скидкой по акции он в руб лица остается раздражение которое с неделю да и сама кожи с помощью щетки у меня до этого была щетка другой марки но модель ее поэтому мне есть с чем сравнивать это щетка никак не очищает она просто если у других чувствуешь кожи то тут движение не в сторону а в и чувствуешь глубокий массаж жаль что начитавшись отзывов и на купила данный прибор',\n",
       " 'всё как на картинке соответствуют размеру и цвету качество лучшего но это не влияет на оценку ставлю 5',\n",
       " 'сам по себе альбом хороший в качество звука очень порадовало',\n",
       " 'выглядит отлично лучше чем на картинке очень все в восторге очень довольна',\n",
       " 'я наношу на мин 10 потом и полотенце и хожу пока есть время можно даже на ночь оставить в конце шампунем',\n",
       " 'бутылочка очень понравилась по дизайну оказалась и удобной нам с понравилась будем брать и большой размер',\n",
       " 'лучшее что можно найти спасибо',\n",
       " 'в принципе для дома очень хорошо за такую цену совершенно спокойно резать ребенку в школу конечно с такой идти не очень а так очень для домашних',\n",
       " 'уже заказал игру в pc версию 15',\n",
       " 'в общем для самое то спасение прям',\n",
       " 'автор описывает события грамотно не или к в книге не только при но и автор основное внимание в сторон к слабо описаны именно то есть состав и и т п информацию придется из других книга заслуживает оценки 5',\n",
       " 'цвет в реальности не соответствует тому фото что на сайте озон на самом деле а не как здесь',\n",
       " 'учебник по которому приятно учиться помню что не мог и сначала потому что в них были а потом уже к книге хороший учебник хороший объем знаний',\n",
       " 'в целом колготки очень даже ничего но особых нет слабая абсолютно не согласна с производителя о том что изделие менее всё как обычно из плюсов колготки очень приятные на ощупь и цвет красиво',\n",
       " 'концовка у чуть чуть',\n",
       " 'легкий тонкий немного прозрачный ткань приятная',\n",
       " 'отличная краска цвет волосы после живые',\n",
       " 'очень понравился давно такой хотела жаль что нет выпечка получается аккуратная ничего никуда не не течет очень довольна',\n",
       " 'набор покупала в подарок ребенку 1 год маме и ребенку набор очень нравится из тарелки ребенок 3 х лет а из маленьких',\n",
       " 'если бы женщины мужчин за их достоинства тогда этой истории возможно и не было бы конечно не которым хотел бы ее видеть но она никогда и не другой он знал что она и но очень ее что со временем и она сможет его любит игру в она любит играть и любит мужчин которые любят играть она такая какая есть – такой ее мог ли быть ей интересен человек в любимой игрой которого был так что ее мужчина не обладает чтобы любовь – это его вина а не вероятно имеет право на жизнь только вот что изменилось с их в китай ли они вряд ли просто их круг общения существенно и они стали друг в то о чем раньше и не только здесь ему что их в с по была ей в его в системе города и были ей она же в свою очередь смогла в своем не а действительно и своей жизнью ради дела во спасение да они очень разные люди но разве это может быть им вместе особенно если каждый готов сделать шаг другому',\n",
       " 'очень приятный запах который мне очень нравится и что не мало важно нравится моему мужу советую',\n",
       " 'скорее для детей от 5 лет в 3 года надо',\n",
       " 'хотелось бы что б об в комплекте провода было написано в описании когда я в отзывов о нём ещё не было и я не заметила отсутствия такой детали а теперь мне надо за за 50 в магазин т к я в',\n",
       " 'раньше я кучу про группы крови и кучу всякой про здоровье детей в этом всё что нужно и и появления зубов и календарь а я',\n",
       " 'книга написана легко читать очень приятно мне понравилось',\n",
       " 'ребенок просто в восторге просто в детский мир наш 3 5 летний сын теперь только и ждет чтобы кто то с ним в',\n",
       " 'поставила бы 4 звезды если бы не холодный дом содержит все серии не зная этого я одновременно купила отдельный диск с 9 15 да и здесь полностью а вот в некоторых местах и это просто а в общем по за исключением которую я смотреть не стала вообще',\n",
       " 'так будет дополнение по этому',\n",
       " 'в целом весьма неплохие наушники звук хороший стоят недорого жаль не типа',\n",
       " 'тоже получила пробник данного с заказом достаточно приятно пахнет для любителей мне показался вполне к концу дня значительно конечно но легкий аромат на одежде еще несколько дней в целом на твердую 4',\n",
       " 'мне понравился при выборе этот симпатичный и компактный за эту цену хороший вариант работает исправно я им шумит тихо но не мешает в плане и есть с реальные не отличается особо от дорогих',\n",
       " 'красивый рисунок сам корпус удобный все в восторге',\n",
       " 'книга совершенно не понравилась какая то она и читала очень тяжело кроме о ярко легко и все остальное похоже на какое то пусть меня авторы',\n",
       " '1 гарнитура отличная для такой цены 2 под подошел хорошо на самой нет возможности звук но это делается с телефона звука 3 полная даже был хотя я думал что его не 4 мягкий хорошо держится в и не доставляет дискомфорта всем доволен',\n",
       " 'шкатулка хорошая вместительная обидно что крышка вся в надо было проверить из коробки тогда бы отказалась коробка простая не но это не проблема',\n",
       " 'хорошая внешний вид для прослушивания музыки и игр не использовал',\n",
       " 'и во время и после идеален как вариант для т к за счет своей не очень хорошо держит форму хотя до только его все другие и удобен для кормления чашки одной рукой приятная расцветка да и цена',\n",
       " 'очень хороший делала тесто для все классно получилось прост в обращении я очень довольна покупкой недостатки пока не',\n",
       " 'на в наушниках на какой то более музыке этого можно и не заметить сразу но это особенно заметно на высоком и где то на и это насколько я понимаю зависит именно от при громкости эффект немного но все равно остается глядя на другие отзывы здесь или к примеру на очень надеюсь что это брак и есть смысл на другие такие же потому что когда они звучат чисто они звучат действительно хорошо со значительно более в доме но с их слушать невозможно на хорошей карте на на где то больше где то меньше но в целом картина везде одна и та же ни дорогие ни дешевые philips так себя не дешевые могут откровенно и но по крайней мере без',\n",
       " 'на фото все красиво в жизни',\n",
       " 'книга полезна не только для но и для родителей очень интересные задачи задачи про вызывают желание их',\n",
       " '3 заслуживает высокой оценки потому что с воды он справляется хорошо мы его уже 3 месяца где то надеюсь что прослужит он у нас еще долго можно поставить для это намного удобнее чем самостоятельно мы ее не сразу поставили но потом про совет и всё таки решили что нам не теперь фильтр вообще не требует никакого ухода поставили и забыли о нем всегда знаем что в у нас чистая',\n",
       " 'всё же в звезда своё не очень на всю а уже возможно и на первые несколько градусов так что с ней и в несколько градусов можно учитывать в некоторых случаях если в человека присутствует эта звезда то он не обязательно является или он мог с такими но скорее всего как и в отличие от полностью этот и в будущем и будет ещё но не всегда для героя это зависит от его если у него больше то скорее всего он не сможет от если же герой то у него скорее будет рядом звезда – – та самая рука которая держит голову же звезды в том или скорее говорит о том что герой в и как так и вероятно и всё таки в но повесть он свои проблемы и часть своей судьбы откуда эти рассказы – на это не просто он что то знал с и – путь к такими в могут руки куда эта это для в любом случае эта и души не является так иногда делают в душу человека без на то самого человека что по всем и поставить о на а если не который минимум на полгода на там всё с и',\n",
       " 'сначала в и те чувства которые когда неоднократно первую потом и понял что разработчики подарили нам еще один шедевр так как сам и труд то заказал именно разработчики честно свои деньги браво',\n",
       " 'проблема с',\n",
       " 'купил неделю назад лето стены в квартире и было не чем на улице 32 в квартире не на много меньше исключительно для дом теперь по одновременно с фактически дает немного лучше всего когда в для воды около 50 в комплекте два аккумулятора но просто из лучше работает разница в температуре имхо до 2 4 градусов если вода не а температуры то как нет но в комнате становится легче из за плюс легкий на мощности вот тут ничего вообще не скажу так как разницы не два режима вт и вт уже на вт комнату в 18 20 м на ура хорошая вещь для использования вместе с возможно использовать вместе с но смысл о о в остальном есть для воздуха вручную при включении функции работают как в режиме есть три скорости сам работает почти но на второй и третьей скорости достаточно сильно от воздуха и легкое и нет или окно если по комнате нет так как основа не холодный воздух а легко нет на режиме работы вывод брать можно но для этого устройства цена завышена на 1500 тыс руб ожидания оправдал так как это не первый у родителей стоит на 3 5 тыс дороже но все тоже самое по и',\n",
       " 'отличная с чтобы детей с качество хорошее цена еще лучше довольны очень',\n",
       " 'концерт великолепен никогда не думала что такие песни как или будут так хорошо в в общем как всегда не только вот непонятно почему на диске есть не все песни с например на мой взгляд самой лучшей песни в там почему то нет это немного впечатление а так отлично и диск красиво и в',\n",
       " 'достоинства приятно освежает кожу слегка это правда кожа для меня приятный запах хорошо увлажняет недостатки не советую на или слишком кожу',\n",
       " 'большое зеркало для всё время перед ним песни удобное крепление краска на под сразу стали плохо пришлось с удовольствием',\n",
       " 'данного бренда в первые',\n",
       " 'о – как из за с не » по героя в всё всё заново в самом начале уровня если до места своей смерти то можно вернуть но не факт что тут даже простая имеет неплохие в а то еще при первом когда стены эмоций и если об стену сначала с с на к и с » обратно на базу с зачастую но если не знаешь рецепт этих и просто лучше к ним в гости с чтобы не сильно по поводу и не заставляет вас по до снова и снова до и одновременно которые двери теперь пройти вполне может что сидит за в самом начале уровня и – можно первый к слову тут аж 16 штук не включая вроде и все они разные и к каждому прилагается выход на',\n",
       " 'всё супер огромное количество информации',\n",
       " 'лучше и взять что нибудь получше режет но часто нужно чтобы пользоваться им не очень удобно',\n",
       " 'очень понравилась пластик хорошего качества цвет радует глаз отличный йогурт получился со второго раза время приготовления 6 часов делала в на 3 6 в первый раз пробовала делать с получилась удобна тем что для приготовления можно пользоваться от 0 5 до 1 литра время приготовления',\n",
       " 'фирма как всегда не у классный механизм с кубик крутится мягко и приятно',\n",
       " 'но он у нас не очень и вечно цена прекрасная иногда большая банка удобнее иногда наоборот',\n",
       " 'не не идея с которые на быстро в попытки об истории семьи главного героя чисто а уж современный период просто что видимо должно ярко жизнь и главного героя по ну не я ни глубины не увидела стиля все на мой взгляд обычно',\n",
       " 'запах супер шикарный для кому за 30 заказала ещё духи',\n",
       " 'понравилась дизайном поэтому и купила но не понравился очень резкий запах резины и выветривается он очень медленно возможно так и останется',\n",
       " 'книга хороша в первую очередь тем что в ней много и примеров знаете не такое полное воды описание а четко она реально многим людям рекомендую всем кто разобраться в себе',\n",
       " 'дочь на день рождения заказала в праздник оказалось что куклы от идея забавная сама куколка симпатичная но качество обидно что ребенка не удалось',\n",
       " 'слабая вообще не нужна ерунда на средней и на тренажер через раз не скользит ну и во время упражнений с этим нагрузка именно на мышцы почти так что 2 недели могу сделать только один вывод надо меньше есть и в принципе заниматься а вот такие чудо ерунда деньги',\n",
       " 'действительно нужно слегка чтобы во вкус зато потом уже не оторваться пожалуй лучший роман в этой серии',\n",
       " 'цвет оказался не таким как на фото более светлый менее красный',\n",
       " 'полностью согласен с предыдущим мусор единственный плюс часа за три',\n",
       " 'буду рекомендовать всем',\n",
       " 'очень оригинальные красивые и сделаны очень качественно надеюсь что после стирки они не свой внешний вид я покупкой довольна ставлю твердую',\n",
       " 'яркие сочные цвета несколько вариантов игр от до подарила ребёнку 8 лет играет только в неё потому что даже если от одной игры всегда можно на другую сначала проверить себя на скорость решения строя потом от собрать от ну и под конец пару картинок так как только тебе рекомендую',\n",
       " 'качество хорошее но вот сами хоть и написано что для только ввиду у наверно т к сами там где детали огромные какие то раза в 3 4 больше обычных и очень тяжелые кроме как мужу отдать ногти на ногах применения другого не нашла',\n",
       " 'ребенку в 4 года интересно его рассматривать',\n",
       " 'очень понравился гель тем что не нужно много и пенится хорошо запаха я не почувствовала сказала бы что его нет но это мои ощущения в других более яркий аромат но куплю еще когда закончится',\n",
       " 'пластилин детям понравился много цветов удобно что каждый в своей упаковке после становится в связи с чем вызывает некоторое при но если то все в порядке',\n",
       " 'покупался для в тон сумке для него же пока не разочаровал крепление удобное свет мягкий смотрится забавно создает только качество исполнения оставляет желать так что цена на мой взгляд несколько завышена',\n",
       " 'здорово что начали издания 80 90 красок и купила для своим детям',\n",
       " 'стоит своих денег прибор на кухне',\n",
       " 'для лета очень удобные и легкие',\n",
       " 'рекомендую',\n",
       " 'нашей дочке очень понравилось присоединяюсь к отзывам',\n",
       " 'блокнот отличного качества стоит своих денег замечательная вещь',\n",
       " 'смотрю тут одни и стоит быть здесь вы как раз и тот и которые на смерть именно против чего и и на мой взгляд ярко и честно читать надо думать тоже',\n",
       " 'сам набор конечно очень милый даже и схема качественная и хорошо читается но нитки не по или вам придется разбирать их по на глаз по описанию цвета учитывая что у ниток не знаю что у меня получится',\n",
       " 'достойно красиво написано живые люди и за и мать по сравнению с и на и и глаза такое ощущение что автор от сказок и читателя в жизни где нет и и где за каждую минуту радости цену не очень по зато всё как по настоящему и надежды и и радости по этой книге надо срочно снимать кино может быть не сериал а которую люди смотреть в огромные книга этого стоит',\n",
       " 'отличный легко крепится удобный купил сыну ну и сам иногда меня с весом держит легко',\n",
       " 'купил такой чуть более 1 5 лет назад сначала дизайном корпус из металла воду потом через месяца два частично надписи на уровня воды далее 1 раз чайник не автоматически при воды в результате была похожа на а с месяц назад появились на уровня воды через которые при по вода все достоинства качеством материалов и или руками покупал за около 3 тыс за цену 4 5 тыс покупать чайник может только тот у кого на дня есть проблема куда выкинуть деньги деньги зря чайник на',\n",
       " 'товар соответствует единственный недостаток маловат диаметр в верхней части и при установке в если производитель этот размер то изделие будет',\n",
       " 'очень быстро 10 мин выглядит естественно',\n",
       " 'не бы это средство маслом скорее что то для блеска и запах приятный придает волосам блеск и',\n",
       " 'нормальная можно мыть в посудомойке',\n",
       " 'видимо мне достался самый шар потому что за месяц еще ни одного не дал но как игрушка и как брелок очень прикольно',\n",
       " 'за такую цену отлично буду брать этой фирмы ещё',\n",
       " 'набор полностью соответствует описанию качество отличное мое полностью покупайте не пожалеете отлично подойдет для подарка',\n",
       " 'игра великолепна геймплей развивает идеи еще в для всех поклонников жанра к приобретению',\n",
       " 'я так понимаю эту игру недавно в году и я в неё уже играл и хочу всем поиграть потому что игра реально стоит своих денег',\n",
       " 'тарелки понравились но они более чем на фото не хватает а в целом хорошая размер удобный мою в посудомойке без',\n",
       " 'приобрели когда было 6 месяцев пользуемся с большим удовольствием выбирали очень долго кучу вариантов в итоге заказали оригинальный дизайн хорошие отзывы и возможность достаточно долго использовать спасибо',\n",
       " 'сделано добротно и качественно несмотря на китай лампочка включается при выключается четко через 6 8 мин после того как вы положили щетку или насадку и коробочку светится но сказать 100 что это и не могу но надеюсь что так оно и есть а если так то зачем платить больше за др производителя беру второй такой же',\n",
       " 'шампунь не сушит волосы после его использования без волосы сами в а не торчат в разные стороны как у шампунь совершенно не пенится но как то быстро расходуется',\n",
       " 'очень милый дизайн у чайника от но оказалось что это все не только для красоты получили чайник с сначала думали что не то заказали но не все равно красивый а тут что рисунок становится при воды это очень приятно удивило а когда чайник он начал ну разве не чудо а еще этот чайник позволяет регулировать температуру покупкой безумно довольны хорошо что у есть такие при этом чайник совсем недорогой не дороже самого простого в магазине',\n",
       " 'для конечно так считает мой муж',\n",
       " 'в комплекте сим карта с 100 рублей в месяц рекомендую',\n",
       " 'с набором под но не с ней ничего общего 1 года года к ним отношения не имеют не что правильно и за дело ну и на то это не действительно ну разве могли скажем на при при вариантов развития событий и точнее на 9 в из и т д 2 еще один говоря о цифры на это как если бы о земли всем что земля стоит на 3 х цифры давно и без а прекрасный писатель и но по вполне понятным в начале 70 х не мог потому и тем кого история а не не придет в голову на него ли они или а вообще и каким со своей пора бы понять что деньги не пахнут не всегда',\n",
       " 'кто уже получил пожалуйста ли на первом если кто там на каждом диске серия с когда сначала последняя часть серии а затем часть перед ней и интересно действительно ли картинка ли хоть как нибудь бонусы',\n",
       " 'какие то большие настолько непривычно мягкие приятные на ощупь но только вот с размером как то не вызывают чересчур большие',\n",
       " 'это оригинальные диски от не запись с диски с максимально качеством сама просто быть может недостаточно но зато очень это шоу и на наших глазах настоящее чудо быть может кому то не хватает но люди оценить эта мир и наши о нём тут есть над чем всё это реальный и благодаря современной мы можем всё это во втором и её яркий и самый во всём этом на сегодняшний день',\n",
       " 'помада хорошего качества хорошо лежит на губах не скатывается в не по не жирная меня все устраивает',\n",
       " 'в очередной раз к другу на день рождения в голове мысль чтобы подарить такое полезное и нужное каждый раз его на лице из волос то ли то ли нет было ему нужна braun 9 9 плюсов ее не количество никакого раздражения легкое управление стиль одним словом в каждой детали мой друг сказал что braun 9 9 это лучший его подарок за все 25 лет',\n",
       " 'с большим удовольствием купил бы 60 шт таких за эти деньги жаль что их там всего за такие деньги действительно нормальный человек их не интересная',\n",
       " 'долго не сделать заказ были сомнения по поводу цветов когда открыла посылку поняла что зря все цвета в соответствуют заявленным на фото при использовании себя образом если наносить базу под тени то на протяжении всего дня тени цвет и не рекомендую',\n",
       " 'работы как все сделано но и поставили на полку ребенок тоже',\n",
       " 'я не очень этой книгой их за того что плохое качество бумаги черно белая все таки в хочется красок',\n",
       " 'работает уже 8 й месяц покупала здесь на озоне единственный минус хотелось бы гарантии на более срок',\n",
       " 'книга наших и сейчас таких не пишут история о и которых так хотелось бы видеть в современных хорошее актеров — простой яркий язык все к',\n",
       " 'в целом рекомендую для тех кто уже попробовал на и хочет попробовать на других',\n",
       " 'качество хорошее цвет приятный рукава оказались',\n",
       " 'крепится легко и прочно удобно не дорого за удобство пользования',\n",
       " 'мне больше чем понравился',\n",
       " 'ещё бы внутри или какой на молнии а так прекрасно',\n",
       " 'ткань понравилась но я надеялась что длина на рост будет ниже чем на модели но модель похоже одного роста со мной низ выше размер 44 нормально',\n",
       " 'довольна качеством бумаги все в одной',\n",
       " 'очень к сожалению на фото это не заметно не подойдут',\n",
       " 'хорошие плотные носки с виду очень симпатичные посмотрим как себя дальше',\n",
       " 'жду пять лет и надеюсь',\n",
       " 'понравился состав в настоящее время курс не но внешний вид в сторону некоторые вызывает',\n",
       " 'запах резкий и совсем не пахнет',\n",
       " 'книга очень порадовала как материала так и и о того что было до и того который сейчас автор этот труд по собственной и без из вне я думаю не понравится',\n",
       " 'немного показалась игра и прочие среди и с в книге было описано так как будто большинство ради любви к кому то из них как человек дважды в я в это не очень да романы имеют место но не в таком да и сами из не настолько и как впрочем и может понравится очень',\n",
       " 'очень понравились покупала несколько разных и не смотря на достаточно широкие свои ногти покрытия подходят идеально рекомендую',\n",
       " 'игрушка хорошая брали как первую игрушку малышу в месяц в голове не очень не раздражает наш экземпляр не очень похож на скорее на',\n",
       " 'понравилась возможность воспользоваться сразу бонусы спасибо и использовать слово',\n",
       " 'на ногу',\n",
       " 'когда мы получили то по домой мы решили ее собрать проверить и посмотреть собрали мы ее быстро очень легко собирается внутри она оказалась очень большая там не то чтобы три человека но и все четыре пока нам очень понравилась на и посмотрим как она себя',\n",
       " 'при в на несколько часов цвет у которая приобрела серый оттенок после стирки с пробовала на ней другие средства ничего не жаль только что такой маленький объем упаковки',\n",
       " 'брал жене очень понравился пользуется радости нет озону спасибо все пришло целое упаковка тоже упаковано нормально отдельное спасибо',\n",
       " 'не согласна что до трех лет купила 8 штук разных и буду еще сыну нравится',\n",
       " 'коробка из плотного картона красивая удобная собрала её по инструкции за 10 минут вместительная отлично в интерьер комнаты сына',\n",
       " 'волос очень приятный запах рекомендую у кого волосы тяжело расчесываются и для от волос подойдёт',\n",
       " 'давно искала маленькую и которая быстро нагревается и минимум волос наконец мне теперь не моей мой волос очень тонкий делаю часто и могу сказать что волос не а объем просто так что ставлю смело этим 5 и всем рекомендую',\n",
       " 'такая игра а хоть бы одну бы на русский язык',\n",
       " 'вообще уже часто с такими это тому жалко что мнение такое на игре в игру играть даже не хочется после такого',\n",
       " 'своего кота в на а именно s d c d и на корм для коту корм очень нравится как сухой так и берет и т д беру на ozon потому что цена за корм до 70 рублей в цена 100 рублей',\n",
       " 'товар один раз может и на оказалась и для на мой 4 не подошла идеально для типа',\n",
       " 'покупать пришлось не тут из за цены нашла сильно дешевле но сама куртка очень хорошая на рост взяла размер получился небольшой запас но не висит легкая и теплая рекомендую',\n",
       " 'была разочарована нет несмотря на размер l по после 4 дней носки хорошо на при носке размеры на 2 см думаю что и без этого чуда мои см качество оставляет желать лучшего жаль потраченных средств',\n",
       " 'по краям задняя вообще меньше на 1 5',\n",
       " 'а меня радует не только качество но и то что тут на озоне приятная цена этой серии знаю лет 10 наверное',\n",
       " 'интересно забавно красочно поднимает настроение простые и',\n",
       " 'игра конечно не заставляет играть в себя множество раз как это было с и или старый добрый но было достаточно интересно особенно если пробовать играть без использования были с и где с во время из минусов совершенно попытка подарить игре сюжет смотреть ролики было даже несмотря на то что время от времени там самому еще что то приходилось это само по себе весьма неплохо',\n",
       " 'надо брать',\n",
       " 'это моё я пишу в домашних условиях по видео покупаю уже время мне все подходит самостоятельно с и никакого желания нет а тут все готово уже хорошее качество и недорого у них еще на хороший',\n",
       " 'тушь понравилась хорошо хочу еще тушь этой же марки которая будет ко всему и',\n",
       " 'один из самых интересных что я когда либо видела зеленый и насыщенный золотой лак яркий насыщенный внимание ношу его и в и в он везде стойкость 3 4 дня стирается сложно покрытие желательно 2 слоя',\n",
       " 'восторга по поводу данного не пылесоса не было и хотелось компактный и выбор на него из за цены со и из минусов щетка была сразу с как б у щетка не удобная к и к легким прилипает и их от пола что очень не удобно у щетки один режим нет на когда мощность тоже одна конструкция фильтра который и весьма не надежная если мыть и чистить после каждой уборки он быстро придет в где купить новый так никто и не еще сильно греется корпус буквально за 5 мин уборки становится у меня одной так в остальном понимаю что за такие деньги супер вещь ожидать этот за лучшего сойдет',\n",
       " 'заказ пришел быстро и в целости',\n",
       " 'это устройство проблему современных телефонов за 10 часов использования а работать надо только этим друзья подарили на день рождения в комплекте есть провод и само в целом больше ничего и не требуется заряжается за 3 4 часа',\n",
       " 'начало в меру сюжет но и и осталось много стоит ждать продолжение надеюсь в побольше про крови конечно их осталось только двое но я думаю история их и может быть очень интересной в первой книге автор конечно говорит об этом но хотелось бы еще',\n",
       " 'в данной книге не в смысле им не главы и а вот и во всех случаях кроме главы в по имени главной страны например глава одна из на карты в этой книге отсутствуют',\n",
       " 'мне понравилась стильная и удобная но для жены кнопка оказалась больно пальцем нажимать поэтому теперь если нужно она меня так же думаю для кнопка может быть тоже',\n",
       " 'странная книжка и странная девушка из она вся такая белая и книжки читать любит а мы значит и где только слов таких такое ощущение что автор сам не знает зачем сюда и что здесь делает',\n",
       " 'долго выбирали подушки и свой выбор на этой модели не пожалели очень качественно сделаны а главное очень комфортно на них спать очень рекомендую',\n",
       " 'очень симпатичные и прочные коробки для хранения все гости внимание',\n",
       " 'на странице 5 сверху вместо 38 следует читать 38',\n",
       " 'звук хорош не но вот про в играх мне кажется больше или уши у меня',\n",
       " 'я нашла когда руки не а под иначе будут сильные боли в особенно для полного человека что его от занятий',\n",
       " 'хорошая пластик прочный и не единственное что необходимо учитывать так это игрушки',\n",
       " 'смешные рассказы про людей и разные некоторые рассказы дети не юмор в них другие наоборот в том числе благодаря самого автора между и тому что книжка оформлена как просто и понятно',\n",
       " 'а кто нибудь брал в машине можно мыть рисунок не',\n",
       " 'такие вещи настолько пользуюсь сама один раз в году когда действительно сильно подошва помогает исключительно я не про маску для да там всё написано мужа попробовать ему наоборот сильно не понравилось сказал что в ногах сохраняется на пару дней хотя он у меня мужчина больших размеров и кожа у него как у остались на нужно найти именно свой способ а мне нравится',\n",
       " 'с работать отказалась просто настроить его автоматически не помогло пришлось вручную программа на диске версии последняя версия программы с сайта настроить также не смогла настройки вручную пока все работает часа 3',\n",
       " 'комплект очень понравился хорошее качество приятный на ощупь с совпадает для кроме одной детали у меня полоски на не а',\n",
       " 'очень хорошая качественная аккуратная красивая не мне очень нравится советую',\n",
       " 'давно хотелось приобрести выбор на philips в первую очередь понравилась дизайном очень большой плюс что есть сразу после приготовления кофе если вдруг срочно пришлось из дома можно не еще металлическая благодаря которой кофе долго остается и при этом не есть функция готовит кофе и быстро единственное процесса происходит и большой минус нет фильтра в комплекте',\n",
       " 'исполнение внешне но не качественно внутри кое где не',\n",
       " 'было узнать больше об этой истории написана',\n",
       " 'обложку покупала мужу в подарок понравилась кожа мягкая сделана аккуратно есть кармашки для карточек',\n",
       " 'недостатки и долго сохнет',\n",
       " 'купила планшет вначале он два месяца теперь батарея не заряжается wi fi отключается еще на сети в шесть тысяч на ветер лучше еще 3 и купите что то более достойное',\n",
       " 'покупаю поэтому комментарии',\n",
       " 'флешка нормальная но тонкий в usb быстро пользуюсь 1 5 года а так работает исправно когда много',\n",
       " 'купила с этим рисунком решила в купить еще и ящик для хранения ящик очень порадовал своим качеством',\n",
       " 'прикольная графика супер ещё лучше чем на играл час у друга безумно понравилось только одно интересно почему цена такая высокая',\n",
       " 'мой как же оно как будто собака пытается но даже если так то с большим удовольствием его минут 15 20 несмотря на то что это и у нее все горит в и в один',\n",
       " 'действительно пахнет очень приятная 5 этой',\n",
       " 'первый раз купила такой с ним бельё и полотенца что могу сказать очень приятный аромат остается после стирки очень нежный бельё стало а полотенца расходуется я довольна куплю ещё',\n",
       " 'очень в хотя мы не и',\n",
       " 'я не в восторге от этого произведения и скучно не то что можно при а просто хочется такие вещи наверное лучше оставлять всё же для себя действительно как своё стихи читать не умеет и делает это как школы хотелось бы ещё сделать маленький относительно обложки впечатление что она там своего ребёнка или какого то мальчика а не своего мужа хотя насколько я знаю этот альбом она именно ему очень ну надеюсь этот альбом своих поклонников в смысле это полный',\n",
       " 'отличный телефон с фирмы nokia до этого дела не но привыкла достаточно быстро удобный симпатичный дизайн радует глаз функций достаточно использую по по несколько часов были смс радио мини радует меня зарядка при таком работы на высоком уровне хорошо держит вовремя иногда правда телефон но я думаю это связано с моей несколько раз и ничего из недостатков только задней панели ни быстро поменять ни ещё что ну а дисплей конечно приятное для',\n",
       " 'и',\n",
       " 'заказала фильтр полгода назад пока проблем не с ним но хоть все и пишут что простая мы сами не смогли разобраться у 1 хорошая и если семья большая надо брать именно его фильтр справляется со своей задачей вода стала и мягче',\n",
       " 'красивая оригинальная с цветами меня оригинальный дизайн большая 3 метра на окно это даже больше чем нужно имею в виду окно белая очень качественная довольно плотная в очень на упаковке видно как ее можно повесить так чтобы была и цветы тогда вставки смотрятся и интереснее впечатление окна',\n",
       " 'сама по себе сумка хорошая но по моему она предназначена только для обуви для формы в ней места очень мало',\n",
       " 'роман с в историю в жизни и посмотрела даже на свою работу по другому же некоторым они могут увидеть в необходимости яркие цвета кроме таким людям',\n",
       " 'очень понравился даже лучше более',\n",
       " 'покупался в паре с вида с справляется хорошо сигнал идет нормально без стал потому что недавно и мелких никак не мог не сам',\n",
       " 'хороший висит у нас на',\n",
       " 'очень красивые и легкие весы показывают точно советую покупать',\n",
       " 'самый сильный мультик из всех которые были в прошлом',\n",
       " 'книгу купила потому что видела пару с мне тогда понравилось как она и что взгляд в целом на жизнь понравился в книге информации много причем никакой воды и из в советую',\n",
       " 'легкое чтение',\n",
       " 'подарил жене такой ей понравился',\n",
       " 'хорошо удобные качественные',\n",
       " 'на 3',\n",
       " 'хотя покупала для ребёнка с удовольствием использую сама книга соответствует заявленному от 5 лет ребёнок справляется прекрасно подойдёт для к новому году в представлены звезда 3d шар 3d и игрушки и мороз именно потому что несколько в 60 70 г г подойдёт и для дома',\n",
       " 'очень понравилось качество издания комментарии но перевод хороший о самих говорить о покупке не пожалел',\n",
       " 'крем вообще увлажнения особо не вижу в плане и тоже недавно стала пользоваться маслом пару на кожу вокруг глаз вот это действительно способ даже если прямо перед сном делаю то утром никаких как от',\n",
       " 'сразу что в глаза отличное качество бумаги довольно интересный и от и до наших дней описаны наверное все и школы в подарок хотел оставить себе',\n",
       " 'качество как всегда на высоте большой',\n",
       " 'одни и те же отзывы в разных интернет магазинах даже речь идёт о разных',\n",
       " 'как на фото так и фактически',\n",
       " 'действительно приятно но для меня очень насыщенный аромат',\n",
       " 'ее в и себе другую сама обратно третий этого вообще меня странно что его никто не или хотя бы опять в не я мечтала об этом хотя там у него го такие персонажи для того и нужны чтобы он был такой весь и и всех а потом бы которые как же так с нашим то есть в смысле с ну вы поняли не понравилось с бред про я люблю того но с этим все равно буду просто как друзья какая тут может быть если он то тебя любит ты себе одного а про второго вообще а то вот всех продолжение будет наверное про забавная девочка обязательно ах ну да в этой книге у героев был и даже не после невероятно правда что весьма порадовало поскольку им категорически нельзя было этого делать ну не бывает всем приятного чтения',\n",
       " 'флешка работает на ура брал к',\n",
       " 'отличное качество все детали хорошо и хорошо подходят яркие краски если малышу нравятся пазлы он останется доволен ребенок 2 5 лет справляется легко игрушка понравилась и маме и ребенку',\n",
       " 'книга советую у меня такое ощущение было что сама в',\n",
       " 'ребёнок как вторую обувь в школе очень удобные у нас',\n",
       " 'покупал регистратор в подарок хотела на новую машину поставить регистратор с двумя чтобы и сзади другие в т ч но тут экран качество hd все же сейчас уже hd почти везде стоит но видео не что так снимает hd через время регистратор на руки понял в чем дело оказывается производитель сам производит видео ночью выше всяких похвал поражает своей в на русском и важно языке все от дорогой упаковки а samsung до видео и меню рекомендую стоит своих денег',\n",
       " 'отличное белье никаких нареканий ткань приятная достаточно плотная это качество великолепная расцветка простыня одна сторона другая внизу 5 да еще за такую цену купила с 50 скидкой',\n",
       " 'как пишет сам автор он в этой книге о своем если бы я не знал я что написана она так она получилась так что любителям данной серии советую',\n",
       " 'пришел в виде с заказом запах идеальный для ежедневного использования для и на работу но не очень стойкий обязательно мужу на новый год такой себе уже приобрела женский вариант',\n",
       " 'очень хорошо настоящей руки при первых трудно руки уже дважды думаю после',\n",
       " 'отличная за такую цену легкая для моей 1 5 лет очень удобна по и весу ткань по на второй день но учитывая что такую же по качеству в магазине продают за рублей я не',\n",
       " 'самые которые через неделю на любом их можно купить гораздо дешевле',\n",
       " 'так же как и с взяла для человека под подгузник самое то снимает смягчает кожу рекомендую к покупке',\n",
       " 'только упаковка маловата',\n",
       " 'купила комплект 2 месяца назад простыня уже в до этого был комплект но в таких проблем вообще было комплект как почему так получается что в ткань что то а ведь пишут что 100 хлопок',\n",
       " 'очень для меня оказалось что в книге все описано простым и доступным языком нет необходимости сидеть и с и также понравилась глава в которой даны рекомендации по бизнеса таким как продажи',\n",
       " 'лежит и в своей от в он в памяти ощущения от до вспомнить вкус какого то не ему спокойно в мир иной его памяти картины будь то или в от до между делом его воспоминания с его близких людей даже кота и фигурки с стола таким образом нам образ – с к детям не открыть сердце любви и только одну – вообщем в итоге он но не уверен что пока его книга кстати это очень маленькое произведение страниц 100 даже не роман мне не понравилась читать описания еды было довольно сложно мне по душе больше с его в – легко вкусно готовить хочется с и хорошим и не в согласна с ж – лично я только одно даже самые любят или продукты из за углом и еще чем то это там вот тоже такой в итоге от из детства',\n",
       " 'качество очень хорошее не разводов нет удобен в нанесении но очень светлый',\n",
       " 'для развития ощущений хороша',\n",
       " 'мы брали ребенку на 2 года хоть и малыш но по и его уже книгу читали с удовольствием сделана очень качественно картинки и текст отличного качества цвета яркие читали ее вместе по раз конечно очень кратко там написано но сделано очень оригинально',\n",
       " 'заказывал 2 шт в наличии сразу не было меня в когда пришла оперативно доставили в пункт выдачи удивила низкая цена очень доволен спасибо рекомендую так держать',\n",
       " 'замечательный для школы яркий красочный',\n",
       " 'набор замечательный брала себе потом маме наборы по немного не совпадают',\n",
       " 'туши наношу совсем немного буквально пара впервые такой эффект обычно в зеркало не а тут случайно в посмотрела на себя и',\n",
       " 'после работы с этой книгой нашёл новую работу',\n",
       " 'отличный даже два за такую цену работает отлично меня устраивает собрала ветер радует нас',\n",
       " 'отличный и главное его там много',\n",
       " 'отлично выглядит в виде просто великолепно',\n",
       " 'не согласна с первым отзывом у дочери моей телефон я купила красный разницы нет телефон отличный удобный а звучит звук у этого телефона дизайн отличный смотрится великолепно жаль только что в озоне нет чехла htc чехол потому что этого не хочется прозрачный чехол бы не эту красоту',\n",
       " 'у нас была такая лет 20 назад прямо не что их еще благодаря форме можно положить крем всё что хотите и в срочно заказываю и всем советую спасибо за рецепт',\n",
       " 'семьи бывают разные как и люди не всегда люди и не всегда могут между ними проблемы чтобы не стать стоит прочитать пару советов они есть в этой книге',\n",
       " 'в пока он стоил рублей при этом розовый и рублей на следующий день решила сделать заказ а стоит уже рублей при этом цена и не спасибо озон что меня от и покупки',\n",
       " 'отличная игра и хотелось бы пройти в компании',\n",
       " 'заказывала еще другой комплект этой же фирмы очень понравилось размеры',\n",
       " 'умеет как хочет писать хорошо и даже за тему не своих поклонников к коем я себя все таки конечно в истории присутствуют все жанра герой за герой деньги герой земли но герой все таки приятный с но без со но без и сюжет довольно получился приходится с не только но и мнению и словами и интересно хочу продолжения',\n",
       " 'игра великолепная судя по отзывам на на сайтах данной я жду когда её мне или если в в тогда в куплю',\n",
       " 'иллюстраций книжка красиво помимо основных больших картинок с о котором идет речь на каждом есть небольшие картинки про прошлого героя и от иллюстраций так и чем то по и маленький минус перевода',\n",
       " 'заказала себе эти тени пришли все так и не смогла их хочется чтобы перед на брак',\n",
       " 'но есть минусов украшения на ногах надо закрепить так как они держатся и из за волос голова назад',\n",
       " 'книга очень приятная детство читается на одном дыхании шрифт отличный на качественной белой бумаге не с обратной стороны рекомендую всем кто любит классика временем',\n",
       " 'хотела еще но цены сейчас не радуют',\n",
       " 'на одежде вещь не покупаю и использую разные купила и данный шампунь потому что для детей обожаю их и пользуюсь данной шампунь лично на меня не по с другой кол во головы который пропал от предыдущей марки появился деньги на ветер увы эффекта ноль',\n",
       " 'супер очень удобный и надежный без проблем из металла легко и быстро собирается с помощью него удобно телевизор в любых а также вешать под углом подходит для установки с в угол',\n",
       " 'купила из за к не факт что буду всегда носить пока качество 4 с минусом очень большой ремень для девушки сложно норм закрепить нужна доп батарейка не работает сразу это батарейка такая я купила 2 часов из серии этого у в первое же на руку внутри отвалилась сами надо или нет у этих пока не ничего',\n",
       " 'ужасная для работ совершенно не подходит некоторые других бумагу плохо в и рядом что то будто песок из за этого скользит по бумаге не самую может даже редко но для может и но никак не для работ',\n",
       " 'я уже на эту этот оттенок очень сложный в нанесении т е его не с ним необходимо поэтому я его беру когда есть время если времени нет идеально коричневый матовый тогда',\n",
       " 'держатель хороший телефон ещё не со старого раза три точно порадовало большое количество разных настроек возможность поставить на держатель не порадовал пластик на и на телефон слегка от и об этот пластик кусочки кожи проблема крепление действительно уже чем на механизм вроде неплохой за эту цену',\n",
       " 'выйдет ближе к середине 2011 года в одном из разработчики такой срок тем что хотят сделать из игры шедевр собственно как обычно ждем',\n",
       " 'неплохой телефон ну неужели не если китай то в',\n",
       " 'супер клавиатура хороший вес не по столу мягкая на и не при работе удобно клавиши и легко глаз за них красный цвет абсолютно не раздражает цена вполне реальная',\n",
       " 'когда начал читать не мог и чем все закончится много остается наверное стоит или прочесть как я понял она есть и как показалось мне по краю ходит сам автор',\n",
       " 'пока слушаю первый диск пока мне нравятся больше',\n",
       " 'очень давно хотела именно такие под привезли поставила красивые стильные блестящие теперь своего часа рекомендую',\n",
       " 'понравилось что может работать от батареек и от сети всегда на батарейки а так он у меня от розетки работает будильник на свою меню кнопок на английском но все понятно дизайн мне такой нравится были еще белые такого но выбрала зеленый более оригинальный',\n",
       " 'хорошего качества характеристикам соответствует правда с раза видимо плохо качество печати',\n",
       " 'цена как в магазине уже с учетом скидки похоже что оригинал а не подделка',\n",
       " 'отличное средство для стирки в хорошо белье и очищает машинку от пятна и сильные при использовании 2 х на запах приятный и ненавязчивый',\n",
       " 'в данный момент такую картину легко схема удачная единственный минус есть в одну нить приходится аккуратно нить чтобы не шерсть',\n",
       " 'описание от производителя соответствует',\n",
       " 'купила эти меньше месяца назад сначала цена но потом всё таки решилась осталась очень довольна покупкой но потом когда начала поняла что это большое результат уборки приятно удивил я бы даже сказала что я была в восторге чисто все с и не во время работы руки не устают так как очень лёгкие',\n",
       " 'оказалось что мой смартфон на поэтому он не нашёл сколько я ни для меня это предмет пыталась подключить к другим но тоже ничего не получилось смотреть прежде чем покупать чтобы не мою',\n",
       " 'здесь я даже на вижу что вся техника по этой книге на а если ничего нет ну кроме обычной одежды что на тебе и что при себе в сумке и в',\n",
       " 'очень симпатичная кружка малышу сразу понравилась пришла в цвете чем рады еще больше',\n",
       " 'совсем не понравилось что как общения между нет точнее получается так что каждый сидит и ждет своего а сам геймплей не особо впрочем игра очень проста и подходит для детей это пока что единственный плюс который я нашла никому не буду так как люблю более игры настроение а не просто время',\n",
       " 'при использовании на ps и http www ozon ru context detail id просто не в из за в результате это очень обидно приходится каждый раз снимать чехлы так что совет либо покупайте чехлы и не покупайте это устройство либо наоборот при без никаких проблем поставил бы 5',\n",
       " 'очень тонкий на мой взгляд можно использовать как плед для слишком тонкий выполнен качественно мягкий на ощупь был сильный неприятный запах но после стирки с все прошло',\n",
       " 'девайс в состоянии из коробки это и главным образом из за отсутствия практически после этого вполне можно пользоваться интернет и прочие жизни работают аппарат очень быстро из состояния а из моментально легкий не греется главное впрочем цена',\n",
       " 'купила мужу ему понравилось',\n",
       " 'оттенок в магазине текстура мягкая оттенок красивый и не заказала на озоне с получилось очень выгодно',\n",
       " 'хоть мы еще пока маленькие 3 месяца альбом нам он очень понравился интересные иллюстрации и очень мило задания которые малыш будет выполнять с большим интересом альбом выполнен из бумаги но довольно плотной думаю одного малыша',\n",
       " 'очень красивый комплект белья до первой стирки в красный цвет т к и простынь и сторона красного цвета после этого очень боялась что при стирке белье но о чудо стирала в машине при температуре 40 градусов ничего не осталось белым а все такое же яркое поэтому нисколько не жалею о покупке',\n",
       " 'книга для тех кто стать информация в книге знаний для того чтобы и деньги в книге 21 принцип которых вас более в своих лично для себя я несколько и открыл для себя и начал с рекомендую всем людям быть',\n",
       " 'отличная книжка замечательные и красивые красочные картинки плотный картон ребенку 1 4 года она в восторге',\n",
       " 'небольшая игрушка для детей яркий дизайн',\n",
       " 'идеальная',\n",
       " 'супер средство для тонкой кожи очень аккуратно и постепенно кожи делает кожу гладкой отлично очищает и',\n",
       " 'долго думал куда бонусы от увидел скидку 40 на и игру 12 в пункт выдачи 15 17 приятно когда уже 13 она в мой город потрясающая по игре сказано уже очень многое я скажу лишь то что комплектация у этого казалось бы издания просто коробку с игрой вы возможно впервые что это такое — когда об меня они очень порадовали',\n",
       " 'опять нашла себя в новом стиле в альбоме смесь любимого старого стиля марки и современных рекомендую',\n",
       " 'на эти только на сделан шов который так что ребёнок в них не может ходить деньги никогда больше не куплю ничего этого производителя',\n",
       " 'все прекрасно звук отличный понравилось качество записи не даже на большом экране картинка диски за руб другие по качеству записи оказались хуже',\n",
       " 'сама маска отличная делает волосы очень мягкими и легко после маски но конечно все впечатление именно ozon срок годности прислали маску 2015 года которая у них на складе по ходу из 3 лет мне менее полугода баночка на 500 мл и не рассчитана на применение и пользоваться ей примерно год но теперь видимо',\n",
       " 'за эти деньги отличный комплект интересный рисунок цветов качество хорошее цвета не пока',\n",
       " 'очень красивое качественное теплое платье приятное на ощупь качественно сшито связано хоть и китай на все показано подробно заказала р 18 мес в 9 мес первый раз его смотрится замечательно правда рукава пришлось осенью дочке будет с небольшим как раз и будем вообще мне нравится эта фирма рекомендую',\n",
       " 'толщина на 2 картона из за чего чехол и не закрывается до конца в производители хотели сделать его',\n",
       " 'отличное средство запах но чистит на ура вся грязь и прямо на глазах на плите которые не средство вам при но рекомендую средство все равно буду брать ещё однозначно',\n",
       " 'огромный с 3 и брал на как на 8 взрослых и 3 детей из плюсов держит сильный ветер закрывается со всех сторон не пропускает дождь из минусов собрать одному очень сложно без проблем за 15 20 минут использовал этот и в качестве с за на неделю очень удобно спать на или так же использовал как на белая простынь и чай с идеально рекомендую отличный',\n",
       " 'это уже второй мой отзыв прошло уже полтора года после покупки могу все мои положительные впечатления от него качество хорошее у меня их три штуки все в ходу все до сих пор живые да после пользования как кто то писал но на качестве это никак не нам же на них еду для гостей не использую везде и в духовке для выпечки и для мяса и для овощей и для хлеб в в духовке на нём а температура там 250 использую в эти всем все просто в восторге и теперь не жизнь без этих так же как и я так что кто ещё не пользовался этой рекомендую не пожалеете',\n",
       " 'отлично смотрится в домашней коллекции качественно сделано',\n",
       " 'перед на новое решил наконец то не мною как так и обычные игры покупать в я как то не особо люблю ибо кто брал там игры меня что их от туда один поэтому решил по приобрести диск и тут с небольшой магазинов в нашем городе штуки три их обнаружил что средняя цена на 200 500 рублей больше плюс ко всему в некоторых магазинах игры только под заказ и с я но игра которая стоит 1000 рублей продавать за 1500 а то и 2000 я всё понимаю и т д и т п но это не нормально в связи с чем решил приобрести именно в интернет магазине т е тут для начала выбрал пару игр чтобы в случае чего не было ни жалко денег ни меня не ибо не заказал 2 и 3 первая часть в своё время меня сильно порадовала хоть и была на мой взгляд было то в 30 2013 в пришла смс с тем что мой заказ а сегодня 12 2013 и за в общем и товаром и я доволен если 2 дня то товар пришёл через 5 дней а это на мой взгляд довольно неплохо зная как работает россии',\n",
       " 'мне крем понравился нет блеска хорошо впитывается',\n",
       " 'все мы пользуемся но при этом как он по каким работает и как в и точно так же мы используем интернет и только самые и о его эта полезная книжка – для таких и им она многое и покажет',\n",
       " 'которые по версии которой заканчивается сегодня за 3 недели до выхода игры достоинства 1 неплохая графика не конечно но мне графика не так и в принципе смотреть можно 2 всё ещё не обязательно на чтобы его выбрать для 3 напоминает старые 1 и 2 недостатки 1 система управления на кнопку мыши можно поставить только из группы тоже так 1 2 3 4 тоже у каждой кнопки своя группа и нет возможности нужно заранее выбрать 6 клавиши две кнопки мыши и только потом в менять нормально не для нужно в меню там ещё в меню выбрать и выбор после этого в течении времени будут часы и это нельзя пока не так же нельзя выбрать в кнопки более одного из одной группы это в принципе но после 1 и 2 оставляет большое разочарование бутылки пить теперь можно только 1 раз в много времени тоже часы конечно в появляются красные которые частично если по ним но до них не всегда можно на последних наверное именно за этим и сделали уровень сложности можно просто всю игру до главного 2 очки на и тд не дают само как то может оно и не нужно но хоть бы пока что не решил оставлять ли предзаказ в посмотрим после выхода благо до русской версии будет время',\n",
       " 'за на брака для в что то такой свет сильно напоминает',\n",
       " 'очень аккуратные намного ярче и чем на картинке кстати ничем не пахнут видимо уже очень и удобный для мелочей никаких претензий зато масса удовольствия поскольку купила по акции удовольствие',\n",
       " 'брал жене в её длинные волосы сушит отлично дома у нас фен жена говорит этот не хуже маленький удобно брать с собой',\n",
       " 'не люблю где бы то ни было оставлять не самые положительные отзывы и комментарии но может быть в силу того что я пишу по может быть в силу других но начал немного нет безусловно он все так же все так же не боится свою точку зрения это достойно но в этой части для меня с другой стороны а может не а просто он сам таким стал а стал он самым что ни на есть как бы это печально не было но это так он всегда знал себе цену и не очень по поводу своей и роли в современной но теперь и в россии благодаря ему и и а это наше все такой знаете ли света в я очень этого человека поверьте мне но что то его не в ту хотя читать по прежнему увлекательно и интересно в любом случае советую надо знать человека со всех сторон если он вам интересен да и в россии ситуация что на фоне остальных при любом',\n",
       " 'господа и приобрести этот продукт прежде чем и свои на эту графика 4 5 летней и в ос в общем весь игры на и сами знаете какого не моей ошибки себя',\n",
       " 'описание в большая батарейка',\n",
       " 'читала замечательная женщина ее дела прекрасный стиль хорошее книга отличная читайте',\n",
       " 'мне нравится данная идея идея с это оригинально и красиво',\n",
       " 'а у меня 50 книг три автора это не в издании должно быть больше',\n",
       " 'фильм не но не приятные актеры на главных все не молодой человек и девушка с в больших не много спасает дело',\n",
       " 'если в мире качественные вещи то эта безусловно относится к таким кто то версию с тем какой он был в ссср раньше как известно и была и воздух и вода и выше просто человек так что считать что раньше в его детстве все было лучше уверен что этот кубик нисколько не хуже тех которые в а даже лучше чем качество пластика отличная упаковка наклейки из пластиковой пленки подставка в комплекте всего этого не было у да этот кубик не предназначен для и по сборке точнее он для этого просто не но относится ли это к качества и ли вы тратить несколько часов в день на протяжении месяцев чтобы сборки за 20 секунд на момент никаких проблем с этим нет и быть не может крутится с тем же каким его и в а иногда и сразу и будет долго радовать своего как радует любая настоящая оригинальная вещь с и качества не зря именно этот кубик и сейчас остается одной из самых игрушек в стране с которой игрушкой в уж где где а в сша вопрос качества тем более игрушки куда более серьезно чем в россии',\n",
       " 'им несколько месяцев и беру свои слова обратно чистит и хорошо',\n",
       " 'все на первом диске содержание второго на втором первого',\n",
       " 'очень но не сухие а с маслом и вообще с самого начала именно а уже потом какие то фрукты то ли то ли запах очень понравился думаю подойдёт на любой сезон',\n",
       " 'к 7 и 8',\n",
       " 'хорошая в ванной хорошо и отлично держится',\n",
       " 'классная тушь главное что не',\n",
       " 'конструктор вызвал у 3 летнего малыша восторг если ваш ребенок детали могут при берите не пожалеете',\n",
       " 'исполнение отличное просто не придраться прекрасный отличные голоса одна чего стоит и без а короче восторг качество записи также великолепное очень рекомендую именно эту',\n",
       " 'ранее уже комментарий к теперь решил небольшой',\n",
       " 'нет нужно иногда а неудобно не и в первые пару дней а так хороший тепло в комнате быстро с ним и для деток что важно для меня',\n",
       " 'мои едят очень хорошо',\n",
       " 'заказала один через неделю дно подумала что заказала второй через 1 5 недели дно просто без акции очень дорого',\n",
       " 'выглядит очень хорошо качественно нам понравился',\n",
       " 'хорошее качество цена приемлемая получается существенно дешевле обычных на 60 80 шт со скидкой особенно приятно дизайн упаковки радует глаз',\n",
       " 'вполне дезодорант следов вроде не оставляет во всяком случае я ничего на не заметила пахнет приятно каких то посторонних нет по ощущениям на коже очень нежный из недостатков пожалуй что сохнет немного моих обычных в остальном вполне обычный дочка пользуется',\n",
       " 'альбом хороший единственный минус зачем то по новой да типа с это уже совсем другая песня но она тут явно ах да еще рок н тоже спокойно можно было не в альбом в остальном все хорошо теперь об издании это обычный максимум 200 250 за что тут 360 руб не понятно кстати в одном магазине видел его аж за руб возможно группы так цены на диски вообщем я бы не брать никому кроме фанатов группы все диски спасибо за внимание',\n",
       " 'размеры оказались больше в ванной дочь в гости сразу где брали ей такая же нужна заказала и для нее',\n",
       " 'по задумка весьма хороша хоть и до но из этого теста вполне можно было бы но не получилось у автора совсем не получилось повествование читателя да и сцены тут совершенно ни к чему книга собственно ничего нового и интересного я не обнаружила прочитав половину произведения через неделю решила все таки но никак не мой мозг это',\n",
       " 'очень понравился чайник подходит для плиты только отдельно на плите не качество прекрасное удобные хорошо крышки единственно немного напрягает то то чайник широкий и достаточно брать одной рукой если он полный так как ручка сбоку приходится под носик с нет такой проблемы',\n",
       " 'отличная во всех не пожалеете компактная везде',\n",
       " 'все получилось ставлю в 12 ночи а утром и в холодильник разные соотношение цена качество на 5',\n",
       " 'лучшая которую я когда либо видела словно бы для роли а вот для меня был в роли но тем приятнее было удивление от его интересной работы один из лучших 20 века все смотреть обязательно',\n",
       " 'книга которую должны читать все кто имеет и не имеет отношение к пожалуй только этими добиться своего понравилось что все очень четко без и читается быстро для тех кто занимается просто будет особенно полезна кто еще не им стоит эту книжку в памяти каждую неделю пока не в',\n",
       " 'название карты карта и в заблуждение карта только часть вне карты не с соответственно нет вне карты вне карты наконец название правильно карта говорит о не только но и судя по качеству такой нужно крайне покупать другие карты того же издательства на',\n",
       " 'неплохой вариант для хранения игрушек под вместительный запах неприятный отсутствует единственный минус а может и не минус если на крышку она если сам ящик обо что то то может в общем и целом удобно и момент проверяйте на и при получении нам сначала привезли 2 с',\n",
       " 'ребенок просто в восторге и доставили быстро хоть и заказал поздно как раз к новому году',\n",
       " 'спасение для тонких волос на волосы моментально чистые с',\n",
       " 'купила 2 в разных качество отличное все ничего не размеры соответствуют смотрится очень в комфортно',\n",
       " 'очень понравилось смотрится хорошо немного правда',\n",
       " 'всем настоятельно рекомендую cd the 2010 все вещи как на что свои что № 8 for',\n",
       " 'выбрала для телефона работает нормально',\n",
       " 'давно искала такие при нанесении они скорее больше чем замечательно покупкой очень довольна',\n",
       " 'хочу всю серию',\n",
       " 'может быть для но это ужасно как мне кажется',\n",
       " 'за 37 рублей 3 метра т е на 5 6 или чего дешево и и не выше гр на всякий случай для достаточно а овощи в не надо готовить',\n",
       " 'хорошая сумка сыну взял он доволен',\n",
       " 'слава пишет просто и легко о простых и выглядит книжка но это потому что так нас себе те кто ее на самом деле она о о любви и и веселая а это так важно в наше время чтобы тебе дали лишний',\n",
       " 'хороший добрый человек написал хорошие добрые воспоминания о своей семье о той россии о эпохи мы больше знаем о смерти чем о их жизни в этом смысле бесконечно добрый и сам ни о не слова где то прочитала что все настолько сказать нечего кроме того что все они были людьми может этого достаточно быть людьми только крови в россии 20 века места не оказалось',\n",
       " 'в целом ожидал большего как от как ни его ну ни светит он на свою цену ни как даже если в нем есть это радио и зарядка телефона с помощью этого единственный не о покупке',\n",
       " 'не слишком сладкий средний приятный мягкий и ненавязчивый покупала в подарок для меня он не совсем подходит не моего но в вообще мне в целом парфюм понравился но я так и не поняла чем пахнет какие то и что то еще стойкий и',\n",
       " 'прозрачная размеры соответствуют заявленным 10 см в и 6 см в после снизу батарейки начинается подсветка зеленого оттенка купила несколько штук в качестве маленьких недорого но приятно',\n",
       " 'крупные в коробке было 5 но ни ни больше ничего не было',\n",
       " 'совершенно очевидно что не а не очень хороший и как можно в котором роли играют с точки зрения не более для меня непонятно хотя сама идея в общем то неплохая и оригинальная но по остался сам по себе а двух актеров с другой и кроме двух букв их не ничего',\n",
       " 'классная для тех кто любит результат умывания до ненавязчивый аромат быстро удобная форма выпуска обычная баночка что позволяет регулировать необходимое количество средства и использовать до последней капли расход небольшой пользуюсь в комплекте с маслом от в паре хорошо работают поры кожи от которого увы избавиться нельзя но для состояния кожи средства марки мне подошли',\n",
       " 'от нет даже запаха я обожаю красный и думала что новый вкус тоже станет но нет',\n",
       " 'отличный подарок как для фанатов the так и для любителей собирать пазлы качество исполнения очень хорошее правда некоторые элементы слегка по краям после слишком плотного друг с другом но это легко исправить клея и более с',\n",
       " 'деньги зря игрушка слишком маленькая и плохо на',\n",
       " 'отличный качественный альбом правда 10 листов маловато но в целом покупкой очень',\n",
       " 'довольна только цвет чуть',\n",
       " 'удивительно и даже за эти деньги я ожидала думала использовать как решение а нет похоже будет пока не но с качества и использования прослужит долго',\n",
       " 'из всей нашей коллекции только у этой ноги в',\n",
       " 'какими он товар правильно заказали такой оказалась',\n",
       " 'прочитав отзывы заказала и сразу разочарование тушь очень плохо снимает',\n",
       " 'делает свое в только с ними но и качество тоже не плохое швы не и не при есть клапан чтоб воздух не на случай если мне понравились тоже как и ребенку уж не знаю сколько',\n",
       " 'телефоном доволен за 2 тыс вполне заказал в вечером в привезли',\n",
       " 'у нас маленький ребенок очень удобно из комнаты оставлять данный светильник да и вообще он создает атмосферу в комнате особенно удобно управление',\n",
       " 'это просто набор конечно я редко буду пользоваться но вот 2 других прекрасно справляются на кухне немного кончики чтобы случаи когда острый мог бы и попасть в из пока только черный цвет которые сразу приходится иначе видны ну и отсутствие под всё это оценка остается при этом',\n",
       " 'купили со скидкой за хорошая кастрюля внутри покрытие один пожалуй недостаток ручки у кастрюли большие как уши у даже в для мытья посуды не помещается 36 см а кастрюля 37 5 см',\n",
       " 'присоединяюсь к отзывам очень хорошая вот раньше такие были похожа кожу занимает мало места на высоте спасибо',\n",
       " 'выглядит забавно но на ней так и не удалось почти сразу сломалась обидно',\n",
       " 'а к из предыдущего моего я добавляю немного вот тогда хороший цвет получается',\n",
       " 'очень понравились качество супер плотный в отличие от некоторых производства внутри слой подошва толстая но не мешает ребенку при что придает отличный вариант для очень долго искала подобные скорее на ножку у сына но с отлично подошли в удобная можно регулировать единственное с размером 26 оказался впритык пришлось в др магазине но за более цену',\n",
       " 'кожу не сушит очищает хорошо но не подходит для снятия макияжа вокруг глаз черные это просто хорошая на утра например или на вечер если вы не пользовались в этот день',\n",
       " 'брали дочке на 2 года отличный для нашего возраста всего достаточно материал очень приятный и игрушка сделана качественно',\n",
       " 'брал для получили с с ароматом запах очень понравился для женщин подарили была в восторге',\n",
       " 'большую часть повествования занимает описание и затем на нескольких последних страницах и концовка всё да по теме в общем то но очень и',\n",
       " 'себя комфортно советую всем у кого кошелек',\n",
       " 'мне понравилось лучше чем',\n",
       " 'отличная вещь для опять же хороший вариант подарка цена радует',\n",
       " 'как и многие купила этот шарик как дополнение к большому качество изделия просто ужасное ответ в просто невозможно разобрать жаль потраченных денег',\n",
       " 'муж подарил на новый год мультиварка просто супер глюков с у меня не было работает после программы в режим а не техника готовит очень вкусно в получается м мясо и совсем другого вкуса насыщенный в ней получается особенно вообще на плите так не словно в русской а йогурт это отдельная тема совсем не такой как в магазине вкус нежный не плотный можно любые добавлять в общем чудо мультиварка качественная сборка берите не пожалеете',\n",
       " 'появляются при',\n",
       " 'один или два диска в комплекте',\n",
       " 'сначала китай заказать но и заказал этот 3 теперь не могу от него прямо и качеством из рук не хочется выпускать основное лезвие фиксируется для порадовали и две шикарная надо под него чехол на брать т к такая конструкция уже карман нормально так будет',\n",
       " 'очень удобная и возможно много одежды отлично смотрится в качество хорошее доставка',\n",
       " 'приобрел данный телефон перед этим очень долго весь и выбрал эту модель очень доволен отличное сочетание качества цена имхо в наличии все функции ну кроме gps а он мне не особо то и нужен корпус полностью металлический единственный минус это камера вернее качество но в принципе телефон должен а не',\n",
       " 'замечательная серия книг задания много наклеек к ребенку интересно порой сложно цена совсем смешная а ни чем не хуже всяких',\n",
       " 'брал в подарок для ей очень понравилось качество хорошее рекомендую вам человека',\n",
       " 'игра нормальная но с дисков не вся игра не только у меня после надо остальное через',\n",
       " 'за последние 2 года весь чай и кофе сильно рубля к поэтому приходиться во всех жизни так для себя я открыл чай по цене вполне доступно и качество хороший и аромат вполне устраивает всем рекомендую',\n",
       " 'никогда не играю в игры дважды но тут другой случай по по игра лучший за всю историю а вот продолжение игры не понравилось совсем',\n",
       " 'хороший и сильный учебник занимаюсь со своими детьми по нему считаю что для школы не подходит слишком насыщенный материал чтобы простые детки на могли его если конечно они не полное в материал хорошая молодец и ее',\n",
       " 'маленькая цвета с одна немного надпись с двух сторон в целом симпатичная и оригинальная вещь',\n",
       " 'супер для большого объема за раз 8 10 литров в сезон это очень актуально',\n",
       " 'по моей белой в слово в по со что значит – слово это лучше чем всякие и на – сами зачем человеку на и людям и мелких типа и прочих если эти мелкие человеку то можно и нужно их – это не и не как раз этот странный человека перед и перед наоборот надо и передать её и другим от бога а не и не давать им в питание свои тот кто свои перед и его как это среди тот странный перед потому что помимо ещё и не тем делом вместо того чтобы выполнять свою по от господа делать добрые дела человек этими тем чтобы не бог не всё время пола перед своим особо подходят слова им в 23 24 а » потому что больше чем – себя и своих что вообще в себе эти идеи представляет в этом смысле поле власти и вот так людей очень как это сделали в об и так это тут же в вызывает и о который жизни в поле но пришёл и в некоторых местах на некоторых в некоторых у некоторых людей эти или их и тем знания в некоторых людей автора',\n",
       " 'приобрёл сие чудо нового года и пока ни разу не пожалел как и многие карту с на 2 кабель не нужен всё замечательно работает через вт у меня есть в чем я и пользуюсь при больших на с которым пользовался много лет хотя одним из первых был в связи с этим есть несколько моментов которые показались не очень при пользовании 1 при нового и информации о дне рождения в не автоматически приходится идти в календарь и на каждого своего человека запись т е в 2 раза больше времени неудобно 2 у меня не получилось послушать музыку с другой не 3 на можно было в быстрый одной не только либо телефон но и приложение календарь и пр приходится через или через меню в целом согласен что у опять получился компания уже третий месяц держит его в 10 это многое говорит всем удачи и покупайте на будет дешевле',\n",
       " 'красивые ноге удобно но верхняя на очень полную ногу моих туда а может и две по длине в если заказать меньше размер то будут маленькие по',\n",
       " 'чувствуется запах внутри видны вкуса я тоже кроме не почувствовала',\n",
       " 'стильная отлично смотрится рядом с и очень понравилось ей денег своих стоит металл конечно дешевый но все же',\n",
       " 'это было первое и последнее произведение у этого автора что я прочитал если вы еще не читали три от или мастер и от или более их это гораздо более качественные вещи гораздо если нравятся там там но тут в',\n",
       " 'понравился и мне и ребенку 6 мес играем месяцев с 4 х одна из любимых яркая приятная расцветка на и очень удобно к к на и т д в любом из дома очень качественное крепление и сама игрушка крепкая все попытки оторвать или ноги остались без',\n",
       " 'выбрал это по цены жена долго руками на такое же но того бренда что ей подруги и конечно за денег на мои что это вообще такое же но производства и дешевле и что я на сына денег специально в магазин хорошо что там оба в наличии в руках каждое по полчаса из нашёл только одну в в остальном все одинаково вообще все только у цена а у русского поддержка для головы мягкий и мягкие на отверстия по краям чтобы не ремень мне нравится и жена через неделю перестала сыну удобно',\n",
       " 'не очень',\n",
       " 'ответ на вопрос моя первая машинка 23 февраля 2015 г все отзывы вчера получила машинку спасибо озону за доставку это моя первая машинка так что еще разобраться но уже вопрос как я понимаю в самой обычной нить не должна быть с стороны и верхняя с но как я не верхней все равно результата нет сверху нить вообще очень легко а если я не для строчки должно быть и у верхней и у нижней даже если поставить верхней в положение 0 то по сравнению с нижней она идет намного я прочла что можно изменить нижней на котором стоит в но пока не хочется заниматься может есть какое то другое решение нить правильно сто раз проверила спасибо если совет очень что не и все сомнения вам поможет решить наш а именно всех по россии его роман и вы под рукой машинку можете ему и обо всем это совсем не страшно 8 25 кстати он есть у вас в с уважением александр',\n",
       " 'замечательный ткань мягкая яркий с сыну красиво мы довольны покупкой очень спасибо озон',\n",
       " 'хороших толстые режет с удобные ручки',\n",
       " 'мне очень понравилась советую',\n",
       " 'покупал по доставке и т д вопросов нет на 5 по качеству товара опять же а вот по необходимости за месяц с момента покупки на ни разу не даже из коробки не хотя мозг срочно перед покупкой надо заметить что весит она за 120 так что ей вряд ли поможет имхо',\n",
       " 'качество не очень после стирки идёт размер в размер кто то писал что можно брать на размер больше у меня м l оказался а м как раз похоже так как в местах мелкие дырочки можно брать для носки на один сезон с или для поездок на природу на дачу или как но цена явно завышена единственный плюс забавный яркий рисунок качества',\n",
       " 'отличная собирается легко муж очень доволен подарком',\n",
       " 'очень нравится сей девайс пользуюсь уже два года здорово брать с собой на природу звук довольно громкий и чистый неплохой запас часто слушаю музыку с по или просто к по моей рекомендации сестра покупала но ей не очень повезло попался бракованный экземпляр при попытке громкость хотели поменять но не и вот взяла еще одну сестре в подарок предварительно ее дома две недели все работает отлично ставлю все таки 5 потому как брак везде а положительных эмоций от нее много',\n",
       " 'я осталась очень довольна и и ценой заказ выполнен быстро удобное большое спасибо',\n",
       " 'не плохая работа хотя и не купил и забыл группа нет но не хватает ей глубины в этом она уступает и и которые не являются их но чем то еще есть куда',\n",
       " 'хорошая все пришло вовремя упаковано очень хорошо',\n",
       " 'буду на рынке книг мало поэтому нет но я не разочаровалась 1 хороший 2 множество 3 представлены варианты и и',\n",
       " 'в целом очень не прочный симпатичный дизайн ребенку удобно пользоваться но мытье лично для меня стало настоящей проблемой в самой системе постоянно даже снаружи где входит в крышку сама система состоит из нескольких частей и там тоже постоянно приходится естественно можно при помощи или средств в общем то я думаю это проблема всех таких но с несколько раздражает в нашем пользовании несколько месяцев сейчас замену так как ребенок которую мы по ходу эксплуатации но финал искать отдельно не вижу смысла так как замена стоит столько же как новая целиком но за время пользования ни каких других дефектов нет',\n",
       " 'приобрела совсем недавно использовала дважды очень довольна не сильно компактная достаточно легкая и мощная 4 кг мяса буквально за пару минут мыть быстро всем советую',\n",
       " 'хороший набор сделан на игрушки очень хорошо держатся на на у каждой своя функция нам только поэтому пока просто игрушки от присоски и но позже я думаю их основные функции',\n",
       " 'очень удобные наушники не смотря на странный вид из не даже при звук приятный чехол жесткий удобный',\n",
       " 'если вы квартиру то это идеальный набор для людей недорого и прилично ручки в виде о блюд из в',\n",
       " 'нареканий нет использую уже больше трёх месяцев никаких разводов нет и в как тут писала одна тоже не заметил всё сделано добротно что удивительно конечно при такой цене то обязательно читайте с по за и посуда прослужит долго',\n",
       " 'трикотаж тонкий размер идет на что еще ожидать за 80 руб нормально',\n",
       " 'обложка супер муж говорит что она не не только на моей обложке в и находится на другой стороне',\n",
       " 'в нет поэтому приходится постоянно за хвост или ребенка под особенно когда ребенок и станет к качеству и претензий нет цвет очень приятный есть который на минус за отсутствие',\n",
       " 'там внутри что то постоянно какое то и эти особенно в режиме на пару несколько также из недостатков регулировки времени в плов и каша и приготовления в выпечка и на пару мощность как уже было сказано вообще нигде не регулируется а жаль но в целом вещь довольно полезная и нужная',\n",
       " 'заказываю второй раз говорят что если применять бальзам после запах',\n",
       " 'в предыдущем отзыве пишут что не светится в темноте в и две яркие полоски по всей длине светится',\n",
       " 'в этой мультиварке готовить выбрала ее потому что цена объем небольшой и панель управления понятная поначалу была но после двух недель отличная техника реально на кухне как когда то и машинка достаточно продукты и установить режим а дальше она сама справляется и даже каши которые и в обычной готовить получаются вкуснее видимо за счет более которое на плите трудно установить теперь мою на кухне стало и даже',\n",
       " 'фильм посмотрел с удовольствием правда в нём очень яркий образ если всю эту мягко говоря думаю кино сразу бы стало',\n",
       " 'получила с но озон надо отдать возврат и замену через новый заказ привезли бесплатно красивая в руке держать приятно но вот что мне не понравилось вовсе не мл а все 200 почему то ни в одном отзыве такой информации не увидела я же хотела как раз примерно на 150 у меня именно такая емкость так что если объем имеет значение имейте в виду оценку из за неправильно',\n",
       " 'для небольших вещей очень удобное решение',\n",
       " 'поры чистит но не все эффект не как и у всех легко в принципе за такие деньги очень не плохо в любом случае лучше ими чем руками и',\n",
       " 'подскажите пожалуйста где можно купить дополнительные к этой машинке не ли вы в будущем в озон к',\n",
       " 'в при машине и показывает точно и особо не греется дисплей яркий видно и в погоду в подарок тоже неплохой вариант',\n",
       " 'мышка работает реально на любой поверхности такой не было еще коврик не нужен никакой вот только маловата для ноутбука самое то батарейки хватает ну очень надолго нет придется но только для настройки одной кнопки в принципе не кстати есть сбоку две клавиши вперед и назад раньше такими не пользовался оказывается очень удобно',\n",
       " 'мышь отличная легкая небольшая по размерам что удобно в с такая же пять лет без нареканий думаю могла бы дольше если бы провод не случайно',\n",
       " 'уже далеко не первая вещь от в нашем как всегда не ошиблась с выбором да но с и учитывая что малыш не сидит хорошо ребенок от от другого белья любит их пока не из буду заказывать еще',\n",
       " 'рюкзак хороший сделан качественно много вещей в нем не но в целом я довольна',\n",
       " 'классные перчатки мягкие и выглядят дорого и еще для меня важно тк у меня на шерсть внутренняя подкладка вообще не',\n",
       " 'хорошие удобные',\n",
       " 'вот так сразу видно где места и что подсветка присутствует вообще супер рекомендую это приобрести',\n",
       " 'это чудо маска сначала от приятного запаха потом от эффекта на волосах они в момент нанесения уже стали мягкими держать 5 6 минут не',\n",
       " 'был на свете замечательный писатель фэнтези он писал отличные книжки и мало кто так как он именно такое их описание что сложно было в тот что вокруг нас но писатель у него ему надо написать 25 книжек за 5 лет закрыть все и все серию про я чисто из удовольствия от последних книг писателя получить так и не удалось',\n",
       " 'добавлю и все таки и все таки мне нравятся the во первых потому что мир наконец стал теперь когда у меня за дождь мои тоже грустно на капли по визуально я так в качестве но добавлю несколько замечаний лучше заранее более ибо у игры если ставить и все любителям все делать быстро придется ибо в новых и это нечто настолько и что сим дни невероятно быстро не в игре весьма верхняя одежда особенно мне нравятся для подростков и для детей кстати тоже имеют в зиму жаль но животных даже если они под или не могут от молнии будьте внимательны зато выглядит словом самое лучшее дополнение из всей серии the приятной игры',\n",
       " 'качество хорошее цена ниже чем на других сайтах есть предложения и за руб на нее цвет темнее чем на фото ткань плотная',\n",
       " 'качество ткани отвратительное в них вообще нет ткань как будто пластиковая 100 рублей даже не стоит спасибо озону что я смогла их вернуть не не',\n",
       " 'купила сыну в качестве простого качество хорошее но крышка легко снимается поэтому малыш спокойно её снимает и кубики как в обычное теряется весь смысл игрушки',\n",
       " 'сначала было написано так до язык английский а на русском после язык игра полностью на русский язык с оригинальной разные',\n",
       " 'очень компактная и маленькая флешка выглядит очень стильно корпус действительно до блеска такую флешку не стыдно подарить из минусов очень туго входит в разъем usb из за чего скорее всего со временем корпус',\n",
       " 'важно книжка не для начинающих',\n",
       " 'тип фигуры стандартный подходит одежда от большинства других стала одним из любимых коллекции',\n",
       " 'лучший производитель',\n",
       " 'единственная компания которая делает исключительно как первая часть в свое время была так и вторая станет игрой до выхода части жаль только что выхода сперва 27 потом 28 сейчас 29 но все равно очень рад что заказал',\n",
       " 'отличная вещь пазл достаточно крупный мы с сыном элементы плотные удачный картинок и слов',\n",
       " 'пользуюсь около года очень красивый мощный и удобный в пользовании довольна рекомендую',\n",
       " 'при покупке что карта для сша и относительно карт',\n",
       " 'ребенку 7 месяцев см почти 9 уже l нормально слегка большие а эти вообще в и сами по себе маленькие и впритык от слегка у в отлично в остальном скажу они супер мягче резинки лучше чем у любых они много не пока за неделю использования но вот думаю неужели нужно брать от 12 кг',\n",
       " 'хочу вернуть покупку на фото на к внутренний материал на втором фото лапки',\n",
       " 'к заказа вопросов нет но аромат это нечто и все запах как в магазине пользоваться невозможно жена флакон в мою комнату и пользоваться этим в ее отсутствие я хоть и не с трудом этот запах деньги на ветер хорошо хоть по акции не за полную стоимость',\n",
       " 'по моему не только о но и о с собой с и доступно и просто',\n",
       " 'но мне пришла снаружи полностью снаружи на дне нет подставки как покрытием ставить на',\n",
       " 'видно не поэтому решили что они тоже так могут не смогли на а на кроме смотреть тут абсолютно не на что скучно и в итоге получилась обычная для увы',\n",
       " 'неплохой гель очень сильно держит и даже дает небольшой натуральный цвет совсем не понравилось только то что он настолько сильно что это чувствуется когда в течение дня если как бы то чувствуется и довольно сильная кисточка удобная для меня есть часть с есть с удобно и и форму но повторюсь слишком сильная объем совсем небольшой советую обратить на это внимание но для подойдет',\n",
       " 'не очень понравился не выглядит блестит сильно разочаровалась и отказалась правда все странички',\n",
       " 'материал тонкий размер 52 сел идеально на',\n",
       " 'полезная книжечка и доступно для ребенка',\n",
       " 'не пожалела о покупке удобно единственное нижней я не кружки предварительно тесто слегка и размер становится меньше я и в форму сама форма при тесто',\n",
       " 'нет а чего вы все то пользуюсь второй год действительно замечательный прибор поры потом прямо стоимость свою полностью по с просто супер только бы ещё себя пользоваться регулярно всем удачи и быть всегда',\n",
       " 'раз 5 всего при включении ножи не стали чашу и обнаружил спасибо озону после оперативно куда можно этот и как скоро деньги озону 5 2',\n",
       " 'очень классные и очень теплые но заказывайте с запасом тем более что внутри плотный',\n",
       " 'мне нравится нравится ее исполнения ее голос нравится то что она является автором большинства своих песен она действительно и этот первый ее альбом получился очень хорошим я люблю многие песни с него взять хотя бы ту же это ведь шедевр или я от этой песни пахнет весной возможно я конечно немного оценку в целом потому что альбомы у других намного сильнее и им я тоже ставлю 5 но здесь поставила в к тому что она делает в и',\n",
       " 'очень понравилось книжка смешная и но как всегда там где реальность там боль и как в первой главы',\n",
       " 'для не хотя может просто мне не повезло с закажу другую с но всего',\n",
       " 'набор хороший брала на дачу доставка была очень но набор пришёл у чайника носик у одной чашки ручка времени не было вернуть на следующий день в',\n",
       " 'так себе с и не сравнить с тем более истории хорошие но так как',\n",
       " 'не рекомендую в использовании крем с обратной стороны отсутствует ужасно не деньги',\n",
       " 'милая но что то маленькая больно советую брать побольше',\n",
       " 'для такой ценовой категории аппарат экран отличный аккумулятор прекрасно лежит в руке высокая скорость работы полностью мне htc не непонятно для чего местами кнопки меню и последняя 4 1 1 так же не много глюков но это дело времени надеюсь разработчики эти ошибки пока пришлось на прошу в целом отличный аппарат тем более за такую цену четыре звезды за по',\n",
       " 'полотенца приятные на ощупь ощущение материала присутствует в комплекте три разных по полотенца больше на мягкое и еще одно мягкое полотенце по технику или до стирки на руках и при попытке их посмотрим что будет после может быть они и влагу цвета очень приятные',\n",
       " 'господа одеяло не это просто с претензий нет но не за эту цену',\n",
       " 'ребенок в восторге ручки ножки собирает без проблем пластик хорошего качества номер совпадает с и на игрушки быстрая доставка спасибо',\n",
       " 'сапоги не стоят своих денег после часа по сын пришёл с ногами подошва и это за',\n",
       " 'по больше бы таких для детей очень нравится ребенку',\n",
       " 'заказала специально для поездки в весь хорошо закрывается небольшой зубной пасты паста отличная щетка по размеру самая хорошего качества мягкая пользовалась с большим удовольствием из таких мелочей и складывается хорошее настроение',\n",
       " 'не подходят для',\n",
       " 'для своей цены очень неплохие однако иногда в',\n",
       " 'ткань внутри мягкая и приятная на ощупь тоже с',\n",
       " 'игра в любом случае лучше чем 3 красиво и без претензий',\n",
       " 'между иногда идет легкий но работает же',\n",
       " 'средство хорошее жене понравилось запах приятный немного',\n",
       " 'маски из этой серии мне нравятся использую для ухода за кожей лица',\n",
       " 'сначала купила себе такой наборчик мне очень понравился потом и маме заказала ножи классные только вот доска сразу поверхность но за такую цену просто супер я брала когда ещё руб',\n",
       " 'давно мечтала о которым можно пользоваться в душе и с моделью philips красивый удобный современный эпилятор а список достоинств для меня после его использования во первых дизайну s формы прибор легко по всему телу простая тела без лишних усилий во вторых диски отличный плюс у данной модели они позволяет надежно даже самые тонкие волоски в третьих подсветка очень удобна а также 8 насадок которые делают прибор отличная модель рекомендую а на ozon ru всегда в наличии нужные товары и доставка на следующий день отличный сервис рекомендую',\n",
       " 'я пользуюсь другим с windows и для меня всё удобно и всё устраивает и в уже достаточно приложений а вы хотели купить смартфон с windows за 6 тыс рублей и чтоб не не это только с такой проходит а если хотите телефон на windows цена ему не меньше 12 тыс рублей',\n",
       " 'круто остался очень доволен думаю не чем не более',\n",
       " 'книги у меня нет а есть отлично очень понятно без всякой воды сразу на того или издания после этих можно уже за жаль что не стал эту тему пошел бы дальше в ногу с новыми и чуть бы количество примеров и т д с до работы в то стал бы самым лучшим этого дела раньше эта книжка с диском 500 руб а сейчас меньше 200 кому очень надо разобраться в на уровне и кто не знаком с этой рекомендую приобрести не на версию для начала это самое то если ещё один курс по в то я обязательно куплю',\n",
       " 'что за цена у она сама себя на и сама к раз такой',\n",
       " 'скатерть красивая дефектов нет пока не стирала но на вид материал качественный',\n",
       " 'купил данную модель покупки стала гарантия 24 месяца брал для не прошло и года машинку на ремонт начали что на не и этот ремонт будет',\n",
       " 'заказали себе на нг и не пожалели я пользуюсь муж а дочка для зубов результат по пока сложно судить первое время вообще из у меня и мужа но это максимум два дня потом все прошло разницу с обычной щеткой я вижу для себя намного больше ощущения чистоты зубов после и стала с большим удовольствием чистить раньше ее было не очень нравится экран с и как часы в ванной комнате',\n",
       " 'чайник симпатичный не но для нашей семьи из 4 х человек т к чай только мы с мужем хотя если гости то размер самое то',\n",
       " 'симпатичная для интересная идея подачи покупкой довольна',\n",
       " 'отличные шторы сама без проблем инструкция понятная качество материала хорошее нет но нам они и не нужны',\n",
       " 'самый лучший для кожи покрытие слегка матовый обожаю его',\n",
       " 'издание не содержит такое ощущение вариант',\n",
       " 'просто отличный за такие деньги купил за руб дисплей идут отлично книжки читать тоже прекрасно интернет работает на ура не знаю для чего народ хочет вот программы которые действительно надо проверять для чего нужны 2 usb один из них теперь о том что не понял зачем камера на панели если что только для хотя народ пишет что он не работает снимает конечно она ужасно динамик один хотя два производит звук очень тихо с правда всё хорошо не знаю как будет работать с купил два дня назад а вообще впечатление даже очень ставлю 5',\n",
       " 'купить этот внешний через 2 за как он на и сейчас желание очень жаль',\n",
       " 'выбирала сама на момент покупки была скидка 20 понравилось что кольцо как бы с двумя очень красиво смотрится на не один мой особенно люблю его с белым',\n",
       " 'шикарный альбом от оценка 5 есть конечно песни например a до смерти напоминает от а песня b a напоминает у мои любимые песни это 1 love the',\n",
       " 'у меня друг купил в на 4 день начал дисплей кроме того и у другого они в магазине при товара в денег было и все такое так же купил в сам не пользовался с учетом выше наверное на samsung или за сам аппарат и его возможности ставлю 5',\n",
       " 'с слушаю этот диск даже после этой',\n",
       " 'брал два таких на дачу оказалось что даже если они весь день на солнце не более двух часов а главное начинают когда только начинает ещё и без них довольно светло а к они уже в общем от них никакой деньги на ветер',\n",
       " 'для незаменимая вещь',\n",
       " 'на самом деле книжка больше для детей всё в задания вроде на картинке и сколько взяла в темы слов в доме одежда в городе за качества животные части тела полезные по 12 слов в каждой теме главное же это набор карточек со всеми словами вот только ради них стоило купить эту по всем и русская',\n",
       " 'прочитав несколько книг из этой серии сразу можно понять что к этой книге никакого отношения не имеет за фото на обложке настолько все скучно и что никак не могу этот путеводитель хотя от из этой серии более повествования вообщем не рекомендую',\n",
       " 'сегодня получил и проверил к предыдущим отзывам качество великолепное яркость потрясающая а цена с учетом сейчас скидки более чем отличное приобретение',\n",
       " 'но какой то мне кажется быстро',\n",
       " 'подарил сыну на др 2 года сын в восторге играет с удовольствием качество игрушки хорошее единственный минус кнопки на управления слишком случайно и они под но играть можно просто нажимать теперь не удобно',\n",
       " 'оценка за',\n",
       " 'покупала чтобы ребенка понравился запах консистенция легко наносится хорошо моет и смывается понравился',\n",
       " 'мой ребенок все время требует либо из время вперед либо из у меня все время в голове либо либо солнце и издание хорошее качество прекрасное за машины слушать не рекомендую слишком хочется либо либо добавить',\n",
       " 'достойная с покрытием до нее у меня была вернее есть и сейчас с покрытием чуть и поменьше еще тогда понравилось на ней готовить тоже кстати здесь чувствуется хорошее качество начиная от материала дизайном несмотря на то что стенки и дно у нее не очень тонкие нагревается быстро а главное дает возможность готовить блюда и не дает им для разных то что',\n",
       " 'покупался по жены она довольна',\n",
       " 'покупала 2 пары обуви этой марки такие сыну и дочке у обоих сразу и соответственно пропал внешний вид где то через месяц у этих а еще через один месяц на обоих этой пары подошва до половины',\n",
       " 'книжка разочаровала может она и учит чему то не не стоит своих денег',\n",
       " 'несмотря на уверенно держится',\n",
       " 'взяли мешок 12 5 кг для нашего 1 размера 2 запах нормальный 3 ест и не изначально и но с беда сначала но цены довольно высокие на такие корма поэтому сейчас на сказал что нужно за и если все будет нормально то можно на него и только им уже месяц вроде все нормально тьфу тьфу тьфу это радует из минусов можно отметить только что нужно заказывать по было бы удобнее приобретать в магазине',\n",
       " 'качественный с',\n",
       " 'эта сказка среди всех дочка слушает постоянно просто музыка одно удовольствие слушать спасибо за запись',\n",
       " 'очень удобный красивый и теплый костюм для зимой и осенью можно не если ребенок в комплект не также есть на который можно',\n",
       " 'не если на него хорошая поддержка во время сна очень приятный материал чехла',\n",
       " 'не интересная с игра на 100 состоит из на и не из чего больше я покупал ради того чтобы на а разработчики даже этого туда не',\n",
       " 'нужен был для или ещё каких нибудь со стола и этот наборчик подошёл в самый раз мягкая мы довольны спасибо озону',\n",
       " 'купила уже вторую ручку для сына полтора года такая ручка и дочери очень удобно иметь под рукой если необходимо информацию у такая ручка вызывает у интерес',\n",
       " 'уж если покупать пластик то не этой фирмы точно',\n",
       " 'замечательное портмоне жаль только нет хотя это на любителя',\n",
       " 'на рост см заказали размер рукава и смотрится нормально не очень большой остались довольны и сыну нравится',\n",
       " 'любим к всем своим решили и домик из этот показался самым ребёнку нравится считаю что можно играть лет с двух мелких деталей нет нам к слову 2 4',\n",
       " 'масло хорошее но очень сильный запах и еще чего то но точно не тонкий аромат будет все вокруг на любителя по за кожей все отлично кожа становится впитывается хорошо в общем масло мне понравилось',\n",
       " 'а мне не понравились ни первая ни вторая а вот эта такая красивая и не такая и они в много мест в третьей части наконец то получилась не с а сказка ура буду брать в коллекцию',\n",
       " 'сын их очень среди большого количества именно эти берет и рассматривает сам изображения на белом фоне на название на английском языке',\n",
       " 'действительно соответствует описанию хорошая цена',\n",
       " 'качество на высоте тени сидят до вечера не и не но через два месяца',\n",
       " 'то что надо очень доволен уже год спасибо',\n",
       " 'приобретением не доволен полный чайник за 9 минут маленькая мощность 1500 вт нет уровня только внутри с и и все же немного пластик',\n",
       " 'мне так же как и из на с д данного производителя этот шоколад понравился больше других',\n",
       " 'пришел в подарок мужу подарила не работает пару раз и обидно настроение обратно в магазин',\n",
       " 'рекомендую всем кто хочет быстрый и качественный',\n",
       " 'единственный для меня минус от них голова из за конструкции а так вполне хорошие наушники работают уже больше года',\n",
       " 'пользуюсь таким дома уже около года нареканий никаких не вызывает звонок громкий звук хороший на мой взгляд за свои деньги один из лучших вариантов',\n",
       " 'слушать только если через телефон комп планшет телевизор',\n",
       " 'приобрела фильтр для воды цвет белый пластик прозрачный без каких либо крышка закрывает плотно есть о фильтра очень довольна',\n",
       " 'с первых страниц невозможно оторваться написано легко смешно 5 из 5',\n",
       " 'а я вот немного на фото мне показалось интереснее чем в жизни как то не тянет на такую цену хорошая но вот как рисунок не нравится и цвет мог бы быть',\n",
       " 'задумка хорошая но есть 2 1 плохое качество исполнения через 2 мес начали кнопки 2 нет режима',\n",
       " 'мультиварка недорогая но возможностей много для есть специально можно без нее но на сковороде готовить удобно мультиварке моей месяц все все работает глюков и прочего не имеется',\n",
       " 'щетка braun с функцией мне досталась в подарок при покупке braun щетки во системе согласно инструкции эта система непосредственно на щетка выглядит как обычная расческа при этом она удобная и легкая работает от 2 х батареек при включении на задней стороне щетки открывается маленькое появляется легкий запах который мне запах лампы в а на стороне индикатор зеленого цвета по нему можно судить что щетка работает кстати через 5 минут работы индикатор автоматически и свою работу хорошая функция для это просто чудо волосы после ее использования становятся мягкими и после мои волосы стали и и в разные стороны как поэтому мне приходилось их чтобы их в нормальный вид с щеткой braun я далеко свой для теперь я не волосы для того чтобы они были я не кучу денег на маски для волос для их блеска а просто использую braun и очень довольна',\n",
       " 'очень 9 8 на абсолютно без запаха в коробке не было ни одной правда при 30 40 форма от основных без сначала это а потом пришло понимание в виде двух оформления либо в виде производитель сделана в китае',\n",
       " 'это самые милые открытки что увидеть',\n",
       " 'конечно понимаю новый уже особо не нужна но мы ее купили до нового года и получилось все хорошо спасибо озону ждем теперь',\n",
       " 'мощность отличная в комплекте идет щетка которая собирает всю грязь с обычной можно руки так сильно маленький очень компактный разбирается легко и собирается так же просто очень легкий есть два маленьких 1 в насадку может нитки шерсть и т п так что та работать но чистить ее легко 2 главное чтобы на полу не было ничего иначе чистить и контейнер будет сложно но все равно это отличный пылесос друг и помощник в особенно за такую цену не понимаю почему здесь не указано что есть насадка',\n",
       " 'шапка теплая этот цвет просто прелесть такой и в то же время поднимает настроение всегда а я ещё и люблю',\n",
       " 'маме в озоне очень понравилась эта удачный дизайн проста в использовании справляется отлично сыну понравилась не хотел',\n",
       " 'лежит у меня в коллекции такой только без красного на него и и всегда хорошо идёт',\n",
       " 'дешевый и хороший нож свою на отлично',\n",
       " 'ещё бы знать как ей правильно пользоваться и что за механизм пустая денег и времени',\n",
       " 'очень красивые иллюстрации ребенок с удовольствием только книжечка тоненькая листы не прочные нужно внимательно следить чтобы ребенок ее не',\n",
       " 'отличное белье',\n",
       " 'смотрятся особенно на все в восторге и не моему очень качественно сделано и совершенно не смотрится дешево я настолько что стены то на дни то все время в разных местах очень интерьер причем потом аккуратно обратно на упаковку в пакет чтоб не на всякий случай и до раза единственный раз расстроилась когда заказала не обратила внимания на размер элементов и получила шт 20 маленьких наклеек вместо большого почему то решила что все такие же как и и качество маленьких не понравилось как будто сама откуда то и хорошо что иначе бы',\n",
       " 'моим 6 и 10 лет нравится вся серия и этот диск в частности форма вопросов делает изложение информации и многое было и для взрослых',\n",
       " 'замечательный красивый станет к особенно для девочек',\n",
       " 'подарок неплохой жаль что картинок всего 4 а потом опять все тоже самое',\n",
       " 'не один раз заказывала этот товар в первый раз был брак краска с с и в следующий раз тоже брак все та же краска и глубокие без',\n",
       " 'отличное масло для жирной кожи самое особенно в с просто идеальное буду однозначно брать еще',\n",
       " 'после макияжа для себя поняла что в для макияжа на каждый день для глаз по отзывам различных и свой выбор именно на этой в в магазинах не нашла поэтому заказала на озоне и пришла в восторг от качества тени хорошо не хорошо главное держатся на весь день без не пробовала базу использую тоже купила на озоне',\n",
       " 'телефон очень красивый давно о таком мечтала но есть одно но случае у моего аппарата он сам когда ему хочется и идет музыку либо что то еще поэтому придется менять очень надеюсь что следующий аппарат будет работать',\n",
       " 'книга понравилась меньше чем моя дочь этот роман так не читается легко можно почитать любителям',\n",
       " 'уже покупала здесь же прекрасно стирается за сезон не внешний вид надеюсь что и не',\n",
       " 'простая и доступная защита',\n",
       " 'хорошая',\n",
       " 'спасибо за матрас приятное дополнение это скидка на эту модель',\n",
       " 'китай есть китай цена и качество соответствуют в сойдет',\n",
       " 'удобный контейнер открывается что удобно если руки или нужно',\n",
       " 'если вам интересны образы с сюжетом про и вперед и стыдно за такую',\n",
       " 'тем кто любит готовить лучшего украшения не найти',\n",
       " 'отличный аппарат простой без и отлично подходит для одной хорошая точность и оценки датчик как говорил в белом солнце что еще нужно человеку что бы',\n",
       " 'книга меня и помогла понять что мне есть чем поделиться с другими помогла страх писать своими не что не и',\n",
       " 'хороший крем мне понравился впитывается мгновенно запах приятный',\n",
       " 'в комплекте идёт которая предназначена для с справляется внимание оставляет царапины на самой в итоге внешний вид уже о том что пленка гораздо меньше экрана я понимаю что она не должна быть 1 1 с размером ну не так же',\n",
       " 'это лучшее из мною ранее литературы',\n",
       " 'понравились они стекло около 3 мм не но ошибка в описании фактически объём 200 мл и диаметр по краю 6 см а хотелось бы большего мне нужны были 250 мл не нашла заказала а получила 200 за это снимаю 1 звезду',\n",
       " 'отличный товар',\n",
       " 'пользуемся на даче уже третий год тоже стали покупать на весь летний сезон хватает 1 штуки',\n",
       " 'и герои ситуации более чем странный финал с таки весь роман просто ни о чём можно с таким же не читать 4 за то что более менее но с',\n",
       " 'очень красивые открытки под старые карточки бумага плотная качественная я очень довольна',\n",
       " 'он с а сама идея конечно неплохая была',\n",
       " 'большой размеры соответствуют заявленным только не указано сколько по внизу 14 см по на картинке с да это так но на другом выглядит красивее там нет она и там 4 они чем на картинки и 3 они похожи на те что мы на картинке сторона без надписи более интересная и если вы то именно эту сторону красивую без вы и будете видеть при использовании следует отметить и упаковку добротная стильная',\n",
       " 'запах чудесный не но чувствуется он метра на два не больше в моей и то не очень легкие аромата кое где на воздуха поэтому считаю цену возможно надо из и поставить дополнительно',\n",
       " 'качество стекла на 5 качество на 2',\n",
       " 'супер рекомендую',\n",
       " 'практически но приятная мелочь исполнение вполне достойное довольно жесткий и первое время кисти быстро устают когда на глаза так и в руки чтобы его подойдет в качестве оценка 4 из 5 минус балл за пользу',\n",
       " 'собрали все коллекцию спасибо озон за скидки',\n",
       " 'всего 15',\n",
       " 'да результат есть главное что даже с первого применения он виден по волос в после мытья головы интересно что будет после и появилась',\n",
       " 'а кисточка мне кажется не нужна из за мягкой удобнее пользоваться пальцем',\n",
       " 'комплект белья не самый плохой выполнен качественно ткань приятная на ощупь вначале тонкая ткань но после первой ночи действительно сомнения за такую цену идеальное приобретение',\n",
       " 'интересные поставила на кухне',\n",
       " 'у почти сразу же отвалилась подошва вероятно какая то т к ранее уже покупали только другого цвета все было нормально ничего не',\n",
       " 'книжка для малышей минимум текста много картинок иллюстрации не в а красивые так что будет по мере на первых страницах она маленькая и маленькие только большие в русских есть сюжет с но и с тоже есть и одно другое не я за конечно можно ребёнок не но как пока домой не читать не',\n",
       " 'опять будет разница в 300 рублей за разные коробочки за бокс или купить лучше уж в',\n",
       " 'спустя почти 35 лет купил на озоне и несколько дисков повезло впрочем как и качество их дисков вполне на уровне а вот и брак по как ей',\n",
       " 'за и нужно руки',\n",
       " 'товар пришёл с браком не нагревается и не работают кнопки температуры и времени в общем очень ждали её теперь наши пожалуй больше данную фирму брать не',\n",
       " 'делать надо не по инструкции молоко 800 мл на 8 мин в потом в молоко и опять в на 2 мин после этот 30 мин а потом я ставлю в туда всё и сразу в банки очень любят и самим можно пить крышкой и ставлю в холодильник он получается и очень главное выбрать хорошее молоко с маленьким хранения',\n",
       " 'очень приятная вода',\n",
       " 'в в 10 назад мне удовольствие этих была наверняка описание и отношения между людьми природы чисто по где каждому внимание простым и в то же время языком то что и тогда и сейчас одни и те же с вызывают чувство удовольствия и т д',\n",
       " 'это хорошо приключения над замечательная прочитать бы еще первый роман но пока нигде не могу его найти',\n",
       " 'взял мышь для очень удобно без батарейки хватает на долго очень компактная и привыкаешь уже через 2 дня использования правда жалко что не занимает usb отверстие но в остальном очень удобно и практично',\n",
       " 'порошок хорошо шерсть не требует он его требуется совсем чуть чуть добавлять при стирке хватает больше чем на год белье очень мягкое некоторые вещи я даже не после стирки из черного цвет не',\n",
       " 'хорошая добрая сказка для с сыном по радио теперь хочу купить книжку',\n",
       " 'покупка чайника оказалась в магазине такой за такую сумму и не',\n",
       " 'отзывов об этом и решила скачать на сайте версию для своего а он ничего не обнаружил а там есть постоянно на а компьютер и их на ней так что никому не советую',\n",
       " 'хорошая занимает места мало но при этом работает как мини в ней можно кашу приготовить плов или приготовить ее на пару с хорошо поднимается и йогурт вкусный получается свою цену оправдывает',\n",
       " 'спасибо озон довольно оперативно у вас появился это диск альбом оформление будут приобрести его и не а простым тоже будет приятно этой в общем всем советую к покупке не пожалеете этот альбом уже история что же будет дальше покупайте и тем что удачи всем',\n",
       " 'очень понравился искала в магазине но именно с а не с очень рекомендую фрукты дочке очень нравится правда когда с одной стороны она ручкой очень вещь к и не что ребенок',\n",
       " 'с для пара муж так в своем что радость его до сих пор панели на просто так же как и на кухне не говоря о других очень советую иметь в доме такую',\n",
       " 'хорошая модель для качественной связи а не в телефоне у меня такой телефон работает 1 5 года и ни разу меня не так что советую эту модель тем кому не нужны а нужна качественная связь',\n",
       " 'присоединяюсь ко всем отзывам недорогая удобная качественная нечего добавить спасибо ozon',\n",
       " 'отличная очень красиво и дорого выглядит качество хорошее и цвет замечательный черный не хотела',\n",
       " 'готовлю теперь только с ней удобно пробовать не в процессе использования и маслом прослужит долго',\n",
       " 'книга очень красочная сыну нравится носит её везде с собой ему 2 года и 8 месяцев рекомендую',\n",
       " 'у меня сухая кожа этот крем на отлично никакого ощущения сухости наношу не только под макияж но и с утра просто как думаю буду покупать постоянно',\n",
       " 'комплект очень понравился взяли два комплекта для обоих все в восторге',\n",
       " 'дисплей удобный все функции',\n",
       " 'очень люблю давно пользуюсь их но не смогла ее найти ни в магазинах ни в озоне заказала эту конкретно этой разочарована жаль не советую',\n",
       " 'отличная у меня с февраля довольно брал больше как часы и будильник справляется на ура для питания используется 4 батарейки но чтобы дисплей надо включать в блок питания и экран светит всегда у меня блок питания всегда при питания через на нем ноль это что система подсветки совсем ничего в зависимости от температуры меняется цвет подсветки выглядит прикольно все батарейки в комплекте как для самой так и для управление и можно отдельно друг от друга стоит датчик который работает только для когда светло то даже когда не работает как только если нажать кнопку и подсветка на несколько секунд всегда я на ночь потому что яркая и нельзя менять яркость в дни все очень четко дома видно стоит в комнате на стороне недостатки нет регулировки подсветки или возможности чтобы при света в комнате она на 70 хотя бы или вообще очень доволен а подсветки уже как только спать а когда по тут же ее',\n",
       " 'всё за 6 часов игра прикольная жаль что вообще там русских и иногда с тем более главного героя в последней русские',\n",
       " 'это у меня уже вторая первую отдала по гарантии панель не хотела ни на одну кнопку сразу заказала вторую просто не ждать 45 дней всё устраивает',\n",
       " 'в прошлом году мама мне купила этот бальзам и увидела его тут у вас на озон с заказала не он очень нравится хорошо увлажняет губы его действие увлажняет смягчает и как блеск для губ только не понятно зачем вы цену на него больше его покупать тут не буду есть магазин там по старой цене продают это вам на озон я ваш но на всю то что я у вас заказываю вы слишком цены',\n",
       " 'предзаказ дополнительно к for или же ещё и к остальным for the for the',\n",
       " 'словарь на два имеются для качество хорошее плотные белые листы покупкой довольна',\n",
       " 'сапоги прилично на свой 38 39 решила взять 39 комфортно будет только с и еще достаточно не будет свободно в ним в деле пока не проверила сказать ничего не могу по внешнему виду вариант скорее для дачи',\n",
       " 'всё круто пришло быстро внешний мир не слышно если громкость включить не на полную то люди не то что вы ozon',\n",
       " 'брала такую форму для в духовке и мяса форма хорошая ничего не прилипает легко моется но есть один минус если для продукты такие как паста и др то их впитывает и получается весь в различных цветов но на или это никак не влияет просто цвет самой формы становится не очень приятным эта проблема всем мне главное чтобы ничего не и легко а красота формы поэтому я все чаще и чаще',\n",
       " 'к самой претензий никаких нет хорошее покрытие правда использую эту чашу даже чаще чем не понравилось исполнение крышки очень жесткий пластик учитывая что крышка немного только на эту чашу а в супы в основном в хотелось чтобы крышка была ну скажем чтобы без проблем на оба вида',\n",
       " 'для деток которые уже английский очень интересно и дочке 6 лет играет с удовольствием',\n",
       " 'в хозяйстве пробовала также нравятся больше',\n",
       " 'за 4 месяца на 15 см очень и замечательно и и вес не очень большой и это хорошо нет',\n",
       " 'заказал на озон телефон и динамики прошла давно но товар так и не всё это на компании',\n",
       " 'хороший можно даже постельное белье вместо единственный минус очень для цена соответствует качеству',\n",
       " 'доставили быстро в целости и сохранности хорошее качество и цена приемлемая очень рады покупке',\n",
       " 'стильная красивая качественная покупала вместе с набором на столе смотрятся идеально',\n",
       " 'хорошая паста как и все у пахнет приятно как и вкусно чистит тоже отлично я довольна',\n",
       " 'покупала в подарок мужу портмоне и обложку для этой серии очень качественная кожа швы внутри рекомендую',\n",
       " 'рекомендую',\n",
       " 'что на самой упаковке ничего не сказано о количестве внутри но их 10 в нареканий нет',\n",
       " 'пользуюсь braun 9 около месяца и уже успела внешне эпилятор просто а его в руки выпускать не хочется настолько он и это только начало его достоинств только в 9 модели представлены последние braun благодаря которым процесс стал максимально и удобным большой плюс прибора подсветка а также возможность использовать эпилятор как бритву прибор просто',\n",
       " 'на первый взгляд отличный особенно для своей цены давно искала на два отделения но компактный тут как раз два отделения поменьше и побольше в них отлично помещаются ручки простые карандаши набор и и при этом остается и на 20 см влезает с очень большим трудом как и в большинство сшит вроде бы хорошо немного вызывают сомнения резиновые на молнии не знаю насколько быстро цвета в жизни более яркие и блестят',\n",
       " 'искал в магазинах не нашел чем заказывать в интернет магазинах определенно для пользования самое то',\n",
       " 'брала на подарок получила отзыв что подушка восторг хорошая фирма у меня были долго не хотя я их стирала раз в год покупкой довольна',\n",
       " 'как всегда',\n",
       " 'отличная и простая в обращении',\n",
       " 'мне понравилась только у меня с полностью не входит в пришлось один уровень убрать правильно говорят лучше наливать воду я не но воду минут за с для правда остались пятна от на думаю это не страшно и нисколько не всем понравилось',\n",
       " 'б была помощь и во время событий года когда ссср и далее',\n",
       " ...]"
      ]
     },
     "execution_count": 83,
     "metadata": {},
     "output_type": "execute_result"
    }
   ],
   "source": [
    "abc # no ngrams!!! and wtf with optimizer???"
   ]
  },
  {
   "cell_type": "code",
   "execution_count": 65,
   "metadata": {},
   "outputs": [
    {
     "name": "stdout",
     "output_type": "stream",
     "text": [
      "Classification report\n",
      "\n"
     ]
    },
    {
     "name": "stderr",
     "output_type": "stream",
     "text": [
      "C:\\Anaconda\\lib\\site-packages\\sklearn\\metrics\\classification.py:1143: UndefinedMetricWarning: Precision and F-score are ill-defined and being set to 0.0 in labels with no predicted samples.\n",
      "  'precision', 'predicted', average, warn_for)\n",
      "C:\\Anaconda\\lib\\site-packages\\sklearn\\metrics\\classification.py:1143: UndefinedMetricWarning: Precision and F-score are ill-defined and being set to 0.0 in labels with no predicted samples.\n",
      "  'precision', 'predicted', average, warn_for)\n",
      "C:\\Anaconda\\lib\\site-packages\\sklearn\\metrics\\classification.py:1143: UndefinedMetricWarning: Precision and F-score are ill-defined and being set to 0.0 in labels with no predicted samples.\n",
      "  'precision', 'predicted', average, warn_for)\n",
      "C:\\Anaconda\\lib\\site-packages\\sklearn\\metrics\\classification.py:1143: UndefinedMetricWarning: Precision and F-score are ill-defined and being set to 0.0 in samples with no predicted labels.\n",
      "  'precision', 'predicted', average, warn_for)\n"
     ]
    },
    {
     "name": "stdout",
     "output_type": "stream",
     "text": [
      "              precision    recall  f1-score   support\n",
      "\n",
      "           0       0.00      0.00      0.00       836\n",
      "           1       0.00      0.00      0.00       445\n",
      "           2       0.00      0.00      0.00       898\n",
      "           3       0.00      0.00      0.00      1520\n",
      "           4       0.67      0.99      0.80      7301\n",
      "\n",
      "   micro avg       0.67      0.66      0.66     11000\n",
      "   macro avg       0.13      0.20      0.16     11000\n",
      "weighted avg       0.44      0.66      0.53     11000\n",
      " samples avg       0.66      0.66      0.66     11000\n",
      "\n"
     ]
    }
   ],
   "source": [
    "y_predicted_scores[y_predicted_scores>=0.5] = 1\n",
    "y_predicted_scores[y_predicted_scores<0.5] = 0\n",
    "\n",
    "print('Classification report\\n')\n",
    "print(classification_report(y_test_part, y_predicted_scores))"
   ]
  },
  {
   "cell_type": "code",
   "execution_count": null,
   "metadata": {},
   "outputs": [],
   "source": []
  },
  {
   "cell_type": "code",
   "execution_count": null,
   "metadata": {},
   "outputs": [],
   "source": []
  },
  {
   "cell_type": "code",
   "execution_count": 64,
   "metadata": {},
   "outputs": [
    {
     "name": "stdout",
     "output_type": "stream",
     "text": [
      "Loading data...\n",
      "25000 train sequences\n",
      "25000 test sequences\n"
     ]
    }
   ],
   "source": [
    "'''Trains a Bidirectional LSTM on the IMDB sentiment classification task.\n",
    "Output after 4 epochs on CPU: ~0.8146\n",
    "Time per epoch on CPU (Core i7): ~150s.\n",
    "'''\n",
    "\n",
    "from __future__ import print_function\n",
    "import numpy as np\n",
    "\n",
    "from keras.preprocessing import sequence\n",
    "from keras.models import Sequential\n",
    "from keras.layers import Dense, Dropout, Embedding, LSTM, Bidirectional\n",
    "from keras.datasets import imdb\n",
    "batch_size = 32\n",
    "\n",
    "max_features = 20000\n",
    "# cut texts after this number of words\n",
    "# (among top max_features most common words)\n",
    "maxlen = 100\n",
    "\n",
    "\n",
    "print('Loading data...')\n",
    "(x_train, y_train), (x_test, y_test) = imdb.load_data(num_words=max_features)\n",
    "print(len(x_train), 'train sequences')\n",
    "print(len(x_test), 'test sequences')"
   ]
  },
  {
   "cell_type": "code",
   "execution_count": 70,
   "metadata": {},
   "outputs": [
    {
     "data": {
      "text/plain": [
       "array([ 1415,    33,     6,    22,    12,   215,    28,    77,    52,\n",
       "           5,    14,   407,    16,    82, 10311,     8,     4,   107,\n",
       "         117,  5952,    15,   256,     4,     2,     7,  3766,     5,\n",
       "         723,    36,    71,    43,   530,   476,    26,   400,   317,\n",
       "          46,     7,     4, 12118,  1029,    13,   104,    88,     4,\n",
       "         381,    15,   297,    98,    32,  2071,    56,    26,   141,\n",
       "           6,   194,  7486,    18,     4,   226,    22,    21,   134,\n",
       "         476,    26,   480,     5,   144,    30,  5535,    18,    51,\n",
       "          36,    28,   224,    92,    25,   104,     4,   226,    65,\n",
       "          16,    38,  1334,    88,    12,    16,   283,     5,    16,\n",
       "        4472,   113,   103,    32,    15,    16,  5345,    19,   178,    32])"
      ]
     },
     "execution_count": 70,
     "metadata": {},
     "output_type": "execute_result"
    }
   ],
   "source": [
    "(x_train[0])"
   ]
  },
  {
   "cell_type": "code",
   "execution_count": 68,
   "metadata": {},
   "outputs": [
    {
     "name": "stdout",
     "output_type": "stream",
     "text": [
      "Pad sequences (samples x time)\n",
      "x_train shape: (25000, 100)\n",
      "x_test shape: (25000, 100)\n"
     ]
    }
   ],
   "source": [
    "print('Pad sequences (samples x time)')\n",
    "x_train = sequence.pad_sequences(x_train, maxlen=maxlen)\n",
    "x_test = sequence.pad_sequences(x_test, maxlen=maxlen)\n",
    "print('x_train shape:', x_train.shape)\n",
    "print('x_test shape:', x_test.shape)\n",
    "y_train = np.array(y_train)\n",
    "y_test = np.array(y_test)"
   ]
  },
  {
   "cell_type": "code",
   "execution_count": 69,
   "metadata": {},
   "outputs": [
    {
     "data": {
      "text/plain": [
       "array([ 1415,    33,     6,    22,    12,   215,    28,    77,    52,\n",
       "           5,    14,   407,    16,    82, 10311,     8,     4,   107,\n",
       "         117,  5952,    15,   256,     4,     2,     7,  3766,     5,\n",
       "         723,    36,    71,    43,   530,   476,    26,   400,   317,\n",
       "          46,     7,     4, 12118,  1029,    13,   104,    88,     4,\n",
       "         381,    15,   297,    98,    32,  2071,    56,    26,   141,\n",
       "           6,   194,  7486,    18,     4,   226,    22,    21,   134,\n",
       "         476,    26,   480,     5,   144,    30,  5535,    18,    51,\n",
       "          36,    28,   224,    92,    25,   104,     4,   226,    65,\n",
       "          16,    38,  1334,    88,    12,    16,   283,     5,    16,\n",
       "        4472,   113,   103,    32,    15,    16,  5345,    19,   178,    32])"
      ]
     },
     "execution_count": 69,
     "metadata": {},
     "output_type": "execute_result"
    }
   ],
   "source": [
    "x_train[0]"
   ]
  },
  {
   "cell_type": "code",
   "execution_count": 59,
   "metadata": {
    "scrolled": true
   },
   "outputs": [
    {
     "name": "stdout",
     "output_type": "stream",
     "text": [
      "Loading data...\n",
      "Downloading data from https://s3.amazonaws.com/text-datasets/imdb.npz\n",
      "17465344/17464789 [==============================] - ETA: 4: - ETA: 1: - ETA: 59s - ETA: 34 - ETA: 28 - ETA: 16 - ETA: 16 - ETA: 11 - ETA: 10 - ETA: 8 - ETA:  - ETA:  - ETA:  - ETA:  - ETA:  - ETA:  - ETA:  - ETA:  - ETA:  - ETA:  - ETA:  - ETA:  - ETA:  - ETA:  - ETA:  - ETA:  - ETA:  - ETA:  - ETA:  - ETA:  - ETA:  - ETA:  - ETA:  - ETA:  - ETA:  - ETA:  - ETA:  - ETA:  - ETA:  - ETA:  - ETA:  - ETA:  - ETA:  - ETA:  - ETA:  - ETA:  - ETA:  - ETA:  - ETA:  - ETA:  - ETA:  - ETA:  - ETA:  - ETA:  - ETA:  - ETA:  - ETA:  - 4s 0us/step\n",
      "25000 train sequences\n",
      "25000 test sequences\n",
      "Pad sequences (samples x time)\n",
      "x_train shape: (25000, 100)\n",
      "x_test shape: (25000, 100)\n",
      "Train...\n",
      "Train on 25000 samples, validate on 25000 samples\n",
      "Epoch 1/4\n"
     ]
    },
    {
     "name": "stdout",
     "output_type": "stream",
     "text": [
      " 6528/25000 [======>.......................] - ETA: 24:53 - loss: 0.6929 - acc: 0.50 - ETA: 13:26 - loss: 0.6941 - acc: 0.43 - ETA: 9:41 - loss: 0.6937 - acc: 0.4688 - ETA: 7:48 - loss: 0.6931 - acc: 0.507 - ETA: 6:39 - loss: 0.6929 - acc: 0.512 - ETA: 5:56 - loss: 0.6923 - acc: 0.531 - ETA: 5:26 - loss: 0.6919 - acc: 0.544 - ETA: 5:06 - loss: 0.6921 - acc: 0.550 - ETA: 4:48 - loss: 0.6927 - acc: 0.534 - ETA: 4:45 - loss: 0.6924 - acc: 0.537 - ETA: 4:33 - loss: 0.6929 - acc: 0.519 - ETA: 4:25 - loss: 0.6928 - acc: 0.520 - ETA: 4:16 - loss: 0.6925 - acc: 0.528 - ETA: 4:09 - loss: 0.6922 - acc: 0.535 - ETA: 4:02 - loss: 0.6931 - acc: 0.520 - ETA: 3:58 - loss: 0.6932 - acc: 0.511 - ETA: 3:53 - loss: 0.6937 - acc: 0.500 - ETA: 3:48 - loss: 0.6940 - acc: 0.498 - ETA: 3:43 - loss: 0.6938 - acc: 0.498 - ETA: 3:39 - loss: 0.6937 - acc: 0.503 - ETA: 3:35 - loss: 0.6936 - acc: 0.504 - ETA: 3:32 - loss: 0.6934 - acc: 0.511 - ETA: 3:28 - loss: 0.6933 - acc: 0.513 - ETA: 3:24 - loss: 0.6932 - acc: 0.516 - ETA: 3:21 - loss: 0.6930 - acc: 0.522 - ETA: 3:17 - loss: 0.6928 - acc: 0.526 - ETA: 3:14 - loss: 0.6924 - acc: 0.533 - ETA: 3:11 - loss: 0.6923 - acc: 0.536 - ETA: 3:08 - loss: 0.6923 - acc: 0.537 - ETA: 3:06 - loss: 0.6922 - acc: 0.540 - ETA: 3:03 - loss: 0.6921 - acc: 0.543 - ETA: 3:01 - loss: 0.6919 - acc: 0.548 - ETA: 2:59 - loss: 0.6919 - acc: 0.548 - ETA: 2:56 - loss: 0.6917 - acc: 0.551 - ETA: 2:55 - loss: 0.6917 - acc: 0.552 - ETA: 2:53 - loss: 0.6917 - acc: 0.548 - ETA: 2:51 - loss: 0.6916 - acc: 0.552 - ETA: 2:49 - loss: 0.6916 - acc: 0.551 - ETA: 2:48 - loss: 0.6915 - acc: 0.554 - ETA: 2:48 - loss: 0.6914 - acc: 0.554 - ETA: 2:48 - loss: 0.6912 - acc: 0.557 - ETA: 2:48 - loss: 0.6910 - acc: 0.562 - ETA: 2:46 - loss: 0.6907 - acc: 0.564 - ETA: 2:45 - loss: 0.6906 - acc: 0.563 - ETA: 2:44 - loss: 0.6904 - acc: 0.564 - ETA: 2:43 - loss: 0.6900 - acc: 0.567 - ETA: 2:42 - loss: 0.6898 - acc: 0.571 - ETA: 2:41 - loss: 0.6892 - acc: 0.571 - ETA: 2:40 - loss: 0.6892 - acc: 0.572 - ETA: 2:39 - loss: 0.6889 - acc: 0.570 - ETA: 2:38 - loss: 0.6889 - acc: 0.570 - ETA: 2:37 - loss: 0.6882 - acc: 0.572 - ETA: 2:36 - loss: 0.6877 - acc: 0.574 - ETA: 2:35 - loss: 0.6864 - acc: 0.577 - ETA: 2:34 - loss: 0.6837 - acc: 0.581 - ETA: 2:33 - loss: 0.6790 - acc: 0.587 - ETA: 2:32 - loss: 0.6798 - acc: 0.589 - ETA: 2:32 - loss: 0.6774 - acc: 0.592 - ETA: 2:31 - loss: 0.6772 - acc: 0.594 - ETA: 2:30 - loss: 0.6773 - acc: 0.594 - ETA: 2:29 - loss: 0.6789 - acc: 0.594 - ETA: 2:28 - loss: 0.6787 - acc: 0.593 - ETA: 2:27 - loss: 0.6770 - acc: 0.595 - ETA: 2:26 - loss: 0.6755 - acc: 0.597 - ETA: 2:26 - loss: 0.6761 - acc: 0.595 - ETA: 2:25 - loss: 0.6746 - acc: 0.598 - ETA: 2:24 - loss: 0.6739 - acc: 0.598 - ETA: 2:23 - loss: 0.6736 - acc: 0.597 - ETA: 2:23 - loss: 0.6727 - acc: 0.599 - ETA: 2:22 - loss: 0.6719 - acc: 0.601 - ETA: 2:21 - loss: 0.6718 - acc: 0.601 - ETA: 2:21 - loss: 0.6708 - acc: 0.604 - ETA: 2:21 - loss: 0.6696 - acc: 0.607 - ETA: 2:20 - loss: 0.6688 - acc: 0.608 - ETA: 2:19 - loss: 0.6679 - acc: 0.610 - ETA: 2:19 - loss: 0.6673 - acc: 0.611 - ETA: 2:18 - loss: 0.6664 - acc: 0.613 - ETA: 2:18 - loss: 0.6649 - acc: 0.616 - ETA: 2:17 - loss: 0.6645 - acc: 0.616 - ETA: 2:17 - loss: 0.6638 - acc: 0.618 - ETA: 2:16 - loss: 0.6619 - acc: 0.621 - ETA: 2:15 - loss: 0.6599 - acc: 0.624 - ETA: 2:15 - loss: 0.6592 - acc: 0.625 - ETA: 2:15 - loss: 0.6577 - acc: 0.626 - ETA: 2:14 - loss: 0.6568 - acc: 0.628 - ETA: 2:14 - loss: 0.6553 - acc: 0.629 - ETA: 2:13 - loss: 0.6542 - acc: 0.630 - ETA: 2:13 - loss: 0.6529 - acc: 0.632 - ETA: 2:12 - loss: 0.6515 - acc: 0.633 - ETA: 2:12 - loss: 0.6513 - acc: 0.633 - ETA: 2:11 - loss: 0.6510 - acc: 0.633 - ETA: 2:11 - loss: 0.6495 - acc: 0.634 - ETA: 2:11 - loss: 0.6491 - acc: 0.635 - ETA: 2:10 - loss: 0.6479 - acc: 0.636 - ETA: 2:10 - loss: 0.6468 - acc: 0.638 - ETA: 2:09 - loss: 0.6457 - acc: 0.640 - ETA: 2:09 - loss: 0.6442 - acc: 0.641 - ETA: 2:08 - loss: 0.6428 - acc: 0.643 - ETA: 2:08 - loss: 0.6417 - acc: 0.644 - ETA: 2:08 - loss: 0.6411 - acc: 0.645 - ETA: 2:07 - loss: 0.6401 - acc: 0.645 - ETA: 2:07 - loss: 0.6388 - acc: 0.646 - ETA: 2:06 - loss: 0.6377 - acc: 0.647 - ETA: 2:06 - loss: 0.6361 - acc: 0.648 - ETA: 2:06 - loss: 0.6343 - acc: 0.649 - ETA: 2:05 - loss: 0.6335 - acc: 0.650 - ETA: 2:05 - loss: 0.6322 - acc: 0.651 - ETA: 2:05 - loss: 0.6306 - acc: 0.652 - ETA: 2:04 - loss: 0.6310 - acc: 0.651 - ETA: 2:04 - loss: 0.6302 - acc: 0.652 - ETA: 2:04 - loss: 0.6289 - acc: 0.654 - ETA: 2:03 - loss: 0.6278 - acc: 0.654 - ETA: 2:03 - loss: 0.6257 - acc: 0.656 - ETA: 2:03 - loss: 0.6249 - acc: 0.657 - ETA: 2:02 - loss: 0.6236 - acc: 0.659 - ETA: 2:02 - loss: 0.6220 - acc: 0.660 - ETA: 2:02 - loss: 0.6214 - acc: 0.660 - ETA: 2:01 - loss: 0.6196 - acc: 0.662 - ETA: 2:01 - loss: 0.6190 - acc: 0.662 - ETA: 2:01 - loss: 0.6176 - acc: 0.664 - ETA: 2:00 - loss: 0.6160 - acc: 0.665 - ETA: 2:00 - loss: 0.6150 - acc: 0.667 - ETA: 2:00 - loss: 0.6143 - acc: 0.667 - ETA: 1:59 - loss: 0.6124 - acc: 0.668 - ETA: 1:59 - loss: 0.6112 - acc: 0.670 - ETA: 1:59 - loss: 0.6097 - acc: 0.671 - ETA: 1:58 - loss: 0.6090 - acc: 0.671 - ETA: 1:58 - loss: 0.6077 - acc: 0.672 - ETA: 1:58 - loss: 0.6065 - acc: 0.673 - ETA: 1:57 - loss: 0.6050 - acc: 0.674 - ETA: 1:57 - loss: 0.6032 - acc: 0.675 - ETA: 1:57 - loss: 0.6026 - acc: 0.675 - ETA: 1:57 - loss: 0.6021 - acc: 0.676 - ETA: 1:56 - loss: 0.6007 - acc: 0.676 - ETA: 1:56 - loss: 0.5992 - acc: 0.677 - ETA: 1:56 - loss: 0.5993 - acc: 0.677 - ETA: 1:55 - loss: 0.5985 - acc: 0.677 - ETA: 1:55 - loss: 0.5984 - acc: 0.677 - ETA: 1:55 - loss: 0.5981 - acc: 0.678 - ETA: 1:55 - loss: 0.5966 - acc: 0.679 - ETA: 1:54 - loss: 0.5962 - acc: 0.679 - ETA: 1:54 - loss: 0.5959 - acc: 0.680 - ETA: 1:54 - loss: 0.5958 - acc: 0.680 - ETA: 1:53 - loss: 0.5949 - acc: 0.681 - ETA: 1:53 - loss: 0.5942 - acc: 0.682 - ETA: 1:53 - loss: 0.5930 - acc: 0.683 - ETA: 1:53 - loss: 0.5916 - acc: 0.683 - ETA: 1:52 - loss: 0.5904 - acc: 0.684 - ETA: 1:52 - loss: 0.5905 - acc: 0.684 - ETA: 1:52 - loss: 0.5887 - acc: 0.685 - ETA: 1:51 - loss: 0.5880 - acc: 0.686 - ETA: 1:51 - loss: 0.5874 - acc: 0.686 - ETA: 1:51 - loss: 0.5884 - acc: 0.686 - ETA: 1:51 - loss: 0.5879 - acc: 0.686 - ETA: 1:50 - loss: 0.5866 - acc: 0.687 - ETA: 1:50 - loss: 0.5859 - acc: 0.688 - ETA: 1:50 - loss: 0.5855 - acc: 0.688 - ETA: 1:50 - loss: 0.5852 - acc: 0.689 - ETA: 1:49 - loss: 0.5838 - acc: 0.690 - ETA: 1:49 - loss: 0.5827 - acc: 0.691 - ETA: 1:49 - loss: 0.5818 - acc: 0.692 - ETA: 1:48 - loss: 0.5816 - acc: 0.692 - ETA: 1:48 - loss: 0.5801 - acc: 0.694 - ETA: 1:48 - loss: 0.5785 - acc: 0.695 - ETA: 1:48 - loss: 0.5778 - acc: 0.695 - ETA: 1:47 - loss: 0.5777 - acc: 0.695 - ETA: 1:47 - loss: 0.5762 - acc: 0.696 - ETA: 1:47 - loss: 0.5747 - acc: 0.697 - ETA: 1:47 - loss: 0.5740 - acc: 0.698 - ETA: 1:46 - loss: 0.5735 - acc: 0.698 - ETA: 1:46 - loss: 0.5727 - acc: 0.699 - ETA: 1:46 - loss: 0.5711 - acc: 0.700 - ETA: 1:46 - loss: 0.5699 - acc: 0.701 - ETA: 1:46 - loss: 0.5693 - acc: 0.701 - ETA: 1:45 - loss: 0.5685 - acc: 0.702 - ETA: 1:45 - loss: 0.5671 - acc: 0.702 - ETA: 1:45 - loss: 0.5665 - acc: 0.703 - ETA: 1:45 - loss: 0.5664 - acc: 0.703 - ETA: 1:44 - loss: 0.5650 - acc: 0.704 - ETA: 1:44 - loss: 0.5632 - acc: 0.705 - ETA: 1:44 - loss: 0.5623 - acc: 0.706 - ETA: 1:44 - loss: 0.5619 - acc: 0.706 - ETA: 1:44 - loss: 0.5610 - acc: 0.707 - ETA: 1:43 - loss: 0.5602 - acc: 0.708 - ETA: 1:43 - loss: 0.5594 - acc: 0.709 - ETA: 1:43 - loss: 0.5589 - acc: 0.709 - ETA: 1:43 - loss: 0.5579 - acc: 0.710 - ETA: 1:42 - loss: 0.5571 - acc: 0.710 - ETA: 1:42 - loss: 0.5568 - acc: 0.711 - ETA: 1:42 - loss: 0.5555 - acc: 0.712 - ETA: 1:42 - loss: 0.5556 - acc: 0.712 - ETA: 1:41 - loss: 0.5538 - acc: 0.713 - ETA: 1:41 - loss: 0.5533 - acc: 0.714 - ETA: 1:41 - loss: 0.5536 - acc: 0.713 - ETA: 1:41 - loss: 0.5536 - acc: 0.714 - ETA: 1:41 - loss: 0.5527 - acc: 0.714 - ETA: 1:40 - loss: 0.5518 - acc: 0.715 - ETA: 1:40 - loss: 0.5508 - acc: 0.716 - ETA: 1:40 - loss: 0.5499 - acc: 0.717 - ETA: 1:40 - loss: 0.5490 - acc: 0.718 - ETA: 1:40 - loss: 0.5480 - acc: 0.718 - ETA: 1:39 - loss: 0.5478 - acc: 0.718 - ETA: 1:39 - loss: 0.5469 - acc: 0.719 - ETA: 1:39 - loss: 0.5461 - acc: 0.720013056/25000 [==============>...............] - ETA: 1:39 - loss: 0.5462 - acc: 0.719 - ETA: 1:39 - loss: 0.5452 - acc: 0.720 - ETA: 1:38 - loss: 0.5442 - acc: 0.721 - ETA: 1:38 - loss: 0.5436 - acc: 0.721 - ETA: 1:38 - loss: 0.5421 - acc: 0.722 - ETA: 1:38 - loss: 0.5418 - acc: 0.722 - ETA: 1:38 - loss: 0.5405 - acc: 0.723 - ETA: 1:37 - loss: 0.5393 - acc: 0.723 - ETA: 1:37 - loss: 0.5391 - acc: 0.724 - ETA: 1:37 - loss: 0.5382 - acc: 0.724 - ETA: 1:37 - loss: 0.5377 - acc: 0.725 - ETA: 1:37 - loss: 0.5365 - acc: 0.725 - ETA: 1:36 - loss: 0.5359 - acc: 0.726 - ETA: 1:36 - loss: 0.5348 - acc: 0.727 - ETA: 1:36 - loss: 0.5335 - acc: 0.727 - ETA: 1:36 - loss: 0.5339 - acc: 0.727 - ETA: 1:36 - loss: 0.5334 - acc: 0.728 - ETA: 1:35 - loss: 0.5328 - acc: 0.729 - ETA: 1:35 - loss: 0.5320 - acc: 0.729 - ETA: 1:35 - loss: 0.5309 - acc: 0.730 - ETA: 1:35 - loss: 0.5304 - acc: 0.731 - ETA: 1:35 - loss: 0.5304 - acc: 0.731 - ETA: 1:34 - loss: 0.5300 - acc: 0.731 - ETA: 1:34 - loss: 0.5297 - acc: 0.731 - ETA: 1:34 - loss: 0.5293 - acc: 0.732 - ETA: 1:34 - loss: 0.5286 - acc: 0.732 - ETA: 1:34 - loss: 0.5280 - acc: 0.733 - ETA: 1:33 - loss: 0.5280 - acc: 0.733 - ETA: 1:33 - loss: 0.5274 - acc: 0.733 - ETA: 1:33 - loss: 0.5259 - acc: 0.734 - ETA: 1:33 - loss: 0.5253 - acc: 0.734 - ETA: 1:32 - loss: 0.5249 - acc: 0.735 - ETA: 1:32 - loss: 0.5244 - acc: 0.735 - ETA: 1:32 - loss: 0.5244 - acc: 0.735 - ETA: 1:32 - loss: 0.5241 - acc: 0.735 - ETA: 1:32 - loss: 0.5235 - acc: 0.735 - ETA: 1:32 - loss: 0.5242 - acc: 0.735 - ETA: 1:31 - loss: 0.5230 - acc: 0.735 - ETA: 1:31 - loss: 0.5224 - acc: 0.736 - ETA: 1:31 - loss: 0.5215 - acc: 0.736 - ETA: 1:31 - loss: 0.5206 - acc: 0.737 - ETA: 1:31 - loss: 0.5201 - acc: 0.737 - ETA: 1:30 - loss: 0.5194 - acc: 0.738 - ETA: 1:30 - loss: 0.5192 - acc: 0.738 - ETA: 1:30 - loss: 0.5184 - acc: 0.738 - ETA: 1:30 - loss: 0.5174 - acc: 0.739 - ETA: 1:30 - loss: 0.5165 - acc: 0.739 - ETA: 1:29 - loss: 0.5156 - acc: 0.740 - ETA: 1:29 - loss: 0.5155 - acc: 0.740 - ETA: 1:29 - loss: 0.5149 - acc: 0.741 - ETA: 1:29 - loss: 0.5144 - acc: 0.741 - ETA: 1:29 - loss: 0.5144 - acc: 0.741 - ETA: 1:28 - loss: 0.5137 - acc: 0.741 - ETA: 1:28 - loss: 0.5138 - acc: 0.741 - ETA: 1:28 - loss: 0.5131 - acc: 0.742 - ETA: 1:28 - loss: 0.5122 - acc: 0.742 - ETA: 1:28 - loss: 0.5121 - acc: 0.743 - ETA: 1:27 - loss: 0.5116 - acc: 0.743 - ETA: 1:27 - loss: 0.5115 - acc: 0.743 - ETA: 1:27 - loss: 0.5111 - acc: 0.743 - ETA: 1:27 - loss: 0.5108 - acc: 0.743 - ETA: 1:27 - loss: 0.5114 - acc: 0.743 - ETA: 1:26 - loss: 0.5107 - acc: 0.743 - ETA: 1:26 - loss: 0.5100 - acc: 0.744 - ETA: 1:26 - loss: 0.5090 - acc: 0.745 - ETA: 1:26 - loss: 0.5083 - acc: 0.745 - ETA: 1:26 - loss: 0.5078 - acc: 0.746 - ETA: 1:25 - loss: 0.5072 - acc: 0.746 - ETA: 1:25 - loss: 0.5073 - acc: 0.746 - ETA: 1:25 - loss: 0.5069 - acc: 0.746 - ETA: 1:25 - loss: 0.5059 - acc: 0.747 - ETA: 1:25 - loss: 0.5057 - acc: 0.747 - ETA: 1:24 - loss: 0.5050 - acc: 0.748 - ETA: 1:24 - loss: 0.5046 - acc: 0.748 - ETA: 1:24 - loss: 0.5038 - acc: 0.748 - ETA: 1:24 - loss: 0.5033 - acc: 0.749 - ETA: 1:24 - loss: 0.5035 - acc: 0.749 - ETA: 1:24 - loss: 0.5032 - acc: 0.749 - ETA: 1:23 - loss: 0.5023 - acc: 0.749 - ETA: 1:23 - loss: 0.5020 - acc: 0.750 - ETA: 1:23 - loss: 0.5021 - acc: 0.750 - ETA: 1:23 - loss: 0.5015 - acc: 0.750 - ETA: 1:23 - loss: 0.5009 - acc: 0.750 - ETA: 1:22 - loss: 0.5007 - acc: 0.750 - ETA: 1:22 - loss: 0.5006 - acc: 0.751 - ETA: 1:22 - loss: 0.5002 - acc: 0.751 - ETA: 1:22 - loss: 0.5000 - acc: 0.751 - ETA: 1:22 - loss: 0.4999 - acc: 0.751 - ETA: 1:22 - loss: 0.4994 - acc: 0.752 - ETA: 1:21 - loss: 0.4999 - acc: 0.751 - ETA: 1:21 - loss: 0.4995 - acc: 0.751 - ETA: 1:21 - loss: 0.4990 - acc: 0.752 - ETA: 1:21 - loss: 0.4983 - acc: 0.752 - ETA: 1:21 - loss: 0.4976 - acc: 0.753 - ETA: 1:20 - loss: 0.4970 - acc: 0.753 - ETA: 1:20 - loss: 0.4968 - acc: 0.753 - ETA: 1:20 - loss: 0.4964 - acc: 0.753 - ETA: 1:20 - loss: 0.4956 - acc: 0.754 - ETA: 1:20 - loss: 0.4953 - acc: 0.754 - ETA: 1:19 - loss: 0.4949 - acc: 0.755 - ETA: 1:19 - loss: 0.4943 - acc: 0.755 - ETA: 1:19 - loss: 0.4942 - acc: 0.755 - ETA: 1:19 - loss: 0.4935 - acc: 0.756 - ETA: 1:19 - loss: 0.4925 - acc: 0.756 - ETA: 1:19 - loss: 0.4917 - acc: 0.757 - ETA: 1:18 - loss: 0.4912 - acc: 0.757 - ETA: 1:18 - loss: 0.4904 - acc: 0.758 - ETA: 1:18 - loss: 0.4898 - acc: 0.758 - ETA: 1:18 - loss: 0.4896 - acc: 0.758 - ETA: 1:18 - loss: 0.4894 - acc: 0.759 - ETA: 1:18 - loss: 0.4893 - acc: 0.759 - ETA: 1:17 - loss: 0.4891 - acc: 0.759 - ETA: 1:17 - loss: 0.4887 - acc: 0.759 - ETA: 1:17 - loss: 0.4887 - acc: 0.759 - ETA: 1:17 - loss: 0.4884 - acc: 0.760 - ETA: 1:17 - loss: 0.4884 - acc: 0.759 - ETA: 1:16 - loss: 0.4886 - acc: 0.759 - ETA: 1:16 - loss: 0.4882 - acc: 0.760 - ETA: 1:16 - loss: 0.4880 - acc: 0.759 - ETA: 1:16 - loss: 0.4877 - acc: 0.760 - ETA: 1:16 - loss: 0.4880 - acc: 0.760 - ETA: 1:15 - loss: 0.4874 - acc: 0.760 - ETA: 1:15 - loss: 0.4871 - acc: 0.760 - ETA: 1:15 - loss: 0.4870 - acc: 0.760 - ETA: 1:15 - loss: 0.4867 - acc: 0.761 - ETA: 1:15 - loss: 0.4864 - acc: 0.761 - ETA: 1:15 - loss: 0.4858 - acc: 0.761 - ETA: 1:14 - loss: 0.4859 - acc: 0.761 - ETA: 1:14 - loss: 0.4854 - acc: 0.762 - ETA: 1:14 - loss: 0.4850 - acc: 0.762 - ETA: 1:14 - loss: 0.4846 - acc: 0.762 - ETA: 1:14 - loss: 0.4843 - acc: 0.762 - ETA: 1:13 - loss: 0.4840 - acc: 0.763 - ETA: 1:13 - loss: 0.4843 - acc: 0.762 - ETA: 1:13 - loss: 0.4842 - acc: 0.763 - ETA: 1:13 - loss: 0.4838 - acc: 0.763 - ETA: 1:13 - loss: 0.4837 - acc: 0.763 - ETA: 1:12 - loss: 0.4839 - acc: 0.763 - ETA: 1:12 - loss: 0.4842 - acc: 0.762 - ETA: 1:12 - loss: 0.4838 - acc: 0.763 - ETA: 1:12 - loss: 0.4833 - acc: 0.763 - ETA: 1:12 - loss: 0.4827 - acc: 0.764 - ETA: 1:12 - loss: 0.4829 - acc: 0.764 - ETA: 1:11 - loss: 0.4822 - acc: 0.764 - ETA: 1:11 - loss: 0.4819 - acc: 0.764 - ETA: 1:11 - loss: 0.4815 - acc: 0.765 - ETA: 1:11 - loss: 0.4811 - acc: 0.765 - ETA: 1:11 - loss: 0.4803 - acc: 0.765 - ETA: 1:10 - loss: 0.4806 - acc: 0.765 - ETA: 1:10 - loss: 0.4804 - acc: 0.765 - ETA: 1:10 - loss: 0.4799 - acc: 0.766 - ETA: 1:10 - loss: 0.4797 - acc: 0.766 - ETA: 1:10 - loss: 0.4796 - acc: 0.766 - ETA: 1:10 - loss: 0.4792 - acc: 0.766 - ETA: 1:09 - loss: 0.4794 - acc: 0.766 - ETA: 1:09 - loss: 0.4792 - acc: 0.766 - ETA: 1:09 - loss: 0.4786 - acc: 0.767 - ETA: 1:09 - loss: 0.4786 - acc: 0.767 - ETA: 1:09 - loss: 0.4782 - acc: 0.767 - ETA: 1:09 - loss: 0.4782 - acc: 0.767 - ETA: 1:08 - loss: 0.4775 - acc: 0.767 - ETA: 1:08 - loss: 0.4771 - acc: 0.768 - ETA: 1:08 - loss: 0.4768 - acc: 0.768 - ETA: 1:08 - loss: 0.4763 - acc: 0.768 - ETA: 1:08 - loss: 0.4758 - acc: 0.768 - ETA: 1:07 - loss: 0.4753 - acc: 0.769 - ETA: 1:07 - loss: 0.4748 - acc: 0.769 - ETA: 1:07 - loss: 0.4744 - acc: 0.769 - ETA: 1:07 - loss: 0.4743 - acc: 0.769 - ETA: 1:07 - loss: 0.4745 - acc: 0.769 - ETA: 1:07 - loss: 0.4741 - acc: 0.769 - ETA: 1:06 - loss: 0.4738 - acc: 0.770 - ETA: 1:06 - loss: 0.4735 - acc: 0.770 - ETA: 1:06 - loss: 0.4736 - acc: 0.770 - ETA: 1:06 - loss: 0.4734 - acc: 0.770 - ETA: 1:06 - loss: 0.4731 - acc: 0.770 - ETA: 1:05 - loss: 0.4727 - acc: 0.770 - ETA: 1:05 - loss: 0.4724 - acc: 0.770 - ETA: 1:05 - loss: 0.4723 - acc: 0.770 - ETA: 1:05 - loss: 0.4718 - acc: 0.770 - ETA: 1:05 - loss: 0.4712 - acc: 0.771 - ETA: 1:05 - loss: 0.4708 - acc: 0.771 - ETA: 1:04 - loss: 0.4709 - acc: 0.771 - ETA: 1:04 - loss: 0.4709 - acc: 0.771 - ETA: 1:04 - loss: 0.4703 - acc: 0.772 - ETA: 1:04 - loss: 0.4697 - acc: 0.772 - ETA: 1:04 - loss: 0.4694 - acc: 0.772 - ETA: 1:04 - loss: 0.4689 - acc: 0.773 - ETA: 1:03 - loss: 0.4685 - acc: 0.773 - ETA: 1:03 - loss: 0.4684 - acc: 0.773 - ETA: 1:03 - loss: 0.4679 - acc: 0.773 - ETA: 1:03 - loss: 0.4676 - acc: 0.773 - ETA: 1:03 - loss: 0.4673 - acc: 0.773 - ETA: 1:03 - loss: 0.4670 - acc: 0.774 - ETA: 1:02 - loss: 0.4664 - acc: 0.774 - ETA: 1:02 - loss: 0.4662 - acc: 0.774 - ETA: 1:02 - loss: 0.4666 - acc: 0.774 - ETA: 1:02 - loss: 0.4668 - acc: 0.774 - ETA: 1:02 - loss: 0.4666 - acc: 0.774 - ETA: 1:02 - loss: 0.4664 - acc: 0.774 - ETA: 1:01 - loss: 0.4660 - acc: 0.774 - ETA: 1:01 - loss: 0.4655 - acc: 0.774 - ETA: 1:01 - loss: 0.4650 - acc: 0.775 - ETA: 1:01 - loss: 0.4648 - acc: 0.775619904/25000 [======================>.......] - ETA: 1:01 - loss: 0.4642 - acc: 0.775 - ETA: 1:01 - loss: 0.4639 - acc: 0.776 - ETA: 1:00 - loss: 0.4637 - acc: 0.776 - ETA: 1:00 - loss: 0.4635 - acc: 0.776 - ETA: 1:00 - loss: 0.4634 - acc: 0.776 - ETA: 1:00 - loss: 0.4632 - acc: 0.776 - ETA: 1:00 - loss: 0.4630 - acc: 0.776 - ETA: 1:00 - loss: 0.4629 - acc: 0.776 - ETA: 1:00 - loss: 0.4627 - acc: 0.777 - ETA: 59s - loss: 0.4624 - acc: 0.777 - ETA: 59s - loss: 0.4620 - acc: 0.77 - ETA: 59s - loss: 0.4616 - acc: 0.77 - ETA: 59s - loss: 0.4612 - acc: 0.77 - ETA: 59s - loss: 0.4607 - acc: 0.77 - ETA: 59s - loss: 0.4601 - acc: 0.77 - ETA: 58s - loss: 0.4597 - acc: 0.77 - ETA: 58s - loss: 0.4594 - acc: 0.77 - ETA: 58s - loss: 0.4592 - acc: 0.77 - ETA: 58s - loss: 0.4587 - acc: 0.77 - ETA: 58s - loss: 0.4586 - acc: 0.77 - ETA: 58s - loss: 0.4587 - acc: 0.77 - ETA: 57s - loss: 0.4585 - acc: 0.77 - ETA: 57s - loss: 0.4583 - acc: 0.78 - ETA: 57s - loss: 0.4582 - acc: 0.78 - ETA: 57s - loss: 0.4583 - acc: 0.78 - ETA: 57s - loss: 0.4582 - acc: 0.78 - ETA: 56s - loss: 0.4580 - acc: 0.78 - ETA: 56s - loss: 0.4577 - acc: 0.78 - ETA: 56s - loss: 0.4574 - acc: 0.78 - ETA: 56s - loss: 0.4570 - acc: 0.78 - ETA: 56s - loss: 0.4567 - acc: 0.78 - ETA: 56s - loss: 0.4567 - acc: 0.78 - ETA: 55s - loss: 0.4563 - acc: 0.78 - ETA: 55s - loss: 0.4561 - acc: 0.78 - ETA: 55s - loss: 0.4559 - acc: 0.78 - ETA: 55s - loss: 0.4558 - acc: 0.78 - ETA: 55s - loss: 0.4553 - acc: 0.78 - ETA: 55s - loss: 0.4552 - acc: 0.78 - ETA: 54s - loss: 0.4553 - acc: 0.78 - ETA: 54s - loss: 0.4551 - acc: 0.78 - ETA: 54s - loss: 0.4551 - acc: 0.78 - ETA: 54s - loss: 0.4548 - acc: 0.78 - ETA: 54s - loss: 0.4550 - acc: 0.78 - ETA: 54s - loss: 0.4548 - acc: 0.78 - ETA: 53s - loss: 0.4544 - acc: 0.78 - ETA: 53s - loss: 0.4541 - acc: 0.78 - ETA: 53s - loss: 0.4537 - acc: 0.78 - ETA: 53s - loss: 0.4535 - acc: 0.78 - ETA: 53s - loss: 0.4537 - acc: 0.78 - ETA: 53s - loss: 0.4536 - acc: 0.78 - ETA: 52s - loss: 0.4535 - acc: 0.78 - ETA: 52s - loss: 0.4535 - acc: 0.78 - ETA: 52s - loss: 0.4533 - acc: 0.78 - ETA: 52s - loss: 0.4531 - acc: 0.78 - ETA: 52s - loss: 0.4527 - acc: 0.78 - ETA: 52s - loss: 0.4524 - acc: 0.78 - ETA: 51s - loss: 0.4521 - acc: 0.78 - ETA: 51s - loss: 0.4517 - acc: 0.78 - ETA: 51s - loss: 0.4518 - acc: 0.78 - ETA: 51s - loss: 0.4515 - acc: 0.78 - ETA: 51s - loss: 0.4512 - acc: 0.78 - ETA: 51s - loss: 0.4510 - acc: 0.78 - ETA: 50s - loss: 0.4506 - acc: 0.78 - ETA: 50s - loss: 0.4502 - acc: 0.78 - ETA: 50s - loss: 0.4495 - acc: 0.78 - ETA: 50s - loss: 0.4494 - acc: 0.78 - ETA: 50s - loss: 0.4490 - acc: 0.78 - ETA: 50s - loss: 0.4487 - acc: 0.78 - ETA: 49s - loss: 0.4482 - acc: 0.78 - ETA: 49s - loss: 0.4480 - acc: 0.78 - ETA: 49s - loss: 0.4482 - acc: 0.78 - ETA: 49s - loss: 0.4479 - acc: 0.78 - ETA: 49s - loss: 0.4479 - acc: 0.78 - ETA: 49s - loss: 0.4475 - acc: 0.78 - ETA: 48s - loss: 0.4474 - acc: 0.78 - ETA: 48s - loss: 0.4471 - acc: 0.78 - ETA: 48s - loss: 0.4472 - acc: 0.78 - ETA: 48s - loss: 0.4469 - acc: 0.78 - ETA: 48s - loss: 0.4468 - acc: 0.78 - ETA: 48s - loss: 0.4467 - acc: 0.78 - ETA: 47s - loss: 0.4464 - acc: 0.78 - ETA: 47s - loss: 0.4463 - acc: 0.78 - ETA: 47s - loss: 0.4460 - acc: 0.78 - ETA: 47s - loss: 0.4456 - acc: 0.78 - ETA: 47s - loss: 0.4452 - acc: 0.78 - ETA: 47s - loss: 0.4453 - acc: 0.78 - ETA: 46s - loss: 0.4451 - acc: 0.78 - ETA: 46s - loss: 0.4450 - acc: 0.78 - ETA: 46s - loss: 0.4444 - acc: 0.78 - ETA: 46s - loss: 0.4447 - acc: 0.78 - ETA: 46s - loss: 0.4447 - acc: 0.78 - ETA: 46s - loss: 0.4441 - acc: 0.78 - ETA: 45s - loss: 0.4441 - acc: 0.78 - ETA: 45s - loss: 0.4437 - acc: 0.78 - ETA: 45s - loss: 0.4436 - acc: 0.78 - ETA: 45s - loss: 0.4435 - acc: 0.78 - ETA: 45s - loss: 0.4432 - acc: 0.79 - ETA: 45s - loss: 0.4429 - acc: 0.79 - ETA: 44s - loss: 0.4428 - acc: 0.79 - ETA: 44s - loss: 0.4430 - acc: 0.79 - ETA: 44s - loss: 0.4430 - acc: 0.79 - ETA: 44s - loss: 0.4430 - acc: 0.78 - ETA: 44s - loss: 0.4433 - acc: 0.78 - ETA: 44s - loss: 0.4434 - acc: 0.78 - ETA: 43s - loss: 0.4432 - acc: 0.79 - ETA: 43s - loss: 0.4433 - acc: 0.79 - ETA: 43s - loss: 0.4434 - acc: 0.78 - ETA: 43s - loss: 0.4431 - acc: 0.79 - ETA: 43s - loss: 0.4427 - acc: 0.79 - ETA: 43s - loss: 0.4423 - acc: 0.79 - ETA: 42s - loss: 0.4424 - acc: 0.79 - ETA: 42s - loss: 0.4426 - acc: 0.79 - ETA: 42s - loss: 0.4427 - acc: 0.79 - ETA: 42s - loss: 0.4424 - acc: 0.79 - ETA: 42s - loss: 0.4421 - acc: 0.79 - ETA: 42s - loss: 0.4420 - acc: 0.79 - ETA: 41s - loss: 0.4419 - acc: 0.79 - ETA: 41s - loss: 0.4418 - acc: 0.79 - ETA: 41s - loss: 0.4415 - acc: 0.79 - ETA: 41s - loss: 0.4412 - acc: 0.79 - ETA: 41s - loss: 0.4411 - acc: 0.79 - ETA: 41s - loss: 0.4405 - acc: 0.79 - ETA: 40s - loss: 0.4404 - acc: 0.79 - ETA: 40s - loss: 0.4403 - acc: 0.79 - ETA: 40s - loss: 0.4408 - acc: 0.79 - ETA: 40s - loss: 0.4404 - acc: 0.79 - ETA: 40s - loss: 0.4405 - acc: 0.79 - ETA: 40s - loss: 0.4407 - acc: 0.79 - ETA: 39s - loss: 0.4409 - acc: 0.79 - ETA: 39s - loss: 0.4412 - acc: 0.79 - ETA: 39s - loss: 0.4408 - acc: 0.79 - ETA: 39s - loss: 0.4407 - acc: 0.79 - ETA: 39s - loss: 0.4403 - acc: 0.79 - ETA: 39s - loss: 0.4399 - acc: 0.79 - ETA: 38s - loss: 0.4396 - acc: 0.79 - ETA: 38s - loss: 0.4398 - acc: 0.79 - ETA: 38s - loss: 0.4395 - acc: 0.79 - ETA: 38s - loss: 0.4395 - acc: 0.79 - ETA: 38s - loss: 0.4393 - acc: 0.79 - ETA: 38s - loss: 0.4391 - acc: 0.79 - ETA: 38s - loss: 0.4390 - acc: 0.79 - ETA: 37s - loss: 0.4388 - acc: 0.79 - ETA: 37s - loss: 0.4388 - acc: 0.79 - ETA: 37s - loss: 0.4389 - acc: 0.79 - ETA: 37s - loss: 0.4386 - acc: 0.79 - ETA: 37s - loss: 0.4384 - acc: 0.79 - ETA: 37s - loss: 0.4382 - acc: 0.79 - ETA: 36s - loss: 0.4381 - acc: 0.79 - ETA: 36s - loss: 0.4377 - acc: 0.79 - ETA: 36s - loss: 0.4378 - acc: 0.79 - ETA: 36s - loss: 0.4377 - acc: 0.79 - ETA: 36s - loss: 0.4377 - acc: 0.79 - ETA: 36s - loss: 0.4378 - acc: 0.79 - ETA: 35s - loss: 0.4376 - acc: 0.79 - ETA: 35s - loss: 0.4372 - acc: 0.79 - ETA: 35s - loss: 0.4371 - acc: 0.79 - ETA: 35s - loss: 0.4367 - acc: 0.79 - ETA: 35s - loss: 0.4365 - acc: 0.79 - ETA: 35s - loss: 0.4364 - acc: 0.79 - ETA: 34s - loss: 0.4365 - acc: 0.79 - ETA: 34s - loss: 0.4362 - acc: 0.79 - ETA: 34s - loss: 0.4361 - acc: 0.79 - ETA: 34s - loss: 0.4359 - acc: 0.79 - ETA: 34s - loss: 0.4358 - acc: 0.79 - ETA: 34s - loss: 0.4357 - acc: 0.79 - ETA: 34s - loss: 0.4354 - acc: 0.79 - ETA: 33s - loss: 0.4354 - acc: 0.79 - ETA: 33s - loss: 0.4352 - acc: 0.79 - ETA: 33s - loss: 0.4349 - acc: 0.79 - ETA: 33s - loss: 0.4346 - acc: 0.79 - ETA: 33s - loss: 0.4344 - acc: 0.79 - ETA: 33s - loss: 0.4341 - acc: 0.79 - ETA: 32s - loss: 0.4337 - acc: 0.79 - ETA: 32s - loss: 0.4335 - acc: 0.79 - ETA: 32s - loss: 0.4334 - acc: 0.79 - ETA: 32s - loss: 0.4333 - acc: 0.79 - ETA: 32s - loss: 0.4334 - acc: 0.79 - ETA: 32s - loss: 0.4335 - acc: 0.79 - ETA: 31s - loss: 0.4332 - acc: 0.79 - ETA: 31s - loss: 0.4330 - acc: 0.79 - ETA: 31s - loss: 0.4327 - acc: 0.79 - ETA: 31s - loss: 0.4329 - acc: 0.79 - ETA: 31s - loss: 0.4329 - acc: 0.79 - ETA: 31s - loss: 0.4327 - acc: 0.79 - ETA: 31s - loss: 0.4326 - acc: 0.79 - ETA: 30s - loss: 0.4323 - acc: 0.79 - ETA: 30s - loss: 0.4321 - acc: 0.79 - ETA: 30s - loss: 0.4318 - acc: 0.79 - ETA: 30s - loss: 0.4318 - acc: 0.79 - ETA: 30s - loss: 0.4315 - acc: 0.79 - ETA: 30s - loss: 0.4313 - acc: 0.79 - ETA: 30s - loss: 0.4315 - acc: 0.79 - ETA: 29s - loss: 0.4313 - acc: 0.79 - ETA: 29s - loss: 0.4311 - acc: 0.79 - ETA: 29s - loss: 0.4308 - acc: 0.79 - ETA: 29s - loss: 0.4306 - acc: 0.79 - ETA: 29s - loss: 0.4303 - acc: 0.79 - ETA: 29s - loss: 0.4300 - acc: 0.79 - ETA: 29s - loss: 0.4299 - acc: 0.79 - ETA: 29s - loss: 0.4297 - acc: 0.79 - ETA: 28s - loss: 0.4296 - acc: 0.79 - ETA: 28s - loss: 0.4299 - acc: 0.79 - ETA: 28s - loss: 0.4298 - acc: 0.79 - ETA: 28s - loss: 0.4298 - acc: 0.79 - ETA: 28s - loss: 0.4295 - acc: 0.79 - ETA: 28s - loss: 0.4294 - acc: 0.79 - ETA: 28s - loss: 0.4293 - acc: 0.79 - ETA: 27s - loss: 0.4291 - acc: 0.79 - ETA: 27s - loss: 0.4290 - acc: 0.79 - ETA: 27s - loss: 0.4289 - acc: 0.79 - ETA: 27s - loss: 0.4288 - acc: 0.79 - ETA: 27s - loss: 0.4285 - acc: 0.79 - ETA: 27s - loss: 0.4287 - acc: 0.79 - ETA: 26s - loss: 0.4286 - acc: 0.7993"
     ]
    },
    {
     "name": "stdout",
     "output_type": "stream",
     "text": [
      "25000/25000 [==============================] - ETA: 26s - loss: 0.4288 - acc: 0.79 - ETA: 26s - loss: 0.4286 - acc: 0.79 - ETA: 26s - loss: 0.4287 - acc: 0.79 - ETA: 26s - loss: 0.4284 - acc: 0.79 - ETA: 26s - loss: 0.4284 - acc: 0.79 - ETA: 25s - loss: 0.4280 - acc: 0.79 - ETA: 25s - loss: 0.4280 - acc: 0.79 - ETA: 25s - loss: 0.4280 - acc: 0.79 - ETA: 25s - loss: 0.4277 - acc: 0.79 - ETA: 25s - loss: 0.4278 - acc: 0.79 - ETA: 25s - loss: 0.4277 - acc: 0.79 - ETA: 24s - loss: 0.4275 - acc: 0.80 - ETA: 24s - loss: 0.4276 - acc: 0.79 - ETA: 24s - loss: 0.4275 - acc: 0.80 - ETA: 24s - loss: 0.4272 - acc: 0.80 - ETA: 24s - loss: 0.4273 - acc: 0.80 - ETA: 24s - loss: 0.4272 - acc: 0.80 - ETA: 23s - loss: 0.4270 - acc: 0.80 - ETA: 23s - loss: 0.4267 - acc: 0.80 - ETA: 23s - loss: 0.4264 - acc: 0.80 - ETA: 23s - loss: 0.4265 - acc: 0.80 - ETA: 23s - loss: 0.4261 - acc: 0.80 - ETA: 23s - loss: 0.4260 - acc: 0.80 - ETA: 22s - loss: 0.4260 - acc: 0.80 - ETA: 22s - loss: 0.4259 - acc: 0.80 - ETA: 22s - loss: 0.4256 - acc: 0.80 - ETA: 22s - loss: 0.4254 - acc: 0.80 - ETA: 22s - loss: 0.4251 - acc: 0.80 - ETA: 22s - loss: 0.4256 - acc: 0.80 - ETA: 21s - loss: 0.4251 - acc: 0.80 - ETA: 21s - loss: 0.4251 - acc: 0.80 - ETA: 21s - loss: 0.4249 - acc: 0.80 - ETA: 21s - loss: 0.4249 - acc: 0.80 - ETA: 21s - loss: 0.4250 - acc: 0.80 - ETA: 20s - loss: 0.4251 - acc: 0.80 - ETA: 20s - loss: 0.4251 - acc: 0.80 - ETA: 20s - loss: 0.4250 - acc: 0.80 - ETA: 20s - loss: 0.4249 - acc: 0.80 - ETA: 20s - loss: 0.4248 - acc: 0.80 - ETA: 20s - loss: 0.4248 - acc: 0.80 - ETA: 19s - loss: 0.4248 - acc: 0.80 - ETA: 19s - loss: 0.4247 - acc: 0.80 - ETA: 19s - loss: 0.4245 - acc: 0.80 - ETA: 19s - loss: 0.4245 - acc: 0.80 - ETA: 19s - loss: 0.4242 - acc: 0.80 - ETA: 19s - loss: 0.4242 - acc: 0.80 - ETA: 18s - loss: 0.4242 - acc: 0.80 - ETA: 18s - loss: 0.4241 - acc: 0.80 - ETA: 18s - loss: 0.4238 - acc: 0.80 - ETA: 18s - loss: 0.4234 - acc: 0.80 - ETA: 18s - loss: 0.4234 - acc: 0.80 - ETA: 18s - loss: 0.4233 - acc: 0.80 - ETA: 17s - loss: 0.4232 - acc: 0.80 - ETA: 17s - loss: 0.4228 - acc: 0.80 - ETA: 17s - loss: 0.4227 - acc: 0.80 - ETA: 17s - loss: 0.4225 - acc: 0.80 - ETA: 17s - loss: 0.4226 - acc: 0.80 - ETA: 17s - loss: 0.4231 - acc: 0.80 - ETA: 16s - loss: 0.4227 - acc: 0.80 - ETA: 16s - loss: 0.4224 - acc: 0.80 - ETA: 16s - loss: 0.4222 - acc: 0.80 - ETA: 16s - loss: 0.4219 - acc: 0.80 - ETA: 16s - loss: 0.4216 - acc: 0.80 - ETA: 16s - loss: 0.4212 - acc: 0.80 - ETA: 15s - loss: 0.4211 - acc: 0.80 - ETA: 15s - loss: 0.4208 - acc: 0.80 - ETA: 15s - loss: 0.4205 - acc: 0.80 - ETA: 15s - loss: 0.4202 - acc: 0.80 - ETA: 15s - loss: 0.4199 - acc: 0.80 - ETA: 15s - loss: 0.4198 - acc: 0.80 - ETA: 14s - loss: 0.4195 - acc: 0.80 - ETA: 14s - loss: 0.4194 - acc: 0.80 - ETA: 14s - loss: 0.4192 - acc: 0.80 - ETA: 14s - loss: 0.4189 - acc: 0.80 - ETA: 14s - loss: 0.4186 - acc: 0.80 - ETA: 14s - loss: 0.4186 - acc: 0.80 - ETA: 13s - loss: 0.4184 - acc: 0.80 - ETA: 13s - loss: 0.4181 - acc: 0.80 - ETA: 13s - loss: 0.4179 - acc: 0.80 - ETA: 13s - loss: 0.4179 - acc: 0.80 - ETA: 13s - loss: 0.4179 - acc: 0.80 - ETA: 13s - loss: 0.4175 - acc: 0.80 - ETA: 12s - loss: 0.4176 - acc: 0.80 - ETA: 12s - loss: 0.4174 - acc: 0.80 - ETA: 12s - loss: 0.4171 - acc: 0.80 - ETA: 12s - loss: 0.4172 - acc: 0.80 - ETA: 12s - loss: 0.4171 - acc: 0.80 - ETA: 12s - loss: 0.4170 - acc: 0.80 - ETA: 11s - loss: 0.4167 - acc: 0.80 - ETA: 11s - loss: 0.4167 - acc: 0.80 - ETA: 11s - loss: 0.4167 - acc: 0.80 - ETA: 11s - loss: 0.4167 - acc: 0.80 - ETA: 11s - loss: 0.4165 - acc: 0.80 - ETA: 11s - loss: 0.4165 - acc: 0.80 - ETA: 10s - loss: 0.4163 - acc: 0.80 - ETA: 10s - loss: 0.4163 - acc: 0.80 - ETA: 10s - loss: 0.4163 - acc: 0.80 - ETA: 10s - loss: 0.4162 - acc: 0.80 - ETA: 10s - loss: 0.4160 - acc: 0.80 - ETA: 10s - loss: 0.4158 - acc: 0.80 - ETA: 9s - loss: 0.4157 - acc: 0.8077 - ETA: 9s - loss: 0.4156 - acc: 0.807 - ETA: 9s - loss: 0.4154 - acc: 0.807 - ETA: 9s - loss: 0.4154 - acc: 0.807 - ETA: 9s - loss: 0.4153 - acc: 0.807 - ETA: 8s - loss: 0.4156 - acc: 0.807 - ETA: 8s - loss: 0.4157 - acc: 0.807 - ETA: 8s - loss: 0.4155 - acc: 0.807 - ETA: 8s - loss: 0.4154 - acc: 0.807 - ETA: 8s - loss: 0.4156 - acc: 0.807 - ETA: 8s - loss: 0.4156 - acc: 0.807 - ETA: 7s - loss: 0.4156 - acc: 0.807 - ETA: 7s - loss: 0.4155 - acc: 0.807 - ETA: 7s - loss: 0.4155 - acc: 0.807 - ETA: 7s - loss: 0.4157 - acc: 0.807 - ETA: 7s - loss: 0.4157 - acc: 0.807 - ETA: 7s - loss: 0.4155 - acc: 0.807 - ETA: 6s - loss: 0.4154 - acc: 0.807 - ETA: 6s - loss: 0.4152 - acc: 0.807 - ETA: 6s - loss: 0.4153 - acc: 0.808 - ETA: 6s - loss: 0.4151 - acc: 0.808 - ETA: 6s - loss: 0.4151 - acc: 0.808 - ETA: 6s - loss: 0.4150 - acc: 0.808 - ETA: 5s - loss: 0.4149 - acc: 0.808 - ETA: 5s - loss: 0.4146 - acc: 0.808 - ETA: 5s - loss: 0.4144 - acc: 0.808 - ETA: 5s - loss: 0.4143 - acc: 0.808 - ETA: 5s - loss: 0.4144 - acc: 0.808 - ETA: 5s - loss: 0.4147 - acc: 0.808 - ETA: 4s - loss: 0.4145 - acc: 0.808 - ETA: 4s - loss: 0.4143 - acc: 0.808 - ETA: 4s - loss: 0.4141 - acc: 0.808 - ETA: 4s - loss: 0.4138 - acc: 0.809 - ETA: 4s - loss: 0.4136 - acc: 0.809 - ETA: 4s - loss: 0.4137 - acc: 0.809 - ETA: 3s - loss: 0.4135 - acc: 0.809 - ETA: 3s - loss: 0.4133 - acc: 0.809 - ETA: 3s - loss: 0.4133 - acc: 0.809 - ETA: 3s - loss: 0.4134 - acc: 0.809 - ETA: 3s - loss: 0.4133 - acc: 0.809 - ETA: 3s - loss: 0.4132 - acc: 0.809 - ETA: 2s - loss: 0.4133 - acc: 0.809 - ETA: 2s - loss: 0.4131 - acc: 0.809 - ETA: 2s - loss: 0.4130 - acc: 0.809 - ETA: 2s - loss: 0.4129 - acc: 0.809 - ETA: 2s - loss: 0.4130 - acc: 0.809 - ETA: 2s - loss: 0.4131 - acc: 0.809 - ETA: 1s - loss: 0.4131 - acc: 0.809 - ETA: 1s - loss: 0.4130 - acc: 0.809 - ETA: 1s - loss: 0.4130 - acc: 0.809 - ETA: 1s - loss: 0.4129 - acc: 0.809 - ETA: 1s - loss: 0.4128 - acc: 0.809 - ETA: 1s - loss: 0.4126 - acc: 0.809 - ETA: 0s - loss: 0.4124 - acc: 0.809 - ETA: 0s - loss: 0.4123 - acc: 0.809 - ETA: 0s - loss: 0.4123 - acc: 0.809 - ETA: 0s - loss: 0.4122 - acc: 0.809 - ETA: 0s - loss: 0.4119 - acc: 0.810 - ETA: 0s - loss: 0.4116 - acc: 0.810 - 152s 6ms/step - loss: 0.4117 - acc: 0.8102 - val_loss: 0.3397 - val_acc: 0.8524\n",
      "Epoch 2/4\n"
     ]
    },
    {
     "name": "stdout",
     "output_type": "stream",
     "text": [
      " 6528/25000 [======>.......................] - ETA: 2:10 - loss: 0.1308 - acc: 0.968 - ETA: 2:09 - loss: 0.1917 - acc: 0.921 - ETA: 2:06 - loss: 0.1713 - acc: 0.927 - ETA: 2:05 - loss: 0.1675 - acc: 0.937 - ETA: 2:05 - loss: 0.1681 - acc: 0.943 - ETA: 2:03 - loss: 0.1731 - acc: 0.947 - ETA: 2:02 - loss: 0.1789 - acc: 0.937 - ETA: 2:02 - loss: 0.1817 - acc: 0.937 - ETA: 2:01 - loss: 0.1948 - acc: 0.934 - ETA: 2:02 - loss: 0.1969 - acc: 0.931 - ETA: 2:01 - loss: 0.2041 - acc: 0.929 - ETA: 2:01 - loss: 0.2060 - acc: 0.932 - ETA: 2:00 - loss: 0.2093 - acc: 0.932 - ETA: 2:00 - loss: 0.2090 - acc: 0.933 - ETA: 2:00 - loss: 0.2207 - acc: 0.927 - ETA: 2:00 - loss: 0.2184 - acc: 0.923 - ETA: 2:00 - loss: 0.2163 - acc: 0.924 - ETA: 1:59 - loss: 0.2179 - acc: 0.923 - ETA: 1:59 - loss: 0.2143 - acc: 0.924 - ETA: 1:59 - loss: 0.2067 - acc: 0.928 - ETA: 1:58 - loss: 0.2037 - acc: 0.928 - ETA: 1:58 - loss: 0.2074 - acc: 0.923 - ETA: 1:59 - loss: 0.2044 - acc: 0.923 - ETA: 1:59 - loss: 0.2016 - acc: 0.924 - ETA: 2:00 - loss: 0.2004 - acc: 0.926 - ETA: 2:00 - loss: 0.2060 - acc: 0.924 - ETA: 2:00 - loss: 0.2053 - acc: 0.923 - ETA: 2:01 - loss: 0.2122 - acc: 0.920 - ETA: 2:01 - loss: 0.2111 - acc: 0.920 - ETA: 2:01 - loss: 0.2138 - acc: 0.918 - ETA: 2:01 - loss: 0.2136 - acc: 0.918 - ETA: 2:01 - loss: 0.2284 - acc: 0.913 - ETA: 2:01 - loss: 0.2275 - acc: 0.914 - ETA: 2:00 - loss: 0.2250 - acc: 0.916 - ETA: 2:00 - loss: 0.2233 - acc: 0.917 - ETA: 2:01 - loss: 0.2211 - acc: 0.920 - ETA: 2:01 - loss: 0.2225 - acc: 0.918 - ETA: 2:01 - loss: 0.2234 - acc: 0.917 - ETA: 2:01 - loss: 0.2209 - acc: 0.919 - ETA: 2:01 - loss: 0.2186 - acc: 0.919 - ETA: 2:01 - loss: 0.2173 - acc: 0.920 - ETA: 2:02 - loss: 0.2167 - acc: 0.920 - ETA: 2:02 - loss: 0.2148 - acc: 0.920 - ETA: 2:02 - loss: 0.2137 - acc: 0.921 - ETA: 2:02 - loss: 0.2147 - acc: 0.921 - ETA: 2:02 - loss: 0.2128 - acc: 0.921 - ETA: 2:03 - loss: 0.2107 - acc: 0.922 - ETA: 2:03 - loss: 0.2101 - acc: 0.921 - ETA: 2:02 - loss: 0.2096 - acc: 0.921 - ETA: 2:03 - loss: 0.2083 - acc: 0.921 - ETA: 2:03 - loss: 0.2080 - acc: 0.921 - ETA: 2:03 - loss: 0.2090 - acc: 0.920 - ETA: 2:03 - loss: 0.2064 - acc: 0.922 - ETA: 2:03 - loss: 0.2051 - acc: 0.923 - ETA: 2:02 - loss: 0.2032 - acc: 0.923 - ETA: 2:02 - loss: 0.2075 - acc: 0.922 - ETA: 2:03 - loss: 0.2058 - acc: 0.923 - ETA: 2:03 - loss: 0.2066 - acc: 0.923 - ETA: 2:02 - loss: 0.2063 - acc: 0.922 - ETA: 2:02 - loss: 0.2054 - acc: 0.922 - ETA: 2:02 - loss: 0.2042 - acc: 0.923 - ETA: 2:02 - loss: 0.2050 - acc: 0.922 - ETA: 2:02 - loss: 0.2075 - acc: 0.921 - ETA: 2:01 - loss: 0.2073 - acc: 0.921 - ETA: 2:01 - loss: 0.2077 - acc: 0.920 - ETA: 2:01 - loss: 0.2088 - acc: 0.920 - ETA: 2:00 - loss: 0.2094 - acc: 0.920 - ETA: 2:00 - loss: 0.2112 - acc: 0.920 - ETA: 2:00 - loss: 0.2107 - acc: 0.920 - ETA: 1:59 - loss: 0.2102 - acc: 0.920 - ETA: 1:59 - loss: 0.2085 - acc: 0.921 - ETA: 1:59 - loss: 0.2086 - acc: 0.921 - ETA: 1:58 - loss: 0.2078 - acc: 0.921 - ETA: 1:58 - loss: 0.2097 - acc: 0.920 - ETA: 1:58 - loss: 0.2076 - acc: 0.921 - ETA: 1:57 - loss: 0.2063 - acc: 0.921 - ETA: 1:57 - loss: 0.2053 - acc: 0.921 - ETA: 1:57 - loss: 0.2044 - acc: 0.921 - ETA: 1:57 - loss: 0.2044 - acc: 0.922 - ETA: 1:56 - loss: 0.2021 - acc: 0.923 - ETA: 1:56 - loss: 0.2016 - acc: 0.923 - ETA: 1:56 - loss: 0.2076 - acc: 0.923 - ETA: 1:55 - loss: 0.2066 - acc: 0.923 - ETA: 1:55 - loss: 0.2062 - acc: 0.923 - ETA: 1:55 - loss: 0.2060 - acc: 0.923 - ETA: 1:55 - loss: 0.2056 - acc: 0.923 - ETA: 1:54 - loss: 0.2043 - acc: 0.924 - ETA: 1:54 - loss: 0.2051 - acc: 0.924 - ETA: 1:54 - loss: 0.2049 - acc: 0.924 - ETA: 1:54 - loss: 0.2032 - acc: 0.925 - ETA: 1:53 - loss: 0.2030 - acc: 0.925 - ETA: 1:53 - loss: 0.2017 - acc: 0.926 - ETA: 1:53 - loss: 0.2011 - acc: 0.926 - ETA: 1:53 - loss: 0.2011 - acc: 0.926 - ETA: 1:52 - loss: 0.2021 - acc: 0.926 - ETA: 1:52 - loss: 0.2011 - acc: 0.926 - ETA: 1:52 - loss: 0.2009 - acc: 0.926 - ETA: 1:52 - loss: 0.2007 - acc: 0.927 - ETA: 1:51 - loss: 0.2007 - acc: 0.926 - ETA: 1:52 - loss: 0.2025 - acc: 0.925 - ETA: 1:52 - loss: 0.2023 - acc: 0.926 - ETA: 1:51 - loss: 0.2026 - acc: 0.925 - ETA: 1:51 - loss: 0.2042 - acc: 0.925 - ETA: 1:51 - loss: 0.2046 - acc: 0.925 - ETA: 1:51 - loss: 0.2061 - acc: 0.925 - ETA: 1:51 - loss: 0.2064 - acc: 0.924 - ETA: 1:51 - loss: 0.2059 - acc: 0.925 - ETA: 1:50 - loss: 0.2062 - acc: 0.925 - ETA: 1:50 - loss: 0.2060 - acc: 0.925 - ETA: 1:50 - loss: 0.2065 - acc: 0.925 - ETA: 1:50 - loss: 0.2061 - acc: 0.925 - ETA: 1:50 - loss: 0.2059 - acc: 0.926 - ETA: 1:50 - loss: 0.2071 - acc: 0.925 - ETA: 1:50 - loss: 0.2066 - acc: 0.926 - ETA: 1:49 - loss: 0.2066 - acc: 0.926 - ETA: 1:49 - loss: 0.2060 - acc: 0.926 - ETA: 1:49 - loss: 0.2059 - acc: 0.926 - ETA: 1:49 - loss: 0.2058 - acc: 0.926 - ETA: 1:48 - loss: 0.2053 - acc: 0.926 - ETA: 1:48 - loss: 0.2053 - acc: 0.926 - ETA: 1:48 - loss: 0.2051 - acc: 0.926 - ETA: 1:48 - loss: 0.2037 - acc: 0.927 - ETA: 1:48 - loss: 0.2028 - acc: 0.927 - ETA: 1:47 - loss: 0.2045 - acc: 0.927 - ETA: 1:47 - loss: 0.2049 - acc: 0.927 - ETA: 1:47 - loss: 0.2043 - acc: 0.927 - ETA: 1:47 - loss: 0.2042 - acc: 0.927 - ETA: 1:46 - loss: 0.2047 - acc: 0.926 - ETA: 1:46 - loss: 0.2041 - acc: 0.926 - ETA: 1:46 - loss: 0.2041 - acc: 0.927 - ETA: 1:46 - loss: 0.2048 - acc: 0.927 - ETA: 1:46 - loss: 0.2047 - acc: 0.926 - ETA: 1:46 - loss: 0.2045 - acc: 0.926 - ETA: 1:45 - loss: 0.2038 - acc: 0.926 - ETA: 1:45 - loss: 0.2036 - acc: 0.926 - ETA: 1:45 - loss: 0.2035 - acc: 0.926 - ETA: 1:45 - loss: 0.2037 - acc: 0.926 - ETA: 1:45 - loss: 0.2037 - acc: 0.926 - ETA: 1:45 - loss: 0.2039 - acc: 0.926 - ETA: 1:44 - loss: 0.2034 - acc: 0.926 - ETA: 1:44 - loss: 0.2030 - acc: 0.926 - ETA: 1:44 - loss: 0.2027 - acc: 0.926 - ETA: 1:44 - loss: 0.2024 - acc: 0.926 - ETA: 1:44 - loss: 0.2020 - acc: 0.926 - ETA: 1:43 - loss: 0.2018 - acc: 0.927 - ETA: 1:43 - loss: 0.2010 - acc: 0.927 - ETA: 1:43 - loss: 0.2009 - acc: 0.927 - ETA: 1:43 - loss: 0.2004 - acc: 0.927 - ETA: 1:43 - loss: 0.2005 - acc: 0.927 - ETA: 1:42 - loss: 0.2003 - acc: 0.927 - ETA: 1:42 - loss: 0.1998 - acc: 0.927 - ETA: 1:42 - loss: 0.1996 - acc: 0.927 - ETA: 1:42 - loss: 0.1992 - acc: 0.927 - ETA: 1:42 - loss: 0.1996 - acc: 0.927 - ETA: 1:42 - loss: 0.1991 - acc: 0.928 - ETA: 1:41 - loss: 0.1993 - acc: 0.927 - ETA: 1:41 - loss: 0.1993 - acc: 0.927 - ETA: 1:41 - loss: 0.1983 - acc: 0.928 - ETA: 1:41 - loss: 0.1977 - acc: 0.928 - ETA: 1:41 - loss: 0.1973 - acc: 0.928 - ETA: 1:41 - loss: 0.1966 - acc: 0.929 - ETA: 1:40 - loss: 0.1968 - acc: 0.929 - ETA: 1:40 - loss: 0.1970 - acc: 0.929 - ETA: 1:40 - loss: 0.1963 - acc: 0.929 - ETA: 1:40 - loss: 0.1957 - acc: 0.929 - ETA: 1:40 - loss: 0.1952 - acc: 0.929 - ETA: 1:40 - loss: 0.1951 - acc: 0.929 - ETA: 1:40 - loss: 0.1957 - acc: 0.929 - ETA: 1:39 - loss: 0.1954 - acc: 0.929 - ETA: 1:39 - loss: 0.1961 - acc: 0.928 - ETA: 1:39 - loss: 0.1955 - acc: 0.929 - ETA: 1:39 - loss: 0.1952 - acc: 0.929 - ETA: 1:39 - loss: 0.1955 - acc: 0.928 - ETA: 1:39 - loss: 0.1958 - acc: 0.928 - ETA: 1:39 - loss: 0.1957 - acc: 0.928 - ETA: 1:38 - loss: 0.1957 - acc: 0.928 - ETA: 1:38 - loss: 0.1952 - acc: 0.929 - ETA: 1:38 - loss: 0.1952 - acc: 0.929 - ETA: 1:38 - loss: 0.1947 - acc: 0.929 - ETA: 1:38 - loss: 0.1949 - acc: 0.929 - ETA: 1:38 - loss: 0.1963 - acc: 0.928 - ETA: 1:37 - loss: 0.1963 - acc: 0.928 - ETA: 1:37 - loss: 0.1961 - acc: 0.928 - ETA: 1:37 - loss: 0.1969 - acc: 0.928 - ETA: 1:37 - loss: 0.1972 - acc: 0.928 - ETA: 1:37 - loss: 0.1972 - acc: 0.927 - ETA: 1:37 - loss: 0.1971 - acc: 0.928 - ETA: 1:37 - loss: 0.1969 - acc: 0.928 - ETA: 1:36 - loss: 0.1972 - acc: 0.927 - ETA: 1:36 - loss: 0.1977 - acc: 0.927 - ETA: 1:36 - loss: 0.1976 - acc: 0.927 - ETA: 1:36 - loss: 0.1982 - acc: 0.927 - ETA: 1:36 - loss: 0.1993 - acc: 0.926 - ETA: 1:36 - loss: 0.1990 - acc: 0.926 - ETA: 1:36 - loss: 0.1994 - acc: 0.926 - ETA: 1:35 - loss: 0.1999 - acc: 0.926 - ETA: 1:35 - loss: 0.2002 - acc: 0.926 - ETA: 1:35 - loss: 0.2004 - acc: 0.926 - ETA: 1:35 - loss: 0.2004 - acc: 0.926 - ETA: 1:35 - loss: 0.2002 - acc: 0.926 - ETA: 1:35 - loss: 0.2000 - acc: 0.926 - ETA: 1:35 - loss: 0.2001 - acc: 0.926 - ETA: 1:34 - loss: 0.1996 - acc: 0.926 - ETA: 1:34 - loss: 0.1993 - acc: 0.926813056/25000 [==============>...............] - ETA: 1:34 - loss: 0.1988 - acc: 0.926 - ETA: 1:34 - loss: 0.1990 - acc: 0.926 - ETA: 1:34 - loss: 0.1987 - acc: 0.926 - ETA: 1:34 - loss: 0.1993 - acc: 0.926 - ETA: 1:34 - loss: 0.1992 - acc: 0.926 - ETA: 1:33 - loss: 0.1999 - acc: 0.926 - ETA: 1:33 - loss: 0.2001 - acc: 0.926 - ETA: 1:33 - loss: 0.2004 - acc: 0.926 - ETA: 1:33 - loss: 0.2004 - acc: 0.926 - ETA: 1:33 - loss: 0.2012 - acc: 0.925 - ETA: 1:33 - loss: 0.2016 - acc: 0.925 - ETA: 1:33 - loss: 0.2019 - acc: 0.925 - ETA: 1:33 - loss: 0.2019 - acc: 0.925 - ETA: 1:32 - loss: 0.2017 - acc: 0.925 - ETA: 1:32 - loss: 0.2020 - acc: 0.925 - ETA: 1:32 - loss: 0.2020 - acc: 0.925 - ETA: 1:32 - loss: 0.2019 - acc: 0.925 - ETA: 1:32 - loss: 0.2017 - acc: 0.926 - ETA: 1:32 - loss: 0.2017 - acc: 0.926 - ETA: 1:32 - loss: 0.2019 - acc: 0.925 - ETA: 1:32 - loss: 0.2015 - acc: 0.926 - ETA: 1:32 - loss: 0.2018 - acc: 0.925 - ETA: 1:31 - loss: 0.2019 - acc: 0.925 - ETA: 1:31 - loss: 0.2023 - acc: 0.925 - ETA: 1:31 - loss: 0.2020 - acc: 0.925 - ETA: 1:31 - loss: 0.2021 - acc: 0.926 - ETA: 1:31 - loss: 0.2016 - acc: 0.926 - ETA: 1:30 - loss: 0.2017 - acc: 0.926 - ETA: 1:30 - loss: 0.2014 - acc: 0.926 - ETA: 1:30 - loss: 0.2023 - acc: 0.925 - ETA: 1:30 - loss: 0.2024 - acc: 0.925 - ETA: 1:30 - loss: 0.2022 - acc: 0.925 - ETA: 1:29 - loss: 0.2018 - acc: 0.926 - ETA: 1:29 - loss: 0.2020 - acc: 0.925 - ETA: 1:29 - loss: 0.2027 - acc: 0.925 - ETA: 1:29 - loss: 0.2024 - acc: 0.925 - ETA: 1:29 - loss: 0.2021 - acc: 0.926 - ETA: 1:29 - loss: 0.2016 - acc: 0.926 - ETA: 1:28 - loss: 0.2012 - acc: 0.926 - ETA: 1:28 - loss: 0.2011 - acc: 0.926 - ETA: 1:28 - loss: 0.2010 - acc: 0.926 - ETA: 1:28 - loss: 0.2010 - acc: 0.926 - ETA: 1:28 - loss: 0.2017 - acc: 0.926 - ETA: 1:28 - loss: 0.2014 - acc: 0.926 - ETA: 1:28 - loss: 0.2020 - acc: 0.926 - ETA: 1:28 - loss: 0.2031 - acc: 0.926 - ETA: 1:27 - loss: 0.2029 - acc: 0.926 - ETA: 1:27 - loss: 0.2028 - acc: 0.926 - ETA: 1:27 - loss: 0.2034 - acc: 0.926 - ETA: 1:27 - loss: 0.2030 - acc: 0.926 - ETA: 1:27 - loss: 0.2032 - acc: 0.926 - ETA: 1:27 - loss: 0.2036 - acc: 0.926 - ETA: 1:27 - loss: 0.2041 - acc: 0.925 - ETA: 1:26 - loss: 0.2039 - acc: 0.926 - ETA: 1:26 - loss: 0.2047 - acc: 0.925 - ETA: 1:26 - loss: 0.2047 - acc: 0.925 - ETA: 1:26 - loss: 0.2042 - acc: 0.925 - ETA: 1:26 - loss: 0.2047 - acc: 0.925 - ETA: 1:25 - loss: 0.2050 - acc: 0.925 - ETA: 1:25 - loss: 0.2050 - acc: 0.925 - ETA: 1:25 - loss: 0.2047 - acc: 0.925 - ETA: 1:25 - loss: 0.2046 - acc: 0.925 - ETA: 1:25 - loss: 0.2045 - acc: 0.925 - ETA: 1:25 - loss: 0.2046 - acc: 0.925 - ETA: 1:25 - loss: 0.2045 - acc: 0.925 - ETA: 1:24 - loss: 0.2043 - acc: 0.925 - ETA: 1:24 - loss: 0.2050 - acc: 0.924 - ETA: 1:24 - loss: 0.2049 - acc: 0.925 - ETA: 1:24 - loss: 0.2052 - acc: 0.924 - ETA: 1:24 - loss: 0.2049 - acc: 0.924 - ETA: 1:23 - loss: 0.2050 - acc: 0.924 - ETA: 1:23 - loss: 0.2047 - acc: 0.924 - ETA: 1:23 - loss: 0.2045 - acc: 0.924 - ETA: 1:23 - loss: 0.2040 - acc: 0.924 - ETA: 1:23 - loss: 0.2044 - acc: 0.924 - ETA: 1:23 - loss: 0.2049 - acc: 0.924 - ETA: 1:22 - loss: 0.2052 - acc: 0.924 - ETA: 1:22 - loss: 0.2064 - acc: 0.923 - ETA: 1:22 - loss: 0.2064 - acc: 0.923 - ETA: 1:22 - loss: 0.2064 - acc: 0.923 - ETA: 1:22 - loss: 0.2070 - acc: 0.923 - ETA: 1:22 - loss: 0.2071 - acc: 0.923 - ETA: 1:22 - loss: 0.2070 - acc: 0.923 - ETA: 1:21 - loss: 0.2067 - acc: 0.923 - ETA: 1:21 - loss: 0.2071 - acc: 0.923 - ETA: 1:21 - loss: 0.2070 - acc: 0.923 - ETA: 1:21 - loss: 0.2069 - acc: 0.923 - ETA: 1:21 - loss: 0.2073 - acc: 0.923 - ETA: 1:21 - loss: 0.2070 - acc: 0.923 - ETA: 1:20 - loss: 0.2067 - acc: 0.923 - ETA: 1:20 - loss: 0.2072 - acc: 0.923 - ETA: 1:20 - loss: 0.2072 - acc: 0.923 - ETA: 1:20 - loss: 0.2070 - acc: 0.923 - ETA: 1:20 - loss: 0.2066 - acc: 0.923 - ETA: 1:20 - loss: 0.2067 - acc: 0.923 - ETA: 1:19 - loss: 0.2074 - acc: 0.922 - ETA: 1:19 - loss: 0.2083 - acc: 0.922 - ETA: 1:19 - loss: 0.2091 - acc: 0.922 - ETA: 1:19 - loss: 0.2089 - acc: 0.922 - ETA: 1:19 - loss: 0.2092 - acc: 0.922 - ETA: 1:19 - loss: 0.2093 - acc: 0.922 - ETA: 1:18 - loss: 0.2094 - acc: 0.922 - ETA: 1:18 - loss: 0.2098 - acc: 0.922 - ETA: 1:18 - loss: 0.2099 - acc: 0.922 - ETA: 1:18 - loss: 0.2100 - acc: 0.922 - ETA: 1:18 - loss: 0.2103 - acc: 0.922 - ETA: 1:18 - loss: 0.2105 - acc: 0.921 - ETA: 1:18 - loss: 0.2104 - acc: 0.922 - ETA: 1:18 - loss: 0.2103 - acc: 0.921 - ETA: 1:17 - loss: 0.2102 - acc: 0.922 - ETA: 1:17 - loss: 0.2106 - acc: 0.922 - ETA: 1:17 - loss: 0.2105 - acc: 0.922 - ETA: 1:17 - loss: 0.2105 - acc: 0.921 - ETA: 1:17 - loss: 0.2104 - acc: 0.921 - ETA: 1:16 - loss: 0.2103 - acc: 0.921 - ETA: 1:16 - loss: 0.2109 - acc: 0.921 - ETA: 1:16 - loss: 0.2104 - acc: 0.921 - ETA: 1:16 - loss: 0.2102 - acc: 0.921 - ETA: 1:16 - loss: 0.2098 - acc: 0.921 - ETA: 1:15 - loss: 0.2102 - acc: 0.921 - ETA: 1:15 - loss: 0.2098 - acc: 0.921 - ETA: 1:15 - loss: 0.2093 - acc: 0.922 - ETA: 1:15 - loss: 0.2101 - acc: 0.921 - ETA: 1:15 - loss: 0.2104 - acc: 0.921 - ETA: 1:15 - loss: 0.2102 - acc: 0.921 - ETA: 1:14 - loss: 0.2100 - acc: 0.921 - ETA: 1:14 - loss: 0.2097 - acc: 0.921 - ETA: 1:14 - loss: 0.2094 - acc: 0.922 - ETA: 1:14 - loss: 0.2095 - acc: 0.922 - ETA: 1:14 - loss: 0.2093 - acc: 0.922 - ETA: 1:13 - loss: 0.2090 - acc: 0.922 - ETA: 1:13 - loss: 0.2089 - acc: 0.922 - ETA: 1:13 - loss: 0.2087 - acc: 0.922 - ETA: 1:13 - loss: 0.2088 - acc: 0.922 - ETA: 1:13 - loss: 0.2091 - acc: 0.922 - ETA: 1:13 - loss: 0.2090 - acc: 0.922 - ETA: 1:12 - loss: 0.2088 - acc: 0.922 - ETA: 1:12 - loss: 0.2085 - acc: 0.922 - ETA: 1:12 - loss: 0.2088 - acc: 0.922 - ETA: 1:12 - loss: 0.2093 - acc: 0.922 - ETA: 1:12 - loss: 0.2099 - acc: 0.921 - ETA: 1:11 - loss: 0.2098 - acc: 0.922 - ETA: 1:11 - loss: 0.2099 - acc: 0.921 - ETA: 1:11 - loss: 0.2100 - acc: 0.921 - ETA: 1:11 - loss: 0.2101 - acc: 0.921 - ETA: 1:11 - loss: 0.2100 - acc: 0.921 - ETA: 1:11 - loss: 0.2101 - acc: 0.921 - ETA: 1:10 - loss: 0.2102 - acc: 0.921 - ETA: 1:10 - loss: 0.2098 - acc: 0.921 - ETA: 1:10 - loss: 0.2098 - acc: 0.922 - ETA: 1:10 - loss: 0.2100 - acc: 0.921 - ETA: 1:10 - loss: 0.2104 - acc: 0.921 - ETA: 1:10 - loss: 0.2108 - acc: 0.921 - ETA: 1:10 - loss: 0.2113 - acc: 0.921 - ETA: 1:09 - loss: 0.2112 - acc: 0.921 - ETA: 1:09 - loss: 0.2111 - acc: 0.921 - ETA: 1:09 - loss: 0.2111 - acc: 0.921 - ETA: 1:09 - loss: 0.2113 - acc: 0.920 - ETA: 1:09 - loss: 0.2110 - acc: 0.921 - ETA: 1:09 - loss: 0.2113 - acc: 0.920 - ETA: 1:09 - loss: 0.2115 - acc: 0.920 - ETA: 1:09 - loss: 0.2119 - acc: 0.920 - ETA: 1:08 - loss: 0.2117 - acc: 0.920 - ETA: 1:08 - loss: 0.2115 - acc: 0.920 - ETA: 1:08 - loss: 0.2112 - acc: 0.920 - ETA: 1:08 - loss: 0.2111 - acc: 0.920 - ETA: 1:08 - loss: 0.2108 - acc: 0.921 - ETA: 1:07 - loss: 0.2107 - acc: 0.921 - ETA: 1:07 - loss: 0.2105 - acc: 0.921 - ETA: 1:07 - loss: 0.2107 - acc: 0.921 - ETA: 1:07 - loss: 0.2106 - acc: 0.921 - ETA: 1:07 - loss: 0.2107 - acc: 0.921 - ETA: 1:07 - loss: 0.2106 - acc: 0.921 - ETA: 1:06 - loss: 0.2107 - acc: 0.921 - ETA: 1:06 - loss: 0.2105 - acc: 0.921 - ETA: 1:06 - loss: 0.2106 - acc: 0.921 - ETA: 1:06 - loss: 0.2108 - acc: 0.920 - ETA: 1:06 - loss: 0.2108 - acc: 0.920 - ETA: 1:06 - loss: 0.2108 - acc: 0.920 - ETA: 1:05 - loss: 0.2105 - acc: 0.921 - ETA: 1:05 - loss: 0.2102 - acc: 0.921 - ETA: 1:05 - loss: 0.2101 - acc: 0.921 - ETA: 1:05 - loss: 0.2101 - acc: 0.920 - ETA: 1:05 - loss: 0.2104 - acc: 0.920 - ETA: 1:05 - loss: 0.2101 - acc: 0.920 - ETA: 1:04 - loss: 0.2101 - acc: 0.920 - ETA: 1:04 - loss: 0.2101 - acc: 0.920 - ETA: 1:04 - loss: 0.2101 - acc: 0.920 - ETA: 1:04 - loss: 0.2101 - acc: 0.920 - ETA: 1:04 - loss: 0.2103 - acc: 0.920 - ETA: 1:04 - loss: 0.2101 - acc: 0.920 - ETA: 1:03 - loss: 0.2100 - acc: 0.920 - ETA: 1:03 - loss: 0.2099 - acc: 0.920 - ETA: 1:03 - loss: 0.2098 - acc: 0.920 - ETA: 1:03 - loss: 0.2095 - acc: 0.920 - ETA: 1:03 - loss: 0.2093 - acc: 0.920 - ETA: 1:03 - loss: 0.2094 - acc: 0.920 - ETA: 1:03 - loss: 0.2096 - acc: 0.920 - ETA: 1:02 - loss: 0.2094 - acc: 0.920 - ETA: 1:02 - loss: 0.2091 - acc: 0.920 - ETA: 1:02 - loss: 0.2088 - acc: 0.921 - ETA: 1:02 - loss: 0.2088 - acc: 0.921 - ETA: 1:02 - loss: 0.2091 - acc: 0.921 - ETA: 1:02 - loss: 0.2093 - acc: 0.921319904/25000 [======================>.......] - ETA: 1:02 - loss: 0.2101 - acc: 0.921 - ETA: 1:01 - loss: 0.2105 - acc: 0.921 - ETA: 1:01 - loss: 0.2104 - acc: 0.921 - ETA: 1:01 - loss: 0.2100 - acc: 0.921 - ETA: 1:01 - loss: 0.2100 - acc: 0.921 - ETA: 1:01 - loss: 0.2101 - acc: 0.921 - ETA: 1:01 - loss: 0.2098 - acc: 0.921 - ETA: 1:00 - loss: 0.2104 - acc: 0.921 - ETA: 1:00 - loss: 0.2104 - acc: 0.921 - ETA: 1:00 - loss: 0.2108 - acc: 0.920 - ETA: 1:00 - loss: 0.2109 - acc: 0.920 - ETA: 1:00 - loss: 0.2110 - acc: 0.920 - ETA: 1:00 - loss: 0.2114 - acc: 0.920 - ETA: 59s - loss: 0.2116 - acc: 0.920 - ETA: 59s - loss: 0.2117 - acc: 0.92 - ETA: 59s - loss: 0.2117 - acc: 0.92 - ETA: 59s - loss: 0.2118 - acc: 0.91 - ETA: 59s - loss: 0.2117 - acc: 0.91 - ETA: 58s - loss: 0.2118 - acc: 0.91 - ETA: 58s - loss: 0.2117 - acc: 0.91 - ETA: 58s - loss: 0.2115 - acc: 0.91 - ETA: 58s - loss: 0.2114 - acc: 0.91 - ETA: 58s - loss: 0.2113 - acc: 0.92 - ETA: 58s - loss: 0.2113 - acc: 0.91 - ETA: 57s - loss: 0.2117 - acc: 0.91 - ETA: 57s - loss: 0.2114 - acc: 0.91 - ETA: 57s - loss: 0.2115 - acc: 0.91 - ETA: 57s - loss: 0.2120 - acc: 0.91 - ETA: 57s - loss: 0.2125 - acc: 0.91 - ETA: 56s - loss: 0.2124 - acc: 0.91 - ETA: 56s - loss: 0.2127 - acc: 0.91 - ETA: 56s - loss: 0.2133 - acc: 0.91 - ETA: 56s - loss: 0.2134 - acc: 0.91 - ETA: 56s - loss: 0.2141 - acc: 0.91 - ETA: 56s - loss: 0.2142 - acc: 0.91 - ETA: 56s - loss: 0.2141 - acc: 0.91 - ETA: 55s - loss: 0.2140 - acc: 0.91 - ETA: 55s - loss: 0.2141 - acc: 0.91 - ETA: 55s - loss: 0.2142 - acc: 0.91 - ETA: 55s - loss: 0.2142 - acc: 0.91 - ETA: 55s - loss: 0.2143 - acc: 0.91 - ETA: 54s - loss: 0.2143 - acc: 0.91 - ETA: 54s - loss: 0.2144 - acc: 0.91 - ETA: 54s - loss: 0.2144 - acc: 0.91 - ETA: 54s - loss: 0.2143 - acc: 0.91 - ETA: 54s - loss: 0.2141 - acc: 0.91 - ETA: 54s - loss: 0.2140 - acc: 0.91 - ETA: 53s - loss: 0.2139 - acc: 0.91 - ETA: 53s - loss: 0.2140 - acc: 0.91 - ETA: 53s - loss: 0.2140 - acc: 0.91 - ETA: 53s - loss: 0.2140 - acc: 0.91 - ETA: 53s - loss: 0.2137 - acc: 0.91 - ETA: 52s - loss: 0.2138 - acc: 0.91 - ETA: 52s - loss: 0.2138 - acc: 0.91 - ETA: 52s - loss: 0.2140 - acc: 0.91 - ETA: 52s - loss: 0.2138 - acc: 0.91 - ETA: 52s - loss: 0.2139 - acc: 0.91 - ETA: 52s - loss: 0.2137 - acc: 0.91 - ETA: 51s - loss: 0.2137 - acc: 0.91 - ETA: 51s - loss: 0.2136 - acc: 0.91 - ETA: 51s - loss: 0.2137 - acc: 0.91 - ETA: 51s - loss: 0.2135 - acc: 0.91 - ETA: 51s - loss: 0.2135 - acc: 0.91 - ETA: 51s - loss: 0.2132 - acc: 0.91 - ETA: 50s - loss: 0.2130 - acc: 0.91 - ETA: 50s - loss: 0.2127 - acc: 0.91 - ETA: 50s - loss: 0.2129 - acc: 0.91 - ETA: 50s - loss: 0.2129 - acc: 0.91 - ETA: 50s - loss: 0.2131 - acc: 0.91 - ETA: 49s - loss: 0.2136 - acc: 0.91 - ETA: 49s - loss: 0.2135 - acc: 0.91 - ETA: 49s - loss: 0.2135 - acc: 0.91 - ETA: 49s - loss: 0.2138 - acc: 0.91 - ETA: 49s - loss: 0.2137 - acc: 0.91 - ETA: 49s - loss: 0.2138 - acc: 0.91 - ETA: 48s - loss: 0.2139 - acc: 0.91 - ETA: 48s - loss: 0.2141 - acc: 0.91 - ETA: 48s - loss: 0.2145 - acc: 0.91 - ETA: 48s - loss: 0.2147 - acc: 0.91 - ETA: 48s - loss: 0.2146 - acc: 0.91 - ETA: 48s - loss: 0.2145 - acc: 0.91 - ETA: 47s - loss: 0.2147 - acc: 0.91 - ETA: 47s - loss: 0.2148 - acc: 0.91 - ETA: 47s - loss: 0.2147 - acc: 0.91 - ETA: 47s - loss: 0.2147 - acc: 0.91 - ETA: 47s - loss: 0.2151 - acc: 0.91 - ETA: 46s - loss: 0.2154 - acc: 0.91 - ETA: 46s - loss: 0.2153 - acc: 0.91 - ETA: 46s - loss: 0.2152 - acc: 0.91 - ETA: 46s - loss: 0.2152 - acc: 0.91 - ETA: 46s - loss: 0.2150 - acc: 0.91 - ETA: 46s - loss: 0.2148 - acc: 0.91 - ETA: 46s - loss: 0.2148 - acc: 0.91 - ETA: 45s - loss: 0.2147 - acc: 0.91 - ETA: 45s - loss: 0.2151 - acc: 0.91 - ETA: 45s - loss: 0.2154 - acc: 0.91 - ETA: 45s - loss: 0.2151 - acc: 0.91 - ETA: 45s - loss: 0.2151 - acc: 0.91 - ETA: 45s - loss: 0.2150 - acc: 0.91 - ETA: 44s - loss: 0.2149 - acc: 0.91 - ETA: 44s - loss: 0.2151 - acc: 0.91 - ETA: 44s - loss: 0.2151 - acc: 0.91 - ETA: 44s - loss: 0.2151 - acc: 0.91 - ETA: 44s - loss: 0.2149 - acc: 0.91 - ETA: 44s - loss: 0.2154 - acc: 0.91 - ETA: 44s - loss: 0.2153 - acc: 0.91 - ETA: 43s - loss: 0.2163 - acc: 0.91 - ETA: 43s - loss: 0.2163 - acc: 0.91 - ETA: 43s - loss: 0.2163 - acc: 0.91 - ETA: 43s - loss: 0.2161 - acc: 0.91 - ETA: 43s - loss: 0.2163 - acc: 0.91 - ETA: 43s - loss: 0.2165 - acc: 0.91 - ETA: 43s - loss: 0.2165 - acc: 0.91 - ETA: 42s - loss: 0.2167 - acc: 0.91 - ETA: 42s - loss: 0.2167 - acc: 0.91 - ETA: 42s - loss: 0.2168 - acc: 0.91 - ETA: 42s - loss: 0.2172 - acc: 0.91 - ETA: 42s - loss: 0.2172 - acc: 0.91 - ETA: 42s - loss: 0.2171 - acc: 0.91 - ETA: 41s - loss: 0.2170 - acc: 0.91 - ETA: 41s - loss: 0.2172 - acc: 0.91 - ETA: 41s - loss: 0.2176 - acc: 0.91 - ETA: 41s - loss: 0.2179 - acc: 0.91 - ETA: 41s - loss: 0.2183 - acc: 0.91 - ETA: 41s - loss: 0.2183 - acc: 0.91 - ETA: 41s - loss: 0.2183 - acc: 0.91 - ETA: 40s - loss: 0.2182 - acc: 0.91 - ETA: 40s - loss: 0.2182 - acc: 0.91 - ETA: 40s - loss: 0.2179 - acc: 0.91 - ETA: 40s - loss: 0.2178 - acc: 0.91 - ETA: 40s - loss: 0.2176 - acc: 0.91 - ETA: 40s - loss: 0.2176 - acc: 0.91 - ETA: 39s - loss: 0.2176 - acc: 0.91 - ETA: 39s - loss: 0.2174 - acc: 0.91 - ETA: 39s - loss: 0.2176 - acc: 0.91 - ETA: 39s - loss: 0.2179 - acc: 0.91 - ETA: 39s - loss: 0.2180 - acc: 0.91 - ETA: 39s - loss: 0.2183 - acc: 0.91 - ETA: 38s - loss: 0.2182 - acc: 0.91 - ETA: 38s - loss: 0.2186 - acc: 0.91 - ETA: 38s - loss: 0.2185 - acc: 0.91 - ETA: 38s - loss: 0.2187 - acc: 0.91 - ETA: 38s - loss: 0.2184 - acc: 0.91 - ETA: 38s - loss: 0.2184 - acc: 0.91 - ETA: 37s - loss: 0.2185 - acc: 0.91 - ETA: 37s - loss: 0.2184 - acc: 0.91 - ETA: 37s - loss: 0.2187 - acc: 0.91 - ETA: 37s - loss: 0.2187 - acc: 0.91 - ETA: 37s - loss: 0.2185 - acc: 0.91 - ETA: 37s - loss: 0.2184 - acc: 0.91 - ETA: 36s - loss: 0.2185 - acc: 0.91 - ETA: 36s - loss: 0.2187 - acc: 0.91 - ETA: 36s - loss: 0.2187 - acc: 0.91 - ETA: 36s - loss: 0.2189 - acc: 0.91 - ETA: 36s - loss: 0.2187 - acc: 0.91 - ETA: 36s - loss: 0.2186 - acc: 0.91 - ETA: 35s - loss: 0.2186 - acc: 0.91 - ETA: 35s - loss: 0.2188 - acc: 0.91 - ETA: 35s - loss: 0.2190 - acc: 0.91 - ETA: 35s - loss: 0.2190 - acc: 0.91 - ETA: 35s - loss: 0.2193 - acc: 0.91 - ETA: 35s - loss: 0.2196 - acc: 0.91 - ETA: 34s - loss: 0.2197 - acc: 0.91 - ETA: 34s - loss: 0.2197 - acc: 0.91 - ETA: 34s - loss: 0.2198 - acc: 0.91 - ETA: 34s - loss: 0.2197 - acc: 0.91 - ETA: 34s - loss: 0.2197 - acc: 0.91 - ETA: 34s - loss: 0.2197 - acc: 0.91 - ETA: 33s - loss: 0.2195 - acc: 0.91 - ETA: 33s - loss: 0.2196 - acc: 0.91 - ETA: 33s - loss: 0.2194 - acc: 0.91 - ETA: 33s - loss: 0.2195 - acc: 0.91 - ETA: 33s - loss: 0.2196 - acc: 0.91 - ETA: 33s - loss: 0.2195 - acc: 0.91 - ETA: 32s - loss: 0.2196 - acc: 0.91 - ETA: 32s - loss: 0.2196 - acc: 0.91 - ETA: 32s - loss: 0.2194 - acc: 0.91 - ETA: 32s - loss: 0.2194 - acc: 0.91 - ETA: 32s - loss: 0.2194 - acc: 0.91 - ETA: 32s - loss: 0.2198 - acc: 0.91 - ETA: 32s - loss: 0.2197 - acc: 0.91 - ETA: 31s - loss: 0.2195 - acc: 0.91 - ETA: 31s - loss: 0.2197 - acc: 0.91 - ETA: 31s - loss: 0.2197 - acc: 0.91 - ETA: 31s - loss: 0.2197 - acc: 0.91 - ETA: 31s - loss: 0.2197 - acc: 0.91 - ETA: 31s - loss: 0.2200 - acc: 0.91 - ETA: 30s - loss: 0.2202 - acc: 0.91 - ETA: 30s - loss: 0.2201 - acc: 0.91 - ETA: 30s - loss: 0.2202 - acc: 0.91 - ETA: 30s - loss: 0.2204 - acc: 0.91 - ETA: 30s - loss: 0.2205 - acc: 0.91 - ETA: 30s - loss: 0.2204 - acc: 0.91 - ETA: 29s - loss: 0.2203 - acc: 0.91 - ETA: 29s - loss: 0.2203 - acc: 0.91 - ETA: 29s - loss: 0.2202 - acc: 0.91 - ETA: 29s - loss: 0.2202 - acc: 0.91 - ETA: 29s - loss: 0.2205 - acc: 0.91 - ETA: 29s - loss: 0.2206 - acc: 0.91 - ETA: 28s - loss: 0.2205 - acc: 0.91 - ETA: 28s - loss: 0.2207 - acc: 0.91 - ETA: 28s - loss: 0.2208 - acc: 0.91 - ETA: 28s - loss: 0.2208 - acc: 0.91 - ETA: 28s - loss: 0.2206 - acc: 0.91 - ETA: 28s - loss: 0.2205 - acc: 0.91 - ETA: 28s - loss: 0.2206 - acc: 0.91 - ETA: 27s - loss: 0.2207 - acc: 0.91 - ETA: 27s - loss: 0.2206 - acc: 0.91 - ETA: 27s - loss: 0.2205 - acc: 0.91 - ETA: 27s - loss: 0.2205 - acc: 0.91 - ETA: 27s - loss: 0.2205 - acc: 0.91 - ETA: 27s - loss: 0.2206 - acc: 0.91 - ETA: 26s - loss: 0.2208 - acc: 0.91 - ETA: 26s - loss: 0.2207 - acc: 0.9152"
     ]
    },
    {
     "name": "stdout",
     "output_type": "stream",
     "text": [
      "25000/25000 [==============================] - ETA: 26s - loss: 0.2206 - acc: 0.91 - ETA: 26s - loss: 0.2206 - acc: 0.91 - ETA: 26s - loss: 0.2206 - acc: 0.91 - ETA: 26s - loss: 0.2210 - acc: 0.91 - ETA: 25s - loss: 0.2211 - acc: 0.91 - ETA: 25s - loss: 0.2209 - acc: 0.91 - ETA: 25s - loss: 0.2210 - acc: 0.91 - ETA: 25s - loss: 0.2210 - acc: 0.91 - ETA: 25s - loss: 0.2210 - acc: 0.91 - ETA: 25s - loss: 0.2209 - acc: 0.91 - ETA: 24s - loss: 0.2209 - acc: 0.91 - ETA: 24s - loss: 0.2208 - acc: 0.91 - ETA: 24s - loss: 0.2208 - acc: 0.91 - ETA: 24s - loss: 0.2210 - acc: 0.91 - ETA: 24s - loss: 0.2212 - acc: 0.91 - ETA: 24s - loss: 0.2213 - acc: 0.91 - ETA: 23s - loss: 0.2215 - acc: 0.91 - ETA: 23s - loss: 0.2215 - acc: 0.91 - ETA: 23s - loss: 0.2215 - acc: 0.91 - ETA: 23s - loss: 0.2218 - acc: 0.91 - ETA: 23s - loss: 0.2217 - acc: 0.91 - ETA: 23s - loss: 0.2216 - acc: 0.91 - ETA: 22s - loss: 0.2218 - acc: 0.91 - ETA: 22s - loss: 0.2217 - acc: 0.91 - ETA: 22s - loss: 0.2220 - acc: 0.91 - ETA: 22s - loss: 0.2221 - acc: 0.91 - ETA: 22s - loss: 0.2219 - acc: 0.91 - ETA: 22s - loss: 0.2218 - acc: 0.91 - ETA: 21s - loss: 0.2221 - acc: 0.91 - ETA: 21s - loss: 0.2221 - acc: 0.91 - ETA: 21s - loss: 0.2221 - acc: 0.91 - ETA: 21s - loss: 0.2220 - acc: 0.91 - ETA: 21s - loss: 0.2221 - acc: 0.91 - ETA: 21s - loss: 0.2222 - acc: 0.91 - ETA: 20s - loss: 0.2221 - acc: 0.91 - ETA: 20s - loss: 0.2221 - acc: 0.91 - ETA: 20s - loss: 0.2220 - acc: 0.91 - ETA: 20s - loss: 0.2218 - acc: 0.91 - ETA: 20s - loss: 0.2220 - acc: 0.91 - ETA: 20s - loss: 0.2221 - acc: 0.91 - ETA: 19s - loss: 0.2220 - acc: 0.91 - ETA: 19s - loss: 0.2224 - acc: 0.91 - ETA: 19s - loss: 0.2224 - acc: 0.91 - ETA: 19s - loss: 0.2223 - acc: 0.91 - ETA: 19s - loss: 0.2222 - acc: 0.91 - ETA: 19s - loss: 0.2221 - acc: 0.91 - ETA: 18s - loss: 0.2221 - acc: 0.91 - ETA: 18s - loss: 0.2220 - acc: 0.91 - ETA: 18s - loss: 0.2223 - acc: 0.91 - ETA: 18s - loss: 0.2224 - acc: 0.91 - ETA: 18s - loss: 0.2225 - acc: 0.91 - ETA: 18s - loss: 0.2226 - acc: 0.91 - ETA: 17s - loss: 0.2226 - acc: 0.91 - ETA: 17s - loss: 0.2227 - acc: 0.91 - ETA: 17s - loss: 0.2229 - acc: 0.91 - ETA: 17s - loss: 0.2229 - acc: 0.91 - ETA: 17s - loss: 0.2228 - acc: 0.91 - ETA: 17s - loss: 0.2228 - acc: 0.91 - ETA: 16s - loss: 0.2227 - acc: 0.91 - ETA: 16s - loss: 0.2227 - acc: 0.91 - ETA: 16s - loss: 0.2227 - acc: 0.91 - ETA: 16s - loss: 0.2230 - acc: 0.91 - ETA: 16s - loss: 0.2229 - acc: 0.91 - ETA: 16s - loss: 0.2230 - acc: 0.91 - ETA: 15s - loss: 0.2231 - acc: 0.91 - ETA: 15s - loss: 0.2231 - acc: 0.91 - ETA: 15s - loss: 0.2230 - acc: 0.91 - ETA: 15s - loss: 0.2229 - acc: 0.91 - ETA: 15s - loss: 0.2228 - acc: 0.91 - ETA: 15s - loss: 0.2228 - acc: 0.91 - ETA: 14s - loss: 0.2228 - acc: 0.91 - ETA: 14s - loss: 0.2227 - acc: 0.91 - ETA: 14s - loss: 0.2226 - acc: 0.91 - ETA: 14s - loss: 0.2225 - acc: 0.91 - ETA: 14s - loss: 0.2224 - acc: 0.91 - ETA: 14s - loss: 0.2224 - acc: 0.91 - ETA: 13s - loss: 0.2224 - acc: 0.91 - ETA: 13s - loss: 0.2223 - acc: 0.91 - ETA: 13s - loss: 0.2224 - acc: 0.91 - ETA: 13s - loss: 0.2223 - acc: 0.91 - ETA: 13s - loss: 0.2224 - acc: 0.91 - ETA: 13s - loss: 0.2225 - acc: 0.91 - ETA: 12s - loss: 0.2223 - acc: 0.91 - ETA: 12s - loss: 0.2225 - acc: 0.91 - ETA: 12s - loss: 0.2226 - acc: 0.91 - ETA: 12s - loss: 0.2225 - acc: 0.91 - ETA: 12s - loss: 0.2224 - acc: 0.91 - ETA: 11s - loss: 0.2223 - acc: 0.91 - ETA: 11s - loss: 0.2223 - acc: 0.91 - ETA: 11s - loss: 0.2223 - acc: 0.91 - ETA: 11s - loss: 0.2223 - acc: 0.91 - ETA: 11s - loss: 0.2223 - acc: 0.91 - ETA: 11s - loss: 0.2222 - acc: 0.91 - ETA: 10s - loss: 0.2222 - acc: 0.91 - ETA: 10s - loss: 0.2221 - acc: 0.91 - ETA: 10s - loss: 0.2220 - acc: 0.91 - ETA: 10s - loss: 0.2221 - acc: 0.91 - ETA: 10s - loss: 0.2219 - acc: 0.91 - ETA: 10s - loss: 0.2220 - acc: 0.91 - ETA: 9s - loss: 0.2219 - acc: 0.9140 - ETA: 9s - loss: 0.2220 - acc: 0.914 - ETA: 9s - loss: 0.2221 - acc: 0.913 - ETA: 9s - loss: 0.2224 - acc: 0.913 - ETA: 9s - loss: 0.2222 - acc: 0.913 - ETA: 9s - loss: 0.2223 - acc: 0.913 - ETA: 8s - loss: 0.2223 - acc: 0.913 - ETA: 8s - loss: 0.2222 - acc: 0.913 - ETA: 8s - loss: 0.2222 - acc: 0.913 - ETA: 8s - loss: 0.2223 - acc: 0.913 - ETA: 8s - loss: 0.2225 - acc: 0.913 - ETA: 8s - loss: 0.2224 - acc: 0.913 - ETA: 7s - loss: 0.2224 - acc: 0.913 - ETA: 7s - loss: 0.2224 - acc: 0.913 - ETA: 7s - loss: 0.2226 - acc: 0.913 - ETA: 7s - loss: 0.2225 - acc: 0.913 - ETA: 7s - loss: 0.2226 - acc: 0.913 - ETA: 7s - loss: 0.2227 - acc: 0.913 - ETA: 6s - loss: 0.2228 - acc: 0.913 - ETA: 6s - loss: 0.2230 - acc: 0.913 - ETA: 6s - loss: 0.2230 - acc: 0.913 - ETA: 6s - loss: 0.2232 - acc: 0.913 - ETA: 6s - loss: 0.2232 - acc: 0.913 - ETA: 6s - loss: 0.2232 - acc: 0.913 - ETA: 5s - loss: 0.2231 - acc: 0.913 - ETA: 5s - loss: 0.2230 - acc: 0.913 - ETA: 5s - loss: 0.2230 - acc: 0.913 - ETA: 5s - loss: 0.2229 - acc: 0.913 - ETA: 5s - loss: 0.2229 - acc: 0.913 - ETA: 5s - loss: 0.2229 - acc: 0.913 - ETA: 4s - loss: 0.2228 - acc: 0.913 - ETA: 4s - loss: 0.2227 - acc: 0.913 - ETA: 4s - loss: 0.2226 - acc: 0.913 - ETA: 4s - loss: 0.2226 - acc: 0.913 - ETA: 4s - loss: 0.2225 - acc: 0.913 - ETA: 4s - loss: 0.2229 - acc: 0.913 - ETA: 3s - loss: 0.2231 - acc: 0.913 - ETA: 3s - loss: 0.2234 - acc: 0.913 - ETA: 3s - loss: 0.2236 - acc: 0.913 - ETA: 3s - loss: 0.2237 - acc: 0.913 - ETA: 3s - loss: 0.2237 - acc: 0.912 - ETA: 3s - loss: 0.2239 - acc: 0.912 - ETA: 2s - loss: 0.2241 - acc: 0.912 - ETA: 2s - loss: 0.2241 - acc: 0.912 - ETA: 2s - loss: 0.2240 - acc: 0.912 - ETA: 2s - loss: 0.2240 - acc: 0.912 - ETA: 2s - loss: 0.2240 - acc: 0.912 - ETA: 2s - loss: 0.2241 - acc: 0.912 - ETA: 1s - loss: 0.2241 - acc: 0.912 - ETA: 1s - loss: 0.2242 - acc: 0.912 - ETA: 1s - loss: 0.2243 - acc: 0.912 - ETA: 1s - loss: 0.2243 - acc: 0.912 - ETA: 1s - loss: 0.2243 - acc: 0.912 - ETA: 1s - loss: 0.2244 - acc: 0.912 - ETA: 0s - loss: 0.2245 - acc: 0.912 - ETA: 0s - loss: 0.2246 - acc: 0.912 - ETA: 0s - loss: 0.2245 - acc: 0.912 - ETA: 0s - loss: 0.2246 - acc: 0.912 - ETA: 0s - loss: 0.2248 - acc: 0.912 - ETA: 0s - loss: 0.2247 - acc: 0.912 - 151s 6ms/step - loss: 0.2246 - acc: 0.9126 - val_loss: 0.3890 - val_acc: 0.8468\n",
      "Epoch 3/4\n"
     ]
    },
    {
     "name": "stdout",
     "output_type": "stream",
     "text": [
      " 6528/25000 [======>.......................] - ETA: 2:05 - loss: 0.0988 - acc: 1.000 - ETA: 2:03 - loss: 0.0723 - acc: 1.000 - ETA: 2:03 - loss: 0.0668 - acc: 0.989 - ETA: 2:03 - loss: 0.1107 - acc: 0.968 - ETA: 2:05 - loss: 0.1002 - acc: 0.975 - ETA: 2:04 - loss: 0.1088 - acc: 0.968 - ETA: 2:04 - loss: 0.1061 - acc: 0.968 - ETA: 2:03 - loss: 0.1166 - acc: 0.968 - ETA: 2:03 - loss: 0.1548 - acc: 0.958 - ETA: 2:02 - loss: 0.1439 - acc: 0.962 - ETA: 2:02 - loss: 0.1361 - acc: 0.965 - ETA: 2:02 - loss: 0.1346 - acc: 0.963 - ETA: 2:02 - loss: 0.1298 - acc: 0.966 - ETA: 2:02 - loss: 0.1611 - acc: 0.950 - ETA: 2:02 - loss: 0.1590 - acc: 0.952 - ETA: 2:02 - loss: 0.1549 - acc: 0.953 - ETA: 2:01 - loss: 0.1486 - acc: 0.955 - ETA: 2:01 - loss: 0.1449 - acc: 0.958 - ETA: 2:01 - loss: 0.1427 - acc: 0.958 - ETA: 2:01 - loss: 0.1382 - acc: 0.959 - ETA: 2:01 - loss: 0.1332 - acc: 0.961 - ETA: 2:01 - loss: 0.1313 - acc: 0.963 - ETA: 2:01 - loss: 0.1304 - acc: 0.962 - ETA: 2:00 - loss: 0.1278 - acc: 0.963 - ETA: 2:00 - loss: 0.1278 - acc: 0.962 - ETA: 2:00 - loss: 0.1309 - acc: 0.961 - ETA: 2:00 - loss: 0.1294 - acc: 0.961 - ETA: 2:00 - loss: 0.1261 - acc: 0.963 - ETA: 1:59 - loss: 0.1310 - acc: 0.961 - ETA: 1:59 - loss: 0.1286 - acc: 0.962 - ETA: 1:59 - loss: 0.1258 - acc: 0.963 - ETA: 1:59 - loss: 0.1244 - acc: 0.963 - ETA: 1:59 - loss: 0.1232 - acc: 0.964 - ETA: 1:59 - loss: 0.1206 - acc: 0.965 - ETA: 1:59 - loss: 0.1181 - acc: 0.966 - ETA: 1:58 - loss: 0.1167 - acc: 0.966 - ETA: 1:58 - loss: 0.1181 - acc: 0.965 - ETA: 1:58 - loss: 0.1164 - acc: 0.966 - ETA: 1:58 - loss: 0.1165 - acc: 0.966 - ETA: 1:58 - loss: 0.1190 - acc: 0.964 - ETA: 1:57 - loss: 0.1175 - acc: 0.965 - ETA: 1:57 - loss: 0.1155 - acc: 0.966 - ETA: 1:57 - loss: 0.1132 - acc: 0.967 - ETA: 1:57 - loss: 0.1123 - acc: 0.967 - ETA: 1:57 - loss: 0.1102 - acc: 0.968 - ETA: 1:57 - loss: 0.1097 - acc: 0.968 - ETA: 1:56 - loss: 0.1087 - acc: 0.968 - ETA: 1:56 - loss: 0.1082 - acc: 0.968 - ETA: 1:56 - loss: 0.1092 - acc: 0.968 - ETA: 1:56 - loss: 0.1082 - acc: 0.968 - ETA: 1:56 - loss: 0.1072 - acc: 0.969 - ETA: 1:56 - loss: 0.1065 - acc: 0.969 - ETA: 1:56 - loss: 0.1052 - acc: 0.969 - ETA: 1:56 - loss: 0.1049 - acc: 0.969 - ETA: 1:56 - loss: 0.1043 - acc: 0.970 - ETA: 1:56 - loss: 0.1052 - acc: 0.969 - ETA: 1:56 - loss: 0.1040 - acc: 0.970 - ETA: 1:56 - loss: 0.1041 - acc: 0.969 - ETA: 1:56 - loss: 0.1026 - acc: 0.970 - ETA: 1:57 - loss: 0.1022 - acc: 0.970 - ETA: 1:57 - loss: 0.1016 - acc: 0.970 - ETA: 1:57 - loss: 0.1009 - acc: 0.970 - ETA: 1:57 - loss: 0.1003 - acc: 0.970 - ETA: 1:57 - loss: 0.1001 - acc: 0.971 - ETA: 1:57 - loss: 0.1006 - acc: 0.970 - ETA: 1:57 - loss: 0.0997 - acc: 0.971 - ETA: 1:57 - loss: 0.0997 - acc: 0.971 - ETA: 1:57 - loss: 0.0994 - acc: 0.970 - ETA: 1:57 - loss: 0.0989 - acc: 0.970 - ETA: 1:58 - loss: 0.0982 - acc: 0.970 - ETA: 1:58 - loss: 0.0982 - acc: 0.970 - ETA: 1:58 - loss: 0.0996 - acc: 0.969 - ETA: 1:59 - loss: 0.1004 - acc: 0.969 - ETA: 1:59 - loss: 0.1006 - acc: 0.969 - ETA: 1:59 - loss: 0.1042 - acc: 0.968 - ETA: 1:59 - loss: 0.1061 - acc: 0.967 - ETA: 1:59 - loss: 0.1071 - acc: 0.967 - ETA: 2:00 - loss: 0.1071 - acc: 0.967 - ETA: 2:00 - loss: 0.1079 - acc: 0.966 - ETA: 2:00 - loss: 0.1102 - acc: 0.966 - ETA: 2:00 - loss: 0.1103 - acc: 0.966 - ETA: 2:00 - loss: 0.1112 - acc: 0.965 - ETA: 2:00 - loss: 0.1115 - acc: 0.965 - ETA: 1:59 - loss: 0.1111 - acc: 0.966 - ETA: 2:00 - loss: 0.1106 - acc: 0.966 - ETA: 1:59 - loss: 0.1110 - acc: 0.965 - ETA: 1:59 - loss: 0.1108 - acc: 0.965 - ETA: 1:59 - loss: 0.1126 - acc: 0.964 - ETA: 1:59 - loss: 0.1127 - acc: 0.964 - ETA: 1:59 - loss: 0.1131 - acc: 0.964 - ETA: 1:59 - loss: 0.1156 - acc: 0.963 - ETA: 1:58 - loss: 0.1167 - acc: 0.963 - ETA: 1:58 - loss: 0.1158 - acc: 0.963 - ETA: 1:58 - loss: 0.1154 - acc: 0.964 - ETA: 1:58 - loss: 0.1151 - acc: 0.964 - ETA: 1:57 - loss: 0.1144 - acc: 0.964 - ETA: 1:57 - loss: 0.1140 - acc: 0.964 - ETA: 1:57 - loss: 0.1136 - acc: 0.964 - ETA: 1:57 - loss: 0.1133 - acc: 0.964 - ETA: 1:57 - loss: 0.1144 - acc: 0.964 - ETA: 1:56 - loss: 0.1143 - acc: 0.963 - ETA: 1:56 - loss: 0.1147 - acc: 0.962 - ETA: 1:56 - loss: 0.1139 - acc: 0.963 - ETA: 1:56 - loss: 0.1130 - acc: 0.963 - ETA: 1:56 - loss: 0.1126 - acc: 0.963 - ETA: 1:56 - loss: 0.1121 - acc: 0.963 - ETA: 1:56 - loss: 0.1120 - acc: 0.963 - ETA: 1:56 - loss: 0.1119 - acc: 0.963 - ETA: 1:56 - loss: 0.1121 - acc: 0.963 - ETA: 1:56 - loss: 0.1114 - acc: 0.963 - ETA: 1:56 - loss: 0.1139 - acc: 0.962 - ETA: 1:55 - loss: 0.1130 - acc: 0.963 - ETA: 1:55 - loss: 0.1129 - acc: 0.962 - ETA: 1:55 - loss: 0.1135 - acc: 0.962 - ETA: 1:55 - loss: 0.1147 - acc: 0.962 - ETA: 1:55 - loss: 0.1144 - acc: 0.962 - ETA: 1:55 - loss: 0.1144 - acc: 0.962 - ETA: 1:54 - loss: 0.1139 - acc: 0.962 - ETA: 1:54 - loss: 0.1151 - acc: 0.962 - ETA: 1:54 - loss: 0.1145 - acc: 0.962 - ETA: 1:54 - loss: 0.1144 - acc: 0.962 - ETA: 1:54 - loss: 0.1141 - acc: 0.962 - ETA: 1:54 - loss: 0.1148 - acc: 0.962 - ETA: 1:53 - loss: 0.1145 - acc: 0.963 - ETA: 1:53 - loss: 0.1145 - acc: 0.963 - ETA: 1:53 - loss: 0.1144 - acc: 0.963 - ETA: 1:53 - loss: 0.1150 - acc: 0.962 - ETA: 1:53 - loss: 0.1155 - acc: 0.962 - ETA: 1:53 - loss: 0.1150 - acc: 0.962 - ETA: 1:52 - loss: 0.1146 - acc: 0.962 - ETA: 1:52 - loss: 0.1141 - acc: 0.963 - ETA: 1:52 - loss: 0.1138 - acc: 0.963 - ETA: 1:52 - loss: 0.1140 - acc: 0.962 - ETA: 1:52 - loss: 0.1138 - acc: 0.962 - ETA: 1:51 - loss: 0.1155 - acc: 0.962 - ETA: 1:51 - loss: 0.1154 - acc: 0.962 - ETA: 1:51 - loss: 0.1155 - acc: 0.962 - ETA: 1:51 - loss: 0.1150 - acc: 0.962 - ETA: 1:51 - loss: 0.1153 - acc: 0.962 - ETA: 1:51 - loss: 0.1150 - acc: 0.962 - ETA: 1:50 - loss: 0.1154 - acc: 0.961 - ETA: 1:50 - loss: 0.1151 - acc: 0.961 - ETA: 1:50 - loss: 0.1147 - acc: 0.962 - ETA: 1:50 - loss: 0.1144 - acc: 0.961 - ETA: 1:50 - loss: 0.1139 - acc: 0.962 - ETA: 1:50 - loss: 0.1136 - acc: 0.962 - ETA: 1:50 - loss: 0.1131 - acc: 0.962 - ETA: 1:49 - loss: 0.1136 - acc: 0.962 - ETA: 1:49 - loss: 0.1133 - acc: 0.962 - ETA: 1:49 - loss: 0.1128 - acc: 0.962 - ETA: 1:49 - loss: 0.1130 - acc: 0.962 - ETA: 1:49 - loss: 0.1132 - acc: 0.962 - ETA: 1:49 - loss: 0.1132 - acc: 0.962 - ETA: 1:49 - loss: 0.1131 - acc: 0.961 - ETA: 1:49 - loss: 0.1128 - acc: 0.962 - ETA: 1:48 - loss: 0.1130 - acc: 0.961 - ETA: 1:48 - loss: 0.1137 - acc: 0.961 - ETA: 1:48 - loss: 0.1135 - acc: 0.961 - ETA: 1:48 - loss: 0.1135 - acc: 0.961 - ETA: 1:48 - loss: 0.1140 - acc: 0.961 - ETA: 1:48 - loss: 0.1138 - acc: 0.961 - ETA: 1:47 - loss: 0.1136 - acc: 0.961 - ETA: 1:47 - loss: 0.1134 - acc: 0.961 - ETA: 1:47 - loss: 0.1132 - acc: 0.961 - ETA: 1:47 - loss: 0.1135 - acc: 0.961 - ETA: 1:47 - loss: 0.1133 - acc: 0.962 - ETA: 1:47 - loss: 0.1134 - acc: 0.961 - ETA: 1:47 - loss: 0.1132 - acc: 0.961 - ETA: 1:46 - loss: 0.1132 - acc: 0.961 - ETA: 1:46 - loss: 0.1133 - acc: 0.961 - ETA: 1:46 - loss: 0.1131 - acc: 0.961 - ETA: 1:46 - loss: 0.1129 - acc: 0.961 - ETA: 1:46 - loss: 0.1125 - acc: 0.961 - ETA: 1:46 - loss: 0.1120 - acc: 0.962 - ETA: 1:45 - loss: 0.1118 - acc: 0.962 - ETA: 1:45 - loss: 0.1121 - acc: 0.962 - ETA: 1:45 - loss: 0.1122 - acc: 0.962 - ETA: 1:45 - loss: 0.1118 - acc: 0.962 - ETA: 1:45 - loss: 0.1120 - acc: 0.962 - ETA: 1:44 - loss: 0.1118 - acc: 0.962 - ETA: 1:44 - loss: 0.1113 - acc: 0.962 - ETA: 1:44 - loss: 0.1110 - acc: 0.962 - ETA: 1:44 - loss: 0.1106 - acc: 0.962 - ETA: 1:44 - loss: 0.1116 - acc: 0.962 - ETA: 1:43 - loss: 0.1117 - acc: 0.962 - ETA: 1:43 - loss: 0.1114 - acc: 0.962 - ETA: 1:43 - loss: 0.1123 - acc: 0.961 - ETA: 1:43 - loss: 0.1122 - acc: 0.961 - ETA: 1:43 - loss: 0.1139 - acc: 0.961 - ETA: 1:42 - loss: 0.1139 - acc: 0.961 - ETA: 1:42 - loss: 0.1139 - acc: 0.961 - ETA: 1:42 - loss: 0.1139 - acc: 0.961 - ETA: 1:42 - loss: 0.1140 - acc: 0.961 - ETA: 1:42 - loss: 0.1138 - acc: 0.961 - ETA: 1:41 - loss: 0.1139 - acc: 0.961 - ETA: 1:41 - loss: 0.1139 - acc: 0.961 - ETA: 1:41 - loss: 0.1142 - acc: 0.961 - ETA: 1:41 - loss: 0.1150 - acc: 0.961 - ETA: 1:41 - loss: 0.1147 - acc: 0.961 - ETA: 1:40 - loss: 0.1145 - acc: 0.961 - ETA: 1:40 - loss: 0.1145 - acc: 0.961 - ETA: 1:40 - loss: 0.1145 - acc: 0.961 - ETA: 1:40 - loss: 0.1147 - acc: 0.961 - ETA: 1:40 - loss: 0.1146 - acc: 0.961413056/25000 [==============>...............] - ETA: 1:40 - loss: 0.1143 - acc: 0.961 - ETA: 1:40 - loss: 0.1140 - acc: 0.961 - ETA: 1:39 - loss: 0.1138 - acc: 0.961 - ETA: 1:39 - loss: 0.1140 - acc: 0.961 - ETA: 1:39 - loss: 0.1139 - acc: 0.961 - ETA: 1:39 - loss: 0.1137 - acc: 0.961 - ETA: 1:39 - loss: 0.1132 - acc: 0.961 - ETA: 1:39 - loss: 0.1129 - acc: 0.962 - ETA: 1:39 - loss: 0.1134 - acc: 0.961 - ETA: 1:38 - loss: 0.1143 - acc: 0.961 - ETA: 1:38 - loss: 0.1146 - acc: 0.961 - ETA: 1:38 - loss: 0.1157 - acc: 0.961 - ETA: 1:38 - loss: 0.1152 - acc: 0.961 - ETA: 1:38 - loss: 0.1152 - acc: 0.961 - ETA: 1:38 - loss: 0.1148 - acc: 0.961 - ETA: 1:37 - loss: 0.1153 - acc: 0.961 - ETA: 1:37 - loss: 0.1159 - acc: 0.961 - ETA: 1:37 - loss: 0.1158 - acc: 0.961 - ETA: 1:37 - loss: 0.1159 - acc: 0.961 - ETA: 1:37 - loss: 0.1164 - acc: 0.960 - ETA: 1:36 - loss: 0.1161 - acc: 0.961 - ETA: 1:36 - loss: 0.1161 - acc: 0.961 - ETA: 1:36 - loss: 0.1160 - acc: 0.961 - ETA: 1:36 - loss: 0.1162 - acc: 0.960 - ETA: 1:36 - loss: 0.1163 - acc: 0.960 - ETA: 1:36 - loss: 0.1170 - acc: 0.960 - ETA: 1:36 - loss: 0.1174 - acc: 0.960 - ETA: 1:36 - loss: 0.1173 - acc: 0.960 - ETA: 1:36 - loss: 0.1181 - acc: 0.960 - ETA: 1:35 - loss: 0.1179 - acc: 0.960 - ETA: 1:35 - loss: 0.1182 - acc: 0.960 - ETA: 1:35 - loss: 0.1180 - acc: 0.960 - ETA: 1:35 - loss: 0.1178 - acc: 0.960 - ETA: 1:35 - loss: 0.1179 - acc: 0.960 - ETA: 1:34 - loss: 0.1179 - acc: 0.960 - ETA: 1:34 - loss: 0.1175 - acc: 0.960 - ETA: 1:34 - loss: 0.1172 - acc: 0.960 - ETA: 1:34 - loss: 0.1176 - acc: 0.960 - ETA: 1:34 - loss: 0.1176 - acc: 0.960 - ETA: 1:34 - loss: 0.1174 - acc: 0.960 - ETA: 1:33 - loss: 0.1175 - acc: 0.960 - ETA: 1:33 - loss: 0.1175 - acc: 0.960 - ETA: 1:33 - loss: 0.1172 - acc: 0.960 - ETA: 1:33 - loss: 0.1177 - acc: 0.960 - ETA: 1:33 - loss: 0.1176 - acc: 0.960 - ETA: 1:33 - loss: 0.1176 - acc: 0.960 - ETA: 1:33 - loss: 0.1182 - acc: 0.960 - ETA: 1:33 - loss: 0.1184 - acc: 0.959 - ETA: 1:32 - loss: 0.1184 - acc: 0.960 - ETA: 1:32 - loss: 0.1182 - acc: 0.960 - ETA: 1:32 - loss: 0.1181 - acc: 0.960 - ETA: 1:32 - loss: 0.1179 - acc: 0.960 - ETA: 1:32 - loss: 0.1180 - acc: 0.960 - ETA: 1:32 - loss: 0.1179 - acc: 0.959 - ETA: 1:32 - loss: 0.1178 - acc: 0.959 - ETA: 1:32 - loss: 0.1176 - acc: 0.960 - ETA: 1:32 - loss: 0.1177 - acc: 0.960 - ETA: 1:32 - loss: 0.1182 - acc: 0.959 - ETA: 1:32 - loss: 0.1178 - acc: 0.960 - ETA: 1:32 - loss: 0.1185 - acc: 0.959 - ETA: 1:32 - loss: 0.1185 - acc: 0.959 - ETA: 1:32 - loss: 0.1183 - acc: 0.960 - ETA: 1:32 - loss: 0.1181 - acc: 0.960 - ETA: 1:32 - loss: 0.1180 - acc: 0.960 - ETA: 1:32 - loss: 0.1182 - acc: 0.960 - ETA: 1:31 - loss: 0.1182 - acc: 0.960 - ETA: 1:31 - loss: 0.1179 - acc: 0.960 - ETA: 1:31 - loss: 0.1177 - acc: 0.960 - ETA: 1:31 - loss: 0.1176 - acc: 0.960 - ETA: 1:31 - loss: 0.1174 - acc: 0.960 - ETA: 1:31 - loss: 0.1171 - acc: 0.960 - ETA: 1:31 - loss: 0.1171 - acc: 0.960 - ETA: 1:31 - loss: 0.1170 - acc: 0.960 - ETA: 1:31 - loss: 0.1167 - acc: 0.960 - ETA: 1:30 - loss: 0.1164 - acc: 0.960 - ETA: 1:30 - loss: 0.1164 - acc: 0.960 - ETA: 1:30 - loss: 0.1166 - acc: 0.960 - ETA: 1:30 - loss: 0.1166 - acc: 0.960 - ETA: 1:30 - loss: 0.1166 - acc: 0.960 - ETA: 1:30 - loss: 0.1166 - acc: 0.960 - ETA: 1:30 - loss: 0.1168 - acc: 0.960 - ETA: 1:30 - loss: 0.1167 - acc: 0.960 - ETA: 1:29 - loss: 0.1168 - acc: 0.960 - ETA: 1:29 - loss: 0.1166 - acc: 0.960 - ETA: 1:29 - loss: 0.1163 - acc: 0.960 - ETA: 1:29 - loss: 0.1165 - acc: 0.960 - ETA: 1:29 - loss: 0.1166 - acc: 0.960 - ETA: 1:28 - loss: 0.1167 - acc: 0.960 - ETA: 1:28 - loss: 0.1164 - acc: 0.960 - ETA: 1:28 - loss: 0.1161 - acc: 0.960 - ETA: 1:28 - loss: 0.1169 - acc: 0.960 - ETA: 1:28 - loss: 0.1170 - acc: 0.960 - ETA: 1:27 - loss: 0.1167 - acc: 0.960 - ETA: 1:27 - loss: 0.1167 - acc: 0.960 - ETA: 1:27 - loss: 0.1165 - acc: 0.960 - ETA: 1:27 - loss: 0.1164 - acc: 0.960 - ETA: 1:27 - loss: 0.1164 - acc: 0.960 - ETA: 1:27 - loss: 0.1169 - acc: 0.960 - ETA: 1:26 - loss: 0.1172 - acc: 0.960 - ETA: 1:26 - loss: 0.1171 - acc: 0.960 - ETA: 1:26 - loss: 0.1174 - acc: 0.959 - ETA: 1:26 - loss: 0.1174 - acc: 0.960 - ETA: 1:26 - loss: 0.1174 - acc: 0.959 - ETA: 1:25 - loss: 0.1174 - acc: 0.959 - ETA: 1:25 - loss: 0.1175 - acc: 0.959 - ETA: 1:25 - loss: 0.1176 - acc: 0.959 - ETA: 1:25 - loss: 0.1175 - acc: 0.959 - ETA: 1:24 - loss: 0.1175 - acc: 0.959 - ETA: 1:24 - loss: 0.1176 - acc: 0.959 - ETA: 1:24 - loss: 0.1173 - acc: 0.959 - ETA: 1:24 - loss: 0.1175 - acc: 0.959 - ETA: 1:24 - loss: 0.1176 - acc: 0.959 - ETA: 1:24 - loss: 0.1176 - acc: 0.959 - ETA: 1:23 - loss: 0.1177 - acc: 0.959 - ETA: 1:23 - loss: 0.1175 - acc: 0.959 - ETA: 1:23 - loss: 0.1174 - acc: 0.959 - ETA: 1:23 - loss: 0.1176 - acc: 0.959 - ETA: 1:23 - loss: 0.1174 - acc: 0.959 - ETA: 1:22 - loss: 0.1175 - acc: 0.959 - ETA: 1:22 - loss: 0.1173 - acc: 0.959 - ETA: 1:22 - loss: 0.1171 - acc: 0.959 - ETA: 1:22 - loss: 0.1170 - acc: 0.959 - ETA: 1:22 - loss: 0.1169 - acc: 0.959 - ETA: 1:21 - loss: 0.1167 - acc: 0.959 - ETA: 1:21 - loss: 0.1167 - acc: 0.959 - ETA: 1:21 - loss: 0.1166 - acc: 0.959 - ETA: 1:21 - loss: 0.1163 - acc: 0.959 - ETA: 1:21 - loss: 0.1166 - acc: 0.959 - ETA: 1:20 - loss: 0.1169 - acc: 0.959 - ETA: 1:20 - loss: 0.1167 - acc: 0.959 - ETA: 1:20 - loss: 0.1167 - acc: 0.959 - ETA: 1:20 - loss: 0.1167 - acc: 0.959 - ETA: 1:20 - loss: 0.1170 - acc: 0.959 - ETA: 1:19 - loss: 0.1170 - acc: 0.959 - ETA: 1:19 - loss: 0.1175 - acc: 0.959 - ETA: 1:19 - loss: 0.1173 - acc: 0.959 - ETA: 1:19 - loss: 0.1177 - acc: 0.959 - ETA: 1:19 - loss: 0.1178 - acc: 0.959 - ETA: 1:18 - loss: 0.1181 - acc: 0.958 - ETA: 1:18 - loss: 0.1179 - acc: 0.958 - ETA: 1:18 - loss: 0.1183 - acc: 0.958 - ETA: 1:18 - loss: 0.1181 - acc: 0.959 - ETA: 1:18 - loss: 0.1179 - acc: 0.959 - ETA: 1:18 - loss: 0.1178 - acc: 0.959 - ETA: 1:17 - loss: 0.1178 - acc: 0.959 - ETA: 1:17 - loss: 0.1183 - acc: 0.959 - ETA: 1:17 - loss: 0.1184 - acc: 0.959 - ETA: 1:17 - loss: 0.1182 - acc: 0.959 - ETA: 1:17 - loss: 0.1188 - acc: 0.959 - ETA: 1:16 - loss: 0.1186 - acc: 0.959 - ETA: 1:16 - loss: 0.1185 - acc: 0.959 - ETA: 1:16 - loss: 0.1183 - acc: 0.959 - ETA: 1:16 - loss: 0.1182 - acc: 0.959 - ETA: 1:16 - loss: 0.1183 - acc: 0.959 - ETA: 1:15 - loss: 0.1183 - acc: 0.959 - ETA: 1:15 - loss: 0.1181 - acc: 0.959 - ETA: 1:15 - loss: 0.1178 - acc: 0.959 - ETA: 1:15 - loss: 0.1178 - acc: 0.959 - ETA: 1:15 - loss: 0.1177 - acc: 0.959 - ETA: 1:14 - loss: 0.1177 - acc: 0.959 - ETA: 1:14 - loss: 0.1175 - acc: 0.959 - ETA: 1:14 - loss: 0.1172 - acc: 0.959 - ETA: 1:14 - loss: 0.1174 - acc: 0.959 - ETA: 1:13 - loss: 0.1175 - acc: 0.959 - ETA: 1:13 - loss: 0.1173 - acc: 0.959 - ETA: 1:13 - loss: 0.1177 - acc: 0.959 - ETA: 1:13 - loss: 0.1176 - acc: 0.959 - ETA: 1:13 - loss: 0.1175 - acc: 0.959 - ETA: 1:13 - loss: 0.1175 - acc: 0.959 - ETA: 1:12 - loss: 0.1175 - acc: 0.959 - ETA: 1:12 - loss: 0.1175 - acc: 0.959 - ETA: 1:12 - loss: 0.1174 - acc: 0.959 - ETA: 1:12 - loss: 0.1173 - acc: 0.959 - ETA: 1:12 - loss: 0.1173 - acc: 0.959 - ETA: 1:12 - loss: 0.1173 - acc: 0.959 - ETA: 1:12 - loss: 0.1172 - acc: 0.959 - ETA: 1:12 - loss: 0.1171 - acc: 0.959 - ETA: 1:12 - loss: 0.1171 - acc: 0.959 - ETA: 1:11 - loss: 0.1168 - acc: 0.959 - ETA: 1:11 - loss: 0.1168 - acc: 0.959 - ETA: 1:11 - loss: 0.1168 - acc: 0.959 - ETA: 1:11 - loss: 0.1165 - acc: 0.959 - ETA: 1:11 - loss: 0.1168 - acc: 0.959 - ETA: 1:11 - loss: 0.1168 - acc: 0.959 - ETA: 1:11 - loss: 0.1170 - acc: 0.959 - ETA: 1:11 - loss: 0.1169 - acc: 0.959 - ETA: 1:11 - loss: 0.1172 - acc: 0.959 - ETA: 1:10 - loss: 0.1171 - acc: 0.959 - ETA: 1:10 - loss: 0.1172 - acc: 0.959 - ETA: 1:10 - loss: 0.1176 - acc: 0.959 - ETA: 1:10 - loss: 0.1180 - acc: 0.959 - ETA: 1:10 - loss: 0.1179 - acc: 0.959 - ETA: 1:10 - loss: 0.1176 - acc: 0.959 - ETA: 1:10 - loss: 0.1177 - acc: 0.959 - ETA: 1:10 - loss: 0.1180 - acc: 0.959 - ETA: 1:09 - loss: 0.1180 - acc: 0.959 - ETA: 1:09 - loss: 0.1179 - acc: 0.959 - ETA: 1:09 - loss: 0.1177 - acc: 0.959 - ETA: 1:09 - loss: 0.1176 - acc: 0.959 - ETA: 1:09 - loss: 0.1179 - acc: 0.959 - ETA: 1:09 - loss: 0.1181 - acc: 0.959 - ETA: 1:09 - loss: 0.1179 - acc: 0.959 - ETA: 1:09 - loss: 0.1180 - acc: 0.959 - ETA: 1:09 - loss: 0.1183 - acc: 0.959119840/25000 [======================>.......] - ETA: 1:08 - loss: 0.1181 - acc: 0.959 - ETA: 1:08 - loss: 0.1180 - acc: 0.959 - ETA: 1:08 - loss: 0.1177 - acc: 0.959 - ETA: 1:08 - loss: 0.1177 - acc: 0.959 - ETA: 1:08 - loss: 0.1179 - acc: 0.959 - ETA: 1:08 - loss: 0.1178 - acc: 0.959 - ETA: 1:08 - loss: 0.1178 - acc: 0.959 - ETA: 1:08 - loss: 0.1177 - acc: 0.959 - ETA: 1:07 - loss: 0.1177 - acc: 0.959 - ETA: 1:07 - loss: 0.1176 - acc: 0.959 - ETA: 1:07 - loss: 0.1177 - acc: 0.959 - ETA: 1:07 - loss: 0.1179 - acc: 0.959 - ETA: 1:07 - loss: 0.1176 - acc: 0.959 - ETA: 1:07 - loss: 0.1179 - acc: 0.959 - ETA: 1:07 - loss: 0.1181 - acc: 0.958 - ETA: 1:06 - loss: 0.1184 - acc: 0.958 - ETA: 1:06 - loss: 0.1183 - acc: 0.959 - ETA: 1:06 - loss: 0.1183 - acc: 0.958 - ETA: 1:06 - loss: 0.1182 - acc: 0.958 - ETA: 1:06 - loss: 0.1181 - acc: 0.959 - ETA: 1:06 - loss: 0.1180 - acc: 0.959 - ETA: 1:06 - loss: 0.1179 - acc: 0.959 - ETA: 1:05 - loss: 0.1177 - acc: 0.959 - ETA: 1:05 - loss: 0.1178 - acc: 0.959 - ETA: 1:05 - loss: 0.1180 - acc: 0.959 - ETA: 1:05 - loss: 0.1182 - acc: 0.958 - ETA: 1:05 - loss: 0.1185 - acc: 0.958 - ETA: 1:05 - loss: 0.1187 - acc: 0.958 - ETA: 1:04 - loss: 0.1187 - acc: 0.958 - ETA: 1:04 - loss: 0.1190 - acc: 0.958 - ETA: 1:04 - loss: 0.1190 - acc: 0.958 - ETA: 1:04 - loss: 0.1193 - acc: 0.958 - ETA: 1:04 - loss: 0.1194 - acc: 0.958 - ETA: 1:04 - loss: 0.1195 - acc: 0.958 - ETA: 1:04 - loss: 0.1197 - acc: 0.958 - ETA: 1:03 - loss: 0.1199 - acc: 0.958 - ETA: 1:03 - loss: 0.1202 - acc: 0.958 - ETA: 1:03 - loss: 0.1204 - acc: 0.957 - ETA: 1:03 - loss: 0.1204 - acc: 0.957 - ETA: 1:03 - loss: 0.1206 - acc: 0.957 - ETA: 1:03 - loss: 0.1206 - acc: 0.957 - ETA: 1:02 - loss: 0.1207 - acc: 0.957 - ETA: 1:02 - loss: 0.1206 - acc: 0.957 - ETA: 1:02 - loss: 0.1206 - acc: 0.957 - ETA: 1:02 - loss: 0.1205 - acc: 0.957 - ETA: 1:02 - loss: 0.1204 - acc: 0.957 - ETA: 1:02 - loss: 0.1207 - acc: 0.957 - ETA: 1:02 - loss: 0.1207 - acc: 0.957 - ETA: 1:01 - loss: 0.1207 - acc: 0.957 - ETA: 1:01 - loss: 0.1207 - acc: 0.957 - ETA: 1:01 - loss: 0.1207 - acc: 0.957 - ETA: 1:01 - loss: 0.1208 - acc: 0.957 - ETA: 1:01 - loss: 0.1206 - acc: 0.957 - ETA: 1:01 - loss: 0.1205 - acc: 0.957 - ETA: 1:00 - loss: 0.1204 - acc: 0.957 - ETA: 1:00 - loss: 0.1203 - acc: 0.957 - ETA: 1:00 - loss: 0.1204 - acc: 0.957 - ETA: 1:00 - loss: 0.1205 - acc: 0.957 - ETA: 1:00 - loss: 0.1206 - acc: 0.957 - ETA: 1:00 - loss: 0.1206 - acc: 0.957 - ETA: 59s - loss: 0.1206 - acc: 0.957 - ETA: 59s - loss: 0.1207 - acc: 0.95 - ETA: 59s - loss: 0.1205 - acc: 0.95 - ETA: 59s - loss: 0.1206 - acc: 0.95 - ETA: 59s - loss: 0.1205 - acc: 0.95 - ETA: 59s - loss: 0.1203 - acc: 0.95 - ETA: 58s - loss: 0.1201 - acc: 0.95 - ETA: 58s - loss: 0.1200 - acc: 0.95 - ETA: 58s - loss: 0.1202 - acc: 0.95 - ETA: 58s - loss: 0.1201 - acc: 0.95 - ETA: 58s - loss: 0.1204 - acc: 0.95 - ETA: 58s - loss: 0.1205 - acc: 0.95 - ETA: 58s - loss: 0.1207 - acc: 0.95 - ETA: 57s - loss: 0.1206 - acc: 0.95 - ETA: 57s - loss: 0.1206 - acc: 0.95 - ETA: 57s - loss: 0.1205 - acc: 0.95 - ETA: 57s - loss: 0.1206 - acc: 0.95 - ETA: 57s - loss: 0.1207 - acc: 0.95 - ETA: 57s - loss: 0.1209 - acc: 0.95 - ETA: 56s - loss: 0.1207 - acc: 0.95 - ETA: 56s - loss: 0.1210 - acc: 0.95 - ETA: 56s - loss: 0.1209 - acc: 0.95 - ETA: 56s - loss: 0.1208 - acc: 0.95 - ETA: 56s - loss: 0.1210 - acc: 0.95 - ETA: 56s - loss: 0.1211 - acc: 0.95 - ETA: 55s - loss: 0.1210 - acc: 0.95 - ETA: 55s - loss: 0.1212 - acc: 0.95 - ETA: 55s - loss: 0.1210 - acc: 0.95 - ETA: 55s - loss: 0.1210 - acc: 0.95 - ETA: 55s - loss: 0.1213 - acc: 0.95 - ETA: 54s - loss: 0.1213 - acc: 0.95 - ETA: 54s - loss: 0.1213 - acc: 0.95 - ETA: 54s - loss: 0.1211 - acc: 0.95 - ETA: 54s - loss: 0.1210 - acc: 0.95 - ETA: 54s - loss: 0.1212 - acc: 0.95 - ETA: 54s - loss: 0.1215 - acc: 0.95 - ETA: 53s - loss: 0.1214 - acc: 0.95 - ETA: 53s - loss: 0.1213 - acc: 0.95 - ETA: 53s - loss: 0.1213 - acc: 0.95 - ETA: 53s - loss: 0.1215 - acc: 0.95 - ETA: 53s - loss: 0.1219 - acc: 0.95 - ETA: 53s - loss: 0.1218 - acc: 0.95 - ETA: 52s - loss: 0.1216 - acc: 0.95 - ETA: 52s - loss: 0.1221 - acc: 0.95 - ETA: 52s - loss: 0.1222 - acc: 0.95 - ETA: 52s - loss: 0.1222 - acc: 0.95 - ETA: 52s - loss: 0.1221 - acc: 0.95 - ETA: 52s - loss: 0.1222 - acc: 0.95 - ETA: 51s - loss: 0.1222 - acc: 0.95 - ETA: 51s - loss: 0.1225 - acc: 0.95 - ETA: 51s - loss: 0.1227 - acc: 0.95 - ETA: 51s - loss: 0.1226 - acc: 0.95 - ETA: 51s - loss: 0.1227 - acc: 0.95 - ETA: 51s - loss: 0.1225 - acc: 0.95 - ETA: 50s - loss: 0.1226 - acc: 0.95 - ETA: 50s - loss: 0.1227 - acc: 0.95 - ETA: 50s - loss: 0.1226 - acc: 0.95 - ETA: 50s - loss: 0.1224 - acc: 0.95 - ETA: 50s - loss: 0.1225 - acc: 0.95 - ETA: 49s - loss: 0.1224 - acc: 0.95 - ETA: 49s - loss: 0.1225 - acc: 0.95 - ETA: 49s - loss: 0.1225 - acc: 0.95 - ETA: 49s - loss: 0.1223 - acc: 0.95 - ETA: 49s - loss: 0.1223 - acc: 0.95 - ETA: 49s - loss: 0.1222 - acc: 0.95 - ETA: 48s - loss: 0.1223 - acc: 0.95 - ETA: 48s - loss: 0.1225 - acc: 0.95 - ETA: 48s - loss: 0.1224 - acc: 0.95 - ETA: 48s - loss: 0.1224 - acc: 0.95 - ETA: 48s - loss: 0.1223 - acc: 0.95 - ETA: 47s - loss: 0.1221 - acc: 0.95 - ETA: 47s - loss: 0.1220 - acc: 0.95 - ETA: 47s - loss: 0.1220 - acc: 0.95 - ETA: 47s - loss: 0.1223 - acc: 0.95 - ETA: 47s - loss: 0.1222 - acc: 0.95 - ETA: 47s - loss: 0.1222 - acc: 0.95 - ETA: 46s - loss: 0.1223 - acc: 0.95 - ETA: 46s - loss: 0.1223 - acc: 0.95 - ETA: 46s - loss: 0.1224 - acc: 0.95 - ETA: 46s - loss: 0.1224 - acc: 0.95 - ETA: 46s - loss: 0.1223 - acc: 0.95 - ETA: 45s - loss: 0.1223 - acc: 0.95 - ETA: 45s - loss: 0.1223 - acc: 0.95 - ETA: 45s - loss: 0.1222 - acc: 0.95 - ETA: 45s - loss: 0.1221 - acc: 0.95 - ETA: 45s - loss: 0.1220 - acc: 0.95 - ETA: 44s - loss: 0.1220 - acc: 0.95 - ETA: 44s - loss: 0.1220 - acc: 0.95 - ETA: 44s - loss: 0.1221 - acc: 0.95 - ETA: 44s - loss: 0.1220 - acc: 0.95 - ETA: 44s - loss: 0.1222 - acc: 0.95 - ETA: 44s - loss: 0.1222 - acc: 0.95 - ETA: 43s - loss: 0.1221 - acc: 0.95 - ETA: 43s - loss: 0.1220 - acc: 0.95 - ETA: 43s - loss: 0.1218 - acc: 0.95 - ETA: 43s - loss: 0.1217 - acc: 0.95 - ETA: 43s - loss: 0.1217 - acc: 0.95 - ETA: 42s - loss: 0.1217 - acc: 0.95 - ETA: 42s - loss: 0.1217 - acc: 0.95 - ETA: 42s - loss: 0.1217 - acc: 0.95 - ETA: 42s - loss: 0.1217 - acc: 0.95 - ETA: 42s - loss: 0.1217 - acc: 0.95 - ETA: 42s - loss: 0.1217 - acc: 0.95 - ETA: 41s - loss: 0.1215 - acc: 0.95 - ETA: 41s - loss: 0.1215 - acc: 0.95 - ETA: 41s - loss: 0.1217 - acc: 0.95 - ETA: 41s - loss: 0.1218 - acc: 0.95 - ETA: 41s - loss: 0.1218 - acc: 0.95 - ETA: 40s - loss: 0.1216 - acc: 0.95 - ETA: 40s - loss: 0.1216 - acc: 0.95 - ETA: 40s - loss: 0.1215 - acc: 0.95 - ETA: 40s - loss: 0.1216 - acc: 0.95 - ETA: 40s - loss: 0.1216 - acc: 0.95 - ETA: 39s - loss: 0.1215 - acc: 0.95 - ETA: 39s - loss: 0.1216 - acc: 0.95 - ETA: 39s - loss: 0.1216 - acc: 0.95 - ETA: 39s - loss: 0.1219 - acc: 0.95 - ETA: 39s - loss: 0.1220 - acc: 0.95 - ETA: 39s - loss: 0.1220 - acc: 0.95 - ETA: 38s - loss: 0.1220 - acc: 0.95 - ETA: 38s - loss: 0.1221 - acc: 0.95 - ETA: 38s - loss: 0.1220 - acc: 0.95 - ETA: 38s - loss: 0.1222 - acc: 0.95 - ETA: 38s - loss: 0.1224 - acc: 0.95 - ETA: 37s - loss: 0.1223 - acc: 0.95 - ETA: 37s - loss: 0.1225 - acc: 0.95 - ETA: 37s - loss: 0.1227 - acc: 0.95 - ETA: 37s - loss: 0.1229 - acc: 0.95 - ETA: 37s - loss: 0.1229 - acc: 0.95 - ETA: 36s - loss: 0.1228 - acc: 0.95 - ETA: 36s - loss: 0.1230 - acc: 0.95 - ETA: 36s - loss: 0.1231 - acc: 0.95 - ETA: 36s - loss: 0.1231 - acc: 0.95 - ETA: 36s - loss: 0.1231 - acc: 0.95 - ETA: 35s - loss: 0.1231 - acc: 0.95 - ETA: 35s - loss: 0.1231 - acc: 0.95 - ETA: 35s - loss: 0.1230 - acc: 0.95 - ETA: 35s - loss: 0.1230 - acc: 0.95 - ETA: 35s - loss: 0.1230 - acc: 0.95 - ETA: 35s - loss: 0.1229 - acc: 0.95 - ETA: 34s - loss: 0.1228 - acc: 0.95 - ETA: 34s - loss: 0.1230 - acc: 0.95 - ETA: 34s - loss: 0.1228 - acc: 0.95 - ETA: 34s - loss: 0.1227 - acc: 0.95 - ETA: 34s - loss: 0.1227 - acc: 0.95 - ETA: 33s - loss: 0.1227 - acc: 0.95 - ETA: 33s - loss: 0.1229 - acc: 0.95 - ETA: 33s - loss: 0.1228 - acc: 0.95 - ETA: 33s - loss: 0.1229 - acc: 0.95 - ETA: 33s - loss: 0.1228 - acc: 0.95 - ETA: 32s - loss: 0.1230 - acc: 0.95 - ETA: 32s - loss: 0.1230 - acc: 0.9569"
     ]
    },
    {
     "name": "stdout",
     "output_type": "stream",
     "text": [
      "25000/25000 [==============================] - ETA: 32s - loss: 0.1232 - acc: 0.95 - ETA: 32s - loss: 0.1231 - acc: 0.95 - ETA: 32s - loss: 0.1231 - acc: 0.95 - ETA: 31s - loss: 0.1230 - acc: 0.95 - ETA: 31s - loss: 0.1231 - acc: 0.95 - ETA: 31s - loss: 0.1231 - acc: 0.95 - ETA: 31s - loss: 0.1232 - acc: 0.95 - ETA: 31s - loss: 0.1232 - acc: 0.95 - ETA: 30s - loss: 0.1233 - acc: 0.95 - ETA: 30s - loss: 0.1233 - acc: 0.95 - ETA: 30s - loss: 0.1235 - acc: 0.95 - ETA: 30s - loss: 0.1236 - acc: 0.95 - ETA: 30s - loss: 0.1237 - acc: 0.95 - ETA: 29s - loss: 0.1236 - acc: 0.95 - ETA: 29s - loss: 0.1238 - acc: 0.95 - ETA: 29s - loss: 0.1237 - acc: 0.95 - ETA: 29s - loss: 0.1236 - acc: 0.95 - ETA: 29s - loss: 0.1236 - acc: 0.95 - ETA: 29s - loss: 0.1234 - acc: 0.95 - ETA: 28s - loss: 0.1234 - acc: 0.95 - ETA: 28s - loss: 0.1236 - acc: 0.95 - ETA: 28s - loss: 0.1239 - acc: 0.95 - ETA: 28s - loss: 0.1238 - acc: 0.95 - ETA: 28s - loss: 0.1240 - acc: 0.95 - ETA: 27s - loss: 0.1240 - acc: 0.95 - ETA: 27s - loss: 0.1239 - acc: 0.95 - ETA: 27s - loss: 0.1241 - acc: 0.95 - ETA: 27s - loss: 0.1241 - acc: 0.95 - ETA: 27s - loss: 0.1241 - acc: 0.95 - ETA: 26s - loss: 0.1240 - acc: 0.95 - ETA: 26s - loss: 0.1241 - acc: 0.95 - ETA: 26s - loss: 0.1241 - acc: 0.95 - ETA: 26s - loss: 0.1241 - acc: 0.95 - ETA: 26s - loss: 0.1240 - acc: 0.95 - ETA: 25s - loss: 0.1240 - acc: 0.95 - ETA: 25s - loss: 0.1242 - acc: 0.95 - ETA: 25s - loss: 0.1242 - acc: 0.95 - ETA: 25s - loss: 0.1241 - acc: 0.95 - ETA: 25s - loss: 0.1240 - acc: 0.95 - ETA: 24s - loss: 0.1238 - acc: 0.95 - ETA: 24s - loss: 0.1239 - acc: 0.95 - ETA: 24s - loss: 0.1242 - acc: 0.95 - ETA: 24s - loss: 0.1241 - acc: 0.95 - ETA: 24s - loss: 0.1244 - acc: 0.95 - ETA: 23s - loss: 0.1244 - acc: 0.95 - ETA: 23s - loss: 0.1245 - acc: 0.95 - ETA: 23s - loss: 0.1244 - acc: 0.95 - ETA: 23s - loss: 0.1247 - acc: 0.95 - ETA: 23s - loss: 0.1249 - acc: 0.95 - ETA: 22s - loss: 0.1251 - acc: 0.95 - ETA: 22s - loss: 0.1256 - acc: 0.95 - ETA: 22s - loss: 0.1256 - acc: 0.95 - ETA: 22s - loss: 0.1257 - acc: 0.95 - ETA: 22s - loss: 0.1259 - acc: 0.95 - ETA: 21s - loss: 0.1261 - acc: 0.95 - ETA: 21s - loss: 0.1261 - acc: 0.95 - ETA: 21s - loss: 0.1261 - acc: 0.95 - ETA: 21s - loss: 0.1262 - acc: 0.95 - ETA: 21s - loss: 0.1262 - acc: 0.95 - ETA: 20s - loss: 0.1262 - acc: 0.95 - ETA: 20s - loss: 0.1265 - acc: 0.95 - ETA: 20s - loss: 0.1266 - acc: 0.95 - ETA: 20s - loss: 0.1267 - acc: 0.95 - ETA: 20s - loss: 0.1269 - acc: 0.95 - ETA: 19s - loss: 0.1268 - acc: 0.95 - ETA: 19s - loss: 0.1268 - acc: 0.95 - ETA: 19s - loss: 0.1268 - acc: 0.95 - ETA: 19s - loss: 0.1270 - acc: 0.95 - ETA: 19s - loss: 0.1272 - acc: 0.95 - ETA: 18s - loss: 0.1273 - acc: 0.95 - ETA: 18s - loss: 0.1274 - acc: 0.95 - ETA: 18s - loss: 0.1274 - acc: 0.95 - ETA: 18s - loss: 0.1274 - acc: 0.95 - ETA: 17s - loss: 0.1274 - acc: 0.95 - ETA: 17s - loss: 0.1276 - acc: 0.95 - ETA: 17s - loss: 0.1276 - acc: 0.95 - ETA: 17s - loss: 0.1277 - acc: 0.95 - ETA: 17s - loss: 0.1276 - acc: 0.95 - ETA: 16s - loss: 0.1276 - acc: 0.95 - ETA: 16s - loss: 0.1277 - acc: 0.95 - ETA: 16s - loss: 0.1276 - acc: 0.95 - ETA: 16s - loss: 0.1278 - acc: 0.95 - ETA: 16s - loss: 0.1278 - acc: 0.95 - ETA: 15s - loss: 0.1277 - acc: 0.95 - ETA: 15s - loss: 0.1276 - acc: 0.95 - ETA: 15s - loss: 0.1276 - acc: 0.95 - ETA: 15s - loss: 0.1276 - acc: 0.95 - ETA: 15s - loss: 0.1275 - acc: 0.95 - ETA: 14s - loss: 0.1276 - acc: 0.95 - ETA: 14s - loss: 0.1275 - acc: 0.95 - ETA: 14s - loss: 0.1276 - acc: 0.95 - ETA: 14s - loss: 0.1277 - acc: 0.95 - ETA: 14s - loss: 0.1278 - acc: 0.95 - ETA: 13s - loss: 0.1278 - acc: 0.95 - ETA: 13s - loss: 0.1277 - acc: 0.95 - ETA: 13s - loss: 0.1278 - acc: 0.95 - ETA: 13s - loss: 0.1279 - acc: 0.95 - ETA: 13s - loss: 0.1280 - acc: 0.95 - ETA: 12s - loss: 0.1280 - acc: 0.95 - ETA: 12s - loss: 0.1279 - acc: 0.95 - ETA: 12s - loss: 0.1280 - acc: 0.95 - ETA: 12s - loss: 0.1279 - acc: 0.95 - ETA: 12s - loss: 0.1280 - acc: 0.95 - ETA: 11s - loss: 0.1281 - acc: 0.95 - ETA: 11s - loss: 0.1280 - acc: 0.95 - ETA: 11s - loss: 0.1282 - acc: 0.95 - ETA: 11s - loss: 0.1281 - acc: 0.95 - ETA: 11s - loss: 0.1282 - acc: 0.95 - ETA: 10s - loss: 0.1282 - acc: 0.95 - ETA: 10s - loss: 0.1281 - acc: 0.95 - ETA: 10s - loss: 0.1280 - acc: 0.95 - ETA: 10s - loss: 0.1280 - acc: 0.95 - ETA: 10s - loss: 0.1281 - acc: 0.95 - ETA: 9s - loss: 0.1281 - acc: 0.9535 - ETA: 9s - loss: 0.1282 - acc: 0.953 - ETA: 9s - loss: 0.1283 - acc: 0.953 - ETA: 9s - loss: 0.1282 - acc: 0.953 - ETA: 8s - loss: 0.1285 - acc: 0.953 - ETA: 8s - loss: 0.1284 - acc: 0.953 - ETA: 8s - loss: 0.1284 - acc: 0.953 - ETA: 8s - loss: 0.1284 - acc: 0.953 - ETA: 8s - loss: 0.1285 - acc: 0.953 - ETA: 7s - loss: 0.1285 - acc: 0.953 - ETA: 7s - loss: 0.1285 - acc: 0.953 - ETA: 7s - loss: 0.1284 - acc: 0.953 - ETA: 7s - loss: 0.1282 - acc: 0.953 - ETA: 7s - loss: 0.1282 - acc: 0.953 - ETA: 6s - loss: 0.1281 - acc: 0.953 - ETA: 6s - loss: 0.1280 - acc: 0.953 - ETA: 6s - loss: 0.1280 - acc: 0.953 - ETA: 6s - loss: 0.1280 - acc: 0.953 - ETA: 6s - loss: 0.1282 - acc: 0.953 - ETA: 5s - loss: 0.1284 - acc: 0.953 - ETA: 5s - loss: 0.1284 - acc: 0.953 - ETA: 5s - loss: 0.1286 - acc: 0.953 - ETA: 5s - loss: 0.1286 - acc: 0.953 - ETA: 5s - loss: 0.1286 - acc: 0.953 - ETA: 4s - loss: 0.1288 - acc: 0.953 - ETA: 4s - loss: 0.1288 - acc: 0.953 - ETA: 4s - loss: 0.1288 - acc: 0.953 - ETA: 4s - loss: 0.1288 - acc: 0.953 - ETA: 3s - loss: 0.1289 - acc: 0.953 - ETA: 3s - loss: 0.1287 - acc: 0.953 - ETA: 3s - loss: 0.1287 - acc: 0.953 - ETA: 3s - loss: 0.1288 - acc: 0.953 - ETA: 3s - loss: 0.1288 - acc: 0.953 - ETA: 2s - loss: 0.1287 - acc: 0.953 - ETA: 2s - loss: 0.1286 - acc: 0.953 - ETA: 2s - loss: 0.1286 - acc: 0.953 - ETA: 2s - loss: 0.1286 - acc: 0.953 - ETA: 2s - loss: 0.1286 - acc: 0.953 - ETA: 1s - loss: 0.1288 - acc: 0.953 - ETA: 1s - loss: 0.1288 - acc: 0.952 - ETA: 1s - loss: 0.1288 - acc: 0.952 - ETA: 1s - loss: 0.1287 - acc: 0.952 - ETA: 1s - loss: 0.1290 - acc: 0.952 - ETA: 0s - loss: 0.1289 - acc: 0.952 - ETA: 0s - loss: 0.1289 - acc: 0.952 - ETA: 0s - loss: 0.1291 - acc: 0.952 - ETA: 0s - loss: 0.1291 - acc: 0.952 - ETA: 0s - loss: 0.1290 - acc: 0.952 - 188s 8ms/step - loss: 0.1290 - acc: 0.9529 - val_loss: 0.4639 - val_acc: 0.8422\n",
      "Epoch 4/4\n"
     ]
    },
    {
     "name": "stdout",
     "output_type": "stream",
     "text": [
      " 6528/25000 [======>.......................] - ETA: 2:45 - loss: 0.0691 - acc: 0.968 - ETA: 2:43 - loss: 0.0463 - acc: 0.984 - ETA: 2:46 - loss: 0.0443 - acc: 0.989 - ETA: 2:48 - loss: 0.0442 - acc: 0.992 - ETA: 2:53 - loss: 0.0480 - acc: 0.987 - ETA: 2:57 - loss: 0.0575 - acc: 0.979 - ETA: 2:58 - loss: 0.0596 - acc: 0.977 - ETA: 2:59 - loss: 0.0604 - acc: 0.976 - ETA: 2:59 - loss: 0.0558 - acc: 0.979 - ETA: 2:59 - loss: 0.0516 - acc: 0.981 - ETA: 2:59 - loss: 0.0498 - acc: 0.983 - ETA: 3:00 - loss: 0.0593 - acc: 0.976 - ETA: 3:00 - loss: 0.0560 - acc: 0.978 - ETA: 2:59 - loss: 0.0632 - acc: 0.977 - ETA: 2:59 - loss: 0.0620 - acc: 0.979 - ETA: 2:59 - loss: 0.0611 - acc: 0.980 - ETA: 2:59 - loss: 0.0585 - acc: 0.981 - ETA: 2:59 - loss: 0.0592 - acc: 0.980 - ETA: 2:58 - loss: 0.0570 - acc: 0.981 - ETA: 2:58 - loss: 0.0558 - acc: 0.982 - ETA: 2:58 - loss: 0.0541 - acc: 0.983 - ETA: 2:56 - loss: 0.0526 - acc: 0.984 - ETA: 2:55 - loss: 0.0518 - acc: 0.985 - ETA: 2:55 - loss: 0.0519 - acc: 0.984 - ETA: 2:54 - loss: 0.0504 - acc: 0.985 - ETA: 2:53 - loss: 0.0505 - acc: 0.984 - ETA: 2:51 - loss: 0.0517 - acc: 0.983 - ETA: 2:50 - loss: 0.0504 - acc: 0.984 - ETA: 2:49 - loss: 0.0498 - acc: 0.984 - ETA: 2:47 - loss: 0.0486 - acc: 0.985 - ETA: 2:46 - loss: 0.0568 - acc: 0.983 - ETA: 2:45 - loss: 0.0567 - acc: 0.983 - ETA: 2:44 - loss: 0.0606 - acc: 0.983 - ETA: 2:43 - loss: 0.0598 - acc: 0.983 - ETA: 2:42 - loss: 0.0598 - acc: 0.983 - ETA: 2:41 - loss: 0.0597 - acc: 0.983 - ETA: 2:41 - loss: 0.0591 - acc: 0.984 - ETA: 2:40 - loss: 0.0583 - acc: 0.984 - ETA: 2:41 - loss: 0.0581 - acc: 0.984 - ETA: 2:40 - loss: 0.0590 - acc: 0.982 - ETA: 2:40 - loss: 0.0577 - acc: 0.983 - ETA: 2:41 - loss: 0.0570 - acc: 0.983 - ETA: 2:41 - loss: 0.0602 - acc: 0.982 - ETA: 2:40 - loss: 0.0594 - acc: 0.983 - ETA: 2:41 - loss: 0.0586 - acc: 0.983 - ETA: 2:41 - loss: 0.0576 - acc: 0.983 - ETA: 2:41 - loss: 0.0568 - acc: 0.984 - ETA: 2:41 - loss: 0.0563 - acc: 0.984 - ETA: 2:41 - loss: 0.0555 - acc: 0.984 - ETA: 2:41 - loss: 0.0552 - acc: 0.985 - ETA: 2:41 - loss: 0.0547 - acc: 0.985 - ETA: 2:41 - loss: 0.0538 - acc: 0.985 - ETA: 2:40 - loss: 0.0529 - acc: 0.985 - ETA: 2:40 - loss: 0.0543 - acc: 0.985 - ETA: 2:40 - loss: 0.0584 - acc: 0.984 - ETA: 2:40 - loss: 0.0574 - acc: 0.984 - ETA: 2:40 - loss: 0.0578 - acc: 0.984 - ETA: 2:40 - loss: 0.0575 - acc: 0.983 - ETA: 2:40 - loss: 0.0568 - acc: 0.984 - ETA: 2:40 - loss: 0.0629 - acc: 0.982 - ETA: 2:41 - loss: 0.0621 - acc: 0.982 - ETA: 2:41 - loss: 0.0612 - acc: 0.982 - ETA: 2:41 - loss: 0.0610 - acc: 0.983 - ETA: 2:41 - loss: 0.0606 - acc: 0.983 - ETA: 2:40 - loss: 0.0601 - acc: 0.983 - ETA: 2:40 - loss: 0.0598 - acc: 0.983 - ETA: 2:40 - loss: 0.0600 - acc: 0.984 - ETA: 2:40 - loss: 0.0597 - acc: 0.984 - ETA: 2:40 - loss: 0.0601 - acc: 0.984 - ETA: 2:40 - loss: 0.0598 - acc: 0.984 - ETA: 2:39 - loss: 0.0599 - acc: 0.984 - ETA: 2:39 - loss: 0.0627 - acc: 0.983 - ETA: 2:39 - loss: 0.0623 - acc: 0.983 - ETA: 2:40 - loss: 0.0630 - acc: 0.983 - ETA: 2:40 - loss: 0.0636 - acc: 0.982 - ETA: 2:39 - loss: 0.0632 - acc: 0.983 - ETA: 2:39 - loss: 0.0626 - acc: 0.983 - ETA: 2:39 - loss: 0.0626 - acc: 0.983 - ETA: 2:39 - loss: 0.0624 - acc: 0.983 - ETA: 2:39 - loss: 0.0620 - acc: 0.983 - ETA: 2:39 - loss: 0.0628 - acc: 0.982 - ETA: 2:39 - loss: 0.0626 - acc: 0.982 - ETA: 2:39 - loss: 0.0619 - acc: 0.982 - ETA: 2:39 - loss: 0.0614 - acc: 0.982 - ETA: 2:38 - loss: 0.0608 - acc: 0.983 - ETA: 2:38 - loss: 0.0605 - acc: 0.983 - ETA: 2:38 - loss: 0.0602 - acc: 0.983 - ETA: 2:38 - loss: 0.0616 - acc: 0.983 - ETA: 2:38 - loss: 0.0611 - acc: 0.983 - ETA: 2:38 - loss: 0.0627 - acc: 0.982 - ETA: 2:38 - loss: 0.0625 - acc: 0.982 - ETA: 2:38 - loss: 0.0623 - acc: 0.982 - ETA: 2:38 - loss: 0.0617 - acc: 0.982 - ETA: 2:37 - loss: 0.0625 - acc: 0.982 - ETA: 2:37 - loss: 0.0622 - acc: 0.982 - ETA: 2:37 - loss: 0.0622 - acc: 0.982 - ETA: 2:37 - loss: 0.0618 - acc: 0.982 - ETA: 2:37 - loss: 0.0613 - acc: 0.983 - ETA: 2:36 - loss: 0.0609 - acc: 0.983 - ETA: 2:36 - loss: 0.0606 - acc: 0.983 - ETA: 2:36 - loss: 0.0603 - acc: 0.983 - ETA: 2:36 - loss: 0.0599 - acc: 0.983 - ETA: 2:36 - loss: 0.0596 - acc: 0.983 - ETA: 2:35 - loss: 0.0593 - acc: 0.983 - ETA: 2:36 - loss: 0.0595 - acc: 0.983 - ETA: 2:35 - loss: 0.0601 - acc: 0.983 - ETA: 2:35 - loss: 0.0605 - acc: 0.983 - ETA: 2:35 - loss: 0.0602 - acc: 0.983 - ETA: 2:35 - loss: 0.0611 - acc: 0.983 - ETA: 2:35 - loss: 0.0610 - acc: 0.983 - ETA: 2:35 - loss: 0.0604 - acc: 0.983 - ETA: 2:34 - loss: 0.0603 - acc: 0.983 - ETA: 2:34 - loss: 0.0601 - acc: 0.983 - ETA: 2:34 - loss: 0.0599 - acc: 0.983 - ETA: 2:34 - loss: 0.0595 - acc: 0.984 - ETA: 2:34 - loss: 0.0596 - acc: 0.983 - ETA: 2:34 - loss: 0.0593 - acc: 0.984 - ETA: 2:33 - loss: 0.0589 - acc: 0.984 - ETA: 2:33 - loss: 0.0590 - acc: 0.984 - ETA: 2:33 - loss: 0.0586 - acc: 0.984 - ETA: 2:33 - loss: 0.0602 - acc: 0.983 - ETA: 2:33 - loss: 0.0600 - acc: 0.983 - ETA: 2:32 - loss: 0.0599 - acc: 0.983 - ETA: 2:32 - loss: 0.0596 - acc: 0.983 - ETA: 2:32 - loss: 0.0596 - acc: 0.983 - ETA: 2:32 - loss: 0.0594 - acc: 0.983 - ETA: 2:32 - loss: 0.0597 - acc: 0.983 - ETA: 2:31 - loss: 0.0601 - acc: 0.983 - ETA: 2:31 - loss: 0.0599 - acc: 0.983 - ETA: 2:31 - loss: 0.0596 - acc: 0.983 - ETA: 2:31 - loss: 0.0606 - acc: 0.983 - ETA: 2:31 - loss: 0.0609 - acc: 0.983 - ETA: 2:30 - loss: 0.0606 - acc: 0.983 - ETA: 2:30 - loss: 0.0603 - acc: 0.983 - ETA: 2:30 - loss: 0.0603 - acc: 0.983 - ETA: 2:30 - loss: 0.0602 - acc: 0.983 - ETA: 2:30 - loss: 0.0600 - acc: 0.983 - ETA: 2:29 - loss: 0.0597 - acc: 0.983 - ETA: 2:29 - loss: 0.0596 - acc: 0.983 - ETA: 2:30 - loss: 0.0601 - acc: 0.983 - ETA: 2:29 - loss: 0.0599 - acc: 0.983 - ETA: 2:29 - loss: 0.0597 - acc: 0.983 - ETA: 2:29 - loss: 0.0603 - acc: 0.983 - ETA: 2:29 - loss: 0.0623 - acc: 0.982 - ETA: 2:28 - loss: 0.0621 - acc: 0.983 - ETA: 2:28 - loss: 0.0619 - acc: 0.983 - ETA: 2:28 - loss: 0.0621 - acc: 0.983 - ETA: 2:28 - loss: 0.0624 - acc: 0.982 - ETA: 2:28 - loss: 0.0625 - acc: 0.982 - ETA: 2:28 - loss: 0.0628 - acc: 0.982 - ETA: 2:28 - loss: 0.0626 - acc: 0.982 - ETA: 2:27 - loss: 0.0622 - acc: 0.982 - ETA: 2:27 - loss: 0.0621 - acc: 0.982 - ETA: 2:27 - loss: 0.0622 - acc: 0.982 - ETA: 2:27 - loss: 0.0623 - acc: 0.982 - ETA: 2:27 - loss: 0.0625 - acc: 0.982 - ETA: 2:27 - loss: 0.0626 - acc: 0.982 - ETA: 2:26 - loss: 0.0625 - acc: 0.982 - ETA: 2:26 - loss: 0.0630 - acc: 0.982 - ETA: 2:26 - loss: 0.0634 - acc: 0.981 - ETA: 2:26 - loss: 0.0634 - acc: 0.981 - ETA: 2:26 - loss: 0.0634 - acc: 0.981 - ETA: 2:26 - loss: 0.0632 - acc: 0.981 - ETA: 2:25 - loss: 0.0630 - acc: 0.981 - ETA: 2:25 - loss: 0.0632 - acc: 0.981 - ETA: 2:25 - loss: 0.0640 - acc: 0.981 - ETA: 2:25 - loss: 0.0638 - acc: 0.981 - ETA: 2:24 - loss: 0.0636 - acc: 0.981 - ETA: 2:24 - loss: 0.0636 - acc: 0.981 - ETA: 2:24 - loss: 0.0634 - acc: 0.981 - ETA: 2:23 - loss: 0.0633 - acc: 0.981 - ETA: 2:23 - loss: 0.0630 - acc: 0.981 - ETA: 2:23 - loss: 0.0629 - acc: 0.981 - ETA: 2:23 - loss: 0.0631 - acc: 0.981 - ETA: 2:23 - loss: 0.0631 - acc: 0.981 - ETA: 2:23 - loss: 0.0629 - acc: 0.981 - ETA: 2:22 - loss: 0.0630 - acc: 0.981 - ETA: 2:22 - loss: 0.0627 - acc: 0.981 - ETA: 2:21 - loss: 0.0626 - acc: 0.981 - ETA: 2:21 - loss: 0.0624 - acc: 0.981 - ETA: 2:21 - loss: 0.0621 - acc: 0.981 - ETA: 2:21 - loss: 0.0622 - acc: 0.981 - ETA: 2:21 - loss: 0.0625 - acc: 0.981 - ETA: 2:21 - loss: 0.0626 - acc: 0.981 - ETA: 2:20 - loss: 0.0630 - acc: 0.981 - ETA: 2:20 - loss: 0.0631 - acc: 0.981 - ETA: 2:20 - loss: 0.0633 - acc: 0.980 - ETA: 2:20 - loss: 0.0631 - acc: 0.981 - ETA: 2:19 - loss: 0.0631 - acc: 0.981 - ETA: 2:19 - loss: 0.0629 - acc: 0.981 - ETA: 2:19 - loss: 0.0629 - acc: 0.981 - ETA: 2:19 - loss: 0.0629 - acc: 0.981 - ETA: 2:19 - loss: 0.0628 - acc: 0.980 - ETA: 2:18 - loss: 0.0628 - acc: 0.980 - ETA: 2:18 - loss: 0.0628 - acc: 0.980 - ETA: 2:18 - loss: 0.0629 - acc: 0.980 - ETA: 2:18 - loss: 0.0629 - acc: 0.980 - ETA: 2:17 - loss: 0.0630 - acc: 0.980 - ETA: 2:17 - loss: 0.0628 - acc: 0.980 - ETA: 2:17 - loss: 0.0626 - acc: 0.980 - ETA: 2:17 - loss: 0.0625 - acc: 0.980 - ETA: 2:16 - loss: 0.0627 - acc: 0.980 - ETA: 2:16 - loss: 0.0625 - acc: 0.980 - ETA: 2:16 - loss: 0.0622 - acc: 0.981013056/25000 [==============>...............] - ETA: 2:16 - loss: 0.0620 - acc: 0.981 - ETA: 2:16 - loss: 0.0618 - acc: 0.981 - ETA: 2:15 - loss: 0.0615 - acc: 0.981 - ETA: 2:15 - loss: 0.0618 - acc: 0.981 - ETA: 2:15 - loss: 0.0619 - acc: 0.981 - ETA: 2:15 - loss: 0.0626 - acc: 0.980 - ETA: 2:14 - loss: 0.0626 - acc: 0.980 - ETA: 2:14 - loss: 0.0623 - acc: 0.980 - ETA: 2:14 - loss: 0.0621 - acc: 0.980 - ETA: 2:14 - loss: 0.0622 - acc: 0.980 - ETA: 2:14 - loss: 0.0623 - acc: 0.980 - ETA: 2:13 - loss: 0.0625 - acc: 0.980 - ETA: 2:13 - loss: 0.0627 - acc: 0.980 - ETA: 2:13 - loss: 0.0630 - acc: 0.980 - ETA: 2:13 - loss: 0.0632 - acc: 0.980 - ETA: 2:13 - loss: 0.0631 - acc: 0.980 - ETA: 2:12 - loss: 0.0630 - acc: 0.980 - ETA: 2:12 - loss: 0.0636 - acc: 0.980 - ETA: 2:12 - loss: 0.0637 - acc: 0.980 - ETA: 2:12 - loss: 0.0636 - acc: 0.980 - ETA: 2:11 - loss: 0.0638 - acc: 0.980 - ETA: 2:11 - loss: 0.0642 - acc: 0.980 - ETA: 2:11 - loss: 0.0644 - acc: 0.979 - ETA: 2:11 - loss: 0.0649 - acc: 0.979 - ETA: 2:10 - loss: 0.0652 - acc: 0.979 - ETA: 2:10 - loss: 0.0650 - acc: 0.979 - ETA: 2:10 - loss: 0.0656 - acc: 0.979 - ETA: 2:10 - loss: 0.0658 - acc: 0.979 - ETA: 2:09 - loss: 0.0662 - acc: 0.978 - ETA: 2:09 - loss: 0.0662 - acc: 0.979 - ETA: 2:09 - loss: 0.0663 - acc: 0.979 - ETA: 2:09 - loss: 0.0668 - acc: 0.978 - ETA: 2:08 - loss: 0.0670 - acc: 0.978 - ETA: 2:08 - loss: 0.0669 - acc: 0.979 - ETA: 2:08 - loss: 0.0671 - acc: 0.979 - ETA: 2:08 - loss: 0.0673 - acc: 0.978 - ETA: 2:07 - loss: 0.0673 - acc: 0.979 - ETA: 2:07 - loss: 0.0676 - acc: 0.978 - ETA: 2:07 - loss: 0.0676 - acc: 0.978 - ETA: 2:07 - loss: 0.0677 - acc: 0.978 - ETA: 2:07 - loss: 0.0678 - acc: 0.978 - ETA: 2:06 - loss: 0.0678 - acc: 0.978 - ETA: 2:06 - loss: 0.0678 - acc: 0.978 - ETA: 2:06 - loss: 0.0677 - acc: 0.978 - ETA: 2:06 - loss: 0.0677 - acc: 0.978 - ETA: 2:05 - loss: 0.0679 - acc: 0.978 - ETA: 2:05 - loss: 0.0677 - acc: 0.978 - ETA: 2:05 - loss: 0.0678 - acc: 0.978 - ETA: 2:05 - loss: 0.0678 - acc: 0.978 - ETA: 2:05 - loss: 0.0679 - acc: 0.977 - ETA: 2:04 - loss: 0.0682 - acc: 0.977 - ETA: 2:04 - loss: 0.0688 - acc: 0.977 - ETA: 2:04 - loss: 0.0686 - acc: 0.977 - ETA: 2:04 - loss: 0.0684 - acc: 0.977 - ETA: 2:03 - loss: 0.0686 - acc: 0.977 - ETA: 2:03 - loss: 0.0688 - acc: 0.977 - ETA: 2:03 - loss: 0.0685 - acc: 0.977 - ETA: 2:03 - loss: 0.0685 - acc: 0.977 - ETA: 2:02 - loss: 0.0683 - acc: 0.977 - ETA: 2:02 - loss: 0.0687 - acc: 0.977 - ETA: 2:02 - loss: 0.0688 - acc: 0.977 - ETA: 2:02 - loss: 0.0689 - acc: 0.977 - ETA: 2:02 - loss: 0.0689 - acc: 0.977 - ETA: 2:01 - loss: 0.0687 - acc: 0.977 - ETA: 2:01 - loss: 0.0686 - acc: 0.977 - ETA: 2:01 - loss: 0.0692 - acc: 0.977 - ETA: 2:01 - loss: 0.0691 - acc: 0.977 - ETA: 2:00 - loss: 0.0690 - acc: 0.977 - ETA: 2:00 - loss: 0.0689 - acc: 0.977 - ETA: 2:00 - loss: 0.0689 - acc: 0.977 - ETA: 2:00 - loss: 0.0690 - acc: 0.977 - ETA: 2:00 - loss: 0.0692 - acc: 0.977 - ETA: 1:59 - loss: 0.0694 - acc: 0.977 - ETA: 1:59 - loss: 0.0692 - acc: 0.977 - ETA: 1:59 - loss: 0.0693 - acc: 0.977 - ETA: 1:59 - loss: 0.0691 - acc: 0.977 - ETA: 1:59 - loss: 0.0691 - acc: 0.977 - ETA: 1:58 - loss: 0.0689 - acc: 0.977 - ETA: 1:58 - loss: 0.0692 - acc: 0.977 - ETA: 1:58 - loss: 0.0693 - acc: 0.977 - ETA: 1:58 - loss: 0.0698 - acc: 0.977 - ETA: 1:57 - loss: 0.0696 - acc: 0.977 - ETA: 1:57 - loss: 0.0694 - acc: 0.977 - ETA: 1:57 - loss: 0.0699 - acc: 0.977 - ETA: 1:56 - loss: 0.0703 - acc: 0.977 - ETA: 1:56 - loss: 0.0701 - acc: 0.977 - ETA: 1:55 - loss: 0.0704 - acc: 0.977 - ETA: 1:55 - loss: 0.0707 - acc: 0.977 - ETA: 1:55 - loss: 0.0706 - acc: 0.977 - ETA: 1:54 - loss: 0.0706 - acc: 0.977 - ETA: 1:54 - loss: 0.0706 - acc: 0.977 - ETA: 1:54 - loss: 0.0708 - acc: 0.976 - ETA: 1:54 - loss: 0.0706 - acc: 0.977 - ETA: 1:53 - loss: 0.0708 - acc: 0.976 - ETA: 1:53 - loss: 0.0707 - acc: 0.976 - ETA: 1:53 - loss: 0.0706 - acc: 0.977 - ETA: 1:52 - loss: 0.0704 - acc: 0.977 - ETA: 1:52 - loss: 0.0703 - acc: 0.977 - ETA: 1:52 - loss: 0.0703 - acc: 0.977 - ETA: 1:51 - loss: 0.0702 - acc: 0.977 - ETA: 1:51 - loss: 0.0702 - acc: 0.977 - ETA: 1:51 - loss: 0.0703 - acc: 0.977 - ETA: 1:50 - loss: 0.0710 - acc: 0.976 - ETA: 1:50 - loss: 0.0709 - acc: 0.977 - ETA: 1:50 - loss: 0.0709 - acc: 0.976 - ETA: 1:50 - loss: 0.0708 - acc: 0.977 - ETA: 1:49 - loss: 0.0709 - acc: 0.976 - ETA: 1:49 - loss: 0.0708 - acc: 0.977 - ETA: 1:49 - loss: 0.0707 - acc: 0.977 - ETA: 1:48 - loss: 0.0708 - acc: 0.976 - ETA: 1:48 - loss: 0.0707 - acc: 0.976 - ETA: 1:48 - loss: 0.0706 - acc: 0.976 - ETA: 1:47 - loss: 0.0706 - acc: 0.976 - ETA: 1:47 - loss: 0.0707 - acc: 0.976 - ETA: 1:47 - loss: 0.0706 - acc: 0.976 - ETA: 1:46 - loss: 0.0705 - acc: 0.976 - ETA: 1:46 - loss: 0.0703 - acc: 0.976 - ETA: 1:46 - loss: 0.0704 - acc: 0.976 - ETA: 1:45 - loss: 0.0705 - acc: 0.976 - ETA: 1:45 - loss: 0.0703 - acc: 0.976 - ETA: 1:45 - loss: 0.0702 - acc: 0.977 - ETA: 1:44 - loss: 0.0700 - acc: 0.977 - ETA: 1:44 - loss: 0.0698 - acc: 0.977 - ETA: 1:44 - loss: 0.0699 - acc: 0.977 - ETA: 1:43 - loss: 0.0702 - acc: 0.977 - ETA: 1:43 - loss: 0.0705 - acc: 0.976 - ETA: 1:43 - loss: 0.0704 - acc: 0.977 - ETA: 1:42 - loss: 0.0705 - acc: 0.976 - ETA: 1:42 - loss: 0.0704 - acc: 0.977 - ETA: 1:42 - loss: 0.0706 - acc: 0.976 - ETA: 1:42 - loss: 0.0705 - acc: 0.977 - ETA: 1:41 - loss: 0.0704 - acc: 0.976 - ETA: 1:41 - loss: 0.0703 - acc: 0.977 - ETA: 1:41 - loss: 0.0703 - acc: 0.977 - ETA: 1:40 - loss: 0.0701 - acc: 0.977 - ETA: 1:40 - loss: 0.0703 - acc: 0.976 - ETA: 1:40 - loss: 0.0703 - acc: 0.976 - ETA: 1:40 - loss: 0.0702 - acc: 0.976 - ETA: 1:39 - loss: 0.0701 - acc: 0.976 - ETA: 1:39 - loss: 0.0706 - acc: 0.976 - ETA: 1:39 - loss: 0.0711 - acc: 0.976 - ETA: 1:39 - loss: 0.0709 - acc: 0.976 - ETA: 1:39 - loss: 0.0708 - acc: 0.976 - ETA: 1:38 - loss: 0.0706 - acc: 0.977 - ETA: 1:38 - loss: 0.0707 - acc: 0.977 - ETA: 1:38 - loss: 0.0712 - acc: 0.977 - ETA: 1:38 - loss: 0.0712 - acc: 0.976 - ETA: 1:38 - loss: 0.0710 - acc: 0.977 - ETA: 1:37 - loss: 0.0711 - acc: 0.977 - ETA: 1:37 - loss: 0.0710 - acc: 0.977 - ETA: 1:37 - loss: 0.0709 - acc: 0.977 - ETA: 1:37 - loss: 0.0708 - acc: 0.977 - ETA: 1:36 - loss: 0.0708 - acc: 0.977 - ETA: 1:36 - loss: 0.0706 - acc: 0.977 - ETA: 1:36 - loss: 0.0705 - acc: 0.977 - ETA: 1:36 - loss: 0.0703 - acc: 0.977 - ETA: 1:35 - loss: 0.0708 - acc: 0.977 - ETA: 1:35 - loss: 0.0709 - acc: 0.977 - ETA: 1:35 - loss: 0.0708 - acc: 0.977 - ETA: 1:35 - loss: 0.0711 - acc: 0.976 - ETA: 1:35 - loss: 0.0715 - acc: 0.976 - ETA: 1:34 - loss: 0.0714 - acc: 0.976 - ETA: 1:34 - loss: 0.0713 - acc: 0.976 - ETA: 1:34 - loss: 0.0712 - acc: 0.976 - ETA: 1:34 - loss: 0.0713 - acc: 0.976 - ETA: 1:33 - loss: 0.0713 - acc: 0.976 - ETA: 1:33 - loss: 0.0716 - acc: 0.976 - ETA: 1:33 - loss: 0.0716 - acc: 0.976 - ETA: 1:33 - loss: 0.0716 - acc: 0.976 - ETA: 1:33 - loss: 0.0716 - acc: 0.976 - ETA: 1:32 - loss: 0.0717 - acc: 0.976 - ETA: 1:32 - loss: 0.0718 - acc: 0.976 - ETA: 1:32 - loss: 0.0721 - acc: 0.976 - ETA: 1:32 - loss: 0.0719 - acc: 0.976 - ETA: 1:32 - loss: 0.0718 - acc: 0.976 - ETA: 1:31 - loss: 0.0718 - acc: 0.976 - ETA: 1:31 - loss: 0.0717 - acc: 0.976 - ETA: 1:31 - loss: 0.0724 - acc: 0.976 - ETA: 1:31 - loss: 0.0727 - acc: 0.976 - ETA: 1:31 - loss: 0.0726 - acc: 0.976 - ETA: 1:30 - loss: 0.0726 - acc: 0.976 - ETA: 1:30 - loss: 0.0729 - acc: 0.976 - ETA: 1:30 - loss: 0.0729 - acc: 0.976 - ETA: 1:30 - loss: 0.0731 - acc: 0.976 - ETA: 1:30 - loss: 0.0733 - acc: 0.976 - ETA: 1:29 - loss: 0.0736 - acc: 0.976 - ETA: 1:29 - loss: 0.0739 - acc: 0.976 - ETA: 1:29 - loss: 0.0739 - acc: 0.976 - ETA: 1:29 - loss: 0.0741 - acc: 0.976 - ETA: 1:28 - loss: 0.0741 - acc: 0.976 - ETA: 1:28 - loss: 0.0741 - acc: 0.976 - ETA: 1:28 - loss: 0.0741 - acc: 0.976 - ETA: 1:28 - loss: 0.0741 - acc: 0.976 - ETA: 1:28 - loss: 0.0741 - acc: 0.976 - ETA: 1:27 - loss: 0.0744 - acc: 0.975 - ETA: 1:27 - loss: 0.0746 - acc: 0.975 - ETA: 1:27 - loss: 0.0747 - acc: 0.975 - ETA: 1:27 - loss: 0.0749 - acc: 0.975 - ETA: 1:27 - loss: 0.0750 - acc: 0.975 - ETA: 1:26 - loss: 0.0750 - acc: 0.975 - ETA: 1:26 - loss: 0.0753 - acc: 0.975 - ETA: 1:26 - loss: 0.0753 - acc: 0.975 - ETA: 1:26 - loss: 0.0752 - acc: 0.975 - ETA: 1:25 - loss: 0.0752 - acc: 0.975319744/25000 [======================>.......] - ETA: 1:25 - loss: 0.0752 - acc: 0.975 - ETA: 1:25 - loss: 0.0753 - acc: 0.975 - ETA: 1:25 - loss: 0.0752 - acc: 0.975 - ETA: 1:25 - loss: 0.0754 - acc: 0.975 - ETA: 1:24 - loss: 0.0753 - acc: 0.975 - ETA: 1:24 - loss: 0.0752 - acc: 0.975 - ETA: 1:24 - loss: 0.0754 - acc: 0.975 - ETA: 1:24 - loss: 0.0753 - acc: 0.975 - ETA: 1:24 - loss: 0.0752 - acc: 0.975 - ETA: 1:23 - loss: 0.0751 - acc: 0.975 - ETA: 1:23 - loss: 0.0750 - acc: 0.975 - ETA: 1:23 - loss: 0.0751 - acc: 0.975 - ETA: 1:23 - loss: 0.0752 - acc: 0.975 - ETA: 1:22 - loss: 0.0751 - acc: 0.975 - ETA: 1:22 - loss: 0.0752 - acc: 0.975 - ETA: 1:22 - loss: 0.0752 - acc: 0.975 - ETA: 1:22 - loss: 0.0753 - acc: 0.975 - ETA: 1:22 - loss: 0.0755 - acc: 0.974 - ETA: 1:21 - loss: 0.0754 - acc: 0.975 - ETA: 1:21 - loss: 0.0752 - acc: 0.975 - ETA: 1:21 - loss: 0.0751 - acc: 0.975 - ETA: 1:21 - loss: 0.0750 - acc: 0.975 - ETA: 1:21 - loss: 0.0749 - acc: 0.975 - ETA: 1:20 - loss: 0.0750 - acc: 0.975 - ETA: 1:20 - loss: 0.0749 - acc: 0.975 - ETA: 1:20 - loss: 0.0750 - acc: 0.975 - ETA: 1:19 - loss: 0.0752 - acc: 0.975 - ETA: 1:19 - loss: 0.0754 - acc: 0.975 - ETA: 1:19 - loss: 0.0755 - acc: 0.975 - ETA: 1:19 - loss: 0.0755 - acc: 0.975 - ETA: 1:18 - loss: 0.0755 - acc: 0.974 - ETA: 1:18 - loss: 0.0755 - acc: 0.974 - ETA: 1:18 - loss: 0.0755 - acc: 0.974 - ETA: 1:18 - loss: 0.0754 - acc: 0.974 - ETA: 1:18 - loss: 0.0755 - acc: 0.974 - ETA: 1:17 - loss: 0.0755 - acc: 0.974 - ETA: 1:17 - loss: 0.0754 - acc: 0.974 - ETA: 1:17 - loss: 0.0756 - acc: 0.974 - ETA: 1:17 - loss: 0.0756 - acc: 0.974 - ETA: 1:16 - loss: 0.0756 - acc: 0.974 - ETA: 1:16 - loss: 0.0756 - acc: 0.974 - ETA: 1:16 - loss: 0.0755 - acc: 0.974 - ETA: 1:16 - loss: 0.0753 - acc: 0.974 - ETA: 1:16 - loss: 0.0752 - acc: 0.975 - ETA: 1:15 - loss: 0.0751 - acc: 0.975 - ETA: 1:15 - loss: 0.0750 - acc: 0.975 - ETA: 1:15 - loss: 0.0750 - acc: 0.975 - ETA: 1:15 - loss: 0.0748 - acc: 0.975 - ETA: 1:14 - loss: 0.0748 - acc: 0.975 - ETA: 1:14 - loss: 0.0751 - acc: 0.974 - ETA: 1:14 - loss: 0.0750 - acc: 0.974 - ETA: 1:14 - loss: 0.0751 - acc: 0.974 - ETA: 1:14 - loss: 0.0754 - acc: 0.974 - ETA: 1:13 - loss: 0.0753 - acc: 0.975 - ETA: 1:13 - loss: 0.0752 - acc: 0.975 - ETA: 1:13 - loss: 0.0751 - acc: 0.975 - ETA: 1:13 - loss: 0.0751 - acc: 0.975 - ETA: 1:13 - loss: 0.0750 - acc: 0.975 - ETA: 1:12 - loss: 0.0751 - acc: 0.975 - ETA: 1:12 - loss: 0.0751 - acc: 0.975 - ETA: 1:12 - loss: 0.0752 - acc: 0.974 - ETA: 1:12 - loss: 0.0751 - acc: 0.975 - ETA: 1:11 - loss: 0.0751 - acc: 0.975 - ETA: 1:11 - loss: 0.0751 - acc: 0.975 - ETA: 1:11 - loss: 0.0755 - acc: 0.974 - ETA: 1:11 - loss: 0.0754 - acc: 0.974 - ETA: 1:11 - loss: 0.0754 - acc: 0.974 - ETA: 1:10 - loss: 0.0755 - acc: 0.974 - ETA: 1:10 - loss: 0.0755 - acc: 0.974 - ETA: 1:10 - loss: 0.0754 - acc: 0.974 - ETA: 1:10 - loss: 0.0754 - acc: 0.974 - ETA: 1:10 - loss: 0.0753 - acc: 0.974 - ETA: 1:09 - loss: 0.0753 - acc: 0.974 - ETA: 1:09 - loss: 0.0752 - acc: 0.974 - ETA: 1:09 - loss: 0.0751 - acc: 0.974 - ETA: 1:09 - loss: 0.0751 - acc: 0.974 - ETA: 1:08 - loss: 0.0750 - acc: 0.974 - ETA: 1:08 - loss: 0.0753 - acc: 0.974 - ETA: 1:08 - loss: 0.0751 - acc: 0.974 - ETA: 1:08 - loss: 0.0753 - acc: 0.974 - ETA: 1:07 - loss: 0.0757 - acc: 0.974 - ETA: 1:07 - loss: 0.0762 - acc: 0.974 - ETA: 1:07 - loss: 0.0762 - acc: 0.974 - ETA: 1:06 - loss: 0.0761 - acc: 0.974 - ETA: 1:06 - loss: 0.0760 - acc: 0.974 - ETA: 1:06 - loss: 0.0761 - acc: 0.974 - ETA: 1:06 - loss: 0.0760 - acc: 0.974 - ETA: 1:06 - loss: 0.0759 - acc: 0.974 - ETA: 1:05 - loss: 0.0759 - acc: 0.974 - ETA: 1:05 - loss: 0.0758 - acc: 0.974 - ETA: 1:05 - loss: 0.0761 - acc: 0.974 - ETA: 1:05 - loss: 0.0762 - acc: 0.974 - ETA: 1:04 - loss: 0.0761 - acc: 0.974 - ETA: 1:04 - loss: 0.0762 - acc: 0.974 - ETA: 1:04 - loss: 0.0762 - acc: 0.974 - ETA: 1:03 - loss: 0.0762 - acc: 0.974 - ETA: 1:03 - loss: 0.0762 - acc: 0.974 - ETA: 1:03 - loss: 0.0763 - acc: 0.974 - ETA: 1:03 - loss: 0.0765 - acc: 0.974 - ETA: 1:02 - loss: 0.0764 - acc: 0.974 - ETA: 1:02 - loss: 0.0763 - acc: 0.974 - ETA: 1:02 - loss: 0.0762 - acc: 0.974 - ETA: 1:02 - loss: 0.0761 - acc: 0.974 - ETA: 1:01 - loss: 0.0761 - acc: 0.974 - ETA: 1:01 - loss: 0.0763 - acc: 0.974 - ETA: 1:01 - loss: 0.0762 - acc: 0.974 - ETA: 1:01 - loss: 0.0762 - acc: 0.974 - ETA: 1:00 - loss: 0.0761 - acc: 0.974 - ETA: 1:00 - loss: 0.0761 - acc: 0.974 - ETA: 1:00 - loss: 0.0763 - acc: 0.974 - ETA: 59s - loss: 0.0763 - acc: 0.974 - ETA: 59s - loss: 0.0766 - acc: 0.97 - ETA: 59s - loss: 0.0766 - acc: 0.97 - ETA: 59s - loss: 0.0765 - acc: 0.97 - ETA: 58s - loss: 0.0765 - acc: 0.97 - ETA: 58s - loss: 0.0764 - acc: 0.97 - ETA: 58s - loss: 0.0763 - acc: 0.97 - ETA: 58s - loss: 0.0764 - acc: 0.97 - ETA: 57s - loss: 0.0763 - acc: 0.97 - ETA: 57s - loss: 0.0764 - acc: 0.97 - ETA: 57s - loss: 0.0763 - acc: 0.97 - ETA: 57s - loss: 0.0764 - acc: 0.97 - ETA: 56s - loss: 0.0765 - acc: 0.97 - ETA: 56s - loss: 0.0764 - acc: 0.97 - ETA: 56s - loss: 0.0764 - acc: 0.97 - ETA: 56s - loss: 0.0766 - acc: 0.97 - ETA: 55s - loss: 0.0765 - acc: 0.97 - ETA: 55s - loss: 0.0765 - acc: 0.97 - ETA: 55s - loss: 0.0765 - acc: 0.97 - ETA: 55s - loss: 0.0764 - acc: 0.97 - ETA: 54s - loss: 0.0765 - acc: 0.97 - ETA: 54s - loss: 0.0765 - acc: 0.97 - ETA: 54s - loss: 0.0764 - acc: 0.97 - ETA: 54s - loss: 0.0763 - acc: 0.97 - ETA: 53s - loss: 0.0762 - acc: 0.97 - ETA: 53s - loss: 0.0761 - acc: 0.97 - ETA: 53s - loss: 0.0760 - acc: 0.97 - ETA: 52s - loss: 0.0759 - acc: 0.97 - ETA: 52s - loss: 0.0760 - acc: 0.97 - ETA: 52s - loss: 0.0761 - acc: 0.97 - ETA: 52s - loss: 0.0763 - acc: 0.97 - ETA: 51s - loss: 0.0763 - acc: 0.97 - ETA: 51s - loss: 0.0763 - acc: 0.97 - ETA: 51s - loss: 0.0763 - acc: 0.97 - ETA: 51s - loss: 0.0762 - acc: 0.97 - ETA: 50s - loss: 0.0762 - acc: 0.97 - ETA: 50s - loss: 0.0762 - acc: 0.97 - ETA: 50s - loss: 0.0762 - acc: 0.97 - ETA: 50s - loss: 0.0762 - acc: 0.97 - ETA: 49s - loss: 0.0761 - acc: 0.97 - ETA: 49s - loss: 0.0760 - acc: 0.97 - ETA: 49s - loss: 0.0759 - acc: 0.97 - ETA: 49s - loss: 0.0759 - acc: 0.97 - ETA: 48s - loss: 0.0758 - acc: 0.97 - ETA: 48s - loss: 0.0757 - acc: 0.97 - ETA: 48s - loss: 0.0756 - acc: 0.97 - ETA: 48s - loss: 0.0755 - acc: 0.97 - ETA: 47s - loss: 0.0755 - acc: 0.97 - ETA: 47s - loss: 0.0755 - acc: 0.97 - ETA: 47s - loss: 0.0755 - acc: 0.97 - ETA: 47s - loss: 0.0756 - acc: 0.97 - ETA: 46s - loss: 0.0755 - acc: 0.97 - ETA: 46s - loss: 0.0754 - acc: 0.97 - ETA: 46s - loss: 0.0753 - acc: 0.97 - ETA: 46s - loss: 0.0752 - acc: 0.97 - ETA: 46s - loss: 0.0752 - acc: 0.97 - ETA: 45s - loss: 0.0751 - acc: 0.97 - ETA: 45s - loss: 0.0751 - acc: 0.97 - ETA: 45s - loss: 0.0752 - acc: 0.97 - ETA: 45s - loss: 0.0752 - acc: 0.97 - ETA: 44s - loss: 0.0752 - acc: 0.97 - ETA: 44s - loss: 0.0752 - acc: 0.97 - ETA: 44s - loss: 0.0752 - acc: 0.97 - ETA: 44s - loss: 0.0751 - acc: 0.97 - ETA: 43s - loss: 0.0751 - acc: 0.97 - ETA: 43s - loss: 0.0751 - acc: 0.97 - ETA: 43s - loss: 0.0750 - acc: 0.97 - ETA: 43s - loss: 0.0749 - acc: 0.97 - ETA: 42s - loss: 0.0749 - acc: 0.97 - ETA: 42s - loss: 0.0748 - acc: 0.97 - ETA: 42s - loss: 0.0747 - acc: 0.97 - ETA: 42s - loss: 0.0746 - acc: 0.97 - ETA: 41s - loss: 0.0748 - acc: 0.97 - ETA: 41s - loss: 0.0749 - acc: 0.97 - ETA: 41s - loss: 0.0749 - acc: 0.97 - ETA: 41s - loss: 0.0749 - acc: 0.97 - ETA: 40s - loss: 0.0749 - acc: 0.97 - ETA: 40s - loss: 0.0749 - acc: 0.97 - ETA: 40s - loss: 0.0748 - acc: 0.97 - ETA: 40s - loss: 0.0747 - acc: 0.97 - ETA: 39s - loss: 0.0748 - acc: 0.97 - ETA: 39s - loss: 0.0747 - acc: 0.97 - ETA: 39s - loss: 0.0746 - acc: 0.97 - ETA: 39s - loss: 0.0745 - acc: 0.97 - ETA: 39s - loss: 0.0744 - acc: 0.97 - ETA: 38s - loss: 0.0744 - acc: 0.97 - ETA: 38s - loss: 0.0747 - acc: 0.97 - ETA: 38s - loss: 0.0749 - acc: 0.97 - ETA: 38s - loss: 0.0748 - acc: 0.97 - ETA: 37s - loss: 0.0747 - acc: 0.97 - ETA: 37s - loss: 0.0747 - acc: 0.97 - ETA: 37s - loss: 0.0746 - acc: 0.97 - ETA: 37s - loss: 0.0745 - acc: 0.97 - ETA: 36s - loss: 0.0745 - acc: 0.97 - ETA: 36s - loss: 0.0745 - acc: 0.97 - ETA: 36s - loss: 0.0745 - acc: 0.97 - ETA: 36s - loss: 0.0746 - acc: 0.97 - ETA: 35s - loss: 0.0745 - acc: 0.97 - ETA: 35s - loss: 0.0744 - acc: 0.9755"
     ]
    },
    {
     "name": "stdout",
     "output_type": "stream",
     "text": [
      "25000/25000 [==============================] - ETA: 35s - loss: 0.0744 - acc: 0.97 - ETA: 35s - loss: 0.0743 - acc: 0.97 - ETA: 34s - loss: 0.0742 - acc: 0.97 - ETA: 34s - loss: 0.0742 - acc: 0.97 - ETA: 34s - loss: 0.0742 - acc: 0.97 - ETA: 34s - loss: 0.0743 - acc: 0.97 - ETA: 34s - loss: 0.0745 - acc: 0.97 - ETA: 33s - loss: 0.0745 - acc: 0.97 - ETA: 33s - loss: 0.0745 - acc: 0.97 - ETA: 33s - loss: 0.0745 - acc: 0.97 - ETA: 33s - loss: 0.0745 - acc: 0.97 - ETA: 32s - loss: 0.0744 - acc: 0.97 - ETA: 32s - loss: 0.0743 - acc: 0.97 - ETA: 32s - loss: 0.0746 - acc: 0.97 - ETA: 32s - loss: 0.0745 - acc: 0.97 - ETA: 31s - loss: 0.0744 - acc: 0.97 - ETA: 31s - loss: 0.0744 - acc: 0.97 - ETA: 31s - loss: 0.0744 - acc: 0.97 - ETA: 31s - loss: 0.0744 - acc: 0.97 - ETA: 31s - loss: 0.0745 - acc: 0.97 - ETA: 30s - loss: 0.0745 - acc: 0.97 - ETA: 30s - loss: 0.0745 - acc: 0.97 - ETA: 30s - loss: 0.0745 - acc: 0.97 - ETA: 30s - loss: 0.0744 - acc: 0.97 - ETA: 29s - loss: 0.0744 - acc: 0.97 - ETA: 29s - loss: 0.0744 - acc: 0.97 - ETA: 29s - loss: 0.0743 - acc: 0.97 - ETA: 29s - loss: 0.0744 - acc: 0.97 - ETA: 28s - loss: 0.0746 - acc: 0.97 - ETA: 28s - loss: 0.0747 - acc: 0.97 - ETA: 28s - loss: 0.0746 - acc: 0.97 - ETA: 28s - loss: 0.0745 - acc: 0.97 - ETA: 28s - loss: 0.0744 - acc: 0.97 - ETA: 27s - loss: 0.0744 - acc: 0.97 - ETA: 27s - loss: 0.0743 - acc: 0.97 - ETA: 27s - loss: 0.0742 - acc: 0.97 - ETA: 27s - loss: 0.0743 - acc: 0.97 - ETA: 26s - loss: 0.0744 - acc: 0.97 - ETA: 26s - loss: 0.0744 - acc: 0.97 - ETA: 26s - loss: 0.0745 - acc: 0.97 - ETA: 26s - loss: 0.0745 - acc: 0.97 - ETA: 26s - loss: 0.0747 - acc: 0.97 - ETA: 25s - loss: 0.0748 - acc: 0.97 - ETA: 25s - loss: 0.0749 - acc: 0.97 - ETA: 25s - loss: 0.0748 - acc: 0.97 - ETA: 25s - loss: 0.0748 - acc: 0.97 - ETA: 24s - loss: 0.0749 - acc: 0.97 - ETA: 24s - loss: 0.0749 - acc: 0.97 - ETA: 24s - loss: 0.0748 - acc: 0.97 - ETA: 24s - loss: 0.0749 - acc: 0.97 - ETA: 24s - loss: 0.0749 - acc: 0.97 - ETA: 23s - loss: 0.0749 - acc: 0.97 - ETA: 23s - loss: 0.0748 - acc: 0.97 - ETA: 23s - loss: 0.0751 - acc: 0.97 - ETA: 23s - loss: 0.0752 - acc: 0.97 - ETA: 22s - loss: 0.0751 - acc: 0.97 - ETA: 22s - loss: 0.0751 - acc: 0.97 - ETA: 22s - loss: 0.0751 - acc: 0.97 - ETA: 22s - loss: 0.0750 - acc: 0.97 - ETA: 22s - loss: 0.0753 - acc: 0.97 - ETA: 21s - loss: 0.0752 - acc: 0.97 - ETA: 21s - loss: 0.0752 - acc: 0.97 - ETA: 21s - loss: 0.0752 - acc: 0.97 - ETA: 21s - loss: 0.0753 - acc: 0.97 - ETA: 20s - loss: 0.0752 - acc: 0.97 - ETA: 20s - loss: 0.0751 - acc: 0.97 - ETA: 20s - loss: 0.0751 - acc: 0.97 - ETA: 20s - loss: 0.0752 - acc: 0.97 - ETA: 20s - loss: 0.0753 - acc: 0.97 - ETA: 19s - loss: 0.0755 - acc: 0.97 - ETA: 19s - loss: 0.0755 - acc: 0.97 - ETA: 19s - loss: 0.0755 - acc: 0.97 - ETA: 19s - loss: 0.0755 - acc: 0.97 - ETA: 18s - loss: 0.0754 - acc: 0.97 - ETA: 18s - loss: 0.0753 - acc: 0.97 - ETA: 18s - loss: 0.0754 - acc: 0.97 - ETA: 18s - loss: 0.0756 - acc: 0.97 - ETA: 18s - loss: 0.0756 - acc: 0.97 - ETA: 17s - loss: 0.0757 - acc: 0.97 - ETA: 17s - loss: 0.0756 - acc: 0.97 - ETA: 17s - loss: 0.0756 - acc: 0.97 - ETA: 17s - loss: 0.0756 - acc: 0.97 - ETA: 17s - loss: 0.0755 - acc: 0.97 - ETA: 16s - loss: 0.0755 - acc: 0.97 - ETA: 16s - loss: 0.0755 - acc: 0.97 - ETA: 16s - loss: 0.0755 - acc: 0.97 - ETA: 16s - loss: 0.0755 - acc: 0.97 - ETA: 15s - loss: 0.0755 - acc: 0.97 - ETA: 15s - loss: 0.0755 - acc: 0.97 - ETA: 15s - loss: 0.0754 - acc: 0.97 - ETA: 15s - loss: 0.0753 - acc: 0.97 - ETA: 15s - loss: 0.0754 - acc: 0.97 - ETA: 14s - loss: 0.0756 - acc: 0.97 - ETA: 14s - loss: 0.0755 - acc: 0.97 - ETA: 14s - loss: 0.0756 - acc: 0.97 - ETA: 14s - loss: 0.0759 - acc: 0.97 - ETA: 14s - loss: 0.0759 - acc: 0.97 - ETA: 13s - loss: 0.0759 - acc: 0.97 - ETA: 13s - loss: 0.0758 - acc: 0.97 - ETA: 13s - loss: 0.0758 - acc: 0.97 - ETA: 13s - loss: 0.0758 - acc: 0.97 - ETA: 12s - loss: 0.0758 - acc: 0.97 - ETA: 12s - loss: 0.0757 - acc: 0.97 - ETA: 12s - loss: 0.0756 - acc: 0.97 - ETA: 12s - loss: 0.0757 - acc: 0.97 - ETA: 12s - loss: 0.0758 - acc: 0.97 - ETA: 11s - loss: 0.0757 - acc: 0.97 - ETA: 11s - loss: 0.0757 - acc: 0.97 - ETA: 11s - loss: 0.0757 - acc: 0.97 - ETA: 11s - loss: 0.0756 - acc: 0.97 - ETA: 11s - loss: 0.0759 - acc: 0.97 - ETA: 10s - loss: 0.0759 - acc: 0.97 - ETA: 10s - loss: 0.0759 - acc: 0.97 - ETA: 10s - loss: 0.0759 - acc: 0.97 - ETA: 10s - loss: 0.0758 - acc: 0.97 - ETA: 9s - loss: 0.0758 - acc: 0.9745 - ETA: 9s - loss: 0.0757 - acc: 0.974 - ETA: 9s - loss: 0.0757 - acc: 0.974 - ETA: 9s - loss: 0.0756 - acc: 0.974 - ETA: 9s - loss: 0.0757 - acc: 0.974 - ETA: 8s - loss: 0.0757 - acc: 0.974 - ETA: 8s - loss: 0.0757 - acc: 0.974 - ETA: 8s - loss: 0.0757 - acc: 0.974 - ETA: 8s - loss: 0.0757 - acc: 0.974 - ETA: 8s - loss: 0.0759 - acc: 0.974 - ETA: 7s - loss: 0.0759 - acc: 0.974 - ETA: 7s - loss: 0.0759 - acc: 0.974 - ETA: 7s - loss: 0.0758 - acc: 0.974 - ETA: 7s - loss: 0.0758 - acc: 0.974 - ETA: 7s - loss: 0.0757 - acc: 0.974 - ETA: 6s - loss: 0.0757 - acc: 0.974 - ETA: 6s - loss: 0.0761 - acc: 0.974 - ETA: 6s - loss: 0.0761 - acc: 0.974 - ETA: 6s - loss: 0.0760 - acc: 0.974 - ETA: 6s - loss: 0.0760 - acc: 0.974 - ETA: 5s - loss: 0.0761 - acc: 0.974 - ETA: 5s - loss: 0.0761 - acc: 0.974 - ETA: 5s - loss: 0.0760 - acc: 0.974 - ETA: 5s - loss: 0.0760 - acc: 0.974 - ETA: 4s - loss: 0.0760 - acc: 0.974 - ETA: 4s - loss: 0.0761 - acc: 0.974 - ETA: 4s - loss: 0.0760 - acc: 0.974 - ETA: 4s - loss: 0.0759 - acc: 0.974 - ETA: 4s - loss: 0.0760 - acc: 0.974 - ETA: 3s - loss: 0.0759 - acc: 0.974 - ETA: 3s - loss: 0.0759 - acc: 0.974 - ETA: 3s - loss: 0.0758 - acc: 0.974 - ETA: 3s - loss: 0.0759 - acc: 0.974 - ETA: 3s - loss: 0.0758 - acc: 0.974 - ETA: 2s - loss: 0.0758 - acc: 0.974 - ETA: 2s - loss: 0.0758 - acc: 0.974 - ETA: 2s - loss: 0.0758 - acc: 0.974 - ETA: 2s - loss: 0.0758 - acc: 0.974 - ETA: 2s - loss: 0.0757 - acc: 0.974 - ETA: 1s - loss: 0.0756 - acc: 0.974 - ETA: 1s - loss: 0.0757 - acc: 0.974 - ETA: 1s - loss: 0.0759 - acc: 0.974 - ETA: 1s - loss: 0.0759 - acc: 0.974 - ETA: 1s - loss: 0.0758 - acc: 0.974 - ETA: 0s - loss: 0.0758 - acc: 0.974 - ETA: 0s - loss: 0.0758 - acc: 0.974 - ETA: 0s - loss: 0.0758 - acc: 0.974 - ETA: 0s - loss: 0.0757 - acc: 0.974 - ETA: 0s - loss: 0.0759 - acc: 0.974 - 180s 7ms/step - loss: 0.0759 - acc: 0.9744 - val_loss: 0.5931 - val_acc: 0.8323\n"
     ]
    },
    {
     "data": {
      "text/plain": [
       "<keras.callbacks.History at 0x24087f2ebe0>"
      ]
     },
     "execution_count": 59,
     "metadata": {},
     "output_type": "execute_result"
    }
   ],
   "source": [
    "model = Sequential()\n",
    "model.add(Embedding(max_features, 128, input_length=maxlen))\n",
    "model.add(Bidirectional(LSTM(64)))\n",
    "model.add(Dropout(0.5))\n",
    "model.add(Dense(1, activation='sigmoid'))\n",
    "\n",
    "# try using different optimizers and different optimizer configs\n",
    "model.compile('adam', 'binary_crossentropy', metrics=['accuracy'])\n",
    "\n",
    "print('Train...')\n",
    "model.fit(x_train, y_train,\n",
    "          batch_size=batch_size,\n",
    "          epochs=4,\n",
    "          validation_data=[x_test, y_test])"
   ]
  },
  {
   "cell_type": "code",
   "execution_count": null,
   "metadata": {},
   "outputs": [],
   "source": []
  }
 ],
 "metadata": {
  "kernelspec": {
   "display_name": "Python 3",
   "language": "python",
   "name": "python3"
  },
  "language_info": {
   "codemirror_mode": {
    "name": "ipython",
    "version": 3
   },
   "file_extension": ".py",
   "mimetype": "text/x-python",
   "name": "python",
   "nbconvert_exporter": "python",
   "pygments_lexer": "ipython3",
   "version": "3.6.8"
  }
 },
 "nbformat": 4,
 "nbformat_minor": 2
}
