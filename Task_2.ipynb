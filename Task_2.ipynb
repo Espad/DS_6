{
 "cells": [
  {
   "cell_type": "markdown",
   "metadata": {},
   "source": [
    "Задача - multi-label классификация - освежить память что это значит (https://scikit-learn.org/stable/modules/multiclass.html).\n",
    "\n",
    "Тартеты: 14 последних колонок - df.iloc[:,-14:]\n",
    "\n",
    "Метрика: Micro averaged F1. Хорошо бы оценивать качество с помощью кросс-валидации.\n",
    "\n",
    "- Построить baseline с использованием линейной модели из scikit-learn\n",
    "\n",
    "\n",
    "- Чистый Tensorflow\n",
    "\n",
    "Построить линейную модель для решения этой задачи. Можно взять существующий код из блокнота Tensorflow examples 1.ipynb и переделать.\n",
    "\n",
    "\n",
    "- Keras\n",
    "\n",
    "Сделать тоже самое как и в Tensorflow но использовав чистый Keras\n",
    "\n",
    "Добавить слоёв и нелинейностей, сравнить качество моделей\n"
   ]
  },
  {
   "cell_type": "code",
   "execution_count": 1,
   "metadata": {},
   "outputs": [
    {
     "name": "stdout",
     "output_type": "stream",
     "text": [
      "Requirement already up-to-date: pandas in c:\\anaconda\\lib\\site-packages (0.24.1)\n",
      "Requirement already satisfied, skipping upgrade: pytz>=2011k in c:\\anaconda\\lib\\site-packages (from pandas) (2018.9)\n",
      "Requirement already satisfied, skipping upgrade: numpy>=1.12.0 in c:\\anaconda\\lib\\site-packages (from pandas) (1.13.3)\n",
      "Requirement already satisfied, skipping upgrade: python-dateutil>=2.5.0 in c:\\anaconda\\lib\\site-packages (from pandas) (2.7.5)\n",
      "Requirement already satisfied, skipping upgrade: six>=1.5 in c:\\anaconda\\lib\\site-packages (from python-dateutil>=2.5.0->pandas) (1.12.0)\n",
      "Requirement already up-to-date: scikit-learn in c:\\anaconda\\lib\\site-packages (0.20.2)\n",
      "Requirement already satisfied, skipping upgrade: numpy>=1.8.2 in c:\\anaconda\\lib\\site-packages (from scikit-learn) (1.13.3)\n",
      "Requirement already satisfied, skipping upgrade: scipy>=0.13.3 in c:\\anaconda\\lib\\site-packages (from scikit-learn) (1.2.0)\n",
      "Requirement already up-to-date: inflect in c:\\anaconda\\lib\\site-packages (2.1.0)\n",
      "Requirement already up-to-date: seaborn in c:\\anaconda\\lib\\site-packages (0.9.0)\n",
      "Requirement already satisfied, skipping upgrade: pandas>=0.15.2 in c:\\anaconda\\lib\\site-packages (from seaborn) (0.24.1)\n",
      "Requirement already satisfied, skipping upgrade: numpy>=1.9.3 in c:\\anaconda\\lib\\site-packages (from seaborn) (1.13.3)\n",
      "Requirement already satisfied, skipping upgrade: scipy>=0.14.0 in c:\\anaconda\\lib\\site-packages (from seaborn) (1.2.0)\n",
      "Requirement already satisfied, skipping upgrade: matplotlib>=1.4.3 in c:\\anaconda\\lib\\site-packages (from seaborn) (3.0.2)\n",
      "Requirement already satisfied, skipping upgrade: pytz>=2011k in c:\\anaconda\\lib\\site-packages (from pandas>=0.15.2->seaborn) (2018.9)\n",
      "Requirement already satisfied, skipping upgrade: python-dateutil>=2.5.0 in c:\\anaconda\\lib\\site-packages (from pandas>=0.15.2->seaborn) (2.7.5)\n",
      "Requirement already satisfied, skipping upgrade: cycler>=0.10 in c:\\anaconda\\lib\\site-packages (from matplotlib>=1.4.3->seaborn) (0.10.0)\n",
      "Requirement already satisfied, skipping upgrade: kiwisolver>=1.0.1 in c:\\anaconda\\lib\\site-packages (from matplotlib>=1.4.3->seaborn) (1.0.1)\n",
      "Requirement already satisfied, skipping upgrade: pyparsing!=2.0.4,!=2.1.2,!=2.1.6,>=2.0.1 in c:\\anaconda\\lib\\site-packages (from matplotlib>=1.4.3->seaborn) (2.3.1)\n",
      "Requirement already satisfied, skipping upgrade: six>=1.5 in c:\\anaconda\\lib\\site-packages (from python-dateutil>=2.5.0->pandas>=0.15.2->seaborn) (1.12.0)\n",
      "Requirement already satisfied, skipping upgrade: setuptools in c:\\anaconda\\lib\\site-packages (from kiwisolver>=1.0.1->matplotlib>=1.4.3->seaborn) (40.6.3)\n",
      "Requirement already up-to-date: pprint in c:\\anaconda\\lib\\site-packages (0.1)\n",
      "Requirement already up-to-date: tensorflow in c:\\anaconda\\lib\\site-packages (1.12.0)\n",
      "Requirement already satisfied, skipping upgrade: astor>=0.6.0 in c:\\anaconda\\lib\\site-packages (from tensorflow) (0.7.1)\n",
      "Requirement already satisfied, skipping upgrade: numpy>=1.13.3 in c:\\anaconda\\lib\\site-packages (from tensorflow) (1.13.3)\n",
      "Requirement already satisfied, skipping upgrade: absl-py>=0.1.6 in c:\\anaconda\\lib\\site-packages (from tensorflow) (0.7.0)\n",
      "Requirement already satisfied, skipping upgrade: six>=1.10.0 in c:\\anaconda\\lib\\site-packages (from tensorflow) (1.12.0)\n",
      "Requirement already satisfied, skipping upgrade: grpcio>=1.8.6 in c:\\anaconda\\lib\\site-packages (from tensorflow) (1.16.1)\n",
      "Requirement already satisfied, skipping upgrade: gast>=0.2.0 in c:\\anaconda\\lib\\site-packages (from tensorflow) (0.2.2)\n",
      "Requirement already satisfied, skipping upgrade: wheel>=0.26 in c:\\anaconda\\lib\\site-packages (from tensorflow) (0.32.3)\n",
      "Requirement already satisfied, skipping upgrade: tensorboard<1.13.0,>=1.12.0 in c:\\anaconda\\lib\\site-packages (from tensorflow) (1.12.2)\n",
      "Requirement already satisfied, skipping upgrade: keras-applications>=1.0.6 in c:\\anaconda\\lib\\site-packages (from tensorflow) (1.0.6)\n",
      "Requirement already satisfied, skipping upgrade: termcolor>=1.1.0 in c:\\anaconda\\lib\\site-packages (from tensorflow) (1.1.0)\n",
      "Requirement already satisfied, skipping upgrade: keras-preprocessing>=1.0.5 in c:\\anaconda\\lib\\site-packages (from tensorflow) (1.0.5)\n",
      "Requirement already satisfied, skipping upgrade: protobuf>=3.6.1 in c:\\anaconda\\lib\\site-packages (from tensorflow) (3.6.1)\n",
      "Requirement already satisfied, skipping upgrade: werkzeug>=0.11.10 in c:\\anaconda\\lib\\site-packages (from tensorboard<1.13.0,>=1.12.0->tensorflow) (0.14.1)\n",
      "Requirement already satisfied, skipping upgrade: markdown>=2.6.8 in c:\\anaconda\\lib\\site-packages (from tensorboard<1.13.0,>=1.12.0->tensorflow) (3.0.1)\n",
      "Requirement already satisfied, skipping upgrade: h5py in c:\\anaconda\\lib\\site-packages (from keras-applications>=1.0.6->tensorflow) (2.8.0)\n",
      "Requirement already satisfied, skipping upgrade: setuptools in c:\\anaconda\\lib\\site-packages (from protobuf>=3.6.1->tensorflow) (40.6.3)\n"
     ]
    }
   ],
   "source": [
    "!pip install --upgrade pandas\n",
    "!pip install --upgrade scikit-learn\n",
    "!pip install --upgrade inflect\n",
    "!pip install --upgrade seaborn\n",
    "!pip install --upgrade pprint\n",
    "!pip install --upgrade tensorflow\n",
    "#!pip install --upgrade contractions\n",
    "#!pip install --upgrade wordcloud\n",
    "#!pip install --upgrade umap-learn\n",
    "#!pip install --upgrade gensim\n",
    "#!pip install --upgrade pyldavis"
   ]
  },
  {
   "cell_type": "code",
   "execution_count": 2,
   "metadata": {},
   "outputs": [],
   "source": [
    "#common libs\n",
    "import numpy as np\n",
    "import pandas as pd\n",
    "import scipy.stats as st\n",
    "from matplotlib import pyplot as plt\n",
    "import seaborn as sns\n",
    "\n",
    "import re\n",
    "import string\n",
    "import inflect\n",
    "import itertools\n",
    "from pprint import pprint\n",
    "from tqdm import tqdm\n",
    "from time import time\n",
    "from itertools import compress\n",
    "from collections import Counter\n",
    "#import glob\n",
    "#import contractions\n",
    "#from wordcloud import WordCloud\n",
    "#import umap\n",
    "#import unicodedata\n",
    "#from bs4 import BeautifulSoup\n",
    "\n",
    "#import time\n",
    "\n",
    "#from scipy import interp\n",
    "\n",
    "import pickle\n",
    "sns.set(font_scale=1.3)\n",
    "\n",
    "seed = 321\n",
    "\n",
    "%matplotlib inline"
   ]
  },
  {
   "cell_type": "code",
   "execution_count": 3,
   "metadata": {},
   "outputs": [],
   "source": [
    "#sklearn libs\n",
    "from sklearn.preprocessing import label_binarize,MultiLabelBinarizer,StandardScaler, LabelEncoder\n",
    "from sklearn.pipeline import make_pipeline,Pipeline\n",
    "\n",
    "from sklearn.linear_model import LogisticRegression\n",
    "\n",
    "from sklearn.naive_bayes import MultinomialNB\n",
    "\n",
    "from sklearn.model_selection import GridSearchCV, StratifiedKFold, train_test_split, KFold, cross_val_score\n",
    "\n",
    "from sklearn.metrics import confusion_matrix, classification_report,f1_score, make_scorer\n",
    "\n",
    "from sklearn.manifold import TSNE\n",
    "\n",
    "from sklearn.decomposition import TruncatedSVD\n",
    "\n",
    "from sklearn.feature_extraction.text import TfidfVectorizer,CountVectorizer\n",
    "from sklearn.feature_extraction.stop_words import ENGLISH_STOP_WORDS"
   ]
  },
  {
   "cell_type": "code",
   "execution_count": 4,
   "metadata": {},
   "outputs": [
    {
     "name": "stderr",
     "output_type": "stream",
     "text": [
      "Using TensorFlow backend.\n"
     ]
    }
   ],
   "source": [
    "import tensorflow as tf\n",
    "\n",
    "import keras\n",
    "import json\n",
    "import operator\n",
    "from keras.preprocessing import sequence\n",
    "from keras.models import Sequential, model_from_json\n",
    "from keras.layers import Dense, Dropout, Activation, Embedding, LSTM, Bidirectional, GlobalAveragePooling1D\n",
    "from keras.metrics import binary_accuracy,categorical_accuracy\n",
    "from keras.callbacks import EarlyStopping, ModelCheckpoint\n",
    "\n",
    "from keras.utils import np_utils\n",
    "\n",
    "#convert words to sequence\n",
    "from keras.preprocessing.text import Tokenizer\n",
    "from keras.preprocessing.sequence import pad_sequences\n",
    "#from keras.datasets import imdb"
   ]
  },
  {
   "cell_type": "code",
   "execution_count": 5,
   "metadata": {},
   "outputs": [
    {
     "name": "stderr",
     "output_type": "stream",
     "text": [
      "[nltk_data] Downloading package punkt to\n",
      "[nltk_data]     C:\\Users\\chief\\AppData\\Roaming\\nltk_data...\n",
      "[nltk_data]   Package punkt is already up-to-date!\n",
      "[nltk_data] Downloading package stopwords to\n",
      "[nltk_data]     C:\\Users\\chief\\AppData\\Roaming\\nltk_data...\n",
      "[nltk_data]   Package stopwords is already up-to-date!\n",
      "[nltk_data] Downloading package wordnet to\n",
      "[nltk_data]     C:\\Users\\chief\\AppData\\Roaming\\nltk_data...\n",
      "[nltk_data]   Package wordnet is already up-to-date!\n",
      "[nltk_data] Downloading package names to\n",
      "[nltk_data]     C:\\Users\\chief\\AppData\\Roaming\\nltk_data...\n",
      "[nltk_data]   Package names is already up-to-date!\n"
     ]
    }
   ],
   "source": [
    "import nltk\n",
    "nltk.download('punkt')\n",
    "nltk.download(\"stopwords\")\n",
    "nltk.download('wordnet')\n",
    "nltk.download('names')\n",
    "\n",
    "from nltk.corpus import names\n",
    "from nltk.corpus import stopwords\n",
    "from nltk import ngrams\n",
    "\n",
    "from nltk import word_tokenize\n",
    "from nltk.stem.porter import PorterStemmer # one more stemmer? or lemmatisation\n",
    "from nltk.stem import WordNetLemmatizer,LancasterStemmer"
   ]
  },
  {
   "cell_type": "code",
   "execution_count": 6,
   "metadata": {},
   "outputs": [],
   "source": [
    "def next_batch(num, data, labels):\n",
    "    idx = np.arange(0 , len(data))\n",
    "    np.random.shuffle(idx)\n",
    "    idx = idx[:num]\n",
    "    data_shuffle = data[idx]\n",
    "    labels_shuffle = [labels[i] for i in idx]\n",
    "\n",
    "    return np.asarray(data_shuffle), np.asarray(labels_shuffle)"
   ]
  },
  {
   "cell_type": "markdown",
   "metadata": {},
   "source": [
    "#### EDA."
   ]
  },
  {
   "cell_type": "markdown",
   "metadata": {},
   "source": [
    "read first ten row to understand, how to parse data."
   ]
  },
  {
   "cell_type": "code",
   "execution_count": 7,
   "metadata": {},
   "outputs": [],
   "source": [
    "x_data, y_data = pickle.load(open('data/task_2/reviews_dataset.pkl', 'rb'))"
   ]
  },
  {
   "cell_type": "code",
   "execution_count": 8,
   "metadata": {},
   "outputs": [
    {
     "data": {
      "text/plain": [
       "769251"
      ]
     },
     "execution_count": 8,
     "metadata": {},
     "output_type": "execute_result"
    }
   ],
   "source": [
    "len(x_data)"
   ]
  },
  {
   "cell_type": "code",
   "execution_count": 9,
   "metadata": {},
   "outputs": [
    {
     "data": {
      "text/plain": [
       "769251"
      ]
     },
     "execution_count": 9,
     "metadata": {},
     "output_type": "execute_result"
    }
   ],
   "source": [
    "len(y_data)"
   ]
  },
  {
   "cell_type": "code",
   "execution_count": 10,
   "metadata": {},
   "outputs": [
    {
     "data": {
      "text/plain": [
       "'Потрясающе красивая графика космоса! Уже за это игру можно полюбить. Так же в наличии интересный осмысленный сюжет и удобное управление.'"
      ]
     },
     "execution_count": 10,
     "metadata": {},
     "output_type": "execute_result"
    }
   ],
   "source": [
    "x_data[0]"
   ]
  },
  {
   "cell_type": "code",
   "execution_count": 11,
   "metadata": {},
   "outputs": [
    {
     "data": {
      "text/plain": [
       "5"
      ]
     },
     "execution_count": 11,
     "metadata": {},
     "output_type": "execute_result"
    }
   ],
   "source": [
    "y_data[0]"
   ]
  },
  {
   "cell_type": "markdown",
   "metadata": {},
   "source": [
    "Baseline.\n",
    "\n",
    "Обучить линейную модель на TF-IDF представлении для предсказания оценки пользователя по его отзыву. \n",
    "\n",
    "Посмотреть на важность для каждой оценки."
   ]
  },
  {
   "cell_type": "code",
   "execution_count": 12,
   "metadata": {},
   "outputs": [],
   "source": [
    "def remove_emails(text):\n",
    "    text = re.sub(r'\\S*@\\S*\\s?','',text)    \n",
    "    return text\n",
    "\n",
    "\n",
    "#version on raw text\n",
    "def remove_punctuation2(text_punctuation,text):\n",
    "    \n",
    "    new_text = []\n",
    "    new_text = re.sub('\\n', ' ',text)\n",
    "    new_text = re.sub('\\t', '',new_text)\n",
    "    new_text = re.sub('['+text_punctuation+']', ' ',new_text)\n",
    "    new_text =  new_text.strip()\n",
    "    \n",
    "    return new_text\n",
    "\n",
    "#version after word_tokenizer\n",
    "def remove_punctuation(text_punctuation,text):\n",
    "    \n",
    "    new_text = []\n",
    "    for word in text: \n",
    "        new_word =  re.sub('['+text_punctuation+']', ' ',word)\n",
    "        new_word =  new_word.strip()\n",
    "        new_text.append(new_word)\n",
    "    \n",
    "    return new_text\n",
    "\n",
    "\n",
    "#ntlk word lemmatizer\n",
    "def lemmatize_stemm_text(text):\n",
    "    new_text_lemma = []\n",
    "    new_text_stemm = []\n",
    "    \n",
    "    lemmatizer = WordNetLemmatizer()\n",
    "    stemmer = LancasterStemmer()\n",
    "    \n",
    "    for word in text:\n",
    "        lemma = lemmatizer.lemmatize(word, pos='n') # v default\n",
    "        new_text_lemma.append(lemma)\n",
    "        \n",
    "        #stemm = stemmer.stem(word)\n",
    "        #new_text_stemm.append(stemm)\n",
    "        \n",
    "    return new_text_lemma, new_text_stemm\n",
    "        \n",
    "\n",
    "StopWords = list(set(stopwords.words('russian')))\n",
    "'''\n",
    "StopWords = list(set( stopwords.words('english') ).union( set(ENGLISH_STOP_WORDS)))\n",
    "newStopWords = ['jfc','jb'] # по ходу работы периодически добавляем стоп-слова\n",
    "newStopWords2 = ['arent', 'didnt', 'doesnt', 'dont', 'hadnt', 'havent', 'isnt', \n",
    "                 'mightnt', 'mustnt', 'neednt', 'shant', 'shes', 'shouldnt', 'shouldve', 'theres','thatll', 'wasnt', \n",
    "                 'werent', 'wont', 'wouldnt', 'youd', 'youll', 'youre', 'youve',\n",
    "                 \"'ll\", \"'re\", \"'ve\", \"n't\", 'need', 'sha', 'anna','n t','ann mari', 'ann marie', \n",
    "                 'anna diana', 'anna diane', 'anna maria', 'anne corinne', 'anne mar', 'anne marie', \n",
    "                 'barbara anne', 'bette ann', 'carol jean', 'diane marie', 'e lane', 'hans peter', \n",
    "                 'helen elizabeth', 'holly anne', 'jean christophe', 'jean francois', 'jean lou', \n",
    "                 'jean luc', 'jean marc', 'jean paul', 'jean pierre', 'jo anne', 'john david', 'john patrick', \n",
    "                 'kara lynn', 'marie ann', 'marie jeanne', 'paula grace', 'sara ann', \n",
    "                 'sheila kathryn', 'sue elle', 'terri jo', 'theresa marie','sza']\n",
    "\n",
    "#StopWords.extend(newStopWords)\n",
    "#StopWords.extend(newStopWords2)\n",
    "\n",
    "\n",
    "male_names = names.words('male.txt')\n",
    "female_names = names.words('female.txt')\n",
    "\n",
    "Common_First_Names = list(set(male_names).union(set(female_names)))\n",
    "Common_First_Names = list(map(lambda word: word.lower(), Common_First_Names))\n",
    "# temporaly disabled to reduce tfidf time\n",
    "#StopWords.extend(Common_First_Names) ''';\n",
    "\n",
    "def remove_stopwords(stop_words ,text):\n",
    "    \n",
    "    new_words = []\n",
    "    for word in text:\n",
    "        if word not in stop_words:\n",
    "            new_words.append(word)\n",
    "\n",
    "    return new_words\n",
    "\n",
    "def remove_short_words(text, word_len):\n",
    "    new_text = []\n",
    "    for word in text:\n",
    "        if len(word) >= word_len:\n",
    "            new_text.append(word)\n",
    "            \n",
    "    return new_text\n",
    "\n",
    "\n",
    "# getting source from string.punctuation\n",
    "text_punctuation = '!\"#$%&\\'()*+,-.:;<=>?@[\\\\]_`{|}~/^'\n",
    "\n",
    "def tokenize(text):\n",
    "    min_length = 3\n",
    "    \n",
    "    # remove emails from text to prevent overfit\n",
    "    text = remove_emails(text)\n",
    "    \n",
    "    # text to lowercase\n",
    "    text =  text.lower()\n",
    "\n",
    "    \n",
    "    #remove punctuation\n",
    "    text = remove_punctuation2(text_punctuation, text) \n",
    "\n",
    "    # tokenize text\n",
    "    words = word_tokenize(text,language='english')\n",
    "\n",
    "       \n",
    "    # remove stopwords\n",
    "    words = remove_stopwords(StopWords,words)\n",
    "    \n",
    "    #lemmatize words ,improve to 0.69 f1score\n",
    "    words,_ = lemmatize_stemm_text(words)\n",
    "    \n",
    "    #filter short words\n",
    "    words = remove_short_words(words, 2) #default 3\n",
    "\n",
    "    return words"
   ]
  },
  {
   "cell_type": "code",
   "execution_count": 13,
   "metadata": {},
   "outputs": [
    {
     "name": "stdout",
     "output_type": "stream",
     "text": [
      "Wall time: 3.01 s\n"
     ]
    }
   ],
   "source": [
    "%%time\n",
    "test = tokenize(x_data[4])"
   ]
  },
  {
   "cell_type": "code",
   "execution_count": 14,
   "metadata": {},
   "outputs": [
    {
     "data": {
      "text/plain": [
       "['таки',\n",
       " 'удержался',\n",
       " 'написать',\n",
       " 'топ',\n",
       " 'скорей',\n",
       " 'сотрут',\n",
       " 'прочтет',\n",
       " 'ужасной',\n",
       " 'игры',\n",
       " 'star',\n",
       " 'war',\n",
       " 'empire',\n",
       " 'at',\n",
       " 'war',\n",
       " 'dvd',\n",
       " 'ещё',\n",
       " 'поискать',\n",
       " 'нормального',\n",
       " 'сюжета',\n",
       " 'стратегия',\n",
       " 'это',\n",
       " 'вовсе',\n",
       " 'провал',\n",
       " 'давно',\n",
       " 'убедился',\n",
       " 'всё',\n",
       " 'берётся',\n",
       " '1с',\n",
       " 'плане',\n",
       " 'игр',\n",
       " 'отстой',\n",
       " 'хорошая',\n",
       " 'стратегия',\n",
       " 'эпизодам',\n",
       " 'star',\n",
       " 'war',\n",
       " 'это',\n",
       " 'star',\n",
       " 'war',\n",
       " 'galactic',\n",
       " 'battleground',\n",
       " 'играл',\n",
       " 'поймет']"
      ]
     },
     "execution_count": 14,
     "metadata": {},
     "output_type": "execute_result"
    }
   ],
   "source": [
    "test"
   ]
  },
  {
   "cell_type": "code",
   "execution_count": 15,
   "metadata": {},
   "outputs": [],
   "source": [
    "x_train, x_test, y_train, y_test = train_test_split(x_data, y_data, random_state = seed, test_size=0.3, shuffle=True)"
   ]
  },
  {
   "cell_type": "markdown",
   "metadata": {},
   "source": [
    "#### TFIDF + LogisticRegression."
   ]
  },
  {
   "cell_type": "code",
   "execution_count": 43,
   "metadata": {},
   "outputs": [],
   "source": [
    "vectorizer = TfidfVectorizer(stop_words=StopWords,\n",
    "                             tokenizer=tokenize, \n",
    "                             min_df=4, # ignore terms with freq less that т, lower majoring 4\n",
    "                             max_df=0.8, # ignore terms with freq more that n, upper majoring 0.8\n",
    "                             #max_features=100000,\n",
    "                             use_idf=True,  \n",
    "                             sublinear_tf=True,\n",
    "                             norm='l2',\n",
    "                             #ngram_range= (1, 3) # также используем н-граммы\n",
    "                            )"
   ]
  },
  {
   "cell_type": "code",
   "execution_count": 44,
   "metadata": {},
   "outputs": [],
   "source": [
    "%%time\n",
    "vectorised_train_documents = vectorizer.fit_transform(x_train)\n",
    "vectorised_test_documents = vectorizer.transform(x_test)"
   ]
  },
  {
   "cell_type": "code",
   "execution_count": 45,
   "metadata": {},
   "outputs": [
    {
     "data": {
      "text/plain": [
       "(538475, 143312)"
      ]
     },
     "execution_count": 45,
     "metadata": {},
     "output_type": "execute_result"
    }
   ],
   "source": [
    "vectorised_train_documents.shape"
   ]
  },
  {
   "cell_type": "code",
   "execution_count": 46,
   "metadata": {},
   "outputs": [
    {
     "data": {
      "text/plain": [
       "(230776, 143312)"
      ]
     },
     "execution_count": 46,
     "metadata": {},
     "output_type": "execute_result"
    }
   ],
   "source": [
    "vectorised_test_documents.shape"
   ]
  },
  {
   "cell_type": "code",
   "execution_count": 57,
   "metadata": {},
   "outputs": [],
   "source": [
    "def classify_and_score(classifier, X_train, X_test, y_train, y_test):\n",
    "    clf = classifier\n",
    "    clf.fit(X_train, y_train)\n",
    "\n",
    "    pred_train = clf.predict(X_train)\n",
    "    #print (\"Train score\")\n",
    "    f1_train = f1_score(y_train, pred_train, average='weighted')\n",
    "\n",
    "    #print (\"Test score\")\n",
    "    pred_test = clf.predict(X_test)\n",
    "    f1_test = f1_score(y_test, pred_test, average='weighted')\n",
    "    \n",
    "    return f1_train, f1_test, clf\n",
    "\n",
    "def plot_confusion_matrix(cm, classes,\n",
    "                          normalize=False,\n",
    "                          title='Confusion matrix',\n",
    "                          cmap=plt.cm.Paired):\n",
    "\n",
    "    if normalize:\n",
    "        cm = cm.astype('float') / cm.sum(axis=1)[:, np.newaxis]\n",
    "        print(\"Normalized confusion matrix\")\n",
    "    else:\n",
    "        print('Confusion matrix, without normalization')\n",
    "\n",
    "\n",
    "    plt.figure(figsize=(10,10))\n",
    "    plt.imshow(cm, interpolation='nearest', cmap=cmap)\n",
    "    plt.title(title)\n",
    "    plt.colorbar()\n",
    "    tick_marks = np.arange(len(classes))\n",
    "    plt.xticks(tick_marks, classes, rotation=90)\n",
    "    plt.yticks(tick_marks, classes)\n",
    "\n",
    "    fmt = '.2f' if normalize else 'd'\n",
    "    thresh = cm.max() / 2.\n",
    "    for i, j in itertools.product(range(cm.shape[0]), range(cm.shape[1])):\n",
    "        plt.text(j, i, format(cm[i, j], fmt),\n",
    "                 horizontalalignment=\"center\",\n",
    "                 color=\"black\" if cm[i, j] > thresh else \"black\")\n",
    "\n",
    "    plt.ylabel('True label')\n",
    "    plt.xlabel('Predicted label')\n",
    "    plt.tight_layout()"
   ]
  },
  {
   "cell_type": "code",
   "execution_count": 54,
   "metadata": {},
   "outputs": [],
   "source": [
    "log_reg = LogisticRegression(penalty='l2', tol=0.0001, C=1, \n",
    "                             class_weight='balanced', random_state=seed, \n",
    "                             max_iter=1000, solver = 'newton-cg',\n",
    "                             multi_class='ovr', verbose=0, \n",
    "                             n_jobs=-1)"
   ]
  },
  {
   "cell_type": "code",
   "execution_count": 55,
   "metadata": {},
   "outputs": [
    {
     "name": "stdout",
     "output_type": "stream",
     "text": [
      "Wall time: 1min 45s\n"
     ]
    }
   ],
   "source": [
    "%%time\n",
    "_,_, clf = classify_and_score(log_reg, vectorised_train_documents, \n",
    "                           vectorised_test_documents, y_train, y_test)"
   ]
  },
  {
   "cell_type": "code",
   "execution_count": 58,
   "metadata": {},
   "outputs": [
    {
     "name": "stdout",
     "output_type": "stream",
     "text": [
      "              precision    recall  f1-score   support\n",
      "\n",
      "           1       0.41      0.57      0.48     16683\n",
      "           2       0.16      0.22      0.19      9679\n",
      "           3       0.24      0.34      0.28     17653\n",
      "           4       0.34      0.41      0.37     33086\n",
      "           5       0.89      0.76      0.82    153675\n",
      "\n",
      "   micro avg       0.64      0.64      0.64    230776\n",
      "   macro avg       0.41      0.46      0.43    230776\n",
      "weighted avg       0.70      0.64      0.66    230776\n",
      "\n",
      "Confusion matrix, without normalization\n",
      "None\n"
     ]
    },
    {
     "data": {
      "image/png": "[encoded data removed]",
      "text/plain": [
       "<Figure size 720x720 with 2 Axes>"
      ]
     },
     "metadata": {
      "needs_background": "light"
     },
     "output_type": "display_data"
    }
   ],
   "source": [
    "labels = clf.classes_\n",
    "pred_test = clf.predict(vectorised_test_documents)\n",
    "print(classification_report(y_test,pred_test,labels = labels))\n",
    "\n",
    "cnf_matrix = confusion_matrix(y_test, pred_test)\n",
    "print(plot_confusion_matrix(cnf_matrix, classes = labels))"
   ]
  },
  {
   "cell_type": "markdown",
   "metadata": {},
   "source": [
    "Обучить рекуррентную нейронную сеть для предсказания оценки пользователя по его отзыву. Использовать случайную инициализация весов.\n",
    "\n",
    "- add stopwords?"
   ]
  },
  {
   "cell_type": "code",
   "execution_count": 46,
   "metadata": {},
   "outputs": [],
   "source": [
    "x_train, x_test, y_train, y_test = train_test_split(x_data, y_data, random_state = seed, \n",
    "                                                    test_size=0.3, shuffle=True,\n",
    "                                                    stratify = y_data)"
   ]
  },
  {
   "cell_type": "code",
   "execution_count": 47,
   "metadata": {},
   "outputs": [],
   "source": [
    "# Set parameters:\n",
    "num_word = 15000\n",
    "max_features = 20000\n",
    "batch_size = 128\n",
    "embedding_dims = 128\n",
    "epochs = 3\n",
    "maxlen = 80"
   ]
  },
  {
   "cell_type": "code",
   "execution_count": 48,
   "metadata": {},
   "outputs": [
    {
     "name": "stdout",
     "output_type": "stream",
     "text": [
      "485401\n",
      "Wall time: 1min 45s\n"
     ]
    }
   ],
   "source": [
    "%%time\n",
    "tokenizer = Tokenizer(num_words=num_word)\n",
    "tokenizer.fit_on_texts(x_train)\n",
    "\n",
    "x_train = tokenizer.texts_to_sequences(x_train)\n",
    "x_test = tokenizer.texts_to_sequences(x_test)\n",
    "vocab_size = len(tokenizer.word_index) + 1  # Adding 1 because of reserved 0 index\n",
    "print (vocab_size)"
   ]
  },
  {
   "cell_type": "code",
   "execution_count": 49,
   "metadata": {},
   "outputs": [],
   "source": [
    "#len(x_train)"
   ]
  },
  {
   "cell_type": "code",
   "execution_count": 50,
   "metadata": {},
   "outputs": [],
   "source": [
    "# encode class values as integers\n",
    "encoder = LabelEncoder()\n",
    "encoder.fit(y_train)\n",
    "encoded_y_train = encoder.transform(y_train)\n",
    "encoded_y_test = encoder.transform(y_test)\n",
    "# convert integers to dummy variables (i.e. one hot encoded)\n",
    "y_train = np_utils.to_categorical(encoded_y_train)\n",
    "y_test = np_utils.to_categorical(encoded_y_test)"
   ]
  },
  {
   "cell_type": "code",
   "execution_count": 37,
   "metadata": {},
   "outputs": [],
   "source": [
    "#y_train = np.array(y_train)\n",
    "#y_test = np.array(y_test)\n",
    "\n",
    "print (vocab_size)\n",
    "\n",
    "print(x_train[0])\n",
    "\n",
    "print(len(x_train[0]))\n",
    "\n",
    "print(len(x_train))"
   ]
  },
  {
   "cell_type": "code",
   "execution_count": 51,
   "metadata": {},
   "outputs": [],
   "source": [
    "x_train = pad_sequences(x_train, padding='post', maxlen=maxlen)\n",
    "x_test = pad_sequences(x_test, padding='post', maxlen=maxlen)"
   ]
  },
  {
   "cell_type": "code",
   "execution_count": 39,
   "metadata": {},
   "outputs": [
    {
     "name": "stdout",
     "output_type": "stream",
     "text": [
      "[ 6579   365     7 14591     1  2034    15  7231  2724    11    28    20\n",
      "  3633    39     1   548    13    80     4  6272  3817  7044  8109    11\n",
      "  1967  1093  3690    19     6  2560     1     2  1696  6620   828     1\n",
      "    39     5 12961     9  4132  4398  7125     3     7  6858 12318  3059\n",
      "  1786     7 12318  3059     2     4  3784   102  3817   665  1525  3729\n",
      "     6    33    14 13308  1708     7 12318  3059   879  4643     7  2726\n",
      "    10    54 10758    15   283 14297   558  3611]\n"
     ]
    }
   ],
   "source": [
    "print(x_train[0])"
   ]
  },
  {
   "cell_type": "code",
   "execution_count": 57,
   "metadata": {},
   "outputs": [
    {
     "data": {
      "text/plain": [
       "62131328"
      ]
     },
     "execution_count": 57,
     "metadata": {},
     "output_type": "execute_result"
    }
   ],
   "source": [
    "vocab_size * 128 # params of first layer, 128 is number of embeddings"
   ]
  },
  {
   "cell_type": "code",
   "execution_count": 53,
   "metadata": {},
   "outputs": [
    {
     "name": "stdout",
     "output_type": "stream",
     "text": [
      "_________________________________________________________________\n",
      "Layer (type)                 Output Shape              Param #   \n",
      "=================================================================\n",
      "embedding_2 (Embedding)      (None, 80, 128)           62131328  \n",
      "_________________________________________________________________\n",
      "bidirectional_2 (Bidirection (None, 128)               98816     \n",
      "_________________________________________________________________\n",
      "dropout_2 (Dropout)          (None, 128)               0         \n",
      "_________________________________________________________________\n",
      "dense_2 (Dense)              (None, 5)                 645       \n",
      "=================================================================\n",
      "Total params: 62,230,789\n",
      "Trainable params: 62,230,789\n",
      "Non-trainable params: 0\n",
      "_________________________________________________________________\n"
     ]
    }
   ],
   "source": [
    "model = Sequential()\n",
    "model.add(Embedding(input_dim = vocab_size, output_dim = 128, \n",
    "                    input_length=maxlen))#weights!\n",
    "model.add(Bidirectional(LSTM(64)))# weights!\n",
    "model.add(Dropout(0.1))\n",
    "#model.add(Dropout(0.5)) #1\n",
    "model.add(Dense(5, activation='softmax')) #softmax due to multiclass\n",
    "earlyStopping = EarlyStopping(monitor='val_acc', patience=2, verbose=2, mode='max',restore_best_weights=True)\n",
    "\n",
    "# try using different optimizers and different optimizer configs\n",
    "model.compile('adam', 'categorical_crossentropy', metrics=['accuracy'])\n",
    "\n",
    "model.summary()"
   ]
  },
  {
   "cell_type": "code",
   "execution_count": 54,
   "metadata": {},
   "outputs": [],
   "source": [
    "# no stratify\n",
    "x_train_part,y_train_part = next_batch(15000, x_train, y_train)\n",
    "x_test_part,y_test_part = next_batch(5000, x_test, y_test)"
   ]
  },
  {
   "cell_type": "code",
   "execution_count": 55,
   "metadata": {
    "scrolled": true
   },
   "outputs": [
    {
     "name": "stdout",
     "output_type": "stream",
     "text": [
      "Train...\n",
      "Train on 15000 samples, validate on 5000 samples\n",
      "Epoch 1/3\n",
      " - 219s - loss: 1.0673 - acc: 0.6558 - val_loss: 0.9358 - val_acc: 0.6658\n",
      "Epoch 2/3\n",
      " - 214s - loss: 0.8162 - acc: 0.6897 - val_loss: 0.9086 - val_acc: 0.6704\n",
      "Epoch 3/3\n",
      " - 221s - loss: 0.6613 - acc: 0.7504 - val_loss: 0.9878 - val_acc: 0.6750\n",
      "Wall time: 10min 57s\n"
     ]
    }
   ],
   "source": [
    "%%time\n",
    "print('Train...')\n",
    "model.fit(x_train_part, y_train_part,\n",
    "          batch_size=batch_size,\n",
    "          epochs=epochs,\n",
    "          verbose = 2,\n",
    "          callbacks=[earlyStopping],\n",
    "          validation_data=[x_test_part, y_test_part])"
   ]
  },
  {
   "cell_type": "code",
   "execution_count": 56,
   "metadata": {},
   "outputs": [
    {
     "name": "stdout",
     "output_type": "stream",
     "text": [
      "Classification report\n",
      "\n"
     ]
    },
    {
     "name": "stderr",
     "output_type": "stream",
     "text": [
      "C:\\Anaconda\\lib\\site-packages\\sklearn\\metrics\\classification.py:1143: UndefinedMetricWarning: Precision and F-score are ill-defined and being set to 0.0 in labels with no predicted samples.\n",
      "  'precision', 'predicted', average, warn_for)\n",
      "C:\\Anaconda\\lib\\site-packages\\sklearn\\metrics\\classification.py:1143: UndefinedMetricWarning: Precision and F-score are ill-defined and being set to 0.0 in labels with no predicted samples.\n",
      "  'precision', 'predicted', average, warn_for)\n",
      "C:\\Anaconda\\lib\\site-packages\\sklearn\\metrics\\classification.py:1143: UndefinedMetricWarning: Precision and F-score are ill-defined and being set to 0.0 in labels with no predicted samples.\n",
      "  'precision', 'predicted', average, warn_for)\n",
      "C:\\Anaconda\\lib\\site-packages\\sklearn\\metrics\\classification.py:1143: UndefinedMetricWarning: Precision and F-score are ill-defined and being set to 0.0 in samples with no predicted labels.\n",
      "  'precision', 'predicted', average, warn_for)\n"
     ]
    },
    {
     "name": "stdout",
     "output_type": "stream",
     "text": [
      "              precision    recall  f1-score   support\n",
      "\n",
      "           0       0.64      0.11      0.19       369\n",
      "           1       0.00      0.00      0.00       206\n",
      "           2       0.00      0.00      0.00       384\n",
      "           3       0.41      0.11      0.17       717\n",
      "           4       0.81      0.86      0.83      3324\n",
      "\n",
      "   micro avg       0.78      0.60      0.68      5000\n",
      "   macro avg       0.37      0.22      0.24      5000\n",
      "weighted avg       0.64      0.60      0.59      5000\n",
      " samples avg       0.60      0.60      0.60      5000\n",
      "\n"
     ]
    }
   ],
   "source": [
    "y_predicted_scores = model.predict(x_test_part)\n",
    "y_predicted_scores[y_predicted_scores>=0.5] = 1\n",
    "y_predicted_scores[y_predicted_scores<0.5] = 0\n",
    "\n",
    "print('Classification report\\n')\n",
    "print(classification_report(y_test_part, y_predicted_scores))"
   ]
  },
  {
   "cell_type": "code",
   "execution_count": null,
   "metadata": {},
   "outputs": [],
   "source": []
  },
  {
   "cell_type": "markdown",
   "metadata": {},
   "source": [
    "#### fasttext.\n",
    "\n",
    "Обучить «fasttext» модель на n-граммах используя случайную инициализацию эмбедингов."
   ]
  },
  {
   "cell_type": "code",
   "execution_count": 28,
   "metadata": {},
   "outputs": [],
   "source": [
    "x_train, x_test, y_train, y_test = train_test_split(x_data, y_data, random_state = seed, \n",
    "                                                    test_size=0.3, shuffle=True,\n",
    "                                                    stratify = y_data)"
   ]
  },
  {
   "cell_type": "code",
   "execution_count": 173,
   "metadata": {},
   "outputs": [],
   "source": [
    "# Set parameters:\n",
    "# ngram_range = 2 will add bi-grams features\n",
    "ngram_range = 2\n",
    "max_features = 20000\n",
    "maxlen = 250\n",
    "batch_size = 128\n",
    "embedding_dims = 64\n",
    "epochs = 4"
   ]
  },
  {
   "cell_type": "code",
   "execution_count": 29,
   "metadata": {},
   "outputs": [
    {
     "name": "stdout",
     "output_type": "stream",
     "text": [
      "Wall time: 1min 49s\n"
     ]
    }
   ],
   "source": [
    "%%time\n",
    "tokenizer = Tokenizer(num_words=5000)\n",
    "tokenizer.fit_on_texts(x_train)\n",
    "\n",
    "x_train = tokenizer.texts_to_sequences(x_train)\n",
    "x_test = tokenizer.texts_to_sequences(x_test)"
   ]
  },
  {
   "cell_type": "code",
   "execution_count": 175,
   "metadata": {},
   "outputs": [],
   "source": [
    "# encode class values as integers\n",
    "encoder = LabelEncoder()\n",
    "encoder.fit(y_train)\n",
    "encoded_y_train = encoder.transform(y_train)\n",
    "encoded_y_test = encoder.transform(y_test)\n",
    "# convert integers to dummy variables (i.e. one hot encoded)\n",
    "y_train = np_utils.to_categorical(encoded_y_train)\n",
    "y_test = np_utils.to_categorical(encoded_y_test)"
   ]
  },
  {
   "cell_type": "code",
   "execution_count": 176,
   "metadata": {},
   "outputs": [],
   "source": [
    "def create_ngram_set(input_list, ngram_value=2):\n",
    "    \"\"\"\n",
    "    Extract a set of n-grams from a list of integers.\n",
    "    >>> create_ngram_set([1, 4, 9, 4, 1, 4], ngram_value=2)\n",
    "    {(4, 9), (4, 1), (1, 4), (9, 4)}\n",
    "    >>> create_ngram_set([1, 4, 9, 4, 1, 4], ngram_value=3)\n",
    "    [(1, 4, 9), (4, 9, 4), (9, 4, 1), (4, 1, 4)]\n",
    "    \"\"\"\n",
    "    return set(zip(*[input_list[i:] for i in range(ngram_value)]))"
   ]
  },
  {
   "cell_type": "code",
   "execution_count": 177,
   "metadata": {},
   "outputs": [],
   "source": [
    "def add_ngram(sequences, token_indice, ngram_range=2):\n",
    "    \"\"\"\n",
    "    Augment the input list of list (sequences) by appending n-grams values.\n",
    "    Example: adding bi-gram\n",
    "    >>> sequences = [[1, 3, 4, 5], [1, 3, 7, 9, 2]]\n",
    "    >>> token_indice = {(1, 3): 1337, (9, 2): 42, (4, 5): 2017}\n",
    "    >>> add_ngram(sequences, token_indice, ngram_range=2)\n",
    "    [[1, 3, 4, 5, 1337, 2017], [1, 3, 7, 9, 2, 1337, 42]]\n",
    "    Example: adding tri-gram\n",
    "    >>> sequences = [[1, 3, 4, 5], [1, 3, 7, 9, 2]]\n",
    "    >>> token_indice = {(1, 3): 1337, (9, 2): 42, (4, 5): 2017, (7, 9, 2): 2018}\n",
    "    >>> add_ngram(sequences, token_indice, ngram_range=3)\n",
    "    [[1, 3, 4, 5, 1337, 2017], [1, 3, 7, 9, 2, 1337, 42, 2018]]\n",
    "    \"\"\"\n",
    "    new_sequences = []\n",
    "    for input_list in sequences:\n",
    "        new_list = input_list[:]\n",
    "        for ngram_value in range(2, ngram_range + 1):\n",
    "            for i in range(len(new_list) - ngram_value + 1):\n",
    "                ngram = tuple(new_list[i:i + ngram_value])\n",
    "                if ngram in token_indice:\n",
    "                    new_list.append(token_indice[ngram])\n",
    "        new_sequences.append(new_list)\n",
    "\n",
    "    return new_sequences"
   ]
  },
  {
   "cell_type": "code",
   "execution_count": 178,
   "metadata": {},
   "outputs": [
    {
     "name": "stdout",
     "output_type": "stream",
     "text": [
      "Adding 2-gram features\n",
      "Average train sequence length: 54\n",
      "Average test sequence length: 52\n"
     ]
    }
   ],
   "source": [
    "if ngram_range > 1:\n",
    "    print('Adding {}-gram features'.format(ngram_range))\n",
    "    # Create set of unique n-gram from the training set.\n",
    "    ngram_set = set()\n",
    "    for input_list in x_train:\n",
    "        for i in range(2, ngram_range + 1):\n",
    "            set_of_ngram = create_ngram_set(input_list, ngram_value=i)\n",
    "            ngram_set.update(set_of_ngram)\n",
    "\n",
    "    # Dictionary mapping n-gram token to a unique integer.\n",
    "    # Integer values are greater than max_features in order\n",
    "    # to avoid collision with existing features.\n",
    "    start_index = max_features + 1\n",
    "    token_indice = {v: k + start_index for k, v in enumerate(ngram_set)}\n",
    "    indice_token = {token_indice[k]: k for k in token_indice}\n",
    "\n",
    "    # max_features is the highest integer that could be found in the dataset.\n",
    "    max_features = np.max(list(indice_token.keys())) + 1\n",
    "\n",
    "    # Augmenting x_train and x_test with n-grams features\n",
    "    x_train = add_ngram(x_train, token_indice, ngram_range)\n",
    "    x_test = add_ngram(x_test, token_indice, ngram_range)\n",
    "    print('Average train sequence length: {}'.format(\n",
    "        np.mean(list(map(len, x_train)), dtype=int)))\n",
    "    print('Average test sequence length: {}'.format(\n",
    "        np.mean(list(map(len, x_test)), dtype=int)))"
   ]
  },
  {
   "cell_type": "code",
   "execution_count": 179,
   "metadata": {},
   "outputs": [
    {
     "name": "stdout",
     "output_type": "stream",
     "text": [
      "Pad sequences (samples x time)\n",
      "x_train shape: (538475, 250)\n",
      "x_test shape: (230776, 250)\n"
     ]
    }
   ],
   "source": [
    "print('Pad sequences (samples x time)')\n",
    "x_train = sequence.pad_sequences(x_train, padding='post', maxlen=maxlen)\n",
    "x_test = sequence.pad_sequences(x_test, padding='post', maxlen=maxlen)\n",
    "print('x_train shape:', x_train.shape)\n",
    "print('x_test shape:', x_test.shape)"
   ]
  },
  {
   "cell_type": "code",
   "execution_count": 180,
   "metadata": {},
   "outputs": [],
   "source": [
    "vocab_size = x_train.max()#len(tokenizer.word_index) + 1  # Adding 1 because of reserved 0 index"
   ]
  },
  {
   "cell_type": "code",
   "execution_count": 181,
   "metadata": {},
   "outputs": [],
   "source": [
    "x_train_part,y_train_part = next_batch(25000, x_train, y_train)\n",
    "x_test_part,y_test_part = next_batch(11000, x_test, y_test)"
   ]
  },
  {
   "cell_type": "code",
   "execution_count": 37,
   "metadata": {},
   "outputs": [],
   "source": [
    "from keras import optimizers\n",
    "sgd = optimizers.SGD(lr=0.01, momentum=0.9)"
   ]
  },
  {
   "cell_type": "code",
   "execution_count": 190,
   "metadata": {},
   "outputs": [
    {
     "name": "stdout",
     "output_type": "stream",
     "text": [
      "Build model...\n",
      "_________________________________________________________________\n",
      "Layer (type)                 Output Shape              Param #   \n",
      "=================================================================\n",
      "embedding_9 (Embedding)      (None, 250, 64)           132820032 \n",
      "_________________________________________________________________\n",
      "global_average_pooling1d_7 ( (None, 64)                0         \n",
      "_________________________________________________________________\n",
      "dense_9 (Dense)              (None, 5)                 325       \n",
      "=================================================================\n",
      "Total params: 132,820,357\n",
      "Trainable params: 132,820,357\n",
      "Non-trainable params: 0\n",
      "_________________________________________________________________\n"
     ]
    }
   ],
   "source": [
    "print('Build model...')\n",
    "model = Sequential()\n",
    "\n",
    "\n",
    "\n",
    "# we start off with an efficient embedding layer which maps\n",
    "# our vocab indices into embedding_dims dimensions\n",
    "# используя случайную инициализацию эмбедингов\n",
    "model.add(Embedding(input_dim = vocab_size,\n",
    "                    output_dim = embedding_dims,\n",
    "                    input_length=maxlen, \n",
    "                    embeddings_initializer = 'RandomNormal')) \n",
    "\n",
    "# we add a GlobalAveragePooling1D, which will average the embeddings\n",
    "# of all words in the document\n",
    "model.add(GlobalAveragePooling1D())\n",
    "\n",
    "# We project onto a single unit output layer, and squash it with a softmax:\n",
    "model.add(Dense(5, activation='softmax'))\n",
    "\n",
    "earlyStopping = EarlyStopping(monitor='val_acc', patience=2, verbose=2, mode='max',restore_best_weights=True)\n",
    "\n",
    "model.compile(loss='categorical_crossentropy',\n",
    "              optimizer = sgd,\n",
    "              #optimizer='adam',\n",
    "              metrics=['accuracy'])\n",
    "\n",
    "#model.compile(loss='mse', optimizer=TFOptimizer(tf.train.GradientDescentOptimizer(0.1)))\n",
    "\n",
    "\n",
    "\n",
    "model.summary()"
   ]
  },
  {
   "cell_type": "code",
   "execution_count": 191,
   "metadata": {},
   "outputs": [
    {
     "name": "stderr",
     "output_type": "stream",
     "text": [
      "C:\\Anaconda\\lib\\site-packages\\tensorflow\\python\\ops\\gradients_impl.py:109: UserWarning: Converting sparse IndexedSlices to a dense Tensor with 132820032 elements. This may consume a large amount of memory.\n",
      "  num_elements)\n"
     ]
    },
    {
     "name": "stdout",
     "output_type": "stream",
     "text": [
      "Train on 25000 samples, validate on 11000 samples\n",
      "Epoch 1/2\n",
      "25000/25000 [==============================] - ETA: 27:38 - loss: 1.6295 - acc: 0.05 - ETA: 16:07 - loss: 1.6277 - acc: 0.05 - ETA: 12:16 - loss: 1.6247 - acc: 0.05 - ETA: 10:15 - loss: 1.6185 - acc: 0.04 - ETA: 9:03 - loss: 1.6122 - acc: 0.0797 - ETA: 8:10 - loss: 1.6034 - acc: 0.181 - ETA: 7:32 - loss: 1.5934 - acc: 0.248 - ETA: 7:03 - loss: 1.5849 - acc: 0.293 - ETA: 6:41 - loss: 1.5754 - acc: 0.327 - ETA: 6:22 - loss: 1.5626 - acc: 0.362 - ETA: 6:07 - loss: 1.5487 - acc: 0.393 - ETA: 5:54 - loss: 1.5347 - acc: 0.418 - ETA: 5:43 - loss: 1.5221 - acc: 0.437 - ETA: 5:34 - loss: 1.5129 - acc: 0.448 - ETA: 5:24 - loss: 1.4980 - acc: 0.465 - ETA: 5:17 - loss: 1.4860 - acc: 0.476 - ETA: 5:10 - loss: 1.4759 - acc: 0.483 - ETA: 5:04 - loss: 1.4647 - acc: 0.491 - ETA: 4:58 - loss: 1.4511 - acc: 0.501 - ETA: 4:53 - loss: 1.4372 - acc: 0.511 - ETA: 4:48 - loss: 1.4228 - acc: 0.520 - ETA: 4:44 - loss: 1.4090 - acc: 0.529 - ETA: 4:39 - loss: 1.4019 - acc: 0.532 - ETA: 4:35 - loss: 1.3919 - acc: 0.537 - ETA: 4:31 - loss: 1.3818 - acc: 0.543 - ETA: 4:28 - loss: 1.3717 - acc: 0.547 - ETA: 4:25 - loss: 1.3618 - acc: 0.552 - ETA: 4:22 - loss: 1.3590 - acc: 0.552 - ETA: 4:20 - loss: 1.3473 - acc: 0.558 - ETA: 4:18 - loss: 1.3425 - acc: 0.559 - ETA: 4:15 - loss: 1.3382 - acc: 0.561 - ETA: 4:12 - loss: 1.3306 - acc: 0.564 - ETA: 4:09 - loss: 1.3252 - acc: 0.567 - ETA: 4:06 - loss: 1.3144 - acc: 0.571 - ETA: 4:03 - loss: 1.3101 - acc: 0.573 - ETA: 4:00 - loss: 1.3072 - acc: 0.574 - ETA: 3:58 - loss: 1.3003 - acc: 0.577 - ETA: 3:55 - loss: 1.2932 - acc: 0.580 - ETA: 3:53 - loss: 1.2877 - acc: 0.582 - ETA: 3:50 - loss: 1.2804 - acc: 0.585 - ETA: 3:48 - loss: 1.2805 - acc: 0.585 - ETA: 3:46 - loss: 1.2782 - acc: 0.586 - ETA: 3:44 - loss: 1.2741 - acc: 0.587 - ETA: 3:43 - loss: 1.2688 - acc: 0.589 - ETA: 3:41 - loss: 1.2670 - acc: 0.590 - ETA: 3:39 - loss: 1.2650 - acc: 0.591 - ETA: 3:37 - loss: 1.2593 - acc: 0.593 - ETA: 3:35 - loss: 1.2555 - acc: 0.594 - ETA: 3:34 - loss: 1.2529 - acc: 0.595 - ETA: 3:32 - loss: 1.2510 - acc: 0.596 - ETA: 3:30 - loss: 1.2483 - acc: 0.597 - ETA: 3:28 - loss: 1.2426 - acc: 0.600 - ETA: 3:27 - loss: 1.2391 - acc: 0.601 - ETA: 3:25 - loss: 1.2349 - acc: 0.603 - ETA: 3:23 - loss: 1.2311 - acc: 0.605 - ETA: 3:21 - loss: 1.2275 - acc: 0.606 - ETA: 3:19 - loss: 1.2279 - acc: 0.605 - ETA: 3:17 - loss: 1.2249 - acc: 0.606 - ETA: 3:15 - loss: 1.2238 - acc: 0.607 - ETA: 3:13 - loss: 1.2214 - acc: 0.608 - ETA: 3:12 - loss: 1.2193 - acc: 0.609 - ETA: 3:10 - loss: 1.2181 - acc: 0.609 - ETA: 3:08 - loss: 1.2159 - acc: 0.610 - ETA: 3:06 - loss: 1.2156 - acc: 0.609 - ETA: 3:05 - loss: 1.2135 - acc: 0.610 - ETA: 3:03 - loss: 1.2124 - acc: 0.611 - ETA: 3:01 - loss: 1.2099 - acc: 0.612 - ETA: 3:00 - loss: 1.2084 - acc: 0.612 - ETA: 2:58 - loss: 1.2079 - acc: 0.612 - ETA: 2:56 - loss: 1.2054 - acc: 0.613 - ETA: 2:55 - loss: 1.2040 - acc: 0.614 - ETA: 2:53 - loss: 1.2013 - acc: 0.615 - ETA: 2:52 - loss: 1.1984 - acc: 0.616 - ETA: 2:50 - loss: 1.1980 - acc: 0.616 - ETA: 2:49 - loss: 1.1974 - acc: 0.616 - ETA: 2:47 - loss: 1.1962 - acc: 0.616 - ETA: 2:46 - loss: 1.1946 - acc: 0.617 - ETA: 2:44 - loss: 1.1925 - acc: 0.618 - ETA: 2:42 - loss: 1.1902 - acc: 0.619 - ETA: 2:41 - loss: 1.1868 - acc: 0.621 - ETA: 2:39 - loss: 1.1872 - acc: 0.620 - ETA: 2:38 - loss: 1.1856 - acc: 0.621 - ETA: 2:36 - loss: 1.1846 - acc: 0.621 - ETA: 2:35 - loss: 1.1849 - acc: 0.621 - ETA: 2:33 - loss: 1.1826 - acc: 0.622 - ETA: 2:32 - loss: 1.1821 - acc: 0.622 - ETA: 2:31 - loss: 1.1813 - acc: 0.622 - ETA: 2:29 - loss: 1.1791 - acc: 0.623 - ETA: 2:27 - loss: 1.1787 - acc: 0.624 - ETA: 2:26 - loss: 1.1784 - acc: 0.624 - ETA: 2:24 - loss: 1.1780 - acc: 0.623 - ETA: 2:23 - loss: 1.1777 - acc: 0.623 - ETA: 2:22 - loss: 1.1773 - acc: 0.623 - ETA: 2:20 - loss: 1.1760 - acc: 0.624 - ETA: 2:19 - loss: 1.1748 - acc: 0.624 - ETA: 2:17 - loss: 1.1733 - acc: 0.625 - ETA: 2:16 - loss: 1.1719 - acc: 0.625 - ETA: 2:14 - loss: 1.1703 - acc: 0.626 - ETA: 2:13 - loss: 1.1694 - acc: 0.626 - ETA: 2:11 - loss: 1.1674 - acc: 0.627 - ETA: 2:10 - loss: 1.1660 - acc: 0.628 - ETA: 2:08 - loss: 1.1657 - acc: 0.628 - ETA: 2:07 - loss: 1.1643 - acc: 0.628 - ETA: 2:05 - loss: 1.1630 - acc: 0.628 - ETA: 2:04 - loss: 1.1624 - acc: 0.628 - ETA: 2:02 - loss: 1.1625 - acc: 0.628 - ETA: 2:01 - loss: 1.1612 - acc: 0.629 - ETA: 1:59 - loss: 1.1602 - acc: 0.629 - ETA: 1:58 - loss: 1.1599 - acc: 0.629 - ETA: 1:57 - loss: 1.1579 - acc: 0.630 - ETA: 1:55 - loss: 1.1590 - acc: 0.630 - ETA: 1:54 - loss: 1.1584 - acc: 0.630 - ETA: 1:52 - loss: 1.1570 - acc: 0.630 - ETA: 1:51 - loss: 1.1563 - acc: 0.631 - ETA: 1:50 - loss: 1.1543 - acc: 0.632 - ETA: 1:48 - loss: 1.1543 - acc: 0.631 - ETA: 1:47 - loss: 1.1540 - acc: 0.631 - ETA: 1:45 - loss: 1.1528 - acc: 0.632 - ETA: 1:44 - loss: 1.1520 - acc: 0.632 - ETA: 1:43 - loss: 1.1516 - acc: 0.632 - ETA: 1:41 - loss: 1.1516 - acc: 0.632 - ETA: 1:40 - loss: 1.1513 - acc: 0.633 - ETA: 1:38 - loss: 1.1512 - acc: 0.633 - ETA: 1:37 - loss: 1.1506 - acc: 0.633 - ETA: 1:36 - loss: 1.1501 - acc: 0.633 - ETA: 1:34 - loss: 1.1496 - acc: 0.633 - ETA: 1:33 - loss: 1.1487 - acc: 0.634 - ETA: 1:32 - loss: 1.1483 - acc: 0.634 - ETA: 1:30 - loss: 1.1478 - acc: 0.634 - ETA: 1:29 - loss: 1.1463 - acc: 0.635 - ETA: 1:28 - loss: 1.1461 - acc: 0.635 - ETA: 1:26 - loss: 1.1468 - acc: 0.634 - ETA: 1:25 - loss: 1.1454 - acc: 0.635 - ETA: 1:23 - loss: 1.1443 - acc: 0.635 - ETA: 1:22 - loss: 1.1437 - acc: 0.636 - ETA: 1:21 - loss: 1.1429 - acc: 0.636 - ETA: 1:19 - loss: 1.1437 - acc: 0.636 - ETA: 1:18 - loss: 1.1429 - acc: 0.636 - ETA: 1:17 - loss: 1.1418 - acc: 0.636 - ETA: 1:15 - loss: 1.1404 - acc: 0.637 - ETA: 1:14 - loss: 1.1406 - acc: 0.637 - ETA: 1:13 - loss: 1.1406 - acc: 0.637 - ETA: 1:11 - loss: 1.1404 - acc: 0.637 - ETA: 1:10 - loss: 1.1389 - acc: 0.637 - ETA: 1:09 - loss: 1.1385 - acc: 0.638 - ETA: 1:07 - loss: 1.1381 - acc: 0.638 - ETA: 1:06 - loss: 1.1382 - acc: 0.638 - ETA: 1:04 - loss: 1.1373 - acc: 0.638 - ETA: 1:03 - loss: 1.1362 - acc: 0.638 - ETA: 1:02 - loss: 1.1370 - acc: 0.638 - ETA: 1:00 - loss: 1.1364 - acc: 0.638 - ETA: 59s - loss: 1.1360 - acc: 0.639 - ETA: 57s - loss: 1.1356 - acc: 0.63 - ETA: 56s - loss: 1.1349 - acc: 0.63 - ETA: 55s - loss: 1.1344 - acc: 0.63 - ETA: 53s - loss: 1.1329 - acc: 0.64 - ETA: 52s - loss: 1.1324 - acc: 0.64 - ETA: 50s - loss: 1.1324 - acc: 0.64 - ETA: 49s - loss: 1.1312 - acc: 0.64 - ETA: 48s - loss: 1.1301 - acc: 0.64 - ETA: 46s - loss: 1.1306 - acc: 0.64 - ETA: 45s - loss: 1.1299 - acc: 0.64 - ETA: 44s - loss: 1.1301 - acc: 0.64 - ETA: 42s - loss: 1.1299 - acc: 0.64 - ETA: 41s - loss: 1.1294 - acc: 0.64 - ETA: 39s - loss: 1.1289 - acc: 0.64 - ETA: 38s - loss: 1.1281 - acc: 0.64 - ETA: 37s - loss: 1.1271 - acc: 0.64 - ETA: 35s - loss: 1.1269 - acc: 0.64 - ETA: 34s - loss: 1.1268 - acc: 0.64 - ETA: 33s - loss: 1.1259 - acc: 0.64 - ETA: 31s - loss: 1.1243 - acc: 0.64 - ETA: 30s - loss: 1.1245 - acc: 0.64 - ETA: 29s - loss: 1.1246 - acc: 0.64 - ETA: 27s - loss: 1.1248 - acc: 0.64 - ETA: 26s - loss: 1.1248 - acc: 0.64 - ETA: 24s - loss: 1.1245 - acc: 0.64 - ETA: 23s - loss: 1.1245 - acc: 0.64 - ETA: 22s - loss: 1.1247 - acc: 0.64 - ETA: 20s - loss: 1.1248 - acc: 0.64 - ETA: 19s - loss: 1.1244 - acc: 0.64 - ETA: 18s - loss: 1.1235 - acc: 0.64 - ETA: 16s - loss: 1.1228 - acc: 0.64 - ETA: 15s - loss: 1.1226 - acc: 0.64 - ETA: 13s - loss: 1.1224 - acc: 0.64 - ETA: 12s - loss: 1.1221 - acc: 0.64 - ETA: 11s - loss: 1.1226 - acc: 0.64 - ETA: 9s - loss: 1.1219 - acc: 0.6445 - ETA: 8s - loss: 1.1215 - acc: 0.644 - ETA: 7s - loss: 1.1215 - acc: 0.644 - ETA: 5s - loss: 1.1210 - acc: 0.644 - ETA: 4s - loss: 1.1206 - acc: 0.645 - ETA: 3s - loss: 1.1206 - acc: 0.645 - ETA: 1s - loss: 1.1208 - acc: 0.644 - ETA: 0s - loss: 1.1210 - acc: 0.644 - 266s 11ms/step - loss: 1.1210 - acc: 0.6447 - val_loss: 1.0822 - val_acc: 0.6605\n",
      "Epoch 2/2\n",
      "25000/25000 [==============================] - ETA: 4:07 - loss: 1.0741 - acc: 0.656 - ETA: 4:10 - loss: 1.0352 - acc: 0.679 - ETA: 4:09 - loss: 0.9831 - acc: 0.703 - ETA: 4:08 - loss: 1.0380 - acc: 0.681 - ETA: 4:06 - loss: 1.0402 - acc: 0.676 - ETA: 4:04 - loss: 1.0430 - acc: 0.675 - ETA: 4:03 - loss: 1.0424 - acc: 0.678 - ETA: 4:01 - loss: 1.0381 - acc: 0.681 - ETA: 4:02 - loss: 1.0476 - acc: 0.676 - ETA: 3:59 - loss: 1.0575 - acc: 0.670 - ETA: 3:58 - loss: 1.0476 - acc: 0.674 - ETA: 3:56 - loss: 1.0601 - acc: 0.668 - ETA: 3:55 - loss: 1.0669 - acc: 0.664 - ETA: 3:54 - loss: 1.0642 - acc: 0.664 - ETA: 3:53 - loss: 1.0675 - acc: 0.663 - ETA: 3:52 - loss: 1.0638 - acc: 0.664 - ETA: 3:50 - loss: 1.0736 - acc: 0.660 - ETA: 3:49 - loss: 1.0699 - acc: 0.662 - ETA: 3:48 - loss: 1.0692 - acc: 0.661 - ETA: 3:46 - loss: 1.0694 - acc: 0.660 - ETA: 3:45 - loss: 1.0690 - acc: 0.660 - ETA: 3:44 - loss: 1.0674 - acc: 0.660 - ETA: 3:42 - loss: 1.0655 - acc: 0.662 - ETA: 3:40 - loss: 1.0650 - acc: 0.662 - ETA: 3:39 - loss: 1.0646 - acc: 0.663 - ETA: 3:38 - loss: 1.0640 - acc: 0.664 - ETA: 3:37 - loss: 1.0679 - acc: 0.662 - ETA: 3:35 - loss: 1.0655 - acc: 0.664 - ETA: 3:34 - loss: 1.0653 - acc: 0.665 - ETA: 3:33 - loss: 1.0686 - acc: 0.663 - ETA: 3:31 - loss: 1.0665 - acc: 0.664 - ETA: 3:30 - loss: 1.0670 - acc: 0.664 - ETA: 3:29 - loss: 1.0638 - acc: 0.666 - ETA: 3:27 - loss: 1.0655 - acc: 0.665 - ETA: 3:26 - loss: 1.0692 - acc: 0.663 - ETA: 3:25 - loss: 1.0715 - acc: 0.661 - ETA: 3:24 - loss: 1.0710 - acc: 0.662 - ETA: 3:22 - loss: 1.0741 - acc: 0.660 - ETA: 3:21 - loss: 1.0738 - acc: 0.660 - ETA: 3:20 - loss: 1.0758 - acc: 0.659 - ETA: 3:18 - loss: 1.0759 - acc: 0.658 - ETA: 3:17 - loss: 1.0763 - acc: 0.659 - ETA: 3:16 - loss: 1.0745 - acc: 0.660 - ETA: 3:14 - loss: 1.0735 - acc: 0.660 - ETA: 3:13 - loss: 1.0751 - acc: 0.660 - ETA: 3:12 - loss: 1.0749 - acc: 0.660 - ETA: 3:10 - loss: 1.0784 - acc: 0.658 - ETA: 3:09 - loss: 1.0801 - acc: 0.657 - ETA: 3:08 - loss: 1.0783 - acc: 0.658 - ETA: 3:07 - loss: 1.0780 - acc: 0.658 - ETA: 3:05 - loss: 1.0807 - acc: 0.657 - ETA: 3:04 - loss: 1.0814 - acc: 0.657 - ETA: 3:03 - loss: 1.0811 - acc: 0.657 - ETA: 3:01 - loss: 1.0810 - acc: 0.657 - ETA: 3:00 - loss: 1.0804 - acc: 0.657 - ETA: 2:59 - loss: 1.0822 - acc: 0.656 - ETA: 2:57 - loss: 1.0803 - acc: 0.658 - ETA: 2:56 - loss: 1.0794 - acc: 0.658 - ETA: 2:55 - loss: 1.0793 - acc: 0.658 - ETA: 2:54 - loss: 1.0791 - acc: 0.658 - ETA: 2:53 - loss: 1.0806 - acc: 0.657 - ETA: 2:51 - loss: 1.0806 - acc: 0.657 - ETA: 2:50 - loss: 1.0794 - acc: 0.658 - ETA: 2:49 - loss: 1.0812 - acc: 0.657 - ETA: 2:47 - loss: 1.0791 - acc: 0.658 - ETA: 2:46 - loss: 1.0797 - acc: 0.658 - ETA: 2:45 - loss: 1.0819 - acc: 0.657 - ETA: 2:44 - loss: 1.0812 - acc: 0.658 - ETA: 2:42 - loss: 1.0813 - acc: 0.658 - ETA: 2:41 - loss: 1.0824 - acc: 0.657 - ETA: 2:40 - loss: 1.0817 - acc: 0.657 - ETA: 2:38 - loss: 1.0824 - acc: 0.657 - ETA: 2:37 - loss: 1.0826 - acc: 0.657 - ETA: 2:36 - loss: 1.0818 - acc: 0.657 - ETA: 2:35 - loss: 1.0832 - acc: 0.656 - ETA: 2:33 - loss: 1.0835 - acc: 0.656 - ETA: 2:32 - loss: 1.0827 - acc: 0.656 - ETA: 2:31 - loss: 1.0822 - acc: 0.657 - ETA: 2:29 - loss: 1.0820 - acc: 0.657 - ETA: 2:28 - loss: 1.0800 - acc: 0.658 - ETA: 2:27 - loss: 1.0816 - acc: 0.657 - ETA: 2:25 - loss: 1.0827 - acc: 0.657 - ETA: 2:24 - loss: 1.0845 - acc: 0.656 - ETA: 2:23 - loss: 1.0843 - acc: 0.656 - ETA: 2:22 - loss: 1.0851 - acc: 0.655 - ETA: 2:20 - loss: 1.0851 - acc: 0.656 - ETA: 2:19 - loss: 1.0836 - acc: 0.657 - ETA: 2:18 - loss: 1.0825 - acc: 0.657 - ETA: 2:17 - loss: 1.0822 - acc: 0.657 - ETA: 2:15 - loss: 1.0828 - acc: 0.657 - ETA: 2:14 - loss: 1.0831 - acc: 0.657 - ETA: 2:13 - loss: 1.0832 - acc: 0.657 - ETA: 2:11 - loss: 1.0806 - acc: 0.658 - ETA: 2:10 - loss: 1.0812 - acc: 0.658 - ETA: 2:09 - loss: 1.0831 - acc: 0.657 - ETA: 2:07 - loss: 1.0832 - acc: 0.657 - ETA: 2:06 - loss: 1.0817 - acc: 0.658 - ETA: 2:05 - loss: 1.0817 - acc: 0.657 - ETA: 2:04 - loss: 1.0813 - acc: 0.658 - ETA: 2:02 - loss: 1.0819 - acc: 0.657 - ETA: 2:01 - loss: 1.0814 - acc: 0.658 - ETA: 2:00 - loss: 1.0821 - acc: 0.657 - ETA: 1:58 - loss: 1.0827 - acc: 0.657 - ETA: 1:57 - loss: 1.0820 - acc: 0.657 - ETA: 1:56 - loss: 1.0803 - acc: 0.658 - ETA: 1:54 - loss: 1.0801 - acc: 0.658 - ETA: 1:53 - loss: 1.0796 - acc: 0.659 - ETA: 1:52 - loss: 1.0802 - acc: 0.658 - ETA: 1:51 - loss: 1.0802 - acc: 0.658 - ETA: 1:49 - loss: 1.0793 - acc: 0.659 - ETA: 1:48 - loss: 1.0790 - acc: 0.659 - ETA: 1:47 - loss: 1.0787 - acc: 0.659 - ETA: 1:45 - loss: 1.0785 - acc: 0.659 - ETA: 1:44 - loss: 1.0794 - acc: 0.658 - ETA: 1:43 - loss: 1.0784 - acc: 0.659 - ETA: 1:42 - loss: 1.0783 - acc: 0.659 - ETA: 1:40 - loss: 1.0787 - acc: 0.659 - ETA: 1:39 - loss: 1.0792 - acc: 0.658 - ETA: 1:38 - loss: 1.0782 - acc: 0.659 - ETA: 1:36 - loss: 1.0783 - acc: 0.659 - ETA: 1:35 - loss: 1.0787 - acc: 0.659 - ETA: 1:34 - loss: 1.0789 - acc: 0.658 - ETA: 1:33 - loss: 1.0796 - acc: 0.658 - ETA: 1:31 - loss: 1.0790 - acc: 0.658 - ETA: 1:30 - loss: 1.0806 - acc: 0.658 - ETA: 1:29 - loss: 1.0817 - acc: 0.657 - ETA: 1:27 - loss: 1.0816 - acc: 0.657 - ETA: 1:26 - loss: 1.0821 - acc: 0.657 - ETA: 1:25 - loss: 1.0824 - acc: 0.657 - ETA: 1:23 - loss: 1.0814 - acc: 0.657 - ETA: 1:22 - loss: 1.0814 - acc: 0.657 - ETA: 1:21 - loss: 1.0806 - acc: 0.658 - ETA: 1:20 - loss: 1.0800 - acc: 0.658 - ETA: 1:18 - loss: 1.0801 - acc: 0.658 - ETA: 1:17 - loss: 1.0809 - acc: 0.658 - ETA: 1:16 - loss: 1.0806 - acc: 0.658 - ETA: 1:14 - loss: 1.0802 - acc: 0.658 - ETA: 1:13 - loss: 1.0805 - acc: 0.658 - ETA: 1:12 - loss: 1.0811 - acc: 0.658 - ETA: 1:11 - loss: 1.0810 - acc: 0.657 - ETA: 1:09 - loss: 1.0813 - acc: 0.657 - ETA: 1:08 - loss: 1.0807 - acc: 0.658 - ETA: 1:07 - loss: 1.0795 - acc: 0.658 - ETA: 1:05 - loss: 1.0805 - acc: 0.658 - ETA: 1:04 - loss: 1.0804 - acc: 0.658 - ETA: 1:03 - loss: 1.0798 - acc: 0.658 - ETA: 1:02 - loss: 1.0796 - acc: 0.658 - ETA: 1:00 - loss: 1.0795 - acc: 0.658 - ETA: 59s - loss: 1.0799 - acc: 0.658 - ETA: 58s - loss: 1.0802 - acc: 0.65 - ETA: 56s - loss: 1.0803 - acc: 0.65 - ETA: 55s - loss: 1.0798 - acc: 0.65 - ETA: 54s - loss: 1.0793 - acc: 0.65 - ETA: 53s - loss: 1.0793 - acc: 0.65 - ETA: 51s - loss: 1.0794 - acc: 0.65 - ETA: 50s - loss: 1.0793 - acc: 0.65 - ETA: 49s - loss: 1.0792 - acc: 0.65 - ETA: 47s - loss: 1.0792 - acc: 0.65 - ETA: 46s - loss: 1.0783 - acc: 0.65 - ETA: 45s - loss: 1.0789 - acc: 0.65 - ETA: 44s - loss: 1.0796 - acc: 0.65 - ETA: 42s - loss: 1.0798 - acc: 0.65 - ETA: 41s - loss: 1.0804 - acc: 0.65 - ETA: 40s - loss: 1.0796 - acc: 0.65 - ETA: 38s - loss: 1.0787 - acc: 0.65 - ETA: 37s - loss: 1.0783 - acc: 0.66 - ETA: 36s - loss: 1.0780 - acc: 0.66 - ETA: 35s - loss: 1.0777 - acc: 0.66 - ETA: 33s - loss: 1.0776 - acc: 0.66 - ETA: 32s - loss: 1.0780 - acc: 0.66 - ETA: 31s - loss: 1.0787 - acc: 0.66 - ETA: 29s - loss: 1.0781 - acc: 0.66 - ETA: 28s - loss: 1.0775 - acc: 0.66 - ETA: 27s - loss: 1.0777 - acc: 0.66 - ETA: 26s - loss: 1.0773 - acc: 0.66 - ETA: 24s - loss: 1.0779 - acc: 0.66 - ETA: 23s - loss: 1.0786 - acc: 0.65 - ETA: 22s - loss: 1.0798 - acc: 0.65 - ETA: 20s - loss: 1.0793 - acc: 0.65 - ETA: 19s - loss: 1.0795 - acc: 0.65 - ETA: 18s - loss: 1.0798 - acc: 0.65 - ETA: 17s - loss: 1.0802 - acc: 0.65 - ETA: 15s - loss: 1.0806 - acc: 0.65 - ETA: 14s - loss: 1.0808 - acc: 0.65 - ETA: 13s - loss: 1.0802 - acc: 0.65 - ETA: 11s - loss: 1.0805 - acc: 0.65 - ETA: 10s - loss: 1.0812 - acc: 0.65 - ETA: 9s - loss: 1.0805 - acc: 0.6590 - ETA: 8s - loss: 1.0802 - acc: 0.659 - ETA: 6s - loss: 1.0796 - acc: 0.659 - ETA: 5s - loss: 1.0801 - acc: 0.659 - ETA: 4s - loss: 1.0806 - acc: 0.659 - ETA: 2s - loss: 1.0805 - acc: 0.659 - ETA: 1s - loss: 1.0799 - acc: 0.659 - ETA: 0s - loss: 1.0795 - acc: 0.659 - 252s 10ms/step - loss: 1.0795 - acc: 0.6594 - val_loss: 1.0817 - val_acc: 0.6605\n"
     ]
    },
    {
     "data": {
      "text/plain": [
       "<keras.callbacks.History at 0x29c17d85908>"
      ]
     },
     "execution_count": 191,
     "metadata": {},
     "output_type": "execute_result"
    }
   ],
   "source": [
    "model.fit(x_train_part, y_train_part,\n",
    "          batch_size=batch_size,\n",
    "          epochs=3, #epochs\n",
    "          callbacks=[earlyStopping],\n",
    "          validation_data=(x_test_part, y_test_part))"
   ]
  },
  {
   "cell_type": "code",
   "execution_count": 192,
   "metadata": {},
   "outputs": [],
   "source": [
    "y_predicted_scores = model.predict(x_test_part)"
   ]
  },
  {
   "cell_type": "code",
   "execution_count": 193,
   "metadata": {},
   "outputs": [
    {
     "name": "stdout",
     "output_type": "stream",
     "text": [
      "Classification report\n",
      "\n"
     ]
    },
    {
     "name": "stderr",
     "output_type": "stream",
     "text": [
      "C:\\Anaconda\\lib\\site-packages\\sklearn\\metrics\\classification.py:1143: UndefinedMetricWarning: Precision and F-score are ill-defined and being set to 0.0 in labels with no predicted samples.\n",
      "  'precision', 'predicted', average, warn_for)\n",
      "C:\\Anaconda\\lib\\site-packages\\sklearn\\metrics\\classification.py:1143: UndefinedMetricWarning: Precision and F-score are ill-defined and being set to 0.0 in labels with no predicted samples.\n",
      "  'precision', 'predicted', average, warn_for)\n",
      "C:\\Anaconda\\lib\\site-packages\\sklearn\\metrics\\classification.py:1143: UndefinedMetricWarning: Precision and F-score are ill-defined and being set to 0.0 in labels with no predicted samples.\n",
      "  'precision', 'predicted', average, warn_for)\n",
      "C:\\Anaconda\\lib\\site-packages\\sklearn\\metrics\\classification.py:1143: UndefinedMetricWarning: Precision and F-score are ill-defined and being set to 0.0 in samples with no predicted labels.\n",
      "  'precision', 'predicted', average, warn_for)\n"
     ]
    },
    {
     "name": "stdout",
     "output_type": "stream",
     "text": [
      "              precision    recall  f1-score   support\n",
      "\n",
      "           0       0.00      0.00      0.00       777\n",
      "           1       0.00      0.00      0.00       490\n",
      "           2       0.00      0.00      0.00       906\n",
      "           3       0.00      0.00      0.00      1561\n",
      "           4       0.66      0.98      0.79      7266\n",
      "\n",
      "   micro avg       0.66      0.65      0.65     11000\n",
      "   macro avg       0.13      0.20      0.16     11000\n",
      "weighted avg       0.44      0.65      0.52     11000\n",
      " samples avg       0.65      0.65      0.65     11000\n",
      "\n"
     ]
    }
   ],
   "source": [
    "y_predicted_scores[y_predicted_scores>=0.5] = 1\n",
    "y_predicted_scores[y_predicted_scores<0.5] = 0\n",
    "\n",
    "print('Classification report\\n')\n",
    "print(classification_report(y_test_part, y_predicted_scores))"
   ]
  },
  {
   "cell_type": "markdown",
   "metadata": {},
   "source": [
    "Обучить сharacter based модель (вместо слов мы подаём предложение посимвольно)."
   ]
  },
  {
   "cell_type": "code",
   "execution_count": 31,
   "metadata": {},
   "outputs": [],
   "source": [
    "x_train, x_test, y_train, y_test = train_test_split(x_data, y_data, random_state = seed, \n",
    "                                                    test_size=0.3, shuffle=True,\n",
    "                                                    stratify = y_data)"
   ]
  },
  {
   "cell_type": "code",
   "execution_count": 40,
   "metadata": {},
   "outputs": [],
   "source": [
    "max_features = 20000\n",
    "maxlen = 250\n",
    "batch_size = 128\n",
    "embedding_dims = 64\n",
    "epochs = 4"
   ]
  },
  {
   "cell_type": "code",
   "execution_count": 32,
   "metadata": {},
   "outputs": [
    {
     "name": "stdout",
     "output_type": "stream",
     "text": [
      "Wall time: 2min 31s\n"
     ]
    }
   ],
   "source": [
    "%%time\n",
    "tokenizer = Tokenizer(\n",
    "    char_level=True,\n",
    "    filters=None,\n",
    "    lower=False,\n",
    "    num_words=5000\n",
    ")\n",
    "\n",
    "tokenizer.fit_on_texts(x_train)\n",
    "\n",
    "x_train = tokenizer.texts_to_sequences(x_train)\n",
    "x_test = tokenizer.texts_to_sequences(x_test)"
   ]
  },
  {
   "cell_type": "code",
   "execution_count": 33,
   "metadata": {},
   "outputs": [],
   "source": [
    "x_train = sequence.pad_sequences(x_train, padding='post', maxlen=400)\n",
    "x_test = sequence.pad_sequences(x_test, padding='post', maxlen=400)"
   ]
  },
  {
   "cell_type": "code",
   "execution_count": null,
   "metadata": {},
   "outputs": [],
   "source": []
  },
  {
   "cell_type": "code",
   "execution_count": 76,
   "metadata": {},
   "outputs": [],
   "source": [
    "x_train_part,y_train_part = next_batch(25000, x_train, y_train)\n",
    "x_test_part,y_test_part = next_batch(11000, x_test, y_test)"
   ]
  },
  {
   "cell_type": "code",
   "execution_count": 72,
   "metadata": {},
   "outputs": [],
   "source": [
    "x_train_part = np.reshape(x_train_part, (x_train_part.shape[0], 1, x_train_part.shape[1]))\n",
    "x_test_part = np.reshape(x_test_part, (x_test_part.shape[0], 1, x_test_part.shape[1]))"
   ]
  },
  {
   "cell_type": "code",
   "execution_count": 82,
   "metadata": {},
   "outputs": [
    {
     "data": {
      "text/plain": [
       "(25000, 400)"
      ]
     },
     "execution_count": 82,
     "metadata": {},
     "output_type": "execute_result"
    }
   ],
   "source": [
    "x_train_part.shape"
   ]
  },
  {
   "cell_type": "code",
   "execution_count": 91,
   "metadata": {},
   "outputs": [
    {
     "name": "stdout",
     "output_type": "stream",
     "text": [
      "_________________________________________________________________\n",
      "Layer (type)                 Output Shape              Param #   \n",
      "=================================================================\n",
      "lstm_17 (LSTM)               (None, 400, 64)           6416640   \n",
      "_________________________________________________________________\n",
      "dense_16 (Dense)             (None, 400, 5)            325       \n",
      "=================================================================\n",
      "Total params: 6,416,965\n",
      "Trainable params: 6,416,965\n",
      "Non-trainable params: 0\n",
      "_________________________________________________________________\n",
      "None\n"
     ]
    }
   ],
   "source": [
    "# define model\n",
    "model = Sequential()\n",
    "model.add(LSTM(64, input_shape=(400, 25000), activation=\"tanh\", return_sequences=True)) # 400 is a average length, and 5000,second value is total number of symbols\n",
    "model.add(Dense(5, activation='softmax'))\n",
    "\n",
    "earlyStopping = EarlyStopping(monitor='val_acc', patience=2, verbose=2, mode='max',restore_best_weights=True)\n",
    "\n",
    "model.compile(loss='categorical_crossentropy',\n",
    "              optimizer = sgd,\n",
    "              #optimizer='adam',\n",
    "              metrics=['accuracy'])\n",
    "\n",
    "print(model.summary())"
   ]
  },
  {
   "cell_type": "code",
   "execution_count": 92,
   "metadata": {},
   "outputs": [
    {
     "ename": "ValueError",
     "evalue": "Error when checking input: expected lstm_17_input to have 3 dimensions, but got array with shape (25000, 400)",
     "output_type": "error",
     "traceback": [
      "\u001b[1;31m---------------------------------------------------------------------------\u001b[0m",
      "\u001b[1;31mValueError\u001b[0m                                Traceback (most recent call last)",
      "\u001b[1;32m<ipython-input-92-970117e9c790>\u001b[0m in \u001b[0;36m<module>\u001b[1;34m\u001b[0m\n\u001b[0;32m      3\u001b[0m           \u001b[0mepochs\u001b[0m\u001b[1;33m=\u001b[0m\u001b[1;36m3\u001b[0m\u001b[1;33m,\u001b[0m \u001b[1;31m#epochs\u001b[0m\u001b[1;33m\u001b[0m\u001b[1;33m\u001b[0m\u001b[0m\n\u001b[0;32m      4\u001b[0m           \u001b[0mcallbacks\u001b[0m\u001b[1;33m=\u001b[0m\u001b[1;33m[\u001b[0m\u001b[0mearlyStopping\u001b[0m\u001b[1;33m]\u001b[0m\u001b[1;33m,\u001b[0m\u001b[1;33m\u001b[0m\u001b[1;33m\u001b[0m\u001b[0m\n\u001b[1;32m----> 5\u001b[1;33m           validation_data=(x_test_part, y_test_part))\n\u001b[0m",
      "\u001b[1;32mC:\\Anaconda\\lib\\site-packages\\keras\\engine\\training.py\u001b[0m in \u001b[0;36mfit\u001b[1;34m(self, x, y, batch_size, epochs, verbose, callbacks, validation_split, validation_data, shuffle, class_weight, sample_weight, initial_epoch, steps_per_epoch, validation_steps, **kwargs)\u001b[0m\n\u001b[0;32m    950\u001b[0m             \u001b[0msample_weight\u001b[0m\u001b[1;33m=\u001b[0m\u001b[0msample_weight\u001b[0m\u001b[1;33m,\u001b[0m\u001b[1;33m\u001b[0m\u001b[1;33m\u001b[0m\u001b[0m\n\u001b[0;32m    951\u001b[0m             \u001b[0mclass_weight\u001b[0m\u001b[1;33m=\u001b[0m\u001b[0mclass_weight\u001b[0m\u001b[1;33m,\u001b[0m\u001b[1;33m\u001b[0m\u001b[1;33m\u001b[0m\u001b[0m\n\u001b[1;32m--> 952\u001b[1;33m             batch_size=batch_size)\n\u001b[0m\u001b[0;32m    953\u001b[0m         \u001b[1;31m# Prepare validation data.\u001b[0m\u001b[1;33m\u001b[0m\u001b[1;33m\u001b[0m\u001b[1;33m\u001b[0m\u001b[0m\n\u001b[0;32m    954\u001b[0m         \u001b[0mdo_validation\u001b[0m \u001b[1;33m=\u001b[0m \u001b[1;32mFalse\u001b[0m\u001b[1;33m\u001b[0m\u001b[1;33m\u001b[0m\u001b[0m\n",
      "\u001b[1;32mC:\\Anaconda\\lib\\site-packages\\keras\\engine\\training.py\u001b[0m in \u001b[0;36m_standardize_user_data\u001b[1;34m(self, x, y, sample_weight, class_weight, check_array_lengths, batch_size)\u001b[0m\n\u001b[0;32m    749\u001b[0m             \u001b[0mfeed_input_shapes\u001b[0m\u001b[1;33m,\u001b[0m\u001b[1;33m\u001b[0m\u001b[1;33m\u001b[0m\u001b[0m\n\u001b[0;32m    750\u001b[0m             \u001b[0mcheck_batch_axis\u001b[0m\u001b[1;33m=\u001b[0m\u001b[1;32mFalse\u001b[0m\u001b[1;33m,\u001b[0m  \u001b[1;31m# Don't enforce the batch size.\u001b[0m\u001b[1;33m\u001b[0m\u001b[1;33m\u001b[0m\u001b[0m\n\u001b[1;32m--> 751\u001b[1;33m             exception_prefix='input')\n\u001b[0m\u001b[0;32m    752\u001b[0m \u001b[1;33m\u001b[0m\u001b[0m\n\u001b[0;32m    753\u001b[0m         \u001b[1;32mif\u001b[0m \u001b[0my\u001b[0m \u001b[1;32mis\u001b[0m \u001b[1;32mnot\u001b[0m \u001b[1;32mNone\u001b[0m\u001b[1;33m:\u001b[0m\u001b[1;33m\u001b[0m\u001b[1;33m\u001b[0m\u001b[0m\n",
      "\u001b[1;32mC:\\Anaconda\\lib\\site-packages\\keras\\engine\\training_utils.py\u001b[0m in \u001b[0;36mstandardize_input_data\u001b[1;34m(data, names, shapes, check_batch_axis, exception_prefix)\u001b[0m\n\u001b[0;32m    126\u001b[0m                         \u001b[1;34m': expected '\u001b[0m \u001b[1;33m+\u001b[0m \u001b[0mnames\u001b[0m\u001b[1;33m[\u001b[0m\u001b[0mi\u001b[0m\u001b[1;33m]\u001b[0m \u001b[1;33m+\u001b[0m \u001b[1;34m' to have '\u001b[0m \u001b[1;33m+\u001b[0m\u001b[1;33m\u001b[0m\u001b[1;33m\u001b[0m\u001b[0m\n\u001b[0;32m    127\u001b[0m                         \u001b[0mstr\u001b[0m\u001b[1;33m(\u001b[0m\u001b[0mlen\u001b[0m\u001b[1;33m(\u001b[0m\u001b[0mshape\u001b[0m\u001b[1;33m)\u001b[0m\u001b[1;33m)\u001b[0m \u001b[1;33m+\u001b[0m \u001b[1;34m' dimensions, but got array '\u001b[0m\u001b[1;33m\u001b[0m\u001b[1;33m\u001b[0m\u001b[0m\n\u001b[1;32m--> 128\u001b[1;33m                         'with shape ' + str(data_shape))\n\u001b[0m\u001b[0;32m    129\u001b[0m                 \u001b[1;32mif\u001b[0m \u001b[1;32mnot\u001b[0m \u001b[0mcheck_batch_axis\u001b[0m\u001b[1;33m:\u001b[0m\u001b[1;33m\u001b[0m\u001b[1;33m\u001b[0m\u001b[0m\n\u001b[0;32m    130\u001b[0m                     \u001b[0mdata_shape\u001b[0m \u001b[1;33m=\u001b[0m \u001b[0mdata_shape\u001b[0m\u001b[1;33m[\u001b[0m\u001b[1;36m1\u001b[0m\u001b[1;33m:\u001b[0m\u001b[1;33m]\u001b[0m\u001b[1;33m\u001b[0m\u001b[1;33m\u001b[0m\u001b[0m\n",
      "\u001b[1;31mValueError\u001b[0m: Error when checking input: expected lstm_17_input to have 3 dimensions, but got array with shape (25000, 400)"
     ]
    }
   ],
   "source": [
    "model.fit(x_train_part, y_train_part,\n",
    "          batch_size=batch_size,\n",
    "          epochs=3, #epochs\n",
    "          callbacks=[earlyStopping],\n",
    "          validation_data=(x_test_part, y_test_part))"
   ]
  },
  {
   "cell_type": "code",
   "execution_count": 192,
   "metadata": {},
   "outputs": [],
   "source": [
    "y_predicted_scores = model.predict(x_test_part)"
   ]
  },
  {
   "cell_type": "code",
   "execution_count": 193,
   "metadata": {},
   "outputs": [
    {
     "name": "stdout",
     "output_type": "stream",
     "text": [
      "Classification report\n",
      "\n"
     ]
    },
    {
     "name": "stderr",
     "output_type": "stream",
     "text": [
      "C:\\Anaconda\\lib\\site-packages\\sklearn\\metrics\\classification.py:1143: UndefinedMetricWarning: Precision and F-score are ill-defined and being set to 0.0 in labels with no predicted samples.\n",
      "  'precision', 'predicted', average, warn_for)\n",
      "C:\\Anaconda\\lib\\site-packages\\sklearn\\metrics\\classification.py:1143: UndefinedMetricWarning: Precision and F-score are ill-defined and being set to 0.0 in labels with no predicted samples.\n",
      "  'precision', 'predicted', average, warn_for)\n",
      "C:\\Anaconda\\lib\\site-packages\\sklearn\\metrics\\classification.py:1143: UndefinedMetricWarning: Precision and F-score are ill-defined and being set to 0.0 in labels with no predicted samples.\n",
      "  'precision', 'predicted', average, warn_for)\n",
      "C:\\Anaconda\\lib\\site-packages\\sklearn\\metrics\\classification.py:1143: UndefinedMetricWarning: Precision and F-score are ill-defined and being set to 0.0 in samples with no predicted labels.\n",
      "  'precision', 'predicted', average, warn_for)\n"
     ]
    },
    {
     "name": "stdout",
     "output_type": "stream",
     "text": [
      "              precision    recall  f1-score   support\n",
      "\n",
      "           0       0.00      0.00      0.00       777\n",
      "           1       0.00      0.00      0.00       490\n",
      "           2       0.00      0.00      0.00       906\n",
      "           3       0.00      0.00      0.00      1561\n",
      "           4       0.66      0.98      0.79      7266\n",
      "\n",
      "   micro avg       0.66      0.65      0.65     11000\n",
      "   macro avg       0.13      0.20      0.16     11000\n",
      "weighted avg       0.44      0.65      0.52     11000\n",
      " samples avg       0.65      0.65      0.65     11000\n",
      "\n"
     ]
    }
   ],
   "source": [
    "y_predicted_scores[y_predicted_scores>=0.5] = 1\n",
    "y_predicted_scores[y_predicted_scores<0.5] = 0\n",
    "\n",
    "print('Classification report\\n')\n",
    "print(classification_report(y_test_part, y_predicted_scores))"
   ]
  }
 ],
 "metadata": {
  "kernelspec": {
   "display_name": "Python 3",
   "language": "python",
   "name": "python3"
  },
  "language_info": {
   "codemirror_mode": {
    "name": "ipython",
    "version": 3
   },
   "file_extension": ".py",
   "mimetype": "text/x-python",
   "name": "python",
   "nbconvert_exporter": "python",
   "pygments_lexer": "ipython3",
   "version": "3.6.8"
  }
 },
 "nbformat": 4,
 "nbformat_minor": 2
}
